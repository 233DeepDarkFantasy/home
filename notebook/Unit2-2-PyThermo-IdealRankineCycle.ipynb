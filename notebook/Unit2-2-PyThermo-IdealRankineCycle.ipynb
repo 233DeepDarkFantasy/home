{
 "cells": [
  {
   "cell_type": "markdown",
   "metadata": {},
   "source": [
    "# Rankine Cycle Analysis: the  Ideal Rankine Cycle \n",
    "\n",
    "* 1 expression only\n",
    "\n",
    "* 2 the basic abstraction :List dict,function\n",
    "\n",
    "* 3 [Object-oriented programming](./Lecture4-1-PyThermo-IdealRankineCycle-OOP.ipynb)\n",
    "\n",
    "\n",
    "##  1. The Ideal Rankine Cycle \n",
    "\n",
    "Chapter 8 : Vapor Power Systems:\n",
    "\n",
    "    Example 8.1:Analyzing an Ideal Rankine Cycle Page 438\n",
    "\n",
    "Steam is the working fluid in an ideal Rankine cycle. \n",
    "\n",
    "Saturated vapor enters the turbine at 8.0 MPa and saturated liquid exits the condenser at a pressure of 0.008 MPa. \n",
    "\n",
    "The net power output of the cycle is 100 MW.\n",
    "\n",
    "![rankine81](./rankine/rankine81.jpg)\n",
    "\n",
    "* **Process 1–2:** **Isentropic expansion** of the working fluid through the turbine from saturated vapor at state 1 to the condenser pressure.\n",
    "* **Process 2–3:** Heat transfer from the working fluid as it flows at **constant pressure**\n",
    "through the condenser with saturated liquid at state 3.\n",
    "* **Process 3–4:** **Isentropic compression** in the pump to state 4 in the compressed liquid region.\n",
    "* **Process 4–1:** Heat transfer to the working fluid as it flows at **constant pressure** through the boiler to complete the cycle.\n",
    "\n",
    "Determine for the cycle\n",
    "\n",
    "(a) the thermal efficiency,\n",
    "\n",
    "(b) the back work ratio, \n",
    "\n",
    "(c) the mass flow rate of the steam,in kg/h,\n",
    "\n",
    "(d) the rate of heat transfer, Qin, into the working fluid as it passes through the boiler, in MW,\n",
    "\n",
    "(e) the rate of heat transfer, Qout, from the condensing steam as it passes through the condenser, in MW,\n",
    "\n",
    "(f) the mass flow rate of the condenser cooling water, in kg/h, if cooling water enters the condenser at 15C and exits at 35C.\n",
    "\n",
    "### Engineering Model:\n",
    "\n",
    "* 1 Each **component** of the cycle is analyzed as a **control volume** at steady state. The control volumes are shown on the accompanying sketch by **dashed** lines.\n",
    "\n",
    "\n",
    "* 2 All processes of the working fluid are internally reversible.\n",
    "\n",
    "\n",
    "* 3 The turbine and pump operate adiabatically.\n",
    "\n",
    "\n",
    "* 4 Kinetic and potential energy effects are negligible.\n",
    "\n",
    "\n",
    "* 5 Saturated vapor enters the turbine. Condensate exits the condenser as saturated liquid."
   ]
  },
  {
   "cell_type": "markdown",
   "metadata": {},
   "source": [
    "## 2 Analysis with expression directly- Zero Abstraction\n",
    "\n",
    "To begin the analysis, we fix each of **the principal states（1，2，3，4)** located on the accompanying schematic and **T–s** diagrams."
   ]
  },
  {
   "cell_type": "code",
   "execution_count": 1,
   "metadata": {},
   "outputs": [],
   "source": [
    "from seuif97 import *\n",
    "\n",
    "# Given:-\n",
    "p1 = 8.0               #  in MPa\n",
    "p3 = 0.008             # pressure of saturated liquid exiting the condenser in MPa\n",
    "Wcycledot = 100.00     # the net power output of the cycle in MW\n",
    "\n",
    "# Analysis\n",
    "\n",
    "# State  1\n",
    "h1=px2h(p1,1)          # h1 = 2758.0    From table A-3  kj/kg\n",
    "s1=px2s(p1,1)          # s1 = 5.7432    From table A-3  kj/kg.k\n",
    "\n",
    "# State  2\n",
    "s2 = s1\n",
    "\n",
    "# quality at state 2\n",
    "sf=px2s(p3,0)         # sf = 0.5926   kj/kg.k\n",
    "sg=px2s(p3,1)         # sg = 8.2287   kj/kg.k\n",
    "x2=(s2-sf)/(sg-sf)\n",
    "\n",
    "hf=px2h(p3,0)         # hf = 173.88    kj/kg\n",
    "hg=px2h(p3,1)         \n",
    "h2 = hf + x2*(hg-hf)      #  hfg = 2403.1   kj/kg\n",
    "\n",
    "# State 3 is saturated liquid at 0.008 MPa, so\n",
    "h3 = hf                                         #  kj/kg\n",
    "v3 =px2v(p3,0)                #1.0084e-3  m^3/kg\n",
    "\n",
    "#State 4 \n",
    "p4 = p1\n",
    "h4 = h3 + v3*(p4-p3)*10**6*10**-3    # kj/kg"
   ]
  },
  {
   "cell_type": "markdown",
   "metadata": {},
   "source": [
    "### (a) The thermal efficiency\n",
    "\n",
    "The net power developed by the cycle is\n",
    "\n",
    "$\\dot{W}_{cycle}=\\dot{W}_t-\\dot{W}_p$\n",
    "\n",
    "Mass and energy rate balances for control volumes around the turbine and pump give,respectively\n",
    "\n",
    "$\\frac{\\dot{W}_t}{\\dot{m}}=h_1-h_2$  \n",
    "$\\frac{\\dot{W}_p}{\\dot{m}}=h_4-h_3$\n",
    "\n",
    "where $\\dot{m}$ is the mass flow rate of the steam. The rate of heat transfer to the working fluid as it passes through the boiler is determined using mass and energy rate balances as\n",
    "\n",
    "$\\frac{\\dot{Q}_{in}}{\\dot{m}}=h_1-h_4$\n",
    "\n",
    "The thermal efficiency is then\n",
    "\n",
    "\n",
    "$\\eta=\\frac{\\dot{W}_t-\\dot{W}_p}{\\dot{Q}_{in}}=\\frac{(h_1-h_2)-(h_4-h_3)}{h_1-h_4}$\n"
   ]
  },
  {
   "cell_type": "code",
   "execution_count": 6,
   "metadata": {},
   "outputs": [
    {
     "name": "stdout",
     "output_type": "stream",
     "text": [
      "(a) The thermal efficiency for the cycle is 37.08 %\n"
     ]
    }
   ],
   "source": [
    "# Part(a)\n",
    "# Mass and energy rate balances for control volumes \n",
    "# around the turbine and pump give, respectively\n",
    "\n",
    "# turbine\n",
    "wtdot = h1 - h2\n",
    "# pump\n",
    "wpdot = h4-h3\n",
    "\n",
    "# The rate of heat transfer to the working fluid as it passes \n",
    "# through the boiler is determined using mass and energy rate balances as\n",
    "qindot = h1-h4\n",
    "\n",
    "# thermal efficiency\n",
    "eta = (wtdot-wpdot)/qindot   \n",
    "\n",
    "# Result for part a\n",
    "print('(a) The thermal efficiency for the cycle is %.2f' %(eta*100),'%')"
   ]
  },
  {
   "cell_type": "code",
   "execution_count": 5,
   "metadata": {},
   "outputs": [
    {
     "name": "stdout",
     "output_type": "stream",
     "text": [
      "(b) The back work ratio is 0.836 %\n",
      "(c) The mass flow rate of the steam is 376776.21 kg/h.\n",
      "(d) The rate of heat transfer Qindot into the working fluid as it passes through the boiler is 269.68 MW.\n",
      "(e) The rate of heat transfer Qoutdot from the condensing steam as it passes through the condenser is 169.68 MW.\n",
      "(f) The mass flow rate of the condenser cooling water is 7301347.42 kg/h.\n"
     ]
    }
   ],
   "source": [
    "# Part(b)\n",
    "# back work ratio：bwr, defined as the ratio of the pump work input to the work \n",
    "# developed by the turbine.\n",
    "bwr = wpdot/wtdot                                    # \n",
    "\n",
    "# Result\n",
    "print('(b) The back work ratio is %.3f'%(bwr*100),'%')\n",
    "\n",
    "# Part(c)\n",
    "mdot = (Wcycledot*10**3*3600)/((h1-h2)-(h4-h3))       # mass flow rate in kg/h\n",
    "\n",
    "# Result \n",
    "print('(c) The mass flow rate of the steam is %.2f' %mdot,'kg/h.')\n",
    " \n",
    "# Part(d)\n",
    "Qindot = mdot*qindot/(3600*10**3)                     # in MW\n",
    "\n",
    "# Results\n",
    "print('(d) The rate of heat transfer Qindot into the working fluid as'+\n",
    "      ' it passes through the boiler is %.2f' %Qindot,'MW.')\n",
    "\n",
    "# Part(e)\n",
    "Qoutdot = mdot*(h2-h3)/(3600*10**3)                   # in MW\n",
    "\n",
    "# Results\n",
    "print('(e) The rate of heat transfer Qoutdot from the condensing steam '+\n",
    "      'as it passes through the condenser is {:.2f} MW.'.format(Qoutdot))\n",
    "\n",
    "# Part(f)\n",
    "# Given: \n",
    "tcwin=15\n",
    "tcwout=35\n",
    "\n",
    "hcwout=tx2h(tcwout,0)   # From table A-2,hcwout= 146.68  kj/kg  \n",
    "\n",
    "hcwin= tx2h(tcwin,0)    # hcwin 62.99  \n",
    "mcwdot= (Qoutdot*10**3*3600)/(hcwout-hcwin)          # in kg/h\n",
    "\n",
    "# Results\n",
    "print('(f) The mass flow rate of the condenser cooling water is %.2f kg/h.'%mcwdot )"
   ]
  },
  {
   "cell_type": "markdown",
   "metadata": {},
   "source": [
    "## 3 Analyzing an Ideal Rankine Cycle with the basic abstraction \n",
    "\n",
    "* **List,Dict,Function**\n",
    "\n",
    "\n",
    "To begin the analysis, we fix each of **the principal states（1，2，3，4)** located on the accompanying schematic and **T–s** diagrams.\n",
    "\n",
    "The ideal rankine cycle:\n",
    "```\n",
    "   \n",
    "    ----Node 0---Turbine---Node 1----\n",
    "    |                               |\n",
    "  Boiler                          Condenser\n",
    "    |                               |\n",
    "    ----Node 3---Pump------Node 2---- \n",
    "```\n"
   ]
  },
  {
   "cell_type": "code",
   "execution_count": 7,
   "metadata": {},
   "outputs": [],
   "source": [
    "from seuif97 import *\n",
    "\n",
    "# Analysis: fix each of \n",
    "#     the principal states   （1,2,3,4) \n",
    "#               ->   Nodes    (0,1,2,3)\n",
    "\n",
    "def fixeachoftheprincipalstates():\n",
    "    p=[]\n",
    "    t=[]\n",
    "    h=[]\n",
    "    s=[]\n",
    "    v=[]\n",
    "    x=[]\n",
    "\n",
    "    numNodes=4\n",
    "\n",
    "    for node in range(numNodes):\n",
    "        p.append(None)\n",
    "        t.append(None)\n",
    "        h.append(None)\n",
    "        s.append(None)\n",
    "        v.append(None)\n",
    "        x.append(None)\n",
    "   \n",
    "\n",
    "    # Given:-\n",
    "    p[0] = 8.0               #  in MPa\n",
    "    p[2] = 0.008             # pressure of saturated liquid exiting the condenser in MPa\n",
    "\n",
    "    # State  1, Node 0\n",
    "    t[0]=px2t(p[0],1)\n",
    "    h[0]=px2h(p[0],1)        \n",
    "    s[0]=px2s(p[0],1)         \n",
    "\n",
    "    # State  2, Node 1\n",
    "    t[1]=px2t(p[2],0)\n",
    "    s[1] = s[0]\n",
    "\n",
    "    # quality at state 2\n",
    "    sf=px2s(p[2],0)         # sf = 0.5926   kj/kg.k\n",
    "    sg=px2s(p[2],1)         # sg = 8.2287   kj/kg.k\n",
    "    x[1]=(s[1]-sf)/(sg-sf)\n",
    "\n",
    "    hf=px2h(p[2],0)        \n",
    "    hg=px2h(p[2],1)         \n",
    "    h[1] = hf + x[1]*(hg-hf)     \n",
    "\n",
    "    # State 3 , Node 2\n",
    "    #   saturated liquid at 0.008 MPa\n",
    "    t[2]=t[1]\n",
    "    s[2]=tx2s(t[2],0)\n",
    "    h[2] = hf                                         #  kj/kg\n",
    "    v[2] =px2v(p[2],0)                # m^3/kg\n",
    "\n",
    "    #State 4 , Node 3\n",
    "    p[3] = p[0]\n",
    "    s[3]=s[2]\n",
    "    t[3]=ps2t(p[3],s[3]) \n",
    "    h[3] = h[2] + v[2]*(p[3]-p[2])*10**6*10**-3    # kj/kg\n",
    "    \n",
    "    return (p,t,h,s,v,x)"
   ]
  },
  {
   "cell_type": "markdown",
   "metadata": {},
   "source": [
    "#### T-S"
   ]
  },
  {
   "cell_type": "code",
   "execution_count": 8,
   "metadata": {},
   "outputs": [
    {
     "data": {
      "image/png": "[encoded data removed]",
      "text/plain": [
       "<Figure size 432x288 with 1 Axes>"
      ]
     },
     "metadata": {
      "needs_background": "light"
     },
     "output_type": "display_data"
    }
   ],
   "source": [
    "%matplotlib inline\n",
    "\n",
    "import matplotlib.pyplot as plt\n",
    "import numpy as np\n",
    "\n",
    "plt.figure()\n",
    "\n",
    "# saturated vapor and liquid entropy lines \n",
    "npt = np.linspace(10,647.096-273.15,200) # range of temperatures\n",
    "svap = [s for s in [tx2s(t, 1) for t in npt]]\n",
    "sliq = [s for s in [tx2s(t, 0) for t in npt]]\n",
    "plt.plot(svap, npt, 'r-')\n",
    "plt.plot(sliq, npt, 'b-')\n",
    "\n",
    "p,t,h,s,v,x=fixeachoftheprincipalstates()\n",
    "\n",
    "t5=px2t(p[0],0)\n",
    "s5=px2s(p[0],0)\n",
    "\n",
    "tt=[t[0],t[1],t[2],t[3],t5,t[0]] \n",
    "ss=[s[0],s[1],s[2],s[3],s5,s[0]]\n",
    "\n",
    "plt.plot(ss, tt, 'g-')\n",
    "\n",
    "plt.xlabel('Entropy (kJ/(kg K)')\n",
    "plt.ylabel('Temperature (°C)')\n",
    "plt.grid()\n",
    "plt.show()"
   ]
  },
  {
   "cell_type": "markdown",
   "metadata": {},
   "source": [
    "#### Modified T-s\n",
    "\n",
    "* set fonts, Windows only\n",
    "\n",
    "* for Chinese: FangSong or simfang\n",
    "\n",
    "* annotate\n"
   ]
  },
  {
   "cell_type": "code",
   "execution_count": 9,
   "metadata": {},
   "outputs": [
    {
     "data": {
      "image/png": "[encoded data removed]",
      "text/plain": [
       "<Figure size 720x360 with 1 Axes>"
      ]
     },
     "metadata": {
      "needs_background": "light"
     },
     "output_type": "display_data"
    }
   ],
   "source": [
    "%matplotlib inline\n",
    "\n",
    "#from matplotlib.font_manager import * \n",
    "from matplotlib import rcParams # figure Params\n",
    "\n",
    "import matplotlib.pyplot as plt\n",
    "import numpy as np\n",
    "\n",
    "# set fonts, Windows only\n",
    "# for Chinese: FangSong or simfang,y\n",
    "rcParams['font.family'] = 'sans-serif'\n",
    "rcParams['font.sans-serif']=['FangSong'] # Chinese-FangSong\n",
    "\n",
    "rcParams['axes.unicode_minus']=False\n",
    "\n",
    "# optional-chinese\n",
    "#myfont=FontProperties(fname='C:/Windows/Fonts/simfang.ttf') \n",
    "\n",
    "\n",
    "#plt.figure()\n",
    "plt.figure(figsize=(10.0,5.0)) # figsize :set figure size\n",
    "\n",
    "# saturated vapor and liquid entropy lines \n",
    "npt = np.linspace(10,647.096-273.15,200) # range of temperatures\n",
    "svap = [s for s in [tx2s(t, 1) for t in npt]] # saturated vapor tx2s(t, 1),x=1\n",
    "sliq = [s for s in [tx2s(t, 0) for t in npt]] # saturated liquid tx2s(t, 0),x=0\n",
    "plt.plot(svap, npt, 'r-')\n",
    "plt.plot(sliq, npt, 'b-')\n",
    "\n",
    "# Rankine T-S\n",
    "t1=px2t(p1,1)\n",
    "t2=px2t(p3,0)\n",
    "\n",
    "t3=t2\n",
    "s3=tx2s(t3,0)\n",
    "\n",
    "s4=s3\n",
    "t4=ps2t(p4,s4) \n",
    "# t4稍高于t3，直接绘图3，4点几乎重叠,\n",
    "# 调整t4为显示虚拟值，消除重叠，定性反映热力过程\n",
    "t4=t4+8\n",
    "\n",
    "t5=px2t(p1,0)\n",
    "s5=px2s(p1,0)\n",
    "\n",
    "tt=[t1,t2,t3,t4,t5,t1] \n",
    "ss=[s1,s2,s3,s4,s5,s1]\n",
    "\n",
    "plt.plot(ss, tt, 'go-')\n",
    "\n",
    "plt.annotate('1 ({:.2f},{:.2f})'.format(s1,t1),\n",
    "             xy=(s1, t1), xycoords='data',\n",
    "             xytext=(+2, +5), textcoords='offset points', fontsize=12)\n",
    "\n",
    "plt.annotate('2 ({:.2f},{:.2f})'.format(s2,t2),\n",
    "             xy=(s2, t2), xycoords='data',\n",
    "             xytext=(+2, +5), textcoords='offset points', fontsize=12)\n",
    "\n",
    "plt.annotate('3 ({:.2f},{:.2f})'.format(s3,t3),\n",
    "             xy=(s3, t3), xycoords='data',\n",
    "             xytext=(+10, +5), textcoords='offset points', fontsize=12)\n",
    "\n",
    "plt.annotate('4 ({:.2f},{:.2f})'.format(s4,t4-8),\n",
    "             xy=(s4, t4), xycoords='data',\n",
    "             xytext=(+10, +25), textcoords='offset points', fontsize=12)\n",
    "\n",
    "\n",
    "plt.annotate('5 ({:.2f},{:.2f})'.format(s5,t5),\n",
    "             xy=(s5, t5), xycoords='data',\n",
    "             xytext=(-60, +5), textcoords='offset points', fontsize=12)\n",
    "\n",
    "#plt.title('T-s: Ideal Rankine Cycle')\n",
    "plt.title('T-s: Ideal Rankine Cycle 理想朗肯循环')\n",
    "\n",
    "# optional-chinese\n",
    "#plt.title('T-s: Ideal Rankine Cycle 理想朗肯循环',fontproperties=myfont) \n",
    "\n",
    "plt.xlabel('Entropy(kJ/(kg.K)')\n",
    "plt.ylabel('Temperature(°C)')\n",
    "plt.grid()\n",
    "plt.show()"
   ]
  },
  {
   "cell_type": "markdown",
   "metadata": {},
   "source": [
    "#### 获取matplotlibrc文件"
   ]
  },
  {
   "cell_type": "code",
   "execution_count": 8,
   "metadata": {},
   "outputs": [
    {
     "data": {
      "text/plain": [
       "'c:\\\\python37\\\\lib\\\\site-packages\\\\matplotlib\\\\mpl-data\\\\matplotlibrc'"
      ]
     },
     "execution_count": 8,
     "metadata": {},
     "output_type": "execute_result"
    }
   ],
   "source": [
    "import matplotlib\n",
    "matplotlib.matplotlib_fname() #获取matplotlibrc文件"
   ]
  },
  {
   "cell_type": "code",
   "execution_count": null,
   "metadata": {
    "collapsed": true
   },
   "outputs": [],
   "source": [
    "# %load c:\\\\python37\\\\lib\\\\site-packages\\\\matplotlib\\\\mpl-data\\\\matplotlibrc"
   ]
  },
  {
   "cell_type": "markdown",
   "metadata": {},
   "source": [
    "#### matplotlib rcParams\n",
    "\n",
    "a `matplotlibrc` file: same parameters are read at startup to configure matplotlib \n",
    "\n",
    "Dynamic rc settings\n",
    "\n",
    "You can also dynamically change the default `rc` settings in a python script or interactively from the python shell. All of the `rc` settings are stored in a dictionary-like variable called `matplotlib.rcParams`, which is global to the matplotlib package. rcParams can be modified directly"
   ]
  },
  {
   "cell_type": "markdown",
   "metadata": {},
   "source": [
    "#### Annotation\n",
    "\n",
    "https://matplotlib.org/users/annotations.html\n",
    "    \n",
    "The uses of the basic `text()` will place text at an arbitrary position on the Axes. A common use case of text is to annotate some feature of the plot, and the `annotate()` method provides helper functionality to make annotations easy. \n",
    "\n",
    "In an annotation, there are two points to consider: the `location` being annotated represented by the argument `xy` and the `location` of the text `xytext`. Both of these arguments are `(x,y)` tuples.   "
   ]
  },
  {
   "cell_type": "markdown",
   "metadata": {},
   "source": [
    "### (a) The thermal efficiency\n",
    "\n",
    "The net power developed by the cycle is\n",
    "\n",
    "$\\dot{W}_{cycle}=\\dot{W}_t-\\dot{W}_p$\n",
    "\n",
    "Mass and energy rate balances for control volumes around the turbine and pump give,respectively\n",
    "\n",
    "$\\frac{\\dot{W}_t}{\\dot{m}}=h_1-h_2$  \n",
    "$\\frac{\\dot{W}_p}{\\dot{m}}=h_4-h_3$\n",
    "\n",
    "where $\\dot{m}$ is the mass flow rate of the steam. The rate of heat transfer to the working fluid as it passes through the boiler is determined using mass and energy rate balances as\n",
    "\n",
    "$\\frac{\\dot{Q}_{in}}{\\dot{m}}=h_1-h_4$\n",
    "\n",
    "The thermal efficiency is then\n",
    "\n",
    "\n",
    "$\\eta=\\frac{\\dot{W}_t-\\dot{W}_p}{\\dot{Q}_{in}}=\\frac{(h_1-h_2)-(h_4-h_3)}{h_1-h_4}$\n"
   ]
  },
  {
   "cell_type": "code",
   "execution_count": 10,
   "metadata": {},
   "outputs": [],
   "source": [
    "from seuif97 import *\n",
    "\n",
    "def Determineforthecycle(h,Wcycledot):\n",
    "    \n",
    "    results={}\n",
    "    \n",
    "    # Part(a)\n",
    "    # Mass and energy rate balances for control volumes \n",
    "    # around the turbine and pump give, respectively\n",
    "\n",
    "    # turbine\n",
    "    results['wtdot'] = h[0] - h[1]\n",
    "    # pump\n",
    "    results['wpdot'] = h[3]-h[2]\n",
    "\n",
    "    # The rate of heat transfer to the working fluid as it passes \n",
    "    # through the boiler is determined using mass and energy rate balances as\n",
    "    results['qindot'] = h[0]-h[3]\n",
    "\n",
    "    # thermal efficiency\n",
    "    results['eta'] = ( results['wtdot'] -results['wpdot'])/ results['qindot']    \n",
    "\n",
    "    # Part(b)\n",
    "    # back work ratio：bwr, defined as the ratio of the pump work input to the work \n",
    "    # developed by the turbine.\n",
    "    results['bwr'] =results['wpdot']/results['wtdot']                                   # \n",
    "\n",
    "    # Part(c)\n",
    "    results['mdot'] = (Wcycledot*10**3*3600)/((h[0]-h[1])-(h[3]-h[2]))       # mass flow rate in kg/h\n",
    " \n",
    "    # Part(d)\n",
    "    results['Qindot'] = results['mdot']*results['qindot']/(3600*10**3)                     # in MW\n",
    "\n",
    "    # Part(e)\n",
    "    results['Qoutdot'] = results['mdot']*(h[1]-h[2])/(3600*10**3)                   # in MW\n",
    "    return results\n",
    "\n",
    "def DeterminefortheCondensate(Qoutdot):\n",
    "    # Part(f)\n",
    "    # Given: \n",
    "    tcwin=15\n",
    "    tcwout=35\n",
    "\n",
    "    hcwout=tx2h(tcwout,0)   # From table A-2,hcwout= 146.68  kj/kg  \n",
    "    hcwin= tx2h(tcwin,0)    # hcwin 62.99  \n",
    "    mcwdot= (Qoutdot*10**3*3600)/(hcwout-hcwin)              \n",
    "    return  mcwdot        \n"
   ]
  },
  {
   "cell_type": "code",
   "execution_count": 11,
   "metadata": {},
   "outputs": [
    {
     "name": "stdout",
     "output_type": "stream",
     "text": [
      "(a) The thermal efficiency for the cycle is 37.081  %\n",
      "(b) The back work ratio is 0.836 %\n",
      "(c) The mass flow rate of the steam is 376776.21 kg/h.\n",
      "(d) The rate of heat transfer,Qindotinto the working fluid as       \n",
      "\t it passes through the boiler is 2576.70 MW.\n",
      "(e) The rate of heat transfer,Qoutdot from the condensing steam as        \n",
      "\t it passes through the condenser, 169.68 MW.\n",
      "(f) The mass flow rate of the condenser cooling water is 7301347.42 kg/h.\n"
     ]
    }
   ],
   "source": [
    "Wcycledot = 100.00     # the net power output of the cycle in MW\n",
    "p,t,h,s,v,x=fixeachoftheprincipalstates()  \n",
    "cycleResults=Determineforthecycle(h,Wcycledot)\n",
    "cycleResults['mcwdot']=DeterminefortheCondensate(cycleResults['Qoutdot'])\n",
    "\n",
    "# Results\n",
    "print('(a) The thermal efficiency for the cycle is %.3f '%(cycleResults['eta']*100),'%')\n",
    "print('(b) The back work ratio is %.3f' %(cycleResults['bwr']*100),'%')\n",
    "print('(c) The mass flow rate of the steam is %.2f' %cycleResults['mdot'],'kg/h.')\n",
    "print('(d) The rate of heat transfer,Qindotinto the working fluid as \\\n",
    "      \\n\\t it passes through the boiler is %.2f' %cycleResults['qindot'],'MW.')\n",
    "print('(e) The rate of heat transfer,Qoutdot from the condensing steam as \\\n",
    "       \\n\\t it passes through the condenser, %.2f' %cycleResults['Qoutdot'],'MW.')\n",
    "print('(f) The mass flow rate of the condenser cooling water is %.2f'%cycleResults['mcwdot'],'kg/h.')"
   ]
  },
  {
   "cell_type": "markdown",
   "metadata": {},
   "source": [
    "## Reference\n",
    "\n",
    "* Michael J. Moran, Howard N. Shapiro, Daisie D. Boettner, Margaret B. Bailey. Fundamentals of Engineering Thermodynamics(7th Edition). John Wiley & Sons, Inc. 2011"
   ]
  },
  {
   "cell_type": "code",
   "execution_count": null,
   "metadata": {},
   "outputs": [],
   "source": []
  }
 ],
 "metadata": {
  "kernelspec": {
   "display_name": "Python 3",
   "language": "python",
   "name": "python3"
  },
  "language_info": {
   "codemirror_mode": {
    "name": "ipython",
    "version": 3
   },
   "file_extension": ".py",
   "mimetype": "text/x-python",
   "name": "python",
   "nbconvert_exporter": "python",
   "pygments_lexer": "ipython3",
   "version": "3.7.0"
  },
  "widgets": {
   "state": {},
   "version": "1.1.2"
  }
 },
 "nbformat": 4,
 "nbformat_minor": 1
}
