{
 "cells": [
  {
   "cell_type": "markdown",
   "metadata": {},
   "source": [
    "# GNU Scientific Library -Ubuntu18.04\n",
    "\n",
    "https://www.gnu.org/software/gsl/\n",
    "\n",
    "The GNU Scientific Library (GSL) is a numerical library for C and C++ programmers. It is free software under the GNU General Public License.\n",
    "\n",
    "The library provides a wide range of mathematical routines such as random number generators, special functions and least-squares fitting. There are over 1000 functions in total with an extensive test suite.\n",
    "\n",
    "\n",
    "## 1 Install GSL under Ubuntu18.04\n",
    "\n",
    "**Ubuntu Packages Search**\n",
    "\n",
    "   This site provides you with information about all the packages available in the Ubuntu Package archive.\n",
    "\n",
    "   https://packages.ubuntu.com/\n",
    "\n",
    "Ubuntu 18.04(bionic) : gsl-2.3 was released in December 2016\n",
    "\n",
    "https://packages.ubuntu.com/bionic/math/gsl-bin\n",
    "\n"
   ]
  },
  {
   "cell_type": "code",
   "execution_count": null,
   "metadata": {},
   "outputs": [],
   "source": [
    "!sudo apt install gsl-bin"
   ]
  },
  {
   "cell_type": "code",
   "execution_count": null,
   "metadata": {},
   "outputs": [],
   "source": [
    "!sudo apt install libgsl-dev"
   ]
  },
  {
   "cell_type": "markdown",
   "metadata": {},
   "source": [
    "## 2 Using the Library\n",
    "\n",
    "### 2.1 Compiling and Linking\n",
    "\n",
    "The library header files are installed in their own gsl directory. You should write any preprocessor include statements with a gsl/ directory prefix thus, \n",
    "\n",
    "```c\n",
    "#include <gsl/gsl_sf_bessel.h>\n",
    "```\n",
    "If the directory is not installed on the standard search path of your compiler you will also need to provide its location to the preprocessor as a command line flag.The default location of the gsl directory(ubuntu18.04) is `/usr/include/gsl`\n",
    "\n",
    "A typical compilation command for a source file example.c with the GNU C compiler gcc is, \n",
    "```bash\n",
    "$gcc -Wall -I/usr/include -c example.c\n",
    "```\n",
    "This results in an object file example.o. The default include path for gcc searches `/usr/include` automatically so the `-I` option can actually be omitted when GSL is installed in its default location. \n",
    "\n",
    "\n",
    "### 2.2 Linking programs with the library\n",
    "\n",
    "The library is installed as a single file, `libgsl.a`. A shared version of the library `libgsl.so` is also installed on systems that support shared libraries. The default location of these files(Ubuntu18.04) is `/usr/lib/x86_64-linux-gnu/`. If this directory is not on the standard search path of your linker you will also need to provide its location as a command line flag.\n",
    "\n",
    "To link against the library you need to specify both the `main library` and a supporting` CBLAS library,` which provides standard basic linear algebra subroutines. A suitable CBLAS implementation is provided in the library `libgslcblas.a` if your system does not provide one. The following example shows how to link an application with the library:\n",
    "\n",
    "```bash\n",
    "$gcc -L/usr/lib/x86_64-linux-gnu/ example.o -lgsl -lgslcblas -lm\n",
    "```\n",
    "The default library path for gcc searches `/usr/lib/x86_64-linux-gnu/` automatically so the `-L` option can be **omitted** when GSL is installed in its default location.\n",
    "\n",
    "The option `-lm` links with the system math library. \n"
   ]
  },
  {
   "cell_type": "markdown",
   "metadata": {},
   "source": [
    "### 2.3 An Example Program\n",
    "\n",
    "Here is a basic example of how to use the statistical functions\n",
    "\n",
    "https://www.gnu.org/software/gsl/doc/html/rstat.html"
   ]
  },
  {
   "cell_type": "code",
   "execution_count": 5,
   "metadata": {},
   "outputs": [
    {
     "name": "stdout",
     "output_type": "stream",
     "text": [
      "Writing ./code/gsl/example.c\n"
     ]
    }
   ],
   "source": [
    "%%file ./code/gsl/example.c\n",
    "\n",
    "#include <stdio.h>\n",
    "#include <gsl/gsl_rstat.h>\n",
    "\n",
    "int main(void)\n",
    "{\n",
    "  double data[5] = {17.2, 18.1, 16.5, 18.3, 12.6};\n",
    "  \n",
    "  double mean, variance, largest, smallest, sd,\n",
    "         rms, sd_mean, median, skew, kurtosis;\n",
    "    \n",
    "  gsl_rstat_workspace *rstat_p = gsl_rstat_alloc();\n",
    "  size_t i, n;\n",
    "\n",
    "  /* add data to rstat accumulator */\n",
    "  for (i = 0; i < 5; ++i)\n",
    "    gsl_rstat_add(data[i], rstat_p);\n",
    "\n",
    "  mean     = gsl_rstat_mean(rstat_p);\n",
    "  variance = gsl_rstat_variance(rstat_p);\n",
    "  largest  = gsl_rstat_max(rstat_p);\n",
    "  smallest = gsl_rstat_min(rstat_p);\n",
    "  median   = gsl_rstat_median(rstat_p);\n",
    "  sd       = gsl_rstat_sd(rstat_p);\n",
    "  sd_mean  = gsl_rstat_sd_mean(rstat_p);\n",
    "  skew     = gsl_rstat_skew(rstat_p);\n",
    "  rms      = gsl_rstat_rms(rstat_p);\n",
    "  kurtosis = gsl_rstat_kurtosis(rstat_p);\n",
    "  n        = gsl_rstat_n(rstat_p);\n",
    "\n",
    "  printf (\"The dataset is %g, %g, %g, %g, %g\\n\",\n",
    "         data[0], data[1], data[2], data[3], data[4]);\n",
    "\n",
    "  printf (\"The sample mean is %g\\n\", mean);\n",
    "  printf (\"The estimated variance is %g\\n\", variance);\n",
    "  printf (\"The largest value is %g\\n\", largest);\n",
    "  printf (\"The smallest value is %g\\n\", smallest);\n",
    "  printf( \"The median is %g\\n\", median);\n",
    "  printf( \"The standard deviation is %g\\n\", sd);\n",
    "  printf( \"The root mean square is %g\\n\", rms);\n",
    "  printf( \"The standard devation of the mean is %g\\n\", sd_mean);\n",
    "  printf( \"The skew is %g\\n\", skew);\n",
    "  printf( \"The kurtosis %g\\n\", kurtosis);\n",
    "  printf( \"There are %zu items in the accumulator\\n\", n);\n",
    "\n",
    "  gsl_rstat_reset(rstat_p);\n",
    "  n = gsl_rstat_n(rstat_p);\n",
    "  printf( \"There are %zu items in the accumulator\\n\", n);\n",
    "\n",
    "  gsl_rstat_free(rstat_p);\n",
    "\n",
    "  return 0;\n",
    "}"
   ]
  },
  {
   "cell_type": "code",
   "execution_count": 33,
   "metadata": {},
   "outputs": [],
   "source": [
    "!gcc -Wall -I/usr/include -c ./code/gsl/example.c"
   ]
  },
  {
   "cell_type": "code",
   "execution_count": 31,
   "metadata": {},
   "outputs": [],
   "source": [
    "!gcc -o example example.o -L/usr/lib/x86_64-linux-gnu/ -lgsl -lgslcblas -lm"
   ]
  },
  {
   "cell_type": "code",
   "execution_count": 32,
   "metadata": {},
   "outputs": [
    {
     "name": "stdout",
     "output_type": "stream",
     "text": [
      "The dataset is 17.2, 18.1, 16.5, 18.3, 12.6\r\n",
      "The sample mean is 16.54\r\n",
      "The estimated variance is 5.373\r\n",
      "The largest value is 18.3\r\n",
      "The smallest value is 12.6\r\n",
      "The median is 16.5\r\n",
      "The standard deviation is 2.31797\r\n",
      "The root mean square is 16.6694\r\n",
      "The standard devation of the mean is 1.03663\r\n",
      "The skew is -0.829058\r\n",
      "The kurtosis -1.2217\r\n",
      "There are 5 items in the accumulator\r\n",
      "There are 0 items in the accumulator\r\n"
     ]
    }
   ],
   "source": [
    "!./example"
   ]
  },
  {
   "cell_type": "markdown",
   "metadata": {},
   "source": [
    "### -I -L option can be omitted when GSL is installed in its default location"
   ]
  },
  {
   "cell_type": "code",
   "execution_count": 24,
   "metadata": {},
   "outputs": [],
   "source": [
    "!gcc -Wall -c ./code/gsl/example.c"
   ]
  },
  {
   "cell_type": "code",
   "execution_count": 25,
   "metadata": {},
   "outputs": [],
   "source": [
    "!gcc -o example example.o -lgsl -lgslcblas -lm"
   ]
  },
  {
   "cell_type": "code",
   "execution_count": 26,
   "metadata": {},
   "outputs": [
    {
     "name": "stdout",
     "output_type": "stream",
     "text": [
      "The dataset is 17.2, 18.1, 16.5, 18.3, 12.6\r\n",
      "The sample mean is 16.54\r\n",
      "The estimated variance is 5.373\r\n",
      "The largest value is 18.3\r\n",
      "The smallest value is 12.6\r\n",
      "The median is 16.5\r\n",
      "The standard deviation is 2.31797\r\n",
      "The root mean square is 16.6694\r\n",
      "The standard devation of the mean is 1.03663\r\n",
      "The skew is -0.829058\r\n",
      "The kurtosis -1.2217\r\n",
      "There are 5 items in the accumulator\r\n",
      "There are 0 items in the accumulator\r\n"
     ]
    }
   ],
   "source": [
    "!./example "
   ]
  },
  {
   "cell_type": "markdown",
   "metadata": {},
   "source": [
    "## 3 Using GSL - Linear Least-Squares Fitting\n",
    "\n",
    "The functions described in this section can be used to perform least-squares fits to a straight line model, .\n",
    "\n",
    "```c\n",
    "int gsl_fit_linear(const double * x, const size_t xstride, const double * y, const size_t ystride, size_t n, double * c0, double * c1, double * cov00, double * cov01, double * cov11, double * sumsq)\n",
    "```\n",
    "This function computes the best-fit linear regression coefficients `(c0, c1)` of the model  for the dataset `(x, y)`, two vectors of length `n` with strides xstride and ystride.\n",
    "\n",
    "The errors on `y` are assumed unknown so the variance-covariance matrix for the parameters `(c0, c1)` is estimated from the scatter of the points around the best-fit line and returned via the parameters` (cov00, cov01, cov11)`. \n",
    "\n",
    "The **sum of squares of the residuals** from the best-fit line is returned in `sumsq`. \n",
    "\n",
    "The following program computes a least squares straight-line fit to one dataset of Mr. F.J. Anscombe, and outputs the best-fit line and its associated one standard-deviation error bars."
   ]
  },
  {
   "cell_type": "code",
   "execution_count": 17,
   "metadata": {},
   "outputs": [
    {
     "name": "stdout",
     "output_type": "stream",
     "text": [
      "Overwriting ./code/gsl/demo_fit.c\n"
     ]
    }
   ],
   "source": [
    "%%file ./code/gsl/demo_fit.c\n",
    "\n",
    "#include <stdio.h>\n",
    "#include <gsl/gsl_fit.h>\n",
    "\n",
    "int main (void)\n",
    "{\n",
    "  int n = 11;\n",
    "  double x[11] = {10.0, 8.0, 13.0, 9.0,11.0,14.0,6.0,4.0 ,12.0,7.0,5.0};\n",
    "  double y[11] = {  8.04,  6.95,7.68, 8.81, 8.33,9.96,7.24,4.26,10.84,4.82,5.68 };\n",
    "\n",
    "  double c0, c1, cov00, cov01, cov11, sumsq;\n",
    "\n",
    "  gsl_fit_linear (x, 1, y, 1, n,\n",
    "                   &c0, &c1, &cov00, &cov01, &cov11,\n",
    "                   &sumsq);\n",
    "\n",
    "  printf (\"best fit: Y = %g + %g X\\n\", c0, c1);\n",
    "  printf (\"covariance matrix:\\n\");\n",
    "  printf (\"[ %g, %g\\n  %g, %g]\\n\",\n",
    "          cov00, cov01, cov01, cov11);\n",
    "  printf (\"sumsq = %g\\n\", sumsq);\n",
    "\n",
    "  printf (\"\\n\");\n",
    "\n",
    "  return 0;\n",
    "}"
   ]
  },
  {
   "cell_type": "code",
   "execution_count": 21,
   "metadata": {},
   "outputs": [],
   "source": [
    "!gcc -Wall -c ./code/gsl/demo_fit.c "
   ]
  },
  {
   "cell_type": "code",
   "execution_count": 22,
   "metadata": {},
   "outputs": [],
   "source": [
    "!gcc -o  demo_fit demo_fit.o  -lgsl -lgslcblas -lm"
   ]
  },
  {
   "cell_type": "code",
   "execution_count": 23,
   "metadata": {},
   "outputs": [
    {
     "name": "stdout",
     "output_type": "stream",
     "text": [
      "best fit: Y = 2.97645 + 0.503727 X\r\n",
      "covariance matrix:\r\n",
      "[ 1.23044, -0.121692\r\n",
      "  -0.121692, 0.0135213]\r\n",
      "sumsq = 13.3861\r\n",
      "\r\n"
     ]
    }
   ],
   "source": [
    "!./demo_fit "
   ]
  },
  {
   "cell_type": "markdown",
   "metadata": {},
   "source": [
    "# Reference\n",
    "\n",
    "* GSL - GNU Scientific Libraryh ttps://www.gnu.org/software/gsl/\n",
    "\n",
    "\n",
    "* The GSL Reference Manual online https://www.gnu.org/software/gsl/doc/html/index.html"
   ]
  },
  {
   "cell_type": "code",
   "execution_count": null,
   "metadata": {},
   "outputs": [],
   "source": []
  }
 ],
 "metadata": {
  "kernelspec": {
   "display_name": "Python 3",
   "language": "python",
   "name": "python3"
  },
  "language_info": {
   "codemirror_mode": {
    "name": "ipython",
    "version": 3
   },
   "file_extension": ".py",
   "mimetype": "text/x-python",
   "name": "python",
   "nbconvert_exporter": "python",
   "pygments_lexer": "ipython3",
   "version": "3.6.5"
  },
  "widgets": {
   "state": {},
   "version": "1.1.2"
  }
 },
 "nbformat": 4,
 "nbformat_minor": 2
}
