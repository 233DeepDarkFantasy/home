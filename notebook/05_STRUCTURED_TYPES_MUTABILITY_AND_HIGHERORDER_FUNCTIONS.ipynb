{
 "cells": [
  {
   "cell_type": "markdown",
   "metadata": {},
   "source": [
    "# 5 STRUCTURED TYPES, MUTABILITY, AND HIGHERORDER FUNCTIONS\n",
    "\n",
    "In this chapter, we introduce three structured types: \n",
    "<ul>\n",
    "<li><b style=\"color:blue\">tuple</b>, is a rather <b>simple generalization of str</b>. \n",
    "<li><b style=\"color:blue\">list and dict</b>, are more interesting — in part because they are <b style=\"color:blue\">mutable</b>.\n",
    "</ul>\n"
   ]
  },
  {
   "cell_type": "markdown",
   "metadata": {},
   "source": [
    "## 5.1 Tuples\n",
    "\n",
    "tuples are <b style=\"color:blue\">ordered sequences</b> of elements. \n",
    "\n",
    "The difference is that the elements of a tuple need not be characters.\n",
    "\n",
    "The individual elements can be of <b style=\"color:blue\">any type</b>, \n",
    "\n",
    "and need <b style=\"color:blue\"> not be of the same type</b> as each other.\n",
    "\n",
    "Literals of type tuple are written by enclosing a <b style=\"color:blue\">comma-separated</b> list of elements <b style=\"color:blue\">within parentheses</b>"
   ]
  },
  {
   "cell_type": "code",
   "execution_count": null,
   "metadata": {
    "scrolled": true
   },
   "outputs": [],
   "source": [
    "t1 = () # empty tuple\n",
    "\n",
    "t2 = (1, 'two', 3) #  1 any type; 2 not be of the same type as each other.\n",
    "student=('Name',22)\n",
    "print(t1)\n",
    "print(t2)\n",
    "print(student)"
   ]
  },
  {
   "cell_type": "markdown",
   "metadata": {
    "collapsed": true
   },
   "source": [
    "Since parentheses are used to <b style=\"color:blue\">group expressions</b>,\n",
    "\n",
    "<b  style=\"color:blue\">(10)</b> is merely a verbose way to write the integer 10. \n",
    "\n",
    "<p>To denote <b  style=\"color:blue\">the singleton tuple</b> containing this value, we write (10 <strong  style=\"color:red\">,</strong>)"
   ]
  },
  {
   "cell_type": "code",
   "execution_count": null,
   "metadata": {},
   "outputs": [],
   "source": [
    "\n",
    "only1=('10+1')\n",
    "\n",
    "tsingleton=('10+1',)  # comma-separated \n",
    "\n",
    "print(only1)\n",
    "print(type(only1))\n",
    "\n",
    "print('\\nThe singleton tuple containing this value')\n",
    "print(tsingleton)\n",
    "print(type(tsingleton))"
   ]
  },
  {
   "cell_type": "markdown",
   "metadata": {},
   "source": [
    "<b>Like string</b> ,Tuples can be <b style=\"color:blue\">concatenated</b>, <b style=\"color:blue\">indexed</b>, and <b style=\"color:blue\">sliced</b>.(indexing <strong style=\"color:blue\">starts at 0</strong>)"
   ]
  },
  {
   "cell_type": "code",
   "execution_count": null,
   "metadata": {},
   "outputs": [],
   "source": [
    "t1 = (1, 'two', 3)\n",
    "\n",
    "t2 = (t1, 3.25)   #  any type,tuples can contain tuples\n",
    "\n",
    "print('t2=',t2)\n",
    "\n",
    "print('t1+t2=',t1 + t2)  # + concatenated\n",
    "\n",
    "print('(t1 + t2)[3]=',(t1 + t2)[3]) # [3] indexed -tuple as always in Python, indexing starts at 0\n",
    "\n",
    "print('(t1 + t2)[2:5]=',(t1 + t2)[2:5]) # [2:5] sliced"
   ]
  },
  {
   "cell_type": "markdown",
   "metadata": {},
   "source": [
    "A <b  style=\"color:blue\">for</b> statement can be used to <b style=\"color:blue\">iterate over the elements</b> of a tuple."
   ]
  },
  {
   "cell_type": "code",
   "execution_count": null,
   "metadata": {},
   "outputs": [],
   "source": [
    "def findDivisors (n1, n2):\n",
    "    \"\"\"Assumes that n1 and n2 are positive ints\n",
    "       Returns a tuple containing all common divisors of n1 & n2\"\"\"\n",
    "    \n",
    "    divisors = () #the empty tuple\n",
    "    \n",
    "    for i in range(1, min (n1, n2) + 1):\n",
    "        if n1%i == 0 and n2%i == 0:      # common divisors\n",
    "            divisors = divisors + (i,)  # Note：1) comma-（i,)-Tuple; 2) +  concatenated \n",
    "    \n",
    "    return divisors\n",
    "\n",
    "divisors = findDivisors(20, 100)\n",
    "print('common divisors:',divisors)\n",
    "\n",
    "total = 0\n",
    "#  iterate over the elements of a tuple :in \n",
    "for d  in  divisors:\n",
    "    total += d \n",
    "\n",
    "print('sum: ',total)"
   ]
  },
  {
   "cell_type": "markdown",
   "metadata": {},
   "source": [
    "### 5.1.1 Sequences and Multiple Assignment\n",
    "\n",
    "If you know the <b>length of a sequence</b> (e.g., a tuple or a string),\n",
    "\n",
    "it can be convenient to use Python’s <b>multiple assignment</b> statement to extract the individual elements."
   ]
  },
  {
   "cell_type": "code",
   "execution_count": null,
   "metadata": {},
   "outputs": [],
   "source": [
    "x, y ,z= (3, 4,5)\n",
    "a, b, c = 'xyz'\n",
    "\n",
    "print('x=',x,' y=',y)\n",
    "print('a=',a,' b=',b,' c=',c)"
   ]
  },
  {
   "cell_type": "markdown",
   "metadata": {},
   "source": [
    "This mechanism is particularly convenient when used in <b>conjunction with functions that return fixed-size sequences</b>."
   ]
  },
  {
   "cell_type": "code",
   "execution_count": null,
   "metadata": {},
   "outputs": [],
   "source": [
    "def findExtremeDivisors(n1, n2):\n",
    "    \"\"\"Assumes that n1 and n2 are positive ints\n",
    "       Returns a tuple containing the smallest common\n",
    "       divisor > 1 and the largest common divisor of n1\n",
    "       and n2\n",
    "    \"\"\"\n",
    "    minVal, maxVal = None, None #multiple assignment statement\n",
    "    for i in range(2, min(n1, n2) + 1):\n",
    "        if n1%i == 0 and n2%i == 0:\n",
    "            if minVal == None or i < minVal:\n",
    "                minVal = i\n",
    "            if maxVal == None or i > maxVal:\n",
    "                maxVal = i\n",
    "    return (minVal, maxVal)  #   return fixed-size sequences:tuple"
   ]
  },
  {
   "cell_type": "code",
   "execution_count": null,
   "metadata": {
    "scrolled": true
   },
   "outputs": [],
   "source": [
    "# multiple assignment statement conjunction with functions that return fixed-size sequences.\n",
    "minDivisor, maxDivisor = findExtremeDivisors(100, 200)  \n",
    "print('minDivisor=',minDivisor)\n",
    "print('maxDivisor=',maxDivisor)"
   ]
  },
  {
   "cell_type": "code",
   "execution_count": null,
   "metadata": {},
   "outputs": [],
   "source": [
    "def findExtremeDivisors(n1, n2):\n",
    "    \"\"\"Assumes that n1 and n2 are positive ints\n",
    "       Returns a tuple containing the smallest common\n",
    "       divisor > 1 and the largest common divisor of n1\n",
    "       and n2\n",
    "    \"\"\"\n",
    "    minVal, maxVal = None, None #multiple assignment statement\n",
    "    for i in range(2, min(n1, n2) + 1):\n",
    "        if n1%i == 0 and n2%i == 0:\n",
    "            if minVal == None or i < minVal:\n",
    "                minVal = i\n",
    "            if maxVal == None or i > maxVal:\n",
    "                maxVal = i\n",
    "    \n",
    "    divisors = (minVal,maxVal)\n",
    "    return  divisors  #   return fixed-size sequences\n"
   ]
  },
  {
   "cell_type": "code",
   "execution_count": null,
   "metadata": {},
   "outputs": [],
   "source": [
    "# tuple \n",
    "divisors = findExtremeDivisors(100, 200)  \n",
    "print(divisors)\n",
    "print('minDivisor=', divisors[0])\n",
    "print('maxDivisor=', divisors[1])"
   ]
  },
  {
   "cell_type": "markdown",
   "metadata": {},
   "source": [
    "## 5.2 Lists and Mutability\n",
    "\n",
    "A list is an <b>ordered sequence</b> of values, where each value is <b>identified by an index </b>. \n",
    "\n",
    "The syntax for expressing literals of type list is similar to that used for tuples; \n",
    "\n",
    "the difference is that we use <b>square brackets []</b> rather than parentheses(). \n"
   ]
  },
  {
   "cell_type": "code",
   "execution_count": null,
   "metadata": {},
   "outputs": [],
   "source": [
    "L = ['I did it all', 4, 'love']  # square brackets\n",
    "for i in range(len(L)):\n",
    "    print(L[i])\n",
    "\n",
    "for li in L:\n",
    "    print(li)\n"
   ]
  },
  {
   "cell_type": "markdown",
   "metadata": {},
   "source": [
    "The <b>empty list</b> is written as <b>[]</b>\n",
    "\n",
    "<p> <b>Singleton lists</b> are written <b>without comma</b> before the closing bracket."
   ]
  },
  {
   "cell_type": "code",
   "execution_count": null,
   "metadata": {},
   "outputs": [],
   "source": [
    "Lempty=[]   #empty list\n",
    "\n",
    "Lonly1=[10] # singleton list: without comma\n",
    "\n",
    "print('empty list:',Lempty)\n",
    "\n",
    "print(type(Lonly1))\n",
    "print(Lonly1)"
   ]
  },
  {
   "cell_type": "markdown",
   "metadata": {},
   "source": [
    "Square brackets  $[]$ are used for \n",
    "<ol>\n",
    "<li>literals of type list\n",
    "<li>indexing into lists, and\n",
    "<li>slicing lists\n",
    "</ol>\n",
    "<p>can lead to some visual confusion. For example:"
   ]
  },
  {
   "cell_type": "code",
   "execution_count": null,
   "metadata": {},
   "outputs": [],
   "source": [
    "print([1,2,3,4])  # list\n",
    "\n",
    "print([1,2,3,4][1:3]) # slicing list\n",
    "\n",
    "print([1,2,3,4][1:3][1]) # licing list,then indexing into sliced list"
   ]
  },
  {
   "cell_type": "markdown",
   "metadata": {},
   "source": [
    "<hr style=\"height:2px;color:blue\"/>\n",
    "## lists are mutable\n",
    "\n",
    "<p>Lists differ from tuples in one hugely important way:\n",
    "\n",
    "<b style=\"color:blue\">lists are mutable</b>\n",
    "\n",
    "<p><b>tuples and strings</b> are immutable\n",
    "\n",
    "<p>objects of immutable types cannot be modified.\n",
    "<p>objects of mutable types can be modified after they are created."
   ]
  },
  {
   "cell_type": "markdown",
   "metadata": {
    "collapsed": true
   },
   "source": [
    "The distinction between <b>mutating an object</b> and <b>assigning an object to a variable</b>"
   ]
  },
  {
   "cell_type": "code",
   "execution_count": null,
   "metadata": {},
   "outputs": [],
   "source": [
    "Techs = ['MIT', 'Caltech']\n",
    "Ivys = ['Harvard', 'Yale', 'Brown']"
   ]
  },
  {
   "cell_type": "code",
   "execution_count": null,
   "metadata": {},
   "outputs": [],
   "source": [
    "Univs = [Techs, Ivys]\n",
    "\n",
    "Univs1 = [['MIT', 'Caltech'], ['Harvard', 'Yale', 'Brown']]"
   ]
  },
  {
   "cell_type": "markdown",
   "metadata": {},
   "source": [
    "The three print statements"
   ]
  },
  {
   "cell_type": "code",
   "execution_count": null,
   "metadata": {},
   "outputs": [],
   "source": [
    "print('Univs =', Univs) \n",
    "print('Univs1 =', Univs1)\n",
    "print(Univs == Univs1)"
   ]
  },
  {
   "cell_type": "markdown",
   "metadata": {},
   "source": [
    "It appears as if Univs and Univs1 are bound to <b style=\"color:blue\">the same value</b>. \n",
    "\n",
    "But appearances can be deceiving. \n",
    "\n",
    "As the following picture illustrates, Univs and Univs1 are bound to quite different values.\n",
    "<img src=\"./img/fig52.PNG\"/> \n",
    "\n",
    "That Univs and Univs1 are bound to different objects can be verified using the built-in Python function \n",
    "\n",
    "<b style=\"color:blue\">id</b>,\n",
    "\n",
    "which <b style=\"color:blue\">returns a unique integer identifier</b> for an object. \n",
    "\n",
    "<p>This function allows us to <b>test for object equality</b>."
   ]
  },
  {
   "cell_type": "code",
   "execution_count": null,
   "metadata": {},
   "outputs": [],
   "source": [
    "print(Univs == Univs1) # test value equality\n",
    "\n",
    "print(id(Univs) == id(Univs1)) #test object equality\n",
    "\n",
    "print('Id of Univs =', id(Univs))\n",
    "\n",
    "print('Id of Univs1 =', id(Univs1))"
   ]
  },
  {
   "cell_type": "markdown",
   "metadata": {},
   "source": [
    "The <b>elements of Univs</b> are <b>not copies of the lists</b> to which Techs and Ivys are bound, but are rather the <b> themselves</b>.\n",
    "<p>The <b>elements of Univs1</b> are lists that contain <b>the same elements</b> as the lists in Univs,but they are <b>not the same lists</b>."
   ]
  },
  {
   "cell_type": "code",
   "execution_count": null,
   "metadata": {},
   "outputs": [],
   "source": [
    "print('Ids of Techs, Univs[0]', id(Techs), id(Univs[0]))\n",
    "\n",
    "print('Ids of Ivys, Univs[1]', id(Ivys), id(Univs[1]))\n",
    "\n",
    "print('Ids of Univs[0] and Univs[1]', id(Univs[0]), id(Univs[1]))\n",
    "\n",
    "print('Ids of Univs1[0] and Univs1[1]', id(Univs1[0]), id(Univs1[1]))"
   ]
  },
  {
   "cell_type": "markdown",
   "metadata": {},
   "source": [
    "### Why does this matter? It matters because lists are mutable"
   ]
  },
  {
   "cell_type": "code",
   "execution_count": null,
   "metadata": {},
   "outputs": [],
   "source": [
    "# Techs = ['MIT', 'Caltech']\n",
    "\n",
    "Techs.append('RPI') #through the variable Techs \n",
    "print(Techs)"
   ]
  },
  {
   "cell_type": "markdown",
   "metadata": {
    "collapsed": true
   },
   "source": [
    "The append method has a side effect. \n",
    "\n",
    "Rather than create a new list, it <b>mutates the existing list Techs</b> by adding a new element, \n",
    "\n",
    "the string 'RPI', \n",
    "\n",
    "to the end of it.\n",
    "<img src=\"./img/fig53.PNG\"/> \n"
   ]
  },
  {
   "cell_type": "markdown",
   "metadata": {},
   "source": [
    "**Univs** still contains the same two lists,but the contents of one of those lists has been changed\n",
    "\n",
    "There are two distinct paths to the same list object：<b>Techs</b>.\n",
    "\n",
    "* One path is through the variable <b>Techs</b> and\n",
    "\n",
    "* the other through <b>the first element</b> of the list object to which Univs is bound：**Univs[0]**. \n",
    "\n",
    "<p>One can mutate the object via either path, and the effect of the mutation will be visible through both paths. "
   ]
  },
  {
   "cell_type": "code",
   "execution_count": null,
   "metadata": {},
   "outputs": [],
   "source": [
    "Techs = ['MIT', 'Caltech']\n",
    "Ivys = ['Harvard', 'Yale', 'Brown']\n",
    "\n",
    "Univs=[Techs,Ivys]\n",
    "print('Univs =', Univs) \n"
   ]
  },
  {
   "cell_type": "code",
   "execution_count": null,
   "metadata": {},
   "outputs": [],
   "source": [
    "\n",
    "Techs.append('RPI') #through the variable Techs \n",
    "print('Univs after Techs.append  =', Univs)\n",
    "\n",
    "Univs[0].append('NIT')# the other through the first element of the list object： Techs\n",
    "\n",
    "print('Univs after Univs[0].append  =', Univs)\n",
    "\n",
    "print('Techs after Univs[0].append  =',Techs)\n"
   ]
  },
  {
   "cell_type": "markdown",
   "metadata": {},
   "source": [
    "What we have here is something called **aliasing**. \n",
    "\n",
    "<p>This can be convenient, but it can also be treacherous. \n",
    "\n",
    "* **Unintentional aliasing leads to programming errors that are often enormously hard to track down**."
   ]
  },
  {
   "cell_type": "markdown",
   "metadata": {},
   "source": [
    "`for` statement can be used to iterate over the elements of a list.</h4>"
   ]
  },
  {
   "cell_type": "code",
   "execution_count": null,
   "metadata": {},
   "outputs": [],
   "source": [
    "for e in Univs:\n",
    "    print('Univs contains', e) # list \n",
    "    print('   which contains')\n",
    "    for u in e:\n",
    "        print('    ', u)   # the elements of a list."
   ]
  },
  {
   "cell_type": "markdown",
   "metadata": {
    "collapsed": true
   },
   "source": [
    "### append VS concatenation(+) or extend"
   ]
  },
  {
   "cell_type": "code",
   "execution_count": null,
   "metadata": {
    "scrolled": true
   },
   "outputs": [],
   "source": [
    "L1 = [1,2,3]\n",
    "L2 = [4,5,6]\n",
    "#+\n",
    "L3 = L1 + L2E # + new list\n",
    "print('L3 =', L3)\n",
    "\n",
    "print('id L1=',id(L1))\n",
    "print('id L2=',id(L2))\n",
    "print('id L3=',id(L3))\n",
    "# extend\n",
    "L1.extend(L2) # add items in the list L2 to the end of list L1\n",
    "print('L1 =', L1)\n",
    "print('id L1.extend(L2)=',id(L1))\n",
    "#append\n",
    "L1.append(L2) # add objects e to the end of L1\n",
    "print('L1 =', L1)\n",
    "print('id L1.append(L2)=',id(L1))\n",
    "\n",
    "\n"
   ]
  },
  {
   "cell_type": "markdown",
   "metadata": {},
   "source": [
    "Notice that:\n",
    "\n",
    "* the operator(concatenation): **+** does not have a side effect. It creates **a new list** and returns it. \n",
    "\n",
    "* **extend** and **append** each **mutated** L1. \n"
   ]
  },
  {
   "cell_type": "markdown",
   "metadata": {},
   "source": [
    "The list data type has some more methods. Here are all of the methods of list objects:\n",
    "\n",
    "https://docs.python.org/3/tutorial/datastructures.html#more-on-lists\n",
    "\n",
    "Note that\n",
    "* all of these except <b style=\"color:blue\">count</b> and <b style=\"color:blue\">index</b> mutate the list.\n",
    "\n",
    "<img src=\"./img/fig54.PNG\"/> "
   ]
  },
  {
   "cell_type": "code",
   "execution_count": null,
   "metadata": {},
   "outputs": [],
   "source": [
    "L = [1,2,3]\n",
    "#L.append([3]) \n",
    "L.append(3) \n",
    "L"
   ]
  },
  {
   "cell_type": "code",
   "execution_count": null,
   "metadata": {},
   "outputs": [],
   "source": [
    "L = [1,2,3]\n",
    "#L.extend(3) \n",
    "L.extend([3]) \n",
    "L"
   ]
  },
  {
   "cell_type": "code",
   "execution_count": null,
   "metadata": {},
   "outputs": [],
   "source": [
    "L.count(3)"
   ]
  },
  {
   "cell_type": "code",
   "execution_count": null,
   "metadata": {},
   "outputs": [],
   "source": [
    "L.insert(1,3)\n",
    "L"
   ]
  },
  {
   "cell_type": "code",
   "execution_count": null,
   "metadata": {},
   "outputs": [],
   "source": [
    "L.remove(3)\n",
    "L"
   ]
  },
  {
   "cell_type": "code",
   "execution_count": null,
   "metadata": {},
   "outputs": [],
   "source": [
    "L.index(3)"
   ]
  },
  {
   "cell_type": "code",
   "execution_count": null,
   "metadata": {},
   "outputs": [],
   "source": [
    "L.pop(1)"
   ]
  },
  {
   "cell_type": "code",
   "execution_count": null,
   "metadata": {},
   "outputs": [],
   "source": [
    "L"
   ]
  },
  {
   "cell_type": "code",
   "execution_count": null,
   "metadata": {},
   "outputs": [],
   "source": [
    "L.sort()\n",
    "L"
   ]
  },
  {
   "cell_type": "code",
   "execution_count": null,
   "metadata": {},
   "outputs": [],
   "source": [
    "L.reverse()\n",
    "L"
   ]
  },
  {
   "cell_type": "markdown",
   "metadata": {},
   "source": [
    "## 5.2.1 Cloning\n",
    "\n",
    "It is usually prudent to <b>avoid mutating a list over which one is iterating</b>."
   ]
  },
  {
   "cell_type": "code",
   "execution_count": null,
   "metadata": {},
   "outputs": [],
   "source": [
    "#Page 63-64\n",
    "def removeDups(L1, L2):\n",
    "    \"\"\"Assumes that L1 and L2 are lists.\n",
    "       Removes any element from L1 that also occurs in L2\"\"\"\n",
    "    for e1 in L1:\n",
    "       \n",
    "        # display mutation：L1.remove(e1)\n",
    "        print('Current Item=',e1) \n",
    "        print('Current len(L1)=',len(L1))  \n",
    "       \n",
    "        print('L1=',L1,'\\n')\n",
    "        \n",
    "        if e1 in L2:\n",
    "            L1.remove(e1) # mutation：L1.remove(e1)\n",
    "\n",
    "L1 = [1,2,3,4]\n",
    "L2 = [1,2,5,6]\n",
    "\n",
    "removeDups(L1, L2)\n",
    "# 1,2\n",
    "# L1=[3,4]\n",
    "print('\\n removeDups L1 =', L1)"
   ]
  },
  {
   "cell_type": "markdown",
   "metadata": {},
   "source": [
    "#### 1 One way to <b>avoid this kind of problem is to use slicing to clone</b> \n",
    "\n",
    "     make a copy of the list and write \n",
    "     \n",
    "```python     \n",
    "     for e1 in L1[:]:\n",
    "```"
   ]
  },
  {
   "cell_type": "code",
   "execution_count": null,
   "metadata": {},
   "outputs": [],
   "source": [
    "#Page 63-64\n",
    "def removeDups(L1, L2):\n",
    "    \"\"\"Assumes that L1 and L2 are lists.\n",
    "       Removes any element from L1 that also occurs in L2\"\"\"\n",
    " \n",
    "    for e1 in L1[:]: # use slicing to clone\n",
    "        \n",
    "        print('Current Item=',e1) \n",
    "        print('Current len(L1)=',len(L1))  \n",
    "       \n",
    "        print('L1=',L1,'\\n')\n",
    "        \n",
    "        if e1 in L2:\n",
    "            L1.remove(e1)\n",
    "\n",
    "L1 = [1,2,3,4]\n",
    "L2 = [1,2,5,6]\n",
    "removeDups(L1, L2)\n",
    "print('\\n removeDups L1 =', L1)"
   ]
  },
  {
   "cell_type": "markdown",
   "metadata": {},
   "source": [
    "* <b>newL1 = L1</b> merely have introduced <b>a new name for L1</b>\n",
    "\n",
    "  * Assignment statements in Python do not copy objects, they create bindings between a target and an object."
   ]
  },
  {
   "cell_type": "code",
   "execution_count": null,
   "metadata": {},
   "outputs": [],
   "source": [
    "#Page 63-64\n",
    "def removeDups(L1, L2):\n",
    "    \"\"\"Assumes that L1 and L2 are lists.\n",
    "       Removes any element from L1 that also occurs in L2\"\"\"\n",
    "    \n",
    "    newL1=L1  # Assignment statements in Python do not copy objects, \n",
    "              # they create bindings between a target and an object.\n",
    "    \n",
    "    for e1 in newL1:\n",
    "        \n",
    "        print(len(L1))  # display mutation\n",
    "        print('L1=',L1)\n",
    "        \n",
    "        if e1 in L2:\n",
    "            L1.remove(e1)\n",
    "\n",
    "L1 = [1,2,3,4]\n",
    "L2 = [1,2,5,6]\n",
    "removeDups(L1, L2)\n",
    "print('\\n removeDups L1 =', L1)"
   ]
  },
  {
   "cell_type": "markdown",
   "metadata": {},
   "source": [
    "#### 2  The expression <b>list(l)</b> returns a copy of the list l. "
   ]
  },
  {
   "cell_type": "code",
   "execution_count": null,
   "metadata": {},
   "outputs": [],
   "source": [
    "#Page 63-64\n",
    "def removeDups(L1, L2):\n",
    "    \"\"\"Assumes that L1 and L2 are lists.\n",
    "       Removes any element from L1 that also occurs in L2\"\"\"\n",
    "    \n",
    "    newL1=list(L1)  # a copy of the list L1\n",
    "    \n",
    "    for e1 in newL1:\n",
    "        \n",
    "        print(len(L1))  # display mutation\n",
    "        print('L1=',L1)\n",
    "        \n",
    "        if e1 in L2:\n",
    "            L1.remove(e1)\n",
    "\n",
    "L1 = [1,2,3,4]\n",
    "L2 = [1,2,5,6]\n",
    "removeDups(L1, L2)\n",
    "print('\\n removeDups L1 =', L1)"
   ]
  },
  {
   "cell_type": "markdown",
   "metadata": {},
   "source": [
    "## Further Reading\n",
    "\n",
    "<b>1 Python 8.10 copy — Shallow and deep copy operations</b>\n",
    "\n",
    "https://docs.python.org/3/library/copy.html\n",
    "\n",
    "For collections that are mutable or contain mutable items, \n",
    "\n",
    "a copy is sometimes needed so one can change one copy without changing the other.\n",
    "\n",
    "This module provides generic shallow and deep copy operations (explained below).\n",
    "\n",
    "<p>Interface summary:\n",
    "<ul>\n",
    "<li>copy.copy(x): Return a shallow copy of x.\n",
    "<li>copy.deepcopy(x): Return a deep copy of x.\n",
    "</ul>\n",
    "\n",
    "* A shallow copy constructs a new compound object and then (to the extent possible) inserts references into it to the objects found in the original.\n",
    "* A deep copy constructs a new compound object and then, recursively, inserts copies into it of the objects found in the original.\n",
    "\n",
    "<p><b>2. The Python Standard Library by Example 2.8 copy—Duplicate Objects"
   ]
  },
  {
   "cell_type": "code",
   "execution_count": null,
   "metadata": {},
   "outputs": [],
   "source": [
    "#Page 63-64\n",
    "import copy\n",
    "\n",
    "def removeDups(L1, L2):\n",
    "    \"\"\"Assumes that L1 and L2 are lists.\n",
    "       Removes any element from L1 that also occurs in L2\"\"\"\n",
    "    \n",
    "    newL1=copy.deepcopy(L1)  # a copy of the list L1\n",
    "    \n",
    "    for e1 in newL1:\n",
    "        \n",
    "        print(len(L1))  # display mutation\n",
    "        print('L1=',L1)\n",
    "        \n",
    "        if e1 in L2:\n",
    "            L1.remove(e1)\n",
    "\n",
    "L1 = [1,2,3,4]\n",
    "L2 = [1,2,5,6]\n",
    "removeDups(L1, L2)\n",
    "print('\\n removeDups L1 =', L1)"
   ]
  },
  {
   "cell_type": "markdown",
   "metadata": {},
   "source": [
    "## <b style=\"color:blue\">Cloning Methods<b>\n",
    "\n",
    "* slicing：L1[:]\n",
    "* List(L1)\n",
    "* copy.copy(L1),copy.deepcopy(L1)"
   ]
  },
  {
   "cell_type": "markdown",
   "metadata": {},
   "source": [
    "### 5.2.2 List Comprehension\n",
    "\n",
    "List comprehension provides a concise way to apply an operation to the values in a sequence.\n",
    "\n",
    "It creates a new list in which each element is the result of applying a given operation to a value from a sequence "
   ]
  },
  {
   "cell_type": "code",
   "execution_count": null,
   "metadata": {},
   "outputs": [],
   "source": [
    "L = [x**2 for x in range(1,7)]\n",
    "print(L)"
   ]
  },
  {
   "cell_type": "code",
   "execution_count": null,
   "metadata": {},
   "outputs": [],
   "source": [
    "L =[]\n",
    "for x in range(1,7):\n",
    "    L.append(x**2)\n",
    "print(L)"
   ]
  },
  {
   "cell_type": "markdown",
   "metadata": {},
   "source": [
    "The `for` clause in a list comprehension can be <b>followed</b> by one or more \n",
    "\n",
    "* <b>if </b> statements \n",
    "\n",
    "* <b>for</b> statements \n",
    "\n",
    "that are applied to the values produced by the `for` clause."
   ]
  },
  {
   "cell_type": "markdown",
   "metadata": {},
   "source": [
    "* `if` statements"
   ]
  },
  {
   "cell_type": "code",
   "execution_count": null,
   "metadata": {},
   "outputs": [],
   "source": [
    "mixed = [1, 2, 'a', 3, 4.0]\n",
    "print([x**2 for x in mixed if type(x) == int])"
   ]
  },
  {
   "cell_type": "markdown",
   "metadata": {},
   "source": [
    "* `for` statements "
   ]
  },
  {
   "cell_type": "code",
   "execution_count": null,
   "metadata": {},
   "outputs": [],
   "source": [
    "print([x*y for x in [1,2,3] for y in  [1,2,3]])"
   ]
  },
  {
   "cell_type": "markdown",
   "metadata": {},
   "source": [
    "#### Further Reading：Python Tutorial\n",
    "\n",
    "* 5.1.3 List Comprehensions https://docs.python.org/3/tutorial/datastructures.html#list-comprehensions\n",
    "\n",
    "* 5.1.4 Nested List Comprehensions https://docs.python.org/3/tutorial/datastructures.html#nested-list-comprehensions\n"
   ]
  },
  {
   "cell_type": "markdown",
   "metadata": {},
   "source": [
    "Remember that somebody else may need to read your code\n",
    "\n",
    "* **subtle** is not usually a desirable property "
   ]
  },
  {
   "cell_type": "markdown",
   "metadata": {},
   "source": [
    "### SUPL 1  Using Lists as Stacks\n",
    "\n",
    "https://docs.python.org/3/tutorial/datastructures.html#using-lists-as-stacks\n",
    "    \n",
    "A stack is a a collection of objects that are inserted and removed according to the  principle.\n",
    "\n",
    "*  **last-in, first-out (LIFO)**\n",
    "   \n",
    "the last element added is the first element retrieved. \n",
    "\n",
    "![stacks-ex62](./img/stacks-ex62.jpg)\n",
    " \n",
    "The list methods make it very easy to use a list as a **stack** :\n",
    " \n",
    "* To **add** an item to the top of the stack, use **append()**, last-in on top\n",
    "\n",
    "* To **retrieve** an item from the top of the stack, use **pop()** without an explicit index.   first-out on the top\n"
   ]
  },
  {
   "cell_type": "code",
   "execution_count": 6,
   "metadata": {},
   "outputs": [
    {
     "data": {
      "text/plain": [
       "[3, 4, 5, 6, 7]"
      ]
     },
     "execution_count": 6,
     "metadata": {},
     "output_type": "execute_result"
    }
   ],
   "source": [
    "stack = [3, 4, 5]\n",
    "stack.append(6)\n",
    "stack.append(7)\n",
    "stack"
   ]
  },
  {
   "cell_type": "code",
   "execution_count": 7,
   "metadata": {},
   "outputs": [
    {
     "data": {
      "text/plain": [
       "7"
      ]
     },
     "execution_count": 7,
     "metadata": {},
     "output_type": "execute_result"
    }
   ],
   "source": [
    "stack.pop()"
   ]
  },
  {
   "cell_type": "code",
   "execution_count": 8,
   "metadata": {},
   "outputs": [
    {
     "data": {
      "text/plain": [
       "6"
      ]
     },
     "execution_count": 8,
     "metadata": {},
     "output_type": "execute_result"
    }
   ],
   "source": [
    "stack.pop()"
   ]
  },
  {
   "cell_type": "code",
   "execution_count": 9,
   "metadata": {},
   "outputs": [
    {
     "data": {
      "text/plain": [
       "[3, 4, 5]"
      ]
     },
     "execution_count": 9,
     "metadata": {},
     "output_type": "execute_result"
    }
   ],
   "source": [
    "stack"
   ]
  },
  {
   "cell_type": "markdown",
   "metadata": {},
   "source": [
    "### SUPL 2  Queues\n",
    "\n",
    "A queue is a collection of objects that are inserted and removed according to the principle:\n",
    "\n",
    "* **first-in, first-out (FIFO)** \n",
    "\n",
    "where the first element added is the first element retrieved\n",
    "\n",
    "![queues-fig64](./img/queues-fig64.jpg)\n",
    "\n",
    "\n",
    "#### Basic FIFO Queue\n",
    "\n",
    "The Queue class implements a basic first-in, first-out container. Elements are added to one “end” of the sequence using `put()`, and removed from the other end using `get()`.\n",
    "\n"
   ]
  },
  {
   "cell_type": "code",
   "execution_count": 5,
   "metadata": {},
   "outputs": [
    {
     "name": "stdout",
     "output_type": "stream",
     "text": [
      "0 1 2 3 4 "
     ]
    }
   ],
   "source": [
    "# queue_fifo.py\n",
    "import queue\n",
    "\n",
    "q = queue.Queue()\n",
    "\n",
    "for i in range(5):\n",
    "    q.put(i)\n",
    "\n",
    "while not q.empty():\n",
    "    print(q.get(), end=' ')\n"
   ]
  },
  {
   "cell_type": "markdown",
   "metadata": {},
   "source": [
    "## 5.3 Functions as Objects\n",
    "\n",
    "In Python, functions are first-class objects"
   ]
  },
  {
   "cell_type": "code",
   "execution_count": null,
   "metadata": {},
   "outputs": [],
   "source": [
    "type(abs)"
   ]
  },
  {
   "cell_type": "code",
   "execution_count": null,
   "metadata": {},
   "outputs": [],
   "source": [
    "type(removeDups)"
   ]
  },
  {
   "cell_type": "markdown",
   "metadata": {},
   "source": [
    "Using <b>functions as arguments</b> can be particularly convenient in conjunction with lists. \n",
    "\n",
    "It allows a style of coding called <b>higher-order programming</b>\n",
    "\n",
    "* higher-order programming -> functions as arguments"
   ]
  },
  {
   "cell_type": "code",
   "execution_count": null,
   "metadata": {},
   "outputs": [],
   "source": [
    "%%file functionsFromChapter4.py\n",
    "\n",
    "#Page 45, Figure 4.6\n",
    "def factI(n):\n",
    "    \"\"\"Assumes that n is an int > 0\n",
    "      Returns n!\"\"\"\n",
    "    result = 1\n",
    "    while n > 1:\n",
    "        result = result * n\n",
    "        n -= 1\n",
    "    return result\n",
    "   \n",
    "def factR(n):\n",
    "    \"\"\"Assumes that n is an int > 0\n",
    "      Returns n!\"\"\"\n",
    "    if n == 1:\n",
    "        return n\n",
    "    else:\n",
    "        return n*factR(n - 1)\n",
    "\n",
    "#Page 47, Figure 4.7\n",
    "def fib(n):\n",
    "    \"\"\"Assumes n an int >= 0\n",
    "       Returns Fibonacci of n\"\"\"\n",
    "    if n == 0 or n == 1:\n",
    "        return 1\n",
    "    else:\n",
    "        return fib(n-1) + fib(n-2)\n",
    "\n"
   ]
  },
  {
   "cell_type": "code",
   "execution_count": null,
   "metadata": {},
   "outputs": [],
   "source": [
    "#Page 64, Figure 5.5\n",
    "\n",
    "from functionsFromChapter4 import *\n",
    "\n",
    "def applyToEach(L, func):\n",
    "    \"\"\"Assumes L is a list, func a function\n",
    "       Mutates L by replacing each element, e, of L by f(e)\"\"\"\n",
    "    for i in range(len(L)):\n",
    "        L[i] = func(L[i])\n",
    "      \n",
    "L = [1, -2, 3.33]\n",
    "print('L =', L)\n",
    "print('\\nApply abs to each element of L.')\n",
    "\n",
    "applyToEach(L, abs)\n",
    "\n",
    "print('L =', L)\n",
    "\n",
    "print('\\nApply int to each element of', L)\n",
    "\n",
    "applyToEach(L, int)\n",
    "\n",
    "print('L =', L)\n",
    "\n",
    "print('\\nApply factorial to each element of', L)\n",
    "\n",
    "applyToEach(L, factR)\n",
    "\n",
    "print('L =', L)\n",
    "\n",
    "print('\\nApply Fibonnaci to each element of', L)\n",
    "\n",
    "applyToEach(L, fib)\n",
    "\n",
    "print('L =', L)"
   ]
  },
  {
   "cell_type": "markdown",
   "metadata": {},
   "source": [
    "## map: a built-in higher-order function in Python\n",
    "\n",
    "* the <b>simplest form</b> ：\n",
    "\n",
    "  * the first argument to `map` is <b>a unary function</b>, a function that has only <b>one parameter</b> \n",
    "  * the second argument is any ordered collection of values  suitable as arguments to the first argument."
   ]
  },
  {
   "cell_type": "code",
   "execution_count": null,
   "metadata": {},
   "outputs": [],
   "source": [
    "list(map(factR, [1, 2, 3]))"
   ]
  },
  {
   "cell_type": "code",
   "execution_count": null,
   "metadata": {},
   "outputs": [],
   "source": [
    "l=[]\n",
    "for i in [1,2,3]:\n",
    "    l.append(factR(i))\n",
    "l"
   ]
  },
  {
   "cell_type": "markdown",
   "metadata": {},
   "source": [
    "* **More generally** \n",
    "\n",
    "  * the first argument to `map` can be of <b>function of n arguments</b>, in which case it must be followed by <b>n subsequent ordered collections</b>"
   ]
  },
  {
   "cell_type": "code",
   "execution_count": null,
   "metadata": {},
   "outputs": [],
   "source": [
    "help(min)"
   ]
  },
  {
   "cell_type": "code",
   "execution_count": null,
   "metadata": {},
   "outputs": [],
   "source": [
    "#Page 64\n",
    "L1 = [1, 28, 36]\n",
    "L2 = [2, 57, 9]\n",
    "\n",
    "print(list(map(min, L1, L2)))  # min"
   ]
  },
  {
   "cell_type": "code",
   "execution_count": null,
   "metadata": {},
   "outputs": [],
   "source": [
    "L1 = [1, 28, 36]\n",
    "L2 = [2, 57, 9]\n",
    "lmin=[]\n",
    "for i in range(3):\n",
    "    lmin.append(min(L1[i],L2[i]))\n",
    "print(lmin)"
   ]
  },
  {
   "cell_type": "markdown",
   "metadata": {},
   "source": [
    "## Further Reading\n",
    "\n",
    "The Python Standard Library:2. Built-in Functions\n",
    "\n",
    "https://docs.python.org/3/library/functions.html#map\n"
   ]
  },
  {
   "cell_type": "code",
   "execution_count": null,
   "metadata": {},
   "outputs": [],
   "source": [
    "help(map)"
   ]
  },
  {
   "cell_type": "markdown",
   "metadata": {
    "collapsed": true
   },
   "source": [
    "## 5.4 Strings, Tuples, and Lists\n",
    "\n",
    "We have looked at three different <b>sequence</b> types: \n",
    "\n",
    "* str\n",
    "\n",
    "* tuple\n",
    "\n",
    "* list.\n",
    "\n",
    "<p>Common operations on sequence types\n",
    "<img src=\"./img/fig56.PNG\"/>"
   ]
  },
  {
   "cell_type": "markdown",
   "metadata": {},
   "source": [
    " <p>Some of their other similarities and differences are summarized in Figure 5.7.\n",
    "<img src=\"./img/fig57.PNG\"/>\n",
    "\n",
    "<p>Python programmers tend to use <b style=\"color:blue\">lists</b> far more <b style=\"color:blue\">often</b> than <b>tuples</b>. \n",
    "\n",
    "Since lists are **mutable**, they can be **constructed incrementally** during a computation."
   ]
  },
  {
   "cell_type": "code",
   "execution_count": null,
   "metadata": {},
   "outputs": [],
   "source": [
    "#Page 66\n",
    "L=[1, -2, 3.33,4]\n",
    "evenElems = []\n",
    "for e in L:\n",
    "    if e%2 == 0:\n",
    "        evenElems.append(e)\n",
    "        \n",
    "print(evenElems)"
   ]
  },
  {
   "cell_type": "markdown",
   "metadata": {},
   "source": [
    "## Built-in Methods of strings\n",
    "\n",
    "Since strings can contain only characters, there are <b>many built-in methods</b> that make life easy\n",
    "\n",
    "Keep in mind that since strings are immutable these all return values and have no side effect.\n",
    "<p>\n",
    "<img src=\"./img/fig58.PNG\"/>"
   ]
  },
  {
   "cell_type": "code",
   "execution_count": null,
   "metadata": {},
   "outputs": [],
   "source": [
    "s='David Guttag plays basketball David'\n",
    "s.find('David')"
   ]
  },
  {
   "cell_type": "code",
   "execution_count": null,
   "metadata": {},
   "outputs": [],
   "source": [
    "s.rfind('David')"
   ]
  },
  {
   "cell_type": "code",
   "execution_count": null,
   "metadata": {},
   "outputs": [],
   "source": [
    "s=\"David Guttag plays basketball     \"  # trailing whitespace space\n",
    "s.rstrip()"
   ]
  },
  {
   "cell_type": "markdown",
   "metadata": {},
   "source": [
    "#  s.split(d)\n",
    "\n",
    "* Splits `s` using `d` as a delimiter\n"
   ]
  },
  {
   "cell_type": "code",
   "execution_count": null,
   "metadata": {},
   "outputs": [],
   "source": [
    "s='David*Guttag*plays*basketball'\n",
    "s.split('*')"
   ]
  },
  {
   "cell_type": "code",
   "execution_count": null,
   "metadata": {},
   "outputs": [],
   "source": [
    "s"
   ]
  },
  {
   "cell_type": "markdown",
   "metadata": {},
   "source": [
    "###  whitespace  characters:\n",
    "\n",
    "if d is omitted,\n",
    "```python\n",
    "s.split()\n",
    "```\n",
    "the substrings are seperated by  whitespace  characters:\n",
    "\n",
    "|space| tab |newline | return |formfeed|\n",
    "|:---:|----:|-------:|-------:|------:|\n",
    "|     |  \\t |  \\n  | \\r    |  \\f  |\n",
    " "
   ]
  },
  {
   "cell_type": "code",
   "execution_count": null,
   "metadata": {},
   "outputs": [],
   "source": [
    "s='David\\t Guttag \\n plays\\r basketball\\f whitespace characters '\n",
    "s.split()   "
   ]
  },
  {
   "cell_type": "code",
   "execution_count": null,
   "metadata": {},
   "outputs": [],
   "source": [
    "print(s)"
   ]
  },
  {
   "cell_type": "markdown",
   "metadata": {},
   "source": [
    "## s.split(d) to read plain text files:\n",
    "\n",
    "* 15_UNDERSTANDING_EXPERIMENTAL_DATA \n",
    "\n",
    "[This chapter is all about understanding experimental data](./15_UNDERSTANDING_EXPERIMENTAL_DATA.ipynb)\n"
   ]
  },
  {
   "cell_type": "markdown",
   "metadata": {},
   "source": [
    "<hr style=\"height:2px;color:blue\"/>\n",
    "## 5.5 Dictionaries"
   ]
  },
  {
   "cell_type": "code",
   "execution_count": null,
   "metadata": {},
   "outputs": [],
   "source": [
    "monthNumbers = {'Jan':1, 'Feb':2, 'Mar':3, 'Apr':4, 'May':5,\n",
    "1:'Jan', 2:'Feb', 3:'Mar', 4:'Apr', 5:'May'}\n",
    "\n",
    "# The entries in a dict are unordered and cannot be accessed with an index\n",
    "# get value from key\n",
    "\n",
    "print('The Mar is the', format(monthNumbers['Mar']),'month \\n')\n",
    "\n",
    "print('The third month is ' + monthNumbers[3],'\\n')  \n",
    "\n",
    "dist = monthNumbers['Apr'] - monthNumbers['Jan'] \n",
    "print('Apr and Jan are', dist, 'months apart')"
   ]
  },
  {
   "cell_type": "markdown",
   "metadata": {},
   "source": [
    "Think of a dictionary as a set of\n",
    "\n",
    "<b>key：value</b> \n",
    "```python\n",
    "'Jan':1\n",
    "1:'Jan'\n",
    "```\n",
    "pairs.\n",
    "\n",
    "Literals of type dict are enclosed in  <b style=\"color:blue\">curly braces  {}  </b>, \n",
    "\n",
    "and each element is written as a key followed by <b style=\"color:blue\">a colon :</b> followed by a value.\n",
    "\n",
    "<b style=\"color:blue\">Keys</b> can be values of <b>any immutable type</b>.\n",
    "\n",
    "The **entries** in a dict are <b>unordered</b> and cannot be accessed with an index\n",
    "\n",
    "**Tuples** are immutable,<b style=\"color:blue\">aliasing is never a worry</b>.can be used as<b> keys in dictionaries."
   ]
  },
  {
   "cell_type": "markdown",
   "metadata": {},
   "source": [
    "The method <b>keys</b> returns a list containing the keys of a dictionary. "
   ]
  },
  {
   "cell_type": "code",
   "execution_count": null,
   "metadata": {},
   "outputs": [],
   "source": [
    "print(monthNumbers.keys()) # The order in which the keys appear is not defined."
   ]
  },
  {
   "cell_type": "markdown",
   "metadata": {},
   "source": [
    "When a \n",
    "\n",
    "```python\n",
    "for <item> in <a dictionary>\n",
    "```\n",
    "is used to iterate over **a dictionary**, \n",
    "\n",
    "<b>the value</b> assigned to the iteration variable is a <b>key</b>, not a **key：value ** pair."
   ]
  },
  {
   "cell_type": "code",
   "execution_count": null,
   "metadata": {},
   "outputs": [],
   "source": [
    "keys = []\n",
    "for e in monthNumbers:\n",
    "    keys.append(e) # the value s a key， not a key/value pair.\n",
    "print(keys)"
   ]
  },
  {
   "cell_type": "markdown",
   "metadata": {},
   "source": [
    "##  If you want to get <strong style=\"color:blue\">key:value</strong> pair\n",
    "\n",
    "* **dict.items()**: Return a new view of the dictionary’s items ((key, value) pairs). \n",
    "  \n",
    "  * (key,value) in **tuple** "
   ]
  },
  {
   "cell_type": "code",
   "execution_count": null,
   "metadata": {},
   "outputs": [],
   "source": [
    "pairs = []\n",
    "for (key,value) in monthNumbers.items():\n",
    "    pairs.append((key,value)) \n",
    "\n",
    "print('for (key,value) in monthNumbers.items():')\n",
    "for item in pairs:\n",
    "    print(item)\n",
    "\n",
    "# also\n",
    "print('\\n for keyvalue) in monthNumbers.items():')\n",
    "for keyvalue in monthNumbers.items():\n",
    "    print(keyvalue)\n",
    "    print(keyvalue[0],keyvalue[1])"
   ]
  },
  {
   "cell_type": "markdown",
   "metadata": {
    "collapsed": true
   },
   "source": [
    "<h3>Dictionaries are one of  <b style=\"color:blue\">the great things</b> about Python. </h3>\n",
    "\n",
    "\n",
    "<h3>They  <b style=\"color:blue\">greatly reduce </b> the difficulty of writing a variety of programs.</h3>\n",
    "\n",
    "Most programming languages do not contain a built-in type that provides a mapping from **keys** to **values**."
   ]
  },
  {
   "cell_type": "code",
   "execution_count": null,
   "metadata": {},
   "outputs": [],
   "source": [
    "#Page 68, Figure 5.9\n",
    "\n",
    "# English <-> France\n",
    "\n",
    "EtoF = {'bread':'pain', 'wine':'vin', 'with':'avec', 'I':'Je',\n",
    "        'eat':'mange', 'drink':'bois', 'John':'Jean',\n",
    "        'friends':'amis', 'and': 'et', 'of':'du','red':'rouge'}\n",
    "\n",
    "FtoE = {'pain':'bread', 'vin':'wine', 'avec':'with', 'Je':'I',\n",
    "        'mange':'eat', 'bois':'drink', 'Jean':'John',\n",
    "        'amis':'friends', 'et':'and', 'du':'of', 'rouge':'red'}\n",
    "\n",
    "dicts = {'English to French':EtoF, 'French to English':FtoE}\n",
    "\n",
    "def translateWord(word, dictionary):\n",
    "    if word in list(dictionary.keys()):\n",
    "        return dictionary[word]\n",
    "    elif word != '':\n",
    "        return '\"' + word + '\"'\n",
    "    return word\n",
    "    \n",
    "def translate(phrase, dicts, direction):\n",
    "    UCLetters = 'ABCDEFGHIJKLMNOPQRSTUVWXYZ'\n",
    "    LCLetters = 'abcdefghijklmnopqrstuvwxyz'\n",
    "    letters = UCLetters + LCLetters\n",
    "    \n",
    "    dictionary = dicts[direction]\n",
    "    \n",
    "    translation = ''\n",
    "    word = ''\n",
    "    \n",
    "    for c in phrase:\n",
    "        if c in letters:\n",
    "            word = word + c\n",
    "        else:\n",
    "            translation = (translation\n",
    "                          + translateWord(word, dictionary) + c)\n",
    "            word = ''\n",
    "    return translation + ' ' + translateWord(word, dictionary)\n",
    "\n",
    "print(translate('I drink good red wine, and eat bread.',\n",
    "                dicts,'English to French'))\n",
    "\n",
    "print(translate('Je bois du vin rouge.',\n",
    "                dicts, 'French to English'))"
   ]
  },
  {
   "cell_type": "markdown",
   "metadata": {},
   "source": [
    "## Dictionaries are <font color=\"blue\">mutable</font>"
   ]
  },
  {
   "cell_type": "code",
   "execution_count": null,
   "metadata": {},
   "outputs": [],
   "source": [
    "#Page 69\n",
    "FtoE['bois'] = 'drink'  \n",
    "print(translate('Je bois du vin rouge.', dicts, 'French to English'))\n",
    "\n",
    "FtoE['bois'] = 'wood' \n",
    "print(translate('Je bois du vin rouge.', dicts, 'French to English'))\n",
    "\n",
    "FtoE['bois'] = 'drink'  \n",
    "print(translate('Je bois du vin rouge.', dicts, 'French to English'))"
   ]
  },
  {
   "cell_type": "markdown",
   "metadata": {},
   "source": [
    "We <b>add elements</b> to a dictionary by <b>assigning a value to an unused key</b>,\n",
    "```python\n",
    "key is'blanc'\n",
    "\n",
    "value is'white'\n",
    "```"
   ]
  },
  {
   "cell_type": "code",
   "execution_count": null,
   "metadata": {},
   "outputs": [],
   "source": [
    "FtoE['blanc'] = 'white'\n",
    "print(FtoE,'\\n')\n",
    "print(FtoE['blanc'])\n",
    "FtoE['blanc11'] = 'white111'\n",
    "print(FtoE,'\\n')\n",
    "FtoE['blanc---11'] = 'white---111'\n",
    "print(FtoE,'\\n')"
   ]
  },
  {
   "cell_type": "markdown",
   "metadata": {},
   "source": [
    "## Dictionaries are mutable\n",
    "\n",
    "### Example :data table\n"
   ]
  },
  {
   "cell_type": "code",
   "execution_count": null,
   "metadata": {},
   "outputs": [],
   "source": [
    "tablefields={}\n",
    "tablefields['name']='zhangsan'\n",
    "tablefields['age']='28'\n",
    "print(tablefields)\n",
    "#\n",
    "tablefields['city']='nanjing'\n",
    "print(tablefields)"
   ]
  },
  {
   "cell_type": "code",
   "execution_count": null,
   "metadata": {},
   "outputs": [],
   "source": [
    "%%file ./src/personrecords.txt\n",
    "name        age\n",
    "zhangsan    28\n",
    "lishi       18 "
   ]
  },
  {
   "cell_type": "markdown",
   "metadata": {},
   "source": [
    "#### add field city to the table file"
   ]
  },
  {
   "cell_type": "code",
   "execution_count": null,
   "metadata": {},
   "outputs": [],
   "source": [
    "%%file ./src/personrecords.txt\n",
    "name        age      city\n",
    "zhangsan    28      nanjing\n",
    "lishi       18      shanghai"
   ]
  },
  {
   "cell_type": "code",
   "execution_count": null,
   "metadata": {},
   "outputs": [],
   "source": [
    "records=[]\n",
    "fields=[]\n",
    "\n",
    "personrecords=open('./src/personrecords.txt','r')\n",
    "\n",
    "# 1 get string of field\n",
    "fields=personrecords.readline().split()\n",
    "print(fields)\n",
    "\n",
    "# 2 read each record into dict：key is field string\n",
    "for line in personrecords:\n",
    "    currowrecord=line.split()\n",
    "    # 2.1 init dict\n",
    "    rowrecord={}\n",
    "    for i in range(len(fields)):\n",
    "        # 2.2 add key:value to dict\n",
    "        rowrecord[fields[i]]=currowrecord[i]\n",
    "    # 2.3 add dict to list:records\n",
    "    records.append(rowrecord)\n",
    "\n",
    "personrecords.close()\n",
    "\n",
    "for item in records:\n",
    "    print(item)\n",
    "    print(item['name'])\n",
    "    print(item['age'])"
   ]
  },
  {
   "cell_type": "markdown",
   "metadata": {},
   "source": [
    "### csv.DictReader"
   ]
  },
  {
   "cell_type": "code",
   "execution_count": null,
   "metadata": {},
   "outputs": [],
   "source": [
    "import  csv\n",
    "csvfile = open(filename, 'r')\n",
    "reader = csv.DictReader(csvfile)\n",
    "for line in reader:\n",
    "     i = int(line['NID'])"
   ]
  },
  {
   "cell_type": "code",
   "execution_count": null,
   "metadata": {},
   "outputs": [],
   "source": [
    "def DictReader(file):\n",
    "    records=[]\n",
    "    fields=file.readline().split()\n",
    "    print(fields)\n",
    "\n",
    "    for line in file:\n",
    "        currowrecord=line.split()\n",
    "        rowrecord={}\n",
    "        for i in range(len(fields)):\n",
    "            rowrecord[fields[i]]=currowrecord[i]\n",
    "        records.append(rowrecord)\n",
    "    return records\n",
    "\n",
    "filerecords=open('./src/personrecords.txt','r')\n",
    "reader=DictReader(filerecords)\n",
    "for line in reader:\n",
    "    print(line)\n",
    "    print(line['name'])\n",
    "    print(line['age'])\n",
    "    print(line['city'])\n",
    "    \n",
    "filerecords.close()   "
   ]
  },
  {
   "cell_type": "markdown",
   "metadata": {},
   "source": [
    "Objects of any immutable type, e.g., type **tuple**, may be used as **dictionary keys**.\n",
    "\n",
    "Imagine for example using a tuple of the form \n",
    "\n",
    "```python\n",
    "(flightNumber, day) \n",
    "```\n",
    "\n",
    "to represent airline flights. \n",
    "\n",
    "It would then be easy to use such tuples as keys in a dictionary\n",
    "\n",
    "implementing a mapping from flights to arrival times."
   ]
  },
  {
   "cell_type": "code",
   "execution_count": null,
   "metadata": {},
   "outputs": [],
   "source": [
    "# tuple\n",
    "Airline_Flight1=('C1208','2013-05-21')\n",
    "Airline_Flight2=('C1230','2013-05-22')\n",
    " \n",
    "# tuple as dictionary keys.\n",
    "Arrival_Times={Airline_Flight1:'2013-05-21 09:50:35',Airline_Flight2:'2013-05-21 10:50:35'}\n",
    "\n",
    "\n",
    "Airline_Flight1_Arrival_Time=Arrival_Times[Airline_Flight1]\n",
    "print('Airline_Flight1_Arrival_Time:',Airline_Flight1_Arrival_Time,'\\n')\n",
    "\n",
    "Airline_Flight2_Arrival_Time=Arrival_Times[Airline_Flight2]\n",
    "print('Airline_Flight2_Arrival_Time:',Airline_Flight2_Arrival_Time)\n"
   ]
  },
  {
   "cell_type": "markdown",
   "metadata": {},
   "source": [
    "### Some common operations on dicts\n",
    "<img src=\"./img/fig510.PNG\"/> "
   ]
  },
  {
   "cell_type": "code",
   "execution_count": null,
   "metadata": {},
   "outputs": [],
   "source": [
    "FtoE.get('blanc')"
   ]
  },
  {
   "cell_type": "code",
   "execution_count": null,
   "metadata": {},
   "outputs": [],
   "source": [
    "FtoE.get('blan999ccc','none')"
   ]
  },
  {
   "cell_type": "markdown",
   "metadata": {},
   "source": [
    "**Dictionary view objects**\n",
    "\n",
    "The objects returned by \n",
    "  \n",
    "* dict.keys()\n",
    "\n",
    "        \n",
    "* dict.values() \n",
    "    \n",
    "    \n",
    "* dict.items()\n",
    "  \n",
    "are view objects.\n",
    "  \n",
    "They provide a dynamic view on the dictionary’s entries, which means that when the dictionary changes, the view reflects these changes."
   ]
  },
  {
   "cell_type": "code",
   "execution_count": 11,
   "metadata": {},
   "outputs": [],
   "source": [
    "dishes = {'eggs': 2, 'sausage': 1, 'bacon': 1, 'spam': 500}\n",
    "keys = dishes.keys()\n",
    "values = dishes.values()"
   ]
  },
  {
   "cell_type": "code",
   "execution_count": 12,
   "metadata": {},
   "outputs": [
    {
     "name": "stdout",
     "output_type": "stream",
     "text": [
      "504\n"
     ]
    }
   ],
   "source": [
    "# iteration\n",
    "n = 0\n",
    "for val in values:\n",
    "    n += val\n",
    "print(n)"
   ]
  },
  {
   "cell_type": "code",
   "execution_count": 13,
   "metadata": {},
   "outputs": [
    {
     "data": {
      "text/plain": [
       "['eggs', 'sausage', 'bacon', 'spam']"
      ]
     },
     "execution_count": 13,
     "metadata": {},
     "output_type": "execute_result"
    }
   ],
   "source": [
    "# keys and values are iterated over in the same order\n",
    "list(keys)"
   ]
  },
  {
   "cell_type": "code",
   "execution_count": 14,
   "metadata": {},
   "outputs": [
    {
     "data": {
      "text/plain": [
       "[2, 1, 1, 500]"
      ]
     },
     "execution_count": 14,
     "metadata": {},
     "output_type": "execute_result"
    }
   ],
   "source": [
    "list(values)"
   ]
  },
  {
   "cell_type": "code",
   "execution_count": 15,
   "metadata": {},
   "outputs": [
    {
     "data": {
      "text/plain": [
       "['bacon', 'spam']"
      ]
     },
     "execution_count": 15,
     "metadata": {},
     "output_type": "execute_result"
    }
   ],
   "source": [
    "# view objects are dynamic and reflect dict changes\n",
    "del dishes['eggs']\n",
    "del dishes['sausage']\n",
    "list(keys)"
   ]
  },
  {
   "cell_type": "code",
   "execution_count": 16,
   "metadata": {},
   "outputs": [
    {
     "name": "stdout",
     "output_type": "stream",
     "text": [
      "501\n"
     ]
    }
   ],
   "source": [
    "n = 0\n",
    "for val in values:\n",
    "    n += val\n",
    "print(n)"
   ]
  },
  {
   "cell_type": "code",
   "execution_count": 28,
   "metadata": {},
   "outputs": [
    {
     "name": "stdout",
     "output_type": "stream",
     "text": [
      "eggs\n",
      "eggs 2\n",
      "sausage\n",
      "sausage 1\n",
      "bacon\n",
      "bacon 1\n",
      "spam\n",
      "spam 500\n",
      "eggs\n",
      "eggs 2\n",
      "sausage\n",
      "sausage 1\n",
      "bacon\n",
      "bacon 1\n",
      "spam\n",
      "spam 500\n",
      "2\n",
      "1\n",
      "1\n",
      "500\n",
      "('eggs', 2)\n",
      "('sausage', 1)\n",
      "('bacon', 1)\n",
      "('spam', 500)\n",
      "eggs 2\n",
      "sausage 1\n",
      "bacon 1\n",
      "spam 500\n"
     ]
    }
   ],
   "source": [
    "dishes = {'eggs': 2, 'sausage': 1, 'bacon': 1, 'spam': 500}\n",
    "\n",
    "for key in dishes:\n",
    "    print(key)\n",
    "    print(key, dishes[key])\n",
    "for key in dishes.keys():\n",
    "    print(key)\n",
    "    print(key, dishes[key])\n",
    "    \n",
    "for value in dishes.values():\n",
    "    print(value)\n",
    "\n",
    "for d in dishes.items():\n",
    "    print(d)  \n",
    "for (key,value) in dishes.items():\n",
    "    print(key,value)    "
   ]
  },
  {
   "cell_type": "markdown",
   "metadata": {},
   "source": [
    "##  Set Types \n",
    "\n",
    "A set object is an unordered collection of distinct hashable objects(no duplicate elements).\n",
    "\n",
    "The set type is mutable\n",
    "\n",
    "Basic uses include membership testing and eliminating duplicate entries. \n",
    "\n",
    "Curly braces or the **set()** function can be used to create sets. \n",
    "\n",
    "Note: to create an empty set you have to use **set()**, **not {}**; \n",
    "\n",
    "the latter creates an empty dictionary\n",
    "\n"
   ]
  },
  {
   "cell_type": "code",
   "execution_count": null,
   "metadata": {},
   "outputs": [],
   "source": [
    "set1=set()\n",
    "type(set1)"
   ]
  },
  {
   "cell_type": "code",
   "execution_count": null,
   "metadata": {},
   "outputs": [],
   "source": [
    "any={}\n",
    "type(any)"
   ]
  },
  {
   "cell_type": "code",
   "execution_count": null,
   "metadata": {},
   "outputs": [],
   "source": [
    "basket = {'apple', 'orange', 'apple', 'pear', 'orange', 'banana'}\n",
    "print(basket) # show that duplicates have been removed\n",
    "'orange' in basket"
   ]
  },
  {
   "cell_type": "markdown",
   "metadata": {},
   "source": [
    "## set operations\n",
    "\n",
    "Set objects also support mathematical operations like\n",
    "\n",
    "union, intersection, difference, and symmetric difference.\n",
    "\n",
    "  * | operator : union\n",
    "    \n",
    "  * & operator : intersection\n",
    "    \n",
    "  * \"-\" operator : difference\n",
    "    \n",
    "  * ^ operator : symmetric_difference   "
   ]
  },
  {
   "cell_type": "code",
   "execution_count": null,
   "metadata": {},
   "outputs": [],
   "source": [
    "a = set('abracadabra')\n",
    "b = set('alacazam')\n",
    "print(a)\n",
    "print(b)"
   ]
  },
  {
   "cell_type": "code",
   "execution_count": null,
   "metadata": {},
   "outputs": [],
   "source": [
    "a - b # letters in a but not in b"
   ]
  },
  {
   "cell_type": "code",
   "execution_count": null,
   "metadata": {},
   "outputs": [],
   "source": [
    "a | b # letters in either a or b"
   ]
  },
  {
   "cell_type": "code",
   "execution_count": null,
   "metadata": {},
   "outputs": [],
   "source": [
    "a & b # letters in both a and b"
   ]
  },
  {
   "cell_type": "code",
   "execution_count": null,
   "metadata": {},
   "outputs": [],
   "source": [
    "a ^ b # letters in a or b but not both"
   ]
  },
  {
   "cell_type": "markdown",
   "metadata": {},
   "source": [
    "### set comprehensions\n",
    "\n",
    "Similarly to list comprehensions, set comprehensions are also supported:"
   ]
  },
  {
   "cell_type": "code",
   "execution_count": null,
   "metadata": {},
   "outputs": [],
   "source": [
    "a = {x for x in 'abracadabra' if x not in 'abc'}\n",
    "a"
   ]
  },
  {
   "cell_type": "markdown",
   "metadata": {},
   "source": [
    "## Further Reading\n",
    "\n",
    "* Python Library: 4.10 Mapping Types — dict\n",
    "    \n",
    "  * https://docs.python.org/dev/library/stdtypes.html#mapping-types-dict\n",
    "  \n",
    "  * A mapping object maps hashable values to arbitrary objects. Mappings are mutable objects. There is currently\n",
    "only one standard mapping type, the dictionary\n",
    "\n",
    "* Python Tutorial 5.4 Sets\n",
    "\n",
    "* Python Library: 4.9. Set Types — set, frozenset\n",
    "\n",
    "  * https://docs.python.org/3/library/stdtypes.html#set-types-set-frozenset"
   ]
  },
  {
   "cell_type": "markdown",
   "metadata": {
    "collapsed": true
   },
   "source": [
    "## Key Points:\n",
    "\n",
    "* Tuple，list，dict\n",
    "\n",
    "* **Mutaing**:list,dict\n",
    "\n",
    "* **Cloning**: aliasing\n",
    "\n",
    "* Higher-order function"
   ]
  },
  {
   "cell_type": "code",
   "execution_count": null,
   "metadata": {},
   "outputs": [],
   "source": []
  }
 ],
 "metadata": {
  "kernelspec": {
   "display_name": "Python 3",
   "language": "python",
   "name": "python3"
  },
  "language_info": {
   "codemirror_mode": {
    "name": "ipython",
    "version": 3
   },
   "file_extension": ".py",
   "mimetype": "text/x-python",
   "name": "python",
   "nbconvert_exporter": "python",
   "pygments_lexer": "ipython3",
   "version": "3.6.5"
  },
  "widgets": {
   "state": {},
   "version": "1.1.2"
  }
 },
 "nbformat": 4,
 "nbformat_minor": 1
}
