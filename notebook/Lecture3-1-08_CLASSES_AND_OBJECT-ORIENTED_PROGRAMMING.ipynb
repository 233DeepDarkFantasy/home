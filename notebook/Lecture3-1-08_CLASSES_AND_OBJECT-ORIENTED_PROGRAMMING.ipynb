{
 "cells": [
  {
   "cell_type": "markdown",
   "metadata": {},
   "source": [
    "# 8 CLASSES AND OBJECT-ORIENTED PROGRAMMING"
   ]
  },
  {
   "cell_type": "markdown",
   "metadata": {
    "slideshow": {
     "slide_type": "subslide"
    }
   },
   "source": [
    "We now turn our attention to our last major topic related to programming in Python: **using classes to organize programs around modules and data abstractions** .Classes can be used in many different ways. In this book we emphasize using them in the context of **object-oriented programming.**\n",
    "\n",
    "The key to <b>object-oriented programming</b> is thinking about <b>objects</b> as collections of both <b>data</b> and <b>the methods</b> that operate on that data.\n",
    "\n",
    "* objects(data+the methods)"
   ]
  },
  {
   "cell_type": "markdown",
   "metadata": {},
   "source": [
    "## 8.1 Abstract Data Types and Classes"
   ]
  },
  {
   "cell_type": "markdown",
   "metadata": {},
   "source": [
    "An <b>abstract data type</b> is a set of **objects** and the **operations** on those objects.\n",
    "\n",
    "These are <b>bound together</b> so that one can pass an object from one part of a program to another, and in doing\n",
    "so provide access not only to the **data attributes** of the object but also to **operations** that make it easy to manipulate that data.\n",
    "\n",
    ">The `specifications` of those operations define an **interface** between the abstract data type and the rest of the program. The >**interface** defines the **behavior** of the operations—what they do, but **not how they do it**. The interface thus provides an >**abstraction barrier** that isolates the rest of the program from the data structures, algorithms, and code involved in providing a >realization of the type abstraction.\n",
    ">\n",
    ">* the rest of the program - **isolated by interface** - a realization of the type abstraction.\n",
    "\n",
    "Programming is about managing <b>complexity</b> in a way that <b>facilitates change</b>.\n",
    "\n",
    "There are two powerful mechanisms available for accomplishing this: decomposition and abstraction  \n",
    "\n",
    "* **Decomposition** creates **structure** in a program\n",
    "\n",
    "* **Abstraction** suppresses detail. The key is to suppress the **appropriate details**\n",
    "\n",
    "---\n",
    "\n",
    ">Apply **abstraction** and **decomposition** to solve more complex problems\n",
    ">\n",
    ">* Can `decompose` a `large` problem into `parts` and design algorithms to solve them\n",
    ">* Can recognise `similar` problems, and apply `generic` solutions and abstractions\n",
    ">* Can effectively `combine` functionality from multiple libraries or APIs and refer to documentation\n",
    ">* Can write code in a `readable` way, and/or includes comments where necessary\n",
    "---\n",
    "In Python, one implements **data abstractions** using **class**.\n",
    "\n",
    "**The code of `Class IntSet`** provides a straightforward implementation of a set-of-integers abstraction\n"
   ]
  },
  {
   "cell_type": "code",
   "execution_count": 1,
   "metadata": {
    "scrolled": true
   },
   "outputs": [],
   "source": [
    "class IntSet(object):\n",
    "    \"\"\"An intSet is a set of integers\"\"\"\n",
    "    # Information about the implementation (not the abstraction)\n",
    "    # The value of the set is represented by a list of ints,self.vals.\n",
    "    # Each int in the set occurs in self.vals exactly once.\n",
    "    \n",
    "#    def __init__(self):\n",
    "#        \"\"\"Create an empty set of integers\"\"\"\n",
    "#        self.vals = []\n",
    "    \n",
    "    def __init__(self, e):\n",
    "        \"\"\"Create an empty set of integers\"\"\"\n",
    "        self.vals = [e]\n",
    "\n",
    "    def insert(self, e):\n",
    "        \"\"\"Assumes e is an integer and inserts e into self\"\"\"\n",
    "        if not e in self.vals:\n",
    "            self.vals.append(e)\n",
    "\n",
    "    def member(self, e):\n",
    "        \"\"\"Assumes e is an integer\n",
    "           Returns True if e is in self, and False otherwise\"\"\"\n",
    "        return e in self.vals\n",
    "\n",
    "    def remove(self, e):\n",
    "        \"\"\"Assumes e is an integer and removes e from self\n",
    "           Raises ValueError if e is not in self\"\"\"\n",
    "        try:\n",
    "            self.vals.remove(e)\n",
    "        except:\n",
    "            raise ValueError(str(e) + ' not found')\n",
    "\n",
    "    def getMembers(self):\n",
    "        \"\"\"Returns a list containing the elements of self.\n",
    "           Nothing can be assumed about the order of the elements\"\"\"\n",
    "        return self.vals[:]\n",
    "\n",
    "    def __str__(self):\n",
    "        \"\"\"Returns a string representation of self\"\"\"\n",
    "        self.vals.sort()\n",
    "        result = ''\n",
    "        for e in self.vals:\n",
    "            result = result + str(e) + ','\n",
    "        return('{' + result[:-1] + '}') #-1 omits trailing comma"
   ]
  },
  {
   "cell_type": "code",
   "execution_count": 2,
   "metadata": {},
   "outputs": [
    {
     "name": "stdout",
     "output_type": "stream",
     "text": [
      "<class 'type'>\n",
      "<class 'function'>\n"
     ]
    }
   ],
   "source": [
    "print(type(IntSet))\n",
    "print(type(IntSet.insert))"
   ]
  },
  {
   "cell_type": "markdown",
   "metadata": {},
   "source": [
    "A class definition \n",
    "\n",
    "* Creates <b>an object</b> of <b>class type</b>  \n",
    "\n",
    "* A set of objects</b> of <b>class function</b>\n",
    "\n",
    "Classes support two kinds of operations:\n",
    "\n",
    "* <b>Instantiation</b> is used to create instances of the class.\n",
    "\n",
    "\n",
    " ```python\n",
    " \n",
    "    def __init__(self):\n",
    "    \n",
    "    s = IntSet()\n",
    " ```\n",
    "\n",
    "* <b>Attribute references</b> use **dot notation** to access attributes associated with the class. \n",
    "\n",
    " ```python\n",
    "    s.insert\n",
    "    s.member\n",
    " ```"
   ]
  },
  {
   "cell_type": "markdown",
   "metadata": {},
   "source": [
    "#### Attribute：Method&Data \n",
    "\n",
    "* **Method attributes** \n",
    "\n",
    " When a function definition occurs within a class definition, \n",
    "\n",
    " the defined function is called <b> a method</b> and is associated with the class.\n",
    "\n",
    " Method attributesare defined in a class definition, \n"
   ]
  },
  {
   "cell_type": "code",
   "execution_count": 4,
   "metadata": {},
   "outputs": [
    {
     "name": "stdout",
     "output_type": "stream",
     "text": [
      "{3}\n",
      "True\n"
     ]
    }
   ],
   "source": [
    "s = IntSet()\n",
    "\n",
    "s.insert(3)\n",
    "print(s)\n",
    "\n",
    "print(s.member(3))"
   ]
  },
  {
   "cell_type": "markdown",
   "metadata": {},
   "source": [
    "* **Data attribute**\n",
    "    \n",
    " ```python\n",
    "    def __init__(self):\n",
    "        \"\"\"Create an empty set of integers\"\"\"\n",
    "        self.vals = []\n",
    "   ```\n",
    "\n",
    "  self.vals"
   ]
  },
  {
   "cell_type": "code",
   "execution_count": 6,
   "metadata": {},
   "outputs": [
    {
     "data": {
      "text/plain": [
       "[4, 6]"
      ]
     },
     "execution_count": 6,
     "metadata": {},
     "output_type": "execute_result"
    }
   ],
   "source": [
    "s = IntSet()\n",
    "s.insert(4)\n",
    "s.vals\n",
    "s.insert(6)\n",
    "s.vals"
   ]
  },
  {
   "cell_type": "markdown",
   "metadata": {},
   "source": [
    "## special method\n",
    "<b>special method</b> names that start and end with **two underscores** **`__`**.\n",
    "\n",
    "<b>Special method 1</b> \n",
    "\n",
    "`__init__`. \n",
    "\n",
    "Whenever a class is <b>instantiated</b>, a call is made to the `__init__` method defined in that class."
   ]
  },
  {
   "cell_type": "code",
   "execution_count": 9,
   "metadata": {},
   "outputs": [
    {
     "name": "stdout",
     "output_type": "stream",
     "text": [
      "True\n"
     ]
    }
   ],
   "source": [
    "# def __init__(self, e):\n",
    "\n",
    "s = IntSet(3)\n",
    "print(s.member(3))"
   ]
  },
  {
   "cell_type": "markdown",
   "metadata": {},
   "source": [
    "**Special method 2**:\n",
    "\n",
    "The last method defined in the class, \n",
    "\n",
    "`__str__`\n",
    "\n",
    "```python\n",
    " def __str__(self):\n",
    "        \"\"\"Returns a string representation of self\"\"\"\n",
    "        self.vals.sort()\n",
    "        result = ''\n",
    "        for e in self.vals:\n",
    "            result = result + str(e) + ','\n",
    "        return('{' + result[:-1] + '}') #-1 omits trailing comma\n",
    "```\n",
    "\n",
    "** 1 the `print` command is used** \n",
    "\n",
    "the `__str__` function associated with the object to be printed is <b>automatically invoked</b>.\n"
   ]
  },
  {
   "cell_type": "markdown",
   "metadata": {},
   "source": [
    "** 2 calling `str` **\n",
    "\n",
    "the `__str__` function is automatically invoked to convert a instance of that class a string\n"
   ]
  },
  {
   "cell_type": "code",
   "execution_count": 10,
   "metadata": {},
   "outputs": [
    {
     "name": "stdout",
     "output_type": "stream",
     "text": [
      "{3,4}\n"
     ]
    },
    {
     "data": {
      "text/plain": [
       "'{3,4}'"
      ]
     },
     "execution_count": 10,
     "metadata": {},
     "output_type": "execute_result"
    }
   ],
   "source": [
    "s = IntSet(3)\n",
    "s.insert(3)\n",
    "s.insert(4)\n",
    "\n",
    "\n",
    "print(s)\n",
    "str(s)"
   ]
  },
  {
   "cell_type": "code",
   "execution_count": 11,
   "metadata": {},
   "outputs": [
    {
     "data": {
      "text/plain": [
       "'{3,4}'"
      ]
     },
     "execution_count": 11,
     "metadata": {},
     "output_type": "execute_result"
    }
   ],
   "source": [
    "s.__str__()"
   ]
  },
  {
   "cell_type": "markdown",
   "metadata": {},
   "source": [
    "#### Build-in __str__\n",
    "\n",
    "List,dict,tuple"
   ]
  },
  {
   "cell_type": "code",
   "execution_count": 12,
   "metadata": {},
   "outputs": [
    {
     "name": "stdout",
     "output_type": "stream",
     "text": [
      "[1, 2, 3]\n"
     ]
    },
    {
     "data": {
      "text/plain": [
       "'[1, 2, 3]'"
      ]
     },
     "execution_count": 12,
     "metadata": {},
     "output_type": "execute_result"
    }
   ],
   "source": [
    "l=[1,2,3]\n",
    "print(l)\n",
    "str(l)"
   ]
  },
  {
   "cell_type": "code",
   "execution_count": 13,
   "metadata": {},
   "outputs": [
    {
     "data": {
      "text/plain": [
       "'[1, 2, 3]'"
      ]
     },
     "execution_count": 13,
     "metadata": {},
     "output_type": "execute_result"
    }
   ],
   "source": [
    "l.__str__()"
   ]
  },
  {
   "cell_type": "code",
   "execution_count": null,
   "metadata": {},
   "outputs": [],
   "source": [
    "d={'a':1,'b':2}\n",
    "print(d)\n",
    "str(d)"
   ]
  },
  {
   "cell_type": "code",
   "execution_count": null,
   "metadata": {},
   "outputs": [],
   "source": [
    "d.__str__()"
   ]
  },
  {
   "cell_type": "code",
   "execution_count": null,
   "metadata": {},
   "outputs": [],
   "source": [
    "t=('a',1,'c')\n",
    "print(t)\n",
    "str(t)"
   ]
  },
  {
   "cell_type": "code",
   "execution_count": null,
   "metadata": {},
   "outputs": [],
   "source": [
    "t.__str__()"
   ]
  },
  {
   "cell_type": "markdown",
   "metadata": {},
   "source": [
    "\n",
    "### 8.1.1 Designing Programs Using Abstract Data Types\n",
    "\n",
    "<b>Abstract data types are a big deal.</b>\n",
    "\n",
    "They lead to a different way of thinking about <b>organizing</b> large programs.\n",
    "\n",
    "* 1 **Data abstraction**\n",
    "\n",
    "   program designers to **focus on the centrality of data objects** rather than functions.\n",
    "\n",
    "　 programming as **a process of combining relatively large chunks**, \n",
    "  \n",
    "   since **data abstractions** typically encompass <b>more functionality</b> than do individual\n",
    "functions.\n",
    "\n",
    "* 2 **the essence of programming**： a process of **composing abstractions**.\n",
    "\n",
    "\n",
    "The availability of <b>reusable abstractions</b> \n",
    "\n",
    "　　　<b>reduces development time</b>, \n",
    "\n",
    "　　 <b>more reliable programs</b>,\n"
   ]
  },
  {
   "cell_type": "markdown",
   "metadata": {},
   "source": [
    "### 8.1.2 Using Classes to Keep Track of Students and Faculty\n",
    "\n",
    "As an example use of classes, imagine that you are designing a program to help keep track of all the students and faculty at a university.\n",
    "\n",
    "Before rushing in to design a bunch of data structures, let’s think about some abstractions that might prove useful. \n",
    "\n",
    "Is there an abstraction that covers the <b>common attributes</b> of students, professors, and staff?\n",
    "\n",
    "Some would argue that they are all <b>human</b>. \n",
    "\n",
    "Figure 8.2 contains a class that incorporates some of the\n",
    "\n",
    "<b>common attributes (name and birthdate) of humans</b>."
   ]
  },
  {
   "cell_type": "code",
   "execution_count": 2,
   "metadata": {},
   "outputs": [],
   "source": [
    "import datetime\n",
    "\n",
    "class Person(object):\n",
    "\n",
    "    def __init__(self, name):\n",
    "        \"\"\"Create a person：common attributes name and birthdate\"\"\"\n",
    "        self.name = name # 1 fullname:firstname lastname or 2 lastname \n",
    "        try: \n",
    "            lastBlank = name.rindex(' ') # ' 'lastName\n",
    "            self.lastName = name[lastBlank+1:]\n",
    "        except:\n",
    "            self.lastName = name\n",
    "        \n",
    "        self.birthday = None\n",
    " \n",
    "    def getName(self):\n",
    "        \"\"\"Returns self's full name\"\"\"\n",
    "        return self.name\n",
    "\n",
    "    def getLastName(self):\n",
    "        \"\"\"Returns self's last name\"\"\"\n",
    "        return self.lastName\n",
    "\n",
    "    def setBirthday(self, birthdate):\n",
    "        \"\"\"Assumes birthdate is of type datetime.date\n",
    "           Sets self's birthday to birthdate\"\"\"\n",
    "        self.birthday = birthdate\n",
    "\n",
    "    def getAge(self):\n",
    "        \"\"\"Returns self's current age in days\"\"\"\n",
    "        if self.birthday == None:\n",
    "            raise ValueError\n",
    "        return (datetime.date.today() - self.birthday).days\n",
    "\n",
    "    def __lt__(self, other):\n",
    "        \"\"\"Returns True if self's name is lexicographically\n",
    "           less than other's name, and False otherwise\"\"\"\n",
    "        if self.lastName == other.lastName:\n",
    "            return self.name < other.name\n",
    "        return self.lastName < other.lastName\n",
    "\n",
    "    def __str__(self):\n",
    "        \"\"\"Returns self's name\"\"\"\n",
    "        return self.name\n"
   ]
  },
  {
   "cell_type": "markdown",
   "metadata": {},
   "source": [
    "The following code makes use of Person."
   ]
  },
  {
   "cell_type": "code",
   "execution_count": 3,
   "metadata": {},
   "outputs": [
    {
     "name": "stdout",
     "output_type": "stream",
     "text": [
      "Obama\n",
      "Barack Hussein Obama is 20925 days old\n"
     ]
    }
   ],
   "source": [
    "him = Person('Barack Hussein Obama')\n",
    "\n",
    "print(him.getLastName())\n",
    "\n",
    "him.setBirthday(datetime.date(1961, 8, 4))\n",
    "\n",
    "print(him.getName(), 'is', him.getAge(), 'days old')   \n"
   ]
  },
  {
   "cell_type": "markdown",
   "metadata": {
    "collapsed": true
   },
   "source": [
    "1) Notice that whenever `Person` is instantiated an argument is supplied to the `__init__` function\n",
    "\n",
    "2) One can then **access information about these instances using the methods** associated with them: \n",
    "\n",
    " `him.getLastName()` will return 'Obama'.\n",
    "\n",
    "====\n",
    "\n",
    "**Special  method 3**\n",
    "\n",
    " `__lt__`   \n",
    "\n",
    "```python\n",
    "   def __lt__(self, other):\n",
    "        \"\"\"Returns True if self's name is lexicographically\n",
    "           less than other's name, and False otherwise\"\"\"\n",
    "        \n",
    "        if self.lastName == other.lastName:\n",
    "            return self.name < other.name\n",
    "        return self.lastName < other.lastName\n",
    "```\n",
    "This method:\n",
    "\n",
    "<b>overloads</b> the  ** `<` ** operator provides automatic access to any polymorphic method \n",
    "\n",
    "defined using `__lt__`. \n",
    "\n",
    "for example: the built-in method `sort` is one such method.\n",
    "\n",
    "lexicographically sorting:\n",
    "\n",
    "    a acb  abbd\n",
    "    \n",
    "    a abbd  acb"
   ]
  },
  {
   "cell_type": "code",
   "execution_count": 17,
   "metadata": {},
   "outputs": [
    {
     "name": "stdout",
     "output_type": "stream",
     "text": [
      "Michael Guttag\n",
      "Barack Hussein Obama\n",
      "Madonna\n",
      "\n",
      "After sort\n",
      "\n",
      "Michael Guttag\n",
      "Madonna\n",
      "Barack Hussein Obama\n"
     ]
    }
   ],
   "source": [
    "me = Person('Michael Guttag')\n",
    "\n",
    "him = Person('Barack Hussein Obama')\n",
    "him.setBirthday(datetime.date(1961, 8, 4))\n",
    "\n",
    "her = Person('Madonna')\n",
    "her.setBirthday(datetime.date(1958, 8, 16))\n",
    "\n",
    "pList = [me, him, her]\n",
    "\n",
    "for p in pList:\n",
    "    print(p)\n",
    "\n",
    "print('\\nAfter sort\\n')    \n",
    "\n",
    "pList.sort()\n",
    "for p in pList:\n",
    "    print(p)  \n"
   ]
  },
  {
   "cell_type": "markdown",
   "metadata": {},
   "source": [
    "print(p)\n",
    "\n",
    "```python\n",
    "def __str__(self):\n",
    "        \"\"\"Returns self's name\"\"\"\n",
    "        return self.name\n",
    "        \n",
    "```\n",
    "\n",
    "### Modifing \n",
    "\n",
    "  * `def __lt__(self, other):`  birthdate\n",
    "\n",
    "  * `def __str__(self):` .name +birthday\n"
   ]
  },
  {
   "cell_type": "code",
   "execution_count": 20,
   "metadata": {},
   "outputs": [],
   "source": [
    "#Page 97, Figure 8.2\n",
    "import datetime\n",
    "\n",
    "class Person(object):\n",
    "\n",
    "    def __init__(self, name):\n",
    "        \"\"\"Create a person：common attributes name and birthdate\"\"\"\n",
    "        self.name = name\n",
    "        try:\n",
    "            lastBlank = name.rindex(' ') #lastName' '　lastName\n",
    "            self.lastName = name[lastBlank+1:]\n",
    "        except:\n",
    "            self.lastName = name\n",
    "        \n",
    "        self.birthday = None\n",
    " \n",
    "    def getName(self):\n",
    "        \"\"\"Returns self's full name\"\"\"\n",
    "        return self.name\n",
    "\n",
    "    def getLastName(self):\n",
    "        \"\"\"Returns self's last name\"\"\"\n",
    "        return self.lastName\n",
    "\n",
    "    def setBirthday(self, birthdate):\n",
    "        \"\"\"Assumes birthdate is of type datetime.date\n",
    "           Sets self's birthday to birthdate\"\"\"\n",
    "        self.birthday = birthdate\n",
    "  \n",
    "    def getAge(self):\n",
    "        \"\"\"Returns self's current age in days\"\"\"\n",
    "        if self.birthday == None:\n",
    "            raise ValueError\n",
    "        return (datetime.date.today() - self.birthday).days\n",
    "\n",
    "    def __lt__(self, other):\n",
    "        \"\"\"Returns True if self's birthday is \n",
    "           less than other's birthday , and False otherwise\"\"\"\n",
    "        try:\n",
    "            return self.birthday < other.birthday \n",
    "        except: \n",
    "            if self.lastName == other.lastName:\n",
    "                return self.name < other.name\n",
    "            return self.lastName < other.lastName\n",
    "      \n",
    "    def __str__(self):\n",
    "        \"\"\"Returns self's name\"\"\"\n",
    "        try:\n",
    "            return self.name + \" \"+self.birthday.strftime(\"%Y-%m-%d\")\n",
    "        except:\n",
    "            return self.name "
   ]
  },
  {
   "cell_type": "code",
   "execution_count": 19,
   "metadata": {},
   "outputs": [
    {
     "name": "stdout",
     "output_type": "stream",
     "text": [
      "Michael Guttag 1991-08-04\n",
      "Barack Hussein Obama 1961-08-04\n",
      "Madonna 1958-08-16\n",
      "\n",
      "After sort\n",
      "\n",
      "Madonna 1958-08-16\n",
      "Barack Hussein Obama 1961-08-04\n",
      "Michael Guttag 1991-08-04\n"
     ]
    }
   ],
   "source": [
    "me = Person('Michael Guttag')\n",
    "me.setBirthday(datetime.date(1991, 8, 4))\n",
    "\n",
    "him = Person('Barack Hussein Obama')\n",
    "him.setBirthday(datetime.date(1961, 8, 4))\n",
    "\n",
    "her = Person('Madonna')\n",
    "her.setBirthday(datetime.date(1958, 8, 16))\n",
    "\n",
    "pList = [me, him, her]\n",
    "\n",
    "for p in pList:\n",
    "    print(p)\n",
    "print('\\nAfter sort\\n')    \n",
    "\n",
    "pList.sort()\n",
    "for p in pList:\n",
    "    print(p)\n",
    "    "
   ]
  },
  {
   "cell_type": "markdown",
   "metadata": {},
   "source": [
    "## 8.2 Inheritance\n",
    "\n",
    "**Inheritance** provides a convenient mechanism for building \n",
    "\n",
    "<b>groups of related abstractions</b>\n",
    "\n",
    "It allows programmers to create <b>a type hierarchy</b> in which each type inherits attributes from the types above it in the hierarchy.\n",
    "\n",
    "The class ** object ** is at the **top** of the hierarchy.\n",
    "\n",
    "The class `MITPerson` inherits attributes from its parent class,`Person`\n"
   ]
  },
  {
   "cell_type": "code",
   "execution_count": 4,
   "metadata": {},
   "outputs": [],
   "source": [
    "class MITPerson(Person):\n",
    "\n",
    "    nextIdNum = 0 # identification number　-class\n",
    "\n",
    "    def __init__(self, name):\n",
    "        \n",
    "        Person.__init__(self, name)\n",
    "        \n",
    "        self.idNum = MITPerson.nextIdNum\n",
    "        \n",
    "        MITPerson.nextIdNum += 1 # identification number\n",
    "\n",
    "    def getIdNum(self):\n",
    "        return self.idNum\n",
    "\n",
    "    def __lt__(self, other):\n",
    "        return self.idNum < other.idNum\n",
    "\n",
    "    def isStudent(self):  # 8.2.1\n",
    "        return isinstance(self, Student)"
   ]
  },
  {
   "cell_type": "markdown",
   "metadata": {},
   "source": [
    "**MITPerson** is a subclass of **Person**,and therefore inherits the attributes of its superclass. \n",
    "\n",
    "In addition to what it inherits, the subclass can:\n",
    "\n",
    "* <b>Add</b> new attributes: \n",
    "  \n",
    "  * class variable `nextIdNum` ：belongs to the class `MITPerson`, rather than to instances of the class.\n",
    "  * the instance variable `idNum`： is initialized using <b>a class variable</b>, `nextIdNum`,\n",
    "  * the method `getIdNum`\n",
    "* <b>Override</b> attributes of the superclass.overridden \n",
    "\n",
    "   * `__init__` \n",
    "   * `__lt__`."
   ]
  },
  {
   "cell_type": "markdown",
   "metadata": {},
   "source": [
    "### Instance variables and Class variable\n",
    "\n",
    "**A class** should not be confused with **instances of that class**\n",
    "\n",
    "**Attributes** can be associated either with <b>a class itself</b> or with <b>instances of a class</b>:\n",
    "\n",
    "* **instance variables**\n",
    "\n",
    "```python\n",
    "class IntSet(object):\n",
    "    def __init__(self):\n",
    "        \"\"\"Create an empty set of integers\"\"\"\n",
    "        self.vals = []\n",
    "```\n",
    "<b>vals</b> list is called <b>a data attribute</b> of the **instance** of `IntSet`.\n",
    "\n",
    "When `s.vals`　is associated with <b>an instance</b>\n",
    "\n",
    "we call them <b>instance variables</b>.\n"
   ]
  },
  {
   "cell_type": "code",
   "execution_count": null,
   "metadata": {
    "collapsed": true
   },
   "outputs": [],
   "source": [
    "s = IntSet()\n",
    "s.insert(4)\n",
    "s.vals"
   ]
  },
  {
   "cell_type": "code",
   "execution_count": null,
   "metadata": {
    "collapsed": true
   },
   "outputs": [],
   "source": [
    "s1 = IntSet()\n",
    "s1.insert(5)\n",
    "s1.vals\n"
   ]
  },
  {
   "cell_type": "markdown",
   "metadata": {},
   "source": [
    "* **Data attributes** are associated with a class we call them **class variables**\n",
    "\n",
    "    When an instance of <b>MITPerson</b> is created, a new instance of <b>nextIdNum</b> is not created.\n",
    "    \n",
    "    This allows `__init__` to ensure that each instance of MITPerson has a <b>unique</b> `idNum`\n",
    "\n",
    "```python\n",
    "class MITPerson(Person):\n",
    "\n",
    "    nextIdNum = 0 # identification number　:class variables\n",
    "\n",
    "    def __init__(self, name):\n",
    "        \n",
    "        Person.__init__(self, name)\n",
    "        \n",
    "        self.idNum = MITPerson.nextIdNum\n",
    "        \n",
    "        MITPerson.nextIdNum += 1 # identification number\n",
    "\n",
    "```\n"
   ]
  },
  {
   "cell_type": "code",
   "execution_count": 5,
   "metadata": {},
   "outputs": [
    {
     "name": "stdout",
     "output_type": "stream",
     "text": [
      "Barbara Beaver's id number is 0\n",
      "MITPerson.nextIdNum: 1\n",
      "p1.nextIdNum: 1\n",
      "Barbara Beaver11's id number is 1\n",
      "MITPerson.nextIdNum: 2\n",
      "--- class variables are for attributes and methods shared by all instances of the class:\n",
      "p11.nextIdNum: 2\n",
      "p1.nextIdNum: 2\n"
     ]
    }
   ],
   "source": [
    "p1 = MITPerson('Barbara Beaver')\n",
    "\n",
    "print(str(p1) + '\\'s id number is ' + str(p1.getIdNum()))\n",
    "\n",
    "print('MITPerson.nextIdNum:',MITPerson.nextIdNum)\n",
    "print('p1.nextIdNum:',p1.nextIdNum)\n",
    "\n",
    "p11 = MITPerson('Barbara Beaver11')\n",
    "print(str(p11) + '\\'s id number is ' + str(p11.getIdNum()))\n",
    "print('MITPerson.nextIdNum:',MITPerson.nextIdNum)\n",
    "\n",
    "# class variables are for attributes and methods shared by all instances of the class:\n",
    "print(\"--- class variables are for attributes and methods shared by all instances of the class:\")\n",
    "print('p11.nextIdNum:',p11.nextIdNum)\n",
    "print('p1.nextIdNum:',p1.nextIdNum)"
   ]
  },
  {
   "cell_type": "markdown",
   "metadata": {},
   "source": [
    "Generally speaking, \n",
    "\n",
    "* **instance variables** are for data **unique** to each instance \n",
    "\n",
    "* **class variables** are for attributes and methods **shared** by all instances of the class:\n"
   ]
  },
  {
   "cell_type": "code",
   "execution_count": 23,
   "metadata": {},
   "outputs": [],
   "source": [
    "class Dog:\n",
    "    kind = 'canine' # class variable shared by all instances\n",
    "    def __init__(self, name):\n",
    "        self.name = name # instance variable unique to each instance\n",
    "        "
   ]
  },
  {
   "cell_type": "code",
   "execution_count": 24,
   "metadata": {},
   "outputs": [
    {
     "name": "stdout",
     "output_type": "stream",
     "text": [
      "canine\n",
      "canine\n",
      "Fido\n",
      "Buddy\n"
     ]
    }
   ],
   "source": [
    "d = Dog('Fido')\n",
    "e = Dog('Buddy')\n",
    "# class variable\n",
    "print(d.kind)\n",
    "print(e.kind)\n",
    "# instance variable\n",
    "print(d.name)\n",
    "print(e.name)"
   ]
  },
  {
   "cell_type": "markdown",
   "metadata": {},
   "source": [
    "* what-are-class-methods-in-python-for？ \n",
    "\n",
    "http://stackoverflow.com/questions/38238/what-are-class-methods-in-python-for    "
   ]
  },
  {
   "cell_type": "markdown",
   "metadata": {},
   "source": [
    "Now consider the code"
   ]
  },
  {
   "cell_type": "code",
   "execution_count": null,
   "metadata": {
    "collapsed": true
   },
   "outputs": [],
   "source": [
    "p1 = MITPerson('Mark Guttag')\n",
    "\n",
    "# Two of the Billy Bobs are of type MITPerson, \n",
    "p2 = MITPerson('Billy Bob Beaver')\n",
    "p3 = MITPerson('Billy Bob Beaver')\n",
    "\n",
    "# one merely a Person. \n",
    "p4 = Person('Billy Bob Beaver')"
   ]
  },
  {
   "cell_type": "markdown",
   "metadata": {},
   "source": [
    "Three of whom are named <b>Billy Bob Beaver</b>. Two of the Billy Bobs are of type `MITPerson`, and one merely a `Person`. \n",
    "\n",
    "If we execute the lines of code"
   ]
  },
  {
   "cell_type": "code",
   "execution_count": null,
   "metadata": {},
   "outputs": [],
   "source": [
    "print('p1 < p2 =', p1 < p2)\n",
    "print('p3 < p2 =', p3 < p2)\n",
    "\n",
    "print('p4 < p1 =', p4 < p1)"
   ]
  },
  {
   "cell_type": "markdown",
   "metadata": {},
   "source": [
    "* when evaluating the first two comparisons, \n",
    "\n",
    "```Python\n",
    "print('p1 < p2 =', p1 < p2)\n",
    "print('p3 < p2 =', p3 < p2)\n",
    "```\n",
    "Since p1, p2, and p3 are all of type `MITPerson`, \n",
    "\n",
    "the interpreter will use the `__lt__` method defined in class `MITPerson` \n",
    "\n",
    "```Python\n",
    "   def __lt__(self, other):\n",
    "        return self.idNum < other.idNum\n",
    "```\n",
    "so the <b>ordering</b> will be based on <b>identification numbers:idNum</b>.\n",
    "\n",
    "\n",
    "* In the third comparison\n",
    "\n",
    "```Python\n",
    "print('p4 < p1 =', p4 < p1)\n",
    "```\n",
    "the `< ` operator is applied to operands of **different types**. \n",
    "\n",
    "The <b>first argument</b> of the expression is used to <b>determine which `__lt__` method to invoke</b>,\n",
    "\n",
    "`p4 < p1` \n",
    "\n",
    "is shorthand for \n",
    "\n",
    "`p4.__lt__(p1)`. \n",
    "\n",
    "Therefore, the interpreter uses the `__lt__` method associated with \n",
    "\n",
    "the type of p4, `Person`\n",
    "\n",
    "```python\n",
    " def __lt__(self, other):\n",
    "        \"\"\"Returns True if self's name is lexicographically\n",
    "           less than other's name, and False otherwise\"\"\"\n",
    "        try:\n",
    "            return self.birthday < other.birthday \n",
    "        except: \n",
    "            if self.lastName == other.lastName:\n",
    "                return self.name < other.name\n",
    "            return self.lastName < other.lastName\n",
    "```\n",
    "the “people” will be <b>ordered by name or birthday: birthday,lastName,name </b>.\n",
    "\n",
    "### What happens if we try:\n",
    "\n",
    "```python\n",
    "print('p4 < p1 =', p4 < p1)\n",
    "```\n",
    "changed  to\n",
    "\n",
    "```python\n",
    "print('p1 < p4 =', p1 < p4)\n",
    "```\n",
    "The <b>first argument</b> of the expression is p1: an  instance of MITPerson:"
   ]
  },
  {
   "cell_type": "code",
   "execution_count": null,
   "metadata": {},
   "outputs": [],
   "source": [
    "print('p1 < p4 =', p1 < p4)"
   ]
  },
  {
   "cell_type": "markdown",
   "metadata": {},
   "source": [
    "The interpreter will invoke the `__lt__` operator associated with the type of `p1`, i.e., \n",
    "\n",
    "`p1 < p4` \n",
    "\n",
    "is shorthand for \n",
    "\n",
    "`p1.__lt__(p4)`\n",
    "\n",
    "the one defined in class `MITPerson`. \n",
    "\n",
    "```python\n",
    "def __lt__(self, other):\n",
    "        return self.idNum < other.idNum\n",
    "```\n",
    "This will lead to the exception\n",
    "```\n",
    "    AttributeError: 'Person' object has no attribute 'idNum'\n",
    "```\n",
    "because the object to which `p4`(the instance of `Person`) is bound does not have an attribute `idNum`."
   ]
  },
  {
   "cell_type": "markdown",
   "metadata": {},
   "source": [
    "### The Substitution Principle\n",
    "\n",
    "<b>extending</b> or <b>overrides</b> of the superclass\n",
    "\n",
    "When subclassing is used to define a type hierarchy, \n",
    "\n",
    "the subclasses <b>should be</b> thought of as \n",
    "     \n",
    "* **extending** the behavior of their superclasses.\n",
    "\n",
    "the subclases \n",
    "\n",
    "* <b>overrides</b> methods from the superclass, but this must be done with care. \n",
    "\n",
    "Important behaviors of the `supertype` <b>must be supported</b> by each of its `subtypes`.\n",
    "\n",
    "behaviors of the `supertype` Person\n",
    "\n",
    "```python\n",
    "def __lt__(self, other):\n",
    "   if self.lastName == other.lastName:\n",
    "       return self.name < other.name\n",
    "   return self.lastName < other.lastName\n",
    "```\n",
    "\n",
    "do not  supported</b> by its `subtypes`. MITPerson\n",
    "\n",
    "```python\n",
    "def __lt__(self, other):\n",
    "    return self.idNum < other.idNum\n",
    "\n",
    "```\n"
   ]
  },
  {
   "cell_type": "code",
   "execution_count": 6,
   "metadata": {},
   "outputs": [],
   "source": [
    "class MITPerson(Person):\n",
    "\n",
    "    nextIdNum = 0 # identification number　\n",
    "\n",
    "    def __init__(self, name):\n",
    "        Person.__init__(self, name)\n",
    "        \n",
    "        self.idNum = MITPerson.nextIdNum\n",
    "        \n",
    "        MITPerson.nextIdNum += 1 # identification number\n",
    "       \n",
    "    def getIdNum(self):\n",
    "        return self.idNum\n",
    "\n",
    "    def __lt__(self, other):\n",
    "        try:\n",
    "            return self.idNum < other.idNum\n",
    "        except:\n",
    "            return Person.__lt__(self,other)\n",
    "\n",
    "    def isStudent(self):  # 8.2.1\n",
    "        return isinstance(self, Student)"
   ]
  },
  {
   "cell_type": "code",
   "execution_count": null,
   "metadata": {},
   "outputs": [],
   "source": [
    "p1 = MITPerson('Mark Guttag')\n",
    "\n",
    "p4 = Person('Billy Bob Beaver')\n",
    "print('p1 < p4 =', p1 < p4)"
   ]
  },
  {
   "cell_type": "markdown",
   "metadata": {},
   "source": [
    "## Further Reading:\n",
    "\n",
    "* Barbara Liskov: http://www.pmg.csail.mit.edu/~liskov/\n",
    " \n",
    "* Jeannette M. Wing:  http://www.cs.cmu.edu/~wing/\n"
   ]
  },
  {
   "cell_type": "markdown",
   "metadata": {},
   "source": [
    "### 8.2.1 Multiple Levels of Inheritance\n",
    "\n",
    "The code adds another couple of levels of inheritance to the class hierarchy.\n"
   ]
  },
  {
   "cell_type": "code",
   "execution_count": null,
   "metadata": {
    "collapsed": true
   },
   "outputs": [],
   "source": [
    "class Student(MITPerson):\n",
    "    pass"
   ]
  },
  {
   "cell_type": "markdown",
   "metadata": {},
   "source": [
    "By using the Python reserved word `pass` as the body, we indicate that the class has **no attributes other than**> those inherited from its superclass. \n",
    "\n",
    ">##### The pass statement\n",
    ">\n",
    ">The `pass` statement does nothing. It is sometimes needed as a dummy statement placeholder to ensure correct syntax, e.g.,\n",
    "\n",
    "#### Why would one ever want to create a class with no new attributes?\n",
    "\n",
    "The utility of the <b>intermediate</b> type `Student` \n",
    "\n",
    "* 1 Two kinds of students: <b>`undergraduate` and `graduate`</b>? \n",
    "\n",
    "  we gain the ability to create two different kinds of students and \n",
    "\n",
    "  <b>use their types to distinguish one kind of object from another</b> based on `Student` \n"
   ]
  },
  {
   "cell_type": "code",
   "execution_count": null,
   "metadata": {},
   "outputs": [],
   "source": [
    "class undergraduate(Student):\n",
    "    def __init__(self, name, classYear):\n",
    "        MITPerson.__init__(self, name)\n",
    "        self.year = classYear\n",
    "    \n",
    "    def getClass(self):\n",
    "        return self.year\n",
    "    \n",
    "class graduate(Student):\n",
    "    pass\n"
   ]
  },
  {
   "cell_type": "code",
   "execution_count": null,
   "metadata": {},
   "outputs": [],
   "source": [
    "p5 =graduate('Buzz Aldrin')\n",
    "p6 = undergraduate('Billy Beaver', 1984)\n",
    "\n",
    "print(p5, 'is a graduate student is', type(p5) == graduate) \n",
    "print(p5, 'is an undergraduate student is', type(p5) ==undergraduate)"
   ]
  },
  {
   "cell_type": "markdown",
   "metadata": {},
   "source": [
    "* 2 avoid this problem:\n",
    "   \n",
    "   during the creation and later maintenance of a program to\n",
    "   \n",
    "   <b>go back</b> and <b>add new</b> classes or attributes to old classes. \n",
    "\n",
    "Consider going back to class `MITPerson` and adding the method\n",
    "```python\n",
    " def isStudent(self):  # 8.2.1\n",
    "        return isinstance(self, Student)\n",
    "```\n",
    "\n",
    "The function\n",
    "\n",
    "`isinstance`\n",
    "\n",
    "is built into Python. \n",
    "\n",
    "The first argument of `isinstance` can be any object, \n",
    "\n",
    "but <b>the second argument must be an object of type\n",
    "\n",
    "`type`</b>. \n",
    "\n",
    "The function returns `True` <b>if and only if</b>\n",
    "\n",
    "* the first argument is an instance of the second argument.\n"
   ]
  },
  {
   "cell_type": "code",
   "execution_count": null,
   "metadata": {},
   "outputs": [],
   "source": [
    "l=[1,2]\n",
    "isinstance(l, list)"
   ]
  },
  {
   "cell_type": "markdown",
   "metadata": {},
   "source": [
    "Notice that <b>isinstance(p6, Student)</b> is quite different from <b>type(p6) == Student</b>"
   ]
  },
  {
   "cell_type": "code",
   "execution_count": null,
   "metadata": {},
   "outputs": [],
   "source": [
    "isinstance(p6, Student)"
   ]
  },
  {
   "cell_type": "code",
   "execution_count": null,
   "metadata": {},
   "outputs": [],
   "source": [
    "type(p6) == Student"
   ]
  },
  {
   "cell_type": "code",
   "execution_count": null,
   "metadata": {},
   "outputs": [],
   "source": [
    "print(p5, 'is a student is', p5.isStudent())\n",
    "print(p6, 'is a student is', p6.isStudent())\n",
    "print(p3, 'is a student is', p3.isStudent())"
   ]
  },
  {
   "cell_type": "markdown",
   "metadata": {},
   "source": [
    "The object to which `p6` is bound is of type `undergraduate`, not `student`\n",
    "\n",
    "if a new type of student were introduced at some later point it would be necessary to <b>go back and edit the code</b> implementing isStudent. \n",
    "\n",
    "```Python\n",
    "def isStudent(self):\n",
    "    return type(self) == graduate or type(self) == undergraduate\n",
    "````\n",
    "##### By introducing the intermediate class `Student` and using `isinstance` we avoid this problem.\n",
    "\n",
    "For example, if we were to add **TransferStudent**"
   ]
  },
  {
   "cell_type": "code",
   "execution_count": null,
   "metadata": {
    "collapsed": true
   },
   "outputs": [],
   "source": [
    "class TransferStudent(Student):\n",
    "\n",
    "    def __init__(self, name, fromSchool):\n",
    "        MITPerson.__init__(self, name)\n",
    "        self.fromSchool = fromSchool\n",
    "\n",
    "    def getOldSchool(self):\n",
    "        return self.fromSchool"
   ]
  },
  {
   "cell_type": "code",
   "execution_count": null,
   "metadata": {},
   "outputs": [],
   "source": [
    "p7 =graduate('B Aldrin')\n",
    "print(p7, 'is a student is', p7.isStudent())"
   ]
  },
  {
   "cell_type": "markdown",
   "metadata": {},
   "source": [
    "no change needs to be made to `isStudent` in old classes\n"
   ]
  },
  {
   "cell_type": "markdown",
   "metadata": {},
   "source": [
    "## 8.3 Encapsulation and Information Hiding\n",
    "\n",
    "**Class Grades**\n",
    "\n",
    "  the class that can be used to keep track of the grades of  collection of students.  \n"
   ]
  },
  {
   "cell_type": "code",
   "execution_count": null,
   "metadata": {
    "collapsed": true
   },
   "outputs": [],
   "source": [
    "class Grades(object):\n",
    "    \"\"\"A mapping from students to a list of grades\"\"\"\n",
    "    def __init__(self):\n",
    "        \"\"\"Create empty grade book\"\"\"\n",
    "        \n",
    "        self.students = [] #list keeps track of the students in the class\n",
    "        \n",
    "        self.grades = {}  # dictionary maps a student’s identification number to a list of grades.\n",
    "       \n",
    "        self.isSorted = True\n",
    "\n",
    "    def addStudent(self, student):\n",
    "        \"\"\"Assumes: student is of type Student\n",
    "           Add student to the grade book\"\"\"\n",
    "        if student in self.students:\n",
    "            raise ValueError('Duplicate student')\n",
    "        self.students.append(student)\n",
    "        self.grades[student.getIdNum()] = []\n",
    "        self.isSorted = False\n",
    "\n",
    "    def addGrade(self, student, grade):\n",
    "        \"\"\"Assumes: grade is a float\n",
    "           Add grade to the list of grades for student\"\"\"\n",
    "        try:\n",
    "            self.grades[student.getIdNum()].append(grade)\n",
    "        except:\n",
    "            raise ValueError('Student not in mapping')\n",
    "\n",
    "    def getGrades(self, student):\n",
    "        \"\"\"Return a list of grades for student\"\"\"\n",
    "        try: #return copy of student's grades\n",
    "            return self.grades[student.getIdNum()][:]\n",
    "        except:\n",
    "            raise ValueError('Student not in mapping')\n",
    "\n",
    "    def getStudents(self):\n",
    "        \"\"\"Return a list of the students in the grade book\"\"\"\n",
    "        if not self.isSorted:\n",
    "            self.students.sort()\n",
    "            self.isSorted = True\n",
    "        return self.students[:] #return copy of list of students"
   ]
  },
  {
   "cell_type": "markdown",
   "metadata": {},
   "source": [
    "\n",
    "Instances of class Grades are implemented using \n",
    "\n",
    "* a <b>list</b> \n",
    "* a <b>dictionary<b>. \n",
    "\n",
    "The <b>list</b> keeps track of the <b>students</b> in the class. \n",
    "```python\n",
    " self.students = []\n",
    "```\n",
    "The <b>dictionary</b> `maps` a student’s <b>identification number</b> to a list of <b>grades</b>.\n",
    "\n",
    "```python\n",
    "\n",
    "   def __init__(self):\n",
    "       self.grades = {}\n",
    "\n",
    "   def addStudent(self, student):\n",
    "      \n",
    "       self.grades[student.getIdNum()] = []\n",
    "  \n",
    "   def addGrade(self, student, grade):\n",
    "  \n",
    "       self.grades[student.getIdNum()].append(grade)\n",
    "  \n",
    "   def getGrades(self, student):\n",
    "\n",
    "       self.grades[student.getIdNum()][:]\n",
    "```\n",
    " \n",
    "** the data be accessed only through the object's methods. **"
   ]
  },
  {
   "cell_type": "code",
   "execution_count": null,
   "metadata": {},
   "outputs": [],
   "source": [
    "# The dictionary maps a student’s identification number to a list of grades.\n",
    "\n",
    "ug1 = undergraduate('Jane Doe', 2014)\n",
    "g1 = graduate('Billy Buckner')\n",
    "\n",
    "course1 = Grades()\n",
    "course1.addStudent(ug1) # the data be accessed only through the object's methods. information hiding.\n",
    "course1.addStudent(g1)  # the data be accessed only through the object's methods. information hiding.\n",
    "\n",
    "course1.addGrade(ug1, 25)\n",
    "course1.addGrade(g1, 100)\n",
    "\n",
    "print(course1.grades)\n",
    "\n",
    "for s in course1.getStudents():\n",
    "    print(s.idNum,'\\t',course1.getGrades(s))\n"
   ]
  },
  {
   "cell_type": "markdown",
   "metadata": {},
   "source": [
    "### gradeReport\n",
    "\n",
    "a function that uses class Grades to produce a grade report for some students taking\n",
    "\n",
    "6.00, the MIT course for which this book was developed"
   ]
  },
  {
   "cell_type": "code",
   "execution_count": 7,
   "metadata": {},
   "outputs": [
    {
     "ename": "NameError",
     "evalue": "name 'undergraduate' is not defined",
     "output_type": "error",
     "traceback": [
      "\u001b[1;31m---------------------------------------------------------------------------\u001b[0m",
      "\u001b[1;31mNameError\u001b[0m                                 Traceback (most recent call last)",
      "\u001b[1;32m<ipython-input-7-12049a7e4e8d>\u001b[0m in \u001b[0;36m<module>\u001b[1;34m()\u001b[0m\n\u001b[0;32m     18\u001b[0m     \u001b[1;32mreturn\u001b[0m \u001b[0mreport\u001b[0m\u001b[1;33m\u001b[0m\u001b[0m\n\u001b[0;32m     19\u001b[0m \u001b[1;33m\u001b[0m\u001b[0m\n\u001b[1;32m---> 20\u001b[1;33m \u001b[0mug1\u001b[0m \u001b[1;33m=\u001b[0m \u001b[0mundergraduate\u001b[0m\u001b[1;33m(\u001b[0m\u001b[1;34m'Jane Doe'\u001b[0m\u001b[1;33m,\u001b[0m \u001b[1;36m2014\u001b[0m\u001b[1;33m)\u001b[0m\u001b[1;33m\u001b[0m\u001b[0m\n\u001b[0m\u001b[0;32m     21\u001b[0m \u001b[0mug2\u001b[0m \u001b[1;33m=\u001b[0m \u001b[0mundergraduate\u001b[0m\u001b[1;33m(\u001b[0m\u001b[1;34m'John Doe'\u001b[0m\u001b[1;33m,\u001b[0m \u001b[1;36m2015\u001b[0m\u001b[1;33m)\u001b[0m\u001b[1;33m\u001b[0m\u001b[0m\n\u001b[0;32m     22\u001b[0m \u001b[0mug3\u001b[0m \u001b[1;33m=\u001b[0m \u001b[0mundergraduate\u001b[0m\u001b[1;33m(\u001b[0m\u001b[1;34m'David Henry'\u001b[0m\u001b[1;33m,\u001b[0m \u001b[1;36m2003\u001b[0m\u001b[1;33m)\u001b[0m\u001b[1;33m\u001b[0m\u001b[0m\n",
      "\u001b[1;31mNameError\u001b[0m: name 'undergraduate' is not defined"
     ]
    }
   ],
   "source": [
    "def gradeReport(course):\n",
    "    \"\"\"Assumes course is of type Grades\"\"\"\n",
    "    report = ''\n",
    "    for s in course.getStudents(): # the data be accessed only through the object's methods. information hiding.\n",
    "        tot = 0.0\n",
    "        numGrades = 0\n",
    "        for g in course.getGrades(s): # the data be accessed only through the object's methods. information hiding.\n",
    "            tot += g\n",
    "            numGrades += 1\n",
    "        try:\n",
    "            average = tot/numGrades\n",
    "            report =(report + '\\n'\n",
    "                     + str(s) + '\\'s mean grade is ' + str(average))\n",
    "        except ZeroDivisionError:\n",
    "            report = (report + '\\n'\n",
    "                     + str(s) + ' has no grades')\n",
    "    return report\n",
    "\n",
    "ug1 = undergraduate('Jane Doe', 2014)\n",
    "ug2 = undergraduate('John Doe', 2015)\n",
    "ug3 = undergraduate('David Henry', 2003)\n",
    "\n",
    "g1 = graduate('Billy Buckner')\n",
    "g2 = graduate('Bucky F. Dent')\n",
    "\n",
    "sixHundred = Grades()\n",
    "sixHundred.addStudent(ug1)\n",
    "sixHundred.addStudent(ug2)\n",
    "sixHundred.addStudent(g1)\n",
    "sixHundred.addStudent(g2)\n",
    "\n",
    "for s in sixHundred.getStudents():\n",
    "    sixHundred.addGrade(s, 75)\n",
    "\n",
    "sixHundred.addGrade(g1, 25)\n",
    "sixHundred.addGrade(g2, 100)\n",
    "\n",
    "sixHundred.addStudent(ug3)\n",
    "print(gradeReport(sixHundred))\n"
   ]
  },
  {
   "cell_type": "markdown",
   "metadata": {},
   "source": [
    "### There are two important concepts at the heart of object-oriented programming. \n",
    "\n",
    "* <b>encapsulation and information hiding</b>\n",
    "\n",
    "  *  <b>encapsulation</b>. \n",
    "\n",
    "    By this we mean the <b>bundling together of data attributes and the methods for operating on them</b>.\n",
    "    ```python    \n",
    "      Rafael = MITPerson('MIT NIT')\n",
    "    ```\n",
    "    we can use dot notation to access attributes such as **Rafael**’s age and identification number.\n",
    "\n",
    "  * <b>information hiding</b>. \n",
    "\n",
    "     the **data** be **accessed only** through the object's **methods**.\n",
    "    \n",
    "     This is one of the keys to  modularity. \n",
    "     \n",
    "     Some programming languages (Java and C++, for example) provide mechanisms for enforcing information hiding.\n",
    "    \n",
    "    **private**\n",
    "    \n",
    "**Unfortunately**, Python does not provide mechanisms for enforcing information hiding\n",
    "\n",
    "There is no way for the implementer of a class to restrict \n",
    "\n",
    "**access to the attributes** of class instances. \n",
    "\n",
    "For example, a client of a Person can write the expression "
   ]
  },
  {
   "cell_type": "code",
   "execution_count": null,
   "metadata": {
    "collapsed": true
   },
   "outputs": [],
   "source": [
    "Rafael = MITPerson('MIT NIT')\n",
    "Rafael.lastName "
   ]
  },
  {
   "cell_type": "code",
   "execution_count": null,
   "metadata": {
    "collapsed": true
   },
   "outputs": [],
   "source": [
    "Rafael.getLastName()"
   ]
  },
  {
   "cell_type": "markdown",
   "metadata": {},
   "source": [
    "Why is this unfortunate? \n",
    "\n",
    "Because the client code is relying upon something \n",
    "\n",
    "that is **not part** of the **specification** of Person, \n",
    "\n",
    "and is therefore subject to change.\n",
    "\n",
    "If the implementation of Person were changed,\n",
    "\n",
    "**extract the last name** whenever it is requested **rather than store it in an instance variable**, "
   ]
  },
  {
   "cell_type": "code",
   "execution_count": null,
   "metadata": {
    "collapsed": true
   },
   "outputs": [],
   "source": [
    " def __init__(self, name):\n",
    "     \"\"\"Create a person：common attributes name and birthdate\"\"\"\n",
    "     self.name = name\n",
    "     \"\"\"\n",
    "        try:\n",
    "            lastBlank = name.rindex(' ') #lastName' '　lastName\n",
    "            self.lastName = name[lastBlank+1:]\n",
    "        except:\n",
    "          self.lastName = name\n",
    "     \"\"\"\n",
    "     self.birthday = None"
   ]
  },
  {
   "cell_type": "markdown",
   "metadata": {},
   "source": [
    "then the client code would no longer work."
   ]
  },
  {
   "cell_type": "code",
   "execution_count": null,
   "metadata": {
    "collapsed": true
   },
   "outputs": [],
   "source": [
    "def getLastName(self):\n",
    "        \"\"\"Returns self's last name\"\"\"\n",
    "      return self.lastName "
   ]
  },
  {
   "cell_type": "markdown",
   "metadata": {},
   "source": [
    "Not only does Python let programs **read instance and class variables**\n",
    "\n",
    "from outside the class definition, \n",
    "\n",
    "it also lets programs **write** these variables"
   ]
  },
  {
   "cell_type": "code",
   "execution_count": null,
   "metadata": {
    "collapsed": true
   },
   "outputs": [],
   "source": [
    "Rafael = MITPerson('MIT NIT')\n",
    "\n",
    "# Rafael.setBirthday(datetime.date(1950, 8, 12))\n",
    "#\n",
    "# def setBirthday(self, birthdate):\n",
    "#        \"\"\"Assumes birthdate is of type datetime.date\n",
    "#           Sets self's birthday to birthdate\"\"\"\n",
    "#           self.birthday = birthdate\n",
    "\n",
    "\n",
    "Rafael.birthady='8.12.1950' #  While this weak static semantic checking\n"
   ]
  },
  {
   "cell_type": "code",
   "execution_count": null,
   "metadata": {
    "collapsed": true
   },
   "outputs": [],
   "source": [
    "Rafael.getAge()"
   ]
  },
  {
   "cell_type": "markdown",
   "metadata": {},
   "source": [
    "While this **weak static semantic checking** is a flaw in Python\n",
    "\n",
    "A disciplined programmer can simply follow the sensible rule :\n",
    "    \n",
    "** not directly accessing data attributes **"
   ]
  },
  {
   "cell_type": "code",
   "execution_count": null,
   "metadata": {
    "collapsed": true
   },
   "outputs": [],
   "source": [
    "Rafael.setBirthday(datetime.date(1950, 8, 12))\n",
    "Rafael.getAge()"
   ]
  },
  {
   "cell_type": "markdown",
   "metadata": {},
   "source": [
    "### 8.3.1 Generators（生成器）: `yield` statement\n",
    "\n",
    "A perceived risk of information hiding is that \n",
    "\n",
    "preventing client programs from directly accessing critical data structures\n",
    "\n",
    "leads to <b>an unacceptable loss of efficiency</b>.\n",
    "\n",
    "Consider the implementation of `gradeReport`  \n",
    "\n",
    "The invocation of  `course.getStudents` \n",
    "\n",
    "```python\n",
    "  for s in course.getStudents():\n",
    "```\n",
    "<b>creates and returns a list of size n</b>, where n is the number of students.\n",
    "```python\n",
    "  def getStudents(self):\n",
    "        \"\"\"Return a list of the students in the grade book\"\"\"\n",
    "        if not self.isSorted:\n",
    "            self.students.sort()\n",
    "            self.isSorted = True\n",
    "        return self.students[:] #return copy of list of students\n",
    "```\n",
    "\n",
    "**self.students[:]**\n",
    "\n",
    "   Creating a new list of that size when the list already exists is <b>a significant inefficiency</b>.\n",
    "\n",
    "One solution is to abandon the abstraction and\n",
    "\n",
    "allow gradeReport to <b>directly access</b> the instance variable `course.students`,\n",
    "\n",
    "but that would violate <b>information hiding</b>.\n",
    "\n",
    "### there is a better solution\n",
    "\n",
    "The code in Figure 8.7, replaces the `getStudents` function in class `Grades` \n",
    "\n",
    "with a function that uses a kind of statement we have not yet used: a `yield` statement.\n",
    "\n",
    "```python\n",
    "  return self.students[:]\n",
    "``` \n",
    "\n",
    "to\n",
    "\n",
    "```python\n",
    "  for s in self.students:\n",
    "      yield s\n",
    "```"
   ]
  },
  {
   "cell_type": "code",
   "execution_count": 6,
   "metadata": {
    "collapsed": true
   },
   "outputs": [],
   "source": [
    "class Grades(object):\n",
    "    \"\"\"A mapping from students to a list of grades\"\"\"\n",
    "    def __init__(self):\n",
    "        \"\"\"Create empty grade book\"\"\"\n",
    "        self.students = []\n",
    "        self.grades = {}\n",
    "        self.isSorted = True\n",
    "\n",
    "    def addStudent(self, student):\n",
    "        \"\"\"Assumes: student is of type Student\n",
    "           Add student to the grade book\"\"\"\n",
    "        if student in self.students:\n",
    "            raise ValueError('Duplicate student')\n",
    "        self.students.append(student)\n",
    "        self.grades[student.getIdNum()] = []\n",
    "        self.isSorted = False\n",
    "\n",
    "    def addGrade(self, student, grade):\n",
    "        \"\"\"Assumes: grade is a float\n",
    "           Add grade to the list of grades for student\"\"\"\n",
    "        try:\n",
    "            self.grades[student.getIdNum()].append(grade)\n",
    "        except:\n",
    "            raise ValueError('Student not in mapping')\n",
    "\n",
    "    def getGrades(self, student):\n",
    "        \"\"\"Return a list of grades for student\"\"\"\n",
    "        try: #return copy of student's grades\n",
    "            return self.grades[student.getIdNum()][:]\n",
    "        except:\n",
    "            raise ValueError('Student not in mapping')\n",
    "\n",
    "    def getStudents(self):\n",
    "        \"\"\"Return a list of the students in the grade book\"\"\"\n",
    "        if not self.isSorted:\n",
    "            self.students.sort()\n",
    "            self.isSorted = True\n",
    "        \n",
    "        #return self.students[:] #return copy of list of students\n",
    "        \n",
    "        for s in self.students:\n",
    "            yield s"
   ]
  },
  {
   "cell_type": "markdown",
   "metadata": {},
   "source": [
    "### Generators\n",
    " \n",
    "https://wiki.python.org/moin/Generators\n",
    "\n",
    "Any function definition containing a `yield` statement is treated in a special way.\n",
    "\n",
    "the function is **a generator**.\n",
    "\n",
    "Generators are typically used in conjunction with **for** statements.\n",
    "\n",
    "    At the start of the first iteration of a for loop, \n",
    "\n",
    "    the interpreter starts executing the code in the body of the generator. \n",
    "\n",
    "    It runs until the first time a `yield` statement is executed, at which point \n",
    "    \n",
    "    it returns the value of the expression in the yield statement. \n",
    "\n",
    "    On the next iteration, the generator resumes execution immediately following the yield, \n",
    "    \n",
    "    with all local variables bound to the objects to which they were bound \n",
    "    \n",
    "    when the yield statement was executed, and again runs until a `yield` statement is executed. \n",
    "\n",
    "    It continues to do this until it runs out of code to execute or executes a return statement, at which point the loop is exited.\n",
    "\n",
    "###  yield 生成器的运行机制：\n",
    "\n",
    "  \n",
    "  当向生成器要一个数时，生成器会执行，直至出现` yield` 语句，生成器返回` yield` 的参数，\n",
    "    \n",
    "  之后生成器就不会往下继续运行。\n",
    "\n",
    "  当需要下一个数时，会从**上次的状态**开始运行，直至出现`yield`语句，返回参数。\n",
    "    \n",
    "  如此反复,直至退出函数\n"
   ]
  },
  {
   "cell_type": "code",
   "execution_count": 8,
   "metadata": {},
   "outputs": [
    {
     "name": "stdout",
     "output_type": "stream",
     "text": [
      "[0, 1, 2, 3, 4, 5, 6, 7, 8, 9, 10, 11, 12, 13, 14, 15, 16, 17, 18, 19, 20, 21, 22, 23, 24, 25, 26, 27, 28, 29, 30, 31, 32, 33, 34, 35, 36, 37, 38, 39, 40, 41, 42, 43, 44, 45, 46, 47, 48, 49, 50, 51, 52, 53, 54, 55, 56, 57, 58, 59, 60, 61, 62, 63, 64, 65, 66, 67, 68, 69, 70, 71, 72, 73, 74, 75, 76, 77, 78, 79, 80, 81, 82, 83, 84, 85, 86, 87, 88, 89, 90, 91, 92, 93, 94, 95, 96, 97, 98, 99]\n"
     ]
    }
   ],
   "source": [
    "# Build and return a list\n",
    "\n",
    "def firstn(n):\n",
    "    num, nums = 0, []\n",
    "\n",
    "    while num < n:\n",
    "        \n",
    "        nums.append(num)\n",
    "        \n",
    "        num += 1\n",
    "    \n",
    "    return nums\n",
    "   \n",
    "sum_of_first_n = sum(firstn(100))\n",
    "\n",
    "#sum_of_first_n=0\n",
    "#for s in firstn(100):\n",
    "#    sum_of_first_n=sum_of_first_n+s\n",
    "\n",
    "print(firstn(100))    \n"
   ]
  },
  {
   "cell_type": "markdown",
   "metadata": {},
   "source": [
    "The code is quite simple and straightforward, but its builds the full list in memory. \n",
    "\n",
    "Python provides **generator functions** as a convenient shortcut to building iterators."
   ]
  },
  {
   "cell_type": "code",
   "execution_count": 10,
   "metadata": {},
   "outputs": [
    {
     "name": "stdout",
     "output_type": "stream",
     "text": [
      "4950\n",
      "<generator object firstn at 0x00000235AC5C6830>\n"
     ]
    }
   ],
   "source": [
    "# a generator that yields items instead of returning a list\n",
    "\n",
    "def firstn(n):\n",
    "    num = 0\n",
    "    while num < n:\n",
    "        \n",
    "        yield num\n",
    "        \n",
    "        num += 1\n",
    "\n",
    "sum_of_first_n = sum(firstn(100))\n",
    "print(sum_of_first_n)\n",
    "\n",
    "print(firstn(100))"
   ]
  },
  {
   "cell_type": "markdown",
   "metadata": {},
   "source": [
    "use a `for` loop to iterate over the students in objects of type `Grades` \n",
    "\n",
    "```python\n",
    " for s in book.getStudents():\n",
    "    print(s)\n",
    "```    \n",
    "\n",
    "Generating **one value** at **a time** will be more efficient,\n",
    " \n",
    "because a new list containing the students will not be created. "
   ]
  },
  {
   "cell_type": "code",
   "execution_count": null,
   "metadata": {
    "collapsed": true
   },
   "outputs": [],
   "source": [
    "#Page 107\n",
    "book = Grades()\n",
    "book.addStudent(graduate('Julie'))\n",
    "book.addStudent(graduate('Charlie'))\n",
    "\n",
    "\n",
    "for s in book.getStudents():\n",
    "    print(s)"
   ]
  },
  {
   "cell_type": "markdown",
   "metadata": {},
   "source": [
    "## Further Reading:\n",
    " \n",
    "To fully understand generators, you need to understand the way built-in `iterators` are implemented in Python,\n",
    "   \n",
    "* Python Toturial: \n",
    "\n",
    "   * 9.9 Iterators\n",
    "   \n",
    "   * 9.10 Generators"
   ]
  },
  {
   "cell_type": "markdown",
   "metadata": {},
   "source": [
    "## 8.4 Mortgages, an Extended Example\n",
    "\n",
    "A collapse in U.S. housing prices helped trigger a severe economic meltdown in the fall of 2008. \n",
    "\n",
    "One of the contributing factors was that many homeowners had taken on mortgages that\n",
    "\n",
    "ended up having unexpected consequences.\n",
    "\n",
    "Let’s build a program that examines the costs of three kinds of loans：\n",
    "\n",
    "* A fixed-rate mortgage with no points,\n",
    "\n",
    "* A fixed-rate mortgage with points\n",
    "\n",
    "* A mortgage with an initial teaser rate followed by a higher rate for the duration.\n",
    "\n",
    "We will structure our code to include a `Mortgage` class,\n",
    "\n",
    "and `subclasses` corresponding to each of the three kinds of mortgages listed above.\n",
    "\n",
    "##### Mortgage base class\n",
    "\n"
   ]
  },
  {
   "cell_type": "code",
   "execution_count": null,
   "metadata": {
    "collapsed": true
   },
   "outputs": [],
   "source": [
    "#Page 109, Figure 8.8\n",
    "def findPayment(loan, r, m):\n",
    "    \"\"\"Assumes: loan and r are floats, m an int\n",
    "       Returns the monthly payment for a mortgage of size\n",
    "       loan at a monthly rate of r for m months\"\"\"\n",
    "    return loan*((r*(1+r)**m)/((1+r)**m - 1))\n",
    "\n",
    "class Mortgage(object):\n",
    "    \"\"\"Abstract class for building different kinds of mortgages\"\"\"\n",
    "    \n",
    "    def __init__(self, loan, annRate, months):\n",
    "        \"\"\"Create a new mortgage\"\"\"\n",
    "        self.loan = loan\n",
    "        self.rate = annRate/12.0\n",
    "        self.months = months\n",
    "        self.paid = [0.0]\n",
    "        self.owed = [loan]\n",
    "        self.payment = findPayment(loan, self.rate, months)\n",
    "        self.legend = None #description of mortgage\n",
    "    \n",
    "    def makePayment(self):\n",
    "        \"\"\"Make a payment\"\"\"\n",
    "        self.paid.append(self.payment)\n",
    "        reduction = self.payment - self.owed[-1]*self.rate\n",
    "        self.owed.append(self.owed[-1] - reduction)\n",
    "    \n",
    "    def getTotalPaid(self):\n",
    "        \"\"\"Return the total amount paid so far\"\"\"\n",
    "        return sum(self.paid)\n",
    "    \n",
    "    def __str__(self):\n",
    "        return self.legend"
   ]
  },
  {
   "cell_type": "markdown",
   "metadata": {},
   "source": [
    "The function `findPayment` at the top of the figure computes the size of the fixed monthly payment needed to pay off the loan, including interest, by the end of its  term. \n",
    "\n",
    "It does this using <b>a well-known</b> closed-form expression.\n",
    "\n",
    "When your code incorporates formulas you have looked up, make sure that:\n",
    "\n",
    "* You have taken the formula from <b>a reputable source</b>.\n",
    "\n",
    "* You fully <b>understand the meaning of all the variables</b> in the formula\n",
    "\n",
    "* You <b>test</b> your implementation against examples taken from <b>reputable sources>/b>.\n",
    "\n",
    "\n",
    "The method `makePayment` is used to record mortgage payments.\n",
    "\n",
    "The method `getTotalPaid` uses the built-in Python function `sum`, which returns the sum of a sequence of numbers\n",
    "\n",
    "Figure 8.9 contains classes implementing two types of mortgage. Each of these classes overrides `__init__` and inherits the other three methods from `Mortgage`.\n"
   ]
  },
  {
   "cell_type": "code",
   "execution_count": null,
   "metadata": {
    "collapsed": true
   },
   "outputs": [],
   "source": [
    "class Fixed(Mortgage):\n",
    "\n",
    "    def __init__(self, loan, r, months):\n",
    "        Mortgage.__init__(self, loan, r, months)\n",
    "        self.legend = 'Fixed, ' + str(r*100) + '%'\n",
    "\n",
    "class FixedWithPts(Mortgage):\n",
    "    \n",
    "    def __init__(self, loan, r, months, pts):\n",
    "        Mortgage.__init__(self, loan, r, months)\n",
    "        self.pts = pts\n",
    "        self.paid = [loan*(pts/100.0)]\n",
    "        self.legend =('Fixed, ' + str(r*100) + '%, '+ str(pts) + ' points')"
   ]
  },
  {
   "cell_type": "markdown",
   "metadata": {},
   "source": [
    "Figure 8.10 contains a third subclass of `Mortgage`. The class `TwoRate` treats the mortgage as the concatenation of two loans, each at a different interest rate."
   ]
  },
  {
   "cell_type": "code",
   "execution_count": null,
   "metadata": {
    "collapsed": true
   },
   "outputs": [],
   "source": [
    "class TwoRate(Mortgage):\n",
    "\n",
    "    def __init__(self, loan, r, months, teaserRate, teaserMonths):\n",
    "        Mortgage.__init__(self, loan, teaserRate, months)\n",
    "        self.teaserMonths = teaserMonths\n",
    "        self.teaserRate = teaserRate\n",
    "        self.nextRate = r/12.0\n",
    "        self.legend =(str(teaserRate*100)\n",
    "                      + '% for ' + str(self.teaserMonths)\n",
    "                      + ' months, then ' + str(r*100) + '%')\n",
    "    def makePayment(self):\n",
    "        if len(self.paid) == self.teaserMonths + 1:\n",
    "            self.rate = self.nextRate\n",
    "            self.payment = findPayment(self.owed[-1], self.rate,\n",
    "                                       self.months - self.teaserMonths)\n",
    "        Mortgage.makePayment(self)"
   ]
  },
  {
   "cell_type": "markdown",
   "metadata": {},
   "source": [
    "Figure 8.11 contains a function that computes and prints the total cost of eachkind of mortgage for a sample set of parameters"
   ]
  },
  {
   "cell_type": "code",
   "execution_count": null,
   "metadata": {
    "collapsed": true
   },
   "outputs": [],
   "source": [
    "def compareMortgages(amt, years, fixedRate, pts, ptsRate,\n",
    "                     varRate1, varRate2, varMonths):\n",
    "    totMonths = years*12\n",
    "    fixed1 = Fixed(amt, fixedRate, totMonths)\n",
    "    fixed2 = FixedWithPts(amt, ptsRate, totMonths, pts)\n",
    "    twoRate = TwoRate(amt, varRate2, totMonths, varRate1, varMonths)\n",
    "    morts = [fixed1, fixed2, twoRate]\n",
    "    for m in range(totMonths):\n",
    "        for mort in morts:\n",
    "            mort.makePayment()\n",
    "    for m in morts:\n",
    "        print('\\n',m)\n",
    "        print(' Total payments = $' + str(int(m.getTotalPaid())))\n",
    "\n",
    "compareMortgages(amt=200000, years=30, fixedRate=0.07,\n",
    "                 pts = 3.25, ptsRate=0.05, varRate1=0.045,\n",
    "                 varRate2=0.095, varMonths=48)\n",
    "\n"
   ]
  },
  {
   "cell_type": "markdown",
   "metadata": {},
   "source": [
    "This suggests that rather than looking at a single number, we should look at payments over time. This in turn suggests that our program should be producing plots designed to show <b>how the mortgage behaves over time</b>"
   ]
  },
  {
   "cell_type": "markdown",
   "metadata": {},
   "source": [
    "## Reference\n",
    "\n",
    "[Python Object Oriented Programming (OOP)](http://www3.ntu.edu.sg/home/ehchua/programming/webprogramming/Python1a_OOP.html)"
   ]
  },
  {
   "cell_type": "code",
   "execution_count": null,
   "metadata": {},
   "outputs": [],
   "source": []
  }
 ],
 "metadata": {
  "kernelspec": {
   "display_name": "Python 3",
   "language": "python",
   "name": "python3"
  },
  "language_info": {
   "codemirror_mode": {
    "name": "ipython",
    "version": 3
   },
   "file_extension": ".py",
   "mimetype": "text/x-python",
   "name": "python",
   "nbconvert_exporter": "python",
   "pygments_lexer": "ipython3",
   "version": "3.7.0"
  },
  "widgets": {
   "state": {},
   "version": "1.1.2"
  }
 },
 "nbformat": 4,
 "nbformat_minor": 1
}
