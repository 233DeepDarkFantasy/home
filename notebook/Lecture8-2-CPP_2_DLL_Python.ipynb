{
 "cells": [
  {
   "cell_type": "markdown",
   "metadata": {},
   "source": [
    "# C/C++ Library with Python "
   ]
  },
  {
   "cell_type": "markdown",
   "metadata": {},
   "source": [
    "The advantage of Python is that it is **flexible and easy** to program. The time it takes to setup a new calulation is therefore short. \n",
    "\n",
    "But for certain types of calculations Python (and any other interpreted language) can be **very slow**.\n",
    "\n",
    "Such calculations may be implemented in a compiled language such as C or Fortran."
   ]
  },
  {
   "cell_type": "code",
   "execution_count": null,
   "metadata": {},
   "outputs": [],
   "source": [
    "import seuif97\n",
    "%timeit seuif97.pt2h(15,535)"
   ]
  },
  {
   "cell_type": "code",
   "execution_count": null,
   "metadata": {},
   "outputs": [],
   "source": [
    "from iapws.iapws97 import IAPWS97\n",
    "%timeit IAPWS97(P=16.10,T=535.10).h"
   ]
  },
  {
   "cell_type": "markdown",
   "metadata": {},
   "source": [
    "### 1.1 Compiler a `shared library` with `multiple` files\n",
    "\n",
    "The shared library with `multiple` code files\n",
    "\n",
    "* funs.c/h\n",
    "\n",
    "* SumArray.c/h"
   ]
  },
  {
   "cell_type": "code",
   "execution_count": null,
   "metadata": {},
   "outputs": [],
   "source": [
    "%%file ./demo/src/funs.h\n",
    "\n",
    "#ifndef FUNS_H\n",
    "#define FUNS_H\n",
    "\n",
    "double dprod(double *x, int n);\n",
    "\n",
    "#endif"
   ]
  },
  {
   "cell_type": "code",
   "execution_count": null,
   "metadata": {},
   "outputs": [],
   "source": [
    "%%file ./demo/src/funs.c\n",
    "\n",
    "#include \"funs.h\"\n",
    "\n",
    "// x[0]*x[1]*...*x[n-1]\n",
    "double dprod(double *x, int n)\n",
    "{\n",
    "    double y = 1.0;\n",
    "    for (int i = 0; i < n; i++)\n",
    "    {\n",
    "        y *= x[i];\n",
    "    }\n",
    "    return y;\n",
    "}"
   ]
  },
  {
   "cell_type": "markdown",
   "metadata": {},
   "source": [
    "#### Building `funs.c`  and `SumArray.c` into libmultifuns.dll"
   ]
  },
  {
   "cell_type": "code",
   "execution_count": null,
   "metadata": {},
   "outputs": [],
   "source": [
    "!gcc -c -O3 -Wall -fPIC -o ./demo/obj/funs.o ./demo/src/funs.c \n",
    "!gcc -c -O3 -Wall -fPIC -o ./demo/obj/SumArray.o  ./demo/src/SumArray.c\n",
    "!gcc -shared -o ./demo/bin/libmultifuns.dll  ./demo/obj/funs.o  ./demo/obj/SumArray.o"
   ]
  },
  {
   "cell_type": "code",
   "execution_count": null,
   "metadata": {},
   "outputs": [],
   "source": [
    "!dir .\\demo\\bin\\libmulti*.dll"
   ]
  },
  {
   "cell_type": "markdown",
   "metadata": {},
   "source": [
    "#### Building with makefile"
   ]
  },
  {
   "cell_type": "code",
   "execution_count": null,
   "metadata": {},
   "outputs": [],
   "source": [
    "%%file ./demo/makefile-libmultifun\n",
    "\n",
    "\n",
    "CC=gcc\n",
    "CFLAGS=-O3 -Wall -fPIC\n",
    "\n",
    "\n",
    "SRCDIR= ./demo/src/\n",
    "OBJDIR= ./demo/obj/\n",
    "BINDIR= ./demo/bin/\n",
    "\n",
    "all: libmultifuns.dll\n",
    "\n",
    "libmultifuns.dll: multifunsobj\n",
    "\t $(CC) -shared -o $(BINDIR)libmultifuns.dll $(OBJDIR)funs.o $(OBJDIR)SumArray.o\n",
    "\t del .\\demo\\obj\\funs.o .\\demo\\obj\\SumArray.o\n",
    "    \n",
    "multifunsobj: $(SRCDIR)funs.c $(SRCDIR)SumArray.c\n",
    "\t$(CC) -c $(CFLAGS) -o $(OBJDIR)SumArray.o $(SRCDIR)SumArray.c\n",
    "\t$(CC) -c $(CFLAGS) -o $(OBJDIR)funs.o $(SRCDIR)funs.c \n",
    "     \n",
    "     \n",
    "clean:\n",
    "\t del .\\demo\\bin\\libmultifuns.dll"
   ]
  },
  {
   "cell_type": "code",
   "execution_count": null,
   "metadata": {},
   "outputs": [],
   "source": [
    "!make -f ./demo/makefile-libmultifun"
   ]
  },
  {
   "cell_type": "markdown",
   "metadata": {},
   "source": [
    "The result is a compiled shared library **`libmultifuns.dll`**"
   ]
  },
  {
   "cell_type": "markdown",
   "metadata": {},
   "source": [
    "#####  makefile-libmultifun Using new variables"
   ]
  },
  {
   "cell_type": "code",
   "execution_count": null,
   "metadata": {},
   "outputs": [],
   "source": [
    "%%file ./code/makefile-libmultifun\n",
    "\n",
    "CC=gcc\n",
    "CFLAGS=-O3 -Wall -fPIC  \n",
    "\n",
    "SRCDIR= ./demo/src/\n",
    "OBJDIR= ./demo/obj/\n",
    "BINDIR= ./demo/bin/\n",
    "\n",
    "INC = -I$(SRCDIR) \n",
    "\n",
    "SRCS= $(SRCDIR)funs.c \\\n",
    "      $(SRCDIR)SumArray.c \n",
    "\n",
    "all: libmultifuns.dll\n",
    "\n",
    "libmultifuns.dll: multifunsobj\n",
    "\t $(CC)  -shared -o $(BINDIR)libmultifuns.dll funs.o SumArray.o\n",
    "\t del funs.o SumArray.o\n",
    "    \n",
    "multifunsobj: \n",
    "\t $(CC) -c $(CFLAGS) $(INC) $(SRCS) \n",
    "     \n",
    "clean:\n",
    "\t del .\\demo\\bin\\libmultifuns.dll"
   ]
  },
  {
   "cell_type": "code",
   "execution_count": null,
   "metadata": {},
   "outputs": [],
   "source": [
    "!make -f ./code/makefile-libmultifun"
   ]
  },
  {
   "cell_type": "markdown",
   "metadata": {},
   "source": [
    "##### call the Lib"
   ]
  },
  {
   "cell_type": "code",
   "execution_count": null,
   "metadata": {},
   "outputs": [],
   "source": [
    "%%file ./demo/src/mainMultifuns.c\n",
    "\n",
    "#include <stdio.h> \n",
    "#include \"SumArray.h\"\n",
    "#include \"funs.h\"\n",
    "\n",
    "int main() {\n",
    "    \n",
    "     int a1[] = {8, 4, 5, 3, 2};\n",
    "     printf(\"sum is %d\\n\", sum(a1, 5));  // sum is 22\n",
    "    \n",
    "     double a2[] = {8.0, 4.0, 5.0, 3.0, 2.0};\n",
    "     printf(\"dprod is %f\\n\", dprod(a2, 5));  // dprod is 960\n",
    "     return 0;\n",
    "}"
   ]
  },
  {
   "cell_type": "code",
   "execution_count": null,
   "metadata": {},
   "outputs": [],
   "source": [
    "!gcc -c -o ./demo/obj/mainMultifuns.o ./demo/src/mainMultifuns.c \n",
    "!gcc -o  ./demo/bin/mainMultifuns ./demo/obj/mainMultifuns.o -I./demo/src/ -L./demo/bin/ -lmultifuns"
   ]
  },
  {
   "cell_type": "code",
   "execution_count": null,
   "metadata": {},
   "outputs": [],
   "source": [
    "!.\\demo\\bin\\mainMultifuns"
   ]
  },
  {
   "cell_type": "markdown",
   "metadata": {},
   "source": [
    "### 1.2 ctypes - access the C library\n",
    "\n",
    "**ctypes** is a foreign function library for Python. It provides C compatible data types, and allows calling functions in DLLs or shared libraries. It can be used to wrap these libraries in pure Python.\n",
    "\n",
    "http://docs.python.org/3/library/ctypes.html\n",
    "\n",
    "We need to load the library and set properties such as the functions return and argument types using the **ctypes** package :\n",
    "\n",
    "* **ctypes** exports the **cdll**, and on Windows **windll** objects, for loading dynamic link libraries.\n",
    "   * **cdll.LoadLibrary(name)** : loads the library  which export functions using standard `__cdecl` calling convention\n",
    "   * **windll.LoadLibrary(name)** : loads the library with `__stdcall` calling convention for the function \n",
    "\n",
    "\n",
    "* **argtypes** : the types of the arguments \n",
    "\n",
    "\n",
    "* **restype**: the types of return values. "
   ]
  },
  {
   "cell_type": "markdown",
   "metadata": {},
   "source": [
    "#### Example `__cdecl` calling convention for the function(windows,Linux)\n",
    "\n",
    "**msvcrt** is the MS **standard C library** containing most standard C functions, and uses the cdecl calling convention:"
   ]
  },
  {
   "cell_type": "code",
   "execution_count": null,
   "metadata": {},
   "outputs": [],
   "source": [
    "from ctypes import *\n",
    "print(cdll.msvcrt)"
   ]
  },
  {
   "cell_type": "markdown",
   "metadata": {},
   "source": [
    "#### Example `__stdcall` calling convention for the function(windows only) "
   ]
  },
  {
   "cell_type": "code",
   "execution_count": null,
   "metadata": {},
   "outputs": [],
   "source": [
    "from ctypes import *\n",
    "print(windll.kernel32)  "
   ]
  },
  {
   "cell_type": "markdown",
   "metadata": {},
   "source": [
    "### Wrap libmultifuns.dll in pure Python.\n",
    "\n",
    "`__cdecl` calling convention"
   ]
  },
  {
   "cell_type": "code",
   "execution_count": 5,
   "metadata": {},
   "outputs": [
    {
     "name": "stdout",
     "output_type": "stream",
     "text": [
      "Overwriting ./demo/src/multifuns.py\n"
     ]
    }
   ],
   "source": [
    "%%file ./demo/src/multifuns.py\n",
    "\n",
    "from ctypes import cdll,c_int,c_double,POINTER\n",
    "\n",
    "_lib = cdll.LoadLibrary('./demo/bin/libmultifuns.dll')\n",
    "\n",
    "# double dprod(double *x, int n)\n",
    "def dprod(x):\n",
    "    _lib.dprod.argtypes = [POINTER(c_double), c_int]\n",
    "    _lib.dprod.restype  = c_double\n",
    "    n = len(x)\n",
    "    #  convert a Python list into a C array by using ctypes\n",
    "    arr= (c_double * n)(*x)\n",
    "    return _lib.dprod(arr,int(n))\n",
    "\n",
    "# int isum(int array[], int size);\n",
    "def isum(x):\n",
    "    _lib.sum.argtypes = [POINTER(c_int), c_int]\n",
    "    _lib.sum.restype =c_int\n",
    "    n = len(x)\n",
    "    #  convert a Python list into a C array by using ctypes\n",
    "    arr= (c_int * n)(*x)\n",
    "    return _lib.sum(arr,int(n))"
   ]
  },
  {
   "cell_type": "code",
   "execution_count": 3,
   "metadata": {},
   "outputs": [],
   "source": [
    "import sys\n",
    "sys.path.append('./demo/src')"
   ]
  },
  {
   "cell_type": "code",
   "execution_count": 6,
   "metadata": {},
   "outputs": [
    {
     "name": "stdout",
     "output_type": "stream",
     "text": [
      "960.0\n",
      "22\n"
     ]
    }
   ],
   "source": [
    "import multifuns\n",
    "print(multifuns.dprod([8.0, 4.0, 5.0, 3.0, 2.0])) \n",
    "print(multifuns.isum([8, 4, 5, 3, 2]))"
   ]
  },
  {
   "cell_type": "markdown",
   "metadata": {},
   "source": [
    "### Further reading\n",
    "\n",
    "ctypes http://docs.python.org/3/library/ctypes.html\n",
    "\n",
    "C-Types Foreign Function Interface (numpy.ctypeslib)\n",
    "  https://docs.scipy.org/doc/numpy/reference/routines.ctypeslib.html\n",
    "  "
   ]
  },
  {
   "cell_type": "code",
   "execution_count": null,
   "metadata": {},
   "outputs": [],
   "source": []
  }
 ],
 "metadata": {
  "kernelspec": {
   "display_name": "Python 3",
   "language": "python",
   "name": "python3"
  },
  "language_info": {
   "codemirror_mode": {
    "name": "ipython",
    "version": 3
   },
   "file_extension": ".py",
   "mimetype": "text/x-python",
   "name": "python",
   "nbconvert_exporter": "python",
   "pygments_lexer": "ipython3",
   "version": "3.7.0"
  },
  "widgets": {
   "state": {},
   "version": "1.1.2"
  }
 },
 "nbformat": 4,
 "nbformat_minor": 1
}
