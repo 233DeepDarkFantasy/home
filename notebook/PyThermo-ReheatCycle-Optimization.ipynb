{
 "cells": [
  {
   "cell_type": "markdown",
   "metadata": {},
   "source": [
    "# Chapter 8 : Vapour Power Systems:Reheat Cycle\n",
    "\n",
    "\n",
    "* Evaluating Performance of the Reheat Cycle 8.3,8.4\n",
    "\n",
    "* Determining Optimum Reheat Pressure in the Reheat Cycle"
   ]
  },
  {
   "cell_type": "markdown",
   "metadata": {},
   "source": [
    "## Evaluating Performance of the Reheat Cycle\n",
    "\n",
    "### 1 Example 8.3:  Evaluating Performance of an Ideal Reheat Cycle(449-451)\n",
    "\n",
    "Steam is the working fluid in an ideal Rankine cycle with `superheat` and `reheat`. \n",
    "\n",
    "Steam enters the first-stage turbine at 8.0 MPa, 4808C, and expands to 0.7 MPa. It is then reheated to 4408C before entering the second-stage turbine, where it expands to the condenser pressure of 0.008 MPa. The net power output is 100 MW. \n",
    "\n",
    "#### Determine\n",
    "\n",
    "* (a) the thermal efficiency of the cycle, \n",
    "\n",
    "* (b) the mass flow rate of steam, in $kg/h$, \n",
    "\n",
    "* (c) the rate of heat transfer $Q_{out}$  from the condensing steam as it passes through the condenser, in $MW$. Discuss the effects of reheat on the vapor power cycle.\n",
    "\n",
    "#### SOLUTION\n",
    "\n",
    "**Known**: An ideal reheat cycle operates with steam as the working fluid. Operating pressures and temperatures are specified, and the net power output is given.\n",
    "\n",
    "**Find:** Determine the thermal efficiency, the mass flow rate of the steam, in $kg/h$\n",
    "\n",
    "Engineering Model:\n",
    "1. Each component in the cycle is analyzed as a control volume at steady state. The control volumes are shown on the accompanying sketch by dashed lines.\n",
    "\n",
    "2. All processes of the working fluid are internally reversible.\n",
    "\n",
    "3. The turbine and pump operate adiabatically.\n",
    "\n",
    "4. Condensate exits the condenser as saturated liquid.\n",
    "\n",
    "5. Kinetic and potential energy effects are negligible.\n",
    "\n",
    "![Rankine83](./img/rankine83.png) \n",
    "\n",
    "### 2 Example 8.4: Evaluating Performance of a Reheat Cycle with Turbine Irreversibility Page451\n",
    "\n",
    "Reconsider the reheat cycle of Example 8.3, but include in the analysis that each turbine stage has the same isentropic efficiency. \n",
    "\n",
    "(a) If $\\eta_t=85$%, determine the thermal efficiency. \n",
    "\n",
    "(b) Plot the thermal efficiency versus turbine stage isentropic efficiency ranging from 85 to 100%.\n",
    "\n",
    "![rankine84](./img/rankine84a.png)\n",
    "\n",
    "### SOLUTION\n",
    "\n",
    "* **Known:** A reheat cycle operates with steam as the working fluid. Operating pressures and temperatures are specified. Each turbine stage has the same isentropic efficiency.\n",
    "\n",
    "* **Find:**\n",
    "  \n",
    "  * If $\\eta_t=85$%, determine the thermal efficiency.\n",
    "\n",
    "  * plot the thermal efficiency versus turbine stage isentropic efficiency ranging from 85 to 100%.\n",
    "  \n",
    "### Engineering Model:\n",
    "\n",
    "1. As in Example 8.3, each component is analyzed as a control volume at steady state.\n",
    "\n",
    "2. Except for the two turbine stages, all processes are internally reversible.\n",
    "\n",
    "3. The turbine and pump operate adiabatically.\n",
    "\n",
    "4. The condensate exits the condenser as saturated liquid.\n",
    "\n",
    "5. Kinetic and potential energy effects are negligible.  \n"
   ]
  },
  {
   "cell_type": "code",
   "execution_count": 17,
   "metadata": {},
   "outputs": [
    {
     "name": "stdout",
     "output_type": "stream",
     "text": [
      "The thermal efficiency is:   0.3521833715191451\n"
     ]
    }
   ],
   "source": [
    "from seuif97 import *\n",
    "\n",
    "# Fix the states\n",
    "\n",
    "# Given :-\n",
    "# Part (a)\n",
    "etat = 0.85 # given efficiency\n",
    "# the following specific enthalpy values are known, in kJ/kg\n",
    "t1=480\n",
    "p1=8\n",
    "h1 =pt2h(p1,t1)\n",
    "s1=pt2s(p1,t1)\n",
    "\n",
    "p2=0.7\n",
    "s2=s1\n",
    "h2s =ps2h(p2,s2)\n",
    "etat1=0.85\n",
    "h2=h1-etat1*(h1-h2s)\n",
    " \n",
    "t3=440\n",
    "p3=p2\n",
    "h3 =pt2h(p3,t3)\n",
    "s3 =pt2s(p3,t3)\n",
    "\n",
    "p4=0.008\n",
    "s4=s3\n",
    "h4s =ps2h(p4,s4)\n",
    "\n",
    "etat2=etat1\n",
    "h4=h3-etat2*(h3-h4s)\n",
    "\n",
    "p5=p4\n",
    "h5=px2h(p5,0)\n",
    "v5=px2v(p5,0)\n",
    "\n",
    "p6=p1\n",
    "h6=h5+v5*(p6-p5)*100\n",
    "\n",
    "# Calculations\n",
    "# The specific enthalpy at the exit of the second-stage turbine in kj/kg\n",
    "eta = ((h1-h2)+(h3-h4)-(h6-h5))/((h1-h6)+(h3-h2)) \n",
    "\n",
    "# Result\n",
    "print('The thermal efficiency is:  ',eta)\n"
   ]
  },
  {
   "cell_type": "markdown",
   "metadata": {},
   "source": [
    "###  Turbine isentropic efficiency  &  cycle thermal efficiency\n",
    "\n",
    "#### Sweep eta from `0.85` to `1.0` in steps of `0.01`,then, using the  matplotlib.pyplot"
   ]
  },
  {
   "cell_type": "code",
   "execution_count": 1,
   "metadata": {},
   "outputs": [],
   "source": [
    "from seuif97 import *\n",
    "\n",
    "def ReheatCycle(p2,p1,t1,t3,p4,eta):\n",
    "    h1 =pt2h(p1,t1)\n",
    "    s1=pt2s(p1,t1)\n",
    "\n",
    "    s2=s1\n",
    "    h2s =ps2h(p2,s2)\n",
    "    etat1=eta\n",
    "    h2=h1-etat1*(h1-h2s)\n",
    "  \n",
    "    p3=p2\n",
    "    h3 =pt2h(p3,t3)\n",
    "    s3 =pt2s(p3,t3)\n",
    "\n",
    "    s4=s3\n",
    "    h4s =ps2h(p4,s4)\n",
    "\n",
    "    etat2=etat1\n",
    "    h4=h3-etat2*(h3-h4s)\n",
    "\n",
    "    p5=p4\n",
    "    h5=px2h(p5,0)\n",
    "    v5=px2v(p5,0)\n",
    "\n",
    "    p6=p1\n",
    "    h6=h5+v5*(p6-p5)*100\n",
    "\n",
    "    eta = ((h1-h2)+(h3-h4)-(h6-h5))/((h1-h6)+(h3-h2)) \n",
    "    return eta "
   ]
  },
  {
   "cell_type": "code",
   "execution_count": 2,
   "metadata": {},
   "outputs": [
    {
     "name": "stdout",
     "output_type": "stream",
     "text": [
      "0.4044083836818937\n",
      "0.3521833715191451\n"
     ]
    }
   ],
   "source": [
    "t1=480\n",
    "p1=8\n",
    "p2=0.7\n",
    "t3=440\n",
    "p4=0.008\n",
    "eta=1.0\n",
    "print(ReheatCycle(p2,p1,t1,t3,p4,eta))\n",
    "p2=0.7\n",
    "eta=0.85\n",
    "print(ReheatCycle(p2,p1,t1,t3,p4,eta))"
   ]
  },
  {
   "cell_type": "code",
   "execution_count": 25,
   "metadata": {},
   "outputs": [
    {
     "data": {
      "image/png": "[encoded data removed]",
      "text/plain": [
       "<matplotlib.figure.Figure at 0x7f6114264780>"
      ]
     },
     "metadata": {},
     "output_type": "display_data"
    }
   ],
   "source": [
    "%matplotlib inline\n",
    "\n",
    "# Part (b)\n",
    "from numpy import linspace\n",
    "import matplotlib.pyplot as plt\n",
    "\n",
    "y  = []\n",
    "t1=480\n",
    "p1=8\n",
    "p2=0.7\n",
    "t3=440\n",
    "p4=0.008\n",
    "etaxList = linspace(0.85,1,50)\n",
    "for etax in etaxList:\n",
    "    yi=ReheatCycle(p2,p1,t1,t3,p4,etax)\n",
    "    y.append(yi)\n",
    "\n",
    "plt.plot(etaxList,y,'r+',etaxList,y,'k')\n",
    "plt.xlabel('isentropic turbine efficiency')\n",
    "plt.ylabel('cycle thermal efficiency')\n",
    "plt.show()"
   ]
  },
  {
   "cell_type": "markdown",
   "metadata": {},
   "source": [
    "From the Fig, we see that the cycle thermal efficiency increases from `0.351`\n",
    "to` 0.403` as turbine stage isentropic efficiency increases from `0.85` to `1.00`\n",
    "\n",
    "`Turbine isentropic efficiency` is seen to have a significant effect on `cycle thermal efficiency.`"
   ]
  },
  {
   "cell_type": "markdown",
   "metadata": {},
   "source": [
    "## Determining Optimum Reheat Pressure in the Simple Reheat Cycle\n",
    "\n",
    "#### 17 KNAPSACK AND GRAPH OPTIMIZATION PROBLEMS\n",
    "\n",
    "The notion of an optimization problem provides a structured way to think about solving lots of computational problems. Whenever you set about solving a problem that involves finding the biggest, the smallest, the most, the fewest, the fastest, the least expensive, etc., there is a good chance that you can map the problem onto a classic optimization problem for which there is a known computational solution.\n",
    "\n",
    "In general, an optimization problem has two parts:\n",
    "\n",
    "* 1 `An objective function` that is to be maximized or minimized. For example, the airfare between Boston and Istanbul.\n",
    "\n",
    "* 2 `A set of constraints` (possibly empty) that must be honored. For example, an upper bound on the travel time.\n",
    "\n",
    "`Exhaustive enumeration` algorithms provide a simple, but often computationally intractable, way to search for optimal solutions\n",
    "\n",
    "[3 SOME SIMPLE NUMERICAL PROGRAMS](./03_SOME_SIMPLE_NUMERICAL_PROGRAMS.ipynb)\n",
    "\n",
    "**3.1 Exhaustive Enumeration**\n",
    "\n",
    "We `enumerate` all possibilities until we get to the right answer or exhaust `the space of possibilities`.\n",
    "\n",
    "Even if millions of guesses are required, it’s not usually a problem. Modern computers are `amazingly fast`.\n",
    "\n",
    "#### The Problem of Optimum Reheat Pressure in the Simple Reheat Cycle can be formalized as follows:\n",
    "\n",
    "Find a $p_{rh}$ that maximizes the objective function\n",
    "\n",
    "$maximization_{p_{rh}} f(p_{rh}) $\n",
    "\n",
    "\n",
    "subject to the constraint that\n",
    "\n",
    "$ p_{out}<p_{rh}<p_{in}$\n",
    "\n",
    "where:\n",
    "\n",
    "$f(p_{rh})$:  the function of the Simple Reheat Cycle  thermal efficiency\n",
    "\n",
    "$p_{rh}$: Reheat Pressure\n",
    "\n",
    "$p_{in}$: Inlet Pressure of Turbine\n",
    "\n",
    "$p_{out}$: outlet Pressure of Turbine\n",
    "\n",
    "\n",
    "### 1 Rankine8.3"
   ]
  },
  {
   "cell_type": "code",
   "execution_count": 3,
   "metadata": {},
   "outputs": [
    {
     "name": "stdout",
     "output_type": "stream",
     "text": [
      "The Optimum Reheat Pressure: 1.3838MPa\n",
      "The cycle thermal efficiency: 35.3946%\n"
     ]
    },
    {
     "data": {
      "image/png": "[encoded data removed]",
      "text/plain": [
       "<matplotlib.figure.Figure at 0x7f3da0105b70>"
      ]
     },
     "metadata": {},
     "output_type": "display_data"
    }
   ],
   "source": [
    "%matplotlib inline\n",
    "\n",
    "from numpy import linspace\n",
    "import matplotlib.pyplot as plt\n",
    "\n",
    "ef  = []\n",
    "# constrain\n",
    "#p2list = linspace(0.008,8,1000)\n",
    "p2list = linspace(0.3,4,100)\n",
    "\n",
    "t1=480\n",
    "p1=8\n",
    "t3=440\n",
    "p4=0.008\n",
    "eta=0.85\n",
    "\n",
    "maxEta=0;\n",
    "OptiP=0.3\n",
    "for p2 in p2list:\n",
    "    ceta = 100.0*ReheatCycle(p2,p1,t1,t3,p4,eta) \n",
    "    if ceta>maxEta:\n",
    "        maxEta=ceta\n",
    "        OptiP=p2\n",
    "    ef.append(ceta)\n",
    "\n",
    "print(\"The Optimum Reheat Pressure: {:.4f}MPa\".format(OptiP)) \n",
    "print(\"The cycle thermal efficiency: {:.4f}%\".format(maxEta)) \n",
    "\n",
    "plt.xlabel('The Optimum Reheat Pressure(MPa)')\n",
    "plt.ylabel('cycle thermal efficiency(%)')\n",
    "\n",
    "plt.plot(p2list,ef,'b+-')\n",
    "plt.plot(OptiP,maxEta,'ro')\n",
    "plt.annotate('Optimum({:.4f}MPa,{:.4f}%)'.format(OptiP,maxEta),\n",
    "             xy=(OptiP, maxEta), xycoords='data',\n",
    "             xytext=(+0.1, +5), textcoords='offset points', fontsize=12)\n",
    "y0, y1 = plt.ylim()\n",
    "plt.ylim(y0,y1+0.02)\n",
    "plt.show()"
   ]
  },
  {
   "cell_type": "markdown",
   "metadata": {},
   "source": [
    "### 2  郑体宽，杨晨. 热力发电厂（第二版）[77-78页]\n",
    "\n",
    "郑体宽，杨晨. 热力发电厂（第二版）[77-78页] ,中国电力出版社，北京，2008.12\n",
    "\n",
    "【例题2-1】 某凝汽式汽轮机的蒸汽参数为：$p_o=13.25MPa$,$t_o=550°C$,$p_c=0.005MPa$。拟采用一次中间再热，$t_{rh}=550°C$。求该理想再热循环的最佳再热压力及循环效率。\n",
    "\n",
    "思考：书中的方法是不是 [computational thinking](https://en.wikipedia.org/wiki/Computational_thinking#Center_for_Computational_Thinking)的方法？ "
   ]
  },
  {
   "cell_type": "code",
   "execution_count": 27,
   "metadata": {},
   "outputs": [
    {
     "name": "stdout",
     "output_type": "stream",
     "text": [
      "0.4393276723655848\n"
     ]
    }
   ],
   "source": [
    "t1=550\n",
    "p1=13.25\n",
    "p2=0.3\n",
    "t3=550\n",
    "p4=0.005\n",
    "eta=1.0\n",
    "print(ReheatCycle(p2,p1,t1,t3,p4,eta))"
   ]
  },
  {
   "cell_type": "code",
   "execution_count": 4,
   "metadata": {},
   "outputs": [
    {
     "name": "stdout",
     "output_type": "stream",
     "text": [
      "The Optimum Reheat Pressure: 2.7685MPa\n",
      "The cycle Thermal Efficiency: 45.4701%\n"
     ]
    },
    {
     "data": {
      "image/png": "[encoded data removed]",
      "text/plain": [
       "<matplotlib.figure.Figure at 0x7f3da340dcf8>"
      ]
     },
     "metadata": {},
     "output_type": "display_data"
    }
   ],
   "source": [
    "%matplotlib inline\n",
    "\n",
    "from numpy import linspace\n",
    "import matplotlib.pyplot as plt\n",
    "\n",
    "ef  = []\n",
    "t1=550\n",
    "p1=13.25\n",
    "t3=550\n",
    "p4=0.005\n",
    "eta=1.0\n",
    "#constraint\n",
    "#p2list = linspace(0.005,13.25,10000)\n",
    "p2list = linspace(0.9,7.0,1000)\n",
    "\n",
    "maxEta=0;\n",
    "OptiP=0.1\n",
    "for p2 in p2list:\n",
    "    ceta = 100.0*ReheatCycle(p2,p1,t1,t3,p4,eta) \n",
    "    if ceta>maxEta:\n",
    "        maxEta=ceta\n",
    "        OptiP=p2\n",
    "    ef.append(ceta)\n",
    "\n",
    "print(\"The Optimum Reheat Pressure: {:.4f}MPa\".format(OptiP)) \n",
    "print(\"The cycle Thermal Efficiency: {:.4f}%\".format(maxEta)) \n",
    "\n",
    "\n",
    "plt.xlabel('Optimum Reheat Pressure(MPa)')\n",
    "plt.ylabel('cycle thermal efficiency(%)')\n",
    "\n",
    "plt.plot(p2list,ef,'b-')\n",
    "plt.plot(OptiP,maxEta,'ro')\n",
    "\n",
    "plt.annotate('Optimum:p={:.4f}MPa,eta={:.4f}%'.format(OptiP,maxEta),\n",
    "             xy=(OptiP, maxEta), xycoords='data',\n",
    "             xytext=(+0.1, +5), textcoords='offset points', fontsize=12)\n",
    "plt.ylim(plt.ylim()[0],plt.ylim()[1]+0.03)\n",
    "plt.show()"
   ]
  },
  {
   "cell_type": "code",
   "execution_count": null,
   "metadata": {},
   "outputs": [],
   "source": []
  }
 ],
 "metadata": {
  "kernelspec": {
   "display_name": "Python 3",
   "language": "python",
   "name": "python3"
  },
  "language_info": {
   "codemirror_mode": {
    "name": "ipython",
    "version": 3
   },
   "file_extension": ".py",
   "mimetype": "text/x-python",
   "name": "python",
   "nbconvert_exporter": "python",
   "pygments_lexer": "ipython3",
   "version": "3.6.5"
  },
  "widgets": {
   "state": {},
   "version": "1.1.2"
  }
 },
 "nbformat": 4,
 "nbformat_minor": 1
}
