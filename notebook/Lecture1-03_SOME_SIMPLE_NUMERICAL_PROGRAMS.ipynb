{
 "cells": [
  {
   "cell_type": "markdown",
   "metadata": {},
   "source": [
    "# 3 SOME SIMPLE NUMERICAL PROGRAMS\n",
    "\n",
    "Now that we have covered some basic Python constructs, \n",
    "\n",
    "it is time to start thinking about<b style=\"color:blue\"> how </b>we can combine those constructs to <b style=\"color:blue\"> write some simple programs</b>. \n",
    "\n",
    "<p>Along the way, we’ll sneak in a few more <b>language constructs</b> and some<b> algorithmic techniques</b>."
   ]
  },
  {
   "cell_type": "markdown",
   "metadata": {},
   "source": [
    "## 3.1 Exhaustive Enumeration"
   ]
  },
  {
   "cell_type": "code",
   "execution_count": 1,
   "metadata": {},
   "outputs": [
    {
     "name": "stdout",
     "output_type": "stream",
     "text": [
      "Cube root of 8 is 2\n"
     ]
    }
   ],
   "source": [
    "#Page 21, Figure 3.1\n",
    "#Find the cube root of a perfect cube\n",
    "\n",
    "#x = int(input('Enter an integer: '))\n",
    "#x=19\n",
    "x=8\n",
    "#x=-8\n",
    "\n",
    "ans = 0   #  ！！！\n",
    "while ans**3 < abs(x):\n",
    "    ans = ans + 1  # +1  Exhaustive Enumeration\n",
    "\n",
    "if ans**3 != abs(x):\n",
    "    print(x, 'is not a perfect cube')\n",
    "else:\n",
    "    \n",
    "    if x < 0:\n",
    "        ans = -ans\n",
    "    \n",
    "    print('Cube root of', x,'is', ans)"
   ]
  },
  {
   "cell_type": "markdown",
   "metadata": {},
   "source": [
    "The algorithmic technique used in this program is a variant of <b>guess and check</b> called<b>  exhaustive enumeration</b>. \n",
    "\n",
    "We enumerate all possibilities until we get to the right answer or exhaust the space of possibilities. \n",
    "\n",
    "At first blush, this may seem like an incredibly stupid way to solve a problem. \n",
    "\n",
    "Surprisingly, however, <b>exhaustive enumeration</b> algorithms are often <b>the most practical way</b> to solve a\n",
    "problem."
   ]
  },
  {
   "cell_type": "code",
   "execution_count": null,
   "metadata": {},
   "outputs": [],
   "source": [
    "x=19578162  # 7406961012236344616 very big \n",
    "ans = 0   \n",
    "while ans**3 < abs(x):\n",
    "    ans = ans + 1  # \n",
    "\n",
    "if ans**3 != abs(x):\n",
    "    print(x, 'is not a perfect cube')\n",
    "else:\n",
    "    if x < 0:\n",
    "        ans = -ans\n",
    "    print('Cube root of', x,'is', ans)"
   ]
  },
  {
   "cell_type": "markdown",
   "metadata": {
    "collapsed": true
   },
   "source": [
    "### Now, let’s insert some <b  style=\"color:red\">errors</b> and see what happens\n",
    "\n",
    "* 1 <b  style=\"color:blue\">commenting out the statement ans = 0</b>. \n",
    "\n",
    "The Python interpreter prints the error message, NameError: name 'ans' is not defined, because the interpreter attempts to  find the value to which ans is bound before it has been bound to anything."
   ]
  },
  {
   "cell_type": "code",
   "execution_count": null,
   "metadata": {},
   "outputs": [],
   "source": [
    "x=-8\n",
    "\n",
    "# ans = 0   #  commenting out the statement ans = 0\n",
    "            #              2.When the loop is entered, its value is nonnegative\n",
    "while ans**3 < abs(x):\n",
    "    ans = ans + 1  # \n",
    "\n",
    "if ans**3 != abs(x):\n",
    "    print(x, 'is not a perfect cube')\n",
    "else:\n",
    "    if x < 0:\n",
    "        ans = -ans\n",
    "    print('Cube root of', x,'is', ans)"
   ]
  },
  {
   "cell_type": "markdown",
   "metadata": {},
   "source": [
    "* 2 replace the statement <b style=\"color:blue\">ans = ans + 1 by ans = ans</b>, \n",
    "\n",
    "and try finding the cube root of 8. After you get <b  style=\"color:red\">tired of waiting</b>, enter <b>“control+c”</b> (hold down the control key and the c key simultaneously). This will return you to the user prompt in the shell."
   ]
  },
  {
   "cell_type": "code",
   "execution_count": null,
   "metadata": {},
   "outputs": [],
   "source": [
    "%%file ./src/ch3_cube_root.py\n",
    "\n",
    "# Test in IDEL By ch3_cube_root\n",
    "x=8\n",
    "ans = 0  \n",
    "while ans**3 < abs(x):\n",
    "    \n",
    "    ans = ans  # replace the statement ans = ans + 1 by ans = ans \n",
    "               # 4.Its value is decreased every time through the loop. \n",
    "               # 3.When its value is <=0, the loop terminates. \n",
    "\n",
    "if ans**3 != abs(x):\n",
    "    print(x, 'is not a perfect cube')\n",
    "else:\n",
    "    if x < 0:\n",
    "        ans = -ans\n",
    "    print('Cube root of', x,'is', ans)"
   ]
  },
  {
   "cell_type": "code",
   "execution_count": null,
   "metadata": {},
   "outputs": [],
   "source": [
    "!python ./src/ch3_cube_root.py"
   ]
  },
  {
   "cell_type": "code",
   "execution_count": null,
   "metadata": {},
   "outputs": [],
   "source": [
    "!dir"
   ]
  },
  {
   "cell_type": "markdown",
   "metadata": {
    "collapsed": true
   },
   "source": [
    "###  When confronted with a program that seems <b style=\"color:blue\">not to be terminating</b>,\n",
    "\n",
    "insert <strong  style=\"color:blue\">print</strong> statements to test whether the  <b style=\"color:red\">decrementing function</b> is indeed being decremented."
   ]
  },
  {
   "cell_type": "markdown",
   "metadata": {},
   "source": [
    "### decrementing function\n",
    "\n",
    "Whenever you write a loop, you should think about an appropriate <b>decrementing function.</b> This is a function that has the following properties:\n",
    "* It maps a set of program variables into an integer.\n",
    "* When the loop is entered, its value is nonnegative.\n",
    "* When its value is <=0, the loop **terminates**.\n",
    "* Its value is **decreased** every time through the loop.\n",
    "\n",
    "What is the decrementing function for the loop? It is\n",
    "```python\n",
    "abs(x) - ans**3\n",
    "```"
   ]
  },
  {
   "cell_type": "code",
   "execution_count": null,
   "metadata": {},
   "outputs": [],
   "source": [
    "%%file ./src/ch3_cube_root.py\n",
    "\n",
    "# Test in IDEL By ch3_cube_root\n",
    "x=8\n",
    "ans = 0  \n",
    "while ans**3 < abs(x):\n",
    "    \n",
    "    print('Value of the decrementing function abs(x) - ans**3 is', \n",
    "            abs(x) - ans**3) # add the statement at the start of the loop\n",
    "                             # test whether the decrementing function is indeed being decremented\n",
    "   \n",
    "    ans = ans  # replace the statement ans = ans + 1 by ans = ans \n",
    "               # 4.Its value is decreased every time through the loop. \n",
    "               # 3.When its value is <=0, the loop terminates. \n",
    "\n",
    "if ans**3 != abs(x):\n",
    "    print(x, 'is not a perfect cube')\n",
    "else:\n",
    "    if x < 0:\n",
    "        ans = -ans\n",
    "    print('Cube root of', x,'is', ans)"
   ]
  },
  {
   "cell_type": "code",
   "execution_count": null,
   "metadata": {},
   "outputs": [],
   "source": [
    "!python ./src/ch3_cube_root.py"
   ]
  },
  {
   "cell_type": "markdown",
   "metadata": {},
   "source": [
    "### line continuation. \n",
    "\n",
    "* Python's <b>implicit line joining</b> inside <b>parentheses, brackets and braces</b>.\n",
    "\n",
    "\n",
    "* \"\\\" continuation. \n"
   ]
  },
  {
   "cell_type": "code",
   "execution_count": null,
   "metadata": {},
   "outputs": [],
   "source": [
    "x=1\n",
    "ans=2\n",
    "print('Value of the decrementing function abs(x) - ans**3 is',\n",
    "       abs(x) - ans**3)"
   ]
  },
  {
   "cell_type": "code",
   "execution_count": null,
   "metadata": {},
   "outputs": [],
   "source": [
    "a = '1' + '2' + '3' +  '4' + '5' +'6'\n",
    "a"
   ]
  },
  {
   "cell_type": "code",
   "execution_count": null,
   "metadata": {},
   "outputs": [],
   "source": [
    "a = '1' + '2' + '3' +  \\\n",
    "    '4' + '5' + '6'\n",
    "a"
   ]
  },
  {
   "cell_type": "code",
   "execution_count": null,
   "metadata": {},
   "outputs": [],
   "source": [
    "a = ('1' + '2' + '3' +\n",
    "     '4' + '5' + '6'  )\n",
    "a"
   ]
  },
  {
   "cell_type": "markdown",
   "metadata": {},
   "source": [
    "## 3.2 For Loops\n",
    "\n",
    "Python provides a language mechanism, the <b>for</b> loop,that can be used to simplify programs containing this kind of iteration: Each iterates over a sequence of integers.\n",
    "\n",
    "The general form of a for statement is :\n",
    "```python\n",
    "for variable in sequence:\n",
    "    code block\n",
    "```"
   ]
  },
  {
   "cell_type": "markdown",
   "metadata": {},
   "source": [
    "The process continues until the sequence is exhausted or a <b style=\"color:blue\">break</b> statement is executed within the code block.\n",
    "\n",
    "The sequence of values bound to variable is most commonly generated using the built-in function <b style=\"color:blue\">range</b>, which returns a sequence containing an arithmetic\n",
    "progression. The range function takes three integer arguments: start, stop, and step. \n",
    "\n",
    "<b style=\"color:blue\">range(start,stop,step)</b>\n",
    "\n",
    "It produces the progression start, start + step, start + 2*step, etc.\n",
    "\n",
    "    range(5,40,10) -> [5,15,25,35]\n",
    "\n",
    "If step is negative, the last element is the smallest integer start + i*step greater than stop.\n",
    "\n",
    "    range(40,5,-10)-> [40,30,20,10]\n",
    "\n",
    "If the first argument is omitted it defaults to 0, \n",
    "if the lastargument (the step size) is omitted it defaults to 1.\n",
    "\n",
    "    range(3)-> range(0, 3)->range(0, 3,1) ->[0, 1, 2]\n"
   ]
  },
  {
   "cell_type": "code",
   "execution_count": null,
   "metadata": {},
   "outputs": [],
   "source": [
    "x = 4\n",
    "for i in range(0, x):\n",
    "    print(i) "
   ]
  },
  {
   "cell_type": "code",
   "execution_count": null,
   "metadata": {},
   "outputs": [],
   "source": [
    "x = 4\n",
    "for i in range(0, x):\n",
    "    x=5\n",
    "    print(i) "
   ]
  },
  {
   "cell_type": "markdown",
   "metadata": {},
   "source": [
    "The range function in the line with for is evaluated <b>just</b> before the <b>first iteration of the loop</b>, and not reevaluated for subsequent iterations."
   ]
  },
  {
   "cell_type": "code",
   "execution_count": null,
   "metadata": {},
   "outputs": [],
   "source": [
    "x = 4\n",
    "for j in range(x):\n",
    "    \n",
    "    print('j: ',j)\n",
    "    \n",
    "    for i in range(x):  # inner loop\n",
    "        print(i)\n",
    "        x=2              # inner loop    "
   ]
  },
  {
   "cell_type": "code",
   "execution_count": null,
   "metadata": {},
   "outputs": [],
   "source": [
    "x = 4\n",
    "for j in range(x):\n",
    "    \n",
    "    print('j: ',j)\n",
    "    \n",
    "    for i in range(x):  # inner loop\n",
    "        print(i)\n",
    "    \n",
    "    x=2 # change  x=2"
   ]
  },
  {
   "cell_type": "markdown",
   "metadata": {},
   "source": [
    "finding cube roots: <b>while loop -> for loop</b> \n",
    "\n",
    "The <b>break</b> statement in the <b>for loop</b> causes the loop to terminate before it has been run on each element in the sequence over which it is iterating."
   ]
  },
  {
   "cell_type": "code",
   "execution_count": null,
   "metadata": {},
   "outputs": [],
   "source": [
    "# Find the cube root of a perfect cube\n",
    "x = int(input('Enter an integer: '))  #  27\n",
    "\n",
    "for ans in range(0, abs(x) + 1):   \n",
    "    if ans**3 >= abs(x):\n",
    "        break          #  break statement\n",
    "\n",
    "if ans**3 != abs(x):\n",
    "    print(x, 'is not a perfect cube')\n",
    "else:\n",
    "    if x < 0:\n",
    "        ans = -ans\n",
    "    print('Cube root of', x, 'is', ans)"
   ]
  },
  {
   "cell_type": "markdown",
   "metadata": {},
   "source": [
    "The for statement can be used to conveniently <b>iterate</b> over characters of a <b>string</b>."
   ]
  },
  {
   "cell_type": "markdown",
   "metadata": {},
   "source": [
    "Most of the time, numbers of type float provide a reasonably good approximation to real numbers. But <b  style=\"color:blue\">“most of the time” is not all of the time</b>,\n",
    "and when they don’t it can lead to <b>surprising consequences</b>."
   ]
  },
  {
   "cell_type": "code",
   "execution_count": 2,
   "metadata": {},
   "outputs": [
    {
     "name": "stdout",
     "output_type": "stream",
     "text": [
      "45\n"
     ]
    }
   ],
   "source": [
    "total = 0\n",
    "for char in '123456789':\n",
    "    total = total + int(char)\n",
    "print(total)"
   ]
  },
  {
   "cell_type": "markdown",
   "metadata": {},
   "source": [
    "## 3.3 Approximate Solutions and Bisection Search\n",
    "\n",
    "Imagine that someone asks you to write a program that finds the square root of any nonnegative number. What should you do?\n",
    "\n",
    "The right thing to have asked for is a program that finds an <b style=\"color:blue\">approximation</b> to the square root—i.e., an answer that is close enough to the actual square root to be useful.\n",
    "\n",
    "<b style=\"color:blue\">numerical solution</b>\n",
    "\n",
    "<b style=\"color:blue\">analytical solution</b>"
   ]
  },
  {
   "cell_type": "markdown",
   "metadata": {},
   "source": [
    "### 1) Approximating the square root using exhaustive enumeration"
   ]
  },
  {
   "cell_type": "code",
   "execution_count": null,
   "metadata": {},
   "outputs": [],
   "source": [
    "#Page 26, Figure 3.3\n",
    "x = 24\n",
    "epsilon = 0.01\n",
    "step = epsilon**2\n",
    "numGuesses = 0\n",
    "ans = 0.0\n",
    "while abs(ans**2 - x) >= epsilon and ans <= x:\n",
    "    ans += step        # += :ans = ans+ step; -= *=                         \n",
    "    numGuesses += 1\n",
    "print('numGuesses =', numGuesses)\n",
    "if abs(ans**2 - x) >= epsilon:\n",
    "    print('Failed on square root of', x)\n",
    "else:\n",
    "    print(ans, 'is close to square root of', x)"
   ]
  },
  {
   "cell_type": "code",
   "execution_count": null,
   "metadata": {},
   "outputs": [],
   "source": [
    "x=0.25  #  0.5 [0,1]\n",
    "epsilon = 0.01\n",
    "step = epsilon**2\n",
    "numGuesses = 0\n",
    "ans = 0.0\n",
    "while abs(ans**2 - x) >= epsilon and ans <= x:\n",
    "    ans += step        # += :ans = ans+ step; -= *=                         \n",
    "    numGuesses += 1\n",
    "print('numGuesses =', numGuesses)\n",
    "if abs(ans**2 - x) >= epsilon:\n",
    "    print('Failed on square root of', x)\n",
    "else:\n",
    "    print(ans, 'is close to square root of', x)"
   ]
  },
  {
   "cell_type": "markdown",
   "metadata": {},
   "source": [
    "Exhaustive enumeration is a search technique that works only if  the set of values being searched <b>includes the answer</b>"
   ]
  },
  {
   "cell_type": "code",
   "execution_count": null,
   "metadata": {},
   "outputs": [],
   "source": [
    "x=0.25  #  0.5 [0,1]\n",
    "epsilon = 0.01\n",
    "step = epsilon**2  #  epsilon**3 \n",
    "numGuesses = 0  # 3513631\n",
    "ans = 0.0\n",
    "while abs(ans**2 - x) >= epsilon and ans*ans <= x:  # \n",
    "    ans += step        # += :ans = ans+ step; -= *=                         \n",
    "    numGuesses += 1\n",
    "print('numGuesses =', numGuesses)\n",
    "if abs(ans**2 - x) >= epsilon:\n",
    "    print('Failed on square root of', x)\n",
    "else:\n",
    "    print(ans, 'is close to square root of', x)"
   ]
  },
  {
   "cell_type": "markdown",
   "metadata": {},
   "source": [
    "The time has come to look for a different way to attack the problem. We need to choose a better algorithm rather than fine tune the current one."
   ]
  },
  {
   "cell_type": "markdown",
   "metadata": {},
   "source": [
    "### 2) Using bisection search to approximate square root\n",
    "\n",
    "Suppose we know that a good approximation to the square root of x lies somewhere between 0 and max. We can exploit the fact that numbers are totally ordered.\n",
    "\n",
    "Since we don’t necessarily know where to start searching, let’s start in the middle.\n",
    "```\n",
    "0__________________________guess__________________________max\n",
    "```\n"
   ]
  },
  {
   "cell_type": "code",
   "execution_count": null,
   "metadata": {},
   "outputs": [],
   "source": [
    "# Page 28, Figure 3.4\n",
    "#x = 25\n",
    "\n",
    "x=123456789\n",
    "epsilon = 0.01\n",
    "numGuesses = 0\n",
    "low = 0.0\n",
    "high = max(1.0, x)        # the square root of x lies somewhere between 0 and max\n",
    "ans = (high + low) / 2.0  # let’s start in the middle.\n",
    "\n",
    "while abs(ans**2 - x) >= epsilon:\n",
    "#    print('low =', low, 'high =', high, 'ans =', ans)\n",
    " \n",
    "#    print('root interval=[ %12.9f'%low,', %12.9f'%high,']', 'ans =%12.9f'%(ans)) #old string formatting\n",
    "    \n",
    "    print('root interval=[ {0:.9f}, {0:.9f}], ans= {0:.9f}'.format(low,high,ans))\n",
    "   \n",
    "    numGuesses += 1\n",
    "    \n",
    "    # whether it is too big or too small\n",
    "    if ans**2 < x:    \n",
    "        low = ans    # If it is too small, we know that the answer must lie to the right\n",
    "                     # [0,max]->[ans,max]\n",
    "    else:\n",
    "        high = ans   # If it is too big, we know that the answer must lie to the left.\n",
    "                     # [0,max]-[0,ans]\n",
    "    ans = (high + low) / 2.0\n",
    "\n",
    "print('\\nnumGuesses =', numGuesses)\n",
    "print(ans, 'is close to square root of', x)"
   ]
  },
  {
   "cell_type": "markdown",
   "metadata": {},
   "source": [
    "Because it divides the search space in half at each step, it is called a <b>bisection search</b>"
   ]
  },
  {
   "cell_type": "markdown",
   "metadata": {
    "collapsed": true
   },
   "source": [
    "#### Python Tutorial : 7.1 Fancier Output Formatting\n",
    "\n",
    "https://docs.python.org/3.5/tutorial/inputoutput.html#fancier-output-formatting"
   ]
  },
  {
   "cell_type": "markdown",
   "metadata": {},
   "source": [
    "## 3.4 A Few Words About Using Floats"
   ]
  },
  {
   "cell_type": "code",
   "execution_count": null,
   "metadata": {},
   "outputs": [],
   "source": [
    "x = 0.0\n",
    "for i in range(10):\n",
    "    x = x + 0.1    # because the value to which x is bound is not exactly 1.0\n",
    "\n",
    "if x == 1.0:\n",
    "    print(x, '= 1.0')\n",
    "else:\n",
    "    print(x, 'is not 1.0')\n",
    "    print('\\n Tested that two floating point values are equal (==) instead of nearly equal')\n",
    "\n",
    "print('\\n x==1.0 ', x==1.0)    \n",
    "print(x)"
   ]
  },
  {
   "cell_type": "markdown",
   "metadata": {},
   "source": [
    "<b>Why does it get to the else clause in the first place?</b>\n",
    "\n",
    "Modern computers use <b>binary</b>, not decimal, representations. We represent <b>the significant digits</b> and<b> exponents</b> in <b>binary</b> rather than decimal and raise 2 rather than 10 to the exponent.\n",
    "\n",
    "$sig*2^{exp}$\n",
    "\n",
    "0.625\n",
    "\n",
    "$(101,-011) \\rightarrow 5*2^{-3}  \\rightarrow 0.625$\n",
    "\n",
    "$ 1/10->0.1 ?  sig*2^{exp}$\n",
    "\n",
    "** if sig=1,exp=-3 ** \n",
    "\n",
    "$ (01, -11) \\rightarrow 1*2^{-3}  \\rightarrow  1/8 = 0.125 \\neq 0.1 $\n",
    "\n",
    "$(0011, -0100) \\rightarrow 3*2^{-4}  \\rightarrow  3/32 \\rightarrow 0.09375 \\neq 0.1 $\n",
    "\n",
    "$(11001, -01000) \\rightarrow 25*2^{-8} \\rightarrow25/256 \\rightarrow 0.09765625 \\neq 0.1 $\n",
    "\n",
    "How many significant digits would we need to get an exact floating point representation of 0.1?\n",
    "<b>An infinite number of digits!</b> \n",
    "\n",
    "There do not exist integers sig and exp such that $sig * 2^{-exp}$ equals 0.1. \n",
    "\n",
    "In base 2, 1/10 is the infinitely repeating fraction\n",
    "\n",
    "0.0001100110011001100110011001100110011001100110011...\n",
    "\n",
    "In most Python implementations, there are <b>53 bits of precision available</b> for floating point numbers,\n"
   ]
  },
  {
   "cell_type": "code",
   "execution_count": null,
   "metadata": {},
   "outputs": [],
   "source": [
    "x=1/10\n",
    "print(x)  # automatic rounding"
   ]
  },
  {
   "cell_type": "markdown",
   "metadata": {
    "collapsed": true
   },
   "source": [
    "Just remember, even though the printed result <b>looks like</b> the exact value of 1/10, the actual stored value is <b>the nearest</b> representable binary fraction.\n",
    "\n",
    "if you want to explicitly round a floating point number, use the round function. \n",
    "The expression\n",
    "```python\n",
    "round(x, numDigits)\n",
    "```\n",
    "returns the floating point number equivalent to rounding the value of x to numDigits decimal digits\n",
    "following the decimal point."
   ]
  },
  {
   "cell_type": "code",
   "execution_count": null,
   "metadata": {},
   "outputs": [],
   "source": [
    "round(2**0.5, 4)"
   ]
  },
  {
   "cell_type": "markdown",
   "metadata": {},
   "source": [
    "Does the difference between real and floating point numbers really matter?\n",
    "Most of the time, mercifully, it does not.\n",
    "\n",
    "However, \n",
    "<ol>\n",
    "<li><b>tests for equality</b>  write abs(x-y) < 0.0001 rather than x == y.\n",
    "<li><b>the accumulation of rounding errors<b> \n",
    "</ol>"
   ]
  },
  {
   "cell_type": "markdown",
   "metadata": {},
   "source": [
    "#### numpy.finfo\n",
    "\n",
    "class numpy.finfo\n",
    "\n",
    "    Machine limits for floating point types.\n",
    "\n",
    "http://docs.scipy.org/doc/numpy/reference/generated/numpy.finfo.html"
   ]
  },
  {
   "cell_type": "code",
   "execution_count": null,
   "metadata": {},
   "outputs": [],
   "source": [
    "import numpy as np\n",
    "\n",
    "iexp32  = np.finfo(np.float32).iexp \n",
    "print('The number of bits in the exponent portion: ',iexp32)\n",
    "# nmant (int) The number of bits in the mantissa. \n",
    "nmant32 = np.finfo(\"float32\").nmant \n",
    "print('The number of bits in the mantissa: ',nmant32)\n",
    "eps32 = np.finfo(\"float32\").eps\n",
    "print(eps32)"
   ]
  },
  {
   "cell_type": "code",
   "execution_count": null,
   "metadata": {},
   "outputs": [],
   "source": [
    "for f in (np.float16,np.float32, float):\n",
    "    finfo = np.finfo(f)\n",
    "    print(finfo)"
   ]
  },
  {
   "cell_type": "markdown",
   "metadata": {},
   "source": [
    "### Further Reading \n",
    "\n",
    "#### 1 Python Tutorial: Chapter 15 FLOATING POINT ARITHMETIC: ISSUES AND LIMITATIONS\n",
    "\n",
    "<p>For use cases which require exact decimal representation, \n",
    "<p>try using the <b>decimal module</b> which implements decimal arithmetic suitable for<b> accounting applications and high-precision applications</b>.\n",
    "<p>Another form of exact arithmetic is supported by the <b>fractions module</b> which implements arithmetic based on\n",
    "rational numbers (so the numbers like 1/3 can be represented exactly).\n",
    "\n",
    "##### 2 Numerical Recipes :2 1.3 Error, Accuracy, and Stability\n",
    "\n",
    "http://numerical.recipes/\n",
    "\n",
    "In floating-point representation, a number is represented internally by\n",
    "\n",
    "1) a sign bit <b>s</b> : interpreted as plus or minus, \n",
    "\n",
    "2) an exact integer exponent<b> e</b>, \n",
    "\n",
    "3)  an exact positive  integer mantissa <b>M</b>. \n",
    "\n",
    "Taken together these represent the number\n",
    "\n",
    "$s*M* B^{e−E}$\n",
    "\n",
    "where <b>B</b> is the base of the representation (usually B = 2, but sometimes B = 16),and <b>E</b> is the bias of the exponent, a fixed integer constant for any given machine and representation. \n",
    "\n",
    "An example is shown in Figure(Floating point representations of numbers in a typical 32-bit (4-byte) format,Exponent bias <b>E</b>=127) \n",
    "\n",
    "![float](./img/float.jpg) \n",
    "\n",
    "#### 3 IEEE floating point\n",
    "\n",
    "https://en.wikipedia.org/wiki/IEEE_floating_point"
   ]
  },
  {
   "cell_type": "markdown",
   "metadata": {},
   "source": [
    "## 3.5 Newton-Raphson\n",
    "\n",
    "we shall look at it only in the context of finding the real roots of a polynomial with one variable.\n",
    "\n",
    "$f(x)=a*x^n +a_0$\n",
    "\n",
    "Want to find r: \n",
    "\n",
    "$f(r)=0$\n",
    "    \n",
    "Newton proved a theorem that implies that if a value, call it <b>$X_k$</b>, is an approximation to a root of a polynomial, then\n",
    "\n",
    "$x_{k+1}=x_k– \\frac{f(x_k)}{f’(x_k)}$\n",
    "\n",
    "is a better approximation. where <b>$f’$</b> is the first derivative of $f$, \n",
    "\n",
    "$y=f(x_k)+f'(x_k)(x-x_k)$\n",
    "\n",
    "liner equation between two point: $(x_{k+1},0),(x_k,y_k)$ \n",
    "\n",
    "![newton](./img/newton.jpg) \n",
    "\n",
    "For example, the first derivative of \n",
    "\n",
    "$x^2 – k$ is $2x$. \n",
    "\n",
    "Therefore, we know that we can improve on the <b>current guess</b>, call it $x_k$\n",
    "\n",
    "by choosing as our next guess $x_{k+1}$:\n",
    "\n",
    "\n",
    "$x_{k+1}=x_k - \\frac{x_{k}^2 - k}{2x_k}$ \n",
    "\n",
    "This is called <b>successive approximation</b>.\n"
   ]
  },
  {
   "cell_type": "code",
   "execution_count": null,
   "metadata": {},
   "outputs": [],
   "source": [
    "# Newton-Raphson for square root\n",
    "\n",
    "#Find x such that x**2 - 24 is within epsilon \n",
    "\n",
    "epsilon = 0.01   # 试验提示1：改变精度，测试死循环，给出改进的稳健 算法\n",
    "\n",
    "k = 24.0\n",
    "\n",
    "guess =k/2.0   # reinitialize a variable，试验提示2： 比较不同初值下速度,如 0.01\n",
    "\n",
    "# 6.2.3 Failed to reinitialize a variable \n",
    "\n",
    "successiveapproximation=0  #  试验提示3：和二分法对比下数值求解的 速度和精度\n",
    "while abs(guess*guess - k) >= epsilon:\n",
    "    \n",
    "    guess = guess - (((guess**2) - k)/(2*guess))  # a better next approximation\n",
    "    \n",
    "    successiveapproximation+=1\n",
    "\n",
    "print('Square root of', k, 'is about', guess)\n",
    "print('counts of successive approximation=',successiveapproximation)"
   ]
  },
  {
   "cell_type": "markdown",
   "metadata": {
    "collapsed": true
   },
   "source": [
    "### Further Reading： \n",
    "\n",
    "Numerical Recipes in C  : http://numerical.recipes/\n",
    "\n",
    "* 9.1 Bracketing and Bisection\n",
    "\n",
    "* 9.4 Newton-Raphson Method Using Derivative"
   ]
  }
 ],
 "metadata": {
  "kernelspec": {
   "display_name": "Python 3",
   "language": "python",
   "name": "python3"
  },
  "language_info": {
   "codemirror_mode": {
    "name": "ipython",
    "version": 3
   },
   "file_extension": ".py",
   "mimetype": "text/x-python",
   "name": "python",
   "nbconvert_exporter": "python",
   "pygments_lexer": "ipython3",
   "version": "3.7.0"
  },
  "widgets": {
   "state": {},
   "version": "1.1.2"
  }
 },
 "nbformat": 4,
 "nbformat_minor": 1
}
