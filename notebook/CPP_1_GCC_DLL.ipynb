{
 "cells": [
  {
   "cell_type": "markdown",
   "metadata": {},
   "source": [
    "# Programming C/C++ With GCC"
   ]
  },
  {
   "cell_type": "markdown",
   "metadata": {},
   "source": [
    "## 1. GCC: GNU Compiler Collection\n",
    "\n",
    "### 1.1 A Brief History and Introduction to GCC\n",
    "\n",
    "The original GNU C Compiler (GCC) is developed by `Richard Stallman`, the founder of the `GNU Project`. Richard Stallman founded the GNU project in 1984 to create a complete Unix-like operating system as free software, to promote freedom and cooperation among computer users and programmers.\n",
    "\n",
    "* **GNU Project**：https://www.gnu.org/\n",
    "\n",
    "   GNU is an operating system that is `free software`—that is, it `respects` users' `freedom`. The development of GNU made it possible to use a computer without software that would trample your freedom.\n",
    " \n",
    " \n",
    "* **The Free Software Foundation** : https://www.fsf.org/\n",
    "   \n",
    "   The Free Software Foundation (FSF) is a nonprofit with a worldwide mission to promote computer user `freedom`. We defend the rights of all software users.\n",
    "\n",
    "\n",
    "*  **GCC: GNU Compiler Collection** :  http://gcc.gnu.org/\n",
    "  \n",
    "  GCC, formerly for \"GNU C Compiler\", has grown over times to support many languages such as `C++`, Objective-C, Java, `Fortran` and Ada. It is now referred to as **\"GNU Compiler Collection\"**. \n",
    "  \n",
    "  GCC is portable and run in many operating platforms. GCC (and GNU Toolchain) is currently available on all Unixes. They are also ported to Windows by `MinGW` and Cygwin. \n",
    "\n",
    "### 1.2  Installing GCC\n",
    "\n",
    "#### Linux\n",
    "\n",
    "GCC (GNU Toolchain) is included in all Linux(Unixes). \n",
    "\n",
    "#### Windows \n",
    "\n",
    "For Windows, you could install **MinGW GCC** \n",
    "\n",
    "**MinGW** (short for \"Minimalist GNU for Windows\"), is a `minimalist` (i.e., small but fewer features compared with cygwin) development environment for native Microsoft Windows applications.\n",
    "\n",
    "mingw-w64: GCC for Windows 64 & 32 bits\n",
    "\n",
    "http://www.mingw-w64.org/doku.php\n",
    "\n",
    "Mingw-w64 is an advancement of the original mingw.org project, created to support the GCC compiler on Windows systems. It has forked it in 2007 in order to provide support for 64 bits and new APIs. It has since then gained widespread use and distribution.\n",
    "\n",
    "* To install MinGW-w64(`5 steps`):\n",
    "  \n",
    "  * 1.Goto MinGW mother site at https://sourceforge.net/projects/mingw-w64/files/?source=navbar \n",
    "\n",
    "       Downloads x86_64-6.3.0-release-win32-sjlj or seh \n",
    "      \n",
    "       * sjlj: 32 and 64,but it incurs a minor performance penalty  \n",
    "        \n",
    "       * seh：64 only\n",
    "\n",
    "      ![MinGW-w64](./img/mingw-w64.jpg) \n",
    "    \n",
    "  \n",
    "  * 2.unzip the ziped MinGW-w64 to `C:\\mingw64`\n",
    "  \n",
    "\n",
    "  * 3.Add **C:\\mingw6\\bin** to the environment variable **PATH**  \n",
    "     \n",
    ">To set an environment variable **permanently** in Windows: (so that it is available to all the Windows' processes)\n",
    "\n",
    ">start the \"Control Panel\" ⇒ \"System\" ⇒ \"Advanced system settings\" ⇒ Switch to >\"Advanced\" tab ⇒ \"Environment variables\" ⇒ Choose \"System Variables\" (for all users) or \"User >Variables\" (for this login user only) ⇒ Choose \"Edit\" (for modifying an existing variable) or >\"New\" (to create a new variable) ⇒ Enter the variable \"Name\" and \"Value\".\n",
    "\n",
    "  * 4.**RENAME** `C:\\mingw64\\bin\\mingw32-make.exe` to  `C:\\mingw64\\bin\\make.exe`\n",
    " \n",
    "\n",
    "  * 5.Verify the GCC installation by listing the version of gcc, g++ and gdb: \n",
    "      \n",
    "      ```bash\n",
    "      > gcc --version\n",
    "      > g++ --version\n",
    "      > gdb --version\n",
    "      ```\n"
   ]
  },
  {
   "cell_type": "code",
   "execution_count": 1,
   "metadata": {},
   "outputs": [
    {
     "name": "stdout",
     "output_type": "stream",
     "text": [
      "gcc (Ubuntu 7.3.0-16ubuntu3) 7.3.0\r\n",
      "Copyright (C) 2017 Free Software Foundation, Inc.\r\n",
      "This is free software; see the source for copying conditions.  There is NO\r\n",
      "warranty; not even for MERCHANTABILITY or FITNESS FOR A PARTICULAR PURPOSE.\r\n",
      "\r\n"
     ]
    }
   ],
   "source": [
    "!gcc --version"
   ]
  },
  {
   "cell_type": "markdown",
   "metadata": {},
   "source": [
    "### 1.3  Getting Started\n",
    "\n",
    "The GNU C and C++ compiler are gcc and g++, respectively.\n",
    "\n",
    "* **gcc** to compile `C` program\n",
    "\n",
    "* **g++** to compile `C++` program \n",
    "\n",
    "**Compile/Link a Simple C Program - hello.c**\n",
    "\n",
    "Below is the Hello-world C program `hello.c`:"
   ]
  },
  {
   "cell_type": "code",
   "execution_count": 4,
   "metadata": {},
   "outputs": [
    {
     "name": "stdout",
     "output_type": "stream",
     "text": [
      "Overwriting ./code/gcc/hello.c\n"
     ]
    }
   ],
   "source": [
    "%%file ./code/gcc/hello.c\n",
    "/*\n",
    "gcc -o hello hello.c\n",
    "*/\n",
    "#include <stdio.h>\n",
    " \n",
    "int main() {\n",
    "    printf(\"C says Hello, world!\\n\");\n",
    "    return 0;\n",
    "}"
   ]
  },
  {
   "cell_type": "markdown",
   "metadata": {},
   "source": [
    "You need to use **gcc** to `compile` C program：`hello.c`,then `link` to build the output\n",
    "\n",
    "* **-c: source files** `compiles` source files without linking."
   ]
  },
  {
   "cell_type": "code",
   "execution_count": 3,
   "metadata": {},
   "outputs": [],
   "source": [
    "!gcc -c ./code/gcc/hello.c"
   ]
  },
  {
   "cell_type": "code",
   "execution_count": 5,
   "metadata": {},
   "outputs": [
    {
     "name": "stdout",
     "output_type": "stream",
     "text": [
      "hello.o\r\n"
     ]
    }
   ],
   "source": [
    "!dir hell*.o"
   ]
  },
  {
   "cell_type": "markdown",
   "metadata": {},
   "source": [
    "* **-o: output file** writes the link to build output to the specifies **output file**name."
   ]
  },
  {
   "cell_type": "code",
   "execution_count": 6,
   "metadata": {},
   "outputs": [],
   "source": [
    "!gcc -o ./code/gcc/hello hello.o"
   ]
  },
  {
   "cell_type": "markdown",
   "metadata": {},
   "source": [
    "#### Under Windows"
   ]
  },
  {
   "cell_type": "code",
   "execution_count": 9,
   "metadata": {},
   "outputs": [
    {
     "name": "stdout",
     "output_type": "stream",
     "text": [
      " 驱动器 D 中的卷是 user\n",
      " 卷的序列号是 DE34-6098\n",
      "\n",
      " D:\\PySEE\\home\\notebook\\code\\gcc 的目录\n",
      "\n",
      "2018/05/27  18:57             8,296 hello\n",
      "2018/05/27  18:59               116 hello.c\n",
      "2018/05/27  18:59            53,510 hello.exe\n",
      "               3 个文件         61,922 字节\n",
      "               0 个目录 22,324,568,064 可用字节\n"
     ]
    }
   ],
   "source": [
    "!dir  .\\code\\gcc\\hello.*"
   ]
  },
  {
   "cell_type": "code",
   "execution_count": 10,
   "metadata": {},
   "outputs": [
    {
     "name": "stdout",
     "output_type": "stream",
     "text": [
      "C says Hello, world!\n"
     ]
    }
   ],
   "source": [
    "!.\\code\\gcc\\hello"
   ]
  },
  {
   "cell_type": "markdown",
   "metadata": {},
   "source": [
    "#### Under Linux"
   ]
  },
  {
   "cell_type": "code",
   "execution_count": null,
   "metadata": {},
   "outputs": [],
   "source": [
    "!ls ./code/gcc/hell*"
   ]
  },
  {
   "cell_type": "code",
   "execution_count": 7,
   "metadata": {},
   "outputs": [
    {
     "name": "stdout",
     "output_type": "stream",
     "text": [
      "C says Hello, world!\r\n"
     ]
    }
   ],
   "source": [
    "!./code/gcc/hello"
   ]
  },
  {
   "cell_type": "markdown",
   "metadata": {},
   "source": [
    "**path separators** \n",
    "\n",
    "* Linux: `/`\n",
    "\n",
    "* Windows: **\\**\n",
    "\n",
    "**escape character**\n",
    "\n",
    "The backslash is an `escape character`,you use to inform that the next character is special."
   ]
  },
  {
   "cell_type": "code",
   "execution_count": null,
   "metadata": {},
   "outputs": [],
   "source": [
    "print('escape character\\n')\n",
    "print('\\t escape character')\n",
    "print('\\tescape character')"
   ]
  },
  {
   "cell_type": "markdown",
   "metadata": {},
   "source": [
    "### The specifies output filename : `shello`"
   ]
  },
  {
   "cell_type": "code",
   "execution_count": 11,
   "metadata": {},
   "outputs": [],
   "source": [
    "!gcc -c -o ./code/gcc/hello.o ./code/gcc/hello.c\n",
    "!gcc -o ./code/gcc/shello ./code/gcc/hello.o"
   ]
  },
  {
   "cell_type": "markdown",
   "metadata": {},
   "source": [
    "#### Under Windows"
   ]
  },
  {
   "cell_type": "code",
   "execution_count": 12,
   "metadata": {},
   "outputs": [
    {
     "name": "stdout",
     "output_type": "stream",
     "text": [
      "C says Hello, world!\n"
     ]
    }
   ],
   "source": [
    "!.\\code\\gcc\\shello"
   ]
  },
  {
   "cell_type": "markdown",
   "metadata": {},
   "source": [
    "#### Under Linux"
   ]
  },
  {
   "cell_type": "code",
   "execution_count": null,
   "metadata": {},
   "outputs": [],
   "source": [
    "!./code/gcc/shello"
   ]
  },
  {
   "cell_type": "markdown",
   "metadata": {},
   "source": [
    "### Compile and Link to build output  "
   ]
  },
  {
   "cell_type": "code",
   "execution_count": 8,
   "metadata": {},
   "outputs": [],
   "source": [
    "!gcc -o ./code/gcc/hello ./code/gcc/hello.c"
   ]
  },
  {
   "cell_type": "markdown",
   "metadata": {},
   "source": [
    "#### Under Windows"
   ]
  },
  {
   "cell_type": "code",
   "execution_count": 14,
   "metadata": {},
   "outputs": [
    {
     "name": "stdout",
     "output_type": "stream",
     "text": [
      "C says Hello, world!\n"
     ]
    }
   ],
   "source": [
    "!.\\code\\gcc\\hello"
   ]
  },
  {
   "cell_type": "markdown",
   "metadata": {},
   "source": [
    "#### Under Ubuntu"
   ]
  },
  {
   "cell_type": "code",
   "execution_count": 9,
   "metadata": {},
   "outputs": [
    {
     "name": "stdout",
     "output_type": "stream",
     "text": [
      "C says Hello, world!\r\n"
     ]
    }
   ],
   "source": [
    "!./code/gcc/hello"
   ]
  },
  {
   "cell_type": "markdown",
   "metadata": {},
   "source": [
    "###  Compile/Link a Simple C++ Program - hello.cpp\n",
    "\n",
    "#### Compile/Link the C++ Program : g++\n",
    "\n",
    "Below is the Hello-world C++ program hello.cpp:\n"
   ]
  },
  {
   "cell_type": "code",
   "execution_count": 10,
   "metadata": {},
   "outputs": [
    {
     "name": "stdout",
     "output_type": "stream",
     "text": [
      "Overwriting ./code/gcc/hello.cpp\n"
     ]
    }
   ],
   "source": [
    "%%file ./code/gcc/hello.cpp\n",
    "/*\n",
    "g++ -o hello hello.cpp\n",
    "*/\n",
    "#include <iostream>\n",
    "using namespace std;\n",
    " \n",
    "int main() {\n",
    "   cout << \"C++ Hello, world!\" << endl;\n",
    "   return 0;\n",
    "}"
   ]
  },
  {
   "cell_type": "markdown",
   "metadata": {},
   "source": [
    "You need to use **g++** to compile C++ program, as follows "
   ]
  },
  {
   "cell_type": "code",
   "execution_count": 11,
   "metadata": {},
   "outputs": [
    {
     "name": "stdout",
     "output_type": "stream",
     "text": [
      "/bin/sh: 1: g++: not found\r\n"
     ]
    }
   ],
   "source": [
    "!g++ -o ./code/gcc/hello ./code/gcc/hello.cpp"
   ]
  },
  {
   "cell_type": "markdown",
   "metadata": {},
   "source": [
    "#### Under Windows"
   ]
  },
  {
   "cell_type": "code",
   "execution_count": 17,
   "metadata": {},
   "outputs": [
    {
     "name": "stdout",
     "output_type": "stream",
     "text": [
      "C++ Hello, world!\n"
     ]
    }
   ],
   "source": [
    "!.\\code\\gcc\\hello"
   ]
  },
  {
   "cell_type": "markdown",
   "metadata": {},
   "source": [
    "#### Under Linux"
   ]
  },
  {
   "cell_type": "code",
   "execution_count": null,
   "metadata": {},
   "outputs": [],
   "source": [
    "!./code/gcc/hello"
   ]
  },
  {
   "cell_type": "markdown",
   "metadata": {},
   "source": [
    "## Supplementary material ： C library to perform Input/Output operations\n",
    "\n",
    "#### stdio.h and scanf,printf\n",
    "\n",
    "**stdio.h** the header of `C Standard Input and Output Library\n",
    "\n",
    "\n",
    "```c\n",
    "int scanf ( const char * format, ... );\n",
    "```\n",
    "`Read` **formatted** data from `stdin`\n",
    "\n",
    "Reads data from stdin and stores them according to the parameter format into the locations pointed by the additional arguments.\n",
    "\n",
    "\n",
    "* **s**\tString of characters\n",
    "* **d**\tDecimal integer\n",
    "* **f** Floating point number\n",
    "\n",
    "```c\n",
    "int printf ( const char * format, ... );\n",
    "```\n",
    "`Print` **formatted** data to `stdout`\n",
    "\n",
    "Writes the C string pointed by format to the standard output (stdout). \n",
    "\n",
    "If format includes format specifiers (subsequences beginning with %), the additional arguments following format are formatted and inserted in the resulting string replacing their respective specifiers."
   ]
  },
  {
   "cell_type": "code",
   "execution_count": 12,
   "metadata": {},
   "outputs": [
    {
     "name": "stdout",
     "output_type": "stream",
     "text": [
      "Overwriting ./code/gcc/demostdio.c\n"
     ]
    }
   ],
   "source": [
    "%%file ./code/gcc/demostdio.c\n",
    "/*\n",
    "gcc -o demostdio demostdio.c\n",
    "*/\n",
    "#include <stdio.h>\n",
    "\n",
    "int main ()\n",
    "{\n",
    "  char name[80];\n",
    "  int age;\n",
    "  float num;  \n",
    "\n",
    "  printf (\"Enter your family name: \");\n",
    "  scanf (\"%79s\",name);  \n",
    "  \n",
    "  printf (\"Enter your age: \");\n",
    "  scanf (\"%d\",&age);\n",
    "  printf (\"Mr. %s , %d years old.\\n\",name,age);\n",
    "    \n",
    "  printf(\"Enter a number: \");\n",
    "  scanf(\"%f\", &num);  \n",
    "  printf (\"You have entered %f\\n\",num); \n",
    "    \n",
    "  return 0;\n",
    "}"
   ]
  },
  {
   "cell_type": "code",
   "execution_count": 19,
   "metadata": {},
   "outputs": [],
   "source": [
    "!gcc -o ./code/gcc/demostdio  ./code/gcc/demostdio.c"
   ]
  },
  {
   "cell_type": "markdown",
   "metadata": {},
   "source": [
    "#### Under Windows\n",
    "\n",
    "```\n",
    ">.\\code\\gcc\\demostdio\n",
    "```\n",
    "#### Under Linux\n",
    "```\n",
    "$./code/gcc/demostdio\n",
    "```"
   ]
  },
  {
   "cell_type": "markdown",
   "metadata": {},
   "source": [
    "###  Address in C: &\n",
    "\n",
    "```c\n",
    "int age;\n",
    "scanf (\"%d\",&age);\n",
    "```\n",
    "\n",
    "If you have a variable **var** in your program, \n",
    "\n",
    "**&var** will give you its `address in the memory`, \n",
    "\n",
    "where **&** is commonly called the `reference` operator.\n",
    "\n",
    "You must have seen this notation while using **scanf()** function.\n",
    "\n",
    "It was used in the function to **store** the user **inputted value** in **the `address` of var**."
   ]
  },
  {
   "cell_type": "markdown",
   "metadata": {},
   "source": [
    "#### Reference operator (&) and Dereference operator (*)\n",
    "\n",
    "As discussed, `&` is called **reference operator（引用）**. It gives you the address of a variable.\n",
    "\n",
    "there is another operator that `gets you the value from the address`（取回地址中的值）, it is called a **dereference operator（解引用）** `*`.\n",
    "\n",
    "\n"
   ]
  },
  {
   "cell_type": "code",
   "execution_count": 13,
   "metadata": {},
   "outputs": [
    {
     "name": "stdout",
     "output_type": "stream",
     "text": [
      "Overwriting ./code/gcc/demoref.c\n"
     ]
    }
   ],
   "source": [
    "%%file ./code/gcc/demoref.c\n",
    "\n",
    "/* Example to demonstrate use of reference operator in C programming. \n",
    "gcc -o demoref demoref.c\n",
    "*/\n",
    "#include <stdio.h>\n",
    "int main()\n",
    "{\n",
    "  int var = 5;\n",
    "  printf(\"Value: %d\\n\", var);\n",
    "  printf(\"Address: %u\\n\", &var);  //reference operator, Notice, the & before var.\n",
    "  printf(\"Value: %d\\n\", *(&var));  // dereference operator,Notice, the * before ＆var.  \n",
    "  return 0;\n",
    "}"
   ]
  },
  {
   "cell_type": "code",
   "execution_count": 21,
   "metadata": {},
   "outputs": [],
   "source": [
    "!gcc -o ./code/gcc/demoref  ./code/gcc/demoref.c"
   ]
  },
  {
   "cell_type": "markdown",
   "metadata": {},
   "source": [
    "#### Under Windows"
   ]
  },
  {
   "cell_type": "code",
   "execution_count": 22,
   "metadata": {},
   "outputs": [
    {
     "name": "stdout",
     "output_type": "stream",
     "text": [
      "Value: 5\n",
      "Address: 6422092\n",
      "Value: 5\n"
     ]
    }
   ],
   "source": [
    "!.\\code\\gcc\\demoref"
   ]
  },
  {
   "cell_type": "markdown",
   "metadata": {},
   "source": [
    "#### Under Linux"
   ]
  },
  {
   "cell_type": "code",
   "execution_count": 5,
   "metadata": {},
   "outputs": [
    {
     "name": "stdout",
     "output_type": "stream",
     "text": [
      "Value: 5\n",
      "Address: 4131758068\n",
      "Value: 5\n"
     ]
    }
   ],
   "source": [
    "!./code/gcc/demoref"
   ]
  },
  {
   "cell_type": "markdown",
   "metadata": {},
   "source": [
    "## 2.  GNU Make\n",
    "\n",
    "The **\"make\"** utility automates the mundane aspects of building executable from source code.\n",
    "\n",
    "**\"make\"** uses a so-called **makefile**, which contains rules on how to build the executables.\n",
    "\n",
    "You can issue \"make --help\" to list the command-line options.\n"
   ]
  },
  {
   "cell_type": "code",
   "execution_count": null,
   "metadata": {},
   "outputs": [],
   "source": [
    "!make --help"
   ]
  },
  {
   "cell_type": "markdown",
   "metadata": {},
   "source": [
    "Let's begin with a simple example to build the Hello-world program (hello.c) into executable (hello.exe) via make utility."
   ]
  },
  {
   "cell_type": "code",
   "execution_count": 14,
   "metadata": {},
   "outputs": [
    {
     "name": "stdout",
     "output_type": "stream",
     "text": [
      "Overwriting ./code/gcc/hello.c\n"
     ]
    }
   ],
   "source": [
    "%%file ./code/gcc/hello.c\n",
    "/*\n",
    "gcc -o hello hello.c\n",
    "*/\n",
    "\n",
    "#include <stdio.h>\n",
    " \n",
    "int main() {\n",
    "    printf(\"Hello, world!\\n\");\n",
    "    return 0;\n",
    "}"
   ]
  },
  {
   "cell_type": "markdown",
   "metadata": {},
   "source": [
    "### 1)  Create **makefile** file\n",
    "\n",
    "Create the following file named **\"makefile\"** : contains rules and save in the current directory. \n",
    "\n",
    "* **`without` any file `extension`**\n",
    "\n",
    "A makefile consists of `a set of rules` to build the executable. \n",
    "\n",
    "**A rule** consists of 3 parts:\n",
    "\n",
    "* **a target**, \n",
    "\n",
    "* **a list of pre-requisites** \n",
    "\n",
    "* **a command**\n",
    "\n",
    "as follows:\n",
    "\n",
    " ```bash\n",
    "\n",
    "target: pre-req-1 pre-req-2 ...\n",
    "\t  command\n",
    "\n",
    " ```\n",
    "\n",
    "* The **target** and **pre-requisites** are separated by <font color=\"red\">a colon ** : **  </font>.\n",
    "\n",
    "\n",
    "* The **command** must be preceded by <font color=\"blue\">**a Tab** (NOT spaces)</font>."
   ]
  },
  {
   "cell_type": "code",
   "execution_count": 24,
   "metadata": {},
   "outputs": [
    {
     "name": "stdout",
     "output_type": "stream",
     "text": [
      "Overwriting makefile\n"
     ]
    }
   ],
   "source": [
    "%%file makefile\n",
    "\n",
    "all: helloexe\n",
    "    \n",
    "helloexe: helloobj\n",
    "\t gcc -o ./code/gcc/hello.exe hello.o\n",
    "\t del hello.o\n",
    "    \n",
    "helloobj: ./code/gcc/hello.c\n",
    "\t gcc -c ./code/gcc/hello.c\n",
    "     \n",
    "clean:\n",
    "\t del .\\code\\gcc\\hello.exe"
   ]
  },
  {
   "cell_type": "markdown",
   "metadata": {},
   "source": [
    "#### Under `Windows`\n",
    "\n",
    "```bash\n",
    "     del hello.o\n",
    "\n",
    "\t del .\\code\\gcc\\hello.exe\n",
    "```\n",
    "\n",
    "#### Under `Linux` \n",
    "\n",
    "```bash\n",
    "    rm -f hello.o\n",
    "\t\n",
    "    rm -f ./code/gcc/hello\n",
    "```\n",
    "\n",
    "*  rm  : remove files or directories\n",
    "\n",
    "*  -f, --force : ignore nonexistent files, never prompt"
   ]
  },
  {
   "cell_type": "code",
   "execution_count": 11,
   "metadata": {},
   "outputs": [
    {
     "name": "stdout",
     "output_type": "stream",
     "text": [
      "Overwriting makefile\n"
     ]
    }
   ],
   "source": [
    "%%file makefile\n",
    "\n",
    "all: helloexe\n",
    "    \n",
    "helloexe: helloobj\n",
    "\t gcc -o ./code/gcc/hello hello.o\n",
    "\t rm -f hello.o\n",
    "    \n",
    "helloobj: ./code/gcc/hello.c\n",
    "\t gcc -c ./code/gcc/hello.c\n",
    "     \n",
    "clean:\n",
    "\t rm -f ./code/gcc/hello"
   ]
  },
  {
   "cell_type": "markdown",
   "metadata": {},
   "source": [
    "### 2) Running **make** \n",
    "\n",
    " \n",
    "**2.1 make  without argument**,\n",
    "\n",
    "* starts the `default` target  **all** in  **makefile** at the `current` directory. "
   ]
  },
  {
   "cell_type": "code",
   "execution_count": 25,
   "metadata": {},
   "outputs": [
    {
     "name": "stdout",
     "output_type": "stream",
     "text": [
      "gcc -c ./code/gcc/hello.c\n",
      "gcc -o ./code/gcc/hello.exe hello.o\n",
      "del hello.o\n"
     ]
    }
   ],
   "source": [
    "!make"
   ]
  },
  {
   "cell_type": "markdown",
   "metadata": {},
   "source": [
    "#### Under Windows"
   ]
  },
  {
   "cell_type": "code",
   "execution_count": 26,
   "metadata": {},
   "outputs": [
    {
     "name": "stdout",
     "output_type": "stream",
     "text": [
      " 驱动器 D 中的卷是 user\n",
      " 卷的序列号是 DE34-6098\n",
      "\n",
      " D:\\PySEE\\home\\notebook\\code\\gcc 的目录\n",
      "\n",
      "2018/05/27  19:03            53,510 hello.exe\n",
      "               1 个文件         53,510 字节\n",
      "               0 个目录 22,324,342,784 可用字节\n"
     ]
    }
   ],
   "source": [
    "!dir  .\\code\\gcc\\hell*.exe"
   ]
  },
  {
   "cell_type": "code",
   "execution_count": 27,
   "metadata": {},
   "outputs": [
    {
     "name": "stdout",
     "output_type": "stream",
     "text": [
      "Hello, world!\n"
     ]
    }
   ],
   "source": [
    "!.\\code\\gcc\\hello"
   ]
  },
  {
   "cell_type": "markdown",
   "metadata": {},
   "source": [
    "#### Under Linux"
   ]
  },
  {
   "cell_type": "code",
   "execution_count": 15,
   "metadata": {},
   "outputs": [
    {
     "name": "stdout",
     "output_type": "stream",
     "text": [
      "./code/gcc/hello  ./code/gcc/hello.c\n"
     ]
    }
   ],
   "source": [
    "!ls  ./code/gcc/hell*"
   ]
  },
  {
   "cell_type": "code",
   "execution_count": 16,
   "metadata": {},
   "outputs": [
    {
     "name": "stdout",
     "output_type": "stream",
     "text": [
      "Hello, world!\n"
     ]
    }
   ],
   "source": [
    "!./code/gcc/hello"
   ]
  },
  {
   "cell_type": "markdown",
   "metadata": {},
   "source": [
    "**2.2 Running make with `clean` argument** \n",
    "\n",
    "starts the target **clean** in the makefile."
   ]
  },
  {
   "cell_type": "code",
   "execution_count": 28,
   "metadata": {},
   "outputs": [
    {
     "name": "stdout",
     "output_type": "stream",
     "text": [
      "del .\\code\\gcc\\hello.exe\n"
     ]
    }
   ],
   "source": [
    "!make clean"
   ]
  },
  {
   "cell_type": "markdown",
   "metadata": {},
   "source": [
    "** 2.3 Specified `FILE` as a makefile**\n",
    "\n",
    "* -f FILE:  Read FILE as a makefile."
   ]
  },
  {
   "cell_type": "markdown",
   "metadata": {},
   "source": [
    "#### Under Windows"
   ]
  },
  {
   "cell_type": "code",
   "execution_count": 29,
   "metadata": {},
   "outputs": [
    {
     "name": "stdout",
     "output_type": "stream",
     "text": [
      "Overwriting ./code/gcc/makefile-gcc\n"
     ]
    }
   ],
   "source": [
    "%%file ./code/gcc/makefile-gcc\n",
    "\n",
    "all: helloexe\n",
    "\n",
    "helloexe: helloo\n",
    "\t gcc -o ./code/gcc/hello.exe hello.o\n",
    "\t del hello.o\n",
    "    \n",
    "helloo: ./code/gcc/hello.c\n",
    "\t gcc -c ./code/gcc/hello.c\n",
    "     \n",
    "clean:\n",
    "\t del .\\code\\gcc\\hello.exe"
   ]
  },
  {
   "cell_type": "code",
   "execution_count": 30,
   "metadata": {},
   "outputs": [
    {
     "name": "stdout",
     "output_type": "stream",
     "text": [
      "gcc -c ./code/gcc/hello.c\n",
      "gcc -o ./code/gcc/hello.exe hello.o\n",
      "del hello.o\n"
     ]
    }
   ],
   "source": [
    "!make -f ./code/gcc/makefile-gcc"
   ]
  },
  {
   "cell_type": "code",
   "execution_count": 31,
   "metadata": {},
   "outputs": [
    {
     "name": "stdout",
     "output_type": "stream",
     "text": [
      "Hello, world!\n"
     ]
    }
   ],
   "source": [
    "!.\\code\\gcc\\hello"
   ]
  },
  {
   "cell_type": "code",
   "execution_count": null,
   "metadata": {},
   "outputs": [],
   "source": [
    "!make clean -f ./code/gcc/makefile-gcc"
   ]
  },
  {
   "cell_type": "markdown",
   "metadata": {},
   "source": [
    "#### Under Linux"
   ]
  },
  {
   "cell_type": "code",
   "execution_count": 19,
   "metadata": {},
   "outputs": [
    {
     "name": "stdout",
     "output_type": "stream",
     "text": [
      "Overwriting ./code/gcc/makefile-gcc\n"
     ]
    }
   ],
   "source": [
    "%%file ./code/gcc/makefile-gcc\n",
    "\n",
    "all: helloexe\n",
    "\n",
    "helloexe: helloo\n",
    "\t gcc -o ./code/gcc/hello hello.o\n",
    "\t rm -f hello.o\n",
    "    \n",
    "helloo: ./code/gcc/hello.c\n",
    "\t gcc -c ./code/gcc/hello.c\n",
    "     \n",
    "clean:\n",
    "\t rm -f .\\code\\gcc\\hello"
   ]
  },
  {
   "cell_type": "code",
   "execution_count": 20,
   "metadata": {},
   "outputs": [
    {
     "name": "stdout",
     "output_type": "stream",
     "text": [
      "gcc -c ./code/gcc/hello.c\n",
      "gcc -o ./code/gcc/hello hello.o\n",
      "rm -f hello.o\n"
     ]
    }
   ],
   "source": [
    "!make -f ./code/gcc/makefile-gcc"
   ]
  },
  {
   "cell_type": "code",
   "execution_count": 21,
   "metadata": {},
   "outputs": [
    {
     "name": "stdout",
     "output_type": "stream",
     "text": [
      "Hello, world!\n"
     ]
    }
   ],
   "source": [
    "!./code/gcc/hello"
   ]
  },
  {
   "cell_type": "code",
   "execution_count": 22,
   "metadata": {},
   "outputs": [
    {
     "name": "stdout",
     "output_type": "stream",
     "text": [
      "rm -f .\\code\\gcc\\hello\n"
     ]
    }
   ],
   "source": [
    "!make clean -f ./code/gcc/makefile-gcc"
   ]
  },
  {
   "cell_type": "markdown",
   "metadata": {},
   "source": [
    "## 3 Using Shared Library with GCC\n",
    "\n",
    "When your program is linked against a shared library, only a small table is created in the executable. Before the executable starts running, **the operating system loads the machine code needed for the external functions** - a process known as **dynamic linking.** \n",
    "\n",
    "    \n",
    "* Dynamic linking makes executable files smaller and saves disk space, because `one` copy of a **library** can be **shared** between `multiple` programs. \n",
    "\n",
    "\n",
    "* Furthermore, most operating systems allows one copy of a shared library in memory to be used by all running programs, thus, saving memory. \n",
    "\n",
    "\n",
    "* The shared library codes can be upgraded without the need to recompile your program.\n",
    "\n",
    "\n",
    "A **shared library** has file extension of \n",
    "\n",
    "   * ** .so ** (shared objects) in `Linux(Unixes)`\n",
    "   \n",
    "   \n",
    "   * ** .dll ** (dynamic link library) in `Windows`. \n"
   ]
  },
  {
   "cell_type": "markdown",
   "metadata": {},
   "source": [
    "### EXAMPLE: Fibonacci shared library using a memo\n",
    "> #### 4.3.1 Fibonacci Numbers\n",
    "\n",
    ">The Fibonacci sequence is the common mathematical function that is usually defined recursively.\n",
    ">“They breed like rabbits,” -The growth in population is described naturally by the recurrence:\n",
    ">\n",
    ">  ```\n",
    ">   females(0) =1\n",
    ">   females(1) = 1\n",
    ">\n",
    ">   females(n + 2) = females(n+1) + females(n）\n",
    ">  ```\n",
    "\n",
    "###  Step 1: Creating the shared library\n",
    "\n",
    "#### fibonacci with cache:\n",
    "\n",
    "*  fibonacci.h\n",
    "*  fibonacci.c"
   ]
  },
  {
   "cell_type": "code",
   "execution_count": 32,
   "metadata": {},
   "outputs": [
    {
     "name": "stdout",
     "output_type": "stream",
     "text": [
      "Overwriting ./code/gcc/fibonacci.h\n"
     ]
    }
   ],
   "source": [
    "%%file ./code/gcc/fibonacci.h\n",
    "\n",
    "#ifndef FIBONACCI_H\n",
    "#define FIBONACCI_H\n",
    "\n",
    "/*\n",
    "  Up to 93rd Fibonacci number, starting from 0th  can be computed. \n",
    "  \n",
    "  Anything larger will overflow.\n",
    "*/\n",
    "#define CACHE_SIZE 94 \n",
    "\n",
    "unsigned long fibonacci(int n, unsigned long *fib_cache);\n",
    "\n",
    "#endif"
   ]
  },
  {
   "cell_type": "code",
   "execution_count": 33,
   "metadata": {},
   "outputs": [
    {
     "name": "stdout",
     "output_type": "stream",
     "text": [
      "Overwriting ./code/gcc/fibonacci.c\n"
     ]
    }
   ],
   "source": [
    "%%file ./code/gcc/fibonacci.c\n",
    "\n",
    "#include \"fibonacci.h\"\n",
    "\n",
    "/*\n",
    "* Function to compute nth Fibonacci number.\n",
    "*\n",
    "*   It uses a cache to avoid repetitive computation. \n",
    "*       1）Reference to the cache must be passed to the function. \n",
    "*       2）The cache should contain 0 for uncomputed values.\n",
    "*   Returns -1 on negative input.\n",
    "*/\n",
    "\n",
    "unsigned long fibonacci(int n, unsigned long *fib_cache)\n",
    "{\n",
    " \n",
    "  if (n< 0)\n",
    "      return -1;\n",
    "  \n",
    "  // base case 0 or 1\n",
    "  if (n == 0||n==1)\n",
    "      return 1;\n",
    "  \n",
    "  // check if nth value is available in cache\n",
    "  if (fib_cache[n] != 0)\n",
    "     return fib_cache[n];\n",
    "\n",
    "  // recursive case : compute and store in cache\n",
    "  fib_cache[n] = fibonacci(n - 1, fib_cache) + fibonacci(n - 2, fib_cache);\n",
    "\n",
    "  return fib_cache[n];\n",
    "}"
   ]
  },
  {
   "cell_type": "markdown",
   "metadata": {},
   "source": [
    "**Compile the C file with `Position Independent Code( PIC )` into a shared library:**"
   ]
  },
  {
   "cell_type": "markdown",
   "metadata": {},
   "source": [
    "#### Under Windows"
   ]
  },
  {
   "cell_type": "code",
   "execution_count": 34,
   "metadata": {},
   "outputs": [],
   "source": [
    "!gcc -c -O3 -Wall -fPIC ./code/gcc/fibonacci.c\n",
    "!gcc -shared -o ./code/gcc/libfibonacci.dll  fibonacci.o"
   ]
  },
  {
   "cell_type": "code",
   "execution_count": 35,
   "metadata": {},
   "outputs": [
    {
     "name": "stdout",
     "output_type": "stream",
     "text": [
      " 驱动器 D 中的卷是 user\n",
      " 卷的序列号是 DE34-6098\n",
      "\n",
      " D:\\PySEE\\home\\notebook\\code\\gcc 的目录\n",
      "\n",
      "2018/05/27  19:06            47,288 libfibonacci.dll\n",
      "2018/05/27  18:57             7,544 libfibonacci.so\n",
      "               2 个文件         54,832 字节\n",
      "               0 个目录 22,324,289,536 可用字节\n"
     ]
    }
   ],
   "source": [
    "!dir .\\code\\gcc\\libfibonacci.*"
   ]
  },
  {
   "cell_type": "markdown",
   "metadata": {},
   "source": [
    "#### under Linux"
   ]
  },
  {
   "cell_type": "code",
   "execution_count": 102,
   "metadata": {},
   "outputs": [],
   "source": [
    "!gcc -c -O3 -Wall -fPIC ./code/gcc/fibonacci.c\n",
    "!gcc -shared -o ./code/gcc/libfibonacci  fibonacci.o"
   ]
  },
  {
   "cell_type": "code",
   "execution_count": 103,
   "metadata": {},
   "outputs": [
    {
     "name": "stdout",
     "output_type": "stream",
     "text": [
      "./code/gcc/libfibonacci.so\n"
     ]
    }
   ],
   "source": [
    "!ls ./code/gcc/libfibonacci.*"
   ]
  },
  {
   "cell_type": "markdown",
   "metadata": {},
   "source": [
    "\n",
    "* -c: compile into object file with default name : funs.o.\n",
    "\n",
    "      By default, the object file has the same name as the source file with extension of \".o\" \n",
    "  \n",
    "  \n",
    "* -O3: Optimize yet more.\n",
    "\n",
    "      turns on all optimizations specified by -O2 and also turns on the -finline-functions, -fweb, -frename-registers and -funswitch-loops optionsturns  on  all  optimizations   \n",
    "     \n",
    "  \n",
    "* -Wall: prints \"all\"  compiler's warning message. \n",
    "\n",
    "      This option should always be used, in order to generate better code.\n",
    "\n",
    "\n",
    "* **-fPIC** : stands for `Position Independent Code`(位置无关代码)\n",
    "   \n",
    "   the generated machine code is `not dependent` on being located at a `specific address` in order to `work`.\n",
    "   \n",
    "   Position-independent code can be `executed` at `any memory address`\n",
    "    \n",
    "     \n",
    "* **-shared:** creating a shared library\n"
   ]
  },
  {
   "cell_type": "markdown",
   "metadata": {},
   "source": [
    "The result is a compiled shared library **libfibonacci.dll**"
   ]
  },
  {
   "cell_type": "code",
   "execution_count": 36,
   "metadata": {},
   "outputs": [
    {
     "name": "stdout",
     "output_type": "stream",
     "text": [
      "Overwriting makefile\n"
     ]
    }
   ],
   "source": [
    "%%file makefile\n",
    "\n",
    "CC=gcc\n",
    "CFLAGS=-O3 -Wall -fPIC -o \n",
    "\n",
    "all: libfibonacci.dll\n",
    "\n",
    "libfibonacci.dll: fibonacciobj\n",
    "\t $(CC) -shared -o ./code/gcc/libfibonacci.dll fibonacci.o\n",
    "\t del fibonacci.o\n",
    "    \n",
    "fibonacciobj: ./code/gcc/fibonacci.c\n",
    "\t $(CC) -c $(CFLAGS) fibonacci.o ./code/gcc/fibonacci.c\n",
    "     \n",
    "clean:\n",
    "\t del .\\code\\gcc\\libfibonacci.dll"
   ]
  },
  {
   "cell_type": "code",
   "execution_count": 37,
   "metadata": {},
   "outputs": [
    {
     "name": "stdout",
     "output_type": "stream",
     "text": [
      "gcc -c -O3 -Wall -fPIC -o  fibonacci.o ./code/gcc/fibonacci.c\n",
      "gcc -shared -o ./code/gcc/libfibonacci.dll fibonacci.o\n",
      "del fibonacci.o\n"
     ]
    }
   ],
   "source": [
    "!make"
   ]
  },
  {
   "cell_type": "code",
   "execution_count": 38,
   "metadata": {},
   "outputs": [
    {
     "name": "stdout",
     "output_type": "stream",
     "text": [
      " 驱动器 D 中的卷是 user\n",
      " 卷的序列号是 DE34-6098\n",
      "\n",
      " D:\\PySEE\\home\\notebook\\code\\gcc 的目录\n",
      "\n",
      "2018/05/27  19:07            47,288 libfibonacci.dll\n",
      "               1 个文件         47,288 字节\n",
      "               0 个目录 22,324,293,632 可用字节\n"
     ]
    }
   ],
   "source": [
    "!dir .\\code\\gcc\\libfib*.dll"
   ]
  },
  {
   "cell_type": "markdown",
   "metadata": {},
   "source": [
    "#### Under Linux"
   ]
  },
  {
   "cell_type": "code",
   "execution_count": 7,
   "metadata": {},
   "outputs": [
    {
     "name": "stdout",
     "output_type": "stream",
     "text": [
      "Overwriting makefile\n"
     ]
    }
   ],
   "source": [
    "%%file makefile\n",
    "\n",
    "CC=gcc\n",
    "CFLAGS=-O3 -Wall -fPIC -o \n",
    "\n",
    "all: libfibonacciso\n",
    "\n",
    "libfibonacciso: fibonacciobj\n",
    "\t $(CC) -shared -o ./code/gcc/libfibonacci fibonacci.o\n",
    "\t rm -f fibonacci.o\n",
    "    \n",
    "fibonacciobj: ./code/gcc/fibonacci.c\n",
    "\t $(CC) -c $(CFLAGS) fibonacci.o ./code/gcc/fibonacci.c\n",
    "     \n",
    "clean:\n",
    "\t rm -f ./code/gcc/libfibonacci.so"
   ]
  },
  {
   "cell_type": "code",
   "execution_count": 8,
   "metadata": {},
   "outputs": [
    {
     "name": "stdout",
     "output_type": "stream",
     "text": [
      "gcc -c -O3 -Wall -fPIC -o  fibonacci.o ./code/gcc/fibonacci.c\n",
      "gcc -shared -o ./code/gcc/libfibonacci fibonacci.o\n",
      "rm -f fibonacci.o\n"
     ]
    }
   ],
   "source": [
    "!make"
   ]
  },
  {
   "cell_type": "code",
   "execution_count": 9,
   "metadata": {},
   "outputs": [
    {
     "name": "stdout",
     "output_type": "stream",
     "text": [
      "./code/gcc/libfibonacci.so\r\n"
     ]
    }
   ],
   "source": [
    "!ls ./code/gcc/libfib*.so"
   ]
  },
  {
   "cell_type": "markdown",
   "metadata": {},
   "source": [
    "### Step2 Using Shared Library"
   ]
  },
  {
   "cell_type": "markdown",
   "metadata": {},
   "source": [
    "### Header Files and Libraries \n",
    "\n",
    "* `Header File`: When compiling the program, the **compiler** needs the **header** files to compile the source codes;\n",
    "\n",
    "* `libraries`: the **linker** needs the **libraries** to resolve external references from other object files or libraries. \n",
    "\n",
    "The `compiler` and `linker` will not find the `headers/libraries` unless you set **the appropriate options**\n",
    "\n",
    "* ** 1 Searching for Header Files**\n",
    "\n",
    "   **-Idir:** The include-paths are specified via **-Idir** option (`uppercase` 'I' followed by the directory path or environment variable **CPATH**). \n",
    "   \n",
    "   \n",
    "* **2 Searching for libraries Files**\n",
    "\n",
    "   **-Ldir**: The library-path is specified via **-Ldir** option (`uppercase` 'L' followed by the directory path(or environment variable **LIBRARY_PATH**). \n",
    "\n",
    "\n",
    "* **3 Linking the library**\n",
    "\n",
    "   ** -llibname**: Link with the library name `without` the `lib prefix` and the .so/.dll extensions.\n",
    "   \n",
    "       GCC assumes that all libraries \n",
    "   \n",
    "          `start` with `lib`\n",
    "\n",
    "          `end`  with `.dll`(windows) or `.so`(Linux)，\n",
    "\n",
    "so, Using **libfibonacci.dll/so:**\n",
    "\n",
    "```bash\n",
    " -I./code/gcc/ -L./code/gcc/ -lfibonacci\n",
    "\n",
    "\n",
    " -I./code/gcc/ -L./code/gcc/ -lfibonacci -Wl,-rpath=dir\n",
    "\n",
    "```\n",
    "\n",
    "\n",
    "\n",
    "* **-Wl,option**\n",
    "\n",
    "    Pass option as an option to the **linker**. If option contains commas, it is split into multiple options at the commas. You can use this syntax to pass an argument to the option. For example, -Wl,-Map,output.map passes -Map output.map to the linker. When using the GNU linker, you can also get the same effect with `-Wl,-Map=output.map'.\n",
    "    \n",
    "\n",
    "\n",
    "* **-rpath=dir** \n",
    "\n",
    "    **Add a directory to the runtime library search path**. This is used when linking an ELF executable with shared objects. All -rpath arguments are concatenated and passed to the runtime linker, which uses them to locate shared objects at runtime. The -rpath option is also used when locating shared objects which are needed by shared objects explicitly included in the link;\n",
    "   \n"
   ]
  },
  {
   "cell_type": "code",
   "execution_count": 3,
   "metadata": {},
   "outputs": [
    {
     "name": "stdout",
     "output_type": "stream",
     "text": [
      "Overwriting ./code/gcc/mainfib.c\n"
     ]
    }
   ],
   "source": [
    "%%file ./code/gcc/mainfib.c\n",
    "\n",
    "#include <stdio.h>  /* printf, NULL */\n",
    "#include <stdlib.h> /* calloc, exit, free */\n",
    "#include \"fibonacci.h\"\n",
    "\n",
    "int main() {\n",
    "\n",
    "    unsigned long *fib_cache;   // cache to store fibonacci numbers\n",
    "    \n",
    "    // cache initialization\n",
    "    fib_cache=(unsigned long *)calloc(CACHE_SIZE, sizeof(unsigned long));\n",
    "    \n",
    "    if(fib_cache==NULL) exit (1);\n",
    "   \n",
    "    int n=20;\n",
    "    printf(\"fib of %d = %lu\\n\", n,fibonacci(n, fib_cache));\n",
    "    free(fib_cache);\n",
    "   \n",
    "    return 0;\n",
    "\n",
    "}"
   ]
  },
  {
   "cell_type": "markdown",
   "metadata": {},
   "source": [
    ">  ** void* calloc (size_t num, size_t size);**\n",
    "\n",
    "> Allocate and zero-initialize array\n",
    "\n",
    "> Allocates a block of memory for an array of num elements, each of them size bytes long, and initializes all its bits to zero.\n",
    "\n",
    "> The effective result is the allocation of a **zero-initialized** memory block of (num*size) bytes."
   ]
  },
  {
   "cell_type": "markdown",
   "metadata": {},
   "source": [
    "#### Windows"
   ]
  },
  {
   "cell_type": "code",
   "execution_count": 4,
   "metadata": {},
   "outputs": [],
   "source": [
    "!gcc -c -o mainfib.o ./code/gcc/mainfib.c \n",
    "!gcc -o  ./code/gcc/mainfib mainfib.o -I./code/gcc/ -L./code/gcc/ -lfibonacci"
   ]
  },
  {
   "cell_type": "code",
   "execution_count": 52,
   "metadata": {},
   "outputs": [
    {
     "name": "stdout",
     "output_type": "stream",
     "text": [
      "fib of 20 = 10946\n"
     ]
    }
   ],
   "source": [
    "!.\\code\\gcc\\mainfib"
   ]
  },
  {
   "cell_type": "markdown",
   "metadata": {},
   "source": [
    "#### Linux"
   ]
  },
  {
   "cell_type": "code",
   "execution_count": 5,
   "metadata": {},
   "outputs": [],
   "source": [
    "!gcc -c -o mainfib.o ./code/gcc/mainfib.c \n",
    "!gcc -o  ./code/gcc/mainfib mainfib.o -I./code/gcc/ -L./code/gcc/ -lfibonacci -Wl,-rpath=./code/gcc/"
   ]
  },
  {
   "cell_type": "code",
   "execution_count": 16,
   "metadata": {},
   "outputs": [
    {
     "name": "stdout",
     "output_type": "stream",
     "text": [
      "\tlinux-vdso.so.1 (0x00007ffffa7e1000)\r\n",
      "\tlibfibonacci.so => ./code/gcc/libfibonacci.so (0x00007fcff1cd0000)\r\n",
      "\tlibc.so.6 => /lib/x86_64-linux-gnu/libc.so.6 (0x00007fcff18df000)\r\n",
      "\t/lib64/ld-linux-x86-64.so.2 (0x00007fcff20d4000)\r\n"
     ]
    }
   ],
   "source": [
    "!ldd ./code/gcc/mainfib"
   ]
  },
  {
   "cell_type": "code",
   "execution_count": 6,
   "metadata": {},
   "outputs": [
    {
     "name": "stdout",
     "output_type": "stream",
     "text": [
      "fib of 20 = 10946\r\n"
     ]
    }
   ],
   "source": [
    "!./code/gcc/mainfib"
   ]
  },
  {
   "cell_type": "markdown",
   "metadata": {},
   "source": [
    "#### Under Windows"
   ]
  },
  {
   "cell_type": "code",
   "execution_count": 53,
   "metadata": {},
   "outputs": [
    {
     "name": "stdout",
     "output_type": "stream",
     "text": [
      "Overwriting makefile\n"
     ]
    }
   ],
   "source": [
    "%%file makefile\n",
    "\n",
    "all: mainfibexe\n",
    "\n",
    "clean:\n",
    "\tdel .\\code\\gcc\\mainfib.exe\n",
    "\n",
    "mainfibexe: mainfibobj ./code/gcc/fibonacci.h \n",
    "\tgcc -o ./code/gcc/mainfib.exe mainfib.o -I./code/gcc/ -L./code/gcc/ -lfibonacci\n",
    "\tdel *.o\n",
    "\n",
    "mainfibobj: ./code/gcc/mainfib.c \n",
    "\tgcc -c ./code/gcc/mainfib.c "
   ]
  },
  {
   "cell_type": "code",
   "execution_count": 54,
   "metadata": {},
   "outputs": [
    {
     "name": "stdout",
     "output_type": "stream",
     "text": [
      "gcc -c ./code/gcc/mainfib.c \n",
      "gcc -o ./code/gcc/mainfib.exe mainfib.o -I./code/gcc/ -L./code/gcc/ -lfibonacci\n",
      "del *.o\n"
     ]
    }
   ],
   "source": [
    "!make"
   ]
  },
  {
   "cell_type": "code",
   "execution_count": 55,
   "metadata": {},
   "outputs": [
    {
     "name": "stdout",
     "output_type": "stream",
     "text": [
      "fib of 20 = 10946\n"
     ]
    }
   ],
   "source": [
    "!.\\code\\gcc\\mainfib"
   ]
  },
  {
   "cell_type": "markdown",
   "metadata": {},
   "source": [
    "#### Under Linux"
   ]
  },
  {
   "cell_type": "code",
   "execution_count": 120,
   "metadata": {},
   "outputs": [
    {
     "name": "stdout",
     "output_type": "stream",
     "text": [
      "Overwriting makefile\n"
     ]
    }
   ],
   "source": [
    "%%file makefile\n",
    "\n",
    "all: mainfibexe\n",
    "\n",
    "clean:\n",
    "\trm -f ./code/gcc/mainfib\n",
    "\n",
    "mainfibexe: mainfibobj ./code/gcc/fibonacci.h \n",
    "\tgcc -o ./code/gcc/mainfib mainfib.o -I./code/gcc/ -L./code/gcc/ -lfibonacci -Wl,-rpath=./code/gcc/ \n",
    "\trm -f *.o\n",
    "\n",
    "mainfibobj: ./code/gcc/mainfib.c \n",
    "\tgcc -c ./code/gcc/mainfib.c"
   ]
  },
  {
   "cell_type": "code",
   "execution_count": 121,
   "metadata": {},
   "outputs": [
    {
     "name": "stdout",
     "output_type": "stream",
     "text": [
      "gcc -c ./code/gcc/mainfib.c\n",
      "gcc -o ./code/gcc/mainfib mainfib.o -I./code/gcc/ -L./code/gcc/ -lfibonacci -Wl,-rpath=./code/gcc/ \n",
      "rm -f *.o\n"
     ]
    }
   ],
   "source": [
    "!make"
   ]
  },
  {
   "cell_type": "code",
   "execution_count": 123,
   "metadata": {},
   "outputs": [
    {
     "name": "stdout",
     "output_type": "stream",
     "text": [
      "fib of 20 = 10946\n"
     ]
    }
   ],
   "source": [
    "!./code/gcc/mainfib"
   ]
  },
  {
   "cell_type": "markdown",
   "metadata": {},
   "source": [
    "## Reference\n",
    "\n",
    "* Fibonacci number https://en.wikipedia.org/wiki/Fibonacci_number\n",
    "\n",
    "* MinGW-W64 (GCC) Compiler Suite: http://www.mingw-w64.org/doku.php\n",
    "\n",
    "* GCC (GNU compilers) http://gcc.gnu.org\n",
    "\n",
    "* GCC Manual  http://gcc.gnu.org/onlinedocs\n",
    "\n",
    "* An Introduction to GCC  http://www.network-theory.co.uk/docs/gccintro/index.html.\n",
    "\n",
    "* GCC and Make：Compiling, Linking and Building C/C++ Applications http://www3.ntu.edu.sg/home/ehchua/programming/cpp/gcc_make.html\n",
    "\n",
    "* C/C++ for VS Code https://code.visualstudio.com/docs/languages/cpp\n",
    "\n",
    "* Simple Unit Testing for C：https://github.com/ThrowTheSwitch/Unity"
   ]
  }
 ],
 "metadata": {
  "kernelspec": {
   "display_name": "Python 3",
   "language": "python",
   "name": "python3"
  },
  "language_info": {
   "codemirror_mode": {
    "name": "ipython",
    "version": 3
   },
   "file_extension": ".py",
   "mimetype": "text/x-python",
   "name": "python",
   "nbconvert_exporter": "python",
   "pygments_lexer": "ipython3",
   "version": "3.6.5"
  },
  "widgets": {
   "state": {},
   "version": "1.1.2"
  }
 },
 "nbformat": 4,
 "nbformat_minor": 2
}
