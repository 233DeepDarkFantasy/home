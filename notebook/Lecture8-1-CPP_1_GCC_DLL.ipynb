{
 "cells": [
  {
   "cell_type": "markdown",
   "metadata": {},
   "source": [
    "# Programming C/C++ With GCC"
   ]
  },
  {
   "cell_type": "markdown",
   "metadata": {},
   "source": [
    "## 1. GCC: GNU Compiler Collection\n",
    "\n",
    "### 1.1 The Brief Introduction to GCC\n",
    "\n",
    "The original GNU C Compiler (GCC) is developed by `Richard Stallman`, the founder of the `GNU Project`. \n",
    "\n",
    "[The GNU Project](https://www.gnu.org/) \n",
    "\n",
    "GNU is a Unit-like operating system that is `free software`—that is, it `respects` users' `freedom`. The development of GNU made it possible to use a computer without software that would trample your freedom. The development of GNU, started in January 1984, is known as the **GNU Project**.\n",
    "\n",
    "The name “GNU” is a recursive acronym for “GNU's Not Unix.” “GNU” is pronounced *g'noo*, as one syllable, like saying “grew” but replacing the r with n.\n",
    "\n",
    "**The GNU Project** aim is to give computer users `freedom` and control in their use of their computers and computing devices, by collaboratively developing and providing software that is based on the following freedom rights: users are free to run the software, share it (copy, distribute), study it and modify it. GNU software guarantees these freedom-rights legally (via its license), and is therefore free software; the use of the word \"free\" always being taken to refer to freedom. Thus. \"free software\" is a matter of liberty, `not price`. \n",
    "\n",
    "Many of the programs in GNU are released under the auspices of the GNU Project.\n",
    " \n",
    "**The Free Software Foundation** : https://www.fsf.org/\n",
    "   \n",
    "   The Free Software Foundation (FSF) is a nonprofit with a worldwide mission to promote computer user `freedom`. We defend the rights of all software users.\n",
    "\n",
    "\n",
    "**GCC: GNU Compiler Collection** :  http://gcc.gnu.org/\n",
    "  \n",
    "GCC, formerly for \"GNU C Compiler\", has grown over times to support many languages such as `C++`, Objective-C, Java, `Fortran` and Ada. It is now referred to as **\"GNU Compiler Collection\"**. \n",
    " \n",
    "GCC is portable and run in many operating platforms. GCC (and GNU Toolchain) is currently available on all Unixes. They are also ported to **Windows** by `MinGW` and Cygwin. \n",
    "\n",
    "### 1.2  Installing GCC\n",
    "\n",
    "#### Linux\n",
    "\n",
    "GCC (GNU Toolchain) is included in all Linux(Unixes). \n",
    "\n",
    "#### Windows \n",
    "\n",
    "For Windows, you could install **MinGW GCC** \n",
    "\n",
    ">**MinGW** (short for \"Minimalist GNU for Windows\"), is a `minimalist` (i.e., small but fewer features compared with cygwin) development environment for native Microsoft Windows applications.\n",
    "\n",
    "**MinGW-W64**: GCC for Windows 64 & 32 bits: http://www.mingw-w64.org/doku.php\n",
    "\n",
    "MinGW-W64 is an advancement of the original `mingw.org` project, created to support the GCC compiler on Windows systems. It has forked it in 2007 in order to provide support for 64 bits and new APIs. It has since then gained widespread use and distribution.\n",
    "\n",
    "Download MinGW-W64 site at https://sourceforge.net/projects/mingw-w64/files/?source=navbar .Read `/guide/BuildingSoftwareEnvironment.md` for the details\n"
   ]
  },
  {
   "cell_type": "markdown",
   "metadata": {},
   "source": [
    "### 1.3  Getting Started\n",
    "\n",
    "The GNU C and C++ compiler are gcc and g++, respectively.\n",
    "\n",
    "* **gcc** to compile `C` program\n",
    "\n",
    "* **g++** to compile `C++` program \n",
    "\n",
    "**Compile/Link a Simple C Program - hello.c**\n",
    "\n",
    "Below is the Hello-world C program `hello.c`:"
   ]
  },
  {
   "cell_type": "code",
   "execution_count": 10,
   "metadata": {},
   "outputs": [
    {
     "name": "stdout",
     "output_type": "stream",
     "text": [
      "Overwriting hello.c\n"
     ]
    }
   ],
   "source": [
    "%%file hello.c\n",
    "/*\n",
    "gcc -o hello hello.c\n",
    "*/\n",
    "#include <stdio.h>\n",
    " \n",
    "int main() {\n",
    "    printf(\"C says Hello, world!\\n\");\n",
    "    return 0;\n",
    "}"
   ]
  },
  {
   "cell_type": "markdown",
   "metadata": {},
   "source": [
    "You need to use **gcc** to `compile` C program：`hello.c`,then `link` to build the output\n",
    "\n",
    "* **-c: source files** `compiles` source files without linking.\\\n",
    "* **-o: output file** writes the link to build output to the specifies output file name."
   ]
  },
  {
   "cell_type": "code",
   "execution_count": 11,
   "metadata": {},
   "outputs": [],
   "source": [
    "!gcc -c hello.c "
   ]
  },
  {
   "cell_type": "code",
   "execution_count": 12,
   "metadata": {},
   "outputs": [],
   "source": [
    "!gcc -o hello hello.o"
   ]
  },
  {
   "cell_type": "markdown",
   "metadata": {},
   "source": [
    "#### Under Windows"
   ]
  },
  {
   "cell_type": "code",
   "execution_count": 13,
   "metadata": {},
   "outputs": [
    {
     "name": "stdout",
     "output_type": "stream",
     "text": [
      "C says Hello, world!\n"
     ]
    }
   ],
   "source": [
    "!.\\hello"
   ]
  },
  {
   "cell_type": "markdown",
   "metadata": {},
   "source": [
    "#### Under Linux"
   ]
  },
  {
   "cell_type": "code",
   "execution_count": 72,
   "metadata": {},
   "outputs": [
    {
     "name": "stderr",
     "output_type": "stream",
     "text": [
      "'ls' 不是内部或外部命令，也不是可运行的程序\n",
      "或批处理文件。\n"
     ]
    }
   ],
   "source": [
    "!ls ./hell*"
   ]
  },
  {
   "cell_type": "code",
   "execution_count": 178,
   "metadata": {},
   "outputs": [
    {
     "name": "stderr",
     "output_type": "stream",
     "text": [
      "'.' 不是内部或外部命令，也不是可运行的程序\n",
      "或批处理文件。\n"
     ]
    }
   ],
   "source": [
    "!./hello"
   ]
  },
  {
   "cell_type": "markdown",
   "metadata": {},
   "source": [
    "**Further Reading:** \n",
    "\n",
    "* Path separators** \n",
    "\n",
    "   * Linux: `/`\n",
    "\n",
    "   * Windows: **\\**\n",
    "\n",
    "* Eescape character\n",
    "\n",
    "   * The backslash`\\` is an `escape character`,you use to inform that the next character is special."
   ]
  },
  {
   "cell_type": "code",
   "execution_count": null,
   "metadata": {},
   "outputs": [],
   "source": [
    "print('escape character\\n')\n",
    "print('\\t escape character')\n",
    "print('\\tescape character')"
   ]
  },
  {
   "cell_type": "markdown",
   "metadata": {},
   "source": [
    "## Set The  Suitable folders for our projects  \n",
    "\n",
    "Let's see the location of all files of `hello`"
   ]
  },
  {
   "cell_type": "code",
   "execution_count": 14,
   "metadata": {},
   "outputs": [
    {
     "name": "stdout",
     "output_type": "stream",
     "text": [
      " 驱动器 D 中的卷是 cmh\n",
      " 卷的序列号是 9C25-3306\n",
      "\n",
      " D:\\SEU\\SEE\\PySEE\\home\\notebook 的目录\n",
      "\n",
      "2018/11/25  21:13               124 hello.c\n",
      "2018/11/25  21:13            54,022 hello.exe\n",
      "2018/11/25  21:13               914 hello.o\n",
      "               3 个文件         55,060 字节\n",
      "               0 个目录 108,657,074,176 可用字节\n"
     ]
    }
   ],
   "source": [
    "!dir  hello.*"
   ]
  },
  {
   "cell_type": "code",
   "execution_count": 1,
   "metadata": {},
   "outputs": [
    {
     "name": "stdout",
     "output_type": "stream",
     "text": [
      " 驱动器 D 中的卷是 cmh\n",
      " 卷的序列号是 9C25-3306\n",
      "\n",
      " D:\\SEU\\SEE\\PySEE\\home\\notebook 的目录\n",
      "\n",
      "[.]\n",
      "[..]\n",
      "[.git]\n",
      "[.ipynb_checkpoints]\n",
      "[code]\n",
      "[data]\n",
      "[demo]\n",
      "functionsCh4.py\n",
      "[img]\n",
      "Lecture1-1-00_PREFACE.ipynb\n",
      "Lecture1-2-02_INTRODUCTION_TO_PYTHON.ipynb\n",
      "Lecture1-3-03_SOME_SIMPLE_NUMERICAL_PROGRAMS.ipynb\n",
      "Lecture1-4-04_FUNCTIONS_SCOPING_AND_ABSTRACTION.ipynb\n",
      "Lecture1-5-05_STRUCTURED_TYPES_MUTABILITY_AND_HIGHERORDER_FUNCTIONS.ipynb\n",
      "Lecture2-1-PyThermo-IF97.ipynb\n",
      "Lecture2-2-PyThermo-IdealRankineCycle.ipynb\n",
      "Lecture2-3-PyThermo-MathJax-LaTeX.ipynb\n",
      "Lecture3-1-08_CLASSES_AND_OBJECT-ORIENTED_PROGRAMMING.ipynb\n",
      "Lecture3-2-11-1_PLOTTING-USING-MATPLOTLIB.ipynb\n",
      "Lecture4-1-PyThermo-IdealRankineCycle-OOP.ipynb\n",
      "Lecture4-2-PyThermo-CSV-JSON-RankineCycle.ipynb\n",
      "Lecture4-3-PyThermo-JSON-Python.ipynb\n",
      "Lecture4-4-PyThermo-ReheatCycle-Optimization.ipynb\n",
      "Lecture5-1-18_UNDERSTANDING_EXPERIMENTAL_DATA.ipynb\n",
      "Lecture5-2-21_LIES_DAMNED_LIES_AND_STATISTICS.ipynb\n",
      "Lecture6-1-07_EXCEPTIONS_AND_ASSERTIONS.ipynb\n",
      "Lecture6-2-06_TESTING_AND_DEBUGGING.ipynb\n",
      "Lecture7-1-DevTools_unittest.ipynb\n",
      "Lecture7-2-DevTools_doctest.ipynb\n",
      "Lecture7-3-DevTools_timeit.ipynb\n",
      "Lecture7-4-DevTools_Profilers.ipynb\n",
      "Lecture7-5-DevTools_Git.ipynb\n",
      "Lecture8-1-CPP_1_GCC_DLL.ipynb\n",
      "Lecture8-2-CPP_2_DLL_Python.ipynb\n",
      "Lecture8-3-CPP_3_DLL_VBA_Python.ipynb\n",
      "Lecture8-4-CPP_4_Ubuntu_GSL_GNUPLOT.ipynb\n",
      "LectureApp-1-Python35-Quick-Reference.ipynb\n",
      "LectureApp-2-Reading-and-Writing-Data-Files-Binary-Data-Files.ipynb\n",
      "LectureApp-3-Stack_Queues_Set.ipynb\n",
      "LectureApp-4-11-2_Plotting_Mortgages.ipynb\n",
      "LectureApp-5-GCC-GFortran.ipynb\n",
      "makefile\n",
      "nb.sh\n",
      "[rankine]\n",
      "StartNB.bat\n",
      "              36 个文件      1,528,503 字节\n",
      "               9 个目录 108,656,664,576 可用字节\n"
     ]
    }
   ],
   "source": [
    "!dir /w"
   ]
  },
  {
   "cell_type": "markdown",
   "metadata": {},
   "source": [
    "We get the results:\n",
    "\n",
    "The `default` folder of  all files are in  the `current` folder :`notebook`\n",
    "```bash\n",
    " ├──<notebook>\n",
    " │   │ \n",
    " │   │─ <folder*>\n",
    " │   │\n",
    " │   │─*.ipynb\n",
    " │   │      \n",
    " │   │─ hello.c\n",
    " │   │     \n",
    " │   │─ hello.o\n",
    " │   │      \n",
    " │   │─ hello.exe \n",
    " │   │                      \n",
    "``` \n",
    "\n",
    "It is not the suitable folder for the project,We should put it in `the meaningful folder` for us to management of `different types` of documents conveniently.\n",
    "\n",
    "For example,It will suitable that \n",
    "\n",
    "we put the GCC project in it's own folder `./demo/`\n",
    "\n",
    "the different type files \n",
    "\n",
    "* the source code `hello.c` in ./code/gcc \n",
    "\n",
    "* the Compiled output `hello.o` in  ./code/obj/\n",
    "\n",
    "* the Linked output `hello.exe`  in the ./code/bin/\n",
    "\n",
    "```bash\n",
    " ├──<notebook>\n",
    " │   │ \n",
    " │   │── <demo>\n",
    " │   │     │ \n",
    " │   │     │──<src> \n",
    " │   │     │     │ \n",
    " │   │     │     │─ hello.c (the Source code)\n",
    " │   │     │\n",
    " │   │     │──<obj>\n",
    " │   │     │     │           \n",
    " │   │     │     │─ hello.o (the Compiled output) \n",
    " │   │     │      \n",
    " │   │     │──<bin>\n",
    " │   │     │     │ \n",
    " │   │     │     │─ hello.exe (the Linked output) \n",
    " │   │                      \n",
    "``` \n",
    "\n",
    "### We will use the folders for the C/C++ programming  \n",
    "\n",
    "For our project ,Firstly,We make the folders for the GCC projects\n",
    "\n",
    "Then,we save the code to  the location of source code\n",
    "\n",
    "* source code `hello.c` in ./demo/gcc \n"
   ]
  },
  {
   "cell_type": "code",
   "execution_count": 5,
   "metadata": {},
   "outputs": [
    {
     "name": "stdout",
     "output_type": "stream",
     "text": [
      "Overwriting ./demo/src/hello.c\n"
     ]
    }
   ],
   "source": [
    "%%file ./demo/src/hello.c\n",
    "/*\n",
    "gcc -o hello hello.c\n",
    "*/\n",
    "#include <stdio.h>\n",
    " \n",
    "int main() {\n",
    "    printf(\"C says Hello, world!\\n\");\n",
    "    return 0;\n",
    "}"
   ]
  },
  {
   "cell_type": "markdown",
   "metadata": {},
   "source": [
    "use `-o` to set `the specifie output file` to the location`\n",
    "\n",
    "* the Compiled output `hello.o in ./code/obj/`\n",
    "\n",
    "* the Linked output `hello.exe in the ./code/bin/`"
   ]
  },
  {
   "cell_type": "code",
   "execution_count": 6,
   "metadata": {},
   "outputs": [],
   "source": [
    "!gcc -c -o ./demo/obj/hello.o ./demo/src/hello.c\n",
    "!gcc -o ./demo/bin/hello ./demo/obj/hello.o"
   ]
  },
  {
   "cell_type": "markdown",
   "metadata": {},
   "source": [
    "We have put `hello.o,hello.exe` in the `\\code\\bin\\` folder.`"
   ]
  },
  {
   "cell_type": "code",
   "execution_count": 7,
   "metadata": {},
   "outputs": [
    {
     "name": "stdout",
     "output_type": "stream",
     "text": [
      " 驱动器 D 中的卷是 cmh\n",
      " 卷的序列号是 9C25-3306\n",
      "\n",
      " D:\\SEU\\SEE\\PySEE\\home\\notebook\\demo\\bin 的目录\n",
      "\n",
      "2018/11/25  22:38            54,022 hello.exe\n",
      "               1 个文件         54,022 字节\n",
      "               0 个目录 108,656,648,192 可用字节\n"
     ]
    }
   ],
   "source": [
    "!dir  .\\demo\\bin\\hello*"
   ]
  },
  {
   "cell_type": "markdown",
   "metadata": {},
   "source": [
    "#### Under Windows"
   ]
  },
  {
   "cell_type": "code",
   "execution_count": 8,
   "metadata": {},
   "outputs": [
    {
     "name": "stdout",
     "output_type": "stream",
     "text": [
      "C says Hello, world!\n"
     ]
    }
   ],
   "source": [
    "!.\\demo\\bin\\hello"
   ]
  },
  {
   "cell_type": "markdown",
   "metadata": {},
   "source": [
    "#### Under Linux"
   ]
  },
  {
   "cell_type": "code",
   "execution_count": 9,
   "metadata": {},
   "outputs": [
    {
     "name": "stderr",
     "output_type": "stream",
     "text": [
      "'.' 不是内部或外部命令，也不是可运行的程序\n",
      "或批处理文件。\n"
     ]
    }
   ],
   "source": [
    "!./demo/bin/hello"
   ]
  },
  {
   "cell_type": "markdown",
   "metadata": {},
   "source": [
    "### Compile and Link to build output  at the command"
   ]
  },
  {
   "cell_type": "code",
   "execution_count": 11,
   "metadata": {},
   "outputs": [],
   "source": [
    "!gcc -o ./demo/bin/hello ./demo/src/hello.c"
   ]
  },
  {
   "cell_type": "markdown",
   "metadata": {},
   "source": [
    "#### Under Windows"
   ]
  },
  {
   "cell_type": "code",
   "execution_count": 12,
   "metadata": {},
   "outputs": [
    {
     "name": "stdout",
     "output_type": "stream",
     "text": [
      "C says Hello, world!\n"
     ]
    }
   ],
   "source": [
    "!.\\demo\\bin\\hello"
   ]
  },
  {
   "cell_type": "markdown",
   "metadata": {},
   "source": [
    "#### Under Ubuntu"
   ]
  },
  {
   "cell_type": "code",
   "execution_count": 83,
   "metadata": {},
   "outputs": [
    {
     "name": "stderr",
     "output_type": "stream",
     "text": [
      "'.' 不是内部或外部命令，也不是可运行的程序\n",
      "或批处理文件。\n"
     ]
    }
   ],
   "source": [
    "!./demo/bin/hello"
   ]
  },
  {
   "cell_type": "markdown",
   "metadata": {},
   "source": [
    "###  Compile/Link a Simple C++ Program - hello.cpp\n",
    "    \n",
    "\n",
    "#### Compile/Link the C++ Program : g++\n",
    "\n",
    "Below is the Hello-world C++ program hello.cpp:\n"
   ]
  },
  {
   "cell_type": "code",
   "execution_count": 13,
   "metadata": {},
   "outputs": [
    {
     "name": "stdout",
     "output_type": "stream",
     "text": [
      "Overwriting ./demo/src/hello.cpp\n"
     ]
    }
   ],
   "source": [
    "%%file ./demo/src/hello.cpp\n",
    "/*\n",
    "g++ -o hello hello.cpp\n",
    "*/\n",
    "#include <iostream>\n",
    "using namespace std;\n",
    " \n",
    "int main() {\n",
    "   cout << \"C++ Hello, world!\" << endl;\n",
    "   return 0;\n",
    "}"
   ]
  },
  {
   "cell_type": "markdown",
   "metadata": {},
   "source": [
    "You need to use **g++** to compile and link C++ program at one command, as follows "
   ]
  },
  {
   "cell_type": "code",
   "execution_count": 14,
   "metadata": {},
   "outputs": [],
   "source": [
    "!g++ -o ./demo/bin/hello ./demo/src/hello.cpp"
   ]
  },
  {
   "cell_type": "markdown",
   "metadata": {},
   "source": [
    "#### Under Windows"
   ]
  },
  {
   "cell_type": "code",
   "execution_count": 15,
   "metadata": {},
   "outputs": [
    {
     "name": "stdout",
     "output_type": "stream",
     "text": [
      "C++ Hello, world!\n"
     ]
    }
   ],
   "source": [
    "!.\\demo\\bin\\hello"
   ]
  },
  {
   "cell_type": "markdown",
   "metadata": {},
   "source": [
    "#### Under Linux"
   ]
  },
  {
   "cell_type": "code",
   "execution_count": 16,
   "metadata": {},
   "outputs": [
    {
     "name": "stderr",
     "output_type": "stream",
     "text": [
      "'.' 不是内部或外部命令，也不是可运行的程序\n",
      "或批处理文件。\n"
     ]
    }
   ],
   "source": [
    "!./demo/bin/hello"
   ]
  },
  {
   "cell_type": "markdown",
   "metadata": {},
   "source": [
    "### Further Reading： C library to perform Input/Output operations\n",
    "\n",
    "#### stdio.h - scanf,printf\n",
    "\n",
    "**stdio.h** the header of `C Standard Input and Output Library\n",
    "\n",
    "\n",
    "```c\n",
    "int scanf ( const char * format, ... );\n",
    "```\n",
    "`Read` **formatted** data from `stdin`\n",
    "\n",
    "Reads data from stdin and stores them according to the parameter format into the locations pointed by the additional arguments.\n",
    "\n",
    "\n",
    "* **s**\tString of characters\n",
    "* **d**\tDecimal integer\n",
    "* **f** Floating point number\n",
    "\n",
    "```c\n",
    "int printf ( const char * format, ... );\n",
    "```\n",
    "`Print` **formatted** data to `stdout`\n",
    "\n",
    "Writes the C string pointed by format to the standard output (stdout). \n",
    "\n",
    "If format includes format specifiers (subsequences beginning with %), the additional arguments following format are formatted and inserted in the resulting string replacing their respective specifiers."
   ]
  },
  {
   "cell_type": "code",
   "execution_count": 17,
   "metadata": {},
   "outputs": [
    {
     "name": "stdout",
     "output_type": "stream",
     "text": [
      "Overwriting ./demo/src/demostdio.c\n"
     ]
    }
   ],
   "source": [
    "%%file ./demo/src/demostdio.c\n",
    "/*\n",
    "gcc -o demostdio demostdio.c\n",
    "*/\n",
    "#include <stdio.h>\n",
    "\n",
    "int main ()\n",
    "{\n",
    "  char name[80];\n",
    "  int age;\n",
    "  float num;  \n",
    "\n",
    "  printf (\"Enter your family name: \");\n",
    "  scanf (\"%79s\",name);  \n",
    "  \n",
    "  printf (\"Enter your age: \");\n",
    "  scanf (\"%d\",&age);\n",
    "  printf (\"Mr. %s , %d years old.\\n\",name,age);\n",
    "    \n",
    "  printf(\"Enter a number: \");\n",
    "  scanf(\"%f\", &num);  \n",
    "  printf (\"You have entered %f\\n\",num); \n",
    "    \n",
    "  return 0;\n",
    "}"
   ]
  },
  {
   "cell_type": "code",
   "execution_count": 18,
   "metadata": {},
   "outputs": [],
   "source": [
    "!gcc -o ./demo/bin/demostdio  ./demo/src/demostdio.c"
   ]
  },
  {
   "cell_type": "markdown",
   "metadata": {},
   "source": [
    "#### Under Windows\n",
    "\n",
    "```\n",
    ">.\\demo\\bin\\demostdio\n",
    "```\n",
    "#### Under Linux\n",
    "```\n",
    "$./demo/bin/demostdio\n",
    "```"
   ]
  },
  {
   "cell_type": "markdown",
   "metadata": {},
   "source": [
    "###  Address in C: &\n",
    "\n",
    "```c\n",
    "int age;\n",
    "scanf (\"%d\",&age);\n",
    "```\n",
    "\n",
    "If you have a variable **var** in your program, \n",
    "\n",
    "**&var** will give you its `address in the memory`, \n",
    "\n",
    "where **&** is commonly called the `reference` operator.\n",
    "\n",
    "You must have seen this notation while using **scanf()** function.\n",
    "\n",
    "It was used in the function to **store** the user **inputted value** in **the `address` of var**."
   ]
  },
  {
   "cell_type": "markdown",
   "metadata": {},
   "source": [
    "#### Reference operator (&) and Dereference operator (*)\n",
    "\n",
    "As discussed, `&` is called **reference operator（引用）**. It gives you the address of a variable.\n",
    "\n",
    "there is another operator that `gets you the value from the address`（取回地址中的值）, it is called a **dereference operator（解引用）** `*`."
   ]
  },
  {
   "cell_type": "code",
   "execution_count": 19,
   "metadata": {},
   "outputs": [
    {
     "name": "stdout",
     "output_type": "stream",
     "text": [
      "Overwriting ./demo/src/demoref.c\n"
     ]
    }
   ],
   "source": [
    "%%file ./demo/src/demoref.c\n",
    "\n",
    "/* Example to demonstrate use of reference operator in C programming. \n",
    "gcc -o demoref demoref.c\n",
    "*/\n",
    "#include <stdio.h>\n",
    "int main()\n",
    "{\n",
    "  int var = 5;\n",
    "  printf(\"Value: %d\\n\", var);\n",
    "  printf(\"Address: %u\\n\", &var);  //reference operator, Notice, the & before var.\n",
    "  printf(\"Value: %d\\n\", *(&var));  // dereference operator,Notice, the * before ＆var.  \n",
    "  return 0;\n",
    "}"
   ]
  },
  {
   "cell_type": "code",
   "execution_count": 21,
   "metadata": {},
   "outputs": [],
   "source": [
    "!gcc -o ./demo/bin/demoref  ./demo/src/demoref.c"
   ]
  },
  {
   "cell_type": "markdown",
   "metadata": {},
   "source": [
    "#### Under Windows"
   ]
  },
  {
   "cell_type": "code",
   "execution_count": 22,
   "metadata": {},
   "outputs": [
    {
     "name": "stdout",
     "output_type": "stream",
     "text": [
      "Value: 5\n",
      "Address: 6422092\n",
      "Value: 5\n"
     ]
    }
   ],
   "source": [
    "!.\\demo\\bin\\demoref"
   ]
  },
  {
   "cell_type": "markdown",
   "metadata": {},
   "source": [
    "#### Under Linux"
   ]
  },
  {
   "cell_type": "code",
   "execution_count": null,
   "metadata": {},
   "outputs": [],
   "source": [
    "!./demo/bin/demoref"
   ]
  },
  {
   "cell_type": "markdown",
   "metadata": {},
   "source": [
    "## 2.  GNU Make\n",
    "\n",
    "The **\"make\"** utility automates the mundane aspects of building executable from source code.\n",
    "\n",
    "**\"make\"** uses a so-called **makefile**, which contains **rules** on how to build the executables.\n",
    "\n",
    "You can issue \"make --help\" to list the command-line options.\n"
   ]
  },
  {
   "cell_type": "code",
   "execution_count": null,
   "metadata": {},
   "outputs": [],
   "source": [
    "!make --help"
   ]
  },
  {
   "cell_type": "markdown",
   "metadata": {},
   "source": [
    "Let's begin with a simple example to build the Hello-world program (hello.c) into executable (hello.exe) via make utility."
   ]
  },
  {
   "cell_type": "code",
   "execution_count": 23,
   "metadata": {},
   "outputs": [
    {
     "name": "stdout",
     "output_type": "stream",
     "text": [
      "Overwriting ./demo/src/hello.c\n"
     ]
    }
   ],
   "source": [
    "%%file ./demo/src/hello.c\n",
    "/*\n",
    "gcc -o hello hello.c\n",
    "*/\n",
    "\n",
    "#include <stdio.h>\n",
    " \n",
    "int main() {\n",
    "    printf(\"Hello, world!\\n\");\n",
    "    return 0;\n",
    "}"
   ]
  },
  {
   "cell_type": "markdown",
   "metadata": {},
   "source": [
    "### 1)  Create **makefile** file\n",
    "\n",
    "Create the following file named **\"makefile\"** : contains rules and save in the `current` directory. \n",
    "\n",
    "* **`without` any file `extension`**\n",
    "\n",
    "A makefile consists of `a set of rules`（规则） to build the executable. \n",
    "\n",
    "**A rule** consists of 3 parts:\n",
    "\n",
    "* **a target**（目标）, \n",
    "\n",
    "* **a list of pre-requisites**（条件） \n",
    "\n",
    "* **a command**（命令）\n",
    "\n",
    "as follows:\n",
    "\n",
    " ```bash\n",
    "\n",
    "target: pre-req-1 pre-req-2 ...\n",
    "\t  command\n",
    "\n",
    " ```\n",
    "\n",
    "* The **target** and **pre-requisites** are separated by <font color=\"red\">a colon ** : **  </font>.\n",
    "\n",
    "\n",
    "* The **command** must be preceded by <font color=\"blue\">**a Tab** (NOT spaces)</font>.\n",
    "\n"
   ]
  },
  {
   "cell_type": "code",
   "execution_count": 29,
   "metadata": {},
   "outputs": [
    {
     "name": "stdout",
     "output_type": "stream",
     "text": [
      "Overwriting makefile\n"
     ]
    }
   ],
   "source": [
    "%%file makefile\n",
    "\n",
    "all: helloexe\n",
    "    \n",
    "helloexe: helloobj\n",
    "\t gcc -o ./demo/bin/hello.exe ./demo/obj/hello.o\n",
    "\t del .\\demo\\obj\\hello.o\n",
    "    \n",
    "helloobj: ./demo/src/hello.c\n",
    "\t gcc -c -o ./demo/obj/hello.o ./demo/src/hello.c\n",
    "     \n",
    "clean:\n",
    "\t del .\\demo\\bin\\hello.exe"
   ]
  },
  {
   "cell_type": "markdown",
   "metadata": {},
   "source": [
    "**NOTE**：the `makefile` in the current directory(`notebook`) "
   ]
  },
  {
   "cell_type": "markdown",
   "metadata": {},
   "source": [
    "#### For Linux"
   ]
  },
  {
   "cell_type": "code",
   "execution_count": 7,
   "metadata": {},
   "outputs": [
    {
     "name": "stdout",
     "output_type": "stream",
     "text": [
      "Overwriting makefile\n"
     ]
    }
   ],
   "source": [
    "%%file makefile\n",
    "\n",
    "all: helloexe\n",
    "    \n",
    "helloexe: helloobj\n",
    "\t gcc -o ./demo/gcc/hello ./demo/obj/hello.o\n",
    "\t rm -f ./demo/bin/hello.o\n",
    "    \n",
    "helloobj: ./demo/gcc/hello.c\n",
    "\t gcc -c -o ./demo/obj/hello.o ./demo/src/hello.c\n",
    "     \n",
    "clean:\n",
    "\t rm -f ./demo/bin/hello"
   ]
  },
  {
   "cell_type": "markdown",
   "metadata": {},
   "source": [
    "#### Under `Windows`\n",
    "\n",
    "```bash\n",
    "     del .\\demo\\obj\\hello.o\n",
    "\t del .\\demo\\bin\\hello.exe\n",
    "```\n",
    "\n",
    "#### Under `Linux` \n",
    "\n",
    "```bash\n",
    "    rm -f ./demo/bin/hello.o\n",
    "\t\n",
    "    rm -f ./demo/bin/hello\n",
    "```\n",
    "\n",
    "*  rm  : remove files or directories\n",
    "\n",
    "*  -f, --force : ignore nonexistent files, never prompt"
   ]
  },
  {
   "cell_type": "markdown",
   "metadata": {},
   "source": [
    "### Running **make**  \n",
    "\n",
    "#### (2.1)  make  without argument\n",
    "\n",
    "* starts the `default` target  `all` in  **makefile** at the `current` directory. "
   ]
  },
  {
   "cell_type": "code",
   "execution_count": 30,
   "metadata": {},
   "outputs": [
    {
     "name": "stdout",
     "output_type": "stream",
     "text": [
      "gcc -c -o ./demo/obj/hello.o ./demo/src/hello.c\n",
      "gcc -o ./demo/bin/hello.exe ./demo/obj/hello.o\n",
      "del .\\demo\\obj\\hello.o\n"
     ]
    }
   ],
   "source": [
    "!make "
   ]
  },
  {
   "cell_type": "code",
   "execution_count": 31,
   "metadata": {},
   "outputs": [
    {
     "name": "stdout",
     "output_type": "stream",
     "text": [
      "Hello, world!\n"
     ]
    }
   ],
   "source": [
    "!.\\demo\\bin\\hello"
   ]
  },
  {
   "cell_type": "markdown",
   "metadata": {},
   "source": [
    "After,we have create the makefile  for the project and save to default folder"
   ]
  },
  {
   "cell_type": "code",
   "execution_count": 32,
   "metadata": {},
   "outputs": [
    {
     "name": "stdout",
     "output_type": "stream",
     "text": [
      " 驱动器 D 中的卷是 cmh\n",
      " 卷的序列号是 9C25-3306\n",
      "\n",
      " D:\\SEU\\SEE\\PySEE\\home\\notebook 的目录\n",
      "\n",
      "2018/11/25  22:47               249 makefile\n",
      "               1 个文件            249 字节\n",
      "               0 个目录 108,656,652,288 可用字节\n"
     ]
    }
   ],
   "source": [
    "!dir make*"
   ]
  },
  {
   "cell_type": "markdown",
   "metadata": {},
   "source": [
    "As you see,We are using the floders \n",
    "\n",
    "```bash\n",
    " ├──<notebook>\n",
    " │   │ \n",
    " │   │── <demo>\n",
    " │   │     │ \n",
    " │   │     │──<src> \n",
    " │   │     │     │ \n",
    " │   │     │     │─ hello.c (the Source code)\n",
    " │   │     │\n",
    " │   │     │──<obj>\n",
    " │   │     │     │           \n",
    " │   │     │     │─ hello.o (the Compiled output) \n",
    " │   │     │      \n",
    " │   │     │──<bin>\n",
    " │   │     │     │ \n",
    " │   │     │     │─ hello.exe (the Linked output) \n",
    " │   │─makefile                      \n",
    "``` \n",
    "\n",
    "the makefile is not in `the folder of project ./demo/`,Generaly,We should put all files of one project under one floder.\n",
    "\n",
    "For Example:\n",
    "\n",
    "```bash\n",
    " <project>\n",
    " │   \n",
    " │─<src> \n",
    " │   │    \n",
    " │   │─ *.c/cpp,*.py,etc. (the Source code)\n",
    " │        \n",
    " │─<obj>\n",
    " │   │               \n",
    " │   │─ *.o (the Compiled output) \n",
    " │             \n",
    " │─<bin>\n",
    " │   │ \n",
    " │   │─ *exe  *.so,*.out,*.dll (the Linked output) \n",
    " │       \n",
    " │makefile*   \n",
    " │\n",
    " │README.md   \n",
    " \n",
    " \n",
    "```\n",
    "\n",
    "Now,**We use the floders in our next programming**\n",
    "\n",
    "```bash\n",
    " ├──<notebook>\n",
    " │   │ \n",
    " │   │── <demo>\n",
    " │   │     │ \n",
    " │   │     │──<src> \n",
    " │   │     │     │ \n",
    " │   │     │     │─ *.c/cpp (the Source code)\n",
    " │   │     │\n",
    " │   │     │──<obj>\n",
    " │   │     │     │           \n",
    " │   │     │     │─ *.o (the Compiled output) \n",
    " │   │     │      \n",
    " │   │     │──<bin>\n",
    " │   │     │     │ \n",
    " │   │     │     │─ *.exe  *.so,*.out,*.dll (the Linked output) \n",
    " │   │     │─ makefile                      \n",
    "``` \n",
    "\n",
    "**That time,the makefile is not in the default floder,we may set `FILE` as a makefile**"
   ]
  },
  {
   "cell_type": "markdown",
   "metadata": {},
   "source": [
    "**2.2 Specified `FILE` as a makefile**\n",
    "\n",
    "* `-f FILE`:  Read FILE as a makefile.\n",
    "\n",
    "We save  `makefile` in `noteboo/code/`,not the current directory `notebook`"
   ]
  },
  {
   "cell_type": "code",
   "execution_count": 34,
   "metadata": {},
   "outputs": [
    {
     "name": "stdout",
     "output_type": "stream",
     "text": [
      "Overwriting ./demo/makefile\n"
     ]
    }
   ],
   "source": [
    "%%file ./demo/makefile\n",
    "\n",
    "all: helloexe\n",
    "    \n",
    "helloexe: helloobj\n",
    "\t gcc -o ./demo/bin/hello.exe ./demo/obj/hello.o\n",
    "\t del .\\demo\\obj\\hello.o\n",
    "    \n",
    "helloobj: ./demo/src/hello.c\n",
    "\t gcc -c -o ./demo/obj/hello.o ./demo/src/hello.c\n",
    "     \n",
    "clean:\n",
    "\t del .\\demo\\bin\\hello.exe"
   ]
  },
  {
   "cell_type": "markdown",
   "metadata": {},
   "source": [
    "##### Specified FILE as a makefile"
   ]
  },
  {
   "cell_type": "code",
   "execution_count": 35,
   "metadata": {},
   "outputs": [
    {
     "name": "stdout",
     "output_type": "stream",
     "text": [
      "gcc -c -o ./demo/obj/hello.o ./demo/src/hello.c\n",
      "gcc -o ./demo/bin/hello.exe ./demo/obj/hello.o\n",
      "del .\\demo\\obj\\hello.o\n"
     ]
    }
   ],
   "source": [
    "!make -f ./demo/makefile"
   ]
  },
  {
   "cell_type": "markdown",
   "metadata": {},
   "source": [
    "#### Under Windows"
   ]
  },
  {
   "cell_type": "code",
   "execution_count": 37,
   "metadata": {},
   "outputs": [
    {
     "name": "stdout",
     "output_type": "stream",
     "text": [
      "Hello, world!\n"
     ]
    }
   ],
   "source": [
    "!.\\demo\\bin\\hello"
   ]
  },
  {
   "cell_type": "markdown",
   "metadata": {},
   "source": [
    "#### Under Linux"
   ]
  },
  {
   "cell_type": "code",
   "execution_count": 48,
   "metadata": {},
   "outputs": [
    {
     "name": "stdout",
     "output_type": "stream",
     "text": [
      "Overwriting ./code/makefile\n"
     ]
    }
   ],
   "source": [
    "%%file ./demo/makefile\n",
    "\n",
    "all: helloexe\n",
    "    \n",
    "helloexe: helloobj\n",
    "\t gcc -o ./demo/gcc/hello ./demo/obj/hello.o\n",
    "\t rm -f ./demo/bin/hello.o\n",
    "    \n",
    "helloobj: ./demo/gcc/hello.c\n",
    "\t gcc -c -o ./demo/obj/hello.o ./demo/src/hello.c\n",
    "     \n",
    "clean:\n",
    "\t rm -f ./demo/bin/hello"
   ]
  },
  {
   "cell_type": "code",
   "execution_count": null,
   "metadata": {},
   "outputs": [],
   "source": [
    "!make -f ./demo/makefile"
   ]
  },
  {
   "cell_type": "code",
   "execution_count": null,
   "metadata": {},
   "outputs": [],
   "source": [
    "!ls  ./demo/bin/hell*"
   ]
  },
  {
   "cell_type": "code",
   "execution_count": null,
   "metadata": {},
   "outputs": [],
   "source": [
    "!./demo/bin/hello"
   ]
  },
  {
   "cell_type": "markdown",
   "metadata": {},
   "source": [
    "**2.3 Running make with `clean` argument** \n",
    "\n",
    "starts the target **clean** in the makefile."
   ]
  },
  {
   "cell_type": "code",
   "execution_count": 38,
   "metadata": {},
   "outputs": [
    {
     "name": "stdout",
     "output_type": "stream",
     "text": [
      "del .\\demo\\bin\\hello.exe\n"
     ]
    }
   ],
   "source": [
    "!make clean -f ./demo/makefile"
   ]
  },
  {
   "cell_type": "code",
   "execution_count": 39,
   "metadata": {},
   "outputs": [
    {
     "name": "stdout",
     "output_type": "stream",
     "text": [
      " 驱动器 D 中的卷是 cmh\n",
      " 卷的序列号是 9C25-3306\n",
      "\n",
      " D:\\SEU\\SEE\\PySEE\\home\\notebook\\demo\\bin 的目录\n",
      "\n"
     ]
    },
    {
     "name": "stderr",
     "output_type": "stream",
     "text": [
      "找不到文件\n"
     ]
    }
   ],
   "source": [
    "!dir  .\\demo\\bin\\hell*.exe"
   ]
  },
  {
   "cell_type": "markdown",
   "metadata": {},
   "source": [
    "#### Compile, Link and `Run` with Makefile\n",
    "\n",
    "* 1 Add command in the rule:\n",
    "\n",
    "```bash\n",
    "all: helloexe\n",
    "\t ./demo/bin/hello.exe\n",
    "```    \n",
    "* 2 the name of makefile is `./demo/makefile-run`"
   ]
  },
  {
   "cell_type": "code",
   "execution_count": 45,
   "metadata": {},
   "outputs": [
    {
     "name": "stdout",
     "output_type": "stream",
     "text": [
      "Overwriting ./demo/makefile-run\n"
     ]
    }
   ],
   "source": [
    "%%file ./demo/makefile-run\n",
    "\n",
    "all: helloexe\n",
    "\t./demo/bin/hello.exe\n",
    "    \n",
    "helloexe: helloobj\n",
    "\t gcc -o ./demo/bin/hello.exe ./demo/obj/hello.o\n",
    "\t del .\\demo\\obj\\hello.o\n",
    "    \n",
    "helloobj: ./demo/src/hello.c\n",
    "\t gcc -c -o ./demo/obj/hello.o ./demo/src/hello.c\n",
    "     \n",
    "clean:\n",
    "\t del .\\demo\\bin\\hello.exe\n",
    "\n"
   ]
  },
  {
   "cell_type": "code",
   "execution_count": 46,
   "metadata": {},
   "outputs": [
    {
     "name": "stdout",
     "output_type": "stream",
     "text": [
      "gcc -c -o ./demo/obj/hello.o ./demo/src/hello.c\n",
      "gcc -o ./demo/bin/hello.exe ./demo/obj/hello.o\n",
      "del .\\demo\\obj\\hello.o\n",
      "./demo/bin/hello.exe\n",
      "Hello, world!\n"
     ]
    }
   ],
   "source": [
    "!make -f ./demo/makefile-run"
   ]
  },
  {
   "cell_type": "markdown",
   "metadata": {},
   "source": [
    "## 3 Compile, Link :Single and Multiple Source Files\n",
    "\n",
    "\n",
    "###  3.1 Computing the Sum of an Array in Single Sile\n",
    "\n",
    "Function to compute the sum of an array and it's caller are in **a sinle source** file: `(SumArraySingle.c`\n"
   ]
  },
  {
   "cell_type": "code",
   "execution_count": 47,
   "metadata": {},
   "outputs": [
    {
     "name": "stdout",
     "output_type": "stream",
     "text": [
      "Overwriting ./demo/src/SumArraySingle.c\n"
     ]
    }
   ],
   "source": [
    "%%file ./demo/src/SumArraySingle.c\n",
    "\n",
    "#include <stdio.h>  \n",
    "\n",
    "/* Function definition\n",
    "   Return the sum of the given array\n",
    "*/\n",
    "int sum(int array[], int size)\n",
    "{\n",
    "    int sum = 0;\n",
    "    int i;\n",
    "    for (i = 0; i < size; ++i) {\n",
    "        sum += array[i];\n",
    "    }\n",
    "    return sum;\n",
    "}\n",
    "\n",
    "int main() {\n",
    "     int a1[] = {8, 4, 5, 3, 2};\n",
    "     printf(\"sum is %d\\n\", sum(a1, 5));  // sum is 22\n",
    "     return 0;\n",
    "}"
   ]
  },
  {
   "cell_type": "code",
   "execution_count": 48,
   "metadata": {},
   "outputs": [],
   "source": [
    "!gcc -o ./demo/bin/SumArraySingle.exe  ./demo/src/SumArraySingle.c"
   ]
  },
  {
   "cell_type": "markdown",
   "metadata": {},
   "source": [
    "#### Run"
   ]
  },
  {
   "cell_type": "code",
   "execution_count": 49,
   "metadata": {},
   "outputs": [
    {
     "name": "stdout",
     "output_type": "stream",
     "text": [
      "sum is 22\n"
     ]
    }
   ],
   "source": [
    "!.\\demo\\bin\\SumArraySingle"
   ]
  },
  {
   "cell_type": "markdown",
   "metadata": {},
   "source": [
    "#### Makefile under Windows"
   ]
  },
  {
   "cell_type": "code",
   "execution_count": 52,
   "metadata": {},
   "outputs": [
    {
     "name": "stdout",
     "output_type": "stream",
     "text": [
      "Overwriting ./demo/makefile-SumArraySingle\n"
     ]
    }
   ],
   "source": [
    "%%file ./demo/makefile-SumArraySingle\n",
    "\n",
    "all: SumArraySingle\n",
    "\n",
    "SumArraySingle: obj\n",
    "\t gcc -o ./demo/bin/SumArraySingle.exe ./demo/obj/SumArraySingle.o\n",
    "\t del .\\demo\\obj\\SumArraySingle.o\n",
    "    \n",
    "obj: ./demo/src/SumArraySingle.c\n",
    "\t gcc -c -o ./demo/obj/SumArraySingle.o ./demo/src/SumArraySingle.c\n",
    "     \n",
    "clean:\n",
    "\t del .\\demo\\bin\\SumArraySingle.exe"
   ]
  },
  {
   "cell_type": "code",
   "execution_count": 53,
   "metadata": {},
   "outputs": [
    {
     "name": "stdout",
     "output_type": "stream",
     "text": [
      "gcc -c -o ./demo/obj/SumArraySingle.o ./demo/src/SumArraySingle.c\n",
      "gcc -o ./demo/bin/SumArraySingle.exe ./demo/obj/SumArraySingle.o\n",
      "del .\\demo\\obj\\SumArraySingle.o\n"
     ]
    }
   ],
   "source": [
    "!make -f ./demo/makefile-SumArraySingle"
   ]
  },
  {
   "cell_type": "code",
   "execution_count": 56,
   "metadata": {},
   "outputs": [
    {
     "name": "stdout",
     "output_type": "stream",
     "text": [
      "sum is 22\n"
     ]
    }
   ],
   "source": [
    "!.\\demo\\bin\\SumArraySingle"
   ]
  },
  {
   "cell_type": "code",
   "execution_count": 57,
   "metadata": {},
   "outputs": [
    {
     "name": "stdout",
     "output_type": "stream",
     "text": [
      "del .\\demo\\bin\\SumArraySingle.exe\n"
     ]
    }
   ],
   "source": [
    "!make clean -f ./demo/makefile-SumArraySingle"
   ]
  },
  {
   "cell_type": "markdown",
   "metadata": {},
   "source": [
    "#### Makefile under Linux"
   ]
  },
  {
   "cell_type": "code",
   "execution_count": 64,
   "metadata": {},
   "outputs": [
    {
     "name": "stdout",
     "output_type": "stream",
     "text": [
      "Overwriting makefile-SumArraySingle-Linux\n"
     ]
    }
   ],
   "source": [
    "%%file ./demo/makefile-SumArraySingle-Linux\n",
    "\n",
    "\n",
    "all: SumArraySingle\n",
    "\n",
    "SumArraySingle: obj\n",
    "\t gcc -o ./demo/bin/SumArraySingle.exe ./demo/obj/SumArraySingle.o\n",
    "\t rm -f  ./demo/obj/SumArraySingle.o\n",
    "    \n",
    "obj: ./demo/src/SumArraySingle.c\n",
    "\t gcc -c -o ./demo/obj/SumArraySingle.o ./demo/src/SumArraySingle.c\n",
    "     \n",
    "clean:\n",
    "\t rm -f ./demo/bin/SumArraySingle.exe"
   ]
  },
  {
   "cell_type": "code",
   "execution_count": 17,
   "metadata": {},
   "outputs": [
    {
     "name": "stdout",
     "output_type": "stream",
     "text": [
      "gcc -c -o ./code/bin/SumArraySingle.o ./code/gcc/SumArraySingle.c\n",
      "gcc -o ./code/gcc/SumArraySingle ./code/bin/SumArraySingle.o\n",
      "rm -f ./code/bin/SumArraySingle.o\n"
     ]
    },
    {
     "name": "stderr",
     "output_type": "stream",
     "text": [
      "process_begin: CreateProcess(NULL, rm -f ./code/bin/SumArraySingle.o, ...) failed.\n",
      "make (e=2): 系统找不到指定的文件。\n",
      "\n",
      "make: *** [makefile-SumArraySingle-Linux:6: SumArraySingle] Error 2\n"
     ]
    }
   ],
   "source": [
    "!make -f ./demo/makefile-SumArraySingle-Linux"
   ]
  },
  {
   "cell_type": "code",
   "execution_count": null,
   "metadata": {},
   "outputs": [],
   "source": [
    "!./demo/bin/SumArraySingle"
   ]
  },
  {
   "cell_type": "code",
   "execution_count": null,
   "metadata": {},
   "outputs": [],
   "source": [
    "!make clean -f ./demo/makefile-SumArraySingle"
   ]
  },
  {
   "cell_type": "markdown",
   "metadata": {},
   "source": [
    "### 3.2 Computing the Sum of an Array in Multi-source files\n",
    "\n",
    "* 1) The codes of Computing the Sum of an Array\n",
    "\n",
    "  *  SumArray.h\n",
    "  *  SumArray.c\n",
    "    \n",
    "* 2) The code file of the caller  \n",
    "\n",
    "  *  mainSum.c"
   ]
  },
  {
   "cell_type": "code",
   "execution_count": 58,
   "metadata": {},
   "outputs": [
    {
     "name": "stdout",
     "output_type": "stream",
     "text": [
      "Writing ./demo/src/SumArray.h\n"
     ]
    }
   ],
   "source": [
    "%%file ./demo/src/SumArray.h\n",
    "\n",
    "#ifndef SUMARRAY_H\n",
    "#define SUMARRAY_H\n",
    "\n",
    "int sum(int array[], int size);\n",
    "\n",
    "#endif"
   ]
  },
  {
   "cell_type": "code",
   "execution_count": 59,
   "metadata": {},
   "outputs": [
    {
     "name": "stdout",
     "output_type": "stream",
     "text": [
      "Overwriting ./demo/src/SumArray.c\n"
     ]
    }
   ],
   "source": [
    "%%file ./demo/src/SumArray.c\n",
    "\n",
    "#include \"SumArray.h\"\n",
    "\n",
    "/* Function definition\n",
    "   Return the sum of the given array\n",
    "*/\n",
    "\n",
    "int sum(int array[], int size)\n",
    "{\n",
    "    int sum = 0;\n",
    "    int i;\n",
    "    for (i = 0; i < size; ++i) {\n",
    "        sum += array[i];\n",
    "    }\n",
    "    return sum;\n",
    "}\n"
   ]
  },
  {
   "cell_type": "code",
   "execution_count": 60,
   "metadata": {},
   "outputs": [
    {
     "name": "stdout",
     "output_type": "stream",
     "text": [
      "Overwriting ./demo/src/mainSum.c\n"
     ]
    }
   ],
   "source": [
    "%%file ./demo/src/mainSum.c\n",
    "\n",
    "#include <stdio.h> \n",
    "#include \"SumArray.h\"\n",
    "\n",
    "int main() {\n",
    "    \n",
    "     int a1[] = {8, 4, 5, 3, 2};\n",
    "     printf(\"sum is %d\\n\", sum(a1, 5));  // sum is 22\n",
    "     return 0;\n",
    "}"
   ]
  },
  {
   "cell_type": "markdown",
   "metadata": {},
   "source": [
    "#### Once-Only Headers\n",
    "\n",
    "If a header file happens to be included twice, the compiler will process its contents twice. This is very likely to cause an error, e.g. when the compiler sees the same structure definition twice. Even if it does not, it will certainly waste time.\n",
    "\n",
    "The standard way to prevent this is to enclose the entire real contents of the file in a conditional, like this:\n",
    "\n",
    "```c\n",
    "#ifndef SUMARRAY_H\n",
    "#define SUMARRAY_H\n",
    "\n",
    "the entire file\n",
    "\n",
    "#endif /* !SUMARRAY_H */\n",
    "```\n",
    "This construct is commonly known as a wrapper **#ifndef**. When the header is included again, the conditional will be false, because ** SUMARRAY_H** is defined. The preprocessor will skip over the entire contents of the file, and the compiler will not see it twice."
   ]
  },
  {
   "cell_type": "markdown",
   "metadata": {},
   "source": [
    "#### Compile,Link and Run\n",
    "\n",
    "\n",
    "**Windows**\n",
    "\n",
    "You could compile **all of them** in a single command:\n"
   ]
  },
  {
   "cell_type": "code",
   "execution_count": 61,
   "metadata": {},
   "outputs": [],
   "source": [
    "!gcc -o ./demo/bin/mainSum.exe ./demo/src/mainSum.c  ./demo/src/SumArray.c -I./demo/src/"
   ]
  },
  {
   "cell_type": "code",
   "execution_count": 62,
   "metadata": {},
   "outputs": [
    {
     "name": "stdout",
     "output_type": "stream",
     "text": [
      "sum is 22\n"
     ]
    }
   ],
   "source": [
    "!.\\demo\\bin\\mainSum"
   ]
  },
  {
   "cell_type": "markdown",
   "metadata": {},
   "source": [
    "#### Header Files \n",
    "\n",
    "When compiling the program, the compiler needs the header files to compile the source codes;\n",
    "\n",
    "For each of the headers used in your source (via `#include directives`), the compiler searches the so-called include-paths for these headers. The include-paths are specified via `-Idir` option (or environment variable CPATH). \n",
    "\n",
    "* `-Idir`: The include-paths are specified via -Idir option (uppercase 'I' followed by the directory path). \n",
    "\n",
    "Since the header's filename is known (e.g., iostream.h, stdio.h), the compiler only needs the `directories`.\n",
    "\n",
    "Lst the default include-paths in your system used by the \"GNU C Preprocessor\" via \"`cpp -v`\":"
   ]
  },
  {
   "cell_type": "markdown",
   "metadata": {},
   "source": [
    "We usually compile each of the source files **separately** into object file, and link them together in the later stage"
   ]
  },
  {
   "cell_type": "code",
   "execution_count": 63,
   "metadata": {},
   "outputs": [],
   "source": [
    "!gcc -c -o ./demo/obj/mainSum.o ./demo/src/mainSum.c -I./demo/src/\n",
    "!gcc -c -o ./demo/obj/SumArray.o ./demo/src/SumArray.c \n",
    "!gcc -o ./demo/bin/mainSum.exe  ./demo/obj/mainSum.o ./demo/obj/SumArray.o"
   ]
  },
  {
   "cell_type": "code",
   "execution_count": 64,
   "metadata": {},
   "outputs": [
    {
     "name": "stdout",
     "output_type": "stream",
     "text": [
      "sum is 22\n"
     ]
    }
   ],
   "source": [
    "!.\\demo\\bin\\mainSum"
   ]
  },
  {
   "cell_type": "markdown",
   "metadata": {},
   "source": [
    "#### Makefile for Windows"
   ]
  },
  {
   "cell_type": "code",
   "execution_count": 68,
   "metadata": {},
   "outputs": [
    {
     "name": "stdout",
     "output_type": "stream",
     "text": [
      "Overwriting ./demo/makefile-SumArray_multi\n"
     ]
    }
   ],
   "source": [
    "%%file ./demo/makefile-SumArray_multi\n",
    "\n",
    "all: mainSum\n",
    "\n",
    "clean:\n",
    "\tdel .\\demo\\bin\\mainSum.exe\n",
    "\n",
    "mainSum: obj  \n",
    "\tgcc -o ./demo/bin/mainSum.exe ./demo/obj/mainSum.o ./demo/obj/SumArray.o -I./demo/src/ \n",
    "\tdel  .\\demo\\obj\\*.o\n",
    "\n",
    "obj:  \n",
    "\tgcc -c -o ./demo/obj/mainSum.o ./demo/src/mainSum.c -I./demo/src/ \n",
    "\tgcc -c -o ./demo/obj/SumArray.o  ./demo/src/SumArray.c"
   ]
  },
  {
   "cell_type": "code",
   "execution_count": 69,
   "metadata": {},
   "outputs": [
    {
     "name": "stdout",
     "output_type": "stream",
     "text": [
      "gcc -c -o ./demo/obj/mainSum.o ./demo/src/mainSum.c -I./demo/src/ \n",
      "gcc -c -o ./demo/obj/SumArray.o  ./demo/src/SumArray.c\n",
      "gcc -o ./demo/bin/mainSum.exe ./demo/obj/mainSum.o ./demo/obj/SumArray.o -I./demo/src/ \n",
      "del  .\\demo\\obj\\*.o\n"
     ]
    }
   ],
   "source": [
    "!make -f ./demo/makefile-SumArray_multi"
   ]
  },
  {
   "cell_type": "code",
   "execution_count": 70,
   "metadata": {},
   "outputs": [
    {
     "name": "stdout",
     "output_type": "stream",
     "text": [
      "sum is 22\n"
     ]
    }
   ],
   "source": [
    "!.\\demo\\bin\\mainSum"
   ]
  },
  {
   "cell_type": "markdown",
   "metadata": {},
   "source": [
    "The result is a compiled shared library **libfibonacci.dll**\n",
    "\n",
    "#### Using the `variable` in  makefile\n",
    "\n",
    "A `variable` begins with a **`$`** and is enclosed within parentheses **(...)** \n",
    "\n",
    "$(...)\n",
    "\n",
    "##### Makefile for Windows\n"
   ]
  },
  {
   "cell_type": "code",
   "execution_count": 4,
   "metadata": {},
   "outputs": [
    {
     "name": "stdout",
     "output_type": "stream",
     "text": [
      "Overwriting ./demo/makefile-SumArray_multi\n"
     ]
    }
   ],
   "source": [
    "%%file ./demo/makefile-SumArray_multi\n",
    "\n",
    "CC=gcc\n",
    "\n",
    "SRCDIR= ./demo/src/\n",
    "OBJDIR= ./demo/obj/\n",
    "BINDIR= ./demo/bin/\n",
    "\n",
    "all: mainSum\n",
    "\n",
    "clean:\n",
    "\tdel .\\demo\\bin\\mainSum.exe\n",
    "\n",
    "mainSum: obj  \n",
    "\t$(CC) -o $(BINDIR)mainSum.exe $(OBJDIR)mainSum.o $(OBJDIR)SumArray.o -I$(SRCDIR) \n",
    "\tdel  .\\demo\\obj\\*.o\n",
    "\n",
    "obj:  \n",
    "\t$(CC) -c -o $(OBJDIR)mainSum.o $(SRCDIR)mainSum.c -I$(SRCDIR) \n",
    "\t$(CC) -c -o $(OBJDIR)SumArray.o  $(SRCDIR)SumArray.c"
   ]
  },
  {
   "cell_type": "code",
   "execution_count": 5,
   "metadata": {},
   "outputs": [
    {
     "name": "stdout",
     "output_type": "stream",
     "text": [
      "gcc -c -o ./demo/obj/mainSum.o ./demo/src/mainSum.c -I./demo/src/ \n",
      "gcc -c -o ./demo/obj/SumArray.o  ./demo/src/SumArray.c\n",
      "gcc -o ./demo/bin/mainSum.exe ./demo/obj/mainSum.o ./demo/obj/SumArray.o -I./demo/src/ \n",
      "del  .\\demo\\obj\\*.o\n"
     ]
    }
   ],
   "source": [
    "!make -f ./demo/makefile-SumArray_multi"
   ]
  },
  {
   "cell_type": "code",
   "execution_count": 6,
   "metadata": {},
   "outputs": [
    {
     "name": "stdout",
     "output_type": "stream",
     "text": [
      "sum is 22\n"
     ]
    }
   ],
   "source": [
    "!.\\demo\\bin\\mainSum"
   ]
  },
  {
   "cell_type": "markdown",
   "metadata": {},
   "source": [
    "#### Makefile for Linux"
   ]
  },
  {
   "cell_type": "code",
   "execution_count": 35,
   "metadata": {},
   "outputs": [
    {
     "name": "stdout",
     "output_type": "stream",
     "text": [
      "Writing makefile-SumArray_Linux\n"
     ]
    }
   ],
   "source": [
    "%%file ./demo/makefile-SumArray_Linux\n",
    "\n",
    "all: mainSum\n",
    "\n",
    "clean:\n",
    "\trm -f ./demo/bin/mainSum.exe\n",
    "\n",
    "mainSum: obj  \n",
    "\tgcc -o ./demo/bin/mainSum.exe ./demo/obj/mainSum.o ./demo/obj/SumArray.o -I./demo/src/ \n",
    "\trm -f  ./demo/obj/*.o\n",
    "\n",
    "obj:  \n",
    "\tgcc -c -o ./demo/obj/mainSum.o ./demo/src/mainSum.c -I./demo/src/ \n",
    "\tgcc -c -o ./demo/obj/SumArray.o  ./demo/src/SumArray.c"
   ]
  },
  {
   "cell_type": "code",
   "execution_count": null,
   "metadata": {},
   "outputs": [],
   "source": [
    "!make -f  ./demo/makefile-SumArray-Linux"
   ]
  },
  {
   "cell_type": "code",
   "execution_count": null,
   "metadata": {},
   "outputs": [],
   "source": [
    "!./demo/bin/mainSum"
   ]
  },
  {
   "cell_type": "markdown",
   "metadata": {},
   "source": [
    "#### Further Reading: GCC Compilation Process\n",
    "\n",
    "GCC compiles a C/C++ program into executable in 4 steps as shown in the fellow diagram. \n",
    "\n",
    "![Compilation Process](./img/GCC_CompilationProcess.png)\n",
    "\n",
    "For example, a \n",
    "\n",
    "```bash\n",
    "gcc -o hello.exe hello.c\n",
    "```\n",
    "is carried out as follows:\n",
    "\n",
    "* 1 **Pre-processing**: via the GNU C Preprocessor (cpp.exe), which includes the headers (#include) and expands the macros (#define). \n",
    "```bash\n",
    "cpp hello.c > hello.i\n",
    "```\n",
    "The resultant intermediate file \"hello.i\" contains the expanded source code.\n",
    "\n",
    "* 2 **Compilation**: The compiler compiles the pre-processed source code into assembly code for a specific processor. \n",
    "```bash\n",
    "gcc -S hello.i\n",
    "```\n",
    "The -S option specifies to produce assembly code, instead of object code. The resultant assembly file is \"hello.s\".\n",
    "\n",
    "* 3 **Assembly**: The assembler (as.exe) converts the assembly code into machine code in the object file \"hello.o\". \n",
    "```bash\n",
    "as -o hello.o hello.s\n",
    "```\n",
    "\n",
    "* 4 **Linker**: Finally, the linker (ld.exe) links the object code with the library code to produce an executable file \"hello.exe\". \n",
    "```bash\n",
    "ld -o hello.exe hello.o ...libraries...\n",
    "```\n"
   ]
  },
  {
   "cell_type": "markdown",
   "metadata": {},
   "source": [
    "## 4 The shared library with GCC\n",
    "\n",
    "When your program is linked against a shared library, only a small table is created in the executable. Before the executable starts running, **the operating system loads the machine code needed for the external functions** - a process known as **dynamic linking.** \n",
    "\n",
    "    \n",
    "* Dynamic linking makes executable files smaller and saves disk space, because `one` copy of a **library** can be **shared** between `multiple` programs. \n",
    "\n",
    "\n",
    "* Furthermore, most operating systems allows one copy of a shared library in memory to be used by all running programs, thus, saving memory. \n",
    "\n",
    "\n",
    "* The shared library codes can be upgraded without the need to recompile your program.\n",
    "\n",
    "\n",
    "A **shared library** has file extension of \n",
    "\n",
    "   * **`.so`** (shared objects) in `Linux(Unixes)`\n",
    "   \n",
    "   \n",
    "   * **`.dll** (dynamic link library) in `Windows`. \n"
   ]
  },
  {
   "cell_type": "markdown",
   "metadata": {},
   "source": [
    "###  4.1: Creating the shared library\n",
    "\n",
    "**Compile the C file with `Position Independent Code( PIC )` into a shared library:**"
   ]
  },
  {
   "cell_type": "markdown",
   "metadata": {},
   "source": [
    "Creating the shared library of SumArray: libSumArray.dll/libSumArray.so\n",
    "\n",
    "#### Under Windows"
   ]
  },
  {
   "cell_type": "code",
   "execution_count": 71,
   "metadata": {},
   "outputs": [],
   "source": [
    "!gcc -c -O3 -Wall -fPIC -o ./demo/bin/SumArray.o  ./demo/src/SumArray.c\n",
    "!gcc -shared -o ./demo/bin/libSumArray.dll  ./demo/bin/SumArray.o"
   ]
  },
  {
   "cell_type": "code",
   "execution_count": 72,
   "metadata": {},
   "outputs": [
    {
     "name": "stdout",
     "output_type": "stream",
     "text": [
      " 驱动器 D 中的卷是 cmh\n",
      " 卷的序列号是 9C25-3306\n",
      "\n",
      " D:\\SEU\\SEE\\PySEE\\home\\notebook\\demo\\bin 的目录\n",
      "\n",
      "2018/11/25  23:05            47,790 libSumArray.dll\n",
      "               1 个文件         47,790 字节\n",
      "               0 个目录 108,656,463,872 可用字节\n"
     ]
    }
   ],
   "source": [
    "!dir .\\demo\\bin\\libSumArray.*"
   ]
  },
  {
   "cell_type": "markdown",
   "metadata": {},
   "source": [
    "#### under Linux"
   ]
  },
  {
   "cell_type": "code",
   "execution_count": 137,
   "metadata": {},
   "outputs": [],
   "source": [
    "!gcc -c -O3 -Wall -fPIC -o ./demo/obj/SumArray.o ./demo/gcc/SumArray.c\n",
    "!gcc -shared -o ./cdemo/bin/libSumArray  ./demo/obj/SumArray.o "
   ]
  },
  {
   "cell_type": "code",
   "execution_count": null,
   "metadata": {},
   "outputs": [],
   "source": [
    "!ls ./demo/bin/libSumArray.*"
   ]
  },
  {
   "cell_type": "markdown",
   "metadata": {},
   "source": [
    "\n",
    "* `-c`: compile into object file with default name : funs.o.\n",
    "\n",
    "      By default, the object file has the same name as the source file with extension of \".o\" \n",
    "  \n",
    "  \n",
    "* `-O3`: Optimize yet more.\n",
    "\n",
    "      turns on all optimizations specified by -O2 and also turns on the -finline-functions, -fweb, -frename-registers and -funswitch-loops optionsturns  on  all  optimizations   \n",
    "     \n",
    "  \n",
    "* `-Wall`: prints \"all\"  compiler's warning message. \n",
    "\n",
    "      This option should always be used, in order to generate better code.\n",
    "\n",
    "\n",
    "* **`-fPIC`** : stands for `Position Independent Code`(位置无关代码)\n",
    "   \n",
    "   the generated machine code is `not dependent` on being located at a `specific address` in order to `work`.\n",
    "   \n",
    "   Position-independent code can be `executed` at `any memory address`\n",
    "    \n",
    "     \n",
    "* **-shared:** creating a shared library\n"
   ]
  },
  {
   "cell_type": "code",
   "execution_count": 8,
   "metadata": {},
   "outputs": [
    {
     "name": "stdout",
     "output_type": "stream",
     "text": [
      "Overwriting ./demo/makefile-SumArray-dll\n"
     ]
    }
   ],
   "source": [
    "%%file ./demo/makefile-SumArray-dll\n",
    "\n",
    "CC=gcc\n",
    "CFLAGS=-O3 -Wall -fPIC \n",
    "\n",
    "SRCDIR= ./demo/src/\n",
    "OBJDIR= ./demo/obj/\n",
    "BINDIR= ./demo/bin/\n",
    "\n",
    "all: libdll\n",
    "\n",
    "libdll: obj\n",
    "\t $(CC) -shared -o $(BINDIR)libSumArray.dll $(OBJDIR)SumArray.o\n",
    "\t del .\\demo\\obj\\SumArray.o\n",
    "    \n",
    "obj: ./demo/src/SumArray.c\n",
    "\t $(CC) -c $(CFLAGS)  -o $(OBJDIR)SumArray.o $(SRCDIR)SumArray.c\n",
    "     \n",
    "clean:\n",
    "\t del .\\demo\\src\\libSumArray.dll"
   ]
  },
  {
   "cell_type": "code",
   "execution_count": 9,
   "metadata": {},
   "outputs": [
    {
     "name": "stdout",
     "output_type": "stream",
     "text": [
      "gcc -c -O3 -Wall -fPIC   -o ./demo/obj/SumArray.o ./demo/src/SumArray.c\n",
      "gcc -shared -o ./demo/bin/libSumArray.dll ./demo/obj/SumArray.o\n",
      "del .\\demo\\obj\\SumArray.o\n"
     ]
    }
   ],
   "source": [
    "!make -f ./demo/makefile-SumArray-dll"
   ]
  },
  {
   "cell_type": "code",
   "execution_count": 10,
   "metadata": {},
   "outputs": [
    {
     "name": "stdout",
     "output_type": "stream",
     "text": [
      " 驱动器 D 中的卷是 cmh\n",
      " 卷的序列号是 9C25-3306\n",
      "\n",
      " D:\\SEU\\SEE\\PySEE\\home\\notebook\\demo\\bin 的目录\n",
      "\n",
      "2018/11/26  10:58            47,790 libSumArray.dll\n",
      "               1 个文件         47,790 字节\n",
      "               0 个目录 108,657,176,576 可用字节\n"
     ]
    }
   ],
   "source": [
    "!dir .\\demo\\bin\\libSum*.dll"
   ]
  },
  {
   "cell_type": "markdown",
   "metadata": {},
   "source": [
    "#### Under Linux"
   ]
  },
  {
   "cell_type": "code",
   "execution_count": 7,
   "metadata": {},
   "outputs": [
    {
     "name": "stdout",
     "output_type": "stream",
     "text": [
      "Writing ./code/makefile-SumArray-so\n"
     ]
    }
   ],
   "source": [
    "%%file ./code/makefile-SumArray-so\n",
    "\n",
    "\n",
    "CC=gcc\n",
    "CFLAGS=-O3 -Wall -fPIC\n",
    "\n",
    "SRCDIR= ./demo/src/\n",
    "OBJDIR= ./demo/obj/\n",
    "BINDIR= ./demo/bin/\n",
    "\n",
    "all: libdll\n",
    "\n",
    "libdll: obj\n",
    "\t $(CC) -shared -o $(BINDIR)libSumArray.dll $(OBJDIR)SumArray.o\n",
    "\t rm -f ./demo/obj/SumArray.o\n",
    "    \n",
    "obj: ./demo/src/SumArray.c\n",
    "\t $(CC) -c $(CFLAGS)  -o $(OBJDIR)SumArray.o $(SRCDIR)SumArray.c\n",
    "     \n",
    "clean:\n",
    "\t rm -f ./demo/src/libSumArray.dll\n"
   ]
  },
  {
   "cell_type": "code",
   "execution_count": 239,
   "metadata": {},
   "outputs": [
    {
     "name": "stdout",
     "output_type": "stream",
     "text": [
      "gcc -c -O3 -Wall -fPIC -o  ./code/bin/fib.o ./code/gcc/fib.c\n",
      "gcc -shared -o ./code/gcc/libfib ./code/bin/fib.o\n",
      "rm -f fib.o\n"
     ]
    },
    {
     "name": "stderr",
     "output_type": "stream",
     "text": [
      "process_begin: CreateProcess(NULL, rm -f fib.o, ...) failed.\n",
      "make (e=2): 系统找不到指定的文件。\n",
      "\n",
      "make: *** [code/makefile-fib-so:9: libfibso] Error 2\n"
     ]
    }
   ],
   "source": [
    "!make -f ./code/makefile-SumArray-so"
   ]
  },
  {
   "cell_type": "code",
   "execution_count": null,
   "metadata": {},
   "outputs": [],
   "source": [
    "!ls ./code/bin/libSum*.so"
   ]
  },
  {
   "cell_type": "markdown",
   "metadata": {},
   "source": [
    "###  4.2 Using Shared Library"
   ]
  },
  {
   "cell_type": "markdown",
   "metadata": {},
   "source": [
    "### Header Files and Libraries \n",
    "\n",
    "* `Header File`: When compiling the program, the **compiler** needs the **header** files to compile the source codes;\n",
    "\n",
    "* `libraries`: the **linker** needs the **libraries** to resolve external references from other object files or libraries. \n",
    "\n",
    "The `compiler` and `linker` will not find the `headers/libraries` unless you set **the appropriate options**\n",
    "\n",
    "* **1 Searching for Header Files**\n",
    "\n",
    "   **`-Idir`:** The include-paths are specified via **-Idir** option (`uppercase` 'I' followed by the directory path or environment variable **CPATH**). \n",
    "   \n",
    "   \n",
    "* **2 Searching for libraries Files**\n",
    "\n",
    "   **`-Ldir`**: The library-path is specified via **-Ldir** option (`uppercase` 'L' followed by the directory path(or environment variable **LIBRARY_PATH**). \n",
    "\n",
    "\n",
    "* **3 Linking the library**\n",
    "\n",
    "   **`-llibname`**: Link with the library name `without` the `lib prefix` and the .so/.dll extensions.\n",
    "   \n",
    "       GCC assumes that all libraries \n",
    "   \n",
    "          `start` with `lib`\n",
    "\n",
    "          `end`  with `.dll`(windows) or `.so`(Linux)，\n",
    "\n",
    "so, Using **libSumArray.dll/so:** in the `./code/bin/`\n",
    "\n",
    "\n",
    "```bash\n",
    " -I./demo/src/ -L./demo/bin/ -lSumArray\n",
    "```\n",
    "\n",
    "```bash\n",
    " -I./demo/src/ -L./demo/bin/ -lSumArray -Wl,-rpath=./demo/bin/  \n",
    "```\n",
    "\n",
    "* **`-Wl,option`**\n",
    "\n",
    "    Pass option as an option to the **linker**. If option contains commas, it is split into multiple options at the commas. You can use this syntax to pass an argument to the option. For example, -Wl,-Map,output.map passes -Map output.map to the linker. When using the GNU linker, you can also get the same effect with `-Wl,-Map=output.map'.\n",
    "    \n",
    "\n",
    "\n",
    "* **`-rpath=dir`** \n",
    "\n",
    "    **Add a directory to the runtime library search path**. This is used when linking an ELF executable with shared objects. All -rpath arguments are concatenated and passed to the runtime linker, which uses them to locate shared objects at runtime. The -rpath option is also used when locating shared objects which are needed by shared objects explicitly included in the link;\n",
    "   \n"
   ]
  },
  {
   "cell_type": "markdown",
   "metadata": {},
   "source": [
    "#### mainSum.c is the code in multi-source example"
   ]
  },
  {
   "cell_type": "code",
   "execution_count": 82,
   "metadata": {},
   "outputs": [
    {
     "name": "stdout",
     "output_type": "stream",
     "text": [
      "Overwriting ./demo/src/mainSum.c\n"
     ]
    }
   ],
   "source": [
    "%%file ./demo/src/mainSum.c\n",
    "\n",
    "#include <stdio.h> \n",
    "#include \"SumArray.h\"\n",
    "\n",
    "int main() {\n",
    "    \n",
    "     int a1[] = {8, 4, 5, 3, 2};\n",
    "     printf(\"sum is %d\\n\", sum(a1, 5));  // sum is 22\n",
    "     return 0;\n",
    "}"
   ]
  },
  {
   "cell_type": "markdown",
   "metadata": {},
   "source": [
    "#### Windows"
   ]
  },
  {
   "cell_type": "code",
   "execution_count": 1,
   "metadata": {},
   "outputs": [],
   "source": [
    "!gcc -c -o ./demo/obj/mainSum.o ./demo/src/mainSum.c \n",
    "!gcc -o  ./demo/bin/mainSum ./demo/obj/mainSum.o -I./demo/src/ -L./demo/bin/ -lSumArray"
   ]
  },
  {
   "cell_type": "code",
   "execution_count": 2,
   "metadata": {},
   "outputs": [
    {
     "name": "stdout",
     "output_type": "stream",
     "text": [
      "sum is 22\n"
     ]
    }
   ],
   "source": [
    "!.\\demo\\bin\\mainSum"
   ]
  },
  {
   "cell_type": "markdown",
   "metadata": {},
   "source": [
    "#### Linux"
   ]
  },
  {
   "cell_type": "code",
   "execution_count": null,
   "metadata": {},
   "outputs": [],
   "source": [
    "!gcc -c -o ./demo/obj/mainSum.o ./demo/obj/mainSum.c \n",
    "!gcc -o  ./demo/bin/mainSum ./demo/obj/mainSum.o -I./demo/obj/ -L./demo/bin/ -lSumArray -Wl,-rpath=./demo/bin/"
   ]
  },
  {
   "cell_type": "code",
   "execution_count": null,
   "metadata": {},
   "outputs": [],
   "source": [
    "!ldd ./demo/bin/mainSum"
   ]
  },
  {
   "cell_type": "code",
   "execution_count": null,
   "metadata": {},
   "outputs": [],
   "source": [
    "!./code/demo/mainSum"
   ]
  },
  {
   "cell_type": "markdown",
   "metadata": {},
   "source": [
    "#### Under Windows"
   ]
  },
  {
   "cell_type": "code",
   "execution_count": 11,
   "metadata": {},
   "outputs": [
    {
     "name": "stdout",
     "output_type": "stream",
     "text": [
      "Overwriting ./demo/makefile-call-dll\n"
     ]
    }
   ],
   "source": [
    "%%file ./demo/makefile-call-dll\n",
    "\n",
    "SRCDIR= ./demo/src/\n",
    "OBJDIR= ./demo/obj/\n",
    "BINDIR= ./demo/bin/\n",
    "\n",
    "all: mainexe\n",
    "\n",
    "clean:\n",
    "\tdel .\\demo\\bin\\mainSum.exe\n",
    "\n",
    "mainexe: sumobj $(SRCDIR)SumArray.h \n",
    "\tgcc -o $(BINDIR)mainSum.exe $(OBJDIR)mainSum.o -I$(SRCDIR) -L$(BINDIR) -lSumArray\n",
    "\tdel .\\demo\\obj\\mainSum.o\n",
    "\n",
    "sumobj: $(SRCDIR)mainSum.c \n",
    "\tgcc -c -o $(OBJDIR)mainSum.o $(SRCDIR)mainSum.c "
   ]
  },
  {
   "cell_type": "code",
   "execution_count": 12,
   "metadata": {},
   "outputs": [
    {
     "name": "stdout",
     "output_type": "stream",
     "text": [
      "gcc -c -o ./demo/obj/mainSum.o ./demo/src/mainSum.c \n",
      "gcc -o ./demo/bin/mainSum.exe ./demo/obj/mainSum.o -I./demo/src/ -L./demo/bin/ -lSumArray\n",
      "del .\\demo\\obj\\mainSum.o\n"
     ]
    }
   ],
   "source": [
    "!make -f ./demo/makefile-call-dll"
   ]
  },
  {
   "cell_type": "code",
   "execution_count": 13,
   "metadata": {},
   "outputs": [
    {
     "name": "stdout",
     "output_type": "stream",
     "text": [
      "sum is 22\n"
     ]
    }
   ],
   "source": [
    "!.\\demo\\bin\\mainSum"
   ]
  },
  {
   "cell_type": "markdown",
   "metadata": {},
   "source": [
    "#### Under Linux"
   ]
  },
  {
   "cell_type": "code",
   "execution_count": 97,
   "metadata": {},
   "outputs": [
    {
     "name": "stdout",
     "output_type": "stream",
     "text": [
      "Writing ./demo/makefile-call-so\n"
     ]
    }
   ],
   "source": [
    "%%file ./demo/makefile-call-so\n",
    "\n",
    "\n",
    "SRCDIR= ./demo/src/\n",
    "OBJDIR= ./demo/obj/\n",
    "BINDIR= ./demo/bin/\n",
    "\n",
    "all: main\n",
    "\n",
    "clean:\n",
    "\trm -f ./demo/bin/mainSum.exe\n",
    "\n",
    "main: sumobj $(SRCDIR)SumArray.h \n",
    "\tgcc -o $(BINDIR)mainSum.exe $(OBJDIR)mainSum.o -I$(SRCDIR) -L$(BINDIR) -lSumArray -Wl,-rpath=./code/bin/ \n",
    "\trm -f ./demo/obj/mainSum.o\n",
    "\n",
    "sumobj: $(SRCDIR)mainSum.c \n",
    "\tgcc -c -o $(OBJDIR)mainSum.o $(SRCDIR)mainSum.c    \n",
    "     "
   ]
  },
  {
   "cell_type": "code",
   "execution_count": null,
   "metadata": {},
   "outputs": [],
   "source": [
    "!make -f ./demo/makefile-call-so"
   ]
  },
  {
   "cell_type": "code",
   "execution_count": null,
   "metadata": {},
   "outputs": [],
   "source": [
    "!./demo/bin/mainSum"
   ]
  },
  {
   "cell_type": "markdown",
   "metadata": {},
   "source": [
    "## Reference\n",
    "\n",
    "* GCC (GNU compilers) http://gcc.gnu.org\n",
    "\n",
    "  * GCC Manual  http://gcc.gnu.org/onlinedocs\n",
    "\n",
    "  * An Introduction to GCC  http://www.network-theory.co.uk/docs/gccintro/index.html.\n",
    "\n",
    "  * GCC and Make：Compiling, Linking and Building C/C++ Applications http://www3.ntu.edu.sg/home/ehchua/programming/cpp/gcc_make.html\n",
    "\n",
    "  * MinGW-W64 (GCC) Compiler Suite: http://www.mingw-w64.org/doku.php\n",
    "\n",
    "\n",
    "* C/C++ for VS Code https://code.visualstudio.com/docs/languages/cpp\n",
    "\n",
    "* Simple Unit Testing for C：https://github.com/ThrowTheSwitch/Unity"
   ]
  },
  {
   "cell_type": "code",
   "execution_count": null,
   "metadata": {},
   "outputs": [],
   "source": []
  }
 ],
 "metadata": {
  "kernelspec": {
   "display_name": "Python 3",
   "language": "python",
   "name": "python3"
  },
  "language_info": {
   "codemirror_mode": {
    "name": "ipython",
    "version": 3
   },
   "file_extension": ".py",
   "mimetype": "text/x-python",
   "name": "python",
   "nbconvert_exporter": "python",
   "pygments_lexer": "ipython3",
   "version": "3.7.0"
  },
  "widgets": {
   "state": {},
   "version": "1.1.2"
  }
 },
 "nbformat": 4,
 "nbformat_minor": 2
}
