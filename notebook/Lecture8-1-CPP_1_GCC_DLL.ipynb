{
 "cells": [
  {
   "cell_type": "markdown",
   "metadata": {},
   "source": [
    "# Programming C/C++ With GCC"
   ]
  },
  {
   "cell_type": "markdown",
   "metadata": {},
   "source": [
    "## 1. GCC: GNU Compiler Collection\n",
    "\n",
    "### 1.1 The Brief Introduction to GCC\n",
    "\n",
    "The original GNU C Compiler (GCC) is developed by `Richard Stallman`, the founder of the `GNU Project`. \n",
    "\n",
    "[The GNU Project](https://www.gnu.org/) \n",
    "\n",
    "GNU is a Unit-like operating system that is `free software`—that is, it `respects` users' `freedom`. The development of GNU made it possible to use a computer without software that would trample your freedom. The development of GNU, started in January 1984, is known as the **GNU Project**.\n",
    "\n",
    "The name “GNU” is a recursive acronym for “GNU's Not Unix.” “GNU” is pronounced *g'noo*, as one syllable, like saying “grew” but replacing the r with n.\n",
    "\n",
    "**The GNU Project** aim is to give computer users `freedom` and control in their use of their computers and computing devices, by collaboratively developing and providing software that is based on the following freedom rights: users are free to run the software, share it (copy, distribute), study it and modify it. GNU software guarantees these freedom-rights legally (via its license), and is therefore free software; the use of the word \"free\" always being taken to refer to freedom. Thus. \"free software\" is a matter of liberty, `not price`. \n",
    "\n",
    "Many of the programs in GNU are released under the auspices of the GNU Project.\n",
    " \n",
    "**The Free Software Foundation** : https://www.fsf.org/\n",
    "   \n",
    "   The Free Software Foundation (FSF) is a nonprofit with a worldwide mission to promote computer user `freedom`. We defend the rights of all software users.\n",
    "\n",
    "\n",
    "**GCC: GNU Compiler Collection** :  http://gcc.gnu.org/\n",
    "  \n",
    "GCC, formerly for \"GNU C Compiler\", has grown over times to support many languages such as `C++`, Objective-C, Java, `Fortran` and Ada. It is now referred to as **\"GNU Compiler Collection\"**. \n",
    " \n",
    "GCC is portable and run in many operating platforms. GCC (and GNU Toolchain) is currently available on all Unixes. They are also ported to **Windows** by `MinGW` and Cygwin. \n",
    "\n",
    "### 1.2  Installing GCC\n",
    "\n",
    "#### Linux\n",
    "\n",
    "GCC (GNU Toolchain) is included in all Linux(Unixes). \n",
    "\n",
    "#### Windows \n",
    "\n",
    "For Windows, you could install **MinGW GCC** \n",
    "\n",
    ">**MinGW** (short for \"Minimalist GNU for Windows\"), is a `minimalist` (i.e., small but fewer features compared with cygwin) development environment for native Microsoft Windows applications.\n",
    "\n",
    "**MinGW-W64**: GCC for Windows 64 & 32 bits: http://www.mingw-w64.org/doku.php\n",
    "\n",
    "MinGW-W64 is an advancement of the original `mingw.org` project, created to support the GCC compiler on Windows systems. It has forked it in 2007 in order to provide support for 64 bits and new APIs. It has since then gained widespread use and distribution.\n",
    "\n",
    "Download MinGW-W64 site at https://sourceforge.net/projects/mingw-w64/files/?source=navbar\n"
   ]
  },
  {
   "cell_type": "markdown",
   "metadata": {},
   "source": [
    "### 1.3  Getting Started\n",
    "\n",
    "The GNU C and C++ compiler are gcc and g++, respectively.\n",
    "\n",
    "* **gcc** to compile `C` program\n",
    "\n",
    "* **g++** to compile `C++` program \n",
    "\n",
    "**Compile/Link a Simple C Program - hello.c**\n",
    "\n",
    "Below is the Hello-world C program `hello.c`:"
   ]
  },
  {
   "cell_type": "code",
   "execution_count": 175,
   "metadata": {},
   "outputs": [
    {
     "name": "stdout",
     "output_type": "stream",
     "text": [
      "Overwriting ./code/gcc/hello.c\n"
     ]
    }
   ],
   "source": [
    "%%file ./code/gcc/hello.c\n",
    "/*\n",
    "gcc -o hello hello.c\n",
    "*/\n",
    "#include <stdio.h>\n",
    " \n",
    "int main() {\n",
    "    printf(\"C says Hello, world!\\n\");\n",
    "    return 0;\n",
    "}"
   ]
  },
  {
   "cell_type": "markdown",
   "metadata": {},
   "source": [
    "You need to use **gcc** to `compile` C program：`hello.c`,then `link` to build the output\n",
    "\n",
    "* **-c: source files** `compiles` source files without linking.\\\n",
    "* **-o: output file** writes the link to build output to the specifies output file name."
   ]
  },
  {
   "cell_type": "code",
   "execution_count": 176,
   "metadata": {},
   "outputs": [],
   "source": [
    "!gcc -c ./code/gcc/hello.c "
   ]
  },
  {
   "cell_type": "code",
   "execution_count": 177,
   "metadata": {},
   "outputs": [],
   "source": [
    "!gcc -o hello hello.o"
   ]
  },
  {
   "cell_type": "markdown",
   "metadata": {},
   "source": [
    "#### Under Windows"
   ]
  },
  {
   "cell_type": "code",
   "execution_count": 71,
   "metadata": {},
   "outputs": [
    {
     "name": "stdout",
     "output_type": "stream",
     "text": [
      "C says Hello, world!\n"
     ]
    }
   ],
   "source": [
    "!.\\hello"
   ]
  },
  {
   "cell_type": "markdown",
   "metadata": {},
   "source": [
    "#### Under Linux"
   ]
  },
  {
   "cell_type": "code",
   "execution_count": 72,
   "metadata": {},
   "outputs": [
    {
     "name": "stderr",
     "output_type": "stream",
     "text": [
      "'ls' 不是内部或外部命令，也不是可运行的程序\n",
      "或批处理文件。\n"
     ]
    }
   ],
   "source": [
    "!ls ./hell*"
   ]
  },
  {
   "cell_type": "code",
   "execution_count": 178,
   "metadata": {},
   "outputs": [
    {
     "name": "stderr",
     "output_type": "stream",
     "text": [
      "'.' 不是内部或外部命令，也不是可运行的程序\n",
      "或批处理文件。\n"
     ]
    }
   ],
   "source": [
    "!./hello"
   ]
  },
  {
   "cell_type": "markdown",
   "metadata": {},
   "source": [
    "**Further Reading:** \n",
    "\n",
    "* Path separators** \n",
    "\n",
    "   * Linux: `/`\n",
    "\n",
    "   * Windows: **\\**\n",
    "\n",
    "* Eescape character\n",
    "\n",
    "   * The backslash`\\` is an `escape character`,you use to inform that the next character is special."
   ]
  },
  {
   "cell_type": "code",
   "execution_count": null,
   "metadata": {},
   "outputs": [],
   "source": [
    "print('escape character\\n')\n",
    "print('\\t escape character')\n",
    "print('\\tescape character')"
   ]
  },
  {
   "cell_type": "markdown",
   "metadata": {},
   "source": [
    "### Set The  output to the suitable folder  \n",
    "\n",
    "Let's see the location of the  output files: `hello.o,hello.exe`"
   ]
  },
  {
   "cell_type": "code",
   "execution_count": 179,
   "metadata": {},
   "outputs": [
    {
     "name": "stdout",
     "output_type": "stream",
     "text": [
      " 驱动器 D 中的卷是 cmh\n",
      " 卷的序列号是 9C25-3306\n",
      "\n",
      " D:\\SEUCourse\\SE_ThermalEnergy\\PySEE\\home\\notebook 的目录\n",
      "\n",
      "2018/11/15  20:18            54,022 hello.exe\n",
      "2018/11/15  20:18               914 hello.o\n",
      "               2 个文件         54,936 字节\n",
      "               0 个目录 73,292,877,824 可用字节\n"
     ]
    }
   ],
   "source": [
    "!dir  hello.*"
   ]
  },
  {
   "cell_type": "code",
   "execution_count": 182,
   "metadata": {},
   "outputs": [
    {
     "name": "stdout",
     "output_type": "stream",
     "text": [
      " 驱动器 D 中的卷是 cmh\n",
      " 卷的序列号是 9C25-3306\n",
      "\n",
      " D:\\SEUCourse\\SE_ThermalEnergy\\PySEE\\home\\notebook\\code\\gcc 的目录\n",
      "\n",
      "2018/11/15  20:18               124 hello.c\n",
      "               1 个文件            124 字节\n",
      "               0 个目录 73,292,877,824 可用字节\n"
     ]
    }
   ],
   "source": [
    "!dir .\\code\\gcc\\hello.c"
   ]
  },
  {
   "cell_type": "markdown",
   "metadata": {},
   "source": [
    "We get the results:\n",
    "\n",
    "The output files are in the `default` folder:`notebook`,which the `gcc` commamds are exectuded in \n",
    "```bash\n",
    " ├──<notebook>\n",
    " │   │ \n",
    " │   │── <code>\n",
    " │   │     │ \n",
    " │   │     │──<gcc> \n",
    " │   │     │     │ \n",
    " │   │     │     │─hello.c\n",
    " │   │     │\n",
    " │   │     │──hello.exe\n",
    " │   │     │ \n",
    " │   │     │──hello.o \n",
    " │   │                      \n",
    "``` \n",
    "\n",
    "\n",
    "It is not the suitable folder for the output files,We should put it in `the meaningful folder` for us to management of `different types` of documents conveniently.\n",
    "\n",
    "For example,It will suitable that we put `hello.o,hello.exe` in the `bin` folder.`\n",
    "\n",
    "```bash\n",
    " ├──<notebook>\n",
    " │   │ \n",
    " │   │── <code>\n",
    " │   │     │ \n",
    " │   │     │──<gcc> \n",
    " │   │     │     │ \n",
    " │   │     │     │─hello.c\n",
    " │   │     │\n",
    " │   │     │──<bin>\n",
    " │   │     │     │           \n",
    " │   │     │     │──hello.exe\n",
    " │   │     │     │ \n",
    " │   │     │     │──hello.o \n",
    " │   │                      \n",
    "``` \n",
    "\n",
    "After We make the folder `bin`, We use `-o` to set `the specifies output file name` to the location`\n",
    "\n",
    "```bash\n",
    "-o ./code/bin/hello.o\n",
    "\n",
    "-o ./code/bin/hello\n",
    "```"
   ]
  },
  {
   "cell_type": "code",
   "execution_count": 183,
   "metadata": {},
   "outputs": [],
   "source": [
    "!gcc -c -o ./code/bin/hello.o ./code/gcc/hello.c\n",
    "!gcc -o ./code/bin/hello ./code/bin/hello.o"
   ]
  },
  {
   "cell_type": "markdown",
   "metadata": {},
   "source": [
    "We have put `hello.o,hello.exe` in the `\\code\\bin\\` folder.`"
   ]
  },
  {
   "cell_type": "code",
   "execution_count": 184,
   "metadata": {},
   "outputs": [
    {
     "name": "stdout",
     "output_type": "stream",
     "text": [
      " 驱动器 D 中的卷是 cmh\n",
      " 卷的序列号是 9C25-3306\n",
      "\n",
      " D:\\SEUCourse\\SE_ThermalEnergy\\PySEE\\home\\notebook\\code\\bin 的目录\n",
      "\n",
      "2018/11/15  20:20            54,022 hello.exe\n",
      "2018/11/15  20:20               914 hello.o\n",
      "               2 个文件         54,936 字节\n",
      "               0 个目录 73,292,296,192 可用字节\n"
     ]
    }
   ],
   "source": [
    "!dir  .\\code\\bin\\hello*"
   ]
  },
  {
   "cell_type": "markdown",
   "metadata": {},
   "source": [
    "#### Under Windows"
   ]
  },
  {
   "cell_type": "code",
   "execution_count": 185,
   "metadata": {},
   "outputs": [
    {
     "name": "stdout",
     "output_type": "stream",
     "text": [
      "C says Hello, world!\n"
     ]
    }
   ],
   "source": [
    "!.\\code\\bin\\hello"
   ]
  },
  {
   "cell_type": "markdown",
   "metadata": {},
   "source": [
    "#### Under Linux"
   ]
  },
  {
   "cell_type": "code",
   "execution_count": null,
   "metadata": {},
   "outputs": [],
   "source": [
    "!./code/bin/hello"
   ]
  },
  {
   "cell_type": "code",
   "execution_count": null,
   "metadata": {},
   "outputs": [],
   "source": [
    "!gcc -o ./code/bin/hello ./code/bin/hello.o"
   ]
  },
  {
   "cell_type": "markdown",
   "metadata": {},
   "source": [
    "### Compile and Link to build output  at the command"
   ]
  },
  {
   "cell_type": "code",
   "execution_count": 186,
   "metadata": {},
   "outputs": [],
   "source": [
    "!gcc -o ./code/bin/hello ./code/gcc/hello.c"
   ]
  },
  {
   "cell_type": "markdown",
   "metadata": {},
   "source": [
    "#### Under Windows"
   ]
  },
  {
   "cell_type": "code",
   "execution_count": 187,
   "metadata": {},
   "outputs": [
    {
     "name": "stdout",
     "output_type": "stream",
     "text": [
      "C says Hello, world!\n"
     ]
    }
   ],
   "source": [
    "!.\\code\\bin\\hello"
   ]
  },
  {
   "cell_type": "markdown",
   "metadata": {},
   "source": [
    "#### Under Ubuntu"
   ]
  },
  {
   "cell_type": "code",
   "execution_count": 83,
   "metadata": {},
   "outputs": [
    {
     "name": "stderr",
     "output_type": "stream",
     "text": [
      "'.' 不是内部或外部命令，也不是可运行的程序\n",
      "或批处理文件。\n"
     ]
    }
   ],
   "source": [
    "!./code/bin/hello"
   ]
  },
  {
   "cell_type": "markdown",
   "metadata": {},
   "source": [
    "##### We will use the folders for the C/C++ programming  \n",
    "\n",
    "```bash\n",
    " ├──<notebook>\n",
    " │   │ \n",
    " │   │── <code>\n",
    " │   │     │ \n",
    " │   │     │──<gcc> \n",
    " │   │     │     │ \n",
    " │   │     │     │─*.c,*.cpp (source codes)\n",
    " │   │     │\n",
    " │   │     │──<bin>\n",
    " │   │     │     │ \n",
    " │   │     │     │─*.c, *.so,*.out,*.dll (the Compiled/Linked output) \n",
    " │   │     │\n",
    " │   │     │──makefile* (makefile)\n",
    " ```"
   ]
  },
  {
   "cell_type": "markdown",
   "metadata": {},
   "source": [
    "###  Compile/Link a Simple C++ Program - hello.cpp\n",
    "    \n",
    "\n",
    "#### Compile/Link the C++ Program : g++\n",
    "\n",
    "Below is the Hello-world C++ program hello.cpp:\n"
   ]
  },
  {
   "cell_type": "code",
   "execution_count": 85,
   "metadata": {},
   "outputs": [
    {
     "name": "stdout",
     "output_type": "stream",
     "text": [
      "Overwriting ./code/gcc/hello.cpp\n"
     ]
    }
   ],
   "source": [
    "%%file ./code/gcc/hello.cpp\n",
    "/*\n",
    "g++ -o hello hello.cpp\n",
    "*/\n",
    "#include <iostream>\n",
    "using namespace std;\n",
    " \n",
    "int main() {\n",
    "   cout << \"C++ Hello, world!\" << endl;\n",
    "   return 0;\n",
    "}"
   ]
  },
  {
   "cell_type": "markdown",
   "metadata": {},
   "source": [
    "You need to use **g++** to compile and link C++ program at one command, as follows "
   ]
  },
  {
   "cell_type": "code",
   "execution_count": 188,
   "metadata": {},
   "outputs": [],
   "source": [
    "!g++ -o ./code/bin/hello ./code/gcc/hello.cpp"
   ]
  },
  {
   "cell_type": "markdown",
   "metadata": {},
   "source": [
    "#### Under Windows"
   ]
  },
  {
   "cell_type": "code",
   "execution_count": 189,
   "metadata": {},
   "outputs": [
    {
     "name": "stdout",
     "output_type": "stream",
     "text": [
      "C++ Hello, world!\n"
     ]
    }
   ],
   "source": [
    "!.\\code\\bin\\hello"
   ]
  },
  {
   "cell_type": "markdown",
   "metadata": {},
   "source": [
    "#### Under Linux"
   ]
  },
  {
   "cell_type": "code",
   "execution_count": null,
   "metadata": {},
   "outputs": [],
   "source": [
    "!./code/bin/hello"
   ]
  },
  {
   "cell_type": "markdown",
   "metadata": {},
   "source": [
    "### Further Reading： C library to perform Input/Output operations\n",
    "\n",
    "#### stdio.h - scanf,printf\n",
    "\n",
    "**stdio.h** the header of `C Standard Input and Output Library\n",
    "\n",
    "\n",
    "```c\n",
    "int scanf ( const char * format, ... );\n",
    "```\n",
    "`Read` **formatted** data from `stdin`\n",
    "\n",
    "Reads data from stdin and stores them according to the parameter format into the locations pointed by the additional arguments.\n",
    "\n",
    "\n",
    "* **s**\tString of characters\n",
    "* **d**\tDecimal integer\n",
    "* **f** Floating point number\n",
    "\n",
    "```c\n",
    "int printf ( const char * format, ... );\n",
    "```\n",
    "`Print` **formatted** data to `stdout`\n",
    "\n",
    "Writes the C string pointed by format to the standard output (stdout). \n",
    "\n",
    "If format includes format specifiers (subsequences beginning with %), the additional arguments following format are formatted and inserted in the resulting string replacing their respective specifiers."
   ]
  },
  {
   "cell_type": "code",
   "execution_count": 190,
   "metadata": {},
   "outputs": [
    {
     "name": "stdout",
     "output_type": "stream",
     "text": [
      "Overwriting ./code/gcc/demostdio.c\n"
     ]
    }
   ],
   "source": [
    "%%file ./code/gcc/demostdio.c\n",
    "/*\n",
    "gcc -o demostdio demostdio.c\n",
    "*/\n",
    "#include <stdio.h>\n",
    "\n",
    "int main ()\n",
    "{\n",
    "  char name[80];\n",
    "  int age;\n",
    "  float num;  \n",
    "\n",
    "  printf (\"Enter your family name: \");\n",
    "  scanf (\"%79s\",name);  \n",
    "  \n",
    "  printf (\"Enter your age: \");\n",
    "  scanf (\"%d\",&age);\n",
    "  printf (\"Mr. %s , %d years old.\\n\",name,age);\n",
    "    \n",
    "  printf(\"Enter a number: \");\n",
    "  scanf(\"%f\", &num);  \n",
    "  printf (\"You have entered %f\\n\",num); \n",
    "    \n",
    "  return 0;\n",
    "}"
   ]
  },
  {
   "cell_type": "code",
   "execution_count": 191,
   "metadata": {},
   "outputs": [],
   "source": [
    "!gcc -o ./code/bin/demostdio  ./code/gcc/demostdio.c"
   ]
  },
  {
   "cell_type": "markdown",
   "metadata": {},
   "source": [
    "#### Under Windows\n",
    "\n",
    "```\n",
    ">.\\code\\bin\\demostdio\n",
    "```\n",
    "#### Under Linux\n",
    "```\n",
    "$./code/bin/demostdio\n",
    "```"
   ]
  },
  {
   "cell_type": "markdown",
   "metadata": {},
   "source": [
    "###  Address in C: &\n",
    "\n",
    "```c\n",
    "int age;\n",
    "scanf (\"%d\",&age);\n",
    "```\n",
    "\n",
    "If you have a variable **var** in your program, \n",
    "\n",
    "**&var** will give you its `address in the memory`, \n",
    "\n",
    "where **&** is commonly called the `reference` operator.\n",
    "\n",
    "You must have seen this notation while using **scanf()** function.\n",
    "\n",
    "It was used in the function to **store** the user **inputted value** in **the `address` of var**."
   ]
  },
  {
   "cell_type": "markdown",
   "metadata": {},
   "source": [
    "#### Reference operator (&) and Dereference operator (*)\n",
    "\n",
    "As discussed, `&` is called **reference operator（引用）**. It gives you the address of a variable.\n",
    "\n",
    "there is another operator that `gets you the value from the address`（取回地址中的值）, it is called a **dereference operator（解引用）** `*`."
   ]
  },
  {
   "cell_type": "code",
   "execution_count": 192,
   "metadata": {},
   "outputs": [
    {
     "name": "stdout",
     "output_type": "stream",
     "text": [
      "Overwriting ./code/gcc/demoref.c\n"
     ]
    }
   ],
   "source": [
    "%%file ./code/gcc/demoref.c\n",
    "\n",
    "/* Example to demonstrate use of reference operator in C programming. \n",
    "gcc -o demoref demoref.c\n",
    "*/\n",
    "#include <stdio.h>\n",
    "int main()\n",
    "{\n",
    "  int var = 5;\n",
    "  printf(\"Value: %d\\n\", var);\n",
    "  printf(\"Address: %u\\n\", &var);  //reference operator, Notice, the & before var.\n",
    "  printf(\"Value: %d\\n\", *(&var));  // dereference operator,Notice, the * before ＆var.  \n",
    "  return 0;\n",
    "}"
   ]
  },
  {
   "cell_type": "code",
   "execution_count": 193,
   "metadata": {},
   "outputs": [],
   "source": [
    "!gcc -o ./code/bin/demoref  ./code/gcc/demoref.c"
   ]
  },
  {
   "cell_type": "markdown",
   "metadata": {},
   "source": [
    "#### Under Windows"
   ]
  },
  {
   "cell_type": "code",
   "execution_count": 194,
   "metadata": {},
   "outputs": [
    {
     "name": "stdout",
     "output_type": "stream",
     "text": [
      "Value: 5\n",
      "Address: 6422092\n",
      "Value: 5\n"
     ]
    }
   ],
   "source": [
    "!.\\code\\bin\\demoref"
   ]
  },
  {
   "cell_type": "markdown",
   "metadata": {},
   "source": [
    "#### Under Linux"
   ]
  },
  {
   "cell_type": "code",
   "execution_count": null,
   "metadata": {},
   "outputs": [],
   "source": [
    "!./code/bin/demoref"
   ]
  },
  {
   "cell_type": "markdown",
   "metadata": {},
   "source": [
    "## 2.  GNU Make\n",
    "\n",
    "The **\"make\"** utility automates the mundane aspects of building executable from source code.\n",
    "\n",
    "**\"make\"** uses a so-called **makefile**, which contains rules on how to build the executables.\n",
    "\n",
    "You can issue \"make --help\" to list the command-line options.\n"
   ]
  },
  {
   "cell_type": "code",
   "execution_count": null,
   "metadata": {},
   "outputs": [],
   "source": [
    "!make --help"
   ]
  },
  {
   "cell_type": "markdown",
   "metadata": {},
   "source": [
    "Let's begin with a simple example to build the Hello-world program (hello.c) into executable (hello.exe) via make utility."
   ]
  },
  {
   "cell_type": "code",
   "execution_count": null,
   "metadata": {},
   "outputs": [],
   "source": [
    "%%file ./code/gcc/hello.c\n",
    "/*\n",
    "gcc -o hello hello.c\n",
    "*/\n",
    "\n",
    "#include <stdio.h>\n",
    " \n",
    "int main() {\n",
    "    printf(\"Hello, world!\\n\");\n",
    "    return 0;\n",
    "}"
   ]
  },
  {
   "cell_type": "markdown",
   "metadata": {},
   "source": [
    "### 1)  Create **makefile** file\n",
    "\n",
    "Create the following file named **\"makefile\"** : contains rules and save in the current directory. \n",
    "\n",
    "* **`without` any file `extension`**\n",
    "\n",
    "A makefile consists of `a set of rules`（规则） to build the executable. \n",
    "\n",
    "**A rule** consists of 3 parts:\n",
    "\n",
    "* **a target**（目标）, \n",
    "\n",
    "* **a list of pre-requisites**（条件） \n",
    "\n",
    "* **a command**（命令）\n",
    "\n",
    "as follows:\n",
    "\n",
    " ```bash\n",
    "\n",
    "target: pre-req-1 pre-req-2 ...\n",
    "\t  command\n",
    "\n",
    " ```\n",
    "\n",
    "* The **target** and **pre-requisites** are separated by <font color=\"red\">a colon ** : **  </font>.\n",
    "\n",
    "\n",
    "* The **command** must be preceded by <font color=\"blue\">**a Tab** (NOT spaces)</font>."
   ]
  },
  {
   "cell_type": "code",
   "execution_count": 199,
   "metadata": {},
   "outputs": [
    {
     "name": "stdout",
     "output_type": "stream",
     "text": [
      "Overwriting ./code/makefile\n"
     ]
    }
   ],
   "source": [
    "%%file ./code/makefile\n",
    "\n",
    "all: helloexe\n",
    "    \n",
    "helloexe: helloobj\n",
    "\t gcc -o ./code/bin/hello.exe ./code/bin/hello.o\n",
    "\t del .\\code\\bin\\hello.o\n",
    "    \n",
    "helloobj: ./code/gcc/hello.c\n",
    "\t gcc -c -o ./code/bin/hello.o ./code/gcc/hello.c\n",
    "     \n",
    "clean:\n",
    "\t del .\\code\\bin\\hello.exe"
   ]
  },
  {
   "cell_type": "markdown",
   "metadata": {},
   "source": [
    "####  makefile in the folder .\\notebook\\code"
   ]
  },
  {
   "cell_type": "code",
   "execution_count": 198,
   "metadata": {},
   "outputs": [
    {
     "name": "stdout",
     "output_type": "stream",
     "text": [
      " 驱动器 D 中的卷是 cmh\n",
      " 卷的序列号是 9C25-3306\n",
      "\n",
      " D:\\SEUCourse\\SE_ThermalEnergy\\PySEE\\home\\notebook\\code 的目录\n",
      "\n",
      "2018/11/15  20:25               238 makefile\n",
      "2018/11/15  20:09               201 makefile-Linux\n",
      "               2 个文件            439 字节\n",
      "               0 个目录 73,292,296,192 可用字节\n"
     ]
    }
   ],
   "source": [
    "!dir .\\code\\makef*"
   ]
  },
  {
   "cell_type": "code",
   "execution_count": 167,
   "metadata": {},
   "outputs": [
    {
     "name": "stdout",
     "output_type": "stream",
     "text": [
      "Writing ./code/makefile-Linux\n"
     ]
    }
   ],
   "source": [
    "%%file ./code/makefile-Linux\n",
    "\n",
    "all: helloexe\n",
    "    \n",
    "helloexe: helloobj\n",
    "\t gcc -o ./code/gcc/hello ./code/bin/hello.o\n",
    "\t rm -f ./code/bin/hello.o\n",
    "    \n",
    "helloobj: ./code/gcc/hello.c\n",
    "\t gcc -c -o ./code/bin/hello.o ./code/gcc/hello.c\n",
    "     \n",
    "clean:\n",
    "\t rm -f ./code/gcc/hello"
   ]
  },
  {
   "cell_type": "markdown",
   "metadata": {},
   "source": [
    "#### Under `Windows`\n",
    "\n",
    "```bash\n",
    "     del hello.o\n",
    "\n",
    "\t del .\\code\\bin\\hello.exe\n",
    "```\n",
    "\n",
    "#### Under `Linux` \n",
    "\n",
    "```bash\n",
    "    rm -f hello.o\n",
    "\t\n",
    "    rm -f ./code/bin/hello\n",
    "```\n",
    "\n",
    "*  rm  : remove files or directories\n",
    "\n",
    "*  -f, --force : ignore nonexistent files, never prompt"
   ]
  },
  {
   "cell_type": "markdown",
   "metadata": {},
   "source": [
    "### 2) Running **make** \n",
    "\n",
    " \n",
    "**2.1 make  without argument**,\n",
    "\n",
    "* starts the `default` target  **all** in  **makefile** at the `current` directory. \n"
   ]
  },
  {
   "cell_type": "code",
   "execution_count": 200,
   "metadata": {},
   "outputs": [
    {
     "name": "stderr",
     "output_type": "stream",
     "text": [
      "make: *** No targets specified and no makefile found.  Stop.\n"
     ]
    }
   ],
   "source": [
    "!make "
   ]
  },
  {
   "cell_type": "markdown",
   "metadata": {},
   "source": [
    "But,we save  `makefile` in `noteboo/code/`,not the current directory `notebook`\n",
    "\n",
    "**2.2 Specified `FILE` as a makefile**\n",
    "\n",
    "* `-f FILE`:  Read FILE as a makefile."
   ]
  },
  {
   "cell_type": "code",
   "execution_count": 201,
   "metadata": {},
   "outputs": [
    {
     "name": "stdout",
     "output_type": "stream",
     "text": [
      "gcc -c -o ./code/bin/hello.o ./code/gcc/hello.c\n",
      "gcc -o ./code/bin/hello.exe ./code/bin/hello.o\n",
      "del .\\code\\bin\\hello.o\n"
     ]
    }
   ],
   "source": [
    "!make -f ./code/makefile"
   ]
  },
  {
   "cell_type": "markdown",
   "metadata": {},
   "source": [
    "#### Under Windows"
   ]
  },
  {
   "cell_type": "code",
   "execution_count": 202,
   "metadata": {},
   "outputs": [
    {
     "name": "stdout",
     "output_type": "stream",
     "text": [
      " 驱动器 D 中的卷是 cmh\n",
      " 卷的序列号是 9C25-3306\n",
      "\n",
      " D:\\SEUCourse\\SE_ThermalEnergy\\PySEE\\home\\notebook\\code\\bin 的目录\n",
      "\n",
      "2018/11/15  20:27            54,022 hello.exe\n",
      "               1 个文件         54,022 字节\n",
      "               0 个目录 73,292,300,288 可用字节\n"
     ]
    }
   ],
   "source": [
    "!dir  .\\code\\bin\\hell*.exe"
   ]
  },
  {
   "cell_type": "code",
   "execution_count": 203,
   "metadata": {},
   "outputs": [
    {
     "name": "stdout",
     "output_type": "stream",
     "text": [
      "C says Hello, world!\n"
     ]
    }
   ],
   "source": [
    "!.\\code\\bin\\hello"
   ]
  },
  {
   "cell_type": "markdown",
   "metadata": {},
   "source": [
    "#### Under Linux"
   ]
  },
  {
   "cell_type": "code",
   "execution_count": null,
   "metadata": {},
   "outputs": [],
   "source": [
    "!ls  ./code/bin/hell*"
   ]
  },
  {
   "cell_type": "code",
   "execution_count": null,
   "metadata": {},
   "outputs": [],
   "source": [
    "!./code/bin/hello"
   ]
  },
  {
   "cell_type": "markdown",
   "metadata": {},
   "source": [
    "**2.3 Running make with `clean` argument** \n",
    "\n",
    "starts the target **clean** in the makefile."
   ]
  },
  {
   "cell_type": "code",
   "execution_count": 204,
   "metadata": {},
   "outputs": [
    {
     "name": "stdout",
     "output_type": "stream",
     "text": [
      "del .\\code\\bin\\hello.exe\n"
     ]
    }
   ],
   "source": [
    "!make clean -f ./code/makefile"
   ]
  },
  {
   "cell_type": "code",
   "execution_count": 205,
   "metadata": {},
   "outputs": [
    {
     "name": "stdout",
     "output_type": "stream",
     "text": [
      " 驱动器 D 中的卷是 cmh\n",
      " 卷的序列号是 9C25-3306\n",
      "\n",
      " D:\\SEUCourse\\SE_ThermalEnergy\\PySEE\\home\\notebook\\code\\bin 的目录\n",
      "\n"
     ]
    },
    {
     "name": "stderr",
     "output_type": "stream",
     "text": [
      "找不到文件\n"
     ]
    }
   ],
   "source": [
    "!dir  .\\code\\bin\\hell*.exe"
   ]
  },
  {
   "cell_type": "markdown",
   "metadata": {},
   "source": [
    "#### Compile, Link and `Run` with Makefile\n",
    "\n",
    "```bash\n",
    "all: helloexe\n",
    "\t ./code/bin/hello.exe\n",
    "```     \n",
    "\n"
   ]
  },
  {
   "cell_type": "code",
   "execution_count": 209,
   "metadata": {},
   "outputs": [
    {
     "name": "stdout",
     "output_type": "stream",
     "text": [
      "Overwriting makefile-run\n"
     ]
    }
   ],
   "source": [
    "%%file makefile-run\n",
    "\n",
    "all: helloexe\n",
    "\t ./code/bin/hello.exe\n",
    "\n",
    "helloexe: helloo\n",
    "\t gcc -o ./code/bin/hello.exe ./code/bin/hello.o\n",
    "\t del .\\code\\bin\\hello.o\n",
    "    \n",
    "helloo: ./code/gcc/hello.c\n",
    "\t gcc -c -o ./code/bin/hello.o ./code/gcc/hello.c\n",
    "     \n",
    "clean:\n",
    "\t del .\\code\\bin\\hello.exe"
   ]
  },
  {
   "cell_type": "code",
   "execution_count": 210,
   "metadata": {},
   "outputs": [
    {
     "name": "stdout",
     "output_type": "stream",
     "text": [
      "gcc -c -o ./code/bin/hello.o ./code/gcc/hello.c\n",
      "gcc -o ./code/bin/hello.exe ./code/bin/hello.o\n",
      "del .\\code\\bin\\hello.o\n",
      "./code/bin/hello.exe\n",
      "C says Hello, world!\n"
     ]
    }
   ],
   "source": [
    "!make -f makefile-run"
   ]
  },
  {
   "cell_type": "markdown",
   "metadata": {},
   "source": [
    "## 3 Compile, Link :Sinple and Multiple Source Files\n",
    "\n",
    "####  Fibonacci Using A MEMO\n",
    "\n",
    "> #### 4.3.1 Fibonacci Numbers\n",
    "\n",
    ">The Fibonacci sequence is the common mathematical function that is usually defined recursively.\n",
    ">“They breed like rabbits,” -The growth in population is described naturally by the recurrence:\n",
    ">\n",
    ">  ```\n",
    ">   females(0) =1\n",
    ">   females(1) = 1\n",
    ">\n",
    ">   females(n + 2) = females(n+1) + females(n）\n",
    ">  ```\n",
    "\n",
    "###  3.1 Caculating the  Fibonacci Numbers in a single source\n",
    "\n",
    "The codes of fibonacci and it's caller are in a sinle source file\n",
    "\n",
    "* fib_single.c\n",
    "\n",
    ">  **`void* calloc (size_t num, size_t size)`**\n",
    ">\n",
    "> Allocate and `zero-initialize` array\n",
    ">\n",
    "> Allocates a block of memory for an array of num elements, each of them size bytes long, and initializes all its bits to zero.\n",
    ">\n",
    "> The effective result is the allocation of a **zero-initialized** memory block of (num*size) bytes."
   ]
  },
  {
   "cell_type": "code",
   "execution_count": 211,
   "metadata": {},
   "outputs": [
    {
     "name": "stdout",
     "output_type": "stream",
     "text": [
      "Overwriting ./code/gcc/fib_single.c\n"
     ]
    }
   ],
   "source": [
    "%%file ./code/gcc/fib_single.c\n",
    "\n",
    "#include <stdio.h>  /* printf, NULL */\n",
    "#include <stdlib.h> /* calloc, exit, free */\n",
    "\n",
    "#define CACHE_SIZE 94 \n",
    "\n",
    "/*\n",
    "  Function to compute nth Fibonacci number.\n",
    "\n",
    "   Up to 93rd Fibonacci number, starting from 0th  can be computed. \n",
    "   Anything larger will overflow.\n",
    "\n",
    "   It uses a cache to avoid repetitive computation. \n",
    "       1）Reference to the cache must be passed to the function. \n",
    "       2）The cache should contain 0 for uncomputed values.\n",
    "    Returns -1 on negative input.\n",
    "*/\n",
    "\n",
    "unsigned long fibonacci(int n, unsigned long *fib_cache)\n",
    "{\n",
    " \n",
    "  if (n< 0)\n",
    "      return -1;\n",
    "  \n",
    "  // base case 0 or 1\n",
    "  if (n == 0||n==1)\n",
    "      return 1;\n",
    "  \n",
    "  // check if nth value is available in cache\n",
    "  if (fib_cache[n] != 0)\n",
    "     return fib_cache[n];\n",
    "\n",
    "  // recursive case : compute and store in cache\n",
    "  fib_cache[n] = fibonacci(n - 1, fib_cache) + fibonacci(n - 2, fib_cache);\n",
    "\n",
    "  return fib_cache[n];\n",
    "}\n",
    "\n",
    "int main() {\n",
    "\n",
    "    unsigned long *fib_cache;   // cache to store fibonacci numbers\n",
    "    \n",
    "    // cache initialization\n",
    "    fib_cache=(unsigned long *)calloc(CACHE_SIZE, sizeof(unsigned long));\n",
    "    \n",
    "    if(fib_cache==NULL) exit (1);\n",
    "   \n",
    "    int n=20;\n",
    "    printf(\"fib of %d = %lu\\n\", n,fibonacci(n, fib_cache));\n",
    "    free(fib_cache);\n",
    "   \n",
    "    return 0;\n",
    "}"
   ]
  },
  {
   "cell_type": "markdown",
   "metadata": {},
   "source": [
    "#### Compiled and Linked to a execute file "
   ]
  },
  {
   "cell_type": "code",
   "execution_count": 212,
   "metadata": {},
   "outputs": [],
   "source": [
    "!gcc -o ./code/bin/fib_single.exe  ./code/gcc/fib_single.c"
   ]
  },
  {
   "cell_type": "markdown",
   "metadata": {},
   "source": [
    "#### Run"
   ]
  },
  {
   "cell_type": "code",
   "execution_count": 213,
   "metadata": {},
   "outputs": [
    {
     "name": "stdout",
     "output_type": "stream",
     "text": [
      "fib of 20 = 10946\n"
     ]
    }
   ],
   "source": [
    "!.\\code\\bin\\fib_single"
   ]
  },
  {
   "cell_type": "markdown",
   "metadata": {},
   "source": [
    "#### Makefile under Windows"
   ]
  },
  {
   "cell_type": "code",
   "execution_count": 216,
   "metadata": {},
   "outputs": [
    {
     "name": "stdout",
     "output_type": "stream",
     "text": [
      "Overwriting makefile-fib_single\n"
     ]
    }
   ],
   "source": [
    "%%file makefile-fib_single\n",
    "\n",
    "all: fib_single\n",
    "\n",
    "fib_single: fib_singleobj\n",
    "\t gcc -o ./code/bin/fib_single.exe ./code/bin/fib_single.o\n",
    "\t del .\\code\\bin\\fib_single.o\n",
    "    \n",
    "fib_singleobj: ./code/gcc/fib_single.c\n",
    "\t gcc -c -o ./code/bin/fib_single.o ./code/gcc/fib_single.c\n",
    "     \n",
    "clean:\n",
    "\t del .\\code\\bin\\fib_single.exe"
   ]
  },
  {
   "cell_type": "code",
   "execution_count": 217,
   "metadata": {},
   "outputs": [
    {
     "name": "stdout",
     "output_type": "stream",
     "text": [
      "gcc -c -o ./code/bin/fib_single.o ./code/gcc/fib_single.c\n",
      "gcc -o ./code/bin/fib_single.exe ./code/bin/fib_single.o\n",
      "del .\\code\\bin\\fib_single.o\n"
     ]
    }
   ],
   "source": [
    "!make -f makefile-fib_single"
   ]
  },
  {
   "cell_type": "code",
   "execution_count": 218,
   "metadata": {},
   "outputs": [
    {
     "name": "stdout",
     "output_type": "stream",
     "text": [
      "fib of 20 = 10946\n"
     ]
    }
   ],
   "source": [
    "!.\\code\\bin\\fib_single"
   ]
  },
  {
   "cell_type": "code",
   "execution_count": 219,
   "metadata": {},
   "outputs": [
    {
     "name": "stdout",
     "output_type": "stream",
     "text": [
      "del .\\code\\bin\\fib_single.exe\n"
     ]
    }
   ],
   "source": [
    "!make clean -f makefile-fib_single"
   ]
  },
  {
   "cell_type": "markdown",
   "metadata": {},
   "source": [
    "#### Makefile under Linux"
   ]
  },
  {
   "cell_type": "code",
   "execution_count": 220,
   "metadata": {},
   "outputs": [
    {
     "name": "stdout",
     "output_type": "stream",
     "text": [
      "Writing makefile-fib_single-Linux\n"
     ]
    }
   ],
   "source": [
    "%%file makefile-fib_single-Linux\n",
    "\n",
    "all: fib_single\n",
    "\n",
    "fib_single: fib_singleobj\n",
    "\t gcc -o ./code/gcc/fib_single ./code/bin/fib_single.o\n",
    "\t rm -f ./code/bin/fib_single.o\n",
    "    \n",
    "fib_singleobj: ./code/gcc/fib_single.c\n",
    "\t gcc -c -o ./code/bin/fib_single.o ./code/gcc/fib_single.c\n",
    "     \n",
    "clean:\n",
    "\t rm -f ./code/bin/fib_single"
   ]
  },
  {
   "cell_type": "code",
   "execution_count": 116,
   "metadata": {},
   "outputs": [
    {
     "name": "stdout",
     "output_type": "stream",
     "text": [
      "gcc -c ./code/gcc/fib_single.c\n",
      "gcc -o ./code/gcc/fib_single fib_single.o\n",
      "rm -f hello.o\n"
     ]
    },
    {
     "name": "stderr",
     "output_type": "stream",
     "text": [
      "process_begin: CreateProcess(NULL, rm -f hello.o, ...) failed.\n",
      "make (e=2): 系统找不到指定的文件。\n",
      "\n",
      "make: *** [makefile-fib_single-Linux:6: fib_single] Error 2\n"
     ]
    }
   ],
   "source": [
    "!make -f makefile-fib_single-Linux"
   ]
  },
  {
   "cell_type": "code",
   "execution_count": null,
   "metadata": {},
   "outputs": [],
   "source": [
    "!./code/bin/fib_single"
   ]
  },
  {
   "cell_type": "code",
   "execution_count": null,
   "metadata": {},
   "outputs": [],
   "source": [
    "!make clean -f makefile-fib_single-Linux"
   ]
  },
  {
   "cell_type": "markdown",
   "metadata": {},
   "source": [
    "### 3.2 Caculating the Fibonacci in Multi-source files\n",
    "\n",
    "* 1) The code file of fibonacci with cache:\n",
    "\n",
    "  *  fib.h\n",
    "  *  fib.c\n",
    "    \n",
    "* 2) The code file of the caller  \n",
    "\n",
    "  *  mainfib.c"
   ]
  },
  {
   "cell_type": "code",
   "execution_count": 246,
   "metadata": {},
   "outputs": [
    {
     "name": "stdout",
     "output_type": "stream",
     "text": [
      "Overwriting ./code/gcc/fib.h\n"
     ]
    }
   ],
   "source": [
    "%%file ./code/gcc/fib.h\n",
    "\n",
    "#ifndef FIB_H\n",
    "#define FIB_H\n",
    "\n",
    "/*\n",
    "  Up to 93rd Fibonacci number, starting from 0th  can be computed. \n",
    "  \n",
    "  Anything larger will overflow.\n",
    "*/\n",
    "\n",
    "#define CACHE_SIZE 94 \n",
    "\n",
    "unsigned long fibonacci(int n, unsigned long *fib_cache);\n",
    "\n",
    "#endif"
   ]
  },
  {
   "cell_type": "code",
   "execution_count": 222,
   "metadata": {},
   "outputs": [
    {
     "name": "stdout",
     "output_type": "stream",
     "text": [
      "Overwriting ./code/gcc/fib.c\n"
     ]
    }
   ],
   "source": [
    "%%file ./code/gcc/fib.c\n",
    "\n",
    "#include \"fib.h\"\n",
    "\n",
    "/*\n",
    "* Function to compute nth Fibonacci number.\n",
    "*\n",
    "*   It uses a cache to avoid repetitive computation. \n",
    "*       1）Reference to the cache must be passed to the function. \n",
    "*       2）The cache should contain 0 for uncomputed values.\n",
    "*   Returns -1 on negative input.\n",
    "*/\n",
    "\n",
    "unsigned long fibonacci(int n, unsigned long *fib_cache)\n",
    "{\n",
    " \n",
    "  if (n< 0)\n",
    "      return -1;\n",
    "  \n",
    "  // base case 0 or 1\n",
    "  if (n == 0||n==1)\n",
    "      return 1;\n",
    "  \n",
    "  // check if nth value is available in cache\n",
    "  if (fib_cache[n] != 0)\n",
    "     return fib_cache[n];\n",
    "\n",
    "  // recursive case : compute and store in cache\n",
    "  fib_cache[n] = fibonacci(n - 1, fib_cache) + fibonacci(n - 2, fib_cache);\n",
    "\n",
    "  return fib_cache[n];\n",
    "}"
   ]
  },
  {
   "cell_type": "code",
   "execution_count": 223,
   "metadata": {},
   "outputs": [
    {
     "name": "stdout",
     "output_type": "stream",
     "text": [
      "Overwriting ./code/gcc/mainfib.c\n"
     ]
    }
   ],
   "source": [
    "%%file ./code/gcc/mainfib.c\n",
    "\n",
    "#include <stdio.h>  /* printf, NULL */\n",
    "#include <stdlib.h> /* calloc, exit, free */\n",
    "#include \"fib.h\"\n",
    "\n",
    "int main() {\n",
    "\n",
    "    unsigned long *fib_cache;   // cache to store fibonacci numbers\n",
    "    \n",
    "    // cache initialization\n",
    "    fib_cache=(unsigned long *)calloc(CACHE_SIZE, sizeof(unsigned long));\n",
    "    \n",
    "    if(fib_cache==NULL) exit (1);\n",
    "   \n",
    "    int n=20;\n",
    "    printf(\"fib of %d = %lu\\n\", n,fibonacci(n, fib_cache));\n",
    "    free(fib_cache);\n",
    "   \n",
    "    return 0;\n",
    "}"
   ]
  },
  {
   "cell_type": "markdown",
   "metadata": {},
   "source": [
    "### Further Reading: Once-Only Headers\n",
    "\n",
    "If a header file happens to be included twice, the compiler will process its contents twice. This is very likely to cause an error, e.g. when the compiler sees the same structure definition twice. Even if it does not, it will certainly waste time.\n",
    "\n",
    "The standard way to prevent this is to enclose the entire real contents of the file in a conditional, like this:\n",
    "\n",
    "```c\n",
    "#ifndef FIB_H\n",
    "#define FIB_H\n",
    "\n",
    "the entire file\n",
    "\n",
    "#endif /* ! FIB_H */\n",
    "```\n",
    "This construct is commonly known as a wrapper **#ifndef**. When the header is included again, the conditional will be false, because ** FIB_H** is defined. The preprocessor will skip over the entire contents of the file, and the compiler will not see it twice."
   ]
  },
  {
   "cell_type": "markdown",
   "metadata": {},
   "source": [
    "#### Compile,Link and Run\n",
    "\n",
    "\n",
    "**Windows**\n",
    "\n",
    "You could compile **all of them** in a single command:\n"
   ]
  },
  {
   "cell_type": "code",
   "execution_count": 224,
   "metadata": {},
   "outputs": [],
   "source": [
    "!gcc -o ./code/bin/mainfib.exe ./code/gcc/mainfib.c  ./code/gcc/fib.c -I./code/gcc/"
   ]
  },
  {
   "cell_type": "code",
   "execution_count": 225,
   "metadata": {},
   "outputs": [
    {
     "name": "stdout",
     "output_type": "stream",
     "text": [
      "fib of 20 = 10946\n"
     ]
    }
   ],
   "source": [
    "!.\\code\\bin\\mainfib"
   ]
  },
  {
   "cell_type": "markdown",
   "metadata": {},
   "source": [
    "#### Header Files \n",
    "\n",
    "When compiling the program, the compiler needs the header files to compile the source codes;\n",
    "\n",
    "For each of the headers used in your source (via `#include directives`), the compiler searches the so-called include-paths for these headers. The include-paths are specified via `-Idir` option (or environment variable CPATH). \n",
    "\n",
    "* `-Idir`: The include-paths are specified via -Idir option (uppercase 'I' followed by the directory path). \n",
    "\n",
    "Since the header's filename is known (e.g., iostream.h, stdio.h), the compiler only needs the `directories`.\n",
    "\n",
    "Lst the default include-paths in your system used by the \"GNU C Preprocessor\" via \"`cpp -v`\":"
   ]
  },
  {
   "cell_type": "markdown",
   "metadata": {},
   "source": [
    "We usually compile each of the source files **separately** into object file, and link them together in the later stage"
   ]
  },
  {
   "cell_type": "code",
   "execution_count": 226,
   "metadata": {},
   "outputs": [],
   "source": [
    "!gcc -c -o ./code/bin/mainfib.o ./code/gcc/mainfib.c -I./code/gcc/\n",
    "!gcc -c -o ./code/bin/fib.o ./code/gcc/fib.c \n",
    "!gcc -o ./code/bin/mainfib.exe  ./code/bin/mainfib.o ./code/bin/fib.o"
   ]
  },
  {
   "cell_type": "code",
   "execution_count": 227,
   "metadata": {},
   "outputs": [
    {
     "name": "stdout",
     "output_type": "stream",
     "text": [
      "fib of 20 = 10946\n"
     ]
    }
   ],
   "source": [
    "!.\\code\\bin\\mainfib"
   ]
  },
  {
   "cell_type": "markdown",
   "metadata": {},
   "source": [
    "#### Makefile for Windows"
   ]
  },
  {
   "cell_type": "code",
   "execution_count": 228,
   "metadata": {},
   "outputs": [
    {
     "name": "stdout",
     "output_type": "stream",
     "text": [
      "Writing makefile-fib_multi\n"
     ]
    }
   ],
   "source": [
    "%%file makefile-fib_multi\n",
    "\n",
    "all: mainfibexe\n",
    "\n",
    "clean:\n",
    "\tdel .\\code\\bin\\mainfib.exe\n",
    "\n",
    "mainfibexe: mainfibobj  \n",
    "\tgcc -o ./code/bin/mainfib.exe ./code/bin/mainfib.o ./code/bin/fib.o -I./code/gcc/ \n",
    "\tdel  .\\code\\bin\\*.o\n",
    "\n",
    "mainfibobj:  \n",
    "\tgcc -c -o ./code/bin/mainfib.o ./code/gcc/mainfib.c -I./code/gcc/ \n",
    "\tgcc -c -o ./code/bin/fib.o  ./code/gcc/fib.c"
   ]
  },
  {
   "cell_type": "code",
   "execution_count": 229,
   "metadata": {},
   "outputs": [
    {
     "name": "stdout",
     "output_type": "stream",
     "text": [
      "gcc -c -o ./code/bin/mainfib.o ./code/gcc/mainfib.c -I./code/gcc/ \n",
      "gcc -c -o ./code/bin/fib.o  ./code/gcc/fib.c\n",
      "gcc -o ./code/bin/mainfib.exe ./code/bin/mainfib.o ./code/bin/fib.o -I./code/gcc/ \n",
      "del  .\\code\\bin\\*.o\n"
     ]
    }
   ],
   "source": [
    "!make -f makefile-fib_multi"
   ]
  },
  {
   "cell_type": "code",
   "execution_count": 230,
   "metadata": {},
   "outputs": [
    {
     "name": "stdout",
     "output_type": "stream",
     "text": [
      "fib of 20 = 10946\n"
     ]
    }
   ],
   "source": [
    "!.\\code\\bin\\mainfib"
   ]
  },
  {
   "cell_type": "markdown",
   "metadata": {},
   "source": [
    "#### Makefile for Linux"
   ]
  },
  {
   "cell_type": "code",
   "execution_count": 231,
   "metadata": {},
   "outputs": [
    {
     "name": "stdout",
     "output_type": "stream",
     "text": [
      "Writing makefile-fib_multi-Linux\n"
     ]
    }
   ],
   "source": [
    "%%file makefile-fib_multi-Linux\n",
    "\n",
    "all: mainfib\n",
    "\n",
    "clean:\n",
    "\t rm -f ./code/bin/mainfib\n",
    "\n",
    "mainfib: mainfibobj ./code/gcc/fib.h \n",
    "\tgcc -o ./code/bin/mainfib ./code/bin/mainfib.o ./code/bin/fib.o -I./code/gcc/ \n",
    "\trm -f ./code/bin/*.o\n",
    "\n",
    "mainfibobj:  \n",
    "\tgcc -c -o ./code/gcc/mainfib.o ./code/gcc/mainfib.c\n",
    "\tgcc -c -o ./code/gcc/fib.o ./code/gcc/fib.c"
   ]
  },
  {
   "cell_type": "code",
   "execution_count": null,
   "metadata": {},
   "outputs": [],
   "source": [
    "!make -f makefile-fib_multi-Linux"
   ]
  },
  {
   "cell_type": "code",
   "execution_count": null,
   "metadata": {},
   "outputs": [],
   "source": [
    "!./code/bin/mainfib"
   ]
  },
  {
   "cell_type": "markdown",
   "metadata": {},
   "source": [
    "#### Further Reading: GCC Compilation Process\n",
    "\n",
    "GCC compiles a C/C++ program into executable in 4 steps as shown in the fellow diagram. \n",
    "\n",
    "![Compilation Process](./img/GCC_CompilationProcess.png)\n",
    "\n",
    "For example, a \n",
    "\n",
    "```bash\n",
    "gcc -o hello.exe hello.c\n",
    "```\n",
    "is carried out as follows:\n",
    "\n",
    "* 1 **Pre-processing**: via the GNU C Preprocessor (cpp.exe), which includes the headers (#include) and expands the macros (#define). \n",
    "```bash\n",
    "cpp hello.c > hello.i\n",
    "```\n",
    "The resultant intermediate file \"hello.i\" contains the expanded source code.\n",
    "\n",
    "* 2 **Compilation**: The compiler compiles the pre-processed source code into assembly code for a specific processor. \n",
    "```bash\n",
    "gcc -S hello.i\n",
    "```\n",
    "The -S option specifies to produce assembly code, instead of object code. The resultant assembly file is \"hello.s\".\n",
    "\n",
    "* 3 **Assembly**: The assembler (as.exe) converts the assembly code into machine code in the object file \"hello.o\". \n",
    "```bash\n",
    "as -o hello.o hello.s\n",
    "```\n",
    "\n",
    "* 4 **Linker**: Finally, the linker (ld.exe) links the object code with the library code to produce an executable file \"hello.exe\". \n",
    "```bash\n",
    "ld -o hello.exe hello.o ...libraries...\n",
    "```\n"
   ]
  },
  {
   "cell_type": "markdown",
   "metadata": {},
   "source": [
    "## 4 The shared library with GCC\n",
    "\n",
    "When your program is linked against a shared library, only a small table is created in the executable. Before the executable starts running, **the operating system loads the machine code needed for the external functions** - a process known as **dynamic linking.** \n",
    "\n",
    "    \n",
    "* Dynamic linking makes executable files smaller and saves disk space, because `one` copy of a **library** can be **shared** between `multiple` programs. \n",
    "\n",
    "\n",
    "* Furthermore, most operating systems allows one copy of a shared library in memory to be used by all running programs, thus, saving memory. \n",
    "\n",
    "\n",
    "* The shared library codes can be upgraded without the need to recompile your program.\n",
    "\n",
    "\n",
    "A **shared library** has file extension of \n",
    "\n",
    "   * **`.so`** (shared objects) in `Linux(Unixes)`\n",
    "   \n",
    "   \n",
    "   * **`.dll** (dynamic link library) in `Windows`. \n"
   ]
  },
  {
   "cell_type": "markdown",
   "metadata": {},
   "source": [
    "###  Step 4.1: Creating the shared library\n",
    "\n",
    "**Compile the C file with `Position Independent Code( PIC )` into a shared library:**"
   ]
  },
  {
   "cell_type": "markdown",
   "metadata": {},
   "source": [
    "Creating the shared library of fibonacci: libfib.dll/libfib.so\n",
    "\n",
    "#### Under Windows"
   ]
  },
  {
   "cell_type": "code",
   "execution_count": 232,
   "metadata": {},
   "outputs": [],
   "source": [
    "!gcc -c -O3 -Wall -fPIC -o ./code/bin/fib.o  ./code/gcc/fib.c\n",
    "!gcc -shared -o ./code/bin/libfib.dll  ./code/bin/fib.o"
   ]
  },
  {
   "cell_type": "code",
   "execution_count": 233,
   "metadata": {},
   "outputs": [
    {
     "name": "stdout",
     "output_type": "stream",
     "text": [
      " 驱动器 D 中的卷是 cmh\n",
      " 卷的序列号是 9C25-3306\n",
      "\n",
      " D:\\SEUCourse\\SE_ThermalEnergy\\PySEE\\home\\notebook\\code\\bin 的目录\n",
      "\n",
      "2018/11/15  20:38            47,800 libfib.dll\n",
      "2018/11/15  19:46            47,800 libfib.exe\n",
      "               2 个文件         95,600 字节\n",
      "               0 个目录 73,292,308,480 可用字节\n"
     ]
    }
   ],
   "source": [
    "!dir .\\code\\bin\\libfib.*"
   ]
  },
  {
   "cell_type": "markdown",
   "metadata": {},
   "source": [
    "#### under Linux"
   ]
  },
  {
   "cell_type": "code",
   "execution_count": 137,
   "metadata": {},
   "outputs": [],
   "source": [
    "!gcc -c -O3 -Wall -fPIC -o ./code/bin/fib.o ./code/gcc/fib.c\n",
    "!gcc -shared -o ./code/bin/libfib  ./code/bin/fib.o "
   ]
  },
  {
   "cell_type": "code",
   "execution_count": null,
   "metadata": {},
   "outputs": [],
   "source": [
    "!ls ./code/bin/libfib.*"
   ]
  },
  {
   "cell_type": "markdown",
   "metadata": {},
   "source": [
    "\n",
    "* `-c`: compile into object file with default name : funs.o.\n",
    "\n",
    "      By default, the object file has the same name as the source file with extension of \".o\" \n",
    "  \n",
    "  \n",
    "* `-O3`: Optimize yet more.\n",
    "\n",
    "      turns on all optimizations specified by -O2 and also turns on the -finline-functions, -fweb, -frename-registers and -funswitch-loops optionsturns  on  all  optimizations   \n",
    "     \n",
    "  \n",
    "* `-Wall`: prints \"all\"  compiler's warning message. \n",
    "\n",
    "      This option should always be used, in order to generate better code.\n",
    "\n",
    "\n",
    "* **`-fPIC`** : stands for `Position Independent Code`(位置无关代码)\n",
    "   \n",
    "   the generated machine code is `not dependent` on being located at a `specific address` in order to `work`.\n",
    "   \n",
    "   Position-independent code can be `executed` at `any memory address`\n",
    "    \n",
    "     \n",
    "* **-shared:** creating a shared library\n"
   ]
  },
  {
   "cell_type": "markdown",
   "metadata": {},
   "source": [
    "The result is a compiled shared library **libfibonacci.dll**\n",
    "\n",
    "#### Makefile for Windows\n",
    "\n",
    "* Using the `variable` in  makefile\n",
    "\n",
    "  * A `variable` begins with a **`$`** and is enclosed within parentheses **(...)** "
   ]
  },
  {
   "cell_type": "code",
   "execution_count": 235,
   "metadata": {},
   "outputs": [
    {
     "name": "stdout",
     "output_type": "stream",
     "text": [
      "Overwriting ./code/makefile-fib-dll\n"
     ]
    }
   ],
   "source": [
    "%%file ./code/makefile-fib-dll\n",
    "\n",
    "CC=gcc\n",
    "CFLAGS=-O3 -Wall -fPIC -o \n",
    "\n",
    "all: libfibdll\n",
    "\n",
    "libfibdll: fibobj\n",
    "\t $(CC) -shared -o ./code/bin/libfib.dll ./code/bin/fib.o\n",
    "\t del .\\code\\bin\\fib.o\n",
    "    \n",
    "fibobj: ./code/gcc/fib.c\n",
    "\t $(CC) -c $(CFLAGS) ./code/bin/fib.o ./code/gcc/fib.c\n",
    "     \n",
    "clean:\n",
    "\t del .\\code\\gcc\\libfib.dll"
   ]
  },
  {
   "cell_type": "code",
   "execution_count": 236,
   "metadata": {},
   "outputs": [
    {
     "name": "stdout",
     "output_type": "stream",
     "text": [
      "gcc -c -O3 -Wall -fPIC -o  ./code/bin/fib.o ./code/gcc/fib.c\n",
      "gcc -shared -o ./code/bin/libfib.dll ./code/bin/fib.o\n",
      "del .\\code\\bin\\fib.o\n"
     ]
    }
   ],
   "source": [
    "!make -f ./code/makefile-fib-dll"
   ]
  },
  {
   "cell_type": "code",
   "execution_count": 237,
   "metadata": {},
   "outputs": [
    {
     "name": "stdout",
     "output_type": "stream",
     "text": [
      " 驱动器 D 中的卷是 cmh\n",
      " 卷的序列号是 9C25-3306\n",
      "\n",
      " D:\\SEUCourse\\SE_ThermalEnergy\\PySEE\\home\\notebook\\code\\bin 的目录\n",
      "\n",
      "2018/11/15  20:38            47,800 libfib.dll\n",
      "               1 个文件         47,800 字节\n",
      "               0 个目录 73,292,312,576 可用字节\n"
     ]
    }
   ],
   "source": [
    "!dir .\\code\\bin\\libf*.dll"
   ]
  },
  {
   "cell_type": "markdown",
   "metadata": {},
   "source": [
    "#### Under Linux"
   ]
  },
  {
   "cell_type": "code",
   "execution_count": 238,
   "metadata": {},
   "outputs": [
    {
     "name": "stdout",
     "output_type": "stream",
     "text": [
      "Writing ./code/makefile-fib-so\n"
     ]
    }
   ],
   "source": [
    "%%file ./code/makefile-fib-so\n",
    "\n",
    "CC=gcc\n",
    "CFLAGS=-O3 -Wall -fPIC -o \n",
    "\n",
    "all: libfibso\n",
    "\n",
    "libfibso: fibobj\n",
    "\t $(CC) -shared -o ./code/gcc/libfib ./code/bin/fib.o\n",
    "\t rm -f fib.o\n",
    "    \n",
    "fibobj: ./code/gcc/fib.c\n",
    "\t $(CC) -c $(CFLAGS) ./code/bin/fib.o ./code/gcc/fib.c\n",
    "     \n",
    "clean:\n",
    "\t rm -f ./code/bin/libfib.so"
   ]
  },
  {
   "cell_type": "code",
   "execution_count": 239,
   "metadata": {},
   "outputs": [
    {
     "name": "stdout",
     "output_type": "stream",
     "text": [
      "gcc -c -O3 -Wall -fPIC -o  ./code/bin/fib.o ./code/gcc/fib.c\n",
      "gcc -shared -o ./code/gcc/libfib ./code/bin/fib.o\n",
      "rm -f fib.o\n"
     ]
    },
    {
     "name": "stderr",
     "output_type": "stream",
     "text": [
      "process_begin: CreateProcess(NULL, rm -f fib.o, ...) failed.\n",
      "make (e=2): 系统找不到指定的文件。\n",
      "\n",
      "make: *** [code/makefile-fib-so:9: libfibso] Error 2\n"
     ]
    }
   ],
   "source": [
    "!make -f ./code/makefile-fib-so"
   ]
  },
  {
   "cell_type": "code",
   "execution_count": null,
   "metadata": {},
   "outputs": [],
   "source": [
    "!ls ./code/bin/libf*.so"
   ]
  },
  {
   "cell_type": "markdown",
   "metadata": {},
   "source": [
    "### Step 4.2 Using Shared Library"
   ]
  },
  {
   "cell_type": "markdown",
   "metadata": {},
   "source": [
    "### Header Files and Libraries \n",
    "\n",
    "* `Header File`: When compiling the program, the **compiler** needs the **header** files to compile the source codes;\n",
    "\n",
    "* `libraries`: the **linker** needs the **libraries** to resolve external references from other object files or libraries. \n",
    "\n",
    "The `compiler` and `linker` will not find the `headers/libraries` unless you set **the appropriate options**\n",
    "\n",
    "* **1 Searching for Header Files**\n",
    "\n",
    "   **`-Idir`:** The include-paths are specified via **-Idir** option (`uppercase` 'I' followed by the directory path or environment variable **CPATH**). \n",
    "   \n",
    "   \n",
    "* **2 Searching for libraries Files**\n",
    "\n",
    "   **`-Ldir`**: The library-path is specified via **-Ldir** option (`uppercase` 'L' followed by the directory path(or environment variable **LIBRARY_PATH**). \n",
    "\n",
    "\n",
    "* **3 Linking the library**\n",
    "\n",
    "   **`-llibname`**: Link with the library name `without` the `lib prefix` and the .so/.dll extensions.\n",
    "   \n",
    "       GCC assumes that all libraries \n",
    "   \n",
    "          `start` with `lib`\n",
    "\n",
    "          `end`  with `.dll`(windows) or `.so`(Linux)，\n",
    "\n",
    "so, Using **libfib.dll/so:** in the `./code/bin/`\n",
    "\n",
    "\n",
    "```bash\n",
    " -I./code/gcc/ -L./code/bin/ -lfib\n",
    "```\n",
    "\n",
    "```bash\n",
    " -I./code/gcc/ -L./code/bin/ -lfib -Wl,-rpath=dir  \n",
    "```\n",
    "\n",
    "* **`-Wl,option`**\n",
    "\n",
    "    Pass option as an option to the **linker**. If option contains commas, it is split into multiple options at the commas. You can use this syntax to pass an argument to the option. For example, -Wl,-Map,output.map passes -Map output.map to the linker. When using the GNU linker, you can also get the same effect with `-Wl,-Map=output.map'.\n",
    "    \n",
    "\n",
    "\n",
    "* **`-rpath=dir`** \n",
    "\n",
    "    **Add a directory to the runtime library search path**. This is used when linking an ELF executable with shared objects. All -rpath arguments are concatenated and passed to the runtime linker, which uses them to locate shared objects at runtime. The -rpath option is also used when locating shared objects which are needed by shared objects explicitly included in the link;\n",
    "   \n"
   ]
  },
  {
   "cell_type": "markdown",
   "metadata": {},
   "source": [
    "#### Windows"
   ]
  },
  {
   "cell_type": "code",
   "execution_count": 240,
   "metadata": {},
   "outputs": [],
   "source": [
    "!gcc -c -o ./code/bin/mainfib.o ./code/gcc/mainfib.c \n",
    "!gcc -o  ./code/gcc/mainfib ./code/bin/mainfib.o -I./code/gcc/ -L./code/bin/ -lfib"
   ]
  },
  {
   "cell_type": "code",
   "execution_count": 241,
   "metadata": {},
   "outputs": [
    {
     "name": "stdout",
     "output_type": "stream",
     "text": [
      "fib of 20 = 10946\n"
     ]
    }
   ],
   "source": [
    "!.\\code\\bin\\mainfib"
   ]
  },
  {
   "cell_type": "markdown",
   "metadata": {},
   "source": [
    "#### Linux"
   ]
  },
  {
   "cell_type": "code",
   "execution_count": null,
   "metadata": {},
   "outputs": [],
   "source": [
    "!gcc -c -o ./code/bin/mainfib.o ./code/gcc/mainfib.c \n",
    "!gcc -o  ./code/bin/mainfib mainfib.o -I./code/gcc/ -L./code/bin/ -lfib -Wl,-rpath=./code/bin/"
   ]
  },
  {
   "cell_type": "code",
   "execution_count": null,
   "metadata": {},
   "outputs": [],
   "source": [
    "!ldd ./code/bin/mainfib"
   ]
  },
  {
   "cell_type": "code",
   "execution_count": null,
   "metadata": {},
   "outputs": [],
   "source": [
    "!./code/bin/mainfib"
   ]
  },
  {
   "cell_type": "markdown",
   "metadata": {},
   "source": [
    "#### Under Windows"
   ]
  },
  {
   "cell_type": "code",
   "execution_count": 242,
   "metadata": {},
   "outputs": [
    {
     "name": "stdout",
     "output_type": "stream",
     "text": [
      "Writing ./code/makefile-call-dll\n"
     ]
    }
   ],
   "source": [
    "%%file ./code/makefile-call-dll\n",
    "\n",
    "all: mainfibexe\n",
    "\n",
    "clean:\n",
    "\tdel .\\code\\bin\\mainfib.exe\n",
    "\n",
    "mainfibexe: mainfibobj ./code/gcc/fib.h \n",
    "\tgcc -o ./code/bin/mainfib.exe ./code/bin/mainfib.o -I./code/gcc/ -L./code/bin/ -lfib\n",
    "\tdel *.o\n",
    "\n",
    "mainfibobj: ./code/gcc/mainfib.c \n",
    "\tgcc -c -o ./code/bin/mainfib.o ./code/gcc/mainfib.c "
   ]
  },
  {
   "cell_type": "code",
   "execution_count": 243,
   "metadata": {},
   "outputs": [
    {
     "name": "stdout",
     "output_type": "stream",
     "text": [
      "gcc -c -o ./code/bin/mainfib.o ./code/gcc/mainfib.c \n",
      "gcc -o ./code/bin/mainfib.exe ./code/bin/mainfib.o -I./code/gcc/ -L./code/bin/ -lfib\n",
      "del *.o\n"
     ]
    }
   ],
   "source": [
    "!make -f ./code/makefile-call-dll"
   ]
  },
  {
   "cell_type": "code",
   "execution_count": 244,
   "metadata": {},
   "outputs": [
    {
     "name": "stdout",
     "output_type": "stream",
     "text": [
      "fib of 20 = 10946\n"
     ]
    }
   ],
   "source": [
    "!.\\code\\bin\\mainfib"
   ]
  },
  {
   "cell_type": "markdown",
   "metadata": {},
   "source": [
    "#### Under Linux"
   ]
  },
  {
   "cell_type": "code",
   "execution_count": 245,
   "metadata": {},
   "outputs": [
    {
     "name": "stdout",
     "output_type": "stream",
     "text": [
      "Writing ./code/makefile-call-so\n"
     ]
    }
   ],
   "source": [
    "%%file ./code/makefile-call-so\n",
    "\n",
    "all: mainfibexe\n",
    "\n",
    "clean:\n",
    "\trm -f ./code/bin/mainfib\n",
    "\n",
    "mainfibexe: mainfibobj ./code/gcc/fib.h \n",
    "\tgcc -o ./code/bin/mainfib ./code/bin/mainfib.o -I./code/gcc/ -L./code/bin/ -lfib -Wl,-rpath=./code/bin/ \n",
    "\trm -f *.o\n",
    "\n",
    "mainfibobj: ./code/gcc/mainfib.c \n",
    "\tgcc -c -o ./code/bin/mainfib.o ./code/gcc/mainfib.c"
   ]
  },
  {
   "cell_type": "code",
   "execution_count": null,
   "metadata": {},
   "outputs": [],
   "source": [
    "!make -f ./code/makefile-call-so"
   ]
  },
  {
   "cell_type": "code",
   "execution_count": null,
   "metadata": {},
   "outputs": [],
   "source": [
    "!./code/bin/mainfib"
   ]
  },
  {
   "cell_type": "markdown",
   "metadata": {},
   "source": [
    "## Reference\n",
    "\n",
    "* Fibonacci number https://en.wikipedia.org/wiki/Fibonacci_number\n",
    "\n",
    "\n",
    "* GCC (GNU compilers) http://gcc.gnu.org\n",
    "\n",
    "  * GCC Manual  http://gcc.gnu.org/onlinedocs\n",
    "\n",
    "  * An Introduction to GCC  http://www.network-theory.co.uk/docs/gccintro/index.html.\n",
    "\n",
    "  * GCC and Make：Compiling, Linking and Building C/C++ Applications http://www3.ntu.edu.sg/home/ehchua/programming/cpp/gcc_make.html\n",
    "\n",
    "  * MinGW-W64 (GCC) Compiler Suite: http://www.mingw-w64.org/doku.php\n",
    "\n",
    "\n",
    "* C/C++ for VS Code https://code.visualstudio.com/docs/languages/cpp\n",
    "\n",
    "* Simple Unit Testing for C：https://github.com/ThrowTheSwitch/Unity"
   ]
  },
  {
   "cell_type": "code",
   "execution_count": null,
   "metadata": {},
   "outputs": [],
   "source": []
  }
 ],
 "metadata": {
  "kernelspec": {
   "display_name": "Python 3",
   "language": "python",
   "name": "python3"
  },
  "language_info": {
   "codemirror_mode": {
    "name": "ipython",
    "version": 3
   },
   "file_extension": ".py",
   "mimetype": "text/x-python",
   "name": "python",
   "nbconvert_exporter": "python",
   "pygments_lexer": "ipython3",
   "version": "3.7.0"
  },
  "widgets": {
   "state": {},
   "version": "1.1.2"
  }
 },
 "nbformat": 4,
 "nbformat_minor": 2
}
