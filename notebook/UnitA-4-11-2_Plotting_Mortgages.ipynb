{
 "cells": [
  {
   "cell_type": "markdown",
   "metadata": {},
   "source": [
    "# 11 PLOTTING AND MORE ABOUT CLASSES"
   ]
  },
  {
   "cell_type": "markdown",
   "metadata": {},
   "source": [
    "## 11.2 Plotting Mortgages, an Extended Example\n",
    "\n",
    "In Chapter 8, we worked our way through a hierarchy of mortgages as way of illustrating the use of subclassing. We concluded that chapter by observing that \n",
    "\n",
    "#### “our program should be producing plots designed to show how the mortgage behaves over time.” \n",
    "\n",
    "Figure 11.1 enhances class Mortgage by adding methods that make it convenient to produce such plots."
   ]
  },
  {
   "cell_type": "code",
   "execution_count": 27,
   "metadata": {},
   "outputs": [],
   "source": [
    "#Following function is defined in Chapter 8, and used here\n",
    "import numpy as np\n",
    "\n",
    "def findPayment(loan, r, m):\n",
    "    \"\"\"Assumes: loan and r are floats, m an int\n",
    "       Returns the monthly payment for a mortgage of size\n",
    "       loan at a monthly rate of r for m months\"\"\"\n",
    "    return loan*((r*(1+r)**m)/((1+r)**m - 1))\n",
    "\n",
    "class Mortgage(object):\n",
    "    \"\"\"Abstract class for building different kinds of mortgages\"\"\"\n",
    "    \n",
    "    def __init__(self, loan, annRate, months):\n",
    "        \"\"\"Create a new mortgage\"\"\"\n",
    "        self.loan = loan\n",
    "        self.rate = annRate/12.0\n",
    "        self.months = months\n",
    "        self.paid = [0.0] \n",
    "        self.owed = [loan]\n",
    "        self.payment = findPayment(loan, self.rate, months)\n",
    "        self.legend = None #description of mortgage\n",
    "        \n",
    "    def makePayment(self):\n",
    "        \"\"\"Make a payment\"\"\"\n",
    "        self.paid.append(self.payment)\n",
    "        reduction = self.payment - self.owed[-1]*self.rate\n",
    "        self.owed.append(self.owed[-1] - reduction)\n",
    "        \n",
    "    def getTotalPaid(self):\n",
    "        \"\"\"Return the total amount paid so far\"\"\"\n",
    "        return sum(self.paid)\n",
    "    \n",
    "    def __str__(self):\n",
    "        return self.legend\n",
    "\n",
    "    def plotPayments(self, style):\n",
    "        plt.plot(self.paid[1:], style, label = self.legend)\n",
    "    \n",
    "    def plotBalance(self, style):\n",
    "        plt.plot(self.owed, style, label = self.legend)\n",
    "        \n",
    "    def plotTotPd(self, style):\n",
    "        \"\"\"Plot the cumulative total of the payments made\"\"\"\n",
    "        totPd = [self.paid[0]]\n",
    "        for i in range(1, len(self.paid)):\n",
    "            totPd.append(totPd[-1] + self.paid[i])\n",
    "        plt.plot(totPd, style, label = self.legend)\n",
    "    \n",
    "    def plotNet(self, style):\n",
    "        \"\"\"Plot an approximation to the total cost of the mortgage\n",
    "           over time by plotting the cash expended minus the equity\n",
    "           acquired by paying off part of the loan\"\"\"\n",
    "        totPd = [self.paid[0]]\n",
    "        for i in range(1, len(self.paid)):\n",
    "            totPd.append(totPd[-1] + self.paid[i])\n",
    "       \n",
    "    #Equity acquired through payments is amount of original loan\n",
    "        #  paid to date, which is amount of loan minus what is still owed\n",
    "        equityAcquired = np.array([self.loan]*len(self.owed))\n",
    "        equityAcquired = equityAcquired - np.array(self.owed)\n",
    "        \n",
    "        net =np.array(totPd) - equityAcquired\n",
    "        \n",
    "        plt.plot(net, style, label = self.legend)\n"
   ]
  },
  {
   "cell_type": "markdown",
   "metadata": {},
   "source": [
    "The methods `plotPayments` and `plotBalance` are simple one-liners, but they do use a form of `pylab.plot` that we have not yet seen.\n",
    "\n",
    "The nontrivial methods in class Mortgage are `plotTotPd` and `plotNet`. \n",
    "\n",
    "The method `plotTotPd` simply plots the cumulative total of the payments made. \n",
    "\n",
    "The method `plotNet` plots an approximation to the total cost of the mortgage over time by plotting the cash expended minus the equity acquired by paying off part of the loan\n",
    "\n",
    "####  List to Numpy's array\n",
    "\n",
    "The expression `np.array(self.owed)` in plotNet performs a type conversion :list to numpy array\n",
    "\n",
    "There are a number of `convenient` ways to `manipulate arrays` that are not readily available for lists.\n",
    "\n",
    "There are a number of ways to create `arrays` in `Numpy`, but the most common way is:*first create a list, and then convert it*.\n"
   ]
  },
  {
   "cell_type": "code",
   "execution_count": 28,
   "metadata": {},
   "outputs": [
    {
     "name": "stdout",
     "output_type": "stream",
     "text": [
      "a1 = [1 2 4]\n",
      "a2 = [2 4 8]\n",
      "a1 + 3 = [4 5 7]\n",
      "3 - a1 = [ 2  1 -1]\n",
      "a1 - a2 = [-1 -2 -4]\n",
      "a1*a2 = [ 2  8 32]\n"
     ]
    }
   ],
   "source": [
    "import numpy as np\n",
    "a1 = np.array([1, 2, 4])\n",
    "print('a1 =', a1)\n",
    "a2 = a1*2\n",
    "print('a2 =', a2)\n",
    "print('a1 + 3 =', a1 + 3)\n",
    "print('3 - a1 =', 3 - a1)\n",
    "print('a1 - a2 =', a1 - a2)\n",
    "print('a1*a2 =', a1*a2)"
   ]
  },
  {
   "cell_type": "markdown",
   "metadata": {},
   "source": [
    "the next code repeats the three subclasses of Mortgage from Chapter 8."
   ]
  },
  {
   "cell_type": "code",
   "execution_count": null,
   "metadata": {},
   "outputs": [],
   "source": [
    "\n",
    "class Fixed(Mortgage):\n",
    "    def __init__(self, loan, r, months):\n",
    "        Mortgage.__init__(self, loan, r, months)\n",
    "        self.legend = 'Fixed, ' + str(r*100) + '%' \n",
    "\n",
    "class FixedWithPts(Mortgage):\n",
    "    def __init__(self, loan, r, months, pts):\n",
    "        Mortgage.__init__(self, loan, r, months)\n",
    "        self.pts = pts\n",
    "        self.paid = [loan*(pts/100.0)]\n",
    "        self.legend = 'Fixed, ' + str(r*100) + '%, '\\\n",
    "                   + str(pts) + ' points'\n",
    "\n",
    "class TwoRate(Mortgage):\n",
    "    def __init__(self, loan, r, months, teaserRate, teaserMonths):\n",
    "        Mortgage.__init__(self, loan, teaserRate, months)\n",
    "        self.teaserMonths = teaserMonths\n",
    "        self.teaserRate = teaserRate\n",
    "        self.nextRate = r/12.0\n",
    "        self.legend = str(teaserRate*100)\\\n",
    "                      + '% for ' + str(self.teaserMonths)\\\n",
    "                      + ' months, then ' + str(r*100) + '%'\n",
    "\n",
    "    def makePayment(self):\n",
    "        if len(self.paid) == self.teaserMonths + 1:\n",
    "            self.rate = self.nextRate\n",
    "            self.payment = findPayment(self.owed[-1], self.rate,\n",
    "                                       self.months - self.teaserMonths)\n",
    "        Mortgage.makePayment(self)\n"
   ]
  },
  {
   "cell_type": "markdown",
   "metadata": {},
   "source": [
    "The next code contain functions that can be used to generate plots intended to provide insight about the different kinds of mortgages."
   ]
  },
  {
   "cell_type": "code",
   "execution_count": null,
   "metadata": {},
   "outputs": [],
   "source": [
    "def plotMortgages(morts, amt):\n",
    "    styles = ['b-', 'b-.', 'b:']\n",
    "   \n",
    "    #Give names to figure numbers\n",
    "    payments = 0\n",
    "    cost = 1\n",
    "    balance = 2\n",
    "    netCost = 3\n",
    "    # titles and axis labels for each plot \n",
    "    plt.figure(payments)\n",
    "    plt.title('Monthly Payments of Different $' + str(amt)\n",
    "                + ' Mortgages')\n",
    "    plt.xlabel('Months')\n",
    "    plt.ylabel('Monthly Payments')\n",
    "    \n",
    "    plt.figure(cost)\n",
    "    plt.title('Cash Outlay of Different $' + str(amt) + ' Mortgages')\n",
    "    plt.xlabel('Months')\n",
    "    plt.ylabel('Total Payments')\n",
    "    \n",
    "    plt.figure(balance)\n",
    "    plt.title('Balance Remaining of $' + str(amt) + ' Mortgages')\n",
    "    plt.xlabel('Months')\n",
    "    plt.ylabel('Remaining Loan Balance of $')\n",
    "    \n",
    "    plt.figure(netCost)\n",
    "    plt.title('Net Cost of $' + str(amt) + ' Mortgages')\n",
    "    plt.xlabel('Months')\n",
    "    plt.ylabel('Payments - Equity $')\n",
    "    \n",
    "    # produce the actual pl\n",
    "    for i in range(len(morts)):\n",
    "        plt.figure(payments)\n",
    "        morts[i].plotPayments(styles[i])\n",
    "        \n",
    "        plt.figure(cost)\n",
    "        morts[i].plotTotPd(styles[i])\n",
    "        \n",
    "        plt.figure(balance)\n",
    "        morts[i].plotBalance(styles[i])\n",
    "        \n",
    "        plt.figure(netCost)\n",
    "        morts[i].plotNet(styles[i])\n",
    "   \n",
    "    # legend\n",
    "    plt.figure(payments)\n",
    "    plt.legend(loc = 'upper center')\n",
    "    \n",
    "    plt.figure(cost)\n",
    "    plt.legend(loc = 'best')\n",
    "    \n",
    "    plt.figure(balance)\n",
    "    plt.legend(loc = 'best') \n",
    "\n",
    "def compareMortgages(amt, years, fixedRate, pts, ptsRate,\n",
    "                    varRate1, varRate2, varMonths):\n",
    "    totMonths = years*12\n",
    "    fixed1 = Fixed(amt, fixedRate, totMonths)\n",
    "    fixed2 = FixedWithPts(amt, ptsRate, totMonths, pts)\n",
    "    twoRate = TwoRate(amt, varRate2, totMonths, varRate1, varMonths)\n",
    "    morts = [fixed1, fixed2, twoRate]\n",
    "    for m in range(totMonths):\n",
    "        for mort in morts:\n",
    "            mort.makePayment()\n",
    "    \n",
    "    \n",
    "    plotMortgages(morts, amt)"
   ]
  },
  {
   "cell_type": "code",
   "execution_count": null,
   "metadata": {},
   "outputs": [],
   "source": [
    "compareMortgages(amt=200000, years=30, fixedRate=0.07,\n",
    "                 pts = 3.25, ptsRate=0.05,\n",
    "                 varRate1=0.045, varRate2=0.095, varMonths=48)"
   ]
  },
  {
   "cell_type": "markdown",
   "metadata": {
    "collapsed": true
   },
   "source": [
    "The function plotMortgages generates appropriate <b>titles and axis labels</b> for each plot, \n",
    "\n",
    "and then uses the methods in MortgagePlots to <b>produce the actual plots</b>.\n",
    "\n",
    "* 1 `plotPayments` : the first plot makes it clear <b>how the monthly payments vary (or don’t) over time</b>\n",
    "\n",
    "\n",
    "* 2 `plotTotPd` : It sheds some light on the cost of each kind of mortgage by plotting the <b>cumulative costs</b> that have been incurred at the start of each month.\n",
    "\n",
    "\n",
    "* 3 `plotBlance`: show the remaining debt\n",
    "\n",
    "\n",
    "* 4 `plotNet`: total net cost of having the mortgage\n"
   ]
  },
  {
   "cell_type": "markdown",
   "metadata": {},
   "source": [
    "## Fuether Reading\n",
    "\n",
    "* **Matplotlib Tutorials:** https://matplotlib.org/tutorials/index.html\n"
   ]
  },
  {
   "cell_type": "code",
   "execution_count": null,
   "metadata": {},
   "outputs": [],
   "source": []
  }
 ],
 "metadata": {
  "kernelspec": {
   "display_name": "Python 3",
   "language": "python",
   "name": "python3"
  },
  "language_info": {
   "codemirror_mode": {
    "name": "ipython",
    "version": 3
   },
   "file_extension": ".py",
   "mimetype": "text/x-python",
   "name": "python",
   "nbconvert_exporter": "python",
   "pygments_lexer": "ipython3",
   "version": "3.7.0"
  }
 },
 "nbformat": 4,
 "nbformat_minor": 1
}
