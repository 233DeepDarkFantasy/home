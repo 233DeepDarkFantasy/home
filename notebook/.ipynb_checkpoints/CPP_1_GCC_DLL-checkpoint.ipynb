{
 "cells": [
  {
   "cell_type": "markdown",
   "metadata": {},
   "source": [
    "# Programming C/C++ With GCC"
   ]
  },
  {
   "cell_type": "markdown",
   "metadata": {},
   "source": [
    "## 1. GCC: GNU Compiler Collection\n",
    "\n",
    "### 1.1 A Brief History and Introduction to GCC\n",
    "\n",
    "The original GNU C Compiler (GCC) is developed by `Richard Stallman`, the founder of the `GNU Project`. Richard Stallman founded the GNU project in 1984 to create a complete Unix-like operating system as free software, to promote freedom and cooperation among computer users and programmers.\n",
    "\n",
    "* **GNU Project**：https://www.gnu.org/\n",
    "\n",
    "   GNU is an operating system that is `free software`—that is, it `respects` users' `freedom`. The development of GNU made it possible to use a computer without software that would trample your freedom.\n",
    " \n",
    " \n",
    "* **The Free Software Foundation** : https://www.fsf.org/\n",
    "   \n",
    "   The Free Software Foundation (FSF) is a nonprofit with a worldwide mission to promote computer user `freedom`. We defend the rights of all software users.\n",
    "\n",
    "\n",
    "*  **GCC: GNU Compiler Collection** :  http://gcc.gnu.org/\n",
    "  \n",
    "  GCC, formerly for \"GNU C Compiler\", has grown over times to support many languages such as `C++`, Objective-C, Java, `Fortran` and Ada. It is now referred to as **\"GNU Compiler Collection\"**. \n",
    "  \n",
    "  GCC is portable and run in many operating platforms. GCC (and GNU Toolchain) is currently available on all Unixes. They are also ported to Windows by `MinGW` and Cygwin. \n",
    "\n",
    "### 1.2  Installing GCC\n",
    "\n",
    "#### Linux\n",
    "\n",
    "GCC (GNU Toolchain) is included in all Linux(Unixes). \n",
    "\n",
    "#### Windows \n",
    "\n",
    "For Windows, you could install **MinGW GCC** \n",
    "\n",
    "**MinGW** (short for \"Minimalist GNU for Windows\"), is a `minimalist` (i.e., small but fewer features compared with cygwin) development environment for native Microsoft Windows applications.\n",
    "\n",
    "mingw-w64: GCC for Windows 64 & 32 bits\n",
    "\n",
    "http://www.mingw-w64.org/doku.php\n",
    "\n",
    "Mingw-w64 is an advancement of the original mingw.org project, created to support the GCC compiler on Windows systems. It has forked it in 2007 in order to provide support for 64 bits and new APIs. It has since then gained widespread use and distribution.\n",
    "\n",
    "* To install MinGW-w64(`5 steps`):\n",
    "  \n",
    "  * 1.Goto MinGW mother site at https://sourceforge.net/projects/mingw-w64/files/?source=navbar \n",
    "\n",
    "       Downloads x86_64-6.3.0-release-win32-sjlj or seh \n",
    "      \n",
    "       * sjlj: 32 and 64,but it incurs a minor performance penalty  \n",
    "        \n",
    "       * seh：64 only\n",
    "\n",
    "      ![MinGW-w64](./img/mingw-w64.jpg) \n",
    "    \n",
    "  \n",
    "  * 2.unzip the ziped MinGW-w64 to `C:\\mingw64`\n",
    "  \n",
    "\n",
    "  * 3.Add **C:\\mingw6\\bin** to the environment variable **PATH**  \n",
    "     \n",
    ">To set an environment variable **permanently** in Windows: (so that it is available to all the Windows' processes)\n",
    "\n",
    ">start the \"Control Panel\" ⇒ \"System\" ⇒ \"Advanced system settings\" ⇒ Switch to >\"Advanced\" tab ⇒ \"Environment variables\" ⇒ Choose \"System Variables\" (for all users) or \"User >Variables\" (for this login user only) ⇒ Choose \"Edit\" (for modifying an existing variable) or >\"New\" (to create a new variable) ⇒ Enter the variable \"Name\" and \"Value\".\n",
    "\n",
    "  * 4.rename `C:\\mingw64\\bin\\mingw32-make.exe` to  `C:\\mingw64\\bin\\make.exe`\n",
    " \n",
    "\n",
    "  * 5.Verify the GCC installation by listing the version of gcc, g++ and gdb: \n",
    "      \n",
    "      ```bash\n",
    "      > gcc --version\n",
    "      > g++ --version\n",
    "      > gdb --version\n",
    "      ```\n"
   ]
  },
  {
   "cell_type": "code",
   "execution_count": null,
   "metadata": {},
   "outputs": [],
   "source": [
    "!gcc --version\n",
    "!g++ --version\n",
    "!gdb --version"
   ]
  },
  {
   "cell_type": "markdown",
   "metadata": {},
   "source": [
    "### 1.3  Getting Started\n",
    "\n",
    "The GNU C and C++ compiler are gcc and g++, respectively.\n",
    "\n",
    "* **gcc** to compile `C` program\n",
    "\n",
    "* **g++** to compile `C++` program \n",
    "\n",
    "**Compile/Link a Simple C Program - hello.c**\n",
    "\n",
    "Below is the Hello-world C program `hello.c`:"
   ]
  },
  {
   "cell_type": "code",
   "execution_count": 1,
   "metadata": {},
   "outputs": [
    {
     "name": "stdout",
     "output_type": "stream",
     "text": [
      "Overwriting ./code/gcc/hello.c\n"
     ]
    }
   ],
   "source": [
    "%%file ./code/gcc/hello.c\n",
    "\n",
    "#include <stdio.h>\n",
    " \n",
    "int main() {\n",
    "    printf(\"C says Hello, world!\\n\");\n",
    "    return 0;\n",
    "}"
   ]
  },
  {
   "cell_type": "markdown",
   "metadata": {},
   "source": [
    "You need to use **gcc** to `compile` C program：`hello.c`,then `link` to build the output\n",
    "\n",
    "* **-c: source files** `compiles` source files without linking."
   ]
  },
  {
   "cell_type": "code",
   "execution_count": 2,
   "metadata": {},
   "outputs": [],
   "source": [
    "!gcc -c ./code/gcc/hello.c"
   ]
  },
  {
   "cell_type": "code",
   "execution_count": 3,
   "metadata": {},
   "outputs": [
    {
     "name": "stdout",
     "output_type": "stream",
     "text": [
      " 驱动器 D 中的卷是 cmh\n",
      " 卷的序列号是 02AB-E07E\n",
      "\n",
      " d:\\SEUCourse\\SE_ThermalEnergy\\PySEE\\home\\notebook 的目录\n",
      "\n",
      "2018/05/23  02:09               914 hello.o\n",
      "               1 个文件            914 字节\n",
      "               0 个目录 170,187,911,168 可用字节\n"
     ]
    }
   ],
   "source": [
    "!dir hell*.o"
   ]
  },
  {
   "cell_type": "markdown",
   "metadata": {},
   "source": [
    "* **-o: output file** writes the link to build output to the specifies **output file**name."
   ]
  },
  {
   "cell_type": "code",
   "execution_count": 6,
   "metadata": {},
   "outputs": [],
   "source": [
    "!gcc -o ./code/gcc/hello hello.o"
   ]
  },
  {
   "cell_type": "code",
   "execution_count": 39,
   "metadata": {},
   "outputs": [
    {
     "name": "stdout",
     "output_type": "stream",
     "text": [
      " 驱动器 D 中的卷是 cmh\n",
      " 卷的序列号是 02AB-E07E\n",
      "\n",
      " d:\\SEUCourse\\SE_ThermalEnergy\\PySEE\\home\\notebook\\code\\gcc 的目录\n",
      "\n",
      "2018/05/23  02:16            53,510 hello.exe\n",
      "               1 个文件         53,510 字节\n",
      "               0 个目录 170,187,636,736 可用字节\n"
     ]
    }
   ],
   "source": [
    "!dir  .\\code\\gcc\\hell*.exe"
   ]
  },
  {
   "cell_type": "markdown",
   "metadata": {},
   "source": [
    "#### Under Windows"
   ]
  },
  {
   "cell_type": "code",
   "execution_count": 12,
   "metadata": {},
   "outputs": [
    {
     "name": "stdout",
     "output_type": "stream",
     "text": [
      "C says Hello, world!\n"
     ]
    }
   ],
   "source": [
    "!.\\code\\gcc\\hello"
   ]
  },
  {
   "cell_type": "markdown",
   "metadata": {},
   "source": [
    "#### Under Linux\n",
    "\n",
    "**path separators** \n",
    "\n",
    "* Linux: `/`\n",
    "\n",
    "* Windows: **\\**\n",
    "\n",
    "**escape character**\n",
    "\n",
    "The backslash is an `escape character`,you use to inform that the next character is special."
   ]
  },
  {
   "cell_type": "code",
   "execution_count": 14,
   "metadata": {},
   "outputs": [
    {
     "name": "stdout",
     "output_type": "stream",
     "text": [
      "escape character\n",
      "\n",
      "\tescape character\n"
     ]
    }
   ],
   "source": [
    "print('escape character\\n')\n",
    "print('\\tescape character')"
   ]
  },
  {
   "cell_type": "markdown",
   "metadata": {},
   "source": [
    "#### Under Linux"
   ]
  },
  {
   "cell_type": "code",
   "execution_count": 15,
   "metadata": {},
   "outputs": [
    {
     "name": "stderr",
     "output_type": "stream",
     "text": [
      "'.' 不是内部或外部命令，也不是可运行的程序\n",
      "或批处理文件。\n"
     ]
    }
   ],
   "source": [
    "!./code/gcc/hello"
   ]
  },
  {
   "cell_type": "markdown",
   "metadata": {},
   "source": [
    "#### the specifies output filename : `specifiesnamehello`"
   ]
  },
  {
   "cell_type": "code",
   "execution_count": 16,
   "metadata": {},
   "outputs": [],
   "source": [
    "!gcc -c -o ./code/gcc/hello.o ./code/gcc/hello.c\n",
    "!gcc -o ./code/gcc/specifiesnamehello ./code/gcc/hello.o"
   ]
  },
  {
   "cell_type": "markdown",
   "metadata": {},
   "source": [
    "#### Under Windows"
   ]
  },
  {
   "cell_type": "code",
   "execution_count": 17,
   "metadata": {},
   "outputs": [
    {
     "name": "stdout",
     "output_type": "stream",
     "text": [
      "C says Hello, world!\n"
     ]
    }
   ],
   "source": [
    "!.\\code\\gcc\\specifiesnamehello"
   ]
  },
  {
   "cell_type": "markdown",
   "metadata": {},
   "source": [
    "#### Under Linux"
   ]
  },
  {
   "cell_type": "code",
   "execution_count": 4,
   "metadata": {},
   "outputs": [
    {
     "name": "stdout",
     "output_type": "stream",
     "text": [
      "C says Hello, world!\r\n"
     ]
    }
   ],
   "source": [
    "!./code/gcc/specifiesnamehello"
   ]
  },
  {
   "cell_type": "markdown",
   "metadata": {},
   "source": [
    "#### compile and link to build output  "
   ]
  },
  {
   "cell_type": "code",
   "execution_count": 19,
   "metadata": {},
   "outputs": [],
   "source": [
    "!gcc -o ./code/gcc/hello ./code/gcc/hello.c"
   ]
  },
  {
   "cell_type": "markdown",
   "metadata": {},
   "source": [
    "To run the program:"
   ]
  },
  {
   "cell_type": "code",
   "execution_count": 21,
   "metadata": {},
   "outputs": [
    {
     "name": "stdout",
     "output_type": "stream",
     "text": [
      "C says Hello, world!\n"
     ]
    }
   ],
   "source": [
    "!.\\code\\gcc\\hello"
   ]
  },
  {
   "cell_type": "markdown",
   "metadata": {},
   "source": [
    "**Compile/Link a Simple C++ Program - hello.cpp**\n",
    "\n",
    "Below is the Hello-world C++ program hello.cpp:\n"
   ]
  },
  {
   "cell_type": "code",
   "execution_count": 22,
   "metadata": {},
   "outputs": [
    {
     "name": "stdout",
     "output_type": "stream",
     "text": [
      "Overwriting ./code/gcc/hello.cpp\n"
     ]
    }
   ],
   "source": [
    "%%file ./code/gcc/hello.cpp\n",
    "\n",
    "#include <iostream>\n",
    "using namespace std;\n",
    " \n",
    "int main() {\n",
    "   cout << \"C++ Hello, world!\" << endl;\n",
    "   return 0;\n",
    "}"
   ]
  },
  {
   "cell_type": "markdown",
   "metadata": {},
   "source": [
    "You need to use **g++** to compile C++ program, as follows "
   ]
  },
  {
   "cell_type": "code",
   "execution_count": 23,
   "metadata": {},
   "outputs": [],
   "source": [
    "!g++ -o ./code/gcc/hello.exe ./code/gcc/hello.cpp"
   ]
  },
  {
   "cell_type": "markdown",
   "metadata": {},
   "source": [
    "To run the program(Linux):"
   ]
  },
  {
   "cell_type": "code",
   "execution_count": 25,
   "metadata": {},
   "outputs": [
    {
     "name": "stdout",
     "output_type": "stream",
     "text": [
      "C++ Hello, world!\n"
     ]
    }
   ],
   "source": [
    "!.\\code\\gcc\\hello"
   ]
  },
  {
   "cell_type": "markdown",
   "metadata": {},
   "source": [
    "## 2.  GNU Make\n",
    "\n",
    "The **\"make\"** utility automates the mundane aspects of building executable from source code.\n",
    "\n",
    "**\"make\"** uses a so-called **makefile**, which contains rules on how to build the executables.\n",
    "\n",
    "You can issue \"make --help\" to list the command-line options.\n"
   ]
  },
  {
   "cell_type": "code",
   "execution_count": null,
   "metadata": {},
   "outputs": [],
   "source": [
    "!make --help"
   ]
  },
  {
   "cell_type": "markdown",
   "metadata": {},
   "source": [
    "Let's begin with a simple example to build the Hello-world program (hello.c) into executable (hello.exe) via make utility."
   ]
  },
  {
   "cell_type": "code",
   "execution_count": 35,
   "metadata": {},
   "outputs": [
    {
     "name": "stdout",
     "output_type": "stream",
     "text": [
      "Overwriting ./code/gcc/hello.c\n"
     ]
    }
   ],
   "source": [
    "%%file ./code/gcc/hello.c\n",
    "\n",
    "#include <stdio.h>\n",
    " \n",
    "int main() {\n",
    "    printf(\"Hello, world!\\n\");\n",
    "    return 0;\n",
    "}"
   ]
  },
  {
   "cell_type": "markdown",
   "metadata": {},
   "source": [
    "### 1)  Create **makefile** file\n",
    "\n",
    "Create the following file named **\"makefile\"** : contains rules and save in the current directory. \n",
    "\n",
    "* **`without` any file `extension`**\n",
    "\n",
    "A makefile consists of `a set of rules` to build the executable. \n",
    "\n",
    "**A rule** consists of 3 parts:\n",
    "\n",
    "* **a target**, \n",
    "\n",
    "* **a list of pre-requisites** \n",
    "\n",
    "* **a command**\n",
    "\n",
    "as follows:\n",
    "\n",
    " ```bash\n",
    "\n",
    "target: pre-req-1 pre-req-2 ...\n",
    "\t  command\n",
    "\n",
    " ```\n",
    "\n",
    "* The **target** and **pre-requisites** are separated by <font color=\"red\">a colon ** : **  </font>.\n",
    "\n",
    "\n",
    "* The **command** must be preceded by <font color=\"blue\">**a Tab** (NOT spaces)</font>."
   ]
  },
  {
   "cell_type": "code",
   "execution_count": 36,
   "metadata": {},
   "outputs": [
    {
     "name": "stdout",
     "output_type": "stream",
     "text": [
      "Overwriting makefile\n"
     ]
    }
   ],
   "source": [
    "%%file makefile\n",
    "\n",
    "all: hello.exe\n",
    "    \n",
    "hello.exe: helloobj\n",
    "\t gcc -o ./code/gcc/hello.exe hello.o\n",
    "\t del hello.o\n",
    "    \n",
    "helloobj: ./code/gcc/hello.c\n",
    "\t gcc -c ./code/gcc/hello.c\n",
    "     \n",
    "clean:\n",
    "\t del .\\code\\gcc\\hello.exe"
   ]
  },
  {
   "cell_type": "markdown",
   "metadata": {},
   "source": [
    "#### Under `Windows`\n",
    "\n",
    "```bash\n",
    "     del hello.o\n",
    "\n",
    "\t del .\\code\\gcc\\hello.exe\n",
    "```\n",
    "\n",
    "#### Under `Linux` \n",
    "\n",
    "```bash\n",
    "    rm -f hello.o\n",
    "\t\n",
    "    rm -f ./code/gcc/hello.exe\n",
    "```\n",
    "\n",
    "*  rm  : remove files or directories\n",
    "\n",
    "*  -f, --force : ignore nonexistent files, never prompt"
   ]
  },
  {
   "cell_type": "markdown",
   "metadata": {},
   "source": [
    "### 2) Running **make** \n",
    "\n",
    " \n",
    "**2.1 make  without argument**,\n",
    "\n",
    "* starts the `default` target  **all** in  **makefile** at the `current` directory. "
   ]
  },
  {
   "cell_type": "code",
   "execution_count": 37,
   "metadata": {},
   "outputs": [
    {
     "name": "stdout",
     "output_type": "stream",
     "text": [
      "gcc -c ./code/gcc/hello.c\n",
      "gcc -o ./code/gcc/hello.exe hello.o\n",
      "del hello.o\n"
     ]
    }
   ],
   "source": [
    "!make"
   ]
  },
  {
   "cell_type": "code",
   "execution_count": 38,
   "metadata": {},
   "outputs": [
    {
     "name": "stdout",
     "output_type": "stream",
     "text": [
      " 驱动器 D 中的卷是 cmh\n",
      " 卷的序列号是 02AB-E07E\n",
      "\n",
      " d:\\SEUCourse\\SE_ThermalEnergy\\PySEE\\home\\notebook\\code\\gcc 的目录\n",
      "\n",
      "2018/05/23  02:16            53,510 hello.exe\n",
      "               1 个文件         53,510 字节\n",
      "               0 个目录 170,187,636,736 可用字节\n"
     ]
    }
   ],
   "source": [
    "!dir  .\\code\\gcc\\hell*.exe"
   ]
  },
  {
   "cell_type": "code",
   "execution_count": 40,
   "metadata": {},
   "outputs": [
    {
     "name": "stdout",
     "output_type": "stream",
     "text": [
      "Hello, world!\n"
     ]
    }
   ],
   "source": [
    "!.\\code\\gcc\\hello"
   ]
  },
  {
   "cell_type": "markdown",
   "metadata": {},
   "source": [
    "**2.2 Running make with `clean` argument** \n",
    "\n",
    "starts the target **clean** in the makefile."
   ]
  },
  {
   "cell_type": "code",
   "execution_count": 41,
   "metadata": {},
   "outputs": [
    {
     "name": "stdout",
     "output_type": "stream",
     "text": [
      "del .\\code\\gcc\\hello.exe\n"
     ]
    }
   ],
   "source": [
    "!make clean"
   ]
  },
  {
   "cell_type": "markdown",
   "metadata": {},
   "source": [
    "** 2.3 Specified `FILE` as a makefile**\n",
    "\n",
    "* -f FILE:  Read FILE as a makefile."
   ]
  },
  {
   "cell_type": "code",
   "execution_count": 42,
   "metadata": {},
   "outputs": [
    {
     "name": "stdout",
     "output_type": "stream",
     "text": [
      "Writing ./code/gcc/makefile-gcc\n"
     ]
    }
   ],
   "source": [
    "%%file ./code/gcc/makefile-gcc\n",
    "\n",
    "all: hello.exe\n",
    "\n",
    "hello.exe: hello.o\n",
    "\t gcc -o ./code/gcc/hello.exe hello.o\n",
    "\t del hello.o\n",
    "    \n",
    "hello.o: ./code/gcc/hello.c\n",
    "\t gcc -c ./code/gcc/hello.c\n",
    "     \n",
    "clean:\n",
    "\t del .\\code\\gcc\\hello.exe"
   ]
  },
  {
   "cell_type": "code",
   "execution_count": 43,
   "metadata": {},
   "outputs": [
    {
     "name": "stdout",
     "output_type": "stream",
     "text": [
      "gcc -c ./code/gcc/hello.c\n",
      "gcc -o ./code/gcc/hello.exe hello.o\n",
      "del hello.o\n"
     ]
    }
   ],
   "source": [
    "!make -f ./code/gcc/makefile-gcc"
   ]
  },
  {
   "cell_type": "code",
   "execution_count": 44,
   "metadata": {},
   "outputs": [
    {
     "name": "stdout",
     "output_type": "stream",
     "text": [
      "Hello, world!\n"
     ]
    }
   ],
   "source": [
    "!.\\code\\gcc\\hello"
   ]
  },
  {
   "cell_type": "code",
   "execution_count": 45,
   "metadata": {},
   "outputs": [
    {
     "name": "stdout",
     "output_type": "stream",
     "text": [
      "del .\\code\\gcc\\hello.exe\n"
     ]
    }
   ],
   "source": [
    "!make clean -f ./code/gcc/makefile-gcc"
   ]
  },
  {
   "cell_type": "markdown",
   "metadata": {},
   "source": [
    "## 3 Using Shared Library with GCC\n",
    "\n",
    "A **shared library** has file extension of \n",
    "\n",
    "   * ** .so ** (shared objects) in `Linux(Unixes)`\n",
    "   \n",
    "   \n",
    "   * ** .dll ** (dynamic link library) in `Windows`. \n",
    "\n",
    "When your program is linked against a shared library, only a small table is created in the executable. Before the executable starts running, **the operating system loads the machine code needed for the external functions** - a process known as **dynamic linking.** \n",
    "\n",
    "    \n",
    "* Dynamic linking makes executable files smaller and saves disk space, because `one` copy of a **library** can be **shared** between `multiple` programs. \n",
    "\n",
    "\n",
    "* Furthermore, most operating systems allows one copy of a shared library in memory to be used by all running programs, thus, saving memory. \n",
    "\n",
    "\n",
    "* The shared library codes can be upgraded without the need to recompile your program."
   ]
  },
  {
   "cell_type": "markdown",
   "metadata": {},
   "source": [
    "### EXAMPLE: Fibonacci shared library using a memo\n",
    "> #### 4.3.1 Fibonacci Numbers\n",
    "\n",
    ">The Fibonacci sequence is the common mathematical function that is usually defined recursively.\n",
    ">“They breed like rabbits,” -The growth in population is described naturally by the recurrence:\n",
    ">\n",
    ">  ```\n",
    ">   females(0) =1\n",
    ">   females(1) = 1\n",
    ">\n",
    ">   females(n + 2) = females(n+1) + females(n）\n",
    ">  ```\n",
    "\n",
    "###  Step 1: Creating the shared library\n",
    "\n",
    "Source Codes:\n",
    "\n",
    "*  fibonacci.h\n",
    "*  fibonacci.c"
   ]
  },
  {
   "cell_type": "code",
   "execution_count": 46,
   "metadata": {},
   "outputs": [
    {
     "name": "stdout",
     "output_type": "stream",
     "text": [
      "Overwriting ./code/gcc/fibonacci.h\n"
     ]
    }
   ],
   "source": [
    "%%file ./code/gcc/fibonacci.h\n",
    "\n",
    "#ifndef FIBONACCI_H\n",
    "\n",
    "#define FIBONACCI_H\n",
    "\n",
    "// Up to 93rd Fibonacci number, starting from 0th\n",
    "// can be computed. Anything larger will overflow.\n",
    "#define CACHE_SIZE 94 \n",
    "\n",
    "unsigned long fibonacci(int n, unsigned long *fib_cache);\n",
    "\n",
    "#endif"
   ]
  },
  {
   "cell_type": "code",
   "execution_count": 47,
   "metadata": {},
   "outputs": [
    {
     "name": "stdout",
     "output_type": "stream",
     "text": [
      "Overwriting ./code/gcc/fibonacci.c\n"
     ]
    }
   ],
   "source": [
    "%%file ./code/gcc/fibonacci.c\n",
    "\n",
    "#include \"fibonacci.h\"\n",
    "\n",
    "/*\n",
    "* Function to compute nth Fibonacci number.\n",
    "*\n",
    "*   It uses a cache to avoid repetitive computation. \n",
    "*       1）Reference to the cache must be passed to the function. \n",
    "*       2）The cache should contain 0 for uncomputed values.\n",
    "*   Returns -1 on negative input.\n",
    "*/\n",
    "\n",
    "unsigned long fibonacci(int n, unsigned long *fib_cache) {\n",
    " \n",
    "  if (n< 0)\n",
    "      return -1;\n",
    "  \n",
    "  // base case 0 or 1\n",
    "  if (n == 0||n==1)\n",
    "      return 1;\n",
    "  \n",
    "  // check if nth value is available in cache\n",
    "  if (fib_cache[n] != 0)\n",
    "     return fib_cache[n];\n",
    "\n",
    "  // recursive case : compute and store in cache\n",
    "  fib_cache[n] = fibonacci(n - 1, fib_cache) + fibonacci(n - 2, fib_cache);\n",
    "\n",
    "  return fib_cache[n];\n",
    "}"
   ]
  },
  {
   "cell_type": "markdown",
   "metadata": {},
   "source": [
    "**Compile the C file with `Position Independent Code( PIC )` into a shared library:**"
   ]
  },
  {
   "cell_type": "code",
   "execution_count": 48,
   "metadata": {},
   "outputs": [],
   "source": [
    "!gcc -c -O3 -Wall -fPIC ./code/gcc/fibonacci.c\n",
    "!gcc -shared -o ./code/gcc/libfibonacci.dll  fibonacci.o"
   ]
  },
  {
   "cell_type": "markdown",
   "metadata": {},
   "source": [
    "\n",
    "* -c: compile into object file with default name : funs.o.\n",
    "\n",
    "      By default, the object file has the same name as the source file with extension of \".o\" \n",
    "  \n",
    "  \n",
    "* -O3: Optimize yet more.\n",
    "\n",
    "      turns on all optimizations specified by -O2 and also turns on the -finline-functions, -fweb, -frename-registers and -funswitch-loops optionsturns  on  all  optimizations   \n",
    "     \n",
    "  \n",
    "* -Wall: prints \"all\"  compiler's warning message. \n",
    "\n",
    "      This option should always be used, in order to generate better code.\n",
    "\n",
    "\n",
    "* **-fPIC** : stands for `Position Independent Code`\n",
    "   \n",
    "   the generated machine code is `not dependent` on being located at a `specific address` in order to `work`.\n",
    "   \n",
    "   Position-independent code can be `executed` at `any memory address`\n",
    "    \n",
    "     \n",
    "* **-shared:** creating a shared library\n"
   ]
  },
  {
   "cell_type": "markdown",
   "metadata": {},
   "source": [
    "The result is a compiled shared library **libfibonacci.dll**"
   ]
  },
  {
   "cell_type": "code",
   "execution_count": 49,
   "metadata": {},
   "outputs": [
    {
     "name": "stdout",
     "output_type": "stream",
     "text": [
      "Overwriting makefile\n"
     ]
    }
   ],
   "source": [
    "%%file makefile\n",
    "\n",
    "CC=gcc\n",
    "CFLAGS=-O3 -Wall -fPIC -o \n",
    "\n",
    "all: libfibonacci.dll\n",
    "\n",
    "libfibonacci.dll: fibonacciobj\n",
    "\t $(CC) -shared -o ./code/gcc/libfibonacci.dll fibonacci.o\n",
    "\t del fibonacci.o\n",
    "    \n",
    "fibonacciobj: ./code/gcc/fibonacci.c\n",
    "\t $(CC) -c $(CFLAGS) fibonacci.o ./code/gcc/fibonacci.c\n",
    "     \n",
    "clean:\n",
    "\t del .\\code\\gcc\\libfibonacci.dll"
   ]
  },
  {
   "cell_type": "code",
   "execution_count": 60,
   "metadata": {},
   "outputs": [
    {
     "name": "stdout",
     "output_type": "stream",
     "text": [
      "gcc -c -O3 -Wall -fPIC -o  fibonacci.o ./code/gcc/fibonacci.c\n",
      "gcc -shared -o ./code/gcc/libfibonacci.dll fibonacci.o\n",
      "del fibonacci.o\n"
     ]
    }
   ],
   "source": [
    "!make"
   ]
  },
  {
   "cell_type": "code",
   "execution_count": 54,
   "metadata": {},
   "outputs": [
    {
     "name": "stdout",
     "output_type": "stream",
     "text": [
      " 驱动器 D 中的卷是 cmh\n",
      " 卷的序列号是 02AB-E07E\n",
      "\n",
      " d:\\SEUCourse\\SE_ThermalEnergy\\PySEE\\home\\notebook\\code\\gcc 的目录\n",
      "\n",
      "2018/05/23  02:18            47,288 libfibonacci.dll\n",
      "               1 个文件         47,288 字节\n",
      "               0 个目录 170,187,640,832 可用字节\n"
     ]
    }
   ],
   "source": [
    "!dir .\\code\\gcc\\libfib*.dll"
   ]
  },
  {
   "cell_type": "markdown",
   "metadata": {},
   "source": [
    "### Step2 Using Shared Library"
   ]
  },
  {
   "cell_type": "markdown",
   "metadata": {},
   "source": [
    "### Header Files and Libraries \n",
    "\n",
    "* `Header File`: When compiling the program, the **compiler** needs the **header** files to compile the source codes;\n",
    "\n",
    "* `libraries`: the **linker** needs the **libraries** to resolve external references from other object files or libraries. \n",
    "\n",
    "The `compiler` and `linker` will not find the `headers/libraries` unless you set **the appropriate options**\n",
    "\n",
    "* ** 1 Searching for Header Files**\n",
    "\n",
    "   **-Idir:** The include-paths are specified via **-Idir** option (`uppercase` 'I' followed by the directory path or environment variable **CPATH**). \n",
    "   \n",
    "   \n",
    "* **2 Searching for libraries Files**\n",
    "\n",
    "   **-Ldir**: The library-path is specified via **-Ldir** option (`uppercase` 'L' followed by the directory path(or environment variable **LIBRARY_PATH**). \n",
    "\n",
    "\n",
    "* **3 Linking the library**\n",
    "\n",
    "   ** -llibname**: Link with the library name `without` the `lib prefix` and the .so/.dll extensions.\n",
    "   \n",
    "       GCC assumes that all libraries \n",
    "   \n",
    "          `start` with `lib`\n",
    "\n",
    "          `end`  with `.dll`(windows) or `.so`(Linux)，\n",
    "\n",
    "so, Using **libfibonacci.dll:**\n",
    "\n",
    "```bash\n",
    " -I./code/gcc/ -L./code/gcc/ -lfibonacci\n",
    "```"
   ]
  },
  {
   "cell_type": "code",
   "execution_count": 61,
   "metadata": {},
   "outputs": [
    {
     "name": "stdout",
     "output_type": "stream",
     "text": [
      "Overwriting ./code/gcc/mainfibonacci.c\n"
     ]
    }
   ],
   "source": [
    "%%file ./code/gcc/mainfibonacci.c\n",
    "\n",
    "#include <stdio.h>  /* printf, NULL */\n",
    "#include <stdlib.h> /* calloc, exit, free */\n",
    "#include \"fibonacci.h\"\n",
    "\n",
    "int main() {\n",
    "\n",
    "    unsigned long *fib_cache;   // cache to store fibonacci numbers\n",
    "    \n",
    "    // cache initialization\n",
    "    fib_cache=(unsigned long *)calloc(CACHE_SIZE, sizeof(unsigned long));\n",
    "    \n",
    "    if(fib_cache==NULL) exit (1);\n",
    "   \n",
    "    int n=20;\n",
    "    printf(\"fib of %d = %lu\\n\", n,fibonacci(n, fib_cache));\n",
    "    free(fib_cache);\n",
    "   \n",
    "    return 0;\n",
    "\n",
    "}"
   ]
  },
  {
   "cell_type": "markdown",
   "metadata": {},
   "source": [
    ">  ** void* calloc (size_t num, size_t size);**\n",
    "\n",
    "> Allocate and zero-initialize array\n",
    "\n",
    "> Allocates a block of memory for an array of num elements, each of them size bytes long, and initializes all its bits to zero.\n",
    "\n",
    "> The effective result is the allocation of a **zero-initialized** memory block of (num*size) bytes."
   ]
  },
  {
   "cell_type": "code",
   "execution_count": 62,
   "metadata": {},
   "outputs": [],
   "source": [
    "!gcc -c -o mainfibonacci.o ./code/gcc/mainfibonacci.c \n",
    "!gcc -o  ./code/gcc/mainfibonacci.exe mainfibonacci.o -I./code/gcc/ -L./code/gcc/ -lfibonacci"
   ]
  },
  {
   "cell_type": "code",
   "execution_count": 63,
   "metadata": {},
   "outputs": [
    {
     "name": "stdout",
     "output_type": "stream",
     "text": [
      "Overwriting makefile\n"
     ]
    }
   ],
   "source": [
    "%%file makefile\n",
    "\n",
    "all: mainfibonacci.exe\n",
    "\n",
    "clean:\n",
    "\tdel .\\code\\gcc\\mainfibonacci.exe\n",
    "\n",
    "mainfibonacci.exe: mainfibonacci.o ./code/gcc/fibonacci.h \n",
    "\tgcc -o ./code/gcc/mainfibonacci mainfibonacci.o -I./code/gcc/ -L./code/gcc/ -lfibonacci\n",
    "\tdel *.o\n",
    "\n",
    "mainfibonacci.o: ./code/gcc/mainfibonacci.c \n",
    "\tgcc -c ./code/gcc/mainfibonacci.c "
   ]
  },
  {
   "cell_type": "code",
   "execution_count": 64,
   "metadata": {},
   "outputs": [
    {
     "name": "stdout",
     "output_type": "stream",
     "text": [
      "gcc -o ./code/gcc/mainfibonacci mainfibonacci.o -I./code/gcc/ -L./code/gcc/ -lfibonacci\n",
      "del *.o\n"
     ]
    }
   ],
   "source": [
    "!make"
   ]
  },
  {
   "cell_type": "code",
   "execution_count": 65,
   "metadata": {},
   "outputs": [
    {
     "name": "stdout",
     "output_type": "stream",
     "text": [
      "fib of 20 = 10946\n"
     ]
    }
   ],
   "source": [
    "!.\\code\\gcc\\mainfibonacci"
   ]
  },
  {
   "cell_type": "markdown",
   "metadata": {},
   "source": [
    "## Reference\n",
    "\n",
    "* Fibonacci number https://en.wikipedia.org/wiki/Fibonacci_number\n",
    "\n",
    "* MinGW-W64 (GCC) Compiler Suite: http://www.mingw-w64.org/doku.php\n",
    "\n",
    "* GCC (GNU compilers) http://gcc.gnu.org\n",
    "\n",
    "* GCC Manual  http://gcc.gnu.org/onlinedocs\n",
    "\n",
    "* An Introduction to GCC  http://www.network-theory.co.uk/docs/gccintro/index.html.\n",
    "\n",
    "* GCC and Make：Compiling, Linking and Building C/C++ Applications http://www3.ntu.edu.sg/home/ehchua/programming/cpp/gcc_make.html\n",
    "\n",
    "* C/C++ for VS Code https://code.visualstudio.com/docs/languages/cpp\n",
    "\n",
    "* Simple Unit Testing for C：https://github.com/ThrowTheSwitch/Unity"
   ]
  },
  {
   "cell_type": "code",
   "execution_count": null,
   "metadata": {},
   "outputs": [],
   "source": []
  }
 ],
 "metadata": {
  "kernelspec": {
   "display_name": "Python 3",
   "language": "python",
   "name": "python3"
  },
  "language_info": {
   "codemirror_mode": {
    "name": "ipython",
    "version": 3
   },
   "file_extension": ".py",
   "mimetype": "text/x-python",
   "name": "python",
   "nbconvert_exporter": "python",
   "pygments_lexer": "ipython3",
   "version": "3.5.4"
  },
  "widgets": {
   "state": {},
   "version": "1.1.2"
  }
 },
 "nbformat": 4,
 "nbformat_minor": 1
}
