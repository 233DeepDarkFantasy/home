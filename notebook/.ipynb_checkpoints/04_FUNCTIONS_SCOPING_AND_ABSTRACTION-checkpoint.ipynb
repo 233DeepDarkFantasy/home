{
 "cells": [
  {
   "cell_type": "markdown",
   "metadata": {
    "slideshow": {
     "slide_type": "-"
    }
   },
   "source": [
    "# 4 FUNCTIONS, SCOPING, AND ABSTRACTION\n",
    "So far, we have introduced <b>numbers</b>, <b>assignments</b>, <b>input/output</b>, <b>comparisons</b>,and <b>looping constructs</b>. \n",
    "\n",
    "How powerful is this subset of Python? In a theoretical sense, it is as powerful as you will ever need. Such languages are called **Turing  complete.** \n",
    "\n",
    "> This means that if a problem can be solved via computation, it can be solved using only those statements you have already seen."
   ]
  },
  {
   "cell_type": "code",
   "execution_count": null,
   "metadata": {},
   "outputs": [],
   "source": [
    "#Page 34, figure 4.1 - bisection\n",
    "x = 25\n",
    "epsilon = 0.01\n",
    "numGuesses = 0\n",
    "\n",
    "low = 0.0\n",
    "high = max(1.0, x)   # build-in function\n",
    "\n",
    "ans = (high + low)/2.0\n",
    "while abs(ans**2 - x) >= epsilon:\n",
    "    numGuesses += 1\n",
    "    if ans**2 < x:\n",
    "        low = ans\n",
    "    else:\n",
    "        high = ans\n",
    "    ans = (high + low)/2.0\n",
    "\n",
    "print('numGuesses =', numGuesses)\n",
    "print(ans, 'is close to square root of', x)"
   ]
  },
  {
   "cell_type": "markdown",
   "metadata": {},
   "source": [
    "This is a reasonable piece of code, but it lacks **general** utility. \n",
    "\n",
    "It works only for values denoted by the variables x and epsilon. \n",
    "\n",
    ">This means that if we want to reuse it, we need to copy the code, possibly edit the variable names, and paste it where we want it.\n",
    "\n",
    "Python provides several linguistic features that make it relatively easy to <b style=\"color:blue\">generalize and reuse </b>code. \n",
    "\n",
    "The most important is the <b style=\"color:blue\">function</b>"
   ]
  },
  {
   "cell_type": "markdown",
   "metadata": {},
   "source": [
    "## 4.1 Functions and Scoping\n",
    "\n",
    "### 4.1.1 Function Definitions\n",
    "In Python each function definition is of the form：\n",
    "```python\n",
    "def nameoffunction (list_of_formal_parameters):\n",
    "                    body of function \n",
    "```"
   ]
  },
  {
   "cell_type": "code",
   "execution_count": null,
   "metadata": {},
   "outputs": [],
   "source": [
    "def fmax(x, y):    # max->fmax max: built-in function\n",
    "    if x > y:\n",
    "        return x\n",
    "    else:\n",
    "        return y   "
   ]
  },
  {
   "cell_type": "markdown",
   "metadata": {},
   "source": [
    "The sequence of names (x,y in this example) within the parentheses following the function name are the<b> formal parameters</b>of the function.\n",
    "\n",
    "When the function is used, the formal parameters are bound (as in an assignment statement) to the <b>actual parameters</b> (often referred to as arguments) of the function invocation (also referred to as a function call)."
   ]
  },
  {
   "cell_type": "code",
   "execution_count": null,
   "metadata": {},
   "outputs": [],
   "source": [
    "fmax(3, 4)"
   ]
  },
  {
   "cell_type": "markdown",
   "metadata": {},
   "source": [
    "### Lambdas\n",
    "\n",
    "**Parameters** provide something called **lambda abstraction**, allowing programmers to write code that manipulates not specific objects, but instead whatever objects the caller of the function chooses to use as actual parameters.\n",
    "\n",
    "> The Python Language Reference ：6.13 Lambdas"
   ]
  },
  {
   "cell_type": "code",
   "execution_count": null,
   "metadata": {},
   "outputs": [],
   "source": [
    "adder = lambda x, y: x+y\n",
    "print(adder(3,6))"
   ]
  },
  {
   "cell_type": "markdown",
   "metadata": {},
   "source": [
    "### bisection Function"
   ]
  },
  {
   "cell_type": "code",
   "execution_count": null,
   "metadata": {},
   "outputs": [],
   "source": [
    "def bisection(func,low,high,k,epsilon):\n",
    "    ans = (high + low)/2.0\n",
    "    numGuesses = 0\n",
    "    while abs(func(ans,k)) >= epsilon:\n",
    "        numGuesses += 1\n",
    "        if ans**2 < k:\n",
    "            low = ans\n",
    "        else:\n",
    "            high = ans\n",
    "        ans = (high + low)/2.0\n",
    "    return ans,numGuesses"
   ]
  },
  {
   "cell_type": "code",
   "execution_count": null,
   "metadata": {},
   "outputs": [],
   "source": [
    "def func1(x,k):\n",
    "    return x**2-k\n",
    "\n",
    "k = 25\n",
    "epsilon = 0.01\n",
    "low = 0.0\n",
    "high = max(1.0, k)   # build-in function\n",
    "\n",
    "ans,numGuesses=bisection(func1,low,high,k,epsilon)\n",
    "print('numGuesses =', numGuesses)\n",
    "print(ans, 'is close to square root of', k)"
   ]
  },
  {
   "cell_type": "markdown",
   "metadata": {
    "collapsed": true
   },
   "source": [
    "### 4.1.2 Keyword Arguments and Default Values\n",
    "\n",
    "In Python, there are <b>two ways</b> that <b>formal parameters</b> get bound to <b>actual parameters</b>.\n",
    "\n",
    "* **1** <b style=\"color:blue\">Positional</b>, the **first** formal parameter is bound to the **first** actual parameter, the second formal to the second actual, etc.\n",
    "\n",
    "\n",
    "* **2**  <b style=\"color:blue\">Keyword arguments</b>, in which formals are bound to actuals using the **name** of the formal parameter."
   ]
  },
  {
   "cell_type": "code",
   "execution_count": null,
   "metadata": {},
   "outputs": [],
   "source": [
    "def printName(firstName, lastName, reverse):\n",
    "    if reverse:\n",
    "        print(lastName + ', ' + firstName)\n",
    "    else:\n",
    "        print(firstName, lastName)"
   ]
  },
  {
   "cell_type": "code",
   "execution_count": null,
   "metadata": {},
   "outputs": [],
   "source": [
    "printName('Olga', 'Puchmajerova', False)   # positional\n",
    "\n",
    "printName('Olga', 'Puchmajerova', reverse = False)  # positional,keyword argument\n",
    "\n",
    "# positional,keyword argument,keyword argument\n",
    "printName('Olga', lastName = 'Puchmajerova', reverse = False) \n",
    "\n",
    "printName(lastName='Puchmajerova', firstName='Olga', reverse=False)# all keyword argument"
   ]
  },
  {
   "cell_type": "markdown",
   "metadata": {
    "collapsed": true
   },
   "source": [
    "the **keyword arguments** can appear in **any order** in the list of actual parameters, \n",
    "\n",
    "It is<b style=\"color:blue\"> not legal to follow a keyword argument with a non-keyword argument</b>."
   ]
  },
  {
   "cell_type": "code",
   "execution_count": null,
   "metadata": {},
   "outputs": [],
   "source": [
    "printName('Olga', lastName = 'Puchmajerova',False) # False : a non-keyword argument."
   ]
  },
  {
   "cell_type": "markdown",
   "metadata": {},
   "source": [
    "<b>Keyword arguments</b> are commonly used in conjunction with <b>default parameter values</b>. "
   ]
  },
  {
   "cell_type": "code",
   "execution_count": null,
   "metadata": {},
   "outputs": [],
   "source": [
    "def printName(firstName, lastName, reverse = False): # reverse = False: default parameter values\n",
    "    if reverse:\n",
    "        print(lastName + ', ' + firstName)\n",
    "    else:\n",
    "        print(firstName, lastName)"
   ]
  },
  {
   "cell_type": "code",
   "execution_count": null,
   "metadata": {},
   "outputs": [],
   "source": [
    "printName('Olga', 'Puchmajerova')  # reverse = False: default parameter values\n",
    "\n",
    "printName('Olga', 'Puchmajerova', True)  # positional\n",
    "\n",
    "# keyword : providing some documentation about True \n",
    "printName('Olga', 'Puchmajerova', reverse = True) "
   ]
  },
  {
   "cell_type": "markdown",
   "metadata": {},
   "source": [
    "The last two invocations of printName are semantically equivalent. \n",
    "\n",
    "The last one has <b>the advantage of providing some documentation </b>for the perhaps mysterious parameter True.\n",
    "\n",
    "```python\n",
    " reverse = True\n",
    "```"
   ]
  },
  {
   "cell_type": "markdown",
   "metadata": {},
   "source": [
    "## 4.5 Modules\n",
    "\n",
    "Python modules allow us to easily construct a program from code in **multiple files**.\n",
    "\n",
    "A **module** is **a `.py` file** containing Python definitions and statements.\n",
    "\n",
    "For example, a file <b>circle.py</b> containing"
   ]
  },
  {
   "cell_type": "code",
   "execution_count": null,
   "metadata": {},
   "outputs": [],
   "source": [
    "%%file circle.py \n",
    "\n",
    "pi = 3.14159  # executable statements \n",
    "\n",
    "def area(radius):  # function definitions.\n",
    "    return pi*(radius**2)\n",
    "\n",
    "def circumference(radius):\n",
    "    return 2*pi*radius\n",
    "\n",
    "def sphereSurface(radius):\n",
    "    return 4.0*area(radius)\n",
    "\n",
    "def sphereVolume(radius):\n",
    "    return (4.0/3.0)*pi*(radius**3)"
   ]
  },
  {
   "cell_type": "markdown",
   "metadata": {},
   "source": [
    "A program gets access to a module through an <b>import</b> statement"
   ]
  },
  {
   "cell_type": "code",
   "execution_count": null,
   "metadata": {},
   "outputs": [],
   "source": [
    "#Page 52\n",
    "import circle\n",
    "\n",
    "print(circle.pi)\n",
    "print(circle.area(3))\n",
    "print(circle.circumference(3))\n",
    "print(circle.sphereSurface(3))"
   ]
  },
  {
   "cell_type": "markdown",
   "metadata": {},
   "source": [
    "Executing \n",
    "\n",
    "<b>import M</b> creates <b>a binding for module M</b>,\n",
    "\n",
    "in the importing context,we use **dot** notation to indicate that we are referring to a name defined in the imported module\n",
    "\n",
    "<p>The use of <b>dot notation</b> to fully qualify names avoids the possibility of getting burned by an accidental name clash.\n",
    "```python\n",
    "circle.pi\n",
    "```"
   ]
  },
  {
   "cell_type": "code",
   "execution_count": null,
   "metadata": {},
   "outputs": [],
   "source": [
    "import circle\n",
    "pi=3.0\n",
    "print(circle.pi)  # dot notation\n",
    "print(pi)"
   ]
  },
  {
   "cell_type": "markdown",
   "metadata": {},
   "source": [
    "There is a variant of the import statement that allows the importing program to\n",
    "\n",
    "<b>omit the module name</b> \n",
    "\n",
    "when accessing names defined inside the imported module. \n",
    "\n",
    "<p>Executing the statement \n",
    "\n",
    "```python\n",
    "from M import *\n",
    "```\n",
    "\n",
    "creates <b>bindings</b> in the current scope <b>to all objects </b>defined within M, but <b>not to M itself</b>. "
   ]
  },
  {
   "cell_type": "code",
   "execution_count": null,
   "metadata": {},
   "outputs": [],
   "source": [
    "from circle import *\n",
    "\n",
    "print(pi)   # import *  bindings in the current scope to all objects defined within M\n",
    "print(circle.pi)"
   ]
  },
  {
   "cell_type": "markdown",
   "metadata": {},
   "source": [
    "We put bisection function into the file of `findingroot.py` "
   ]
  },
  {
   "cell_type": "code",
   "execution_count": null,
   "metadata": {},
   "outputs": [],
   "source": [
    "%%file findingroot.py\n",
    "\n",
    "def bisection(func,low,high,k,epsilon):\n",
    "    ans = (high + low)/2.0\n",
    "    numGuesses = 0\n",
    "    while abs(func(ans,k)) >= epsilon:\n",
    "        numGuesses += 1\n",
    "        if ans**2 < k:\n",
    "            low = ans\n",
    "        else:\n",
    "            high = ans\n",
    "        ans = (high + low)/2.0\n",
    "    return ans,numGuesses"
   ]
  },
  {
   "cell_type": "markdown",
   "metadata": {},
   "source": [
    "A program gets access to ```findingroot``` module through an import statement."
   ]
  },
  {
   "cell_type": "code",
   "execution_count": null,
   "metadata": {},
   "outputs": [],
   "source": [
    "import findingroot\n",
    "\n",
    "def func(x,k):\n",
    "    return x**2-k\n",
    "\n",
    "k = 25\n",
    "epsilon = 0.01\n",
    "low = 0.0\n",
    "high = max(1.0, k)   # build-in function\n",
    "\n",
    "ans,numGuesses=findingroot.bisection(func,low,high,k,epsilon)\n",
    "print('numGuesses =', numGuesses)\n",
    "print(ans, 'is close to square root of', k)"
   ]
  },
  {
   "cell_type": "code",
   "execution_count": null,
   "metadata": {},
   "outputs": [],
   "source": [
    "from findingroot import *\n",
    "\n",
    "k = 25\n",
    "epsilon = 0.01\n",
    "low = 0.0\n",
    "high = max(1.0, k)   # build-in function\n",
    "\n",
    "ans,numGuesses=bisection(func,low,high,k,epsilon)\n",
    "print('numGuesses =', numGuesses)\n",
    "print(ans, 'is close to square root of', k)\n"
   ]
  },
  {
   "cell_type": "code",
   "execution_count": null,
   "metadata": {},
   "outputs": [],
   "source": [
    "from findingroot import bisection\n",
    "\n",
    "k = 25\n",
    "epsilon = 0.01\n",
    "low = 0.0\n",
    "high = max(1.0, k)   # build-in function\n",
    "\n",
    "ans,numGuesses=bisection(func,low,high,k,epsilon)\n",
    "print('numGuesses =', numGuesses)\n",
    "print(ans, 'is close to square root of', k)"
   ]
  },
  {
   "cell_type": "markdown",
   "metadata": {},
   "source": [
    "### Further Reading:\n",
    "\n",
    "#### 1 Python Tutorial: Chapter 6 :MODULES\n",
    "\n",
    "#### 2 Scipy Optimization and root finding (scipy.optimize):Root finding\n",
    "\n",
    "* 1  http://docs.scipy.org/doc/scipy/reference/generated/scipy.optimize.bisect.html#scipy.optimize.bisect\n",
    "    \n",
    "* 2  http://docs.scipy.org/doc/scipy/reference/generated/scipy.optimize.newton.html#scipy.optimize.newton"
   ]
  },
  {
   "cell_type": "code",
   "execution_count": null,
   "metadata": {},
   "outputs": [],
   "source": [
    "# scipy.optimize.bisect(f, a, b, args=(),\n",
    "#                xtol=1e-12, rtol=4.4408920985006262e-16, \n",
    "#                maxiter=100, full_output=False, disp=True)\n",
    "\n",
    "import scipy.optimize as optimize\n",
    "import math\n",
    "\n",
    "def func(x,k):\n",
    "    return x**2-k\n",
    " \n",
    "k=123456789\n",
    "    \n",
    "low=0\n",
    "high=k\n",
    "\n",
    "x0=optimize.bisect(func, low, high,(k,),full_output=True)\n",
    "print(x0)"
   ]
  },
  {
   "cell_type": "code",
   "execution_count": null,
   "metadata": {},
   "outputs": [],
   "source": [
    "x0=optimize.bisect(func,low, high,(k,),maxiter=5)\n",
    "print(x0)"
   ]
  },
  {
   "cell_type": "code",
   "execution_count": null,
   "metadata": {},
   "outputs": [],
   "source": [
    "# scipy.optimize.newton(func, x0, fprime=None, args=(), tol=1.48e-08, maxiter=50, fprime2=None)\n",
    "\n",
    "import scipy.optimize as optimize\n",
    "\n",
    "def func(x,k):\n",
    "    return x**2-k\n",
    "\n",
    "def fprime(x,k):\n",
    "    return 2*x\n",
    " \n",
    "k=24.0\n",
    "low=0\n",
    "high=k\n",
    "x0=(low+high)/2.0\n",
    "\n",
    "zero=optimize.newton(func, x0, fprime,args=(k,))\n",
    "print(zero)"
   ]
  },
  {
   "cell_type": "markdown",
   "metadata": {},
   "source": [
    "### 4.1.3 Scoping"
   ]
  },
  {
   "cell_type": "code",
   "execution_count": null,
   "metadata": {},
   "outputs": [],
   "source": [
    "def f(x): # name x used as formal parameter\n",
    "    y = 1   # y local variable\n",
    "    \n",
    "    x = x + y   # local name in ：x\n",
    "    \n",
    "    print('x in f=', x,'\\n')\n",
    "    return x"
   ]
  },
  {
   "cell_type": "code",
   "execution_count": null,
   "metadata": {},
   "outputs": [],
   "source": [
    "x = 3\n",
    "y = 2\n",
    "\n",
    "z = f(x) #value of x used as actual parameter\n",
    "\n",
    "print('z =', z)\n",
    "print('x =', x)\n",
    "print('y =', y)"
   ]
  },
  {
   "cell_type": "markdown",
   "metadata": {},
   "source": [
    "<p>Each function defines <b>a new name space</b>, also called <b>a scope</b>.\n",
    "\n",
    "<p>Here’s one way to think about this:\n",
    "<ul>\n",
    "<li><b>At top level</b>: a symbol table-> all names defined at that level and their current bindings.\n",
    "<li>When <b>a function is called</b>, a new symbol table( a <b>stack frame</b>) is created.\n",
    "    all names defined within the  function (including the formal parameters) and their current bindings. \n",
    "<li>When the <b>function completes</b>, its <b>stack frame goes away</b>.\n",
    "</ul>"
   ]
  },
  {
   "cell_type": "code",
   "execution_count": null,
   "metadata": {},
   "outputs": [],
   "source": [
    "def f(x):\n",
    "   \n",
    "    def g():\n",
    "        x = 'abc'   # x local \n",
    "        print('local x_in_g=', x,'\\n')\n",
    "   \n",
    "    def h():\n",
    "        z = x      #  x: up level      \n",
    "        print('local z_in_h', z,'\\n')\n",
    "        print('up level x_in_f', x,'\\n')  \n",
    "  \n",
    "    x = x + 1           \n",
    "    print('local x_in_f', x,'\\n') \n",
    "    \n",
    "    h()                 \n",
    "    g()                \n",
    "    \n",
    "    print('local x_in_f after h,g call=', x,'\\n') \n",
    "    \n",
    "    return g  # functions are objects, and can be returned just"
   ]
  },
  {
   "cell_type": "markdown",
   "metadata": {},
   "source": [
    "A name is added to the scope associated with a function, only if that name is \n",
    "<ul>\n",
    "<li> a formal parameter of the function \n",
    "<li> a variable that is bound to an object within the body of the function. \n",
    "</ul>"
   ]
  },
  {
   "cell_type": "code",
   "execution_count": null,
   "metadata": {},
   "outputs": [],
   "source": [
    "x = 3  \n",
    "z = f(x)\n",
    "print('top level x=', x,'\\n')\n",
    "\n",
    "print('z =', z)\n",
    "z()  # function g  is object,  be returned just"
   ]
  },
  {
   "cell_type": "markdown",
   "metadata": {},
   "source": [
    "The <b>order</b> in which references to a name occur is <b>not germane</b>. \n",
    "<p>\n",
    "If an object is bound to a name anywhere in the function body (even if it occurs in an expression before it appears as the left-hand-side of an assignment), it is treated as local to that function.\n"
   ]
  },
  {
   "cell_type": "code",
   "execution_count": null,
   "metadata": {},
   "outputs": [],
   "source": [
    "def f():\n",
    "    print('up level:', x)\n",
    "\n",
    "def g0():\n",
    "    x = 1 #  local x\n",
    "    print('local x,',x) \n",
    "\n",
    "# an error message is printed when it encounters the print statement in g\n",
    "# because the assignment statement following the print statement causes x to be local to g.\n",
    "def g():\n",
    "    print(x) #  x to be local to g\n",
    "    x = 1 \n",
    "    #  assignment statement following the print statement causes x to be local to g\n",
    "    #  The order is not germane,so x in print(x) to be local to g"
   ]
  },
  {
   "cell_type": "code",
   "execution_count": null,
   "metadata": {},
   "outputs": [],
   "source": [
    "x = 3\n",
    "f()\n",
    "\n",
    "x = 3\n",
    "g0()\n",
    "\n",
    "x = 3\n",
    "g()"
   ]
  },
  {
   "cell_type": "markdown",
   "metadata": {
    "collapsed": true
   },
   "source": [
    "<b>Most of the time</b> you will find that you only want to use <b>variables that are local to a function</b>, and the subtleties of scoping will be irrelevant."
   ]
  },
  {
   "cell_type": "markdown",
   "metadata": {},
   "source": [
    "## 4.2 Specifications \n",
    "\n",
    "* <b>findRoot</b>： generalizes the bisection search we used to find square roots in Figure 4.1.\n",
    "\n",
    "* <p><b>testFindRoot</b>： can be used to test whether or not findRoot works as intended.\n"
   ]
  },
  {
   "cell_type": "markdown",
   "metadata": {},
   "source": [
    "<b style=\"color:blue\">specification</b> of a function defines a <b style=\"color:blue\">contract</b> \n",
    "\n",
    "between\n",
    "\n",
    "the <b>implementer</b> of a function\n",
    "\n",
    "and \n",
    "\n",
    "those who　(<b>user－client</b>)　will be writing programs that use the function.\n",
    "\n",
    "This contract can be thought of as　containing <b>two parts</b>：\n",
    "<ol>\n",
    "<li><b>Assumptions</b>: These describe conditions that must be <b>met by clients</b> of the function.\n",
    "<li><b>Guarantees</b>: These describe conditions that must be <b>met by the function</b>,provided that it has been called in a way that satisfies the assumptions.\n",
    "</ol>\n"
   ]
  },
  {
   "cell_type": "code",
   "execution_count": null,
   "metadata": {},
   "outputs": [],
   "source": [
    "#Page 42, Figure 4.5\n",
    "def findRoot(x, power, epsilon):\n",
    "    \"\"\"Assumes x and epsilon int or float, power an int,\n",
    "           epsilon > 0 & power >= 1\n",
    "       Returns float y such that y**power is within epsilon of x.\n",
    "           If such a float does not exist, it returns None\"\"\"\n",
    "   \n",
    "    if x < 0 and power%2 == 0:   # even power, x>=0\n",
    "        return None\n",
    "    \n",
    "    low = min(-1.0, x)\n",
    "    high = max(1.0, x)\n",
    "    \n",
    "    ans = (high + low)/2.0\n",
    "  \n",
    "    while abs(ans**power - x) >= epsilon:\n",
    "        \n",
    "        if ans**power < x:\n",
    "            low = ans\n",
    "        else:\n",
    "            high = ans\n",
    "      \n",
    "        ans = (high + low)/2.0\n",
    "        \n",
    "        print('root range[ %f, %f ], ans= %f' %(low,high,ans))\n",
    "        \n",
    "    return ans\n",
    "\n",
    "def testFindRoot():\n",
    "    epsilon = 0.0001\n",
    "    for x in (0.25, -0.25, 2, -2, 8, -8):\n",
    "        \n",
    "        for power in range(1, 4):\n",
    "            \n",
    "            print('\\nTesting x = ' + str(x) +\n",
    "                  ' and power = ' + str(power))   \n",
    "            \n",
    "            result = findRoot(x, power, epsilon)\n",
    "            \n",
    "            if result == None:\n",
    "                print( '   No root')\n",
    "            else:\n",
    "                print('result = ',result)\n",
    "                print(result**power, '~=', x)"
   ]
  },
  {
   "cell_type": "markdown",
   "metadata": {},
   "source": [
    "The <b>specification of findRoot is an abstraction of all the possible　implementations</b> that meet the specification. \n",
    "\n",
    "Clients of findRoot can assume that the implementation meets the specification, but they should assume　nothing more.\n",
    "\n",
    "findRoot(4.0, 2, 0.01）returns some value whose square is between 3.99 and　4.01."
   ]
  },
  {
   "cell_type": "code",
   "execution_count": null,
   "metadata": {},
   "outputs": [],
   "source": [
    "r=findRoot(4.0, 2, 0.01)\n",
    "print('root=',r)\n",
    "print('root**2=',r**2)"
   ]
  },
  {
   "cell_type": "markdown",
   "metadata": {},
   "source": [
    "findRoot(4.0, 2, 0.01）returns some value whose square is between 3.99 and　4.01."
   ]
  },
  {
   "cell_type": "markdown",
   "metadata": {},
   "source": [
    "we would like to have the equivalent of a built-in function for finding roots and for many other complex operations.\n",
    "\n",
    "**Functions** facilitate this by providing **decomposition** and **abstraction**.\n",
    "\n",
    "**Decomposition**  creates structure. It allows us to <b>break a problem into modules</b>　that are reasonably self-contained, and that may be reused in different settings.\n",
    "\n",
    "**Abstraction** hides detail. It allows us to use a piece of code as if it were **a black　box**—that is, something whose interior details we cannot see, don’t need to see,and shouldn’t even want to see.\n",
    "\n",
    "\n",
    "####  This is the way organizations go about using teams of programmers to get things　done.\n",
    "\n",
    "* **Given a specification of a module**, a programmer can work on implementing that module without worrying unduly about what the other　programmers on the team are doing.\n",
    "\n",
    "\n",
    "* Moreover, the **other programmers** can use　the specification to start writing code that uses that module without worrying unduly about how that module is to be implemented."
   ]
  },
  {
   "cell_type": "markdown",
   "metadata": {
    "collapsed": true
   },
   "source": [
    "**testFindRoot:** Experienced programmers know, however, that an **investment** in writing **testing code** often pays big dividends "
   ]
  },
  {
   "cell_type": "code",
   "execution_count": null,
   "metadata": {},
   "outputs": [],
   "source": [
    "testFindRoot()"
   ]
  },
  {
   "cell_type": "markdown",
   "metadata": {},
   "source": [
    "## docstring \n",
    "\n",
    "The text between the **triple** quotation marks** is called a **docstring** in Python.\n",
    "\n",
    "```python\n",
    "\"\"\"\n",
    "quotation marks\n",
    "docstring\n",
    "\"\"\"\n",
    "```\n",
    "or\n",
    "```python\n",
    "\"\"\"  quotation marks     \"\"\"\n",
    "```\n",
    "A string literal which appears as <b  style=\"color:blue\">the first expression</b> in a function,module or class. \n",
    "\n",
    "By convention, Python programmers use **docstrings** to provide **specifications of functions**.\n",
    "\n",
    "These **docstrings** can be **accessed** \n",
    "\n",
    "* 1 using the built-in function **help**\n",
    "\n",
    "\n",
    "* 2 it is recognized by the compiler and put into the \n",
    "\n",
    "```python\n",
    "\n",
    "__doc__  \n",
    "\n",
    "```\n",
    "attribute of the enclosing class, function or module.\n"
   ]
  },
  {
   "cell_type": "raw",
   "metadata": {
    "collapsed": true
   },
   "source": [
    "help(abs)"
   ]
  },
  {
   "cell_type": "code",
   "execution_count": null,
   "metadata": {},
   "outputs": [],
   "source": [
    "help(findRoot)"
   ]
  },
  {
   "cell_type": "code",
   "execution_count": null,
   "metadata": {},
   "outputs": [],
   "source": [
    "print(findRoot.__doc__)"
   ]
  },
  {
   "cell_type": "markdown",
   "metadata": {},
   "source": [
    "## Further Reading\n",
    "\n",
    "* Python Toturial 4.7.6 : Documentation Strings            https://docs.python.org/3/tutorial/controlflow.html#documentation-strings\n",
    "\n",
    "\n",
    "* **PEP0257** - Docstring Convention \n",
    " https://www.python.org/dev/peps/pep-0257/"
   ]
  },
  {
   "cell_type": "markdown",
   "metadata": {},
   "source": [
    "## 4.3 Recursion\n",
    "\n",
    "### 4.3.1 Fibonacci Numbers\n",
    "\n",
    "The Fibonacci sequence is the common mathematical function that is usually defined recursively.\n",
    "\n",
    "“They breed like **rabbits**,” -The growth in population is described naturally by the **recurrence:**\n",
    "```bash    \n",
    "females(0) =1\n",
    "\n",
    "females(1) = 1\n",
    "\n",
    "females(n + 2) = females(n+1) + females(n）\n",
    "```\n"
   ]
  },
  {
   "cell_type": "code",
   "execution_count": null,
   "metadata": {},
   "outputs": [],
   "source": [
    "#Page 47, Figure 4.7\n",
    "def fib(n):\n",
    "    \"\"\"Assumes n an int >= 0\n",
    "       Returns Fibonacci of n\"\"\"\n",
    "    if n == 0 or n == 1:\n",
    "        return 1\n",
    "    else:\n",
    "        return fib(n-1) + fib(n-2)\n",
    "\n",
    "def testFib(n):\n",
    "    for i in range(n+1):\n",
    "        print( 'fib of', i, '=', fib(i))"
   ]
  },
  {
   "cell_type": "code",
   "execution_count": null,
   "metadata": {},
   "outputs": [],
   "source": [
    "testFib(12)"
   ]
  },
  {
   "cell_type": "markdown",
   "metadata": {},
   "source": [
    "## 4.4 Global Variables\n",
    "\n",
    "Until now, all of the <b>functions</b> we have written <b>communicate</b> with their environment **solely** through \n",
    "\n",
    "**their parameters** and **return values**. \n",
    "\n",
    "```python\n",
    "\n",
    "def yourfunction(their parameters)\n",
    "    code body\n",
    "    \n",
    "    return yourvalues\n",
    "```\n",
    "For the most part, this is exactly as **it should be**.\n",
    "\n",
    "It typically leads to programs that are relatively **easy to read, test, and debug**\n",
    "\n",
    "The **key** to making programs **readable** is **locality**. \n",
    "\n",
    "---\n",
    "Nevertheless, there are times when they are just what is needed.\n",
    "\n",
    "Suppose we want to know **how many recursive calls** are made? \n",
    "\n",
    "* One way to do that uses **global variables**\n",
    "\n",
    "\n",
    "The functions **fib** and **testFib** both have unfettered access to the object referenced by the variable **numFibCalls**.\n",
    "\n",
    "Global **numFibCalls** occurs in both **fib** and **testFib**. "
   ]
  },
  {
   "cell_type": "code",
   "execution_count": null,
   "metadata": {},
   "outputs": [],
   "source": [
    "#Page 51, Figure 4.10\n",
    "\n",
    "numFibCalls=0\n",
    "\n",
    "def fib(x):\n",
    "    \"\"\"Assumes x an int >= 0\n",
    "       Returns Fibonacci of x\"\"\"\n",
    "    \n",
    "    global numFibCalls\n",
    "    \n",
    "    numFibCalls += 1\n",
    "    if x == 0 or x == 1:\n",
    "        return 1\n",
    "    else:\n",
    "        return fib(x-1) + fib(x-2)\n",
    "\n",
    "def testFib(n):\n",
    "    \n",
    "    global numFibCalls\n",
    "    \n",
    "    for i in range(n+1):\n",
    "        numFibCalls = 0\n",
    "        print('fib of', i, '=', fib(i))\n",
    "        print('fib called', numFibCalls, 'times.')"
   ]
  },
  {
   "cell_type": "code",
   "execution_count": null,
   "metadata": {},
   "outputs": [],
   "source": [
    "testFib(12)"
   ]
  },
  {
   "cell_type": "markdown",
   "metadata": {},
   "source": [
    "if we do not included the code **global numFibCalls** in **fib** and **testFib**, \n",
    "* the name `numFibCalls` is **local** to each of `fib` and `testFib`."
   ]
  },
  {
   "cell_type": "code",
   "execution_count": null,
   "metadata": {},
   "outputs": [],
   "source": [
    "#Page 51, Figure 4.10\n",
    "numFibCalls=0\n",
    "\n",
    "def fib(x):\n",
    "    \"\"\"Assumes x an int >= 0\n",
    "       Returns Fibonacci of x\"\"\"\n",
    "    #  global numFibCalls\n",
    "    numFibCalls += 1 # local in  fib\n",
    "    if x == 0 or x == 1:\n",
    "        return 1\n",
    "    else:\n",
    "        return fib(x-1) + fib(x-2)\n",
    "\n",
    "def testFib(n):\n",
    "    # global numFibCalls\n",
    "    for i in range(n+1):\n",
    "        numFibCalls = 0 # local in  testfib\n",
    "        print('fib of', i, '=', fib(i))\n",
    "        print('fib called', numFibCalls, 'times.')"
   ]
  },
  {
   "cell_type": "code",
   "execution_count": null,
   "metadata": {},
   "outputs": [],
   "source": [
    "testFib(12)"
   ]
  },
  {
   "cell_type": "markdown",
   "metadata": {},
   "source": [
    "## 4.6 Files\n",
    "\n",
    "Every computer system uses files to save things from one computation to the next.\n",
    "\n",
    "Python provides many facilities for creating and accessing files.\n",
    "\n",
    "Here we illustrate some of the basic ones:\n",
    "\n",
    "* **Writing**\n",
    "\n",
    "\n",
    "* **Reading**\n",
    "\n",
    "\n",
    "* **Appending**"
   ]
  },
  {
   "cell_type": "markdown",
   "metadata": {},
   "source": [
    "### 1  writing \n",
    "\n",
    "create a file with the name **kids.txt**,using the argument **w** to indicate that the file is to be opened for **writing**."
   ]
  },
  {
   "cell_type": "code",
   "execution_count": null,
   "metadata": {},
   "outputs": [],
   "source": [
    "nameHandle = open('kids.txt', 'w')\n",
    "for i in range(2):\n",
    "    name = input('Enter name: ')\n",
    "    nameHandle.write(name + '\\n') # the string '\\n' indicates a new line character.\n",
    "nameHandle.close()"
   ]
  },
  {
   "cell_type": "markdown",
   "metadata": {},
   "source": [
    "**name + '\\n'**: the string **'\\n'** indicates a **new line** character."
   ]
  },
  {
   "cell_type": "code",
   "execution_count": null,
   "metadata": {},
   "outputs": [],
   "source": [
    "!dir kids.txt"
   ]
  },
  {
   "cell_type": "code",
   "execution_count": null,
   "metadata": {},
   "outputs": [],
   "source": [
    "%load kids.txt"
   ]
  },
  {
   "cell_type": "markdown",
   "metadata": {
    "collapsed": true
   },
   "source": [
    "### 2 Reading\n",
    "\n",
    "open the file for **reading**,using the argument **'r'**"
   ]
  },
  {
   "cell_type": "code",
   "execution_count": null,
   "metadata": {},
   "outputs": [],
   "source": [
    "nameHandle = open('kids.txt', 'r')\n",
    "for line in nameHandle:\n",
    "    print(line)\n",
    "nameHandle.close()"
   ]
  },
  {
   "cell_type": "markdown",
   "metadata": {
    "collapsed": true
   },
   "source": [
    "you see **new line** between each name. Because\n",
    "\n",
    "```python \n",
    "\\n - new line\n",
    "\n",
    "print new line\n",
    "```\n",
    "\n",
    "We could have avoided printing that(**new line**) by writing print\n",
    "```python\n",
    "  line[:-1]\n",
    "```\n",
    "slicing line to delete **'\\n'** in each line for file. "
   ]
  },
  {
   "cell_type": "code",
   "execution_count": null,
   "metadata": {},
   "outputs": [],
   "source": [
    "nameHandle = open('kids.txt', 'r')\n",
    "for line in nameHandle:\n",
    "    print(line[:-1])  # print(line[:len(line)-1] \\n\n",
    "nameHandle.close()"
   ]
  },
  {
   "cell_type": "markdown",
   "metadata": {},
   "source": [
    "#### Writing and Reading"
   ]
  },
  {
   "cell_type": "code",
   "execution_count": null,
   "metadata": {},
   "outputs": [],
   "source": [
    "nameHandle = open('kids.txt', 'w')\n",
    "nameHandle.write('Michael\\n')\n",
    "nameHandle.write('Mark\\n')\n",
    "nameHandle.close()\n",
    "\n",
    "nameHandle = open('kids.txt', 'r')\n",
    "for line in nameHandle:\n",
    "    print(line[:-1])\n",
    "nameHandle.close()"
   ]
  },
  {
   "cell_type": "markdown",
   "metadata": {
    "collapsed": true
   },
   "source": [
    "### 3 Appending\n",
    "\n",
    "open the file for **appending** (instead of writing) by using the argument  **'a'**."
   ]
  },
  {
   "cell_type": "code",
   "execution_count": null,
   "metadata": {},
   "outputs": [],
   "source": [
    "nameHandle = open('kids.txt', 'a') # argument 'a' -  appending\n",
    "nameHandle.write('David\\n')\n",
    "nameHandle.write('Andrea\\n')\n",
    "nameHandle.close()\n",
    "\n",
    "nameHandle = open('kids.txt', 'r')\n",
    "for line in nameHandle:\n",
    "    print(line[:-1])\n",
    "nameHandle.close()"
   ]
  },
  {
   "cell_type": "markdown",
   "metadata": {},
   "source": [
    "### 4.7 Unicode HOWTO\n",
    "\n",
    "https://docs.python.org/3/howto/unicode.html\n",
    "    \n",
    "** Character Encoding**\n",
    "\n",
    "In computer memory, character are \"encoded\" (or \"represented\") using a chosen \"character encoding schemes\" (aka \"character set\", \"charset\", \"character map\", or \"code page\").\n",
    "   \n",
    "For example, in **ASCII** (American Standard Code for Information Interchange,as well as Latin1, Unicode, \n",
    "\n",
    "* code numbers 65D (41H) to 90D (5AH) represents 'A' to 'Z', respectively.\n",
    "\n",
    "* code numbers 97D (61H) to 122D (7AH) represents 'a' to 'z', respectively.\n",
    "\n",
    "* code numbers 48D (30H) to 57D (39H) represents '0' to '9', respectively.\n",
    "\n",
    "It is important to note that the **representation scheme must be known** before a binary pattern can be interpreted. E.g., the 8-bit pattern \"0100 0010B\" could represent anything.\n",
    "\n",
    "**Unicode:** ISO/IEC 10646 Universal Character Set\n",
    " \n",
    "Unicode encoding scheme could represent characters in **all languages**.\n",
    " \n",
    "This HOWTO discusses Python support for Unicode, and explains various problems that people commonly encounter when trying to work with Unicode.\n",
    "\n",
    "* Python’s Unicode Support\n",
    "\n",
    "* The String Type\n",
    "\n",
    "    Since **Python 3.0**, the language features a **str** type that contain **Unicode** characters, meaning any string created using \"unicode rocks!\", 'unicode rocks!', or the triple-quoted string syntax is stored as Unicode.\n",
    "    \n",
    "The default encoding for Python source code is **UTF-8**, so you can simply include a Unicode character in a string literal\n",
    "\n",
    "* Processing Text Files in Python 3\n",
    "\n",
    "   http://python-notes.curiousefficiency.org/en/latest/python3/text_file_processing.html\n",
    "   \n",
    "\n",
    "* **UTF-8** :Unicode Transformation Format - 8-bit\n",
    "\n",
    "  http://www3.ntu.edu.sg/home/ehchua/programming/java/DataRepresentation.html"
   ]
  },
  {
   "cell_type": "markdown",
   "metadata": {},
   "source": [
    "### 1 gbk"
   ]
  },
  {
   "cell_type": "code",
   "execution_count": null,
   "metadata": {},
   "outputs": [],
   "source": [
    "fname=\"./src/gbk.txt\"\n",
    "f = open(fname,'w',encoding=\"gbk\")\n",
    "f.write('中文-gbk')\n",
    "f.close()"
   ]
  },
  {
   "cell_type": "code",
   "execution_count": null,
   "metadata": {},
   "outputs": [],
   "source": [
    "f = open(fname,'r',encoding=\"utf-8\")\n",
    "line=f.readline()\n",
    "print(line)\n",
    "f.close()"
   ]
  },
  {
   "cell_type": "code",
   "execution_count": null,
   "metadata": {},
   "outputs": [],
   "source": [
    "f = open(fname,'r',encoding=\"gbk\")\n",
    "line=f.readline()\n",
    "print(line)\n",
    "f.close()"
   ]
  },
  {
   "cell_type": "markdown",
   "metadata": {},
   "source": [
    "#### 2 utf-8"
   ]
  },
  {
   "cell_type": "code",
   "execution_count": null,
   "metadata": {},
   "outputs": [],
   "source": [
    "fname=\"./src/utf-8.txt\"\n",
    "f = open(fname,'w',encoding=\"utf-8\")\n",
    "f.write('中文-utf-8')\n",
    "f.close()"
   ]
  },
  {
   "cell_type": "code",
   "execution_count": null,
   "metadata": {},
   "outputs": [],
   "source": [
    "f = open(fname,'r',encoding=\"gbk\")\n",
    "line=f.readline()\n",
    "print(line)\n",
    "f.close()"
   ]
  },
  {
   "cell_type": "code",
   "execution_count": null,
   "metadata": {},
   "outputs": [],
   "source": [
    "f = open(fname,'r',encoding=\"utf-8\")\n",
    "line=f.readline()\n",
    "print(line)\n",
    "f.close()"
   ]
  },
  {
   "cell_type": "markdown",
   "metadata": {},
   "source": [
    "#### 3 default encoding"
   ]
  },
  {
   "cell_type": "code",
   "execution_count": null,
   "metadata": {},
   "outputs": [],
   "source": [
    "fname=\"./src/default.txt\"\n",
    "f = open(fname,'w')\n",
    "f.write('中文default')\n",
    "f.close()"
   ]
  },
  {
   "cell_type": "code",
   "execution_count": null,
   "metadata": {},
   "outputs": [],
   "source": [
    "f = open(fname,'r')\n",
    "line=f.readline()\n",
    "print(line)\n",
    "f.close()"
   ]
  },
  {
   "cell_type": "markdown",
   "metadata": {},
   "source": [
    "### Further Reading\n",
    "\n",
    "* **Python Tutorial 7.2**. Reading and Writing Files  \n",
    "\n",
    "  * https://docs.python.org/3/tutorial/inputoutput.html#reading-and-writing-files\n",
    "  \n",
    "\n",
    "* J. M. Hughes. Real World Instrumentation with Python\n",
    "  * CHAPTER 12 Reading and Writing **Data Files**\n",
    "  \n",
    "   * [SUPL-1-Reading-and-Writing-Data-Files-Binary-Data-Files.ipynb](SUPL-1-Reading-and-Writing-Data-Files-Binary-Data-Files.ipynb)\n",
    "  \n",
    "\n",
    "* A Tutorial on **Data Representation** Integers, Floating-point Numbers, and  Characters\n",
    "  * http://www3.ntu.edu.sg/home/ehchua/programming/java/DataRepresentation.html"
   ]
  },
  {
   "cell_type": "code",
   "execution_count": null,
   "metadata": {},
   "outputs": [],
   "source": []
  }
 ],
 "metadata": {
  "kernelspec": {
   "display_name": "Python 3",
   "language": "python",
   "name": "python3"
  },
  "language_info": {
   "codemirror_mode": {
    "name": "ipython",
    "version": 3
   },
   "file_extension": ".py",
   "mimetype": "text/x-python",
   "name": "python",
   "nbconvert_exporter": "python",
   "pygments_lexer": "ipython3",
   "version": "3.5.4"
  }
 },
 "nbformat": 4,
 "nbformat_minor": 1
}
