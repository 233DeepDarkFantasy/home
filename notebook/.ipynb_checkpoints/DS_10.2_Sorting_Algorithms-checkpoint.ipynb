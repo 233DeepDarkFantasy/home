{
 "cells": [
  {
   "cell_type": "markdown",
   "metadata": {},
   "source": [
    "# 10.2 Sorting Algorithms\n",
    "\n",
    "the standard implementation of sorting in most Python implementations runs in roughly $O(n*log(n))$ time, where n is the length of the list.\n",
    "\n",
    "In most cases, the right thing to do is to use with Python\n",
    "\n",
    "* 1  method **list.sort** : takes a list as its first argument and **modifies** that list,sorts the list (ascending sort),\n",
    "    \n",
    "    \n",
    "* 2 function **sorted** : takes an iterable object (e.g., a list or a dictionary) as its first argument and returns a **new** sorted list, <b>does not mutate L</b>"
   ]
  },
  {
   "cell_type": "code",
   "execution_count": null,
   "metadata": {
    "collapsed": true
   },
   "outputs": [],
   "source": [
    "L=[1,34,5,7,90,2]\n",
    "L.sort()\n",
    "print('sorted L',L)\n",
    "L.reverse()\n",
    "print('reversed L',L)"
   ]
  },
  {
   "cell_type": "code",
   "execution_count": null,
   "metadata": {
    "collapsed": true
   },
   "outputs": [],
   "source": [
    "L =[1,34,5,7,90,2]\n",
    "L1 = L[ : ]\n",
    "# descending sorts\n",
    "L1.sort(reverse = True)\n",
    "print(L)\n",
    "print(L1)"
   ]
  },
  {
   "cell_type": "code",
   "execution_count": null,
   "metadata": {
    "collapsed": true
   },
   "outputs": [],
   "source": [
    "L=[1,34,5,7,90,2]\n",
    "# returns a new list with same elements as L\n",
    "L1=sorted(L)\n",
    "print(L)\n",
    "print(L1)"
   ]
  },
  {
   "cell_type": "code",
   "execution_count": null,
   "metadata": {
    "collapsed": true
   },
   "outputs": [],
   "source": [
    "L=[1,34,5,7,90,2]\n",
    "L1=sorted(L,reverse = True)\n",
    "print(L)\n",
    "print(L1)"
   ]
  },
  {
   "cell_type": "markdown",
   "metadata": {},
   "source": [
    "Present sorting algorithms here primarily to provide some practice in **thinking about algorithm design and complexity analysis**\n",
    "\n",
    "We begin with a simple but inefficient algorithm, **selection sort**"
   ]
  },
  {
   "cell_type": "markdown",
   "metadata": {},
   "source": [
    "### Selection sort \n",
    "\n",
    "**Selection sort** works by maintaining the **loop invariant** that, given a partitioning of the list into \n",
    "\n",
    "* <b>a prefix (L[0:i])</b> \n",
    "\n",
    "* <b>a suffix (L[i+1:len(L)])</b>,\n",
    "\n",
    "the prefix is sorted and no element in the prefix is larger than <b>the smallest element</b> in the suffix.\n",
    "\n",
    "We use induction to reason about **loop invariants**.\n",
    "\n",
    "* **Base case**: At the **start** of the first iteration, the **prefix** is **empty**, i.e., the\n",
    "**suffix** is the **entire list**. The invariant is  true.\n",
    "\n",
    "\n",
    "* **Induction step**: At each step of the algorithm, we move one element **from the suffix to the prefix.** \n",
    "\n",
    "\n",
    ">   * We do this by appending a **minimum** element of the suffix to the end of the prefix. Because the invariant held before we moved the element,\n",
    "\n",
    "\n",
    ">   * we know that after we append the element the prefix is **still sorted**. \n",
    "\n",
    "\n",
    ">   * We also know that since we removed the smallest element in the suffix, **no element in the prefix is larger than the smallest element in the suffix**.\n",
    "\n",
    "\n",
    "* When **the loop is exited**, the **prefix** includes the **entire list**, and the **suffix**\n",
    "is **empty**.\n",
    "\n",
    "\n",
    "Therefore, the entire list is now sorted in **ascending** order.\n",
    "\n",
    "Example:\n",
    "```c\n",
    "int a[8] = {8, 4, 5, 3, 2, 9, 4, 1};\n",
    "```\n",
    "![](./img/selSort.jpg)"
   ]
  },
  {
   "cell_type": "code",
   "execution_count": null,
   "metadata": {
    "collapsed": true
   },
   "outputs": [],
   "source": [
    "#Page 132, Figure 10.3\n",
    "def selSort(L):\n",
    "    \"\"\"Assumes that L is a list of elements that can be\n",
    "         compared using >.\n",
    "       Sorts L in ascending order\"\"\"\n",
    "    suffixStart = 0\n",
    "    while suffixStart != len(L):\n",
    "        #look at each element in suffix\n",
    "        for i in range(suffixStart, len(L)):\n",
    "            if L[i] < L[suffixStart]:\n",
    "                #swap position of elements\n",
    "                L[suffixStart], L[i] = L[i], L[suffixStart]\n",
    "        suffixStart += 1"
   ]
  },
  {
   "cell_type": "code",
   "execution_count": null,
   "metadata": {
    "collapsed": true
   },
   "outputs": [],
   "source": [
    "L=[1,34,5,7,90,2]\n",
    "selSort(L)\n",
    "print(L)"
   ]
  },
  {
   "cell_type": "markdown",
   "metadata": {},
   "source": [
    "Unfortunately, it is rather inefficient\n",
    "\n",
    "* The complexity of the inner loop is $O(len(L))$ :\n",
    "\n",
    "```python\n",
    "   for i in range(suffixStart, len(L)):\n",
    "```\n",
    "\n",
    "* The complexity of the outer loop is also $O(len(L))$ :\n",
    "```python\n",
    "while suffixStart != len(L):\n",
    "```\n",
    "\n",
    "The complexity of the entire function is $O(len(L)^2)$. I.e., it is **quadratic** in the length of L."
   ]
  },
  {
   "cell_type": "markdown",
   "metadata": {},
   "source": [
    "#### SelectionSort in C"
   ]
  },
  {
   "cell_type": "code",
   "execution_count": null,
   "metadata": {
    "collapsed": true
   },
   "outputs": [],
   "source": [
    "%%file ./code/ds/SelectionSort.c\n",
    "\n",
    "/* Sorting an array using Selection Sort (SelectionSort.c) */\n",
    "\n",
    "#include <stdio.h>\n",
    "#include <stdlib.h> \n",
    "\n",
    "void selectionSort(int a[], int size);\n",
    "void print(const int a[], int iMin, int iMax);\n",
    "\n",
    "// Sort the given array of size using selection sort\n",
    "void selectionSort(int a[], int size) {\n",
    "   int temp; // for swaping\n",
    "   for (int i = 0; i < size - 1; ++i) {\n",
    "      // for tracing\n",
    "      print(a, 0, i - 1);\n",
    "      print(a, i, size - 1);\n",
    " \n",
    "      // [0, i-1] already sort\n",
    "      // Search for the smallest element in [i, size-1]\n",
    "      //  and swap with a[i]\n",
    "      int minIndex = i;  // assume fist element is the smallest\n",
    "      for (int j = i + 1; j < size; ++j) {\n",
    "         if (a[j] < a[minIndex]) minIndex = j;\n",
    "      }\n",
    "      if (minIndex != i) {  // swap\n",
    "         temp = a[i];\n",
    "         a[i] = a[minIndex];\n",
    "         a[minIndex] = temp;\n",
    "      }\n",
    " \n",
    "      // for tracing\n",
    "      printf(\"=> \");\n",
    "      print(a, 0, i - 1);\n",
    "      print(a, i, size - 1);\n",
    "      printf(\"\\n\");\n",
    "   }\n",
    "}\n",
    " \n",
    "// Print the contents of the array in [iMin, iMax]\n",
    "void print(const int a[], int iMin, int iMax) {\n",
    "   printf(\"{\");\n",
    "   for (int i = iMin; i <= iMax; ++i) {\n",
    "      printf(\"%d\",a[i]);\n",
    "      if (i < iMax)  printf(\",\");\n",
    "   }\n",
    "   printf(\"}\");\n",
    "}\n",
    " \n",
    "int main() {\n",
    "   const int SIZE = 8;\n",
    "   int a[8] = {8, 4, 5, 3, 2, 9, 4, 1};\n",
    "   print(a, 0, SIZE - 1);\n",
    "   printf(\"\\n\"); \n",
    "   selectionSort(a, SIZE);\n",
    "   print(a, 0, SIZE - 1);\n",
    "   printf(\"\\n\"); \n",
    "  \n",
    "   return 0;\n",
    "}\n"
   ]
  },
  {
   "cell_type": "code",
   "execution_count": null,
   "metadata": {
    "collapsed": true
   },
   "outputs": [],
   "source": [
    "!gcc -o ./code/ds/SelectionSort.exe ./code/ds/SelectionSort.c"
   ]
  },
  {
   "cell_type": "code",
   "execution_count": null,
   "metadata": {
    "collapsed": true
   },
   "outputs": [],
   "source": [
    "!.\\code\\ds\\SelectionSort.exe"
   ]
  },
  {
   "cell_type": "markdown",
   "metadata": {},
   "source": [
    "### 10.2.1 Merge Sort\n",
    "\n",
    "Merge sort is a prototypical <b>divide-and-conquer algorithm</b>. It was invented in 1945, by John von Neumann, and is still widely used.\n",
    "\n",
    "In general, a divide-and-conquer algorithm is characterized by\n",
    "\n",
    "* 1 A **threshold input size**, below which the problem is **not subdivided**\n",
    "\n",
    "* 2 The size and number of **sub-instances** into which an instance is **split**,\n",
    "\n",
    "* 3 The algorithm used to **combine** sub-solutions.\n",
    "\n",
    "\n",
    "The threshold is sometimes called the **recursive base**. For item 2 it is usual to consider the ratio of initial problem size to sub-instance size. In most of the examples we’ve seen so far, the ratio was 2.\n",
    "\n",
    "Like many divide-and-conquer algorithms it is most easily described recursively:\n",
    "\n",
    "* If the list is of **length 0 or 1**, it is **already** sorted.  \n",
    " \n",
    "     A **threshold input size**\n",
    "     \n",
    "\n",
    "* If the list has more than one element, **split the list** into two lists, and use **merge sort** to sort each of them.\n",
    "\n",
    "    The size and number of **sub-instances** into which an instance is **split**,\n",
    "\n",
    "\n",
    "\n",
    "* **Merge** the results.\n",
    "\n",
    "   The algorithm used to **combine** sub-solutions.\n",
    "\n",
    "\n",
    "<font color='blue'>**The idea**</font> is: \n",
    "\n",
    ">look at the **first** element of each list, and move the **smaller of the two** to the **end** of the result list.\n",
    ">\n",
    ">When one of the lists is empty, all that remains is to copy the remaining items from the other list.\n",
    "\n",
    "Consider, for example, merging the two lists\n",
    "```\n",
    " [1,5,12,18,19,20]\n",
    " [2,3,4,17]\n",
    "```\n",
    "<img src=\"./img/mergesort.PNG\"/>\n",
    "\n",
    "Example\n",
    "```c\n",
    " int a1[8] = {8, 4, 5, 3, 2, 9, 4, 1};\n",
    "```\n",
    "![](./img/mergeSort.jpg)"
   ]
  },
  {
   "cell_type": "markdown",
   "metadata": {},
   "source": [
    "### What is the complexity of the merge process? \n",
    "\n",
    "It involves two constant-time operations： \n",
    "\n",
    "* 1 comparing the values of elements \n",
    "\n",
    "* 2 copying elements from one list to another. \n",
    "\n",
    "The number of comparisons is **O(len(L))**, where L is the **longer** of the two lists. \n",
    "\n",
    "The number of copy operations is **O(len(L1) + len(L2))**, because each element gets copied exactly once. \n",
    "\n",
    "Therefore, merging two sorted lists is linear in **the length of the lists**"
   ]
  },
  {
   "cell_type": "code",
   "execution_count": null,
   "metadata": {
    "collapsed": true
   },
   "outputs": [],
   "source": [
    "#Page 134, Figure 10.4\n",
    "def merge(left, right, compare):\n",
    "    \"\"\"Assumes left and right are sorted lists and\n",
    "         compare defines an ordering on the elements.\n",
    "       Returns a new sorted (by compare) list containing the\n",
    "         same elements as (left + right) would contain.\"\"\"\n",
    "    \n",
    "    result = []\n",
    "    i,j = 0, 0\n",
    "    while i < len(left) and j < len(right):\n",
    "        if compare(left[i], right[j]):\n",
    "            result.append(left[i])\n",
    "            i += 1\n",
    "        else:\n",
    "            result.append(right[j])\n",
    "            j += 1\n",
    "    while (i < len(left)):\n",
    "        result.append(left[i])\n",
    "        i += 1\n",
    "    while (j < len(right)):\n",
    "        result.append(right[j])\n",
    "        j += 1\n",
    "    return result\n",
    "\n",
    "import operator\n",
    "#  compare = operator.lt\n",
    "def mergeSort(L, compare = operator.lt):\n",
    "    \"\"\"Assumes L is a list, compare defines an ordering\n",
    "         on elements of L\n",
    "       Returns a new sorted list containing the same elements as L\"\"\"\n",
    "    if len(L) < 2:\n",
    "        return L[:]\n",
    "    else:\n",
    "        middle = len(L)//2\n",
    "        left = mergeSort(L[:middle], compare)\n",
    "        right = mergeSort(L[middle:], compare)\n",
    "        return merge(left, right, compare)"
   ]
  },
  {
   "cell_type": "code",
   "execution_count": null,
   "metadata": {
    "collapsed": true
   },
   "outputs": [],
   "source": [
    "L=[1,5,12,18,19,20,2,3,4,17]\n",
    "L1=mergeSort(L,operator.gt)\n",
    "print(L1)"
   ]
  },
  {
   "cell_type": "markdown",
   "metadata": {},
   "source": [
    "#### Let’s analyze the complexity of mergeSort. \n",
    "\n",
    "We already know that the time complexity of merge is $O(len(L))$. At each level of recursion the total number of elements to be merged is $len(L)$. \n",
    "\n",
    "Therefore, the time complexity of mergeSort is\n",
    "\n",
    "* $O(len(L))$ multiplied by the number of levels of recursion. \n",
    "\n",
    "Since mergeSort divides the list <b>in half</b> each time, we know that the number of levels of recursion is $O(log(len(L))$. \n",
    "  \n",
    "Therefore, the time complexity of mergeSort is $O(n*log(n))</b>$, where n is len(L).\n",
    "                                                                                                             \n",
    "This improvement in time complexity comes with a price. \n",
    "\n",
    "<b>Selection sort</b> is an example of an <b>in-place</b> sorting algorithm. Because it works by swapping the place of elements within the list, it uses only <b>a constant amount of extra storage</b> (one element in our implementation). \n",
    "\n",
    "In contrast, the <b>merge sort</b> algorithm  involves making<b> copies of the list</b>. This means that its space complexity is $O(len(L))$.                                                                                                             "
   ]
  },
  {
   "cell_type": "markdown",
   "metadata": {},
   "source": [
    "**A merge sort** works as follows:\n",
    "\n",
    "* Divide the unsorted list into n sublists, each containing 1 element (a list of 1 element is considered sorted).\n",
    "\n",
    "* Repeatedly merge sublists to produce new sorted sublists until there is only 1 sublist remaining. This will be the sorted list."
   ]
  },
  {
   "cell_type": "markdown",
   "metadata": {
    "collapsed": true
   },
   "source": [
    "### 10.2.2 <font color=\"blue\">Exploiting Functions</font> as Parameters\n",
    "\n",
    "Suppose we want to sort a list of names written as firstName lastName, e.g.,\n",
    "\n",
    "the list\n",
    "```python\n",
    "['Chris Terman', 'Tom Brady', 'Eric Grimson', 'Gisele Bundchen'].\n",
    "```\n",
    "Figure 10.5 defines two ordering functions, and then uses these to sort a list in two different ways.\n",
    "```python\n",
    "def mergeSort(L, compare = operator.lt):\n",
    "```"
   ]
  },
  {
   "cell_type": "code",
   "execution_count": null,
   "metadata": {
    "collapsed": true
   },
   "outputs": [],
   "source": [
    "#Page 135, Figure 10.5\n",
    "def lastNameFirstName(name1, name2):\n",
    "    name1 = name1.split(' ')\n",
    "    name2 = name2.split(' ')\n",
    "    if name1[1] != name2[1]:\n",
    "        return name1[1] < name2[1]\n",
    "    else: #last names the same, sort by first name\n",
    "        return name1[0] < name2[0]\n",
    "\n",
    "def firstNameLastName(name1, name2):\n",
    "    # If that argument is omitted \n",
    "    #  the string is split using arbitrary strings of whitespace characters\n",
    "    #  space, tab, newline, return, and formfeed).\n",
    "    name1 = name1.split()\n",
    "    name2 = name2.split()\n",
    "    if name1[0] != name2[0]:\n",
    "        return name1[0] < name2[0]\n",
    "    else: #first names the same, sort by last name\n",
    "        return name1[1] < name2[1]\n"
   ]
  },
  {
   "cell_type": "code",
   "execution_count": null,
   "metadata": {
    "collapsed": true
   },
   "outputs": [],
   "source": [
    "L = ['Chris Terman', 'Tom Brady', 'Eric Grimson', 'Gisele Bundchen']\n",
    "newL = mergeSort(L, lastNameFirstName)\n",
    "print('Sorted by last name =', newL)\n",
    "newL = mergeSort(L, firstNameLastName)\n",
    "print('Sorted by first name =', newL)"
   ]
  },
  {
   "cell_type": "markdown",
   "metadata": {},
   "source": [
    "### MergeSort in C"
   ]
  },
  {
   "cell_type": "code",
   "execution_count": null,
   "metadata": {
    "collapsed": true
   },
   "outputs": [],
   "source": [
    "%%file ./code/ds/MergeSort.c\n",
    "\n",
    "/* Sorting an array using Merge Sort (MergeSort.c) */\n",
    "#include <stdio.h>\n",
    "#include <stdlib.h>\n",
    " \n",
    "void mSort(int a[], int size);\n",
    "void mergeSort(int a[], int iLeft, int iRight, int work[]);\n",
    "void merge(int a[], int iLeftHalfLeft, int iLeftHalfRight,\n",
    "           int iRightHalfLeft, int iRightHalfRight, int work[]);\n",
    "void print(const int a[], int iLeft, int iRight);\n",
    "\n",
    " \n",
    "// Sort the given array of size\n",
    "void mSort(int a[], int size) {\n",
    "   int work[size];  // work space\n",
    "   mergeSort(a, 0, size - 1, work);\n",
    "}\n",
    " \n",
    "// Sort the given array in [iLeft, iRight]\n",
    "void mergeSort(int a[], int iLeft, int iRight, int work[]) {\n",
    "   if ((iRight - iLeft) >= 1) {   // more than 1 elements, divide and sort\n",
    "      // Divide into left and right half\n",
    "      int iLeftHalfLeft = iLeft;\n",
    "      int iLeftHalfRight = (iRight + iLeft) / 2;   // truncate\n",
    "      int iRightHalfLeft = iLeftHalfRight + 1;\n",
    "      int iRightHalfRight = iRight;\n",
    " \n",
    "      // Recursively sort each half\n",
    "      mergeSort(a, iLeftHalfLeft, iLeftHalfRight, work);\n",
    "      mergeSort(a, iRightHalfLeft, iRightHalfRight, work);\n",
    " \n",
    "      // Merge two halves\n",
    "      merge(a, iLeftHalfLeft, iLeftHalfRight, iRightHalfLeft, iRightHalfRight, work);\n",
    "   }\n",
    "}\n",
    " \n",
    "// Merge two halves in [iLeftHalfLeft, iLeftHalfRight] and [iRightHalfLeft, iRightHalfRight]\n",
    "// Assume that iLeftHalfRight + 1 = iRightHalfLeft\n",
    "void merge(int a[], int iLeftHalfLeft, int iLeftHalfRight,\n",
    "           int iRightHalfLeft, int iRightHalfRight, int work[]) {\n",
    "   int size = iRightHalfRight - iLeftHalfLeft + 1;\n",
    "   int iResult = 0;\n",
    "   int iLeft = iLeftHalfLeft;\n",
    "   int iRight = iRightHalfLeft;\n",
    "   while (iLeft <= iLeftHalfRight && iRight <= iRightHalfRight) {\n",
    "      if (a[iLeft] <= a[iRight]) {\n",
    "         work[iResult++] = a[iLeft++];\n",
    "      } else {\n",
    "         work[iResult++] = a[iRight++];\n",
    "      }\n",
    "   }\n",
    "   // Copy the remaining left or right into work\n",
    "   while (iLeft <= iLeftHalfRight) work[iResult++] = a[iLeft++];\n",
    "   while (iRight <= iRightHalfRight) work[iResult++] = a[iRight++];\n",
    " \n",
    "   // for tracing\n",
    "   print(a, iLeftHalfLeft, iLeftHalfRight);\n",
    "   print(a, iRightHalfLeft, iRightHalfRight);\n",
    "   printf(\"=> \");\n",
    "   print(work, 0, size - 1);\n",
    "   printf(\"\\n\");\n",
    " \n",
    "   // Copy the work back to the original array\n",
    "   for (iResult = 0, iLeft = iLeftHalfLeft; iResult < size; ++iResult, ++iLeft) {\n",
    "      a[iLeft] = work[iResult];\n",
    "   }\n",
    "}\n",
    " \n",
    "// Print the contents of the given array from iLeft to iRight (inclusive)\n",
    "void print(const int a[], int iLeft, int iRight) {\n",
    "   printf(\"{\");\n",
    "   for (int i = iLeft; i <= iRight; ++i) {\n",
    "      printf(\"%d\", a[i]);\n",
    "      if (i < iRight) printf(\",\");\n",
    "   }\n",
    "   printf(\"} \");\n",
    "}\n",
    "\n",
    " \n",
    "int main() {\n",
    "   // Test 1\n",
    "   const int SIZE_1 = 8;\n",
    "   int a1[8] = {8, 4, 5, 3, 2, 9, 4, 1};\n",
    " \n",
    "   print(a1, 0, SIZE_1 - 1);\n",
    "   printf(\"\\n\");\n",
    "   mSort(a1, SIZE_1);\n",
    "   print(a1, 0, SIZE_1 - 1);\n",
    "   printf(\"\\n \\n\");\n",
    " \n",
    "   // Test 2\n",
    "   const int SIZE_2 = 13;\n",
    "   int a2[13] = {8, 4, 5, 3, 2, 9, 4, 1, 9, 1, 2, 4, 5};\n",
    " \n",
    "   print(a2, 0, SIZE_2 - 1);\n",
    "   printf(\"\\n\");\n",
    "   mSort(a2, SIZE_2);\n",
    "   print(a2, 0, SIZE_2 - 1);\n",
    "   printf(\"\\n \\n\");\n",
    "    \n",
    "   return 0;\n",
    "}"
   ]
  },
  {
   "cell_type": "code",
   "execution_count": null,
   "metadata": {
    "collapsed": true
   },
   "outputs": [],
   "source": [
    "!gcc -o ./code/ds/MergeSort.exe ./code/ds/MergeSort.c"
   ]
  },
  {
   "cell_type": "code",
   "execution_count": null,
   "metadata": {
    "collapsed": true
   },
   "outputs": [],
   "source": [
    "!.\\code\\ds\\MergeSort.exe"
   ]
  },
  {
   "cell_type": "markdown",
   "metadata": {},
   "source": [
    "### The GNU C Library: Array Sort Function\n",
    "\n",
    "http://www.gnu.org/software/libc/manual/html_node/Array-Sort-Function.html\n",
    "\n",
    "To sort an array using an arbitrary comparison function, use the **qsort** function. The prototype for this function is in **stdlib.h**. \n",
    "\n",
    "Function:\n",
    "\n",
    "```c\n",
    "void qsort (void *array, size_t count, size_t size, comparison_fn_t compare)\n",
    "```\n",
    "To do this, you supply **a comparison function** to compare two elements of the array\n",
    "\n",
    "This type is a GNU extension\n",
    "```c\n",
    "int comparison_fn_t (const void *, const void *);\n",
    "```"
   ]
  },
  {
   "cell_type": "code",
   "execution_count": null,
   "metadata": {
    "collapsed": true
   },
   "outputs": [],
   "source": [
    "%%file ./code/ds/gccqsort.c\n",
    "\n",
    "/* Sorting an array using The GNU C Library ：Sort (gccqsort.c) */\n",
    "\n",
    "#include <stdio.h>\n",
    "#include <stdlib.h> \n",
    "\n",
    "int compare_ints (const void * a, const void * b)  \n",
    "{  \n",
    "  return ( *(int*)a - *(int*)b );  \n",
    "}  \n",
    "\n",
    "int main() {\n",
    "   const int SIZE = 8;\n",
    "   int a[8] = {8, 4, 5, 3, 2, 9, 4, 1};\n",
    "   qsort(a, SIZE, sizeof(int),compare_ints);\n",
    "   \n",
    "   for(int i = 0; i <SIZE; i++) \n",
    "      printf(\"%d \", a[i]);\n",
    "   \n",
    "  return 0;\n",
    "}\n",
    "    "
   ]
  },
  {
   "cell_type": "code",
   "execution_count": null,
   "metadata": {
    "collapsed": true
   },
   "outputs": [],
   "source": [
    "!gcc -o ./code/ds/gccqsort.exe ./code/ds/gccqsort.c"
   ]
  },
  {
   "cell_type": "code",
   "execution_count": null,
   "metadata": {
    "collapsed": true
   },
   "outputs": [],
   "source": [
    "!.\\code\\ds\\gccqsort.exe"
   ]
  },
  {
   "cell_type": "markdown",
   "metadata": {},
   "source": [
    "### 10.2.3 Sorting in Python\n",
    "\n",
    "The sorting algorithm used in most Python implementations is called \n",
    "\n",
    "* <b>Timsort</b> ： https://en.wikipedia.org/wiki/Timsort\n",
    "\n",
    "The **key idea** is to take **advantage** of the fact that in a lot of data sets the data is <b>already partially sorted</b>. \n",
    "\n",
    "**Timsort**’s worst-case performance is the same as merge sort’s, but on average it performs considerably better."
   ]
  },
  {
   "cell_type": "markdown",
   "metadata": {},
   "source": [
    "The Python\n",
    "\n",
    "* 1  method **list.sort** takes a list as its first argument and **modifies** that list\n",
    "    \n",
    "    \n",
    "* 2 function **sorted** takes an iterable object (e.g., a list or a dictionary) as its first argument and returns a **new** sorted list.\n",
    "\n",
    "**sort(*, key=None, reverse=None)**\n",
    "\n",
    "* This method sorts the list **in place**, using only < comparisons between items. Exceptions are not suppressed - if any comparison operations fail, the entire sort operation will fail (and the list will likely be left in a partially modified state).\n",
    "\n",
    "\n",
    "* list.sort() accepts two arguments that can only be passed by keyword (keyword-only arguments):\n",
    "\n",
    "\n",
    "* **key** specifies a function of one argument that is used to extract a comparison key from each list element (for example, key=str.lower). The key corresponding to each item in the list is calculated once and then used for the entire sorting process. The default value of None means that list items are sorted directly without calculating a separate key value.\n",
    "\n",
    "\n",
    "* **reverse** is a boolean value. If set to True, then the list elements are sorted as if each comparison were reversed.\n",
    "\n",
    "\n",
    "**sorted(iterable[, key][, reverse])**\n",
    "\n",
    "* Return a **new** sorted list from the items in iterable.\n",
    "\n",
    "\n",
    "* Has two optional arguments which must be specified as keyword arguments.\n",
    "\n",
    "\n",
    "* **key** specifies a function of one argument that is used to extract a comparison key from each list element: key=str.lower. The default value is None (compare the elements directly).\n",
    "\n",
    "\n",
    "* **reverse** is a boolean value. If set to True, then the list elements are sorted as if each comparison were reversed."
   ]
  },
  {
   "cell_type": "code",
   "execution_count": null,
   "metadata": {
    "collapsed": true
   },
   "outputs": [],
   "source": [
    "# sorted list: new list\n",
    "L = [3,5,2]\n",
    "print('sorted L(a new list)=',sorted(L))\n",
    "print('L=',L)\n",
    "\n",
    "# sorted dict\n",
    "# dict:iterable\n",
    "D = {'a':12, 'c':5, 'b':'dog'}\n",
    "print('sorted D(a new list)=',sorted(D))\n",
    "\n",
    "# list.sort in place\n",
    "L.sort()\n",
    "print('L(modified L)=',L)\n",
    "\n",
    "\n",
    "# but :'dict' object has no attribute 'sort'\n",
    "D.sort()"
   ]
  },
  {
   "cell_type": "markdown",
   "metadata": {},
   "source": [
    "Both the **list.sort** method and the **sorted** function can have two additional parameters.\n",
    "\n",
    ">The <b>key</b> parameter plays the same role as compare in our implementation of merge sort: it is used to <b>supply the comparison function</b> to be\n",
    "used.\n",
    "\n",
    "\n",
    ">The <b>reverse</b> parameter specifies whether the list is to be sorted in <b>ascending or descending order</b>."
   ]
  },
  {
   "cell_type": "code",
   "execution_count": null,
   "metadata": {
    "collapsed": true
   },
   "outputs": [],
   "source": [
    "L = [[1,2,3], (3,2,1,0), 'abc']\n",
    "print(sorted(L, key = len, reverse = True))"
   ]
  },
  {
   "cell_type": "code",
   "execution_count": null,
   "metadata": {
    "collapsed": true
   },
   "outputs": [],
   "source": [
    "def getlastNameFirstName(name):\n",
    "    name = name.split(' ')\n",
    "    return name[1]\n",
    "\n",
    "def getfirstNameLastName(name):\n",
    "    name = name.split()\n",
    "    return name[0]"
   ]
  },
  {
   "cell_type": "code",
   "execution_count": null,
   "metadata": {
    "collapsed": true
   },
   "outputs": [],
   "source": [
    "L = ['Chris Terman', 'Tom Brady', 'Eric Grimson', 'Gisele Bundchen']\n",
    "newL = sorted(L, key=getlastNameFirstName)\n",
    "print('Sorted by last name =', newL)\n",
    "newL =sorted(L, key=getfirstNameLastName)\n",
    "print('Sorted by first name =', newL)"
   ]
  },
  {
   "cell_type": "markdown",
   "metadata": {},
   "source": [
    "#### stable sorts\n",
    "\n",
    "Both the **list.sort** method and the sorted function provide <b>stable sorts</b>. \n",
    "\n",
    ">This means that if **two elements are equal** with respect to the comparison used **in the sort** \n",
    "\n",
    ">their **relative ordering** in the original list (or other iterable object) is **preserved** in the final list."
   ]
  },
  {
   "cell_type": "markdown",
   "metadata": {},
   "source": [
    "## Further Reading\n",
    "\n",
    "###  8.6. bisect — Array bisection algorithm\n",
    "\n",
    "https://docs.python.org/3.5/library/bisect.html\n",
    "\n",
    "This module provides support for maintaining a list in sorted order without having to sort the list after each insertion.\n",
    "\n",
    "The module is called bisect because it uses a basic bisection algorithm to do its work."
   ]
  },
  {
   "cell_type": "markdown",
   "metadata": {},
   "source": [
    "## 10.3 Hash Tables\n",
    "\n",
    "If we put merge sort together with binary search, we have a nice way to search lists.\n",
    "\n",
    "we can still ask, is logarithmic **the best** that we can do for  search when we are willing to do some\n",
    "\n",
    "<font color=\"blue\">Preprocessing</font>\n",
    "\n",
    "###  When we introduced the type <font color=\"blue\">dict</font> in Chapter 5 \n",
    "\n",
    "* dictionaries use a technique called <b>hashing</b> to do <b>the lookup in time</b> \n",
    "\n",
    "  that is <b>nearly independent of the size of the dictionary</b>."
   ]
  },
  {
   "cell_type": "code",
   "execution_count": null,
   "metadata": {
    "collapsed": true
   },
   "outputs": [],
   "source": [
    "import timeit\n",
    "\n",
    "query_lst = [-600,-60,-6,-70,-6,0,6,70,6,60,600]\n",
    "\n",
    "lst = []\n",
    "dic = {}\n",
    "\n",
    "# search space :lst,dic\n",
    "size=10000\n",
    "for i in range(size):\n",
    "    lst.append(i)\n",
    "    dic[i] = i \n",
    "\n",
    "ls=\"\"\"\n",
    "for v in query_lst:\n",
    "    if v in lst:\n",
    "        continue\n",
    "\"\"\"\n",
    "   \n",
    "t_querylst=timeit.Timer(stmt=ls,globals=globals())\n",
    "lst_time=t_querylst.timeit(10)\n",
    "print('Linear search time : ',lst_time/10)\n",
    "\n",
    "bls=\"\"\"\n",
    "for v in query_lst:\n",
    "    if search(lst, v):\n",
    "       continue\n",
    "\"\"\"\n",
    "t_querylst=timeit.Timer(stmt=bls,globals=globals())\n",
    "bst_time=t_querylst.timeit(10)\n",
    "print('Binary search time : ',bst_time/10)\n",
    "\n",
    "ds=\"\"\"\n",
    "for v in query_lst:\n",
    "    if v in dic:\n",
    "        continue\n",
    "\"\"\"\n",
    "t_querydic=timeit.Timer(stmt=ds,globals=globals())\n",
    "dict_time=t_querydic.timeit(10)\n",
    "print('dict search time : ',dict_time/10)"
   ]
  },
  {
   "cell_type": "markdown",
   "metadata": {},
   "source": [
    "### A hash table \n",
    "\n",
    "The basic idea behind **a hash table** is\n",
    "\n",
    "* **convert the key to an integer, and then use that integer to index into a list**\n",
    "\n",
    "  which can be done in constant time.\n",
    "\n",
    "  In principle, values of any immutable type can be easily converted to an integer through **Hash functions**.\n",
    "\n",
    "\n",
    "### Hash functions\n",
    "\n",
    "**Hash functions** can be used to convert \n",
    "\n",
    "* <b>a large space of keys</b>  to  <b>a smaller space of integer indices</b>.\n",
    "\n",
    "Since the space of possible outputs is**smaller** than the space of possible inputs, \n",
    "\n",
    "a hash function is a  <b>many-to-one mapping</b>,\n",
    "\n",
    "multiple different inputs may be mapped to the same output. \n",
    "\n",
    "When two inputs are mapped to the same output, \n",
    "\n",
    "it is called a <b>collision</b>. \n",
    "\n",
    "A good hash function produces \n",
    "\n",
    "<b>a uniform distribution</b>\n",
    "\n",
    "every output in the range is equally probable, which <b>minimizes the probability of collisions</b>.\n",
    "\n",
    "**Designing good hash functions** is surprisingly challenging.\n",
    "\n",
    "The problem is that one wants the outputs to be uniformly distributed given the expected distribution of inputs\n",
    "\n",
    "## hash bucket\n",
    "\n",
    "**class intDict(object)**  uses a simple hash function \n",
    "\n",
    "```python\n",
    "# i%j returns the remainder when the integer i is divided by the integer j \n",
    "\n",
    "hashBucket = self.buckets[dictKey%self.numBuckets]\n",
    "``` \n",
    "\n",
    "to implement a dictionary with integers as keys.\n",
    "\n",
    "The basic idea is to represent \n",
    "\n",
    "**an instance of class intDict**\n",
    "\n",
    "by a list of <b>hash buckets</b>, \n",
    "\n",
    "where **each bucket** is a list of **key/value** pairs. \n",
    "\n",
    "<b>By making each bucket a list, \n",
    "\n",
    "we handle collisions by storing all of the values that hash to the same bucket in the list</b>. \n",
    "\n",
    "The <b>hash table</b> works as follows: \n",
    "\n",
    "*  **1 def __init__(self, numBuckets):**\n",
    "\n",
    "   The instance variable <b>buckets</b> is initialized to \n",
    "\n",
    "   <b>a list</b> of  <b>numBuckets</b> <b>empty lists</b>.\n",
    "\n",
    "```python\n",
    "        self.buckets = []\n",
    "        self.numBuckets = numBuckets\n",
    "        for i in range(numBuckets):\n",
    "            self.buckets.append([]) \n",
    "```\n",
    "   \n",
    "* **2 def addEntry(self, dictKey, dictVal):**\n",
    "\n",
    "   To store or look up an entry with key **dictKey**, \n",
    "\n",
    "```python   \n",
    "        hashBucket = self.buckets[dictKey%self.numBuckets]\n",
    "        for i in range(len(hashBucket)):\n",
    "            if hashBucket[i][0] == dictKey:\n",
    "                hashBucket[i] = (dictKey, dictVal) #if one was found,replace\n",
    "                return\n",
    "        hashBucket.append((dictKey, dictVal)) # append a new entry to the bucket if none was found.\n",
    "```      \n",
    "   \n",
    "we use <b>the hash function i%j to convert dictKey into an integer</b>, \n",
    "```python  \n",
    "    hashBucket = self.buckets[dictKey%self.numBuckets\n",
    "```    \n",
    "and use that integer to index into buckets \n",
    "```python\n",
    "   hashBucket[i]\n",
    "```\n",
    "to find the hash bucket associated with **dictKey**\n",
    "\n",
    "If <b>a value is to be stored</b>,then  \n",
    "\n",
    "if one was found:  <b>replace</b> the value in the existing entry, if one was found, \n",
    "\n",
    "if none was found: <b>append</b> a new entry to the bucket\n",
    "\n",
    "### separate chaining(分离链接法)\n",
    "\n",
    "In the method known as separate chaining, each bucket is independent, and has some sort of list of entries with the same index. \n",
    "\n",
    "![](./img/Hashcollisionbyseparatechaining.jpg)\n",
    "\n",
    "* **3 def getValue(self, dictKey):**\n",
    "\n",
    "We then search that bucket (which is a list) linearly to see if there is an entry with the key dictKey.\n",
    "\n",
    "```python \n",
    " for e in hashBucket:\n",
    "            if e[0] == dictKey: // key\n",
    "                return e[1]     // valu\n",
    "```\n",
    "\n",
    "If we are doing <b>a lookup</b> and there is an entry with the key, we simply return the value stored with that key. \n",
    "\n",
    "If there is no entry with that key, we return None. \n",
    "\n",
    "\n"
   ]
  },
  {
   "cell_type": "code",
   "execution_count": 2,
   "metadata": {
    "collapsed": true
   },
   "outputs": [],
   "source": [
    "#Page 139, Figure 10.6\n",
    "\n",
    "class intDict(object):\n",
    "    \"\"\"A dictionary with integer keys\"\"\"\n",
    "    \n",
    "    def __init__(self, numBuckets):\n",
    "        \"\"\"Create an empty dictionary\"\"\"\n",
    "        \n",
    "        ## buckets is initialized to a list of numBuckets empty lists.\n",
    "        \n",
    "        self.buckets = []\n",
    "        self.numBuckets = numBuckets\n",
    "        for i in range(numBuckets):\n",
    "            self.buckets.append([]) # empty list\n",
    "            \n",
    "    def addEntry(self, dictKey, dictVal):\n",
    "        \"\"\"Assumes dictKey an int.  Adds an entry.\"\"\"\n",
    "        hashBucket = self.buckets[dictKey%self.numBuckets]\n",
    "        for i in range(len(hashBucket)):\n",
    "            if hashBucket[i][0] == dictKey:\n",
    "                hashBucket[i] = (dictKey, dictVal) #if one was found,replace\n",
    "                return\n",
    "        hashBucket.append((dictKey, dictVal)) # append a new entry to the bucket if none was found.\n",
    "        \n",
    "    def getValue(self, dictKey):\n",
    "        \"\"\"Assumes dictKey an int.  Returns entry associated\n",
    "           with the key dictKey\"\"\"\n",
    "        hashBucket = self.buckets[dictKey%self.numBuckets]\n",
    "        for e in hashBucket:\n",
    "            if e[0] == dictKey: # key\n",
    "                return e[1]     # value \n",
    "        return None\n",
    "    \n",
    "    def __str__(self):\n",
    "        result = '{'\n",
    "        for b in self.buckets:\n",
    "            for e in b:\n",
    "                result = result + str(e[0]) + ':' + str(e[1]) + ','\n",
    "        return result[:-1] + '}' #result[:-1] omits the last comma\n",
    "\n"
   ]
  },
  {
   "cell_type": "markdown",
   "metadata": {},
   "source": [
    "The following code first constructs an **intDict** with twenty entries. \n",
    "\n",
    "The values of the entries are the integers 0 to 19.\n",
    "\n",
    "The **keys** are chosen at random from <b>integers in the range 0 to 10^5 - 1<b>."
   ]
  },
  {
   "cell_type": "markdown",
   "metadata": {},
   "source": [
    "## Twenty entries"
   ]
  },
  {
   "cell_type": "code",
   "execution_count": 3,
   "metadata": {},
   "outputs": [
    {
     "name": "stdout",
     "output_type": "stream",
     "text": [
      "The Entrys (key,i)is:\n",
      "(17611, 0)\n",
      "(74606, 1)\n",
      "(8271, 2)\n",
      "(33432, 3)\n",
      "(15455, 4)\n",
      "(64937, 5)\n",
      "(99740, 6)\n",
      "(58915, 7)\n",
      "(61898, 8)\n",
      "(85405, 9)\n",
      "(49756, 10)\n",
      "(27519, 11)\n",
      "(12302, 12)\n",
      "(63944, 13)\n",
      "(3715, 14)\n",
      "(51093, 15)\n",
      "(56723, 16)\n",
      "(79618, 17)\n",
      "(99913, 18)\n",
      "(276, 19)\n"
     ]
    }
   ],
   "source": [
    "import random #a standard library module\n",
    "Entrys=[]\n",
    "NumEntry=20\n",
    "\n",
    "random.seed(1)\n",
    "for i in range(NumEntry):\n",
    "    #choose a random int between 0 and 10**5\n",
    "    key = random.randint(0, 10**5)\n",
    "    Entrys.append((key,i))\n",
    "\n",
    "print('The Entrys (key,i)is:')\n",
    "for entry in Entrys:\n",
    "    print(entry)"
   ]
  },
  {
   "cell_type": "markdown",
   "metadata": {},
   "source": [
    "### Search key->value in list of Entrys"
   ]
  },
  {
   "cell_type": "code",
   "execution_count": 4,
   "metadata": {},
   "outputs": [
    {
     "name": "stdout",
     "output_type": "stream",
     "text": [
      "17611 0\n",
      "74606 1\n",
      "8271 2\n",
      "33432 3\n",
      "15455 4\n",
      "64937 5\n",
      "99740 6\n",
      "58915 7\n",
      "61898 8\n",
      "85405 9\n",
      "49756 10\n",
      "27519 11\n",
      "12302 12\n",
      "63944 13\n",
      "3715 14\n",
      "51093 15\n",
      "56723 16\n",
      "79618 17\n",
      "99913 18\n",
      "276 19\n"
     ]
    }
   ],
   "source": [
    "def searchEntrys():\n",
    "    for entry in Entrys:\n",
    "        key=entry[0]\n",
    "        \n",
    "        for item in Entrys:\n",
    "            if (key==item[0]):\n",
    "                value=item[1] \n",
    "                print(key,value)  \n",
    "                break\n",
    "                \n",
    "searchEntrys()"
   ]
  },
  {
   "cell_type": "markdown",
   "metadata": {},
   "source": [
    "## Put entrys into intDict\n",
    "\n",
    "* numBuckets =29"
   ]
  },
  {
   "cell_type": "code",
   "execution_count": null,
   "metadata": {
    "collapsed": true
   },
   "outputs": [],
   "source": [
    "numBuckets =29\n",
    "\n",
    "D = intDict(numBuckets) # numBuckets >entries <<< the range of key （0，100000）\n",
    "for item in Entrys:\n",
    "    D.addEntry(item[0],item[1])\n",
    "\n",
    "print('The intDict is:' )\n",
    "print(D)\n",
    "\n",
    "print('\\n', 'The hase buckets are:')\n",
    "i=0\n",
    "for hashBucket in D.buckets:\n",
    "    print('BucketID',i,'  ', hashBucket)\n",
    "    i=i+1"
   ]
  },
  {
   "cell_type": "markdown",
   "metadata": {},
   "source": [
    "we see that many of the hash buckets are **empty**. \n",
    "\n",
    "Others contain **one, two, or three tuples** depending upon <b>the number of collisions</b> that occurred"
   ]
  },
  {
   "cell_type": "code",
   "execution_count": null,
   "metadata": {
    "collapsed": true
   },
   "outputs": [],
   "source": [
    "def getIntDict():\n",
    "    for entry in Entrys:\n",
    "        key=entry[0]\n",
    "        value=D.getValue(key)\n",
    "        #print(key,value)\n",
    "getIntDict()        "
   ]
  },
  {
   "cell_type": "code",
   "execution_count": null,
   "metadata": {
    "collapsed": true
   },
   "outputs": [],
   "source": [
    "%timeit getIntDict()"
   ]
  },
  {
   "cell_type": "markdown",
   "metadata": {},
   "source": [
    "### What is the complexity of **getValue**? "
   ]
  },
  {
   "cell_type": "markdown",
   "metadata": {},
   "source": [
    "If there were <b>no collisions</b> it would be <b>O(1)</b>,  because each hash bucket would be of length 0 or 1.\n",
    "\n",
    "there might be <b>collisions</b>. \n",
    "\n",
    "If everything hashed to the same bucket,\n",
    "\n",
    "it would be <b>O(n)</b> where n is the number of entries in the dictionary,\n",
    "\n",
    "because the code would perform a linear search on that hash bucket.\n",
    "\n",
    "### By making the <b>hash table large enough</b>, \n",
    "\n",
    "we can <b>reduce the number of collisions</b> sufficiently to allow us to treat <b>the complexity as O(1)</b>."
   ]
  },
  {
   "cell_type": "markdown",
   "metadata": {},
   "source": [
    "### hash table small , more collisions\n",
    "\n",
    "* numBucket=5"
   ]
  },
  {
   "cell_type": "code",
   "execution_count": null,
   "metadata": {
    "collapsed": true
   },
   "outputs": [],
   "source": [
    "import random #a standard library module\n",
    "\n",
    "# hash table small , more collisions\n",
    "numBuckets=5\n",
    "D = intDict(numBuckets) # numBuckets < entries\n",
    "\n",
    "for item in Entrys:\n",
    "    D.addEntry(item[0],item[1])\n",
    "\n",
    "print('The value of the intDict is:')\n",
    "print(D)\n",
    "\n",
    "print('\\n', 'The buckets are:')\n",
    "for hashBucket in D.buckets: #violates abstraction barrier\n",
    "    print('  ', hashBucket)\n"
   ]
  },
  {
   "cell_type": "code",
   "execution_count": null,
   "metadata": {
    "collapsed": true
   },
   "outputs": [],
   "source": [
    "%timeit getIntDict()"
   ]
  },
  {
   "cell_type": "markdown",
   "metadata": {},
   "source": [
    "### hash table large , less collisions\n",
    "\n",
    "* numBucket=50"
   ]
  },
  {
   "cell_type": "code",
   "execution_count": null,
   "metadata": {
    "collapsed": true
   },
   "outputs": [],
   "source": [
    "import random #a standard library module\n",
    "\n",
    "# hash table large , less collisions\n",
    "numBucket=50\n",
    "\n",
    "D = intDict(numBucket) # numBuckets >> entries\n",
    "\n",
    "for item in Entrys:\n",
    "    D.addEntry(item[0],item[1])\n",
    "    \n",
    "print('The value of the intDict is:')\n",
    "print(D)\n",
    "\n",
    "print('\\n', 'The buckets are:')\n",
    "for hashBucket in D.buckets: #violates abstraction barrier\n",
    "    print('  ', hashBucket)"
   ]
  },
  {
   "cell_type": "code",
   "execution_count": null,
   "metadata": {
    "collapsed": true
   },
   "outputs": [],
   "source": [
    "%timeit getIntDict()"
   ]
  },
  {
   "cell_type": "markdown",
   "metadata": {
    "collapsed": true
   },
   "source": [
    "##  Note: \n",
    "\n",
    "### hash table: a series of buckets\n",
    "\n",
    "* **bucket** : a list of key/value pairs. storing all of the values that hash to the same bucket in the list \n",
    "\n",
    "* **hash each element to bucket**: an address that is derived form the key value by applying the hash function\n",
    "    \n",
    "*  **search:**\n",
    "\n",
    "    * key -> the hash function -> an address of bucket in the hash table -> get valve in bucket"
   ]
  },
  {
   "cell_type": "markdown",
   "metadata": {},
   "source": [
    "## intDict in C"
   ]
  },
  {
   "cell_type": "code",
   "execution_count": 1,
   "metadata": {},
   "outputs": [
    {
     "name": "stdout",
     "output_type": "stream",
     "text": [
      "Overwriting ./code/ds/intDict.c\n"
     ]
    }
   ],
   "source": [
    "%%file ./code/ds/intDict.c\n",
    "\n",
    "#include <stdio.h>\n",
    "#include <stdlib.h>\n",
    "#include <time.h>\n",
    "\n",
    "typedef struct _node\n",
    "{\n",
    "\tint key;\n",
    "\tint value;\n",
    "\tstruct _node *next;\n",
    "} Node;\n",
    "\n",
    "typedef struct _hashtable\n",
    "{\n",
    "\tNode **buckets;\n",
    "} Hashtable;\n",
    "\n",
    "int inthash(int k,int  numBuckets)\n",
    "{\n",
    "\n",
    "    return k % numBuckets;\n",
    "}\n",
    "\n",
    "Node *searchEntry(Hashtable *HT, int k,int  numBuckets)\n",
    "{\n",
    "\tNode *p;\n",
    "\tint addr = inthash(k, numBuckets);\n",
    "\tp = HT->buckets[addr];\n",
    "\n",
    "\twhile(p && p->key !=k)\n",
    "\t\tp = p->next;\n",
    "\n",
    "\treturn p;\n",
    "}\n",
    "\n",
    "void addEntry(Hashtable *HT, Node *entry,int numBuckets)\n",
    "{\n",
    "\tint addr;\n",
    "\tNode *p;\n",
    "\tp = searchEntry(HT,entry->key,numBuckets);\n",
    "\tif(p)\n",
    "\t{\n",
    "\t\tfree(entry);\n",
    "\t}\n",
    "\telse\n",
    "\t{\n",
    "\t\taddr =  inthash(entry->key, numBuckets);\n",
    "\t\tentry->next = HT->buckets[addr];\n",
    "\t\tHT->buckets[addr] = entry;\n",
    "\t}\n",
    "}\n",
    "\n",
    "int getValue(Hashtable *HT, int key,int numBuckets)\n",
    "{   \n",
    "\tNode *p;\n",
    "\tp = searchEntry(HT,key,numBuckets);\n",
    "\tif (p)\n",
    "\t{\n",
    "      return p->value;\n",
    "\t}\n",
    "}\n",
    "\n",
    "int main()\n",
    "{\n",
    "\tint numBuckets=29;\n",
    "    int numEntries=20;\n",
    "    Hashtable *HT;\n",
    "\tNode **Entry;\n",
    "\t\n",
    "    HT=(Hashtable*)malloc(sizeof(Hashtable*));\n",
    "    HT->buckets=(Node**)malloc(sizeof(Node)*numBuckets);\n",
    "\n",
    "\tEntry=(Node**)malloc(sizeof(Node*)*20);\n",
    "\n",
    "\tfor(int i=0;i<numBuckets;i++)\n",
    "\t\tHT->buckets[i] = NULL;\n",
    "    \n",
    "    printf(\"The value of the intDict is:\\n\");\n",
    "    printf(\"(key value)\\n\");\n",
    "    srand(time(NULL));\n",
    "\tfor(int i=0;i<numEntries;i++)\n",
    "\t{\n",
    "\t\tEntry[i]=(Node*)malloc(sizeof(Node));\n",
    "\t  \tEntry[i]->key = rand() % 100000;\n",
    "\t\tEntry[i]->value=i;\n",
    "\t\taddEntry(HT,Entry[i], numBuckets);\n",
    "\t\tprintf(\"(%d %d)\\n\",Entry[i]->key,Entry[i]->value);\n",
    "\t}\n",
    "\n",
    "    printf(\"The buckets are: \\n\");\n",
    "\tfor(int i=0;i<numBuckets;i++)\n",
    "\t{\n",
    "       Node *b,*p;\n",
    "\t   b = HT->buckets[i];\n",
    "\t   printf(\"bucket %d :\",i);\n",
    "\t   if (b)\n",
    "\t   {\n",
    "\t     for(p=b; p!=NULL; p=p->next)\n",
    "\t        printf(\" (%d %d) \",p->key,p->value);\n",
    "\t     printf(\"\\n\"); \t\t\n",
    "\t   }\n",
    "\t   else\n",
    "\t    \tprintf(\"\\n\"); \t   \n",
    "\t}\n",
    "\n",
    "    printf(\"Hash search(even):\\n\");\n",
    "    printf(\"(key value) : key -> value:\\n\");\n",
    "\tfor(int i=0;i< numEntries;i++)\n",
    "\t{\n",
    "      if (i%2==0)\n",
    "      {\n",
    "        int value=getValue(HT, Entry[i]->key,numBuckets);\n",
    "        printf(\"(%d  %d): -> %d \\n\",Entry[i]->key,Entry[i]->value,value);\n",
    "      } \n",
    "\t}\n",
    "    \n",
    "    for(int i=0;i<numEntries;i++)\n",
    "\t\tfree(Entry[i]);\n",
    "    free(Entry);\n",
    "    free(HT->buckets);\n",
    "    free(HT);\n",
    "  \treturn 0;\n",
    "}"
   ]
  },
  {
   "cell_type": "code",
   "execution_count": 2,
   "metadata": {
    "collapsed": true
   },
   "outputs": [],
   "source": [
    "!gcc -o ./code/ds/intDict ./code/ds/intDict.c"
   ]
  },
  {
   "cell_type": "code",
   "execution_count": 3,
   "metadata": {},
   "outputs": [
    {
     "name": "stdout",
     "output_type": "stream",
     "text": [
      "The value of the intDict is:\n",
      "(key value)\n",
      "(26577 0)\n",
      "(24495 1)\n",
      "(12261 2)\n",
      "(27843 3)\n",
      "(28380 4)\n",
      "(15077 5)\n",
      "(10882 6)\n",
      "(16500 7)\n",
      "(28782 8)\n",
      "(27263 9)\n",
      "(5 10)\n",
      "(3893 11)\n",
      "(8591 12)\n",
      "(23859 13)\n",
      "(31457 14)\n",
      "(30204 15)\n",
      "(30314 16)\n",
      "(5459 17)\n",
      "(14251 18)\n",
      "(29786 19)\n",
      "The buckets are: \n",
      "bucket 0 :\n",
      "bucket 1 :\n",
      "bucket 2 :\n",
      "bucket 3 : (29786 19)  (27263 9)  (27843 3) \n",
      "bucket 4 :\n",
      "bucket 5 : (5 10) \n",
      "bucket 6 :\n",
      "bucket 7 : (5459 17)  (8591 12)  (3893 11)  (10882 6) \n",
      "bucket 8 :\n",
      "bucket 9 : (30314 16) \n",
      "bucket 10 :\n",
      "bucket 11 :\n",
      "bucket 12 : (14251 18) \n",
      "bucket 13 : (26577 0) \n",
      "bucket 14 : (28782 8) \n",
      "bucket 15 : (30204 15) \n",
      "bucket 16 :\n",
      "bucket 17 :\n",
      "bucket 18 : (28380 4) \n",
      "bucket 19 : (24495 1) \n",
      "bucket 20 :\n",
      "bucket 21 : (31457 14)  (23859 13) \n",
      "bucket 22 :\n",
      "bucket 23 : (12261 2) \n",
      "bucket 24 :\n",
      "bucket 25 :\n",
      "bucket 26 : (15077 5) \n",
      "bucket 27 :\n",
      "bucket 28 : (16500 7) \n",
      "Hash search(even):\n",
      "(key value) : key -> value:\n",
      "(26577  0): -> 0 \n",
      "(12261  2): -> 2 \n",
      "(28380  4): -> 4 \n",
      "(10882  6): -> 6 \n",
      "(28782  8): -> 8 \n",
      "(5  10): -> 10 \n",
      "(8591  12): -> 12 \n",
      "(31457  14): -> 14 \n",
      "(30314  16): -> 16 \n",
      "(14251  18): -> 18 \n"
     ]
    }
   ],
   "source": [
    "!.\\code\\ds\\intDict "
   ]
  },
  {
   "cell_type": "markdown",
   "metadata": {
    "collapsed": true
   },
   "source": [
    "## Further Reading\n",
    "\n",
    "* 严蔚敏，李冬梅，吴伟民. 数据结构（C语言版），人民邮电出版社（第2版）,2015年2月  \n",
    "\n",
    "\n",
    "* Mark Allen Weiss. Data Structures and Algorithm Analysis in C\n",
    "\n",
    "\n",
    "* GNU C Library: Searching and Sorting : http://www.gnu.org/software/libc/manual/html_node/Searching-and-Sorting.html\n",
    "\n",
    "\n",
    "* Hash table https://en.wikipedia.org/wiki/Hash_table"
   ]
  }
 ],
 "metadata": {
  "kernelspec": {
   "display_name": "Python 3",
   "language": "python",
   "name": "python3"
  },
  "language_info": {
   "codemirror_mode": {
    "name": "ipython",
    "version": 3
   },
   "file_extension": ".py",
   "mimetype": "text/x-python",
   "name": "python",
   "nbconvert_exporter": "python",
   "pygments_lexer": "ipython3",
   "version": "3.6.5"
  },
  "widgets": {
   "state": {},
   "version": "1.1.2"
  }
 },
 "nbformat": 4,
 "nbformat_minor": 1
}
