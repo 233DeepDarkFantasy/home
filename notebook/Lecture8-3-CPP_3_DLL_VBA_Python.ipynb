{
 "cells": [
  {
   "cell_type": "markdown",
   "metadata": {},
   "source": [
    "# C/C++ DLL with  Excel VBA,Python"
   ]
  },
  {
   "cell_type": "markdown",
   "metadata": {},
   "source": [
    "## 1 C/C++ __stdcall DLL \n",
    "\n",
    "  For `Visual Basic` applications (or applications in other languages such as Pascal or Fortran) to call functions in a C/C++ DLL, the functions must be exported using the correct calling convention without any name decoration done by the compiler.\n",
    "  \n",
    "VBA can **only** call `__stdcall` functions, not `__cdecl` functions. \n",
    "  \n",
    "*  `__stdcall` creates the correct calling convention for the function (the called function cleans up the stack and parameters are passed from right to left)\n",
    "\n",
    "* ` __declspec(dllexport)` is used on an `exported` function in a DLL\n",
    "\n",
    "Below is the example of techniques which facilitate the use of use of MinGW to create DLLs, exporting functions which may be called from Visual Basic Application with Excel. "
   ]
  },
  {
   "cell_type": "markdown",
   "metadata": {},
   "source": [
    "#### Step 1: Create your DLL with `__stdcall` calling convention\n",
    "\n",
    "Create a DLL with the following code:\n",
    "\n",
    "* mathfuns.h\n",
    "\n",
    "* mathfuns.c\n",
    "\n",
    "Export all functions as `__stdcall`."
   ]
  },
  {
   "cell_type": "code",
   "execution_count": 1,
   "metadata": {},
   "outputs": [
    {
     "name": "stdout",
     "output_type": "stream",
     "text": [
      "Overwriting ./code/gcc/mathfuns.h\n"
     ]
    }
   ],
   "source": [
    "%%file ./code/gcc/mathfuns.h\n",
    "\n",
    "#ifdef BUILD_DLL\n",
    "#define DLLPORT __declspec(dllexport)\n",
    "#else\n",
    "#define DLLPORT __declspec(dllimport)\n",
    "#endif\n",
    "\n",
    "DLLPORT __stdcall double fadd(double a,double b);\n",
    "DLLPORT __stdcall double fmul(double a, double b);"
   ]
  },
  {
   "cell_type": "markdown",
   "metadata": {},
   "source": [
    "When you create header files for your DLLs, use\n",
    "\n",
    "* ` __declspec(dllexport) ` adds the `export` directive to the object fileworks\n",
    "\n",
    "* ` __declspec(dllimport)`  on the declarations of the public symbols"
   ]
  },
  {
   "cell_type": "code",
   "execution_count": 2,
   "metadata": {},
   "outputs": [
    {
     "name": "stdout",
     "output_type": "stream",
     "text": [
      "Overwriting ./code/gcc/mathfuns.c\n"
     ]
    }
   ],
   "source": [
    "%%file ./code/gcc/mathfuns.c\n",
    "\n",
    "#include \"mathfuns.h\"\n",
    "\n",
    "DLLPORT __stdcall double fadd(double a,double b){\n",
    "   return (a+b);\n",
    "}\n",
    "\n",
    "DLLPORT __stdcall double  fmul(double a, double b){\n",
    "   return (a*b);\n",
    "}"
   ]
  },
  {
   "cell_type": "code",
   "execution_count": 3,
   "metadata": {},
   "outputs": [],
   "source": [
    "!gcc -c -DBUILD_DLL ./code/gcc/mathfuns.c\n",
    "!gcc -shared -o ./code/bin/libmathfuns.dll mathfuns.o -Wl,--add-stdcall-alias"
   ]
  },
  {
   "cell_type": "markdown",
   "metadata": {},
   "source": [
    "* -DBUILD_DLL:\n",
    "   \n",
    "  * -Dname: `Predefine name as a macro`, with definition \n",
    "  \n",
    "\n",
    "*  -Wl,option \n",
    "\n",
    "   Pass **option** as an option to the **linker**. If option contains commas, it is split into multiple options at the commas.\n",
    "\n",
    "\n",
    "* --add-stdcall-alias:\n",
    "   \n",
    "   This adds an undecorated alias for the `exported function names` that is simply **the name of the function** "
   ]
  },
  {
   "cell_type": "markdown",
   "metadata": {},
   "source": [
    "#### Add -static-libgcc ,-output-def=libmathfuns.def"
   ]
  },
  {
   "cell_type": "code",
   "execution_count": 4,
   "metadata": {},
   "outputs": [],
   "source": [
    "!gcc -c -DBUILD_DLL ./code/gcc/mathfuns.c\n",
    "!gcc -shared -o ./code/bin/libmathfuns.dll -static-libgcc mathfuns.o -Wl,--add-stdcall-alias,-output-def=./code/bin/libmathfuns.def"
   ]
  },
  {
   "cell_type": "markdown",
   "metadata": {},
   "source": [
    "* -static-libgcc\n",
    "\n",
    "   This option links the GNU `libgcc` library `statically`. \n",
    "   \n",
    "\n",
    "* -output-def=libmathfuns.def\n",
    "\n",
    "    Name of `.def` file to be created.\n",
    "    \n",
    "    **def:** A module-definition  file is a text file containing one or more module statements that describe various attributes of a DLL"
   ]
  },
  {
   "cell_type": "code",
   "execution_count": null,
   "metadata": {},
   "outputs": [],
   "source": [
    "%load ./code/bin/libmathfuns.def"
   ]
  },
  {
   "cell_type": "code",
   "execution_count": 7,
   "metadata": {},
   "outputs": [
    {
     "name": "stdout",
     "output_type": "stream",
     "text": [
      "Writing ./code/makefile-stdcall\n"
     ]
    }
   ],
   "source": [
    "%%file ./code/makefile-stdcall\n",
    "\n",
    "CC=gcc\n",
    "CFLAGS=-DBUILD_DLL -o\n",
    "\n",
    "all: libmathfuns.dll\n",
    "\n",
    "libmathfuns.dll: mathfunsobj\n",
    "\t $(CC) -shared -o ./code/bin/libmathfuns.dll -static-libgcc mathfuns.o -Wl,--add-stdcall-alias,-output-def=libmathfuns.def\n",
    "\t del mathfuns.o\n",
    "    \n",
    "mathfunsobj: ./code/gcc/mathfuns.c\n",
    "\t $(CC) -c $(CFLAGS) mathfuns.o ./code/gcc/mathfuns.c\n",
    "     \n",
    "clean:\n",
    "\t del .\\code\\bin\\libmathfuns.dll"
   ]
  },
  {
   "cell_type": "code",
   "execution_count": 9,
   "metadata": {},
   "outputs": [
    {
     "name": "stdout",
     "output_type": "stream",
     "text": [
      "gcc -c -DBUILD_DLL -o mathfuns.o ./code/gcc/mathfuns.c\n",
      "gcc -shared -o ./code/bin/libmathfuns.dll -static-libgcc mathfuns.o -Wl,--add-stdcall-alias,-output-def=libmathfuns.def\n",
      "del mathfuns.o\n"
     ]
    }
   ],
   "source": [
    "!make -f ./code/makefile-stdcall"
   ]
  },
  {
   "cell_type": "markdown",
   "metadata": {},
   "source": [
    "## 2 Call DLL from Excel VBA(64bits)\n",
    "\n",
    "Do as the following steps:\n",
    "\n",
    "**1** `libmathfuns.dll` in the default path of windows'dll `C:\\windows\\system`\n",
    "\n",
    "\n",
    "**2** `demo-vba.xlsm` in `./code/gcc/`\n",
    "\n",
    "\n",
    "**3**  create the `VBA modules` to call the DLL.\n",
    "\n",
    "press \"`ALT+F11`\" into **VBA**,then:\n",
    "\n",
    "* `3.1` create the module **mathfuns** to call library:\n",
    "\n",
    "```vba\n",
    "Public Declare PtrSafe Function fadd Lib \"libmathfuns\" (ByVal a As Double, ByVal b As Double) As Double\n",
    "Public Declare PtrSafe Function fmul Lib \"libmathfuns\" (ByVal a As Double, ByVal b As Double) As Double\n",
    "```\n",
    "* `3.2` create the module **vbaapi** to call the methods in `mathfuns`:\n",
    "\n",
    "```vba\n",
    "Public Function sadd(ByVal a As Double, ByVal b As Double) As Double\n",
    "    sadd = mathfuns.fadd(a, b)\n",
    "End Function\n",
    " \n",
    "Public Function smul(ByVal a As Double, ByVal b As Double) As Double\n",
    "    smul = mathfuns.fmul(a, b)\n",
    "End Function\n",
    "```\n",
    "![vba-code](./img/vba-code.jpg)\n",
    "\n",
    "\n",
    "**4**  call VBA methods in cells\n",
    "\n",
    "![demo-vba](./img/demo-vba.jpg)"
   ]
  },
  {
   "cell_type": "markdown",
   "metadata": {},
   "source": [
    "## 3 call_stdcall DLL from Python\n",
    "\n",
    "```python\n",
    " windll.LoadLibrary\n",
    "```"
   ]
  },
  {
   "cell_type": "code",
   "execution_count": 10,
   "metadata": {},
   "outputs": [
    {
     "name": "stdout",
     "output_type": "stream",
     "text": [
      "Overwriting ./code/gcc/mathfuns.py\n"
     ]
    }
   ],
   "source": [
    "%%file ./code/gcc/mathfuns.py\n",
    "\n",
    "from ctypes import windll,c_double\n",
    "\n",
    "flib = windll.LoadLibrary('./code/bin/libmathfuns.dll')\n",
    "\n",
    "def fadd(a,b):\n",
    "    flib.fadd.argtypes = [c_double,c_double]\n",
    "    flib.fadd.restype  = c_double\n",
    "    return flib.fadd(a,b)\n",
    "\n",
    "def fmul(a,b):\n",
    "    flib.fmul.argtypes = [c_double,c_double]\n",
    "    flib.fmul.restype  = c_double\n",
    "    return flib.fmul(a,b)"
   ]
  },
  {
   "cell_type": "markdown",
   "metadata": {},
   "source": [
    "#### the python module  `mathfuns.py` is not in the interperte search path"
   ]
  },
  {
   "cell_type": "code",
   "execution_count": 11,
   "metadata": {},
   "outputs": [
    {
     "name": "stdout",
     "output_type": "stream",
     "text": [
      "4.6 + 5 = 9.6\n",
      "4.6 * 5 = 23.0\n"
     ]
    }
   ],
   "source": [
    "import sys\n",
    "sys.path.append('./code/gcc')\n",
    "from mathfuns import *\n",
    "a=4.6\n",
    "b=5\n",
    "print(a,'+',b,'=',fadd(a,b))\n",
    "print(a,'*',b,'=',fmul(a,b))"
   ]
  },
  {
   "cell_type": "markdown",
   "metadata": {},
   "source": [
    "#### SEUIF97：call_stdcall DLL from Python\n",
    "\n",
    "WINFUNCTYPE"
   ]
  },
  {
   "cell_type": "code",
   "execution_count": 12,
   "metadata": {},
   "outputs": [],
   "source": [
    "from ctypes import *\n",
    "\n",
    "flib = windll.LoadLibrary('libseuif97.dll')\n",
    "prototype = WINFUNCTYPE(c_double, c_double, c_double, c_int)\n",
    "\n",
    "# ---(p,t) ----------------\n",
    "\n",
    "def pt(p, t, pid):\n",
    "    f = prototype((\"seupt\", flib),)\n",
    "    result = f(p, t, pid)\n",
    "    return result\n",
    "\n",
    "\n",
    "def pt2h(p, t):\n",
    "    f = prototype((\"seupt\", flib),)\n",
    "    result = f(p, t, 4)\n",
    "    return result"
   ]
  },
  {
   "cell_type": "code",
   "execution_count": 13,
   "metadata": {},
   "outputs": [
    {
     "data": {
      "text/plain": [
       "3398.1326343129176"
      ]
     },
     "execution_count": 13,
     "metadata": {},
     "output_type": "execute_result"
    }
   ],
   "source": [
    "h=pt(16,535,4)\n",
    "h"
   ]
  },
  {
   "cell_type": "markdown",
   "metadata": {},
   "source": [
    "## 4 Call __stdcall DLL from C "
   ]
  },
  {
   "cell_type": "code",
   "execution_count": 14,
   "metadata": {},
   "outputs": [
    {
     "name": "stdout",
     "output_type": "stream",
     "text": [
      "Overwriting ./code/gcc/mainmathfuns.c\n"
     ]
    }
   ],
   "source": [
    "%%file ./code/gcc/mainmathfuns.c\n",
    "\n",
    "#include <stdio.h>\n",
    "#include \"mathfuns.h\"\n",
    " \n",
    "int main() {\n",
    "    double a=5.3;\n",
    "    double b=6.1;\n",
    "    double radd=fadd(a,b);\n",
    "    double rmul=fmul(a,b);\n",
    "    printf(\"%.3f + %.3f = %.3f \\n\",a,b,radd);\n",
    "    printf(\"%.3f * %.3f = %.3f \\n\",a,b,rmul);\n",
    "    return 0;\n",
    "}"
   ]
  },
  {
   "cell_type": "code",
   "execution_count": 15,
   "metadata": {},
   "outputs": [],
   "source": [
    "!gcc -c -o mainmathfuns.o ./code/gcc/mainmathfuns.c \n",
    "!gcc -o  ./code/bin/mainmathfuns.exe mainmathfuns.o -I./code/gcc/ -L./code/bin/ -lmathfuns"
   ]
  },
  {
   "cell_type": "code",
   "execution_count": 16,
   "metadata": {},
   "outputs": [
    {
     "name": "stdout",
     "output_type": "stream",
     "text": [
      "5.300 + 6.100 = 11.400 \n",
      "5.300 * 6.100 = 32.330 \n"
     ]
    }
   ],
   "source": [
    "!.\\code\\bin\\mainmathfuns"
   ]
  },
  {
   "cell_type": "markdown",
   "metadata": {},
   "source": [
    "#### Building with makefile"
   ]
  },
  {
   "cell_type": "code",
   "execution_count": 20,
   "metadata": {},
   "outputs": [
    {
     "name": "stdout",
     "output_type": "stream",
     "text": [
      "Overwriting ./code/makefile-stdcall-c\n"
     ]
    }
   ],
   "source": [
    "%%file ./code/makefile-stdcall-c\n",
    "\n",
    "all: mainmathfuns.exe\n",
    "\n",
    "clean:\n",
    "\tdel .\\code\\bin\\mainmathfuns.exe\n",
    "\n",
    "mainmathfuns.exe: mainmathfuns.o ./code/gcc/mathfuns.h \n",
    "\tgcc -o ./code/bin/mainmathfuns mainmathfuns.o -I./code/gcc -L./code/bin/ -lmathfuns\n",
    "\tdel *.o\n",
    "\n",
    "mainmathfuns.o: ./code/gcc/mainmathfuns.c \n",
    "\tgcc -c ./code/gcc/mainmathfuns.c "
   ]
  },
  {
   "cell_type": "code",
   "execution_count": 21,
   "metadata": {},
   "outputs": [
    {
     "name": "stdout",
     "output_type": "stream",
     "text": [
      "gcc -o ./code/bin/mainmathfuns mainmathfuns.o -I./code/gcc -L./code/bin/ -lmathfuns\n",
      "del *.o\n"
     ]
    }
   ],
   "source": [
    "!make -f ./code/makefile-stdcall-c"
   ]
  },
  {
   "cell_type": "code",
   "execution_count": 22,
   "metadata": {},
   "outputs": [
    {
     "name": "stdout",
     "output_type": "stream",
     "text": [
      "5.300 + 6.100 = 11.400 \n",
      "5.300 * 6.100 = 32.330 \n"
     ]
    }
   ],
   "source": [
    "!.\\code\\bin\\mainmathfuns"
   ]
  },
  {
   "cell_type": "markdown",
   "metadata": {},
   "source": [
    "### Further reading"
   ]
  },
  {
   "cell_type": "markdown",
   "metadata": {},
   "source": [
    "* ctypes http://docs.python.org/3/library/ctypes.html\n",
    "\n",
    "\n",
    "* DLLs in Visual C++ https://msdn.microsoft.com/en-us/library/1ez7dh12.aspx\n",
    "\n",
    "\n",
    "* Calling DLL Functions from Visual Basic Applications https://msdn.microsoft.com/en-us/library/dt232c9t.aspx\n",
    "\n",
    "\n",
    "* Getting Started with VBA in Office 2010: https://msdn.microsoft.com/library/office/ee814735(v=office.14)\n",
    "\n",
    "   \n",
    "* Excel VBA Programming:  http://www.homeandlearn.org/the_excel_vba_editor.html\n",
    "\n",
    "\n",
    "* **Excel4Engineering** https://github.com/PySEE/Excel4Engineering"
   ]
  },
  {
   "cell_type": "code",
   "execution_count": null,
   "metadata": {},
   "outputs": [],
   "source": []
  }
 ],
 "metadata": {
  "kernelspec": {
   "display_name": "Python 3",
   "language": "python",
   "name": "python3"
  },
  "language_info": {
   "codemirror_mode": {
    "name": "ipython",
    "version": 3
   },
   "file_extension": ".py",
   "mimetype": "text/x-python",
   "name": "python",
   "nbconvert_exporter": "python",
   "pygments_lexer": "ipython3",
   "version": "3.7.0"
  },
  "widgets": {
   "state": {},
   "version": "1.1.2"
  }
 },
 "nbformat": 4,
 "nbformat_minor": 1
}
