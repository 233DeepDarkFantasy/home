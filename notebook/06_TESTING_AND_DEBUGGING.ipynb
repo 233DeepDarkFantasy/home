{
 "cells": [
  {
   "cell_type": "markdown",
   "metadata": {
    "collapsed": true
   },
   "source": [
    "# 6 TESTING AND DEBUGGING\n",
    "\n",
    "<strong style=\"color:blue\">Testing</strong> is the process of running a program to try and ascertain whether or not  it <strong style=\"color:blue\">works as intended</strong>.\n",
    "\n",
    "<strong style=\"color:blue\">Debugging</strong> is the process of trying to <strong style=\"color:blue\">fix a program </strong>that you already know does not work as intended.\n",
    "\n",
    "Good programmers design their programs in ways that make them <strong style=\"color:blue\"><b style=\"color:red\">easy</b> to test and debug</strong>. \n",
    "\n",
    "The key to doing this is breaking the program up into <strong style=\"color:blue\">separate components </strong>that can be \n",
    "\n",
    "<strong style=\"color:blue\">\n",
    "1 implemented \n",
    "\n",
    "2 tested\n",
    "\n",
    "3 debugged \n",
    "</strong>\n",
    "\n",
    "independently of other components\n"
   ]
  },
  {
   "cell_type": "markdown",
   "metadata": {},
   "source": [
    "## 6.1 Testing\n",
    "\n",
    "The most important thing to say about testing is that its purpose is to  \n",
    "\n",
    "<b>show that bugs exist , not to show that a program is bug-free</b>. \n",
    "\n",
    "Edsger Dijkstra,\n",
    "\n",
    " “Program testing can be used to show the presence of bugs, but never to show\n",
    "their absence!”\n",
    "\n",
    "Albert Einstein, \n",
    "\n",
    "“No amount of experimentation can ever prove me right; a single experiment can prove me wrong.”\n",
    "\n",
    "Why is this so?\n",
    "```python\n",
    "def isBigger(x, y):\n",
    "    \"\"\"Assumes x and y are ints\n",
    "    Returns True if x is less than y and False otherwise.\"\"\"\n",
    "```\n",
    "Running it on **all pairs of integers** would be, to say the least, tedious. \n",
    "\n",
    "The best we can do is to run it on **pairs of integers** that have a reasonable probability of\n",
    "producing the wrong answer if there is a bug in the program.\n",
    "\n",
    "<hr style=\"height:2px;color:blue\"/>\n",
    "\n",
    "The key to testing is  <b style=\"color:blue\">finding</b> a collection of inputs, called  <b style=\"color:blue\">a test suite</b>, that has a high likelihood of  <b style=\"color:blue\">revealing bugs, yet does not take too long to run</b>.\n",
    "\n",
    "Consider, for example, **isBigger(x, y).** The set of possible inputs is all pairwise combinations of integers. One way to partition this set is into these seven subsets:\n",
    "* x positive, y positive\n",
    "* x negative, y negative\n",
    "* x positive, y negative\n",
    "* x negative, y positive\n",
    "* x = 0, y = 0\n",
    "* x = 0, y ≠ 0\n",
    "* x ≠ 0, y = 0\n",
    "\n",
    "If one tested the implementation on at least one value from each of these subsets, there would be reasonable probability (but no guarantee) of exposing a\n",
    "bug if one exists.\n",
    "\n",
    "<hr style=\"height:2px;color:blue\"/>\n",
    "For most programs, finding a good partitioning of the inputs is far easier said than done. \n",
    "\n",
    "Typically, people rely on heuristics based on exploring different paths through some combination of the code and the specifications. \n",
    "\n",
    "<b>Glass-Box</b>  testing: exploring paths through the <b>code</b>\n",
    "\n",
    "<b>Black-Box</b> testing:  exploring paths through the <b>specification</b> "
   ]
  },
  {
   "cell_type": "markdown",
   "metadata": {},
   "source": [
    "### 6.1.1 Black-Box Testing\n",
    "\n",
    "In principle,black-box tests are constructed without looking at the code to be tested.\n",
    "\n",
    "Black-box testing allows <b>testers</b> and <b>implementers</b> to be drawn from <b>separate populations</b>.\n",
    "\n",
    "<b>positive feature of black-box</b>\n",
    "\n",
    "1. This independence <b>reduces</b> the likelihood of generating <b>test suites</b> that exhibit <b>mistakes</b> that are correlated with **mistakes in the code**. \n",
    "\n",
    "2. black-box testing is **robust** with respect to implementation **changes**.\n"
   ]
  },
  {
   "cell_type": "markdown",
   "metadata": {
    "collapsed": true
   },
   "source": [
    "\n",
    "### Good ways to generate black-box test data\n",
    "\n",
    "* 1. **explore paths** through a <b>specification</b>. \n",
    "\n",
    "Consider, the specification\n",
    "\n",
    "```python\n",
    "def sqrt(x, epsilon):\n",
    "    \"\"\"Assumes x, epsilon floats\n",
    "    x >= 0\n",
    "    epsilon > 0\n",
    "    Returns result such that\n",
    "    x-epsilon <= result*result <= x+epsilon\"\"\"   \n",
    "```\n",
    "\n",
    "**It is hardly  sufficient**\n",
    "\n",
    "*  **Boundary conditions** should also be tested.\n",
    "\n",
    "  *  When dealing with numbers, it typically means looking at \n",
    "     \n",
    "      * very small values\n",
    "      * very large values\n",
    "      * **typical** values.\n",
    "\n",
    "  * Another important boundary condition to think about is <b>aliasing</b>. \n",
    "  \n",
    "      * Consider, for example, the code"
   ]
  },
  {
   "cell_type": "code",
   "execution_count": 2,
   "metadata": {
    "collapsed": true
   },
   "outputs": [],
   "source": [
    "def copy(L1, L2):\n",
    "    \"\"\"Assumes L1, L2 are lists\n",
    "    Mutates L2 to be a copy of L1\"\"\"\n",
    "    \n",
    "    while len(L2) > 0: #remove all elements from L2\n",
    "        L2.pop()       # remove last element of L2\n",
    "    \n",
    "    for e in L1:       #append L1's elements to initially empty L2\n",
    "        L2.append(e)        "
   ]
  },
  {
   "cell_type": "markdown",
   "metadata": {},
   "source": [
    "It will work most of the time"
   ]
  },
  {
   "cell_type": "code",
   "execution_count": 3,
   "metadata": {},
   "outputs": [
    {
     "name": "stdout",
     "output_type": "stream",
     "text": [
      "[1, 2, 3, 4]\n",
      "2598529324552\n",
      "2598529324488\n"
     ]
    }
   ],
   "source": [
    "L1=[1,2,3,4]\n",
    "L2=[2,3,4,5]\n",
    "copy(L1, L2)\n",
    "print(L2)\n",
    "print(id(L1))\n",
    "print(id(L2))"
   ]
  },
  {
   "cell_type": "code",
   "execution_count": 4,
   "metadata": {},
   "outputs": [
    {
     "name": "stdout",
     "output_type": "stream",
     "text": [
      "[1, 2, 3, 4]\n",
      "2598529090760\n",
      "2598529247816\n"
     ]
    }
   ],
   "source": [
    "L1=[1,2,3,4]\n",
    "L2=[1,2,3,4]\n",
    "copy(L1, L2)\n",
    "print(L2)\n",
    "print(id(L1))\n",
    "print(id(L2))\n"
   ]
  },
  {
   "cell_type": "markdown",
   "metadata": {},
   "source": [
    "* BUT when L1 and L2 refer to **the same list**(the same object)  **？** "
   ]
  },
  {
   "cell_type": "code",
   "execution_count": 5,
   "metadata": {},
   "outputs": [
    {
     "name": "stdout",
     "output_type": "stream",
     "text": [
      "[]\n",
      "2598529247112\n",
      "2598529247112\n"
     ]
    }
   ],
   "source": [
    "L1=[1,2,3,4]\n",
    "L2=L1    #  L1 and L2 refer to the same list. aliasing: 别名混叠\n",
    "copy(L1, L2)\n",
    "print(L2)\n",
    "print(id(L1))\n",
    "print(id(L2))"
   ]
  },
  {
   "cell_type": "markdown",
   "metadata": {},
   "source": [
    "Any test suite that did not include a call of the form \n",
    "\n",
    "```python\n",
    "copy(L, L)\n",
    "```\n",
    "\n",
    "would not reveal the bug"
   ]
  },
  {
   "cell_type": "markdown",
   "metadata": {
    "collapsed": true
   },
   "source": [
    "### 6.1.2  Glass-Box Testing\n",
    "\n",
    "Without looking at the internal structure of the code,\n",
    "\n",
    "it is <b>impossible</b> to know which test cases are likely to provide new information.\n",
    "\n",
    "* A prime number (or a prime) is a natural number greater than 1 that has no positive divisors other than 1 and itself"
   ]
  },
  {
   "cell_type": "code",
   "execution_count": 6,
   "metadata": {
    "collapsed": true
   },
   "outputs": [],
   "source": [
    "def isPrime(x):\n",
    "    \"\"\"Assumes x is a nonnegative int\n",
    "    Returns True if x is prime; False otherwise\"\"\"\n",
    "    if x <= 2:  # bug\n",
    "        return False\n",
    "    \n",
    "    for i in range(2, x):\n",
    "        if x%i == 0:\n",
    "           return False\n",
    "    \n",
    "    return True"
   ]
  },
  {
   "cell_type": "code",
   "execution_count": 7,
   "metadata": {},
   "outputs": [
    {
     "data": {
      "text/plain": [
       "False"
      ]
     },
     "execution_count": 7,
     "metadata": {},
     "output_type": "execute_result"
    }
   ],
   "source": [
    "isPrime(2)"
   ]
  },
  {
   "cell_type": "markdown",
   "metadata": {},
   "source": [
    "Without looking at the code, one might not test \n",
    "```python\n",
    "isPrime(2), \n",
    "```\n",
    "and would therefore not discover that the function call `isPrime(2)` returns False, \n",
    "\n",
    "erroneously indicating that 2 is not a prime"
   ]
  },
  {
   "cell_type": "markdown",
   "metadata": {},
   "source": [
    "<b>Glass-box test suites</b> are usually much <b>easier to construct</b> than black-box test suites.\n",
    "\n",
    "A glass-box test suite is <b>path-complete</b> \n",
    "\n",
    "   * if it exercises **every potential path** through the program. \n",
    "\n",
    "But this is typically impossible to achieve.\n",
    "\n",
    "Furthermore, even a path-complete test suite does not guarantee that all bugs will be exposed.\n"
   ]
  },
  {
   "cell_type": "code",
   "execution_count": 9,
   "metadata": {
    "collapsed": true
   },
   "outputs": [],
   "source": [
    "def iabs(x):\n",
    "    \"\"\"Assumes x is an int\n",
    "    Returns x if x>=0 and –x otherwise\"\"\"\n",
    "    if x < -1:     # bug: iabs(-1) will return -1.\n",
    "        return -x\n",
    "    else:\n",
    "        return x"
   ]
  },
  {
   "cell_type": "markdown",
   "metadata": {},
   "source": [
    "This suggests that the set of inputs {2, -2} is sufficient to explore \n",
    "\n",
    "<b>all paths(a path-complete test suite)</b>\n",
    "\n",
    "in the specification."
   ]
  },
  {
   "cell_type": "code",
   "execution_count": 10,
   "metadata": {},
   "outputs": [
    {
     "data": {
      "text/plain": [
       "2"
      ]
     },
     "execution_count": 10,
     "metadata": {},
     "output_type": "execute_result"
    }
   ],
   "source": [
    "iabs(2)"
   ]
  },
  {
   "cell_type": "code",
   "execution_count": 12,
   "metadata": {},
   "outputs": [
    {
     "data": {
      "text/plain": [
       "2"
      ]
     },
     "execution_count": 12,
     "metadata": {},
     "output_type": "execute_result"
    }
   ],
   "source": [
    "iabs(-2)"
   ]
  },
  {
   "cell_type": "code",
   "execution_count": 13,
   "metadata": {},
   "outputs": [
    {
     "data": {
      "text/plain": [
       "-1"
      ]
     },
     "execution_count": 13,
     "metadata": {},
     "output_type": "execute_result"
    }
   ],
   "source": [
    "iabs(-1)"
   ]
  },
  {
   "cell_type": "markdown",
   "metadata": {},
   "source": [
    "**BUT**: The only problem is that this <b>path-complete</b> test suite  will not expose the fact that\n",
    "\n",
    "* ```iabs(-1)``` will return ```-1```."
   ]
  },
  {
   "cell_type": "markdown",
   "metadata": {
    "collapsed": true
   },
   "source": [
    "There are a few rules of thumb that are usually worth following:\n",
    "    \n",
    "* if \n",
    "* except\n",
    "* for loop\n",
    "* while\n",
    "* recursive function"
   ]
  },
  {
   "cell_type": "markdown",
   "metadata": {
    "collapsed": true
   },
   "source": [
    "### 6.1.3 Conducting Tests\n",
    "\n",
    "Testing is often thought of as occurring in two phases:\n",
    "\n",
    "* <b>unit testing</b> \n",
    "\n",
    "* <b>integration testing</b>\n",
    "\n",
    "### unit testing\n",
    "\n",
    "During this phase testers construct and run tests designed to ascertain whether **individual units** of code (e.g., functions) work properly.\n",
    "\n",
    "One should always start with <b>unit testing</b>.\n",
    "\n",
    "### integration testing\n",
    "\n",
    "This is followed by  <b>integration testing</b>,which is designed to ascertain whetherthe program as **a whole** behaves as intended.\n",
    "\n",
    "During unit testing, we often need to build <b>stubs</b> as well as <b>drivers</b>. \n",
    "\n",
    "* <b>Stubs</b> simulate **parts** of the program <b>used by the unit</b> being tested.\n",
    "\n",
    "* <b>Drivers</b>: simulate **parts** of the program that <b>use the unit</b> being tested \n",
    "\n",
    "One attraction of automating the testing process is that it facilitates <b>regression testing</b>.\n",
    "\n",
    "* Whenever any change is made, no matter how small, you should check that the program still passes all of the tests that it used to pass.\n",
    "\n",
    "Many industrial software development organizations have \n",
    "\n",
    "* a <b>software quality assurance (SQA)</b> group that is <b>separate</b>\n",
    "\n",
    "from the group charged with implementing the software"
   ]
  },
  {
   "cell_type": "markdown",
   "metadata": {},
   "source": [
    "<hr style=\"height:2px;color:blue\"/>\n",
    "## 6.2 Debugging\n",
    "\n",
    "There is a charming urban legend about how the process of fixing flaws in software came to be known as debugging.\n",
    "\n",
    "Runtime bugs can be categorized along two dimensions:\n",
    "\n",
    "(1) <b>Overt → covert</b>:\n",
    "\n",
    "   An overt bug has an <b>obvious</b> manifestation\n",
    "   \n",
    "   A covert bug has <b>no obvious</b> manifestation.\n",
    "   \n",
    "   Many bugs fall between the two extremes\n",
    "   \n",
    "   \n",
    "(2)<b>Persistent → intermittent</b>:\n",
    "\n",
    "   A persistent bug <b>occurs every time</b> the  program is run with the same inputs.\n",
    "   \n",
    "   An intermittent bug <b>occurs only some of the time</b>, even when the program is run on the same inputs and seemingly under the same conditions.\n",
    "\n",
    "**A)** The best kinds of bugs to have are overt and persistent.\n",
    " \n",
    ">Good programmers try to write their programs in such a way that programming  mistakes lead to >bugs that are both **overt and persistent**. \n",
    "\n",
    ">This is often called <b>defensive programming</b> : the practice of writing programs that check their own operation to catch errors as early as possible\n",
    "\n",
    "\n",
    "**B)** The next step into the pit of undesirability is bugs that are <b>overt but intermittent</b>.\n",
    "   \n",
    "**C)** Programs that fail in <b>covert</b> ways are often <b>highly dangerous</b>.\n",
    "\n",
    "Bugs that are both <b>covert and intermittent</b> are almost always the <b>hardest</b> to find and fix."
   ]
  },
  {
   "cell_type": "markdown",
   "metadata": {},
   "source": [
    "### 6.2.1 Learning to Debug\n",
    "\n",
    "#### Debugging is a learned skill.\n",
    "\n",
    "The good news is  that it’s not hard to learn, and it is a transferable skill.\n",
    "\n",
    "Most programmers say that \n",
    "\n",
    "the most important debugging tool is the <b>print</b> statement.\n",
    "\n",
    "Debugging is the process of searching for an explanation of that behavior. \n",
    "\n",
    "The key to being consistently good at debugging is being <b>systematic</b> in conducting that search.\n",
    "\n",
    "1. Start by <b>studying the available data</b>: the test results and the program text\n",
    "\n",
    "\n",
    "2. <b>form a hypothesis </b> that you believe to be consistent with all the data\n",
    "\n",
    "\n",
    "3. design and run <b>a repeatable experiment</b> with the potential to <b>refute</b> the hypothesis\n",
    "\n",
    "4. Finally, it’s important to keep <b>a record of what experiments </b>"
   ]
  },
  {
   "cell_type": "markdown",
   "metadata": {
    "collapsed": true
   },
   "source": [
    "### 6.2.2 Designing the Experiment\n",
    "\n",
    "Think of debugging as a search process, and \n",
    "\n",
    "each experiment as an attempt to <b>reduce the size of the search space</b>. \n",
    "\n",
    "**1 One way** to reduce the size of the search space is to design an experiment \n",
    "\n",
    "that can be used to decide whether <b>a specific region of code</b> is responsible for a problem uncovered during integration testing.\n",
    "\n",
    "**2 Another way** to reduce the search space is to\n",
    "\n",
    "**reduce the amount of test data** needed to provoke a manifestation of a bug.\n",
    "\n",
    "\n",
    "Let’s look at a contrived example to see how one\n",
    "\n",
    "A palindrome is a word, phrase, number, or other sequence of characters which reads the same backward or forward\n",
    "\n",
    "##### \"race car\" <-> \"rac ecar\""
   ]
  },
  {
   "cell_type": "code",
   "execution_count": 2,
   "metadata": {
    "collapsed": true
   },
   "outputs": [],
   "source": [
    "#Page 79, Figure 6.1\n",
    "def isPal(x):\n",
    "    \"\"\"Assumes x is a list\n",
    "       Returns True if the list is a palindrome; False otherwise\"\"\"\n",
    "    \n",
    "    temp = x\n",
    "    \n",
    "    temp.reverse\n",
    "    \n",
    "    if temp == x:\n",
    "        return True\n",
    "    else:\n",
    "        return False\n",
    "\n",
    "def silly(n):\n",
    "    \"\"\"Assumes n is an int > 0\n",
    "       Gets n inputs from user\n",
    "       Prints 'Yes' if the sequence of inputs forms a palindrome;\n",
    "       'No' otherwise\"\"\"\n",
    "    \n",
    "    for i in range(n):\n",
    "        \n",
    "        result = []   #result is never more than one element long,\n",
    "        \n",
    "        elem = input('Enter element: ')\n",
    "        result.append(elem)\n",
    "    \n",
    "    if isPal(result):\n",
    "        print('Yes')\n",
    "    else:\n",
    "        print('No')"
   ]
  },
  {
   "cell_type": "code",
   "execution_count": 3,
   "metadata": {},
   "outputs": [
    {
     "name": "stdout",
     "output_type": "stream",
     "text": [
      "Enter element: a\n",
      "Enter element: b\n",
      "Yes\n"
     ]
    }
   ],
   "source": [
    "silly(2)  "
   ]
  },
  {
   "cell_type": "markdown",
   "metadata": {},
   "source": [
    "1.  We check this by inserting the statement \n",
    "```python\n",
    "print(result)\n",
    "```\n",
    "before \n",
    "```python\n",
    " if isPal(result):\n",
    "``` "
   ]
  },
  {
   "cell_type": "code",
   "execution_count": 5,
   "metadata": {
    "collapsed": true
   },
   "outputs": [],
   "source": [
    "def silly(n):\n",
    "    \"\"\"Assumes n is an int > 0\n",
    "       Gets n inputs from user\n",
    "       Prints 'Yes' if the sequence of inputs forms a palindrome;\n",
    "       'No' otherwise\"\"\"\n",
    "    for i in range(n):\n",
    "        \n",
    "        result = []  # result is never more than one element long,\n",
    "        \n",
    "        elem = input('Enter element: ')\n",
    "        result.append(elem)\n",
    "    \n",
    "    # 1. inserting the statement print result \n",
    "    print(result) \n",
    "    \n",
    "    if isPal(result):\n",
    "        print('Yes')\n",
    "    else:\n",
    "        print('No')"
   ]
  },
  {
   "cell_type": "markdown",
   "metadata": {},
   "source": [
    "When the experiment is run"
   ]
  },
  {
   "cell_type": "code",
   "execution_count": 6,
   "metadata": {
    "scrolled": true
   },
   "outputs": [
    {
     "name": "stdout",
     "output_type": "stream",
     "text": [
      "Enter element: a\n",
      "Enter element: b\n",
      "['b']\n",
      "Yes\n"
     ]
    }
   ],
   "source": [
    "silly(2)"
   ]
  },
  {
   "cell_type": "markdown",
   "metadata": {},
   "source": [
    "The program \n",
    "```\n",
    "prints(result)  -> ['b'] not ['a','b']\n",
    "```\n",
    "suggest  that something has already gone wrong. \n",
    "\n",
    "<p>2 The next step is to\n",
    "\n",
    "<b style=\"color:blue\"> print result roughly halfway through the loop</b>."
   ]
  },
  {
   "cell_type": "code",
   "execution_count": 8,
   "metadata": {
    "collapsed": true
   },
   "outputs": [],
   "source": [
    "def silly(n):\n",
    "    \"\"\"Assumes n is an int > 0\n",
    "       Gets n inputs from user\n",
    "       Prints 'Yes' if the sequence of inputs forms a palindrome;\n",
    "       'No' otherwise\"\"\"\n",
    "    for i in range(n):\n",
    "       \n",
    "        result = [] \n",
    "      \n",
    "        elem = input('Enter element: ')\n",
    "        result.append(elem)\n",
    "        \n",
    "        # 2 print result roughly halfway through the loop.\n",
    "        print('loop region: ',result) #  print result roughly halfway through the loop.\n",
    "    \n",
    "    \n",
    "    # 1 inserting the statement print result \n",
    "    print(result) \n",
    "    \n",
    "    if isPal(result):\n",
    "        print('Yes')\n",
    "    else:\n",
    "        print('No')"
   ]
  },
  {
   "cell_type": "code",
   "execution_count": 9,
   "metadata": {},
   "outputs": [
    {
     "name": "stdout",
     "output_type": "stream",
     "text": [
      "Enter element: a\n",
      "loop region:  ['a']\n",
      "Enter element: b\n",
      "loop region:  ['b']\n",
      "['b']\n",
      "Yes\n"
     ]
    }
   ],
   "source": [
    "silly(2)"
   ]
  },
  {
   "cell_type": "markdown",
   "metadata": {},
   "source": [
    "    print('loop region: ',result)\n",
    "\n",
    "    loop region:  ['a']\n",
    "    loop region:  ['b']\n",
    "\n",
    "This quickly reveals that \n",
    "```python\n",
    "for i in range(n):\n",
    "```\n",
    "result is <b style=\"color:blue\">never more than one element long</b>, \n",
    "\n",
    "suggesting that the <b style=\"color:blue\">initialization of result \n",
    "```python\n",
    "for i in range(n):\n",
    "  result = [] \n",
    "```\n",
    "needs to be moved outside the for loop</b>. \n",
    "```python\n",
    "result = [] \n",
    "for i in range(n)\n",
    "```    \n",
    "The corrected code for silly is"
   ]
  },
  {
   "cell_type": "code",
   "execution_count": 10,
   "metadata": {
    "collapsed": true
   },
   "outputs": [],
   "source": [
    "def silly(n):\n",
    "    \"\"\"Assumes n is an int > 0\n",
    "       Gets n inputs from user\n",
    "       Prints 'Yes' if the sequence of inputs forms a palindrome;\n",
    "       'No' otherwise\"\"\"\n",
    "   \n",
    "    # Bug 1 \n",
    "    result = [] # initialization of result needs to be moved outside the for loop\n",
    "    \n",
    "    for i in range(n):\n",
    "        elem = input('Enter element: ')\n",
    "        result.append(elem)\n",
    "       \n",
    "        # 2 print result roughly halfway through the loop\n",
    "        print('loop region: ',result) \n",
    "    \n",
    "    # 1 inserting the statement print result\n",
    "    print(result) \n",
    "    \n",
    "    if isPal(result):\n",
    "        print('Yes')\n",
    "    else:\n",
    "        print('No')"
   ]
  },
  {
   "cell_type": "code",
   "execution_count": 11,
   "metadata": {},
   "outputs": [
    {
     "name": "stdout",
     "output_type": "stream",
     "text": [
      "Enter element: a\n",
      "loop region:  ['a']\n",
      "Enter element: b\n",
      "loop region:  ['a', 'b']\n",
      "['a', 'b']\n",
      "Yes\n"
     ]
    }
   ],
   "source": [
    "silly(2)"
   ]
  },
  {
   "cell_type": "markdown",
   "metadata": {},
   "source": [
    "Let’s try that, and see if result has the correct value after the for loop.It does\n",
    "\n",
    "Enter element: a\n",
    "loop region:  ['a']\n",
    "Enter element: b\n",
    "loop region:  ['a', 'b']\n",
    "\n",
    "but unfortunately the program still prints \n",
    "\n",
    "<b>Yes</b>.\n",
    "\n",
    "we have reason to believe that <b>a second bug</b> lies <b>below the print statement</b>.\n",
    "```python\n",
    "if isPal(result):\n",
    "```\n",
    "\n",
    "lets look <b>isPal</b>\n",
    "\n",
    "we insert the line \n",
    "```python\n",
    "print('\\n temp,x',temp,x)\n",
    "```\n",
    "before that line:\n",
    "```python\n",
    "if temp == x:\n",
    "```"
   ]
  },
  {
   "cell_type": "code",
   "execution_count": 12,
   "metadata": {
    "collapsed": true
   },
   "outputs": [],
   "source": [
    "def isPal(x):\n",
    "    \"\"\"Assumes x is a list\n",
    "       Returns True if the list is a palindrome; False otherwise\"\"\"\n",
    "    temp = x\n",
    "    \n",
    "    temp.reverse \n",
    "    \n",
    "    # 3 insert the line print temp, x before that line: if temp == x:\n",
    "    print('\\n temp,x',temp,x)\n",
    "    \n",
    "    if temp == x:\n",
    "        return True\n",
    "    else:\n",
    "        return False\n",
    "    \n",
    "def silly(n):\n",
    "    \"\"\"Assumes n is an int > 0\n",
    "       Gets n inputs from user\n",
    "       Prints 'Yes' if the sequence of inputs forms a palindrome;\n",
    "       'No' otherwise\"\"\"\n",
    "     \n",
    "    result = [] # initialization of result needs to be moved outside the for loop\n",
    "    \n",
    "    for i in range(n):\n",
    "        elem = input('Enter element: ')\n",
    "        result.append(elem)\n",
    "    \n",
    "        print('loop region: ',result) #  print result roughly halfway through the loop\n",
    "    \n",
    "    print(result) #  inserting the statement print result\n",
    "    \n",
    "    if isPal(result):\n",
    "        print('Yes')\n",
    "    else:\n",
    "        print('No')"
   ]
  },
  {
   "cell_type": "code",
   "execution_count": 13,
   "metadata": {},
   "outputs": [
    {
     "name": "stdout",
     "output_type": "stream",
     "text": [
      "Enter element: a\n",
      "loop region:  ['a']\n",
      "Enter element: b\n",
      "loop region:  ['a', 'b']\n",
      "['a', 'b']\n",
      "\n",
      " temp,x ['a', 'b'] ['a', 'b']\n",
      "Yes\n"
     ]
    }
   ],
   "source": [
    "silly(2)"
   ]
  },
  {
   "cell_type": "markdown",
   "metadata": {},
   "source": [
    "discover that both temp and x have the <b>non-reverse</b> value\n",
    "\n",
    "['a', 'b'].\n",
    "\n",
    "A quick inspection of the code reveals that in isPal \n",
    "\n",
    "we wrote\n",
    "```python\n",
    "temp.reverse\n",
    "```\n",
    "rather than\n",
    "```python\n",
    "temp.reverse()\n",
    "```\n",
    "\n",
    "the evaluation of temp.reverse returns the built-in reverse method for lists, but does not invoke it."
   ]
  },
  {
   "cell_type": "code",
   "execution_count": 14,
   "metadata": {
    "collapsed": true
   },
   "outputs": [],
   "source": [
    "def isPal(x):\n",
    "    \"\"\"Assumes x is a list\n",
    "       Returns True if the list is a palindrome; False otherwise\"\"\"\n",
    "    temp = x  \n",
    "    \n",
    "    # Bug2: temp.reverse() \n",
    "    temp.reverse() \n",
    "    \n",
    "    print('\\n temp,x',temp,x)\n",
    "    \n",
    "    if temp == x:\n",
    "        return True\n",
    "    else:\n",
    "        return False"
   ]
  },
  {
   "cell_type": "code",
   "execution_count": 15,
   "metadata": {},
   "outputs": [
    {
     "name": "stdout",
     "output_type": "stream",
     "text": [
      "Enter element: a\n",
      "loop region:  ['a']\n",
      "Enter element: b\n",
      "loop region:  ['a', 'b']\n",
      "['a', 'b']\n",
      "\n",
      " temp,x ['b', 'a'] ['b', 'a']\n",
      "Yes\n"
     ]
    }
   ],
   "source": [
    "silly(2)"
   ]
  },
  {
   "cell_type": "markdown",
   "metadata": {},
   "source": [
    "We run the test again, and now it seems that both temp and x have the <b>reverse</b> value \n",
    "\n",
    "['b', 'a']. \n",
    "\n",
    "We have now narrowed the bug to one line.\n",
    "\n",
    "It seems that <b>temp.reverse() unexpectedly changed the value of x</b>\n",
    "\n",
    "<b style=\"color:blue\">An aliasing bug has bittenus<b>: \n",
    "\n",
    "temp and x are names for the same list, \n",
    "\n",
    "both before and after the list gets reversed. \n",
    "\n",
    "One way to fix it is to replace the first assignment statement in isPal by \n",
    "```python\n",
    "temp = x[:]\n",
    "```\n",
    "which causes a copy of x to be made. (Ref P63 5.2.1 Cloning)"
   ]
  },
  {
   "cell_type": "code",
   "execution_count": 16,
   "metadata": {
    "collapsed": true
   },
   "outputs": [],
   "source": [
    "def isPal(x):\n",
    "    \"\"\"Assumes x is a list\n",
    "       Returns True if the list is a palindrome; False otherwise\"\"\"\n",
    "   \n",
    "    # bug 3 An aliasing bug\n",
    "    temp = x[:] #   a copy of x \n",
    "    \n",
    "    # bug 2\n",
    "    temp.reverse()  # temp.reverse()\n",
    "    print('\\n temp,x',temp,x)\n",
    "    if temp == x:\n",
    "        return True\n",
    "    else:\n",
    "        return False"
   ]
  },
  {
   "cell_type": "code",
   "execution_count": 17,
   "metadata": {},
   "outputs": [
    {
     "name": "stdout",
     "output_type": "stream",
     "text": [
      "Enter element: a\n",
      "loop region:  ['a']\n",
      "Enter element: b\n",
      "loop region:  ['a', 'b']\n",
      "['a', 'b']\n",
      "\n",
      " temp,x ['b', 'a'] ['a', 'b']\n",
      "No\n"
     ]
    }
   ],
   "source": [
    "silly(2)"
   ]
  },
  {
   "cell_type": "markdown",
   "metadata": {},
   "source": [
    "### THREE BUGS :\n",
    "\n",
    "<b>BUG1</b>: never more than one element long: ['b'] \n",
    "\n",
    "Failed to reinitialize a variable\n",
    "\n",
    "```python\n",
    "      for i in range(n):\n",
    "        result = []\n",
    "```\n",
    "   initialization of result needs to be moved outside the for loop\n",
    "```python   \n",
    "    result = [] \n",
    "    for i in range(n):\n",
    "```   \n",
    "<b>BUG2</b>  both temp and x have the non-reverse value ['a', 'b']: \n",
    "\n",
    "Forgotten the () that turns a reference to an object of type\n",
    "function into a function invocation\n",
    "```python\n",
    "temp.reverse \n",
    "```   \n",
    "add ()\n",
    "```python    \n",
    "temp.reverse()\n",
    "```  \n",
    "<b>BUG3</b> both temp and x have the reverse value [ 'b','a']: \n",
    "\n",
    "An aliasing bug: Created an unintentional alias\n",
    "```python    \n",
    "temp = x\n",
    "```\n",
    " cloning\n",
    "```python\n",
    "temp = x[:]\n",
    "```\n",
    "### Print Location:before and after: Key of\n",
    "\n",
    "* **block**\n",
    "\n",
    "\n",
    "* **logic**\n",
    "\n",
    "\n",
    "* **operation**\n",
    "\n",
    "\n",
    "Step by Step to **reduce** the size of search space "
   ]
  },
  {
   "cell_type": "markdown",
   "metadata": {},
   "source": [
    "<hr style=\"height:2px;color:blue\"/>\n",
    "### 6.2.3 When the Going Gets Tough</b>\n",
    "\n",
    "<h2 style=\"color:blue\">When the going gets tough,the tough get going.</h2>\n",
    "\n",
    "* Look for the usual suspects\n",
    "  \n",
    "  * Passed arguments to a function in the wrong order,\n",
    "\n",
    "  * Misspelled a name, e.g., typed a lowercase letter when you should have typed an uppercase one,\n",
    "\n",
    "  * Failed to reinitialize a variable,\n",
    "\n",
    "  * Tested that two floating point values are equal (==) instead of nearly equal (remember that floating point arithmetic is not the same as the arithmetic you learned in school)\n",
    "  \n",
    "  * Tested for value equality (e.g., compared two lists by writing the expression L1 == L2) when you meant object equality (e.g.id(L1) == id(L2))\n",
    "  \n",
    "  * Forgotten that some built-in function has a side effect\n",
    "  \n",
    "  * Forgotten the () that turns a reference to an object of type function into a function invocation,\n",
    "\n",
    "  *  Created an unintentional alias, \n",
    "  \n",
    "  *  Made any other mistake that is typical for you\n",
    "  \n",
    "*  Stop asking yourself why the program isn’t doing what you want it to.Instead, ask yourself why it is doing what it is.\n",
    "\n",
    "* Keep in mind that the bug is probably not where you think it is.\n",
    "\n",
    "* Try to explain the problem to somebody else\n",
    "\n",
    "* Don’t believe everything you read\n",
    "\n",
    "* Stop debugging and start writing documentation\n",
    "\n",
    "* Walk away, and try again tomorrow\n"
   ]
  },
  {
   "cell_type": "markdown",
   "metadata": {
    "collapsed": true
   },
   "source": [
    "### 6.2.4 And When You Have Found “The” Bug\n",
    "\n",
    "When you think you have found a bug in your code,\n",
    "\n",
    "* It is often better, however, to <b>slow down a little</b>\n",
    "\n",
    "Ask yourself if this bug explains all the observed symptoms, or whether it is just the tip of the iceberg.\n",
    "\n",
    "* Before making any change, try and understand the ramification of the proposed “fix.”\n",
    "\n",
    "* Always make sure that you can **get back to where you are**.\n",
    "\n",
    "   * **Disk space is usually plentiful. Use it to store old versions of your program.**\n"
   ]
  },
  {
   "cell_type": "markdown",
   "metadata": {
    "collapsed": true
   },
   "source": [
    "### Get back to where you are： Version control,Git and Github \n",
    "\n",
    "###  Version control\n",
    "\n",
    "A component of software configuration management, version control, also known as revision control or source control,is the management of changes to documents, computer programs, large web sites, and other collections of information. Changes are usually identified by a number or letter code, termed the \"revision number,\" \"revision level,\" or simply \"revision.\" For example, an initial set of files is \"revision 1.\" When the first change is made, the resulting set is \"revision 2,\" and so on. Each revision is associated with a timestamp and the person making the change. Revisions can be compared, restored, and with some types of files, merged.\n",
    "\n",
    "The need for a logical way to organize and control revisions has existed for almost as long as writing has existed, but revision control became much more important, and complicated, when the era of computing began. The numbering of book editions and of specification revisions are examples that date back to the print-only era. Today, the most capable (as well as complex) revision control systems are those used in software development, where a team of people may change the same files.\n",
    "\n",
    "### GIT\n",
    "Git is a widely used version control system for software development. It is a distributed revision control system with an emphasis on speed, data integrity,and support for distributed, non-linear workflows. Git was initially designed and developed by Linus Torvalds for Linux kernel development in 2005.\n",
    "\n",
    "As with most other distributed version control systems, and unlike most client–server systems, every Git working directory is a full-fledged repository with complete history and full version-tracking capabilities, independent of network access or a central server.Like the Linux kernel, Git is free software distributed under the terms of the GNU General Public License version 2.\n",
    "\n",
    "### GITHUB\n",
    "\n",
    "GitHubGitHub is a website where you can upload a copy of your Git repository. It is a Git repository hosting service, which offers all of the distributed revision control and source code management (SCM) functionality of Git as well as adding its own features. Unlike Git, which is strictly a command-line tool, GitHub provides a web-based graphical interface and desktop as well as mobile integration. It also provides access control and several collaboration features such as wikis, task management, and bug tracking and feature that can be helpful for projects. It allows you to collaborate with other people on a project. It does that by providing a centralized location to share the repository, a web-based interface to view it, and features like forking, pull requests distributed revision control, issues, and wikis.\n",
    "\n",
    "\n"
   ]
  },
  {
   "cell_type": "code",
   "execution_count": null,
   "metadata": {
    "collapsed": true
   },
   "outputs": [],
   "source": []
  }
 ],
 "metadata": {
  "kernelspec": {
   "display_name": "Python 3",
   "language": "python",
   "name": "python3"
  },
  "language_info": {
   "codemirror_mode": {
    "name": "ipython",
    "version": 3
   },
   "file_extension": ".py",
   "mimetype": "text/x-python",
   "name": "python",
   "nbconvert_exporter": "python",
   "pygments_lexer": "ipython3",
   "version": "3.6.5"
  },
  "widgets": {
   "state": {},
   "version": "1.1.2"
  }
 },
 "nbformat": 4,
 "nbformat_minor": 1
}
