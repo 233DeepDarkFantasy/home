{
 "cells": [
  {
   "cell_type": "markdown",
   "metadata": {},
   "source": [
    "### Further Reading: ctypes demo:  struct，one and two-dimensional array\n",
    "\n",
    "`extern \"C\"` makes it possible to link with functions written in the C programming language, and to define, in a C++ program, functions that can be called from the modules written in C.\n",
    "\n",
    "Reference operator (&) and Dereference operator (*)"
   ]
  },
  {
   "cell_type": "code",
   "execution_count": 8,
   "metadata": {},
   "outputs": [
    {
     "name": "stdout",
     "output_type": "stream",
     "text": [
      "Writing ./demo/src/ctypemore.cpp\n"
     ]
    }
   ],
   "source": [
    "%%file ./demo/src/ctypemore.cpp\n",
    "\n",
    "// 1 Struct\n",
    "struct SimpleStruct\n",
    "{\n",
    "    int nNo;\n",
    "    float fValue;\n",
    "};\n",
    "\n",
    "extern \"C\"  __declspec(dllexport)  int __stdcall  TestSimpleStruct(int *n,int &m,SimpleStruct struin,SimpleStruct *struout)\n",
    "{\n",
    "  struout->fValue= struin.fValue+2;\n",
    "  struout->nNo=struin.nNo+3;\n",
    "  \n",
    "  *n=struin.nNo+20;\n",
    "  m=*n+30;\n",
    "  return struout->nNo;\n",
    "}\n",
    "\n",
    "// 2 using the name of one-dimensional array in Python.non byref\n",
    "extern \"C\"  __declspec(dllexport)  void  __stdcall  TestArray1(int nsize,double *narray)\n",
    "{\n",
    "  for(int i=0; i<nsize; i++)\n",
    "  {\n",
    "     narray[i]=i*2.3;  \n",
    "  }\n",
    "}\n",
    "\n",
    "// 3 using the name of two-dimensional array in Python.  non byref\n",
    "extern \"C\"  __declspec(dllexport)  void  __stdcall  TestArray21(int ni, int nj,double *ptr)\n",
    "{\n",
    "    int i, j;\n",
    "    for(i=0; i<ni; i++)\n",
    "    {\n",
    "        for(j=0; j<nj; j++)\n",
    "        {\n",
    "            ptr[i*ni+j]= ptr[i*ni+j]+i*ni + j;\n",
    "        }\n",
    "\t}       \n",
    "}\n",
    "\n",
    "// 4 using byref in Python\n",
    "extern \"C\"  __declspec(dllexport)  void  __stdcall  TestArray22(int ni, int nj,double **ptr)\n",
    "{\n",
    "    int i, j;\n",
    "    for(i=0; i<ni; i++)\n",
    "    {\n",
    "        for(j=0; j<nj; j++)\n",
    "        {\n",
    "            ptr[i][j]=ptr[i][j]+i*ni + j;\n",
    "        }\n",
    "\t} \n",
    "}"
   ]
  },
  {
   "cell_type": "code",
   "execution_count": 14,
   "metadata": {},
   "outputs": [
    {
     "name": "stdout",
     "output_type": "stream",
     "text": [
      "Overwriting ./demo/makefile-ctypemoredll\n"
     ]
    }
   ],
   "source": [
    "%%file ./demo/makefile-ctypemoredll\n",
    "\n",
    "all: libctypemoredll\n",
    "\n",
    "libctypemoredll: obj\n",
    "\t g++  -shared -o ./demo/bin/libctypemore.dll ctypemore.o\n",
    "\t del ctypemore.o\n",
    "\n",
    "obj: \n",
    "\t g++ -c -O3 -Wall -fPIC  ./demo/src/ctypemore.cpp "
   ]
  },
  {
   "cell_type": "code",
   "execution_count": 16,
   "metadata": {},
   "outputs": [
    {
     "name": "stdout",
     "output_type": "stream",
     "text": [
      "g++ -c -O3 -Wall -fPIC  ./demo/src/ctypemore.cpp \n",
      "g++  -shared -o ./demo/bin/libctypemore.dll ctypemore.o\n",
      "del ctypemore.o\n"
     ]
    }
   ],
   "source": [
    "!make -f ./demo/makefile-ctypemoredll"
   ]
  },
  {
   "cell_type": "code",
   "execution_count": 17,
   "metadata": {},
   "outputs": [
    {
     "name": "stdout",
     "output_type": "stream",
     "text": [
      "5.140000343322754\n",
      "19\n",
      "36\n",
      "66\n",
      "18.4\n",
      "20.0\n",
      "9.0\n"
     ]
    }
   ],
   "source": [
    "from ctypes import *\n",
    "\n",
    "class SimpStruct(Structure):\n",
    "    _fields_ = [(\"nNo\", c_int),\n",
    "                (\"fValue\", c_float)]\n",
    "\n",
    "Objdll=windll.LoadLibrary(\"./demo/bin/libctypemore.dll\")\n",
    "\n",
    "# 1 TestSimpleStruct\n",
    "f1=Objdll.TestSimpleStruct\n",
    "simplein = SimpStruct()\n",
    "simplein.nNo = 16\n",
    "simplein.fValue = 3.14\n",
    "\n",
    "simpleout = SimpStruct()\n",
    "\n",
    "n=c_int()\n",
    "m=c_int()\n",
    "nNo=f1(byref(n),byref(m),simplein,byref(simpleout))\n",
    "\n",
    "print(simpleout.fValue)\n",
    "print(nNo)\n",
    "print(n.value)\n",
    "print(m.value)\n",
    "\n",
    "# 2  one-dimensional array\n",
    "f2=Objdll.TestArray1\n",
    "na=c_int()\n",
    "na=10;\n",
    "\n",
    "narray=(c_double*10)() # must (c_double*10)(),not c_double*10()\n",
    "\n",
    "# non byref，using the name of one-dimensional array\n",
    "f2(na,narray)\n",
    "print(narray[8])\n",
    "\n",
    "# 3 two-dimensional array  - 1\n",
    "f3=Objdll.TestArray21\n",
    "ptr = (c_double*5*4)()\n",
    "# two-dimensional array: j*i\n",
    "for i in range(4):\n",
    "    for j in range(5):\n",
    "        ptr[i][j] = i + j\n",
    "# non byref，using the name of two-dimensional array\n",
    "f3(4,5,ptr)\n",
    "print(ptr[1][3])\n",
    "\n",
    "# 4 two-dimensional array-2\n",
    "f4=Objdll.TestArray22\n",
    "indata = (POINTER(c_double) * 5)()\n",
    "for i in range(5):\n",
    "    # Allocate arrays of double\n",
    "    indata[i] = (c_double * 6)()\n",
    "    for j in range(6):\n",
    "        indata[i][j] = 1.0\n",
    "\n",
    "f4(5,6,byref(indata))\n",
    "print(indata[1][3])\n"
   ]
  },
  {
   "cell_type": "markdown",
   "metadata": {},
   "source": [
    "### Further reading\n",
    "\n",
    "ctypes http://docs.python.org/3/library/ctypes.html\n",
    "\n",
    "C-Types Foreign Function Interface (numpy.ctypeslib)\n",
    "  https://docs.scipy.org/doc/numpy/reference/routines.ctypeslib.html\n",
    "  "
   ]
  },
  {
   "cell_type": "code",
   "execution_count": null,
   "metadata": {},
   "outputs": [],
   "source": []
  }
 ],
 "metadata": {
  "kernelspec": {
   "display_name": "Python 3",
   "language": "python",
   "name": "python3"
  },
  "language_info": {
   "codemirror_mode": {
    "name": "ipython",
    "version": 3
   },
   "file_extension": ".py",
   "mimetype": "text/x-python",
   "name": "python",
   "nbconvert_exporter": "python",
   "pygments_lexer": "ipython3",
   "version": "3.7.0"
  },
  "widgets": {
   "state": {},
   "version": "1.1.2"
  }
 },
 "nbformat": 4,
 "nbformat_minor": 1
}
