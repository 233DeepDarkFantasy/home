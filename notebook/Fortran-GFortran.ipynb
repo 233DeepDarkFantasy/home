{
 "cells": [
  {
   "cell_type": "markdown",
   "metadata": {},
   "source": [
    "# Programming Fortran With GNU Fortran(Windows)"
   ]
  },
  {
   "cell_type": "markdown",
   "metadata": {},
   "source": [
    "## 1. gfortran — the GNU Fortran compiler, part of GCC\n",
    "\n",
    "https://gcc.gnu.org/wiki/GFortran\n",
    "\n",
    "Gfortran is the name of the GNU Fortran project, developing a free Fortran 95/2003/2008 compiler for GCC, the GNU Compiler Collection. The gfortran development effort uses an open development environment in order to attract a larger team of developers and to ensure that gfortran can work on multiple architectures and diverse environments. \n",
    "\n",
    "After Install **MinGW GCC**, you may verify the Gfortran installation by listing the version of Gfortran: \n",
    " \n",
    " ```bash\n",
    " > gfortran --version\n",
    " ```"
   ]
  },
  {
   "cell_type": "code",
   "execution_count": null,
   "metadata": {},
   "outputs": [],
   "source": [
    "!gfortran --version"
   ]
  },
  {
   "cell_type": "markdown",
   "metadata": {},
   "source": [
    "## 2  Getting Started\n",
    "\n",
    "Compile/Link a Simple Fortran Program - hello.f90\n",
    "\n",
    "> **NOTE**: .f90 for **free form source Fortran**"
   ]
  },
  {
   "cell_type": "code",
   "execution_count": null,
   "metadata": {},
   "outputs": [],
   "source": [
    "%%file ./code/gfortran/hello.f90\n",
    "\n",
    "program hello\n",
    "  write(*,*) 'Fortran says Hello, world!'\n",
    "end program hello"
   ]
  },
  {
   "cell_type": "markdown",
   "metadata": {},
   "source": [
    "Then,use **gfortran** to the compile Fortran program"
   ]
  },
  {
   "cell_type": "code",
   "execution_count": null,
   "metadata": {},
   "outputs": [],
   "source": [
    "!gfortran -c ./code/gfortran/hello.f90\n",
    "!gfortran -o ./code/gfortran/hello hello.o"
   ]
  },
  {
   "cell_type": "code",
   "execution_count": null,
   "metadata": {},
   "outputs": [],
   "source": [
    "!dir hell*.o\n",
    "!dir .\\code\\gfortran\\hello.*"
   ]
  },
  {
   "cell_type": "code",
   "execution_count": null,
   "metadata": {},
   "outputs": [],
   "source": [
    "!.\\code\\gfortran\\hello"
   ]
  },
  {
   "cell_type": "markdown",
   "metadata": {},
   "source": [
    "* **-c: source files** compiles source files without linking.\n",
    "\n",
    "* **-o: output file** writes the build output to the specifies **output file**name."
   ]
  },
  {
   "cell_type": "code",
   "execution_count": null,
   "metadata": {},
   "outputs": [],
   "source": [
    "!gfortran -c -o ./code/gfortran/hello.o ./code/gfortran/hello.f90\n",
    "!gfortran -o ./code/gfortran/specifiesnamehello ./code/gfortran/hello.o"
   ]
  },
  {
   "cell_type": "code",
   "execution_count": null,
   "metadata": {},
   "outputs": [],
   "source": [
    "!.\\code\\gfortran\\specifiesnamehello"
   ]
  },
  {
   "cell_type": "markdown",
   "metadata": {},
   "source": [
    "#### compile and build output "
   ]
  },
  {
   "cell_type": "code",
   "execution_count": null,
   "metadata": {},
   "outputs": [],
   "source": [
    "!gfortran -o ./code/gfortran/hello ./code/gfortran/hello.f90"
   ]
  },
  {
   "cell_type": "markdown",
   "metadata": {},
   "source": [
    "To run the program:"
   ]
  },
  {
   "cell_type": "code",
   "execution_count": null,
   "metadata": {},
   "outputs": [],
   "source": [
    "!.\\code\\gfortran\\hello"
   ]
  },
  {
   "cell_type": "markdown",
   "metadata": {},
   "source": [
    "## 3.  GNU Make\n",
    "\n",
    "Let's build the Hello-world program (**hello.f90**) into executable (hello.exe) via **make** utility."
   ]
  },
  {
   "cell_type": "code",
   "execution_count": null,
   "metadata": {},
   "outputs": [],
   "source": [
    "%%file ./code/gfortran/hello.f90\n",
    "\n",
    "program hello\n",
    "    write(*,*) 'Fortran says Hello, world!'\n",
    "end program hello"
   ]
  },
  {
   "cell_type": "markdown",
   "metadata": {},
   "source": [
    "### 1)  Create **makefile** file\n",
    "\n"
   ]
  },
  {
   "cell_type": "code",
   "execution_count": null,
   "metadata": {},
   "outputs": [],
   "source": [
    "%%file makefile\n",
    "\n",
    "all: hello.exe\n",
    "\n",
    "hello.exe: helloobj\n",
    "\t gfortran -o ./code/gfortran/hello.exe hello.o\n",
    "\t del hello.o\n",
    "    \n",
    "helloobj: ./code/gfortran/hello.f90\n",
    "\t gfortran -c ./code/gfortran/hello.f90\n",
    "     \n",
    "clean:\n",
    "\t del .\\code\\gfortran\\hello.exe"
   ]
  },
  {
   "cell_type": "markdown",
   "metadata": {},
   "source": [
    "Under **Linux**:\n",
    "\n",
    "replace\n",
    "```bash\n",
    "     del hello.o\n",
    "\n",
    "\t del .\\code\\gfortran\\hello.exe\n",
    "```\n",
    "\n",
    "with\n",
    "```bash\n",
    "    rm -f hello.o\n",
    "\t\n",
    "    rm -f ./code/gfortran/hello.exe\n",
    "```\n",
    "\n",
    "*  rm  : remove files or directories\n",
    "\n",
    "*  -f, --force : ignore nonexistent files, never prompt"
   ]
  },
  {
   "cell_type": "markdown",
   "metadata": {},
   "source": [
    "### 2) Running **make** \n",
    "\n",
    "* rename `C:\\mingw64\\bin\\mingw32-make.exe` to ** `C:\\mingw64\\bin\\make.exe` **\n",
    "  \n",
    "**2.1 make  without argument**,\n",
    "\n",
    "* starts the target **all** in  **makefile** at the current directory. "
   ]
  },
  {
   "cell_type": "code",
   "execution_count": null,
   "metadata": {},
   "outputs": [],
   "source": [
    "!make"
   ]
  },
  {
   "cell_type": "code",
   "execution_count": null,
   "metadata": {},
   "outputs": [],
   "source": [
    "!dir  .\\code\\gfortran\\hell*.exe"
   ]
  },
  {
   "cell_type": "code",
   "execution_count": null,
   "metadata": {},
   "outputs": [],
   "source": [
    "!.\\code\\gfortran\\hello"
   ]
  },
  {
   "cell_type": "markdown",
   "metadata": {},
   "source": [
    "**2.2 Running make with **clean** argument** \n",
    "\n",
    "starts the target **clean** in the makefile."
   ]
  },
  {
   "cell_type": "code",
   "execution_count": null,
   "metadata": {},
   "outputs": [],
   "source": [
    "!make clean"
   ]
  },
  {
   "cell_type": "markdown",
   "metadata": {},
   "source": [
    "** 2.3 Specified FILE as a makefile**\n",
    "\n",
    "* **-f FILE**:  Read FILE as a makefile."
   ]
  },
  {
   "cell_type": "code",
   "execution_count": null,
   "metadata": {},
   "outputs": [],
   "source": [
    "%%file ./code/gfortran/makefile-f90\n",
    "\n",
    "all: hello.exe\n",
    "\n",
    "hello.exe: hello.o\n",
    "\t gfortran -o ./code/gfortran/hello.exe hello.o\n",
    "\t del hello.o\n",
    "    \n",
    "hello.o: ./code/gfortran/hello.f90\n",
    "\t gfortran -c ./code/gfortran/hello.f90\n",
    "     \n",
    "clean:\n",
    "\t del .\\code\\gfortran\\hello.exe"
   ]
  },
  {
   "cell_type": "code",
   "execution_count": null,
   "metadata": {},
   "outputs": [],
   "source": [
    "!make -f ./code/gfortran/makefile-f90"
   ]
  },
  {
   "cell_type": "code",
   "execution_count": null,
   "metadata": {},
   "outputs": [],
   "source": [
    "!.\\code\\gfortran\\hello"
   ]
  },
  {
   "cell_type": "code",
   "execution_count": null,
   "metadata": {},
   "outputs": [],
   "source": [
    "!make clean -f ./code/gfortran/makefile-gf90"
   ]
  },
  {
   "cell_type": "markdown",
   "metadata": {},
   "source": [
    "## 3 Building and Using Shared Library with Gfortran\n",
    "\n",
    "A **shared library** has file extension of \n",
    "\n",
    "   * ** .so ** (shared objects) in Unixes\n",
    "   \n",
    "   \n",
    "   * ** .dll ** (dynamic link library) in Windows. \n",
    "\n",
    "   "
   ]
  },
  {
   "cell_type": "markdown",
   "metadata": {},
   "source": [
    "###  Step 1: Creating the shared library\n",
    "\n",
    "*  myfunc.f90"
   ]
  },
  {
   "cell_type": "code",
   "execution_count": 9,
   "metadata": {},
   "outputs": [
    {
     "name": "stdout",
     "output_type": "stream",
     "text": [
      "Overwriting ./code/gfortran/myfunc.f90\n"
     ]
    }
   ],
   "source": [
    "%%file ./code/gfortran/myfunc.f90\n",
    "\n",
    "function MYFUNCTION(a,b)\n",
    "    !GCC$ ATTRIBUTES DLLEXPORT,STDCALL:: MYFUNCTION\n",
    "    integer*2 ::  a,b\n",
    "    integer*2 ::  MYFUNCTION\n",
    "    MYFUNCTION = a-b\n",
    "end function"
   ]
  },
  {
   "cell_type": "markdown",
   "metadata": {},
   "source": [
    "Compile the **f90** file with Position Independent Code（PIC) into a shared library:"
   ]
  },
  {
   "cell_type": "code",
   "execution_count": 2,
   "metadata": {},
   "outputs": [],
   "source": [
    "!gcc -c -O3 -Wall -fPIC ./code/gfortran/myfunc.f90\n",
    "!gcc -shared -o ./code/gfortran/libmyfunc.dll  myfunc.o"
   ]
  },
  {
   "cell_type": "markdown",
   "metadata": {},
   "source": [
    "\n",
    "* -c: compile into object file with default name : funs.o.\n",
    "\n",
    "      By default, the object file has the same name as the source file with extension of \".o\" \n",
    "  \n",
    "  \n",
    "* -O3: Optimize yet more.\n",
    "\n",
    "      turns on all optimizations specified by -O2 and also turns on the -finline-functions, -fweb, -frename-registers and -funswitch-loops optionsturns  on  all  optimizations   \n",
    "     \n",
    "  \n",
    "* -Wall: prints \"all\"  compiler's warning message. \n",
    "\n",
    "      This option should always be used, in order to generate better code.\n",
    "\n",
    "\n",
    "* **-fPIC** : stands for Position Independent Code\n",
    "   \n",
    "   the generated machine code is not dependent on being located at a specific address in order to work.\n",
    "    \n",
    "     \n",
    "* **-shared:** creating a shared library\n"
   ]
  },
  {
   "cell_type": "markdown",
   "metadata": {},
   "source": [
    "The result is a compiled shared library **libfibonacci.dll**"
   ]
  },
  {
   "cell_type": "code",
   "execution_count": 5,
   "metadata": {},
   "outputs": [
    {
     "name": "stdout",
     "output_type": "stream",
     "text": [
      "Overwriting makefile\n"
     ]
    }
   ],
   "source": [
    "%%file makefile\n",
    "\n",
    "CC=gfortran\n",
    "CFLAGS=-O3 -Wall -fPIC -o \n",
    "\n",
    "all: libmyfunc.dll\n",
    "\n",
    "libmyfunc.dll: myfuncobj\n",
    "\t $(CC) -shared -o ./code/gfortran/libmyfunc.dll myfunc.o\n",
    "\t del myfunc.o\n",
    "    \n",
    "myfuncobj: ./code/gfortran/myfunc.f90\n",
    "\t $(CC) -c $(CFLAGS) myfunc.o ./code/gfortran/myfunc.f90\n",
    "     \n",
    "clean:\n",
    "\t del .\\code\\gfortran\\myfunc.dll"
   ]
  },
  {
   "cell_type": "code",
   "execution_count": 6,
   "metadata": {},
   "outputs": [
    {
     "name": "stdout",
     "output_type": "stream",
     "text": [
      "gfortran -c -O3 -Wall -fPIC -o  myfunc.o ./code/gfortran/myfunc.f90\n",
      "gfortran -shared -o ./code/gfortran/libmyfunc.dll myfunc.o\n",
      "del myfunc.o\n"
     ]
    }
   ],
   "source": [
    "!make"
   ]
  },
  {
   "cell_type": "code",
   "execution_count": null,
   "metadata": {},
   "outputs": [],
   "source": [
    "!make clean"
   ]
  },
  {
   "cell_type": "code",
   "execution_count": 7,
   "metadata": {},
   "outputs": [
    {
     "name": "stdout",
     "output_type": "stream",
     "text": [
      " 驱动器 D 中的卷是 cmh\n",
      " 卷的序列号是 02AB-E07E\n",
      "\n",
      " D:\\SEUCourse\\SE_ThermalEnergy\\PySEE\\home\\notebook\\code\\gfortran 的目录\n",
      "\n",
      "2018/03/19  21:13            48,114 libmyfunc.dll\n",
      "               1 个文件         48,114 字节\n",
      "               0 个目录 115,525,398,528 可用字节\n"
     ]
    }
   ],
   "source": [
    "!dir .\\code\\gfortran\\libmyfunc.dll"
   ]
  },
  {
   "cell_type": "markdown",
   "metadata": {},
   "source": [
    "## Step2 Using Shared Library\n",
    "\n",
    "###  Using Libraries \n",
    "\n",
    "the **linker** needs the **libraries** to resolve external references from other object files or libraries. \n",
    "\n",
    "* **1 Searching for libraries Files**\n",
    "\n",
    "   **-Ldir**: The library-path is specified via **-Ldir** option (uppercase 'L' followed by the directory path(or environment variable **LIBRARY_PATH**). \n",
    "\n",
    "\n",
    "* **2 Linking the library**\n",
    "\n",
    "   ** -llibname**: Link with the library name without the lib prefix and the .so/.dll extensions.\n",
    "   \n",
    "       GFortran assumes that all libraries \n",
    "   \n",
    "          `start` with `lib`\n",
    "\n",
    "          `end`  with `.dll`(windows) or `.so`(Linux)，\n",
    "\n",
    "so, Using **libfibonacci.dll:**\n",
    "    \n",
    "* -L./code/gfortran/ -lfibonacci"
   ]
  },
  {
   "cell_type": "code",
   "execution_count": null,
   "metadata": {},
   "outputs": [],
   "source": [
    "%%file ./code/gfortran/mainmyfunc.f90\n",
    "\n"
   ]
  },
  {
   "cell_type": "code",
   "execution_count": null,
   "metadata": {},
   "outputs": [],
   "source": [
    "!gcc -c -o mainfibonacci.o ./code/gfortran/mainmyfunc.f90 \n",
    "!gcc -o  ./code/gfortran/mainfibonacci.exe mainmyfunc.o -L./code/gfortran/ -lmyfunc"
   ]
  },
  {
   "cell_type": "code",
   "execution_count": null,
   "metadata": {},
   "outputs": [],
   "source": [
    "%%file makefile\n",
    "\n",
    "all: mainmyfunc.exe\n",
    "\n",
    "clean:\n",
    "\tdel .\\code\\gfortran\\mainmyfunc.exe\n",
    "\n",
    "mainfibonacci.exe: mainfibonacci.o\n",
    "\tgfortran -o ./code/gfortran/mainmyfunc mainmyfunc.o -L./code/gfortran/ -lmyfunc\n",
    "\tdel *.o\n",
    "\n",
    "mainfibonacci.o: ./code/gfortran/mainmyfunc.f90 \n",
    "\tgfortran -c ./code/gfortran/mainmyfunc.f90 "
   ]
  },
  {
   "cell_type": "code",
   "execution_count": null,
   "metadata": {},
   "outputs": [],
   "source": [
    "!make"
   ]
  },
  {
   "cell_type": "code",
   "execution_count": null,
   "metadata": {},
   "outputs": [],
   "source": [
    "!.\\code\\gfortran\\mainmyfunc"
   ]
  },
  {
   "cell_type": "code",
   "execution_count": null,
   "metadata": {},
   "outputs": [],
   "source": [
    "!make clean"
   ]
  },
  {
   "cell_type": "markdown",
   "metadata": {},
   "source": [
    "## 4. Development Environment for Windows\n",
    "\n",
    "* 1 Visual Studio Code for Fortran Programming\n",
    "\n",
    "Visual Studio Code https://code.visualstudio.com/  + Fortran Extension\n",
    "\n",
    "* 2 Eclipse CDT for Fortran Programming\n",
    "\n",
    "Eclipse CDT http://www.eclipse.org/downloads/packages/eclipse-ide-cc-developers/neon3 + Fortran Extension\n",
    "\n"
   ]
  },
  {
   "cell_type": "markdown",
   "metadata": {},
   "source": [
    "## Reference\n",
    "\n",
    "* Fibonacci number https://en.wikipedia.org/wiki/Fibonacci_number\n",
    "\n",
    "* MinGW-W64 (GCC) Compiler Suite: https://sourceforge.net/projects/mingw-w64/files/\n",
    "\n",
    "* https://gcc.gnu.org/wiki/GFortran\n",
    "\n"
   ]
  },
  {
   "cell_type": "code",
   "execution_count": null,
   "metadata": {},
   "outputs": [],
   "source": []
  }
 ],
 "metadata": {
  "kernelspec": {
   "display_name": "Python 3",
   "language": "python",
   "name": "python3"
  },
  "language_info": {
   "codemirror_mode": {
    "name": "ipython",
    "version": 3
   },
   "file_extension": ".py",
   "mimetype": "text/x-python",
   "name": "python",
   "nbconvert_exporter": "python",
   "pygments_lexer": "ipython3",
   "version": "3.5.4"
  }
 },
 "nbformat": 4,
 "nbformat_minor": 1
}
