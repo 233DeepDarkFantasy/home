{
 "cells": [
  {
   "cell_type": "markdown",
   "metadata": {},
   "source": [
    "# 2 Introduction to Python"
   ]
  },
  {
   "cell_type": "markdown",
   "metadata": {},
   "source": [
    "#### Python is a <b style=\"color:red\">living</b> language. Since its introduction by <b style=\"color:blue\">Guido von Rossum in 1990</b>, it has undergone many changes. \n",
    "\n",
    "<p>For the first decade of its life, Python was a little known and little used language. That changed with the arrival of  <b style=\"color:blue\">Python 2.0 in 2000</b>. In addition to incorporating a number of important improvements to the language itself, it marked a shift in the evolutionary path of the language. A large number of people began developing libraries that interfaced seamlessly with Python, and continuing support and development of the <b style=\"color:blue\">Python ecosystem became a community-based activity</b>. \n",
    "\n",
    "<p><b style=\"color:blue\">Python 3.0 was released at the end of 2008</b>. This version of Python cleaned up many of the\n",
    "inconsistencies in the design of the various releases of Python 2 (often referred to as Python 2.x). However, it was <b style=\"color:blue\">not backward compatible</b>. That meant that most programs written for earlier versions of Python could not be run using implementations of Python 3.0.\n",
    "\n",
    "<p><b>We use Python 3 throughout this course.</b>\n",
    "\n",
    "<p>Officeal Web Site: https://www.python.org/</p>\n",
    "<p>The mission of the Python Software Foundation is to promote, protect, and advance the Python programming language, and to support and facilitate the growth of a diverse and international community of Python programmers.\n",
    "<p>Python is powerful... and fast; plays well with others; runs everywhere;  is friendly & easy to learn;  is Open. \n",
    "<img src=\"./img/ch2.0_Python.PNG\"/> \n",
    "\n",
    "<h2 style=\"text-align:center\"><b style=\"color:blue  text-align:center\">Life is short,You need Python</b></h2>\n",
    "<p style=\"text-align:center\">      -- Bruce Eckel,ANSI C++ Comitee member</p>\n",
    "<img src=\"./img/ch2.0_GuidovanRossum.jpg\"/> "
   ]
  },
  {
   "cell_type": "markdown",
   "metadata": {},
   "source": [
    "## 2.1 The Basic Elements of Python"
   ]
  },
  {
   "cell_type": "markdown",
   "metadata": {},
   "source": [
    "<p>A Python program, sometimes called <b  style=\"color:blue\">a script</b>, is a sequence of definitions and commands. <p>These definitions are evaluated and the commands are executed by the Python <b  style=\"color:blue\">interpreter</b> in something called <b  style=\"color:blue\">the shell</b>. \n",
    "<p>Typically, a new shell is created whenever execution of a program begins. In most cases, a window is associated with the shell.\n",
    "<p>The symbol<b style=\"color:blue\"> >>> </b>is a <b>shell prompt</b> indicating that the interpreter is expecting the user to type some Python code into the shell.\n",
    "<p><b>Python Shell in CMD</p>\n",
    "<img src=\"./img/ch2.1_PythonShell.PNG\"/> \n"
   ]
  },
  {
   "cell_type": "code",
   "execution_count": 2,
   "metadata": {},
   "outputs": [
    {
     "name": "stdout",
     "output_type": "stream",
     "text": [
      "Yankees rule!\n",
      "But not in Boston!\n",
      "Yankees rule, but not in Boston!\n",
      "SEU\n"
     ]
    }
   ],
   "source": [
    "print('Yankees rule!')\n",
    "print('But not in Boston!')\n",
    "print('Yankees rule,', 'but not in Boston!')\n",
    "print('SEU')"
   ]
  },
  {
   "cell_type": "markdown",
   "metadata": {},
   "source": [
    "## 2.1.1 Objects, Expressions, and Numerical Types"
   ]
  },
  {
   "cell_type": "markdown",
   "metadata": {},
   "source": [
    "**Objects** are the core things that Python programs manipulate. Every object has a **type** that defines the kinds of things that programs can do with objects of that type.\n"
   ]
  },
  {
   "cell_type": "markdown",
   "metadata": {},
   "source": [
    "<p>Python has <b>four</b> basic types:\n",
    "\n",
    "* **int**  integers: -3 or 5 or 10002\n",
    "* **float** real numbers： 3.0 or 3.17 or -28.72，scientific notation： 1.6E3\n",
    "* **bool** the Boolean values <b>True</b> and <b>False</b>\n",
    "* <b style=\"color:blue\">None</b> is a type with a single value.\n"
   ]
  },
  {
   "cell_type": "markdown",
   "metadata": {},
   "source": [
    "<b>Objects and operators</b> can be combined to form <b>expressions</b>, each of which evaluates to an object of some type. We will refer to this as the value of the expression."
   ]
  },
  {
   "cell_type": "code",
   "execution_count": null,
   "metadata": {
    "collapsed": true
   },
   "outputs": [],
   "source": [
    "3 + 2"
   ]
  },
  {
   "cell_type": "code",
   "execution_count": null,
   "metadata": {
    "collapsed": true
   },
   "outputs": [],
   "source": [
    "3.0 + 2.0"
   ]
  },
  {
   "cell_type": "code",
   "execution_count": 8,
   "metadata": {},
   "outputs": [
    {
     "data": {
      "text/plain": [
       "False"
      ]
     },
     "execution_count": 8,
     "metadata": {},
     "output_type": "execute_result"
    }
   ],
   "source": [
    "3 != 3"
   ]
  },
  {
   "cell_type": "markdown",
   "metadata": {},
   "source": [
    "The built-in Python function<b style=\"color:blue\"> type</b> can be used to find out the type of an object:"
   ]
  },
  {
   "cell_type": "code",
   "execution_count": 9,
   "metadata": {},
   "outputs": [
    {
     "data": {
      "text/plain": [
       "int"
      ]
     },
     "execution_count": 9,
     "metadata": {},
     "output_type": "execute_result"
    }
   ],
   "source": [
    "type(3)"
   ]
  },
  {
   "cell_type": "code",
   "execution_count": 10,
   "metadata": {},
   "outputs": [
    {
     "data": {
      "text/plain": [
       "float"
      ]
     },
     "execution_count": 10,
     "metadata": {},
     "output_type": "execute_result"
    }
   ],
   "source": [
    "type(3.0)"
   ]
  },
  {
   "cell_type": "code",
   "execution_count": 11,
   "metadata": {},
   "outputs": [
    {
     "data": {
      "text/plain": [
       "bool"
      ]
     },
     "execution_count": 11,
     "metadata": {},
     "output_type": "execute_result"
    }
   ],
   "source": [
    "type(True)"
   ]
  },
  {
   "cell_type": "code",
   "execution_count": 16,
   "metadata": {},
   "outputs": [
    {
     "name": "stdout",
     "output_type": "stream",
     "text": [
      "<class 'NoneType'>\n",
      "<class 'bool'>\n",
      "<class 'int'>\n"
     ]
    }
   ],
   "source": [
    "TRue=None\n",
    "print(type(TRue)) # True Only!\n",
    "\n",
    "TRue=True\n",
    "print(type(TRue))\n",
    "TRue=1\n",
    "print(type(TRue))\n"
   ]
  },
  {
   "cell_type": "code",
   "execution_count": null,
   "metadata": {
    "collapsed": true
   },
   "outputs": [],
   "source": [
    "type(None)"
   ]
  },
  {
   "cell_type": "code",
   "execution_count": null,
   "metadata": {
    "collapsed": true
   },
   "outputs": [],
   "source": [
    "type(NONE) # None Only!!"
   ]
  },
  {
   "cell_type": "markdown",
   "metadata": {},
   "source": [
    "**Operators** on types <b>int and float</b>\n",
    "\n",
    "```python\n",
    "+ - * // / % **\n",
    "```"
   ]
  },
  {
   "cell_type": "code",
   "execution_count": null,
   "metadata": {
    "collapsed": true
   },
   "outputs": [],
   "source": [
    "2+3 #i+j is the sum of i and j. If i and j are both of type int, the result is an int."
   ]
  },
  {
   "cell_type": "code",
   "execution_count": null,
   "metadata": {
    "collapsed": true
   },
   "outputs": [],
   "source": [
    "2.0+3 #If either of them is a float, the result is a float"
   ]
  },
  {
   "cell_type": "code",
   "execution_count": null,
   "metadata": {
    "collapsed": true
   },
   "outputs": [],
   "source": [
    "7-2 # i–j is i minus j. If i and j are both of type int, the result is an int."
   ]
  },
  {
   "cell_type": "code",
   "execution_count": null,
   "metadata": {
    "collapsed": true
   },
   "outputs": [],
   "source": [
    "7.12-3 # If either of them is a float, the result is a float."
   ]
  },
  {
   "cell_type": "code",
   "execution_count": null,
   "metadata": {
    "collapsed": true
   },
   "outputs": [],
   "source": [
    "3*6 # i*j is the product of i and j. If i and j are both of type int, the result is an int."
   ]
  },
  {
   "cell_type": "code",
   "execution_count": null,
   "metadata": {
    "collapsed": true
   },
   "outputs": [],
   "source": [
    "3.12*6 # If either of them is a float, the result is a float."
   ]
  },
  {
   "cell_type": "code",
   "execution_count": 17,
   "metadata": {},
   "outputs": [
    {
     "data": {
      "text/plain": [
       "3"
      ]
     },
     "execution_count": 17,
     "metadata": {},
     "output_type": "execute_result"
    }
   ],
   "source": [
    "6//2 # integer division returns the quotient and ignores the remainder."
   ]
  },
  {
   "cell_type": "code",
   "execution_count": 18,
   "metadata": {},
   "outputs": [
    {
     "data": {
      "text/plain": [
       "3"
      ]
     },
     "execution_count": 18,
     "metadata": {},
     "output_type": "execute_result"
    }
   ],
   "source": [
    "7//2  # integer division returns the quotient and ignores the remainder."
   ]
  },
  {
   "cell_type": "code",
   "execution_count": null,
   "metadata": {
    "collapsed": true
   },
   "outputs": [],
   "source": [
    "6/2 #  In Python 3, the / operator  always returns a float"
   ]
  },
  {
   "cell_type": "code",
   "execution_count": null,
   "metadata": {
    "collapsed": true
   },
   "outputs": [],
   "source": [
    "7/2 #  In Python 3, the / operator  always returns a float"
   ]
  },
  {
   "cell_type": "code",
   "execution_count": 19,
   "metadata": {},
   "outputs": [
    {
     "data": {
      "text/plain": [
       "1"
      ]
     },
     "execution_count": 19,
     "metadata": {},
     "output_type": "execute_result"
    }
   ],
   "source": [
    "7%2 # remainder，i%6 i mod j"
   ]
  },
  {
   "cell_type": "code",
   "execution_count": 20,
   "metadata": {},
   "outputs": [
    {
     "data": {
      "text/plain": [
       "8"
      ]
     },
     "execution_count": 20,
     "metadata": {},
     "output_type": "execute_result"
    }
   ],
   "source": [
    "2**3 #i**j is i raised to the power j. If i and j are both of type int, the result is an int."
   ]
  },
  {
   "cell_type": "code",
   "execution_count": 21,
   "metadata": {},
   "outputs": [
    {
     "data": {
      "text/plain": [
       "9.261000000000001"
      ]
     },
     "execution_count": 21,
     "metadata": {},
     "output_type": "execute_result"
    }
   ],
   "source": [
    "2.1**3   # If either of them is a float, the result is a float"
   ]
  },
  {
   "cell_type": "code",
   "execution_count": 22,
   "metadata": {},
   "outputs": [
    {
     "data": {
      "text/plain": [
       "8.574187700290345"
      ]
     },
     "execution_count": 22,
     "metadata": {},
     "output_type": "execute_result"
    }
   ],
   "source": [
    "2**3.1  # If either of them is a float, the result is a float"
   ]
  },
  {
   "cell_type": "markdown",
   "metadata": {},
   "source": [
    "The **comparison operators** are:\n",
    "```python\n",
    "   == #equal\n",
    "   != #not equal\n",
    "   >  #greater\n",
    "   >= #at least\n",
    "   <  #less\n",
    "   <= #at most\n",
    "```"
   ]
  },
  {
   "cell_type": "code",
   "execution_count": null,
   "metadata": {
    "collapsed": true
   },
   "outputs": [],
   "source": [
    "1==2"
   ]
  },
  {
   "cell_type": "code",
   "execution_count": null,
   "metadata": {
    "collapsed": true
   },
   "outputs": [],
   "source": [
    "1<=2"
   ]
  },
  {
   "cell_type": "markdown",
   "metadata": {},
   "source": [
    "<p>The operators on type<b style=\"color:blue\"> bool</b> are:\n",
    "```python\n",
    "  a and b   # True if both a and b are True, and False otherwise.\n",
    "  a or  b   # True if at least one of a or b is True, and False otherwise.\n",
    "  not   a   #True if a is False, and False if a is True.\n",
    "```"
   ]
  },
  {
   "cell_type": "code",
   "execution_count": 23,
   "metadata": {},
   "outputs": [
    {
     "data": {
      "text/plain": [
       "True"
      ]
     },
     "execution_count": 23,
     "metadata": {},
     "output_type": "execute_result"
    }
   ],
   "source": [
    "2>1 and 3>2"
   ]
  },
  {
   "cell_type": "code",
   "execution_count": null,
   "metadata": {
    "collapsed": true
   },
   "outputs": [],
   "source": [
    "1>2 or 3>2"
   ]
  },
  {
   "cell_type": "code",
   "execution_count": null,
   "metadata": {
    "collapsed": true
   },
   "outputs": [],
   "source": [
    "not 1>2"
   ]
  },
  {
   "cell_type": "markdown",
   "metadata": {},
   "source": [
    "### 2.1.2 Variables and Assignment"
   ]
  },
  {
   "cell_type": "markdown",
   "metadata": {},
   "source": [
    "<p><b>Variables</b> provide a way to associate<b> names</b> with <b>objects</b>.\n",
    "<p>In Python, variable names can contain uppercase and lowercase <b>letters</b>, <b>digits</b>, (but they <b>cannot start</b> with a digit), and the special character<b> _</b>. Python variable names are<b> case-sensitive</b> e.g., Julie and julie are different names.\n",
    "<p>Finally, there are a small number of <b>reserved words</b> (sometimes called keywords) in Python that have built-in meanings and cannot be used as variable names.\n",
    "\n",
    "In Python, a variable is <b>just a name</b>, nothing more."
   ]
  },
  {
   "cell_type": "code",
   "execution_count": 26,
   "metadata": {},
   "outputs": [
    {
     "name": "stdout",
     "output_type": "stream",
     "text": [
      "363\n",
      "588.0\n"
     ]
    }
   ],
   "source": [
    "pi = 3\n",
    "radius = 11  #  bound to a object of type int\n",
    "area = pi * (radius**2)\n",
    "print(area)\n",
    "radius = 14.0 # rebound to a different object of type float\n",
    "area = pi * (radius**2)\n",
    "print(area)\n"
   ]
  },
  {
   "cell_type": "markdown",
   "metadata": {},
   "source": [
    "**names matter**\n",
    "\n",
    "Experienced programmers will confirm that they spend a great deal of time **reading programs**  in an attempt to **understand** why they behave as they do.\n",
    "\n",
    "<p>It is therefore of <b>critical importance </b>to write programs in such way that they are<b> easy to read</b>."
   ]
  },
  {
   "cell_type": "code",
   "execution_count": null,
   "metadata": {
    "collapsed": true
   },
   "outputs": [],
   "source": [
    "a = 3.14159\n",
    "b = 11.2 \n",
    "c = a*(b**2)"
   ]
  },
  {
   "cell_type": "markdown",
   "metadata": {},
   "source": [
    "Apt choice of variable names plays an important role in enhancing  readability.\n",
    "\n",
    "Another good way to enhance the readability of code is to add<b style=\"color:blue\"> comments</b>. \n",
    "\n",
    "* Text following the symbol <b style=\"color:blue\"> #</b> is not interpreted by Python."
   ]
  },
  {
   "cell_type": "code",
   "execution_count": 29,
   "metadata": {},
   "outputs": [
    {
     "name": "stdout",
     "output_type": "stream",
     "text": [
      "1\n"
     ]
    }
   ],
   "source": [
    "# subtract area of square s from area of circle c\n",
    "side=1\n",
    "areaC = pi*radius**2\n",
    "# mid\n",
    "areaS = side*side\n",
    "difference = areaC-areaS\n",
    "print(areaS)"
   ]
  },
  {
   "cell_type": "markdown",
   "metadata": {},
   "source": [
    "Python allows<b style=\"color:blue\"> multiple assignment</b>."
   ]
  },
  {
   "cell_type": "code",
   "execution_count": 30,
   "metadata": {},
   "outputs": [],
   "source": [
    "x, y = 2, 3"
   ]
  },
  {
   "cell_type": "code",
   "execution_count": 31,
   "metadata": {},
   "outputs": [
    {
     "data": {
      "text/plain": [
       "3"
      ]
     },
     "execution_count": 31,
     "metadata": {},
     "output_type": "execute_result"
    }
   ],
   "source": [
    "y"
   ]
  },
  {
   "cell_type": "code",
   "execution_count": 32,
   "metadata": {},
   "outputs": [
    {
     "data": {
      "text/plain": [
       "2"
      ]
     },
     "execution_count": 32,
     "metadata": {},
     "output_type": "execute_result"
    }
   ],
   "source": [
    "x"
   ]
  },
  {
   "cell_type": "code",
   "execution_count": 33,
   "metadata": {},
   "outputs": [
    {
     "name": "stdout",
     "output_type": "stream",
     "text": [
      "x = 3\n",
      "y = 2\n"
     ]
    }
   ],
   "source": [
    "x, y = y, x   #use multiple assignment to swap the bindings of two variables.\n",
    "print('x =', x)\n",
    "print('y =', y)"
   ]
  },
  {
   "cell_type": "markdown",
   "metadata": {},
   "source": [
    "##### The complex type\n",
    "\n",
    "The  complexl type is probably not as recognizable to most programmers because it is not a common built-in data type in other programming language. \n",
    "\n",
    "For engineers and scientists, complex numbers are a familiar concept. Formally, a complex number has a real and an imaginary component, both represented by float types in Python.\n",
    "\n",
    "In Python, the <b>imaginary</b> component of a complex number is indicated by a <b>j</b>\n"
   ]
  },
  {
   "cell_type": "code",
   "execution_count": null,
   "metadata": {
    "collapsed": true
   },
   "outputs": [],
   "source": [
    "c=1+3j\n",
    "c"
   ]
  },
  {
   "cell_type": "code",
   "execution_count": null,
   "metadata": {
    "collapsed": true
   },
   "outputs": [],
   "source": [
    "c.real"
   ]
  },
  {
   "cell_type": "code",
   "execution_count": null,
   "metadata": {
    "collapsed": true
   },
   "outputs": [],
   "source": [
    "c.imag"
   ]
  },
  {
   "cell_type": "code",
   "execution_count": null,
   "metadata": {
    "collapsed": true
   },
   "outputs": [],
   "source": [
    "c.conjugate()"
   ]
  },
  {
   "cell_type": "code",
   "execution_count": null,
   "metadata": {
    "collapsed": true
   },
   "outputs": [],
   "source": [
    "abs(c)"
   ]
  },
  {
   "cell_type": "code",
   "execution_count": null,
   "metadata": {
    "collapsed": true
   },
   "outputs": [],
   "source": [
    "c1=complex(4,3)\n",
    "c1"
   ]
  },
  {
   "cell_type": "code",
   "execution_count": null,
   "metadata": {
    "collapsed": true
   },
   "outputs": [],
   "source": [
    "c2=complex('3+4j')\n",
    "c2"
   ]
  },
  {
   "cell_type": "code",
   "execution_count": null,
   "metadata": {
    "collapsed": true
   },
   "outputs": [],
   "source": [
    "c3=complex('3  + 4j')  # non blank"
   ]
  },
  {
   "cell_type": "code",
   "execution_count": null,
   "metadata": {
    "collapsed": true
   },
   "outputs": [],
   "source": [
    "c1+c2"
   ]
  },
  {
   "cell_type": "code",
   "execution_count": null,
   "metadata": {
    "collapsed": true
   },
   "outputs": [],
   "source": [
    "c1-c2"
   ]
  },
  {
   "cell_type": "code",
   "execution_count": null,
   "metadata": {
    "collapsed": true
   },
   "outputs": [],
   "source": [
    "c1*c2"
   ]
  },
  {
   "cell_type": "code",
   "execution_count": null,
   "metadata": {
    "collapsed": true
   },
   "outputs": [],
   "source": [
    "c1/c2"
   ]
  },
  {
   "cell_type": "code",
   "execution_count": null,
   "metadata": {
    "collapsed": true
   },
   "outputs": [],
   "source": [
    "c1==c2"
   ]
  },
  {
   "cell_type": "code",
   "execution_count": null,
   "metadata": {
    "collapsed": true
   },
   "outputs": [],
   "source": [
    "c1!=c2"
   ]
  },
  {
   "cell_type": "code",
   "execution_count": null,
   "metadata": {
    "collapsed": true
   },
   "outputs": [],
   "source": [
    "c1>c2"
   ]
  },
  {
   "cell_type": "markdown",
   "metadata": {},
   "source": [
    "###  Further Reading\n",
    "\n",
    "*  Built-in Types: https://docs.python.org/3/library/stdtypes.html?highlight=numerical%20type\n",
    "  * 4.4 Numeric Types — int, float, complex\n",
    "    \n",
    "*  探索 Python，第 1 部分: Python 的内置数值类型\n",
    "   * http://www.ibm.com/developerworks/cn/opensource/os-python1/\n",
    "   * http://www.ibm.com/developerworks/opensource/library/os-python1/?S_TACT=105AGX52&S_CMP=cn-a-os"
   ]
  },
  {
   "cell_type": "markdown",
   "metadata": {},
   "source": [
    "### 2.1.3 IDLE"
   ]
  },
  {
   "cell_type": "markdown",
   "metadata": {},
   "source": [
    "Typing programs directly into the shell is highly inconvenient. \n",
    "\n",
    "Most programmers prefer to use some sort of **text editor** that is part of an integrated\n",
    "development environment (IDE).\n",
    "<p>In this course, we will use <b>IDLE </b>,the IDE that comes as part of the standard Python installation package.\n",
    "<p>When IDLE starts it will open a <b>shell </b> window into which you can type Python commands</p>\n",
    "<img src=\"./img/ch2.1_PythonShellAtIDLE.PNG\"/> \n",
    "<p>It will also provide you with a <b>file menu and an edit menu</b></p>\n",
    "<img src=\"./img/ch2.1.3_PythonIDLE.PNG\"/>"
   ]
  },
  {
   "cell_type": "markdown",
   "metadata": {},
   "source": [
    "## 2.2 Branching Programs"
   ]
  },
  {
   "cell_type": "markdown",
   "metadata": {},
   "source": [
    "In Python, a <b style=\"color:blue\">conditional statement</b> has the form"
   ]
  },
  {
   "cell_type": "code",
   "execution_count": null,
   "metadata": {
    "collapsed": true
   },
   "outputs": [],
   "source": [
    "if Boolean expression:\n",
    "    block of code\n",
    "else:\n",
    "    block of code"
   ]
  },
  {
   "cell_type": "code",
   "execution_count": 38,
   "metadata": {},
   "outputs": [
    {
     "name": "stdout",
     "output_type": "stream",
     "text": [
      "Even\n",
      "12\n",
      "0\n"
     ]
    }
   ],
   "source": [
    "x=12\n",
    "# the following program that prints “Even” if the value of the variable x is even \n",
    "# and “Odd” otherwise:\n",
    "if x % 2 == 0:\n",
    "    print('Even')\n",
    "    print(x)\n",
    "    print(x%2)\n",
    "else:\n",
    "    print('Odd')"
   ]
  },
  {
   "cell_type": "markdown",
   "metadata": {},
   "source": [
    "<hr >\n",
    "<h3><b style=\"color:blue\">Indentation is semantically meaningful in Python!!!!!!</b></h3>\n",
    "<p>Python is unusual in using <b style=\"color:blue\">indentation </b>this way. Most other programming\n",
    "languages use some sort of bracketing symbols to delineate blocks of code, e.g.,C encloses blocks in braces, { }. An advantage of the Python approach is that it ensures that the visual structure of a program is an accurate representation of the semantic structure of that program."
   ]
  },
  {
   "cell_type": "code",
   "execution_count": 2,
   "metadata": {},
   "outputs": [
    {
     "name": "stdout",
     "output_type": "stream",
     "text": [
      "Divisible by 3 and not by 2\n"
     ]
    }
   ],
   "source": [
    "#x=2*3*7\n",
    "\n",
    "#x=2*7\n",
    "\n",
    "x=3*7\n",
    "\n",
    "# the conditional statements are nested.\n",
    "if x % 2 == 0:\n",
    "   \n",
    "    if x % 3 == 0:\n",
    "        print('Divisible by 2 and 3')\n",
    "    else:\n",
    "        print('Divisible by 2 and not by 3')\n",
    "        \n",
    "elif x % 3 == 0:    # elif : else  if\n",
    "    print('Divisible by 3 and not by 2')"
   ]
  },
  {
   "cell_type": "code",
   "execution_count": 3,
   "metadata": {},
   "outputs": [
    {
     "name": "stdout",
     "output_type": "stream",
     "text": [
      "x is least\n"
     ]
    }
   ],
   "source": [
    "x=1\n",
    "y=10\n",
    "z=87\n",
    "if x < y and x < z:  # compound Boolean expressions \n",
    "    print('x is least')\n",
    "elif y < z:\n",
    "    print('y is least')\n",
    "else:\n",
    "    print('z is least')"
   ]
  },
  {
   "cell_type": "markdown",
   "metadata": {},
   "source": [
    "## 2.3 Strings and Input\n",
    "\n",
    "Objects of type str are used to represent strings of characters.\n",
    "String literals are written in a variety of ways:\n",
    "* **Single quotes**: ’allows embedded \"double\" quotes’\n",
    "* **Double quotes**: \"allows embedded ’single’ quotes\".\n",
    "* **Triple quoted**: '''Three single quotes''', \"\"\"Three double quotes\"\"\"\n",
    "\n",
    "Triple quoted strings may **span multiple lines** - all associated whitespace will be included in the string literal."
   ]
  },
  {
   "cell_type": "code",
   "execution_count": 4,
   "metadata": {},
   "outputs": [
    {
     "data": {
      "text/plain": [
       "'b'"
      ]
     },
     "execution_count": 4,
     "metadata": {},
     "output_type": "execute_result"
    }
   ],
   "source": [
    "'b'"
   ]
  },
  {
   "cell_type": "code",
   "execution_count": 5,
   "metadata": {},
   "outputs": [
    {
     "data": {
      "text/plain": [
       "str"
      ]
     },
     "execution_count": 5,
     "metadata": {},
     "output_type": "execute_result"
    }
   ],
   "source": [
    "type('b')"
   ]
  },
  {
   "cell_type": "code",
   "execution_count": 6,
   "metadata": {},
   "outputs": [
    {
     "data": {
      "text/plain": [
       "str"
      ]
     },
     "execution_count": 6,
     "metadata": {},
     "output_type": "execute_result"
    }
   ],
   "source": [
    "type(\"a\")"
   ]
  },
  {
   "cell_type": "code",
   "execution_count": 10,
   "metadata": {},
   "outputs": [],
   "source": [
    "a=\"\"\"\n",
    "     School Of Power\n",
    "     Southeast\n",
    "     China\n",
    "     \n",
    "\"\"\""
   ]
  },
  {
   "cell_type": "code",
   "execution_count": 11,
   "metadata": {},
   "outputs": [
    {
     "data": {
      "text/plain": [
       "'\\n     School Of Power\\n     Southeast\\n     China\\n     \\n'"
      ]
     },
     "execution_count": 11,
     "metadata": {},
     "output_type": "execute_result"
    }
   ],
   "source": [
    "a"
   ]
  },
  {
   "cell_type": "code",
   "execution_count": 12,
   "metadata": {},
   "outputs": [
    {
     "name": "stdout",
     "output_type": "stream",
     "text": [
      "\n",
      "     School Of Power\n",
      "     Southeast\n",
      "     China\n",
      "     \n",
      "\n"
     ]
    }
   ],
   "source": [
    "print(a)"
   ]
  },
  {
   "cell_type": "code",
   "execution_count": null,
   "metadata": {
    "collapsed": true
   },
   "outputs": [],
   "source": [
    "3*4   # The operator *"
   ]
  },
  {
   "cell_type": "code",
   "execution_count": 14,
   "metadata": {},
   "outputs": [
    {
     "data": {
      "text/plain": [
       "'aaa'"
      ]
     },
     "execution_count": 14,
     "metadata": {},
     "output_type": "execute_result"
    }
   ],
   "source": [
    "3*\"a\"   # The operator * is overloaded\n",
    "# 3*4 is equivalent to 4+4+4, \n",
    "# the expression 3*'a' is equivalent to 'a'+'a'+'a'."
   ]
  },
  {
   "cell_type": "code",
   "execution_count": null,
   "metadata": {
    "collapsed": true
   },
   "outputs": [],
   "source": [
    "3+4 # The operator *"
   ]
  },
  {
   "cell_type": "code",
   "execution_count": 15,
   "metadata": {},
   "outputs": [
    {
     "data": {
      "text/plain": [
       "'aa1'"
      ]
     },
     "execution_count": 15,
     "metadata": {},
     "output_type": "execute_result"
    }
   ],
   "source": [
    "'a'+'a1'  # The operator * is overloaded"
   ]
  },
  {
   "cell_type": "code",
   "execution_count": null,
   "metadata": {
    "collapsed": true
   },
   "outputs": [],
   "source": [
    "a =3.0 \n",
    "a# name only, not bound to any object, not a literal of any type"
   ]
  },
  {
   "cell_type": "code",
   "execution_count": 16,
   "metadata": {},
   "outputs": [
    {
     "ename": "TypeError",
     "evalue": "can't multiply sequence by non-int of type 'str'",
     "output_type": "error",
     "traceback": [
      "\u001b[1;31m---------------------------------------------------------------------------\u001b[0m",
      "\u001b[1;31mTypeError\u001b[0m                                 Traceback (most recent call last)",
      "\u001b[1;32m<ipython-input-16-16c4cba560f9>\u001b[0m in \u001b[0;36m<module>\u001b[1;34m()\u001b[0m\n\u001b[1;32m----> 1\u001b[1;33m \u001b[1;34m'a'\u001b[0m\u001b[1;33m*\u001b[0m\u001b[1;34m'a'\u001b[0m\u001b[1;33m\u001b[0m\u001b[0m\n\u001b[0m",
      "\u001b[1;31mTypeError\u001b[0m: can't multiply sequence by non-int of type 'str'"
     ]
    }
   ],
   "source": [
    "'a'*'a'"
   ]
  },
  {
   "cell_type": "markdown",
   "metadata": {},
   "source": [
    "The <b>type checking in Python</b> is not as, strong as in some other programming languages (e.g., Java)."
   ]
  },
  {
   "cell_type": "code",
   "execution_count": 17,
   "metadata": {},
   "outputs": [
    {
     "ename": "TypeError",
     "evalue": "unorderable types: str() < int()",
     "output_type": "error",
     "traceback": [
      "\u001b[1;31m---------------------------------------------------------------------------\u001b[0m",
      "\u001b[1;31mTypeError\u001b[0m                                 Traceback (most recent call last)",
      "\u001b[1;32m<ipython-input-17-c70f937a896f>\u001b[0m in \u001b[0;36m<module>\u001b[1;34m()\u001b[0m\n\u001b[1;32m----> 1\u001b[1;33m \u001b[1;34m'4'\u001b[0m \u001b[1;33m<\u001b[0m \u001b[1;36m3\u001b[0m  \u001b[1;31m# all numeric values should be less than all values of type str :Python2, not python3!\u001b[0m\u001b[1;33m\u001b[0m\u001b[0m\n\u001b[0m",
      "\u001b[1;31mTypeError\u001b[0m: unorderable types: str() < int()"
     ]
    }
   ],
   "source": [
    "'4' < 3  # all numeric values should be less than all values of type str :Python2, not python3!"
   ]
  },
  {
   "cell_type": "markdown",
   "metadata": {},
   "source": [
    "<h3>Strings are one of several sequence types in Python. They share the following operations with all sequence types.</h3>\n",
    "<ul>\n",
    "<li>The <b>length</b> of a string can be found using the len function. For example, the value of <b>len('abc')</b> is 3\n",
    "<li><b>Indexing</b> can be used to extract individual characters from a string. In Python,all indexing is <b>zero-based</b>. For example, typing 'abc'[0] into the interpreter will cause it to display the string 'a'.\n",
    "<li><b>Slicing</b> is used to extract substrings of arbitrary length. If s is a string, the expression <b>s[start:end] </b> denotes the substring of s that starts at index start and ends at index <b>end-1</b>. For example, 'abc'[1:3] = 'bc'.\n",
    "</ul>\n",
    "\n"
   ]
  },
  {
   "cell_type": "code",
   "execution_count": 19,
   "metadata": {},
   "outputs": [
    {
     "data": {
      "text/plain": [
       "5"
      ]
     },
     "execution_count": 19,
     "metadata": {},
     "output_type": "execute_result"
    }
   ],
   "source": [
    "len('ayybd')"
   ]
  },
  {
   "cell_type": "code",
   "execution_count": 21,
   "metadata": {},
   "outputs": [
    {
     "data": {
      "text/plain": [
       "'b'"
      ]
     },
     "execution_count": 21,
     "metadata": {},
     "output_type": "execute_result"
    }
   ],
   "source": [
    "'abd'[1]"
   ]
  },
  {
   "cell_type": "code",
   "execution_count": 22,
   "metadata": {},
   "outputs": [
    {
     "data": {
      "text/plain": [
       "'bc'"
      ]
     },
     "execution_count": 22,
     "metadata": {},
     "output_type": "execute_result"
    }
   ],
   "source": [
    "'abcd'[1:3]"
   ]
  },
  {
   "cell_type": "code",
   "execution_count": 23,
   "metadata": {},
   "outputs": [
    {
     "data": {
      "text/plain": [
       "'abc'"
      ]
     },
     "execution_count": 23,
     "metadata": {},
     "output_type": "execute_result"
    }
   ],
   "source": [
    "'abc'[0:len('abc')]"
   ]
  },
  {
   "cell_type": "code",
   "execution_count": 24,
   "metadata": {},
   "outputs": [
    {
     "data": {
      "text/plain": [
       "'abc'"
      ]
     },
     "execution_count": 24,
     "metadata": {},
     "output_type": "execute_result"
    }
   ],
   "source": [
    "'abc'[:len('abc')]  # omit the starting index"
   ]
  },
  {
   "cell_type": "markdown",
   "metadata": {},
   "source": [
    "### Advanced String Slicing\n",
    "\n",
    "you can slice a string with a call such as <b style=\"color:blue\">s[i:j]</b>, \n",
    "\n",
    "which gives you a portion of string s from index <b style=\"color:blue\">i</b> to index <b style=\"color:blue\">j-1</b>. \n",
    "\n",
    "However this is not the only way to slice a string! \n",
    "\n",
    "If you <b style=\"color:blue\">omit the starting index</b>, Python will assume that you wish to start your slice at index <b style=\"color:blue\">0</b>. \n",
    "\n",
    "If you <b style=\"color:blue\">omit the ending index</b>, Python will assume you wish to end your slice at <b style=\"color:blue\">the end of the string</b>. \n",
    "\n"
   ]
  },
  {
   "cell_type": "code",
   "execution_count": 25,
   "metadata": {},
   "outputs": [
    {
     "data": {
      "text/plain": [
       "'abc'"
      ]
     },
     "execution_count": 25,
     "metadata": {},
     "output_type": "execute_result"
    }
   ],
   "source": [
    "'abc'[:]"
   ]
  },
  {
   "cell_type": "code",
   "execution_count": 26,
   "metadata": {},
   "outputs": [
    {
     "data": {
      "text/plain": [
       "'ytho'"
      ]
     },
     "execution_count": 26,
     "metadata": {},
     "output_type": "execute_result"
    }
   ],
   "source": [
    "s = 'Python is Fun!'\n",
    "s[1:5]"
   ]
  },
  {
   "cell_type": "code",
   "execution_count": 27,
   "metadata": {},
   "outputs": [
    {
     "data": {
      "text/plain": [
       "'Pytho'"
      ]
     },
     "execution_count": 27,
     "metadata": {},
     "output_type": "execute_result"
    }
   ],
   "source": [
    "s[:5]"
   ]
  },
  {
   "cell_type": "code",
   "execution_count": 28,
   "metadata": {},
   "outputs": [
    {
     "data": {
      "text/plain": [
       "'ython is Fun!'"
      ]
     },
     "execution_count": 28,
     "metadata": {},
     "output_type": "execute_result"
    }
   ],
   "source": [
    "s[1:]"
   ]
  },
  {
   "cell_type": "code",
   "execution_count": 29,
   "metadata": {},
   "outputs": [
    {
     "data": {
      "text/plain": [
       "'Python is Fun!'"
      ]
     },
     "execution_count": 29,
     "metadata": {},
     "output_type": "execute_result"
    }
   ],
   "source": [
    "s[:]"
   ]
  },
  {
   "cell_type": "markdown",
   "metadata": {},
   "source": [
    "That last example is interesting! If you omit both the start and ending index, you get your original string!\n",
    "\n",
    "There's one other cool thing you can do with string slicing. \n",
    "\n",
    "You can add a third parameter,<b style=\"color:blue\"> k</b>, \n",
    "\n",
    "```python\n",
    "s[i:j:k]\n",
    "```\n",
    "\n",
    "This gives a slice of the string s from index i to index j-1, with<b style=\"color:blue\">step size k</b>. \n",
    "\n",
    "Check out the following examples:"
   ]
  },
  {
   "cell_type": "code",
   "execution_count": 30,
   "metadata": {},
   "outputs": [
    {
     "data": {
      "text/plain": [
       "'yhni u'"
      ]
     },
     "execution_count": 30,
     "metadata": {},
     "output_type": "execute_result"
    }
   ],
   "source": [
    "s = 'Python is Fun!'\n",
    "s[1:12:2]"
   ]
  },
  {
   "cell_type": "code",
   "execution_count": 31,
   "metadata": {},
   "outputs": [
    {
     "data": {
      "text/plain": [
       "'yoiF'"
      ]
     },
     "execution_count": 31,
     "metadata": {},
     "output_type": "execute_result"
    }
   ],
   "source": [
    "s[1:12:3]"
   ]
  },
  {
   "cell_type": "code",
   "execution_count": 32,
   "metadata": {},
   "outputs": [
    {
     "data": {
      "text/plain": [
       "'Pto sFn'"
      ]
     },
     "execution_count": 32,
     "metadata": {},
     "output_type": "execute_result"
    }
   ],
   "source": [
    "s[::2]"
   ]
  },
  {
   "cell_type": "markdown",
   "metadata": {},
   "source": [
    "The last example is similar to the example   ``` s[:]```. \n",
    "\n",
    "With ```s[::2]```, we're asking for the full string s (from index 0 through 13), with a step size of 2 \n",
    "\n",
    "so we end up with <b>every other character</b> in s"
   ]
  },
  {
   "cell_type": "code",
   "execution_count": 33,
   "metadata": {},
   "outputs": [
    {
     "data": {
      "text/plain": [
       "'!nuF si nohtyP'"
      ]
     },
     "execution_count": 33,
     "metadata": {},
     "output_type": "execute_result"
    }
   ],
   "source": [
    "s = 'Python is Fun!'\n",
    "s[::-1]  #  a step size<0"
   ]
  },
  {
   "cell_type": "markdown",
   "metadata": {},
   "source": [
    "### 2.3.1 Input\n",
    "\n",
    "Python 3 has only one command, input. Python 3’s input has the same semantics as raw_input in Python 2.7.\n",
    "<p>input line is treated as a <b>string</b> and becomes the value returned by the function;"
   ]
  },
  {
   "cell_type": "code",
   "execution_count": 36,
   "metadata": {},
   "outputs": [
    {
     "name": "stdout",
     "output_type": "stream",
     "text": [
      "Enter your name: tty\n"
     ]
    }
   ],
   "source": [
    "name = input('Enter your name: ')"
   ]
  },
  {
   "cell_type": "code",
   "execution_count": 37,
   "metadata": {},
   "outputs": [
    {
     "name": "stdout",
     "output_type": "stream",
     "text": [
      "Are you really tty ?\n"
     ]
    }
   ],
   "source": [
    "print('Are you really', name, '?')  \n",
    "# print is given multiple arguments, \n",
    "# it places a blank space between the values associated with the arguments"
   ]
  },
  {
   "cell_type": "code",
   "execution_count": 38,
   "metadata": {},
   "outputs": [
    {
     "name": "stdout",
     "output_type": "stream",
     "text": [
      "Are you really tty?\n"
     ]
    }
   ],
   "source": [
    "print('Are you really ' + name + '?')\n",
    "\n",
    "#  The print statementuses concatenation to produce a string that does not contain \n",
    "#  the superfluous blank and passes this as the only argument to print."
   ]
  },
  {
   "cell_type": "code",
   "execution_count": 39,
   "metadata": {},
   "outputs": [
    {
     "name": "stdout",
     "output_type": "stream",
     "text": [
      "Enter an int: 12\n"
     ]
    }
   ],
   "source": [
    "n = input('Enter an int: ')"
   ]
  },
  {
   "cell_type": "code",
   "execution_count": 40,
   "metadata": {},
   "outputs": [
    {
     "data": {
      "text/plain": [
       "str"
      ]
     },
     "execution_count": 40,
     "metadata": {},
     "output_type": "execute_result"
    }
   ],
   "source": [
    "type(n)"
   ]
  },
  {
   "cell_type": "markdown",
   "metadata": {},
   "source": [
    "Notice that the variable n is bound to the str '3' not the int 3."
   ]
  },
  {
   "cell_type": "code",
   "execution_count": null,
   "metadata": {
    "collapsed": true
   },
   "outputs": [],
   "source": [
    "n*4"
   ]
  },
  {
   "cell_type": "markdown",
   "metadata": {},
   "source": [
    "Type conversions (also called type casts) are used often in Python code. \n",
    "We use the name of a type to convert values to that type."
   ]
  },
  {
   "cell_type": "code",
   "execution_count": 41,
   "metadata": {},
   "outputs": [],
   "source": [
    "a=int(n)"
   ]
  },
  {
   "cell_type": "code",
   "execution_count": 42,
   "metadata": {},
   "outputs": [
    {
     "data": {
      "text/plain": [
       "int"
      ]
     },
     "execution_count": 42,
     "metadata": {},
     "output_type": "execute_result"
    }
   ],
   "source": [
    "type(a)"
   ]
  },
  {
   "cell_type": "code",
   "execution_count": null,
   "metadata": {
    "collapsed": true
   },
   "outputs": [],
   "source": [
    "int(n)*4"
   ]
  },
  {
   "cell_type": "markdown",
   "metadata": {},
   "source": [
    "When a float is converted to an int, the number is truncated (not rounded), e.g., "
   ]
  },
  {
   "cell_type": "code",
   "execution_count": null,
   "metadata": {
    "collapsed": true
   },
   "outputs": [],
   "source": [
    "int(3.9)"
   ]
  },
  {
   "cell_type": "markdown",
   "metadata": {},
   "source": [
    "\n",
    "## 2.4 Iteration\n",
    "\n",
    "```python\n",
    "\n",
    "initial value  # ！！！\n",
    "while Boolean expression:\n",
    "      block of code\n",
    "```"
   ]
  },
  {
   "cell_type": "code",
   "execution_count": 46,
   "metadata": {},
   "outputs": [
    {
     "name": "stdout",
     "output_type": "stream",
     "text": [
      "4*4 = 16\n"
     ]
    }
   ],
   "source": [
    "# Square an integer, the hard way X**2\n",
    "x = 4  \n",
    "ans = 0   \n",
    "itersLeft = x      # initial value ：X\n",
    "\n",
    "while (itersLeft != 0):\n",
    "    ans = ans + x  # x**2  to repetitive +\n",
    "    itersLeft = itersLeft - 1  \n",
    "\n",
    "print(str(x) + '*' + str(x) + ' = ' + str(ans))"
   ]
  },
  {
   "cell_type": "markdown",
   "metadata": {},
   "source": [
    "## 2.5 Python Developer's Guide\n",
    "\n",
    "https://www.python.org/dev/\n",
    "\n",
    "Python Enhancement Proposals"
   ]
  },
  {
   "cell_type": "markdown",
   "metadata": {},
   "source": [
    "### 2.5.1 The Zen of Python ,PEP20 (Python Enhancement Proposals)\n",
    "\n",
    "https://www.python.org/dev/peps/pep-0020/"
   ]
  },
  {
   "cell_type": "code",
   "execution_count": 47,
   "metadata": {},
   "outputs": [
    {
     "name": "stdout",
     "output_type": "stream",
     "text": [
      "The Zen of Python, by Tim Peters\n",
      "\n",
      "Beautiful is better than ugly.\n",
      "Explicit is better than implicit.\n",
      "Simple is better than complex.\n",
      "Complex is better than complicated.\n",
      "Flat is better than nested.\n",
      "Sparse is better than dense.\n",
      "Readability counts.\n",
      "Special cases aren't special enough to break the rules.\n",
      "Although practicality beats purity.\n",
      "Errors should never pass silently.\n",
      "Unless explicitly silenced.\n",
      "In the face of ambiguity, refuse the temptation to guess.\n",
      "There should be one-- and preferably only one --obvious way to do it.\n",
      "Although that way may not be obvious at first unless you're Dutch.\n",
      "Now is better than never.\n",
      "Although never is often better than *right* now.\n",
      "If the implementation is hard to explain, it's a bad idea.\n",
      "If the implementation is easy to explain, it may be a good idea.\n",
      "Namespaces are one honking great idea -- let's do more of those!\n"
     ]
    }
   ],
   "source": [
    "# Easter Egg\n",
    "import this"
   ]
  },
  {
   "cell_type": "markdown",
   "metadata": {},
   "source": [
    "### 2.5.2 Coding convention: PEP8()\n",
    "\n",
    "https://www.python.org/dev/peps/pep-0008/\n",
    "\n",
    "<ul>\n",
    "<li>Use 4 spaces per indentation level. \n",
    "<li>Limit all lines to a maximum of 79 characters. \n",
    "<li>Surround top-level function and class definitions with two blank lines. \n",
    "<li>Code in the core Python distribution should always use UTF-8 (or ASCII in Python 2). \n",
    "<li>Imports should usually be on separate lines\n",
    "<li>Variable, method, modules name should be lower_case (with underscore, only if needed)\n",
    "<li>Constant should be UPPER_CASE\n",
    "<li>Class names should normally use the CapWords convention \n",
    "<li>single letter variable should be limited to loop indexes\n",
    "</ul>"
   ]
  },
  {
   "cell_type": "markdown",
   "metadata": {},
   "source": [
    "### pep8 - Python style guide checker\n",
    "\n",
    "pep8 is a tool to check your Python code against some of the style conventions in PEP 8.\n",
    "\n",
    "#### Installation"
   ]
  },
  {
   "cell_type": "code",
   "execution_count": null,
   "metadata": {
    "collapsed": true
   },
   "outputs": [],
   "source": [
    "!pip install pep8\n",
    "!pip install --upgrade pep8\n",
    "!pip uninstall pep8"
   ]
  },
  {
   "cell_type": "markdown",
   "metadata": {},
   "source": [
    "#### Example usage and output\n",
    "\n",
    "show first occurrence of each error"
   ]
  },
  {
   "cell_type": "code",
   "execution_count": 1,
   "metadata": {},
   "outputs": [
    {
     "name": "stdout",
     "output_type": "stream",
     "text": [
      "./src/ch3_cube_root.py:2:2: E225 missing whitespace around operator\n",
      "./src/ch3_cube_root.py:3:8: W291 trailing whitespace\n",
      "./src/ch3_cube_root.py:5:1: W293 blank line contains whitespace\n",
      "./src/ch3_cube_root.py:7:16: E114 indentation is not a multiple of four (comment)\n",
      "./src/ch3_cube_root.py:7:16: E116 unexpected indentation (comment)\n",
      "./src/ch3_cube_root.py:15:28: E231 missing whitespace after ','\n",
      "./src/ch3_cube_root.py:15:39: W292 no newline at end of file\n"
     ]
    }
   ],
   "source": [
    "!pep8 --first ./src/ch3_cube_root.py"
   ]
  },
  {
   "cell_type": "markdown",
   "metadata": {},
   "source": [
    "You can also make pep8.py show the source code for each error, and even the relevant text from PEP 8:"
   ]
  },
  {
   "cell_type": "code",
   "execution_count": null,
   "metadata": {
    "collapsed": true
   },
   "outputs": [],
   "source": [
    "!pep8 --show-source --show-pep8 ./src/ch3_cube_root.py"
   ]
  },
  {
   "cell_type": "markdown",
   "metadata": {},
   "source": [
    "you can display how often each error was found:"
   ]
  },
  {
   "cell_type": "code",
   "execution_count": null,
   "metadata": {
    "collapsed": true
   },
   "outputs": [],
   "source": [
    "!pep8 --statistics ./src/ch3_cube_root.py"
   ]
  },
  {
   "cell_type": "markdown",
   "metadata": {},
   "source": [
    "### autopep8\n",
    "A tool that automatically formats Python code to conform to the PEP 8 style guide"
   ]
  },
  {
   "cell_type": "code",
   "execution_count": null,
   "metadata": {
    "collapsed": true
   },
   "outputs": [],
   "source": [
    "!pip install autopep8"
   ]
  },
  {
   "cell_type": "markdown",
   "metadata": {},
   "source": [
    "To modify a file in place (with aggressive level 2）："
   ]
  },
  {
   "cell_type": "code",
   "execution_count": null,
   "metadata": {
    "collapsed": true
   },
   "outputs": [],
   "source": [
    "!autopep8 --in-place --aggressive --aggressive ./src/ch3_cube_root.py"
   ]
  },
  {
   "cell_type": "markdown",
   "metadata": {},
   "source": [
    "# Pylint\n",
    "\n",
    "Pylint is a tool that checks for errors in Python code, tries to enforce a coding standard and looks for bad code smells\n",
    "\n",
    "http://www.pylint.org"
   ]
  },
  {
   "cell_type": "code",
   "execution_count": null,
   "metadata": {
    "collapsed": true
   },
   "outputs": [],
   "source": [
    "!pip install pylint"
   ]
  },
  {
   "cell_type": "markdown",
   "metadata": {},
   "source": [
    "# Google Python Style Guide\n",
    "\n",
    "<p>Every major open-source project has its own style guide: a set of conventions (sometimes arbitrary) about how to write code for that project. It is much easier to understand a large codebase when all the code in it is in a consistent style.\n",
    "\n",
    "<p>“Style” covers a lot of ground, from “use <b>camelCase</b> for variable names” to “never use global variables” to “never use exceptions.” This project holds the style guidelines we use for Google code. If you are modifying a project that originated at Google, you may be pointed to this page to see the style guides that apply to that project.\n",
    "\n",
    "\n",
    "<p>http://google.github.io/styleguide/pyguide.html\n",
    "\n",
    "<p>中文： https://github.com/zh-google-styleguide/zh-google-styleguide"
   ]
  },
  {
   "cell_type": "markdown",
   "metadata": {},
   "source": [
    "# Python 2 to 3 code translation\n",
    "\n",
    "The Python Library Reference: <b>26.7 2to3 - Automated Python 2 to 3 code translation</b>\n",
    "\n",
    "2to3 is a Python program that reads Python 2.x source code and applies a series of fixers to transform it into valid\n",
    "Python 3.x code.\n",
    "\n",
    "2to3 will usually be installed with the Python interpreter as a script. It is also located in the Tools/scripts\n",
    "directory of the Python root.\n",
    "\n",
    "Here is a sample Python 2.x source file, example.py, It can be converted to Python 3.x code via 2to3 on the command line:\n",
    "\n",
    "<b>python C:/Python35/Tools/Scripts/2to3.py -w example.py</b>"
   ]
  }
 ],
 "metadata": {
  "kernelspec": {
   "display_name": "Python 3",
   "language": "python",
   "name": "python3"
  },
  "language_info": {
   "codemirror_mode": {
    "name": "ipython",
    "version": 3
   },
   "file_extension": ".py",
   "mimetype": "text/x-python",
   "name": "python",
   "nbconvert_exporter": "python",
   "pygments_lexer": "ipython3",
   "version": "3.5.4"
  }
 },
 "nbformat": 4,
 "nbformat_minor": 2
}
