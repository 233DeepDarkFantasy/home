{
 "cells": [
  {
   "cell_type": "markdown",
   "metadata": {},
   "source": [
    "# GNU Scientific Library & Gnuplot(Ubuntu)\n",
    "\n",
    "https://www.gnu.org/software/gsl/\n",
    "\n",
    "The GNU Scientific Library (GSL) is a numerical library for C and C++ programmers. It is free software under the GNU General Public License.\n",
    "\n",
    "The library provides a wide range of mathematical routines such as random number generators, special functions and least-squares fitting. There are over 1000 functions in total with an extensive test suite.\n",
    "\n",
    "\n",
    "## 1 Install GSL under Ubuntu\n",
    "\n",
    "**Ubuntu Packages Search**\n",
    "\n",
    "   This site provides you with information about all the packages available in the Ubuntu Package archive.\n",
    "\n",
    "   https://packages.ubuntu.com/\n",
    "\n",
    "Ubuntu 18.04 https://packages.ubuntu.com/bionic/math/gsl-bin\n",
    "\n",
    "* gsl-2.3 was released in December 2016\n",
    "\n",
    "Ubuntu 16.04 https://packages.ubuntu.com/xenial/math/gsl-bin\n",
    "\n",
    "* gsl-2.1 was released in November 2015\n",
    "\n",
    "**Installing GSL**\n",
    "\n",
    "```bash\n",
    "$sudo apt install gsl-bin\n",
    "\n",
    "$sudo apt install libgsl-dev\n",
    "```"
   ]
  },
  {
   "cell_type": "markdown",
   "metadata": {},
   "source": [
    "## 2 Using the GSL Library\n",
    "\n",
    "### 2.1 Compiling and Linking\n",
    "\n",
    "The library header files are installed in their own gsl directory. You should write any preprocessor include statements with a gsl/ directory prefix thus, \n",
    "\n",
    "```c\n",
    "#include <gsl/gsl_rstat.h>\n",
    "```\n",
    "If the directory is not installed on the standard search path of your compiler you will also need to provide its location to the preprocessor as a command line flag.The default location of the gsl directory(ubuntu18.04) is `/usr/include/gsl`\n",
    "\n",
    "A typical compilation command for a source file example.c with the GNU C compiler gcc is, \n",
    "\n",
    "```bash\n",
    "$gcc -Wall -I/usr/include -c example.c\n",
    "```\n",
    "This results in an object file example.o. The default include path for gcc searches `/usr/include` automatically so the `-I` option can actually be **omitted** when GSL is installed in its default location. \n",
    "\n",
    "```bash\n",
    "$gcc -Wall -c example.c\n",
    "```\n",
    "\n",
    "\n",
    "### 2.2 Linking programs with the library\n",
    "\n",
    "The library is installed as a single file, `libgsl.a`. A shared version of the library `libgsl.so` is also installed on systems that support shared libraries. The default location of these files(Ubuntu18.04) is `/usr/lib/x86_64-linux-gnu/`. If this directory is not on the standard search path of your linker you will also need to provide its location as a command line flag.\n",
    "\n",
    "To link against the library you need to specify both the `main library` and a supporting` CBLAS library,` which provides standard basic linear algebra subroutines. A suitable CBLAS implementation is provided in the library `libgslcblas.a` if your system does not provide one. The following example shows how to link an application with the library:\n",
    "\n",
    "```bash\n",
    "$gcc -L/usr/lib/x86_64-linux-gnu/ example.o -lgsl -lgslcblas -lm\n",
    "```\n",
    "The default library path for gcc searches `/usr/lib/x86_64-linux-gnu/` automatically so the `-L` option can be **omitted** when GSL is installed in its default location.\n",
    "\n",
    "The option `-lm` links with the system math library. \n"
   ]
  },
  {
   "cell_type": "markdown",
   "metadata": {},
   "source": [
    "### 2.3 The  Example \n",
    "\n",
    "Here is a basic example of how to use the statistical functions\n",
    "\n",
    "https://www.gnu.org/software/gsl/doc/html/rstat.html"
   ]
  },
  {
   "cell_type": "code",
   "execution_count": null,
   "metadata": {},
   "outputs": [],
   "source": [
    "%%file ./code/gcc/example.c\n",
    "\n",
    "#include <stdio.h>\n",
    "#include <gsl/gsl_rstat.h>\n",
    "\n",
    "int main(void)\n",
    "{\n",
    "  double data[5] = {17.2, 18.1, 16.5, 18.3, 12.6};\n",
    "  \n",
    "  double mean, variance, largest, smallest, sd,\n",
    "         rms, sd_mean, median, skew, kurtosis;\n",
    "    \n",
    "  gsl_rstat_workspace *rstat_p = gsl_rstat_alloc();\n",
    "  size_t i, n;\n",
    "\n",
    "  /* add data to rstat accumulator */\n",
    "  for (i = 0; i < 5; ++i)\n",
    "    gsl_rstat_add(data[i], rstat_p);\n",
    "\n",
    "  mean     = gsl_rstat_mean(rstat_p);\n",
    "  variance = gsl_rstat_variance(rstat_p);\n",
    "  largest  = gsl_rstat_max(rstat_p);\n",
    "  smallest = gsl_rstat_min(rstat_p);\n",
    "  median   = gsl_rstat_median(rstat_p);\n",
    "  sd       = gsl_rstat_sd(rstat_p);\n",
    "  sd_mean  = gsl_rstat_sd_mean(rstat_p);\n",
    "  skew     = gsl_rstat_skew(rstat_p);\n",
    "  rms      = gsl_rstat_rms(rstat_p);\n",
    "  kurtosis = gsl_rstat_kurtosis(rstat_p);\n",
    "  n        = gsl_rstat_n(rstat_p);\n",
    "\n",
    "  printf (\"The dataset is %g, %g, %g, %g, %g\\n\",\n",
    "         data[0], data[1], data[2], data[3], data[4]);\n",
    "\n",
    "  printf (\"The sample mean is %g\\n\", mean);\n",
    "  printf (\"The estimated variance is %g\\n\", variance);\n",
    "  printf (\"The largest value is %g\\n\", largest);\n",
    "  printf (\"The smallest value is %g\\n\", smallest);\n",
    "  printf( \"The median is %g\\n\", median);\n",
    "  printf( \"The standard deviation is %g\\n\", sd);\n",
    "  printf( \"The root mean square is %g\\n\", rms);\n",
    "  printf( \"The standard devation of the mean is %g\\n\", sd_mean);\n",
    "  printf( \"The skew is %g\\n\", skew);\n",
    "  printf( \"The kurtosis %g\\n\", kurtosis);\n",
    "  printf( \"There are %zu items in the accumulator\\n\", n);\n",
    "\n",
    "  gsl_rstat_reset(rstat_p);\n",
    "  n = gsl_rstat_n(rstat_p);\n",
    "  printf( \"There are %zu items in the accumulator\\n\", n);\n",
    "\n",
    "  gsl_rstat_free(rstat_p);\n",
    "\n",
    "  return 0;\n",
    "}"
   ]
  },
  {
   "cell_type": "code",
   "execution_count": null,
   "metadata": {},
   "outputs": [],
   "source": [
    "!gcc -Wall -I/usr/include -c ./code/gcc/example.c"
   ]
  },
  {
   "cell_type": "code",
   "execution_count": null,
   "metadata": {},
   "outputs": [],
   "source": [
    "!gcc -o example example.o -L/usr/lib/x86_64-linux-gnu/ -lgsl -lgslcblas -lm"
   ]
  },
  {
   "cell_type": "code",
   "execution_count": null,
   "metadata": {},
   "outputs": [],
   "source": [
    "!./example"
   ]
  },
  {
   "cell_type": "markdown",
   "metadata": {},
   "source": [
    "**-I -L** option can be **omitted** when GSL is installed in its default location"
   ]
  },
  {
   "cell_type": "code",
   "execution_count": null,
   "metadata": {},
   "outputs": [],
   "source": [
    "!gcc -Wall -c ./code/gcc/example.c"
   ]
  },
  {
   "cell_type": "code",
   "execution_count": null,
   "metadata": {},
   "outputs": [],
   "source": [
    "!gcc -o example example.o -lgsl -lgslcblas -lm"
   ]
  },
  {
   "cell_type": "code",
   "execution_count": null,
   "metadata": {},
   "outputs": [],
   "source": [
    "!./example "
   ]
  },
  {
   "cell_type": "markdown",
   "metadata": {},
   "source": [
    "## 3 Using GSL - Linear Least-Squares Fitting\n",
    "\n",
    "The functions described in this section can be used to perform least-squares fits to a straight line model, .\n",
    "\n",
    "```c\n",
    "int gsl_fit_linear(const double * x, const size_t xstride, const double * y, const size_t ystride, size_t n, double * c0, double * c1, double * cov00, double * cov01, double * cov11, double * sumsq)\n",
    "```\n",
    "This function computes the best-fit linear regression coefficients `(c0, c1)` of the model  for the dataset `(x, y)`, two vectors of length `n` with strides xstride and ystride.\n",
    "\n",
    "The errors on `y` are assumed unknown so the variance-covariance matrix for the parameters `(c0, c1)` is estimated from the scatter of the points around the best-fit line and returned via the parameters` (cov00, cov01, cov11)`. \n",
    "\n",
    "The **sum of squares of the residuals** from the best-fit line is returned in `sumsq`. \n",
    "\n",
    "The following program computes a least squares straight-line fit to one dataset of `Mr. F.J. Anscombe`, and outputs the best-fit line and its associated one standard-deviation error bars."
   ]
  },
  {
   "cell_type": "code",
   "execution_count": null,
   "metadata": {},
   "outputs": [],
   "source": [
    "%%file ./code/gcc/demo_fit.c\n",
    "\n",
    "#include <stdio.h>\n",
    "#include <gsl/gsl_fit.h>\n",
    "\n",
    "int main (void)\n",
    "{\n",
    "  int n = 11;\n",
    "  double x[11] = {10.0, 8.0, 13.0, 9.0,11.0,14.0,6.0,4.0 ,12.0,7.0,5.0};\n",
    "  double y[11] = {  8.04,  6.95,7.68, 8.81, 8.33,9.96,7.24,4.26,10.84,4.82,5.68 };\n",
    "\n",
    "  double c0, c1, cov00, cov01, cov11, sumsq;\n",
    "\n",
    "  gsl_fit_linear (x, 1, y, 1, n,\n",
    "                   &c0, &c1, &cov00, &cov01, &cov11,\n",
    "                   &sumsq);\n",
    "\n",
    "  printf (\"best fit: Y = %g + %g X\\n\", c0, c1);\n",
    "  printf (\"covariance matrix:\\n\");\n",
    "  printf (\"[ %g, %g\\n  %g, %g]\\n\",\n",
    "          cov00, cov01, cov01, cov11);\n",
    "  printf (\"sumsq = %g\\n\", sumsq);\n",
    "\n",
    "  printf (\"\\n\");\n",
    "\n",
    "  return 0;\n",
    "}"
   ]
  },
  {
   "cell_type": "code",
   "execution_count": null,
   "metadata": {},
   "outputs": [],
   "source": [
    "!gcc -o  demo_fit ./code/gcc/demo_fit.c -lgsl -lgslcblas -lm"
   ]
  },
  {
   "cell_type": "code",
   "execution_count": null,
   "metadata": {},
   "outputs": [],
   "source": [
    "!./demo_fit "
   ]
  },
  {
   "cell_type": "markdown",
   "metadata": {},
   "source": [
    "## 4 Gnuplot \n",
    "\n",
    "http://gnuplot.info/\n",
    "   \n",
    "Gnuplot is a portable command-line driven graphing utility for Linux, OS/2, MS Windows, OSX, VMS, and many other platforms.\n",
    "\n",
    "The source code is copyrighted but freely distributed (i.e., you don't have to pay for it). It was originally created to allow scientists and students to visualize mathematical functions and data interactively, but has grown to support many non-interactive uses such as web scripting. \n",
    "\n",
    "It is also used as a plotting engine by third-party applications like Octave. Gnuplot has been supported and under active development since 1986.\n",
    "\n",
    "**Installing**\n",
    "\n",
    "```\n",
    "$sudo apt install gnuplot\n",
    "```"
   ]
  },
  {
   "cell_type": "markdown",
   "metadata": {},
   "source": [
    "### Plotting Data with pipe(popen)\n",
    "\n",
    "#### 15.2 Pipe to a Subprocess\n",
    "\n",
    "Using a **pipe** to **communicate** with a **child** proces\n",
    "\n",
    "https://www.gnu.org/software/libc/manual/html_node/Pipe-to-a-Subprocess.html\n",
    "\n",
    "**popen**\n",
    "\n",
    "```c\n",
    "#include <stdio.h>\n",
    "FILE *popen(const char *command, const char *mode); \n",
    "```\n",
    "\n",
    "DESCRIPTION\n",
    "\n",
    "The popen() function shall execute the command specified by the string command. It shall create a pipe between the calling program and the executed command, and shall return a pointer to a stream that can be used to either read from or write to the pipe.\n",
    "\n",
    "**pipe**\n",
    "\n",
    "A pipe is a mechanism for interprocess communication; data written to the pipe by one process can be read by another process.\n",
    "\n",
    "The pipe is used to **transfer** the **results** from **one command to another**.\n",
    "\n",
    "**subprocess**\n",
    "\n",
    "A Linux **process** is a program running in the Linux system.\n",
    "\n",
    "A **subprocess** is a child process, i.e. a process that has been launched by its parent to which it is a subprocess.\n",
    "\n",
    "#### Example 1 data file\n",
    "\n",
    "Discrete data contained in a file can be displayed by specifying the name of the data file (enclosed in quotes) on the plot or splot command line. \n",
    "\n",
    "**Data files** should have the data arranged in `columns` of numbers. Columns should be separated by `datafile separator`.\n",
    "\n",
    "`Lines` beginning with a `#` character are treated as `comments` and are ignored by Gnuplot. \n",
    "\n",
    "A `blank` line in the data file results in a break in the line connecting data points.\n"
   ]
  },
  {
   "cell_type": "code",
   "execution_count": null,
   "metadata": {},
   "outputs": [],
   "source": [
    "%%file ./src/springData.csv\n",
    "#Distance(m),Mass(kg)\n",
    "0.0865,0.1\n",
    "0.1015,0.15\n",
    "0.1106,0.2\n",
    "0.1279,0.25\n",
    "0.1892,0.3\n",
    "0.2695,0.35\n",
    "0.2888,0.4\n",
    "0.2425,0.45\n",
    "0.3465,0.5\n",
    "0.3225,0.55\n",
    "0.3764,0.6\n",
    "0.4263,0.65\n",
    "0.4562,0.7\n",
    "0.4502,0.75\n",
    "0.4499,0.8\n",
    "0.4534,0.85\n",
    "0.4416,0.9\n",
    "0.4304,0.95\n",
    "0.437,1.0"
   ]
  },
  {
   "cell_type": "code",
   "execution_count": null,
   "metadata": {},
   "outputs": [],
   "source": [
    "%%file ./code/gcc/pipegnuplot_datafile.c\n",
    "\n",
    "#include <stdio.h>\n",
    "\n",
    "int main (void)\n",
    "{\n",
    "\n",
    "    FILE *gnuplotPipe = popen(\"gnuplot -persist\", \"w\");  // Open a pipe to gnuplot\n",
    "\n",
    "    if (gnuplotPipe) {   // If gnuplot is found\n",
    "      fprintf(gnuplotPipe, \"set datafile separator ','\\n\"); //datafile separator ','\n",
    "      fprintf(gnuplotPipe, \"set xlabel 'Distances'\\n\");\n",
    "      fprintf(gnuplotPipe, \"set ylabel 'Mass'\\n\");\n",
    "      fprintf(gnuplotPipe, \"set title 'Observable'\\n\");\n",
    "      fprintf(gnuplotPipe, \"plot './src/springData.csv' using 1:2 title 'Mass=f(Distance)-' \\n\");\n",
    "\n",
    "    fflush(gnuplotPipe); //flush pipe\n",
    "\n",
    "    fprintf(gnuplotPipe,\"exit \\n\");   // exit gnuplot\n",
    "    pclose(gnuplotPipe);    //close pipe\n",
    "    }\n",
    "    return 0;\n",
    "};"
   ]
  },
  {
   "cell_type": "code",
   "execution_count": null,
   "metadata": {},
   "outputs": [],
   "source": [
    "!gcc  -o pipegnuplot_datafile ./code/gcc/pipegnuplot_datafile.c"
   ]
  },
  {
   "cell_type": "code",
   "execution_count": null,
   "metadata": {},
   "outputs": [],
   "source": [
    "!./pipegnuplot_datafile"
   ]
  },
  {
   "cell_type": "markdown",
   "metadata": {},
   "source": [
    "#### Example 2  plot variables"
   ]
  },
  {
   "cell_type": "code",
   "execution_count": null,
   "metadata": {},
   "outputs": [],
   "source": [
    "%%file ./code/gcc/pipegnuplot_variables.c\n",
    "\n",
    "#include <stdio.h>\n",
    "#include <gsl/gsl_fit.h>\n",
    "\n",
    "int main (void)\n",
    "{\n",
    "  int n = 11;\n",
    "  double x[11] = {10.0, 8.0, 13.0, 9.0,11.0,14.0,6.0,4.0 ,12.0,7.0,5.0};\n",
    "  double y[11] = {8.04, 6.95,7.68, 8.81, 8.33,9.96,7.24,4.26,10.84,4.82,5.68 };\n",
    "\n",
    "  double c0, c1, cov00, cov01, cov11, sumsq;\n",
    "\n",
    "  gsl_fit_linear(x, 1, y, 1, n,\n",
    "                   &c0, &c1, &cov00, &cov01, &cov11,\n",
    "                   &sumsq);\n",
    "\n",
    "  printf (\"best fit: Y = %g + %g X\\n\", c0, c1);\n",
    "  printf (\"covariance matrix:\\n\");\n",
    "  printf (\"[ %g, %g\\n  %g, %g]\\n\",\n",
    "          cov00, cov01, cov01, cov11);\n",
    "  printf (\"sumsq = %g\\n\", sumsq);\n",
    "  printf (\"\\n\");\n",
    "  \n",
    "  // plot\n",
    "  FILE *gnuplotPipe = popen(\"gnuplot -persist\", \"w\"); // Open a pipe to gnuplot\n",
    "  if (gnuplotPipe) // If gnuplot is found\n",
    "  { \n",
    "     fprintf(gnuplotPipe, \"set xlabel 'X'\\n\");\n",
    "     fprintf(gnuplotPipe, \"set ylabel 'Y'\\n\");\n",
    "     fprintf(gnuplotPipe, \"set title '<X,Y> and Linear fit'\\n\");\n",
    "      \n",
    "     /* \n",
    "        1 sending gnuplot the plot '-' command \n",
    "        2 followed by data points \n",
    "        3 followed by the letter \"e\" \n",
    "     */\n",
    "     \n",
    "     // 1  sending gnuplot the plot '-' command\n",
    "     fprintf(gnuplotPipe, \"plot '-' title '<x,y>','-' title 'Line' with line ls 12 \\n\");\n",
    "     \n",
    "     // 2 followed by data points: <x,y>\n",
    "     for (int i = 0; i < n; i++)\n",
    "     {\n",
    "        fprintf(gnuplotPipe, \"%lf %lf\\n\", x[i], y[i]);\n",
    "     }\n",
    "     // 3 followed by the letter \"e\" \n",
    "     fprintf(gnuplotPipe, \"e\");\n",
    "     \n",
    "     // linear fit\n",
    "     for (int i = 0; i < n; i++)\n",
    "     {\n",
    "        fprintf(gnuplotPipe, \"%lf %lf\\n\", x[i], c0+c1*x[i]);\n",
    "     }\n",
    "     fprintf(gnuplotPipe, \"e\");\n",
    "      \n",
    "     fflush(gnuplotPipe);\n",
    "     fprintf(gnuplotPipe, \"exit \\n\"); // exit gnuplot\n",
    "     pclose(gnuplotPipe);             //close pipe\n",
    "  }\n",
    "  \n",
    "  return 0;\n",
    "}"
   ]
  },
  {
   "cell_type": "code",
   "execution_count": null,
   "metadata": {},
   "outputs": [],
   "source": [
    "!gcc  -o pipegnuplot_variables ./code/gcc/pipegnuplot_variables.c -lgsl -lgslcblas -lm "
   ]
  },
  {
   "cell_type": "code",
   "execution_count": null,
   "metadata": {},
   "outputs": [],
   "source": [
    "!./pipegnuplot_variables"
   ]
  },
  {
   "cell_type": "markdown",
   "metadata": {},
   "source": [
    "# Reference\n",
    "\n",
    "* GSL - GNU Scientific Library https://www.gnu.org/software/gsl/\n",
    "\n",
    "\n",
    "* The GSL Reference Manual online https://www.gnu.org/software/gsl/doc/html/index.html\n",
    "\n",
    "\n",
    "* Gnuplot homepage http://gnuplot.info/\n",
    "\n",
    "\n",
    "* Nishanth Sastry：gnuplot 让您的数据可视化 https://www.ibm.com/developerworks/cn/linux/l-gnuplot/\n",
    "\n",
    "\n",
    "* The GNU C Library (glibc) https://www.gnu.org/software/libc/"
   ]
  }
 ],
 "metadata": {
  "kernelspec": {
   "display_name": "Python 3",
   "language": "python",
   "name": "python3"
  },
  "language_info": {
   "codemirror_mode": {
    "name": "ipython",
    "version": 3
   },
   "file_extension": ".py",
   "mimetype": "text/x-python",
   "name": "python",
   "nbconvert_exporter": "python",
   "pygments_lexer": "ipython3",
   "version": "3.6.5"
  },
  "widgets": {
   "state": {},
   "version": "1.1.2"
  }
 },
 "nbformat": 4,
 "nbformat_minor": 2
}
