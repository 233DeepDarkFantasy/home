{
 "cells": [
  {
   "cell_type": "markdown",
   "metadata": {},
   "source": [
    "# C/C++ DLL with Python and Excel VBA"
   ]
  },
  {
   "cell_type": "markdown",
   "metadata": {},
   "source": [
    "## 1 Using C/C++ DLL with Python"
   ]
  },
  {
   "cell_type": "markdown",
   "metadata": {},
   "source": [
    "The advantage of Python is that it is **flexible and easy** to program. The time it takes to setup a new calulation is therefore short. \n",
    "\n",
    "But for certain types of calculations Python (and any other interpreted language) can be **very slow**.\n",
    "\n",
    "Such calculations may be implemented in a compiled language such as C or Fortran."
   ]
  },
  {
   "cell_type": "code",
   "execution_count": null,
   "metadata": {
    "collapsed": true
   },
   "outputs": [],
   "source": [
    "import seuif97\n",
    "%timeit seuif97.pt2h(15,535)"
   ]
  },
  {
   "cell_type": "code",
   "execution_count": null,
   "metadata": {
    "collapsed": true
   },
   "outputs": [],
   "source": [
    "from iapws.iapws97 import IAPWS97\n",
    "%timeit IAPWS97(P=16.10,T=535.10).h"
   ]
  },
  {
   "cell_type": "markdown",
   "metadata": {},
   "source": [
    "### 1.1 Compiler a shared library with `multiple` files\n",
    "\n",
    "The shared library with `multiple` code files\n",
    "\n",
    "* fibonacci.h/c\n",
    "\n",
    "* funs.h/c"
   ]
  },
  {
   "cell_type": "markdown",
   "metadata": {},
   "source": [
    "### Once-Only Headers\n",
    "\n",
    "If a header file happens to be included twice, the compiler will process its contents twice.\n",
    "This is very likely to cause an error, e.g. when the compiler sees the same structure definition\n",
    "twice. Even if it does not, it will certainly waste time.\n",
    "\n",
    "The standard way to prevent this is to enclose the entire real contents of the file in a\n",
    "conditional, like this:\n",
    "```c\n",
    "#ifndef FUNS_H\n",
    "#define FUNS_H\n",
    "\n",
    "the entire file\n",
    "\n",
    "#endif /* !FUNS_H */\n",
    "```\n",
    "This construct is commonly known as a wrapper **#ifndef**. When the header is included\n",
    "again, the conditional will be false, because **FUNS_H** is defined. The preprocessor\n",
    "will skip over the entire contents of the file, and the compiler will not see it twice."
   ]
  },
  {
   "cell_type": "code",
   "execution_count": null,
   "metadata": {
    "collapsed": true
   },
   "outputs": [],
   "source": [
    "%%file ./code/gcc/funs.h\n",
    "\n",
    "#ifndef FUNS_H\n",
    "#define FUNS_H\n",
    "\n",
    "void hello();\n",
    "double dprod(double *x, int n);\n",
    "unsigned long LinearFibonacci(int n);\n",
    "\n",
    "#endif"
   ]
  },
  {
   "cell_type": "code",
   "execution_count": null,
   "metadata": {
    "collapsed": true
   },
   "outputs": [],
   "source": [
    "%%file ./code/gcc/funs.c\n",
    "\n",
    "#include <stdio.h>\n",
    "#include \"funs.h\"\n",
    "\n",
    "void hello()\n",
    "{\n",
    "   printf(\"C says Hello world!\\n\");\n",
    "}\n",
    "\n",
    "// x[0]*x[1]*...*x[n-1]\n",
    "double dprod(double *x, int n)\n",
    "{\n",
    "    double y = 1.0;\n",
    "    for (int i = 0; i < n; i++)\n",
    "    {\n",
    "        y *= x[i];\n",
    "    }\n",
    "    return y;\n",
    "}\n",
    "\n",
    "// The linear time algorithm for finding Fibonacci numbers\n",
    "//   females(0) =1\n",
    "//   females(1) = 1\n",
    "//   females(n + 2) = females(n+1) + females(n）\n",
    "// n------------                                             \n",
    "//   f1=  females(n）\n",
    "//   f2=  females(n+1)\n",
    "//   fib = f1 + f2;\n",
    "//   \n",
    "//    f2=f1; ->females(n+1)\n",
    "//    f1=fib; ->females(n + 2) \n",
    "//n+1----------\n",
    "//    f1=  females(n+1）\n",
    "//    f2=  females(n+1+1)\n",
    "//    fib = f1 + f2;              \n",
    "//                  \n",
    "unsigned long LinearFibonacci(int n)\n",
    "{\n",
    "  unsigned long fib;\n",
    "  if (n< 0)\n",
    "      return -1;\n",
    "  \n",
    "  // base case 0 or 1\n",
    "  if (n == 0||n==1)\n",
    "      return 1;\n",
    " \n",
    "  unsigned long f1=1,f2 = 1;\n",
    "  for(int i=2; i<=n; i++)\n",
    "  {\n",
    "    // 1 only add\n",
    "    fib = f1 + f2; \n",
    "    // 2 swap  \n",
    "    f2=f1; \n",
    "    f1=fib;\n",
    "  }    \n",
    "  return fib;\n",
    "}"
   ]
  },
  {
   "cell_type": "markdown",
   "metadata": {},
   "source": [
    "The **linear time algorithm** for finding `Fibonacci numbers` \n",
    "\n",
    "http://www.catonmat.net/blog/on-the-linear-time-algorithm-for-finding-fibonacci-numbers/"
   ]
  },
  {
   "cell_type": "code",
   "execution_count": 1,
   "metadata": {
    "collapsed": true
   },
   "outputs": [],
   "source": [
    "!gcc -c -O3 -Wall -fPIC -o funs.o ./code/gcc/funs.c \n",
    "!gcc -c -O3 -Wall -fPIC -o fibonacci.o ./code/gcc/fibonacci.c\n",
    "!gcc -shared -o ./code/gcc/libmultifuns.dll  funs.o  fibonacci.o"
   ]
  },
  {
   "cell_type": "code",
   "execution_count": 2,
   "metadata": {
    "collapsed": true
   },
   "outputs": [],
   "source": [
    "!gcc -c -O3 -Wall -fPIC  ./code/gcc/funs.c ./code/gcc/fibonacci.c\n",
    "!gcc -shared -o ./code/gcc/libmultifuns.dll  funs.o  fibonacci.o"
   ]
  },
  {
   "cell_type": "code",
   "execution_count": 3,
   "metadata": {},
   "outputs": [
    {
     "name": "stdout",
     "output_type": "stream",
     "text": [
      " 驱动器 D 中的卷是 cmh\n",
      " 卷的序列号是 02AB-E07E\n",
      "\n",
      " D:\\SEUCourse\\SE_ThermalEnergy\\S2017\\home\\notebook\\code\\gcc 的目录\n",
      "\n",
      "2017/05/16  14:09            49,173 libmultifuns.dll\n",
      "               1 个文件         49,173 字节\n",
      "               0 个目录 200,843,644,928 可用字节\n"
     ]
    }
   ],
   "source": [
    "!dir .\\code\\gcc\\libmulti*.dll"
   ]
  },
  {
   "cell_type": "code",
   "execution_count": 4,
   "metadata": {},
   "outputs": [
    {
     "name": "stdout",
     "output_type": "stream",
     "text": [
      "Overwriting makefile\n"
     ]
    }
   ],
   "source": [
    "%%file makefile\n",
    "\n",
    "all: libmultifuns.dll\n",
    "\n",
    "libmultifuns.dll: multifunsobj\n",
    "\t gcc  -shared -o ./code/gcc/libmultifuns.dll funs.o fibonacci.o\n",
    "\t del funs.o fibonacci.o\n",
    "    \n",
    "multifunsobj: ./code/gcc/funs.c ./code/gcc/fibonacci.c\n",
    "\t gcc -c -O3 -Wall -fPIC ./code/gcc/funs.c ./code/gcc/fibonacci.c\n",
    "     \n",
    "clean:\n",
    "\t del .\\code\\gcc\\libmultifuns.dll"
   ]
  },
  {
   "cell_type": "code",
   "execution_count": 5,
   "metadata": {},
   "outputs": [
    {
     "name": "stdout",
     "output_type": "stream",
     "text": [
      "gcc -c -O3 -Wall -fPIC ./code/gcc/funs.c ./code/gcc/fibonacci.c\n",
      "gcc  -shared -o ./code/gcc/libmultifuns.dll funs.o fibonacci.o\n",
      "del funs.o fibonacci.o\n"
     ]
    }
   ],
   "source": [
    "!make"
   ]
  },
  {
   "cell_type": "code",
   "execution_count": null,
   "metadata": {
    "collapsed": true
   },
   "outputs": [],
   "source": [
    "!make clean"
   ]
  },
  {
   "cell_type": "markdown",
   "metadata": {},
   "source": [
    "The result is a compiled shared library **`libmultifuns.dll`**"
   ]
  },
  {
   "cell_type": "markdown",
   "metadata": {},
   "source": [
    "### Using the `variable` in  makefile\n",
    "\n",
    "A `variable` begins with a **$** and is enclosed within parentheses **(...)** "
   ]
  },
  {
   "cell_type": "code",
   "execution_count": null,
   "metadata": {
    "collapsed": true
   },
   "outputs": [],
   "source": [
    "%%file makefile\n",
    "\n",
    "CC=gcc\n",
    "CFLAGS=-O3 -Wall -fPIC  \n",
    "\n",
    "INC = -I ./code/gcc/ \n",
    "\n",
    "SRCS= ./code/gcc/funs.c ./code/gcc/fibonacci.c \n",
    "\n",
    "all: libmultifuns.dll\n",
    "\n",
    "libmultifuns.dll: multifunsobj\n",
    "\t $(CC)  -shared -o ./code/gcc/libmultifuns.dll funs.o fibonacci.o\n",
    "\t del funs.o fibonacci.o\n",
    "    \n",
    "multifunsobj: \n",
    "\t $(CC) -c $(CFLAGS) $(INC) $(SRCS) \n",
    "     \n",
    "clean:\n",
    "\t del .\\code\\gcc\\libmultifuns.dll"
   ]
  },
  {
   "cell_type": "code",
   "execution_count": null,
   "metadata": {
    "collapsed": true
   },
   "outputs": [],
   "source": [
    "!make"
   ]
  },
  {
   "cell_type": "code",
   "execution_count": null,
   "metadata": {
    "collapsed": true
   },
   "outputs": [],
   "source": [
    "!make clean"
   ]
  },
  {
   "cell_type": "markdown",
   "metadata": {},
   "source": [
    "### 1.2 ctypes - access the C library\n",
    "\n",
    "**ctypes** is a foreign function library for Python. It provides C compatible data types, and allows calling functions in DLLs or shared libraries. It can be used to wrap these libraries in pure Python.\n",
    "\n",
    "http://docs.python.org/3/library/ctypes.html\n",
    "\n",
    "We need to load the library and set properties such as the functions return and argument types using the **ctypes** package :\n",
    "\n",
    "* **ctypes** exports the **cdll**, and on Windows **windll** objects, for loading dynamic link libraries.\n",
    "   * **cdll.LoadLibrary(name)** : loads the library  which export functions using standard `__cdecl` calling convention\n",
    "   * **windll.LoadLibrary(name)** : loads the library with `__stdcall` calling convention for the function \n",
    "\n",
    "\n",
    "* **argtypes** : the types of the arguments \n",
    "\n",
    "\n",
    "* **restype**: the types of return values. "
   ]
  },
  {
   "cell_type": "markdown",
   "metadata": {},
   "source": [
    "#### Example `__stdcall` calling convention for the function(windows only) "
   ]
  },
  {
   "cell_type": "code",
   "execution_count": 6,
   "metadata": {},
   "outputs": [
    {
     "name": "stdout",
     "output_type": "stream",
     "text": [
      "<WinDLL 'kernel32', handle 7ffa08020000 at 0x186404f19e8>\n"
     ]
    }
   ],
   "source": [
    "from ctypes import *\n",
    "print(windll.kernel32)  "
   ]
  },
  {
   "cell_type": "markdown",
   "metadata": {},
   "source": [
    "#### Example `__cdecl` calling convention for the function(windows,Linux)\n",
    "\n",
    "**msvcrt** is the MS **standard C library** containing most standard C functions, and uses the cdecl calling convention:"
   ]
  },
  {
   "cell_type": "code",
   "execution_count": 7,
   "metadata": {},
   "outputs": [
    {
     "name": "stdout",
     "output_type": "stream",
     "text": [
      "<CDLL 'msvcrt', handle 7ffa07420000 at 0x18643721198>\n"
     ]
    }
   ],
   "source": [
    "print(cdll.msvcrt)"
   ]
  },
  {
   "cell_type": "markdown",
   "metadata": {},
   "source": [
    "### Wrap libmultifuns.dll in pure Python.\n",
    "\n",
    "__cdecl calling convention"
   ]
  },
  {
   "cell_type": "code",
   "execution_count": 8,
   "metadata": {},
   "outputs": [
    {
     "name": "stdout",
     "output_type": "stream",
     "text": [
      "Overwriting ./code/gcc/multifuns.py\n"
     ]
    }
   ],
   "source": [
    "%%file ./code/gcc/multifuns.py\n",
    "\n",
    "from ctypes import cdll,c_void_p,c_int,c_long,c_double,POINTER,byref\n",
    "import numpy as np\n",
    "\n",
    "\n",
    "_lib = cdll.LoadLibrary('./code/gcc/libmultifuns.dll')\n",
    "\n",
    "# void hello()\n",
    "def hello():\n",
    "    _lib.hello.argtypes = []\n",
    "    _lib.hello.restype  =  c_void_p\n",
    "    return _lib.hello()\n",
    "\n",
    "# double dprod(double *x, int n)\n",
    "def dprod(x):\n",
    "    _lib.dprod.argtypes = [np.ctypeslib.ndpointer(dtype=np.float), c_int]\n",
    "    _lib.dprod.restype  = c_double\n",
    "    n = len(x)\n",
    "    x = np.asarray(x, dtype=np.float)\n",
    "    return _lib.dprod(x, int(n))\n",
    "\n",
    "#unsigned long fibonacci(int n, unsigned long *fib_cache);\n",
    "def LinearFibonacci(n):\n",
    "    _lib.LinearFibonacci.argtypes = [c_int]\n",
    "    _lib.LinearFibonacci.restype= c_long\n",
    "    return _lib.LinearFibonacci(int(n))\n",
    "\n",
    "#unsigned long fibonacci(int n, unsigned long *fib_cache);\n",
    "def fibonacci(n):\n",
    "    fibcache = (POINTER(c_long)*n)()\n",
    "    fib=c_long()\n",
    "    fib=_lib.LinearFibonacci(int(n),byref(fibcache))\n",
    "    return  fib"
   ]
  },
  {
   "cell_type": "code",
   "execution_count": 9,
   "metadata": {},
   "outputs": [
    {
     "name": "stdout",
     "output_type": "stream",
     "text": [
      "Overwriting ./code/gcc/run_hello_c.py\n"
     ]
    }
   ],
   "source": [
    "%%file ./code/gcc/run_hello_c.py\n",
    "\n",
    "import multifuns\n",
    "multifuns.hello()"
   ]
  },
  {
   "cell_type": "code",
   "execution_count": 10,
   "metadata": {},
   "outputs": [
    {
     "name": "stdout",
     "output_type": "stream",
     "text": [
      "C says Hello world!\n"
     ]
    }
   ],
   "source": [
    "!python .\\code\\gcc\\run_hello_c.py"
   ]
  },
  {
   "cell_type": "markdown",
   "metadata": {},
   "source": [
    "### Product function:"
   ]
  },
  {
   "cell_type": "code",
   "execution_count": 12,
   "metadata": {},
   "outputs": [
    {
     "data": {
      "text/plain": [
       "4320.0"
      ]
     },
     "execution_count": 12,
     "metadata": {},
     "output_type": "execute_result"
    }
   ],
   "source": [
    "import sys\n",
    "sys.path.append('./code/gcc')\n",
    "import multifuns\n",
    "multifuns.dprod([12,3,4,5,6]) "
   ]
  },
  {
   "cell_type": "markdown",
   "metadata": {},
   "source": [
    "### The linear time algorithm for finding Fibonacci numbers"
   ]
  },
  {
   "cell_type": "code",
   "execution_count": 13,
   "metadata": {},
   "outputs": [
    {
     "data": {
      "text/plain": [
       "89"
      ]
     },
     "execution_count": 13,
     "metadata": {},
     "output_type": "execute_result"
    }
   ],
   "source": [
    "import sys\n",
    "sys.path.append('./code/gcc')\n",
    "import multifuns\n",
    "multifuns.LinearFibonacci(10) "
   ]
  },
  {
   "cell_type": "markdown",
   "metadata": {},
   "source": [
    "###  Fibonacci "
   ]
  },
  {
   "cell_type": "code",
   "execution_count": 14,
   "metadata": {},
   "outputs": [
    {
     "data": {
      "text/plain": [
       "89"
      ]
     },
     "execution_count": 14,
     "metadata": {},
     "output_type": "execute_result"
    }
   ],
   "source": [
    "import sys\n",
    "sys.path.append('./code/gcc')\n",
    "import multifuns\n",
    "multifuns.fibonacci(10)"
   ]
  },
  {
   "cell_type": "markdown",
   "metadata": {},
   "source": [
    "### QUIZ:Timing Fibonacci Methods\n",
    "\n",
    "`Fibonacci in C` and `Fibonacci in Python`\n",
    "\n",
    "* Which one is the fastest? \n",
    "\n",
    "* Why? \n",
    "\n",
    "* What message does this give us?\n",
    "\n",
    "#### 1 Fibonacci in C"
   ]
  },
  {
   "cell_type": "code",
   "execution_count": null,
   "metadata": {
    "collapsed": true
   },
   "outputs": [],
   "source": [
    "%timeit multifuns.LinearFibonacci(50) "
   ]
  },
  {
   "cell_type": "code",
   "execution_count": null,
   "metadata": {
    "collapsed": true
   },
   "outputs": [],
   "source": [
    "%timeit multifuns.fibonacci(50) "
   ]
  },
  {
   "cell_type": "markdown",
   "metadata": {},
   "source": [
    "#### 2 LinearFibonacci in Python"
   ]
  },
  {
   "cell_type": "code",
   "execution_count": null,
   "metadata": {
    "collapsed": true
   },
   "outputs": [],
   "source": [
    "def LinearFibonacci(n):\n",
    "    curr, next = 1, 1\n",
    "    for i in range(2, n+1):\n",
    "        next, curr = ((next+curr),next)\n",
    "    return next"
   ]
  },
  {
   "cell_type": "code",
   "execution_count": null,
   "metadata": {
    "collapsed": true
   },
   "outputs": [],
   "source": [
    "%timeit LinearFibonacci(50) "
   ]
  },
  {
   "cell_type": "code",
   "execution_count": null,
   "metadata": {
    "collapsed": true
   },
   "outputs": [],
   "source": [
    "#Page 254, Figure 18.3\n",
    "def fastFib(n, memo = {}):\n",
    "    \"\"\"Assumes n is an int >= 0, memo used only by recursive calls\n",
    "       Returns Fibonacci of n\"\"\"\n",
    "    if n == 0 or n == 1:\n",
    "        return 1\n",
    "    try:\n",
    "        return memo[n]\n",
    "    except KeyError:\n",
    "        result = fastFib(n-1, memo) + fastFib(n-2, memo)\n",
    "        memo[n] = result\n",
    "        return result"
   ]
  },
  {
   "cell_type": "code",
   "execution_count": null,
   "metadata": {
    "collapsed": true
   },
   "outputs": [],
   "source": [
    "%timeit fastFib(50) "
   ]
  },
  {
   "cell_type": "markdown",
   "metadata": {},
   "source": [
    "## 2 C/C++ DLL for Visual Basic Application with Excel\n",
    "\n",
    "  For `Visual Basic` applications (or applications in other languages such as Pascal or Fortran) to call functions in a C/C++ DLL, the functions must be exported using the correct calling convention without any name decoration done by the compiler.\n",
    "  \n",
    "VBA can **only** call `__stdcall` functions, not `__cdecl` functions. \n",
    "  \n",
    "*  `__stdcall` creates the correct calling convention for the function (the called function cleans up the stack and parameters are passed from right to left)\n",
    "\n",
    "* ` __declspec(dllexport)` is used on an `exported` function in a DLL\n",
    "\n",
    "Below is the example of techniques which facilitate the use of use of MinGW to create DLLs, exporting functions which may be called from Visual Basic Application with Excel. "
   ]
  },
  {
   "cell_type": "markdown",
   "metadata": {},
   "source": [
    "#### Step 1: Create your DLL with `__stdcall` calling convention\n",
    "\n",
    "Create a DLL with the following code:\n",
    "\n",
    "* mathfuns.h\n",
    "\n",
    "* mathfuns.c\n",
    "\n",
    "Export all functions as `__stdcall`."
   ]
  },
  {
   "cell_type": "code",
   "execution_count": 15,
   "metadata": {},
   "outputs": [
    {
     "name": "stdout",
     "output_type": "stream",
     "text": [
      "Overwriting ./code/gcc/mathfuns.h\n"
     ]
    }
   ],
   "source": [
    "%%file ./code/gcc/mathfuns.h\n",
    "\n",
    "#ifdef BUILD_DLL\n",
    "#define DLLPORT __declspec(dllexport)\n",
    "#else\n",
    "#define DLLPORT __declspec(dllimport)\n",
    "#endif\n",
    "\n",
    "DLLPORT __stdcall double fadd(double a,double b);\n",
    "DLLPORT __stdcall double fmul(double a, double b);"
   ]
  },
  {
   "cell_type": "markdown",
   "metadata": {},
   "source": [
    "When you create header files for your DLLs, use\n",
    "\n",
    "* ` __declspec(dllexport) ` adds the `export` directive to the object fileworks\n",
    "\n",
    "* ` __declspec(dllimport)`  on the declarations of the public symbols"
   ]
  },
  {
   "cell_type": "code",
   "execution_count": 16,
   "metadata": {},
   "outputs": [
    {
     "name": "stdout",
     "output_type": "stream",
     "text": [
      "Overwriting ./code/gcc/mathfuns.c\n"
     ]
    }
   ],
   "source": [
    "%%file ./code/gcc/mathfuns.c\n",
    "\n",
    "#include \"mathfuns.h\"\n",
    "\n",
    "DLLPORT __stdcall double fadd(double a,double b){\n",
    "   return (a+b);\n",
    "}\n",
    "\n",
    "DLLPORT __stdcall double  fmul(double a, double b){\n",
    "   return (a*b);\n",
    "}"
   ]
  },
  {
   "cell_type": "code",
   "execution_count": 17,
   "metadata": {
    "collapsed": true
   },
   "outputs": [],
   "source": [
    "!gcc -c -DBUILD_DLL ./code/gcc/mathfuns.c\n",
    "!gcc -shared -o ./code/gcc/libmathfuns.dll mathfuns.o -Wl,--add-stdcall-alias"
   ]
  },
  {
   "cell_type": "markdown",
   "metadata": {},
   "source": [
    "* -DBUILD_DLL:\n",
    "   \n",
    "  * -Dname: `Predefine name as a macro`, with definition \n",
    "  \n",
    "\n",
    "*  -Wl,option \n",
    "\n",
    "   Pass **option** as an option to the **linker**. If option contains commas, it is split into multiple options at the commas.\n",
    "\n",
    "\n",
    "* --add-stdcall-alias:\n",
    "   \n",
    "   This adds an undecorated alias for the `exported function names` that is simply **the name of the function** "
   ]
  },
  {
   "cell_type": "code",
   "execution_count": 18,
   "metadata": {
    "collapsed": true
   },
   "outputs": [],
   "source": [
    "!gcc -c -DBUILD_DLL ./code/gcc/mathfuns.c\n",
    "!gcc -shared -o ./code/gcc/libmathfuns.dll -static-libgcc mathfuns.o -Wl,--add-stdcall-alias,-output-def=./code/gcc/libmathfuns.def"
   ]
  },
  {
   "cell_type": "markdown",
   "metadata": {},
   "source": [
    "* -static-libgcc\n",
    "\n",
    "   This option links the GNU `libgcc` library `statically`. \n",
    "   \n",
    "\n",
    "* -output-def=libmathfuns.def\n",
    "\n",
    "    Name of `.def` file to be created.\n",
    "    \n",
    "    **def:** A module-definition  file is a text file containing one or more module statements that describe various attributes of a DLL"
   ]
  },
  {
   "cell_type": "code",
   "execution_count": null,
   "metadata": {
    "collapsed": true
   },
   "outputs": [],
   "source": [
    "# %load ./code/gcc/libmathfuns.def\n",
    "EXPORTS\n",
    "    fadd @1\n",
    "    fmul @2\n"
   ]
  },
  {
   "cell_type": "code",
   "execution_count": null,
   "metadata": {
    "collapsed": true
   },
   "outputs": [],
   "source": [
    "%%file makefile\n",
    "\n",
    "CC=gcc\n",
    "CFLAGS=-DBUILD_DLL -o\n",
    "\n",
    "all: libmathfuns.dll\n",
    "\n",
    "libmathfuns.dll: mathfunsobj\n",
    "\t $(CC) -shared -o ./code/gcc/libmathfuns.dll -static-libgcc mathfuns.o -Wl,--add-stdcall-alias,-output-def=libmathfuns.def\n",
    "\t del mathfuns.o\n",
    "    \n",
    "mathfunsobj: ./code/gcc/mathfuns.c\n",
    "\t $(CC) -c $(CFLAGS) mathfuns.o ./code/gcc/mathfuns.c\n",
    "     \n",
    "clean:\n",
    "\t del .\\code\\gcc\\libmathfuns.dll"
   ]
  },
  {
   "cell_type": "code",
   "execution_count": null,
   "metadata": {
    "collapsed": true
   },
   "outputs": [],
   "source": [
    "!make"
   ]
  },
  {
   "cell_type": "markdown",
   "metadata": {},
   "source": [
    "### 2 call_stdcall DLL from Python\n",
    "\n",
    "```python\n",
    " windll.LoadLibrary\n",
    "```"
   ]
  },
  {
   "cell_type": "code",
   "execution_count": null,
   "metadata": {
    "collapsed": true
   },
   "outputs": [],
   "source": [
    "%%file ./code/gcc/mathfuns.py\n",
    "\n",
    "from ctypes import windll,c_double\n",
    "\n",
    "flib = windll.LoadLibrary('./code/gcc/libmathfuns.dll')\n",
    "\n",
    "\n",
    "def fadd(a,b):\n",
    "    flib.fadd.argtypes = [c_double,c_double]\n",
    "    flib.fadd.restype  = c_double\n",
    "    return flib.fadd(a,b)\n",
    "\n",
    "def fmul(a,b):\n",
    "    flib.fmul.argtypes = [c_double,c_double]\n",
    "    flib.fmul.restype  = c_double\n",
    "    return flib.fmul(a,b)"
   ]
  },
  {
   "cell_type": "code",
   "execution_count": null,
   "metadata": {
    "collapsed": true
   },
   "outputs": [],
   "source": [
    "import sys\n",
    "sys.path.append('./code/gcc')\n",
    "from mathfuns import *\n",
    "a=4.6\n",
    "b=5\n",
    "print(a,'+',b,'=',fadd(a,b))\n",
    "print(a,'*',b,'=',fmul(a,b))"
   ]
  },
  {
   "cell_type": "markdown",
   "metadata": {},
   "source": [
    "#### SEUIF97：call_stdcall DLL from Python\n",
    "\n",
    "WINFUNCTYPE"
   ]
  },
  {
   "cell_type": "code",
   "execution_count": null,
   "metadata": {},
   "outputs": [],
   "source": [
    "from ctypes import *\n",
    "\n",
    "flib = windll.LoadLibrary('libseuif97.dll')\n",
    "prototype = WINFUNCTYPE(c_double, c_double, c_double, c_int)\n",
    "\n",
    "# ---(p,t) ----------------\n",
    "\n",
    "def pt(p, t, pid):\n",
    "    f = prototype((\"seupt\", flib),)\n",
    "    result = f(p, t, pid)\n",
    "    return result\n",
    "\n",
    "\n",
    "def pt2h(p, t):\n",
    "    f = prototype((\"seupt\", flib),)\n",
    "    result = f(p, t, 4)\n",
    "    return result"
   ]
  },
  {
   "cell_type": "markdown",
   "metadata": {},
   "source": [
    "### 3 Call __stdcall DLL from C "
   ]
  },
  {
   "cell_type": "code",
   "execution_count": 20,
   "metadata": {},
   "outputs": [
    {
     "name": "stdout",
     "output_type": "stream",
     "text": [
      "Overwriting ./code/gcc/mainmathfuns.c\n"
     ]
    }
   ],
   "source": [
    "%%file ./code/gcc/mainmathfuns.c\n",
    "\n",
    "#include <stdio.h>\n",
    "#include \"mathfuns.h\"\n",
    " \n",
    "int main() {\n",
    "    double a=5.3;\n",
    "    double b=6.1;\n",
    "    double radd=fadd(a,b);\n",
    "    double rmul=fmul(a,b);\n",
    "    printf(\"%.3f + %.3f = %.3f \\n\",a,b,radd);\n",
    "    printf(\"%.3f * %.3f = %.3f \\n\",a,b,rmul);\n",
    "    return 0;\n",
    "}"
   ]
  },
  {
   "cell_type": "code",
   "execution_count": 21,
   "metadata": {
    "collapsed": true
   },
   "outputs": [],
   "source": [
    "!gcc -c -o mainmathfuns.o ./code/gcc/mainmathfuns.c \n",
    "!gcc -o  ./code/gcc/mainmathfuns.exe mainmathfuns.o -I./code/gcc/ -L./code/gcc/ -lmathfuns"
   ]
  },
  {
   "cell_type": "code",
   "execution_count": 22,
   "metadata": {},
   "outputs": [
    {
     "name": "stdout",
     "output_type": "stream",
     "text": [
      "5.300 + 6.100 = 11.400 \n",
      "5.300 * 6.100 = 32.330 \n"
     ]
    }
   ],
   "source": [
    "!.\\code\\gcc\\mainmathfuns"
   ]
  },
  {
   "cell_type": "code",
   "execution_count": null,
   "metadata": {
    "collapsed": true
   },
   "outputs": [],
   "source": [
    "%%file makefile\n",
    "\n",
    "all: mainmathfuns.exe\n",
    "\n",
    "clean:\n",
    "\tdel .\\code\\gcc\\mainmathfuns.exe\n",
    "\n",
    "mainmathfuns.exe: mainmathfuns.o ./code/gcc/mathfuns.h \n",
    "\tgcc -o ./code/gcc/mainmathfuns mainmathfuns.o -I./code/gcc -L./code/gcc/ -lmathfuns\n",
    "\tdel *.o\n",
    "\n",
    "mainmathfuns.o: ./code/gcc/mainmathfuns.c \n",
    "\tgcc -c ./code/gcc/mainmathfuns.c "
   ]
  },
  {
   "cell_type": "code",
   "execution_count": null,
   "metadata": {
    "collapsed": true
   },
   "outputs": [],
   "source": [
    "!make"
   ]
  },
  {
   "cell_type": "code",
   "execution_count": null,
   "metadata": {
    "collapsed": true
   },
   "outputs": [],
   "source": [
    "!.\\code\\gcc\\mainmathfuns"
   ]
  },
  {
   "cell_type": "code",
   "execution_count": null,
   "metadata": {
    "collapsed": true
   },
   "outputs": [],
   "source": [
    "!make clean"
   ]
  },
  {
   "cell_type": "markdown",
   "metadata": {},
   "source": [
    "### Step 4: Call DLL from Excel VBA\n",
    "\n",
    "**1** `libmathfuns.dll` in the default dll path of windows `C:\\windows\\system`\n",
    "\n",
    "\n",
    "**2** demo-vba.xlsm in ./code/gcc/\n",
    "\n",
    "\n",
    "**3**  press \"ALT+F11\" into VBA\n",
    "\n",
    "* 3.1 create the module **mathfuns** to library call such as:\n",
    "\n",
    "```vba\n",
    "Public Declare PtrSafe Function fadd Lib \"libmathfuns\" (ByVal a As Double, ByVal b As Double) As Double\n",
    "Public Declare PtrSafe Function fmul Lib \"libmathfuns\" (ByVal a As Double, ByVal b As Double) As Double\n",
    "```\n",
    "* 3.2 create the module **vbaapi** to call such as:\n",
    "\n",
    "```vba\n",
    "Public Function sadd(ByVal a As Double, ByVal b As Double) As Double\n",
    "    sadd = mathfuns.fadd(a, b)\n",
    "End Function\n",
    " \n",
    "Public Function smul(ByVal a As Double, ByVal b As Double) As Double\n",
    "    smul = mathfuns.fmul(a, b)\n",
    "End Function\n",
    "```\n",
    "\n",
    "**4**  call in cells\n",
    "![demo-vba](./code/gcc/demo-vba.jpg)"
   ]
  },
  {
   "cell_type": "markdown",
   "metadata": {},
   "source": [
    "### Further reading"
   ]
  },
  {
   "cell_type": "markdown",
   "metadata": {},
   "source": [
    "* The linear time algorithm for finding Fibonacci numbers http://www.catonmat.net/blog/on-the-linear-time-algorithm-for-finding-fibonacci-numbers/\n",
    "\n",
    "\n",
    "* ctypes\n",
    "\n",
    "   * http://docs.python.org/3/library/ctypes.html\n",
    "\n",
    "   * http://scipy-cookbook.readthedocs.io/items/Ctypes.html\n",
    "\n",
    "   * https://docs.scipy.org/doc/numpy/reference/routines.ctypeslib.html\n",
    "\n",
    "\n",
    "* DLLs in Visual C++ https://msdn.microsoft.com/en-us/library/1ez7dh12.aspx\n",
    "\n",
    "* Calling DLL Functions from Visual Basic Applications https://msdn.microsoft.com/en-us/library/dt232c9t.aspx\n",
    "\n",
    "\n",
    "* Getting Started with VBA in Office 2010: https://msdn.microsoft.com/library/office/ee814735(v=office.14)\n",
    "   \n",
    "* Excel VBA Programming:  http://www.homeandlearn.org/the_excel_vba_editor.html\n",
    "\n",
    "\n",
    "* Excel4Engineering https://github.com/PySEE/Excel4Engineering"
   ]
  },
  {
   "cell_type": "code",
   "execution_count": null,
   "metadata": {
    "collapsed": true
   },
   "outputs": [],
   "source": []
  }
 ],
 "metadata": {
  "kernelspec": {
   "display_name": "Python 3",
   "language": "python",
   "name": "python3"
  },
  "language_info": {
   "codemirror_mode": {
    "name": "ipython",
    "version": 3
   },
   "file_extension": ".py",
   "mimetype": "text/x-python",
   "name": "python",
   "nbconvert_exporter": "python",
   "pygments_lexer": "ipython3",
   "version": "3.6.5"
  },
  "widgets": {
   "state": {},
   "version": "1.1.2"
  }
 },
 "nbformat": 4,
 "nbformat_minor": 1
}
