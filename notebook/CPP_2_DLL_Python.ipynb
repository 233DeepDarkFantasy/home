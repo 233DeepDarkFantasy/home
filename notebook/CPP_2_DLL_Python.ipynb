{
 "cells": [
  {
   "cell_type": "markdown",
   "metadata": {},
   "source": [
    "# C/C++ Library with Python "
   ]
  },
  {
   "cell_type": "markdown",
   "metadata": {},
   "source": [
    "The advantage of Python is that it is **flexible and easy** to program. The time it takes to setup a new calulation is therefore short. \n",
    "\n",
    "But for certain types of calculations Python (and any other interpreted language) can be **very slow**.\n",
    "\n",
    "Such calculations may be implemented in a compiled language such as C or Fortran."
   ]
  },
  {
   "cell_type": "code",
   "execution_count": null,
   "metadata": {
    "collapsed": true
   },
   "outputs": [],
   "source": [
    "import seuif97\n",
    "%timeit seuif97.pt2h(15,535)"
   ]
  },
  {
   "cell_type": "code",
   "execution_count": null,
   "metadata": {
    "collapsed": true
   },
   "outputs": [],
   "source": [
    "from iapws.iapws97 import IAPWS97\n",
    "%timeit IAPWS97(P=16.10,T=535.10).h"
   ]
  },
  {
   "cell_type": "markdown",
   "metadata": {},
   "source": [
    "### 1.1 Compiler a shared library with `multiple` files\n",
    "\n",
    "The shared library with `multiple` code files\n",
    "\n",
    "* fibonacci.h/c\n",
    "\n",
    "* funs.h/c"
   ]
  },
  {
   "cell_type": "markdown",
   "metadata": {},
   "source": [
    "### Once-Only Headers\n",
    "\n",
    "If a header file happens to be included twice, the compiler will process its contents twice.\n",
    "This is very likely to cause an error, e.g. when the compiler sees the same structure definition\n",
    "twice. Even if it does not, it will certainly waste time.\n",
    "\n",
    "The standard way to prevent this is to enclose the entire real contents of the file in a\n",
    "conditional, like this:\n",
    "```c\n",
    "#ifndef FUNS_H\n",
    "#define FUNS_H\n",
    "\n",
    "the entire file\n",
    "\n",
    "#endif /* !FUNS_H */\n",
    "```\n",
    "This construct is commonly known as a wrapper **#ifndef**. When the header is included\n",
    "again, the conditional will be false, because **FUNS_H** is defined. The preprocessor\n",
    "will skip over the entire contents of the file, and the compiler will not see it twice."
   ]
  },
  {
   "cell_type": "code",
   "execution_count": 1,
   "metadata": {},
   "outputs": [
    {
     "name": "stdout",
     "output_type": "stream",
     "text": [
      "Writing ./code/gcc/funs.h\n"
     ]
    }
   ],
   "source": [
    "%%file ./code/gcc/funs.h\n",
    "\n",
    "#ifndef FUNS_H\n",
    "#define FUNS_H\n",
    "\n",
    "double dprod(double *x, int n);\n",
    "unsigned long LinearFibonacci(int n);\n",
    "\n",
    "#endif"
   ]
  },
  {
   "cell_type": "code",
   "execution_count": 2,
   "metadata": {},
   "outputs": [
    {
     "name": "stdout",
     "output_type": "stream",
     "text": [
      "Writing ./code/gcc/funs.c\n"
     ]
    }
   ],
   "source": [
    "%%file ./code/gcc/funs.c\n",
    "\n",
    "#include <stdio.h>\n",
    "#include \"funs.h\"\n",
    "\n",
    "// x[0]*x[1]*...*x[n-1]\n",
    "double dprod(double *x, int n)\n",
    "{\n",
    "    double y = 1.0;\n",
    "    for (int i = 0; i < n; i++)\n",
    "    {\n",
    "        y *= x[i];\n",
    "    }\n",
    "    return y;\n",
    "}\n",
    "\n",
    "// The linear time algorithm for finding Fibonacci numbers\n",
    "//   females(0) =1\n",
    "//   females(1) = 1\n",
    "//   females(n + 2) = females(n+1) + females(n）\n",
    "// n------------                                             \n",
    "//   f1=  females(n）\n",
    "//   f2=  females(n+1)\n",
    "//   fib = f1 + f2;\n",
    "//   \n",
    "//    f2=f1; ->females(n+1)\n",
    "//    f1=fib; ->females(n + 2) \n",
    "//n+1----------\n",
    "//    f1=  females(n+1）\n",
    "//    f2=  females(n+1+1)\n",
    "//    fib = f1 + f2;              \n",
    "//                  \n",
    "unsigned long LinearFibonacci(int n)\n",
    "{\n",
    "  unsigned long fib;\n",
    "  if (n< 0)\n",
    "      return -1;\n",
    "  \n",
    "  // base case 0 or 1\n",
    "  if (n == 0||n==1)\n",
    "      return 1;\n",
    " \n",
    "  unsigned long f1=1,f2 = 1;\n",
    "  for(int i=2; i<=n; i++)\n",
    "  {\n",
    "    // 1 only add\n",
    "    fib = f1 + f2; \n",
    "    // 2 swap  \n",
    "    f2=f1; \n",
    "    f1=fib;\n",
    "  }    \n",
    "  return fib;\n",
    "}"
   ]
  },
  {
   "cell_type": "markdown",
   "metadata": {},
   "source": [
    "The **linear time algorithm** for finding `Fibonacci numbers` \n",
    "\n",
    "http://www.catonmat.net/blog/on-the-linear-time-algorithm-for-finding-fibonacci-numbers/"
   ]
  },
  {
   "cell_type": "markdown",
   "metadata": {},
   "source": [
    "#### Building `funs.c`  and `fibonacci.c` into libmultifuns.dll"
   ]
  },
  {
   "cell_type": "code",
   "execution_count": 3,
   "metadata": {},
   "outputs": [],
   "source": [
    "!gcc -c -O3 -Wall -fPIC  ./code/gcc/funs.c ./code/gcc/fibonacci.c\n",
    "!gcc -shared -o ./code/gcc/libmultifuns.dll  funs.o  fibonacci.o"
   ]
  },
  {
   "cell_type": "code",
   "execution_count": 4,
   "metadata": {},
   "outputs": [
    {
     "name": "stdout",
     "output_type": "stream",
     "text": [
      " 驱动器 D 中的卷是 user\n",
      " 卷的序列号是 DE34-6098\n",
      "\n",
      " D:\\PySEE\\home\\notebook\\code\\gcc 的目录\n",
      "\n",
      "2018/05/27  19:13            47,646 libmultifuns.dll\n",
      "               1 个文件         47,646 字节\n",
      "               0 个目录 22,324,174,848 可用字节\n"
     ]
    }
   ],
   "source": [
    "!dir .\\code\\gcc\\libmulti*.dll"
   ]
  },
  {
   "cell_type": "markdown",
   "metadata": {},
   "source": [
    "#### Building with makefile"
   ]
  },
  {
   "cell_type": "code",
   "execution_count": 5,
   "metadata": {},
   "outputs": [
    {
     "name": "stdout",
     "output_type": "stream",
     "text": [
      "Overwriting makefile\n"
     ]
    }
   ],
   "source": [
    "%%file makefile\n",
    "\n",
    "all: libmultifuns.dll\n",
    "\n",
    "libmultifuns.dll: multifunsobj\n",
    "\t gcc  -shared -o ./code/gcc/libmultifuns.dll funs.o fibonacci.o\n",
    "\t del funs.o fibonacci.o\n",
    "    \n",
    "multifunsobj: ./code/gcc/funs.c ./code/gcc/fibonacci.c\n",
    "\t gcc -c -O3 -Wall -fPIC ./code/gcc/funs.c ./code/gcc/fibonacci.c\n",
    "     \n",
    "clean:\n",
    "\t del .\\code\\gcc\\libmultifuns.dll"
   ]
  },
  {
   "cell_type": "code",
   "execution_count": 6,
   "metadata": {},
   "outputs": [
    {
     "name": "stdout",
     "output_type": "stream",
     "text": [
      "gcc -c -O3 -Wall -fPIC ./code/gcc/funs.c ./code/gcc/fibonacci.c\n",
      "gcc  -shared -o ./code/gcc/libmultifuns.dll funs.o fibonacci.o\n",
      "del funs.o fibonacci.o\n"
     ]
    }
   ],
   "source": [
    "!make"
   ]
  },
  {
   "cell_type": "markdown",
   "metadata": {},
   "source": [
    "The result is a compiled shared library **`libmultifuns.dll`**"
   ]
  },
  {
   "cell_type": "markdown",
   "metadata": {},
   "source": [
    "### Using the `variable` in  makefile\n",
    "\n",
    "A `variable` begins with a **$** and is enclosed within parentheses **(...)** "
   ]
  },
  {
   "cell_type": "code",
   "execution_count": 7,
   "metadata": {},
   "outputs": [
    {
     "name": "stdout",
     "output_type": "stream",
     "text": [
      "Overwriting makefile\n"
     ]
    }
   ],
   "source": [
    "%%file makefile\n",
    "\n",
    "CC=gcc\n",
    "CFLAGS=-O3 -Wall -fPIC  \n",
    "\n",
    "INC = -I ./code/gcc/ \n",
    "\n",
    "SRCS= ./code/gcc/funs.c ./code/gcc/fibonacci.c \n",
    "\n",
    "all: libmultifuns.dll\n",
    "\n",
    "libmultifuns.dll: multifunsobj\n",
    "\t $(CC)  -shared -o ./code/gcc/libmultifuns.dll funs.o fibonacci.o\n",
    "\t del funs.o fibonacci.o\n",
    "    \n",
    "multifunsobj: \n",
    "\t $(CC) -c $(CFLAGS) $(INC) $(SRCS) \n",
    "     \n",
    "clean:\n",
    "\t del .\\code\\gcc\\libmultifuns.dll"
   ]
  },
  {
   "cell_type": "code",
   "execution_count": 7,
   "metadata": {},
   "outputs": [
    {
     "name": "stdout",
     "output_type": "stream",
     "text": [
      "gcc -c -O3 -Wall -fPIC ./code/gcc/funs.c ./code/gcc/fibonacci.c\n",
      "gcc  -shared -o ./code/gcc/libmultifuns.dll funs.o fibonacci.o\n",
      "del funs.o fibonacci.o\n"
     ]
    }
   ],
   "source": [
    "!make"
   ]
  },
  {
   "cell_type": "markdown",
   "metadata": {},
   "source": [
    "### 1.2 ctypes - access the C library\n",
    "\n",
    "**ctypes** is a foreign function library for Python. It provides C compatible data types, and allows calling functions in DLLs or shared libraries. It can be used to wrap these libraries in pure Python.\n",
    "\n",
    "http://docs.python.org/3/library/ctypes.html\n",
    "\n",
    "We need to load the library and set properties such as the functions return and argument types using the **ctypes** package :\n",
    "\n",
    "* **ctypes** exports the **cdll**, and on Windows **windll** objects, for loading dynamic link libraries.\n",
    "   * **cdll.LoadLibrary(name)** : loads the library  which export functions using standard `__cdecl` calling convention\n",
    "   * **windll.LoadLibrary(name)** : loads the library with `__stdcall` calling convention for the function \n",
    "\n",
    "\n",
    "* **argtypes** : the types of the arguments \n",
    "\n",
    "\n",
    "* **restype**: the types of return values. "
   ]
  },
  {
   "cell_type": "markdown",
   "metadata": {},
   "source": [
    "#### Example `__cdecl` calling convention for the function(windows,Linux)\n",
    "\n",
    "**msvcrt** is the MS **standard C library** containing most standard C functions, and uses the cdecl calling convention:"
   ]
  },
  {
   "cell_type": "code",
   "execution_count": 9,
   "metadata": {},
   "outputs": [
    {
     "name": "stdout",
     "output_type": "stream",
     "text": [
      "<CDLL 'msvcrt', handle 7fff4a030000 at 0x23ab33aed68>\n"
     ]
    }
   ],
   "source": [
    "from ctypes import *\n",
    "print(cdll.msvcrt)"
   ]
  },
  {
   "cell_type": "markdown",
   "metadata": {},
   "source": [
    "#### Example `__stdcall` calling convention for the function(windows only) "
   ]
  },
  {
   "cell_type": "code",
   "execution_count": 10,
   "metadata": {},
   "outputs": [
    {
     "name": "stdout",
     "output_type": "stream",
     "text": [
      "<WinDLL 'kernel32', handle 7fff4a270000 at 0x23ab180ab38>\n"
     ]
    }
   ],
   "source": [
    "from ctypes import *\n",
    "print(windll.kernel32)  "
   ]
  },
  {
   "cell_type": "markdown",
   "metadata": {},
   "source": [
    "### Wrap libmultifuns.dll in pure Python.\n",
    "\n",
    "__cdecl calling convention"
   ]
  },
  {
   "cell_type": "code",
   "execution_count": 8,
   "metadata": {},
   "outputs": [
    {
     "name": "stdout",
     "output_type": "stream",
     "text": [
      "Writing ./code/gcc/multifuns.py\n"
     ]
    }
   ],
   "source": [
    "%%file ./code/gcc/multifuns.py\n",
    "\n",
    "from ctypes import cdll,c_void_p,c_int,c_long,c_double,POINTER,byref\n",
    "import numpy as np\n",
    "\n",
    "\n",
    "_lib = cdll.LoadLibrary('./code/gcc/libmultifuns.dll')\n",
    "\n",
    "# double dprod(double *x, int n)\n",
    "def dprod(x):\n",
    "    _lib.dprod.argtypes = [np.ctypeslib.ndpointer(dtype=np.float), c_int]\n",
    "    _lib.dprod.restype  = c_double\n",
    "    n = len(x)\n",
    "    x = np.asarray(x, dtype=np.float)\n",
    "    return _lib.dprod(x, int(n))\n",
    "\n",
    "#unsigned long fibonacci(int n, unsigned long *fib_cache);\n",
    "def LinearFibonacci(n):\n",
    "    _lib.LinearFibonacci.argtypes = [c_int]\n",
    "    _lib.LinearFibonacci.restype= c_long\n",
    "    return _lib.LinearFibonacci(int(n))\n",
    "\n",
    "#unsigned long fibonacci(int n, unsigned long *fib_cache);\n",
    "def fibonacci(n):\n",
    "    fibcache = (POINTER(c_long)*n)()\n",
    "    fib=c_long()\n",
    "    fib=_lib.LinearFibonacci(int(n),byref(fibcache))\n",
    "    return  fib"
   ]
  },
  {
   "cell_type": "code",
   "execution_count": 9,
   "metadata": {},
   "outputs": [
    {
     "name": "stdout",
     "output_type": "stream",
     "text": [
      "89\n",
      "89\n",
      "4320.0\n"
     ]
    }
   ],
   "source": [
    "import sys\n",
    "sys.path.append('./code/gcc')\n",
    "import multifuns\n",
    "print(multifuns.LinearFibonacci(10)) \n",
    "print(multifuns.fibonacci(10)) \n",
    "print(multifuns.dprod([12,3,4,5,6])) "
   ]
  },
  {
   "cell_type": "markdown",
   "metadata": {},
   "source": [
    "### Further reading"
   ]
  },
  {
   "cell_type": "markdown",
   "metadata": {},
   "source": [
    "* The linear time algorithm for finding Fibonacci numbers http://www.catonmat.net/blog/on-the-linear-time-algorithm-for-finding-fibonacci-numbers/\n",
    "\n",
    "\n",
    "* ctypes\n",
    "\n",
    "   * http://docs.python.org/3/library/ctypes.html\n",
    "\n",
    "   * http://scipy-cookbook.readthedocs.io/items/Ctypes.html\n",
    "\n",
    "   * https://docs.scipy.org/doc/numpy/reference/routines.ctypeslib.html"
   ]
  },
  {
   "cell_type": "code",
   "execution_count": null,
   "metadata": {
    "collapsed": true
   },
   "outputs": [],
   "source": []
  }
 ],
 "metadata": {
  "kernelspec": {
   "display_name": "Python 3",
   "language": "python",
   "name": "python3"
  },
  "language_info": {
   "codemirror_mode": {
    "name": "ipython",
    "version": 3
   },
   "file_extension": ".py",
   "mimetype": "text/x-python",
   "name": "python",
   "nbconvert_exporter": "python",
   "pygments_lexer": "ipython3",
   "version": "3.5.4"
  },
  "widgets": {
   "state": {},
   "version": "1.1.2"
  }
 },
 "nbformat": 4,
 "nbformat_minor": 1
}
