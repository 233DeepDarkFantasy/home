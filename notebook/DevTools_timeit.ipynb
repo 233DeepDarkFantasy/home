{
 "cells": [
  {
   "cell_type": "markdown",
   "metadata": {
    "collapsed": true
   },
   "source": [
    "# Measure execution time of small code snippets  \n",
    "\n",
    "**27.5. timeit** — Measure execution time of small code snippets  \n",
    "\n",
    "https://docs.python.org/3/library/timeit.html\n",
    "\n",
    "This module provides a simple way to\n",
    "\n",
    "** `time` small bits of Python code** . \n",
    "\n",
    "It has\n",
    "\n",
    "* a **Command-Line Interface**\n",
    "\n",
    "* a **callable** one"
   ]
  },
  {
   "cell_type": "markdown",
   "metadata": {
    "collapsed": true
   },
   "source": [
    "## 27.5.1. Basic Examples"
   ]
  },
  {
   "cell_type": "markdown",
   "metadata": {},
   "source": [
    "### 1 Timing by Jupyter Magic : `%timeit`\n",
    "\n",
    "`%timeit`：Time execution of a Python statement or expression\n",
    "\n",
    "#### Timing IAPWS-IF in C(seuif97)"
   ]
  },
  {
   "cell_type": "code",
   "execution_count": 1,
   "metadata": {},
   "outputs": [
    {
     "name": "stdout",
     "output_type": "stream",
     "text": [
      "5.96 µs ± 317 ns per loop (mean ± std. dev. of 7 runs, 100000 loops each)\n"
     ]
    }
   ],
   "source": [
    "import seuif97\n",
    "%timeit seuif97.pt(15,535,4)"
   ]
  },
  {
   "cell_type": "markdown",
   "metadata": {},
   "source": [
    "* Symbol: μs : one millionth($10^{-6}$) of a second. \n",
    "\n",
    "* Symbol: ns : one billionth($10^{-9}$) of a second"
   ]
  },
  {
   "cell_type": "code",
   "execution_count": 3,
   "metadata": {},
   "outputs": [],
   "source": [
    "import seuif97\n",
    "\n",
    "def testseuif97_pt():\n",
    "    h=seuif97.pt(15,535,4)\n",
    "    s=seuif97.pt(15,535,5)\n",
    "    v=seuif97.pt(15,535,3)\n",
    "    return h,s,v   "
   ]
  },
  {
   "cell_type": "code",
   "execution_count": 4,
   "metadata": {},
   "outputs": [
    {
     "name": "stdout",
     "output_type": "stream",
     "text": [
      "18.3 µs ± 545 ns per loop (mean ± std. dev. of 7 runs, 100000 loops each)\n"
     ]
    }
   ],
   "source": [
    "%timeit testseuif97_pt()"
   ]
  },
  {
   "cell_type": "markdown",
   "metadata": {},
   "source": [
    "#### Test IAPWS-IF97 in Python"
   ]
  },
  {
   "cell_type": "code",
   "execution_count": 5,
   "metadata": {},
   "outputs": [
    {
     "name": "stdout",
     "output_type": "stream",
     "text": [
      "356 µs ± 2.93 µs per loop (mean ± std. dev. of 7 runs, 1000 loops each)\n"
     ]
    }
   ],
   "source": [
    "from iapws.iapws97 import IAPWS97\n",
    "%timeit IAPWS97(P=16.10,T=535.10).h"
   ]
  },
  {
   "cell_type": "code",
   "execution_count": 7,
   "metadata": {},
   "outputs": [],
   "source": [
    "from iapws.iapws97 import IAPWS97\n",
    "\n",
    "def testiapws_pt():\n",
    "    ws=IAPWS97(P=16.10,T=535.10)\n",
    "    return ws  "
   ]
  },
  {
   "cell_type": "code",
   "execution_count": 8,
   "metadata": {},
   "outputs": [
    {
     "name": "stdout",
     "output_type": "stream",
     "text": [
      "366 µs ± 13.5 µs per loop (mean ± std. dev. of 7 runs, 1000 loops each)\n"
     ]
    }
   ],
   "source": [
    "%timeit testiapws_pt()"
   ]
  },
  {
   "cell_type": "markdown",
   "metadata": {},
   "source": [
    "### 2 Timing through Python Command-Line "
   ]
  },
  {
   "cell_type": "code",
   "execution_count": null,
   "metadata": {
    "collapsed": true
   },
   "outputs": [],
   "source": [
    "d={}\n",
    "for i in range(1000):\n",
    "    d[str(i)] = i"
   ]
  },
  {
   "cell_type": "code",
   "execution_count": 1,
   "metadata": {},
   "outputs": [
    {
     "name": "stdout",
     "output_type": "stream",
     "text": [
      "1000 loops, best of 3: 546 usec per loop\n"
     ]
    }
   ],
   "source": [
    "!python -m timeit \"d={}\" \"for i in range(1000):\" \"  d[str(i)] = i\""
   ]
  },
  {
   "cell_type": "markdown",
   "metadata": {
    "collapsed": true
   },
   "source": [
    "## 3 Timing by Python Interface\n",
    "\n",
    "### import timeit\n",
    "\n",
    "```python\n",
    "timeit.timeit(stmt='pass', setup='pass', timer=<default timer>, number=1000000, globals=None)\n",
    "```\n",
    "\n",
    "Create a Timer instance with the given statement, setup code and timer function and run its `timeit()` method with number executions. The optional globals argument specifies a namespace in which to execute the code.\n",
    "\n",
    "Changed in version 3.5: The optional globals parameter was added.\n",
    "\n",
    "```python\n",
    "timeit.default_timer()\n",
    "```   \n",
    "The default timer, which is always `time.perf_counter()`.\n",
    "\n",
    "Changed in version 3.3: `time.perf_counter()` is now the default timer.\n",
    "   \n",
    ">time.perf_counter()\n",
    "\n",
    "> Return the value (in fractional seconds) of a performance counter, i.e. a clock with **the highest available resolution** to measure a short duration. \n",
    "\n",
    ">It does include time elapsed during sleep and is system-wide. \n",
    "\n",
    "> The reference point of the returned value is undefined, so that only the **difference** between the results of consecutive calls is valid.\n",
    "\n",
    "> New in version 3.3.   \n"
   ]
  },
  {
   "cell_type": "code",
   "execution_count": 12,
   "metadata": {},
   "outputs": [],
   "source": [
    "import timeit"
   ]
  },
  {
   "cell_type": "code",
   "execution_count": 13,
   "metadata": {},
   "outputs": [
    {
     "data": {
      "text/plain": [
       "1.380300000164425e-05"
      ]
     },
     "execution_count": 13,
     "metadata": {},
     "output_type": "execute_result"
    }
   ],
   "source": [
    "timeit.timeit('\"d={}\" \"for i in range(1000):\" \"  d[str(i)] = i\"', number=1000)"
   ]
  },
  {
   "cell_type": "code",
   "execution_count": 14,
   "metadata": {},
   "outputs": [
    {
     "data": {
      "text/plain": [
       "0.4480757630003609"
      ]
     },
     "execution_count": 14,
     "metadata": {},
     "output_type": "execute_result"
    }
   ],
   "source": [
    "# \"\"\" \"\"\" : multi-line string literals. \n",
    "\n",
    "timeit.timeit(\"\"\"\n",
    "d={}\n",
    "for i in range(1000):\n",
    "    d[str(i)] = i\n",
    "\"\"\"\n",
    ", number=1000)"
   ]
  },
  {
   "cell_type": "code",
   "execution_count": 15,
   "metadata": {},
   "outputs": [
    {
     "data": {
      "text/plain": [
       "0.4264103509999586"
      ]
     },
     "execution_count": 15,
     "metadata": {},
     "output_type": "execute_result"
    }
   ],
   "source": [
    "s=\"\"\"\n",
    "d={}\n",
    "for i in range(1000):\n",
    "    d[str(i)] = i\n",
    "\"\"\"\n",
    "timeit.timeit(stmt=s,number=1000)"
   ]
  },
  {
   "cell_type": "markdown",
   "metadata": {},
   "source": [
    "### Timer \n",
    "\n",
    "The same can be done using the **Timer** class and its methods.\n",
    "\n",
    "The constructor takes **a statement** to be timed, an additional statement used for setup, and a timer function. \n",
    "\n",
    "Both statements default to `pass`; the timer function is platform-dependent (see the module doc string). \n",
    "\n",
    "stmt and setup may also contain multiple statements separated by ; or newlines, as long as they don’t contain multi-line string literals. "
   ]
  },
  {
   "cell_type": "code",
   "execution_count": 16,
   "metadata": {},
   "outputs": [
    {
     "data": {
      "text/plain": [
       "0.01710570800014466"
      ]
     },
     "execution_count": 16,
     "metadata": {},
     "output_type": "execute_result"
    }
   ],
   "source": [
    "import timeit\n",
    "\n",
    "t = timeit.Timer('\"d={}\" \"for i in range(1000):\" \"  d[str(i)] = i\"')\n",
    "\n",
    "t.timeit()"
   ]
  },
  {
   "cell_type": "code",
   "execution_count": 9,
   "metadata": {},
   "outputs": [
    {
     "data": {
      "text/plain": [
       "[0.015205591366623139, 0.021993335871229647, 0.02186715371556147]"
      ]
     },
     "execution_count": 9,
     "metadata": {},
     "output_type": "execute_result"
    }
   ],
   "source": [
    "t.repeat(3) # repeat(repeat=3, number=1000000)"
   ]
  },
  {
   "cell_type": "markdown",
   "metadata": {},
   "source": [
    "When **repeat()** is used, it calls `timeit()` severeal times (3 in this `case`) and all of the responses are returned in a list."
   ]
  },
  {
   "cell_type": "code",
   "execution_count": 21,
   "metadata": {},
   "outputs": [
    {
     "data": {
      "text/plain": [
       "0.02309175199980018"
      ]
     },
     "execution_count": 21,
     "metadata": {},
     "output_type": "execute_result"
    }
   ],
   "source": [
    "import timeit\n",
    "\n",
    "s='\"d={}\";\"for i in range(1000):\";\"d[str(i)] = i\"'\n",
    "#t=timeit.Timer(stmt=s)\n",
    "#t.timeit()\n",
    "timeit.Timer(stmt=s).timeit()"
   ]
  },
  {
   "cell_type": "markdown",
   "metadata": {},
   "source": [
    "### Give the `timeit` module access to `functions\n",
    "\n",
    "you can pass a **setup** parameter which contains an **import** statement:\n",
    "\n",
    "```python\n",
    "setup=\"from __main__ import test\"\n",
    "```"
   ]
  },
  {
   "cell_type": "code",
   "execution_count": 22,
   "metadata": {},
   "outputs": [
    {
     "name": "stdout",
     "output_type": "stream",
     "text": [
      "4.745464992000052\n"
     ]
    }
   ],
   "source": [
    "import timeit\n",
    "\n",
    "def test():\n",
    "    L = [i for i in range(100)]\n",
    "\n",
    "if __name__ == '__main__':\n",
    "    print(timeit.timeit(\"test()\", setup=\"from __main__ import test\"))"
   ]
  },
  {
   "cell_type": "markdown",
   "metadata": {},
   "source": [
    "Another option is to pass **globals()** to the globals parameter\n",
    "```python\n",
    " globals=globals()\n",
    "```\n",
    "*   will cause the code to be executed within your current `global namespace`. This can be more convenient than `individually` specifying `imports`:\n"
   ]
  },
  {
   "cell_type": "code",
   "execution_count": 23,
   "metadata": {},
   "outputs": [
    {
     "name": "stdout",
     "output_type": "stream",
     "text": [
      "4.602397559999645\n"
     ]
    }
   ],
   "source": [
    "import timeit\n",
    "print(timeit.timeit('test()', globals=globals()))"
   ]
  },
  {
   "cell_type": "markdown",
   "metadata": {},
   "source": [
    "## Example IAPWS-IF97"
   ]
  },
  {
   "cell_type": "code",
   "execution_count": 24,
   "metadata": {},
   "outputs": [
    {
     "name": "stdout",
     "output_type": "stream",
     "text": [
      "Time(s)= 0.011683203000302456\n"
     ]
    }
   ],
   "source": [
    "import timeit\n",
    "import seuif97\n",
    "\n",
    "t = timeit.Timer(\"seuif97.pt2h(16.10,535.10)\",setup=\"from __main__ import seuif97\")\n",
    "if97time=t.timeit(1000)\n",
    "\n",
    "print('Time(s)=',if97time)"
   ]
  },
  {
   "cell_type": "code",
   "execution_count": 25,
   "metadata": {},
   "outputs": [
    {
     "name": "stdout",
     "output_type": "stream",
     "text": [
      "Time(s)= 0.3792892650003523\n"
     ]
    }
   ],
   "source": [
    "import timeit\n",
    "import iapws.iapws97\n",
    "\n",
    "# using globals=globals() \n",
    "# without setup=\"from __main__ import iapws.iapws97\"\n",
    "t = timeit.Timer(\"iapws.iapws97.IAPWS97(P=16.10,T=535.10).h\", globals=globals())\n",
    "if97time=t.timeit(1000)\n",
    "\n",
    "print('Time(s)=',if97time)"
   ]
  },
  {
   "cell_type": "markdown",
   "metadata": {},
   "source": [
    "### Further Reading:\n",
    "\n",
    "**1** Tim Peters’ introduction to the “Algorithms” chapter in the Python Cookbook, published by O’Reilly.\n",
    "\n",
    "   http://python3-cookbook.readthedocs.org/zh_CN/latest/\n",
    "\n",
    " \n",
    "**2** Doug Hellmann'S `Python Module of the Week`\n",
    "\n",
    "The Python Module of the Week series, or PyMOTW, is a tour of the Python standard library through short examples.\n",
    "\n",
    "   https://pymotw.com/3/timeit/index.html\n",
    "\n",
    "**3** 16.3. time — Time access and conversions\n",
    "\n",
    "  https://docs.python.org/3/library/time.html"
   ]
  }
 ],
 "metadata": {
  "kernelspec": {
   "display_name": "Python 3",
   "language": "python",
   "name": "python3"
  },
  "language_info": {
   "codemirror_mode": {
    "name": "ipython",
    "version": 3
   },
   "file_extension": ".py",
   "mimetype": "text/x-python",
   "name": "python",
   "nbconvert_exporter": "python",
   "pygments_lexer": "ipython3",
   "version": "3.6.5"
  },
  "widgets": {
   "state": {},
   "version": "1.1.2"
  }
 },
 "nbformat": 4,
 "nbformat_minor": 1
}
