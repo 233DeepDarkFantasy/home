{
 "cells": [
  {
   "cell_type": "markdown",
   "metadata": {
    "collapsed": true
   },
   "source": [
    "#  Testing through documentation\n",
    "\n",
    "26.3 doctest — Test interactive Python examples   \n",
    "https://docs.python.org/3/library/doctest.html\n",
    "\n",
    "\n",
    "<b>doctest</b> lets you <b>test</b> your code by running <b>examples embedded in the documentation</b> and verifying that they produce the expected results. \n",
    "\n",
    "It works by parsing the help text to find examples, running them, then comparing the output text against the expected value. \n",
    "\n",
    "Many developers find `doctest` **easier** than `unittest` because in its simplest form, there is no API to learn before using it.\n",
    "\n",
    "However, as the examples become more complex **the lack of fixture management** can make writing doctest tests more **cumbersome** than using unittest."
   ]
  },
  {
   "cell_type": "markdown",
   "metadata": {},
   "source": [
    "## 1 Getting Started\n",
    "\n",
    "**doctest** looks for `lines` \n",
    "\n",
    "* **beginning** with ：\n",
    "\n",
    "   * **>>>** the `interpreter prompt` to find the beginning of a test case. \n",
    "\n",
    "* **ended** with \n",
    "      \n",
    "    * a `blank` line</b>, \n",
    "      \n",
    "    * the `next` interpreter prompt.\n",
    "\n",
    "Here, `fun_multiply()` has two examples given in the module: ```doctest_simple.py```"
   ]
  },
  {
   "cell_type": "code",
   "execution_count": null,
   "metadata": {},
   "outputs": [],
   "source": [
    "%%file ./code/doctest/doctest_simple.py\n",
    "\n",
    "def fun_multiply(a, b):\n",
    "    \"\"\"\n",
    "    >>> fun_multiply(2, 3)\n",
    "    6\n",
    "    >>> fun_multiply('a', 3)\n",
    "    'aaa'\n",
    "    \"\"\"\n",
    "    return a * b"
   ]
  },
  {
   "cell_type": "markdown",
   "metadata": {},
   "source": [
    "To **run** the tests, use\n",
    "\n",
    "`doctest` as the `main program` via the **-m** option to the interpreter:\n",
    "\n",
    "```bash\n",
    ">python -m doctest *.py\n",
    "```"
   ]
  },
  {
   "cell_type": "code",
   "execution_count": null,
   "metadata": {},
   "outputs": [],
   "source": [
    "!python -m doctest ./code/doctest/doctest_simple.py"
   ]
  },
  {
   "cell_type": "markdown",
   "metadata": {},
   "source": [
    "Usually **no output** is produced .It means **all the examples worked**\n",
    "\n",
    "Pass ** -v ** to the script, and **doctest** prints a detailed log of what it’s trying, and prints a summary at the end:\n",
    "\n",
    "```bash\n",
    ">python -m doctest -v  *.py\n",
    "```"
   ]
  },
  {
   "cell_type": "code",
   "execution_count": null,
   "metadata": {},
   "outputs": [],
   "source": [
    "!python -m doctest -v ./code/doctest/doctest_simple.py"
   ]
  },
  {
   "cell_type": "markdown",
   "metadata": {},
   "source": [
    "**Test Examples** cannot usually stand on their own as explanations of a function,\n",
    "\n",
    "**doctest** also lets you keep the **surrounding text** you would normally include in the documentation. \n",
    "\n",
    "**Intervening text** is **ignored**, and can have `any format` as long as it does `not look like a test case`.\n",
    "\n"
   ]
  },
  {
   "cell_type": "code",
   "execution_count": null,
   "metadata": {},
   "outputs": [],
   "source": [
    "%%file ./code/doctest/doctest_simple_with_docs.py\n",
    "\n",
    "def fun_multiply(a, b):\n",
    "    \"\"\"Returns a * b.\n",
    "\n",
    "    Works with numbers:\n",
    "    \n",
    "    >>> fun_multiply(2, 3)\n",
    "    6\n",
    "\n",
    "    and strings:\n",
    "    \n",
    "    >>> fun_multiply('a', 3)\n",
    "    'aaa'\n",
    "    \"\"\"\n",
    "    return a * b\n",
    "\n",
    "def fun_add(a, b):\n",
    "    \"\"\"Returns a + b.\n",
    "\n",
    "    Works with numbers:\n",
    "    \n",
    "    >>> fun_add(2, 3)\n",
    "    5\n",
    "    \n",
    "    and strings:\n",
    "    \n",
    "    >>> fun_add('1', '3')\n",
    "    '13'\n",
    "    \"\"\"\n",
    "    return a + b"
   ]
  },
  {
   "cell_type": "code",
   "execution_count": null,
   "metadata": {},
   "outputs": [],
   "source": [
    "!python -m doctest -v ./code/doctest/doctest_simple_with_docs.py"
   ]
  },
  {
   "cell_type": "markdown",
   "metadata": {},
   "source": [
    "The surrounding text in the updated `docstring `\n",
    "\n",
    "* **useful to a human reader**,\n",
    "\n",
    "* **ignored by doctest**, \n",
    "\n",
    "the results are the same."
   ]
  },
  {
   "cell_type": "markdown",
   "metadata": {},
   "source": [
    "# run doctest directly \n",
    "\n",
    "The simplest way to start using doctest  is to \n",
    "\n",
    "* **end** each module with:\n",
    "\n",
    "```python\n",
    "if __name__ == \"__main__\":\n",
    "    import doctest\n",
    "    doctest.testmod()\n",
    "```\n",
    "\n",
    "**doctest** then examines `docstrings` in the module ."
   ]
  },
  {
   "cell_type": "code",
   "execution_count": null,
   "metadata": {},
   "outputs": [],
   "source": [
    "%%file  ./code/doctest/doctest_with_testmod.py\n",
    "\n",
    "def fun_multiply(a, b):\n",
    "    \"\"\"Returns a * b.\n",
    "\n",
    "    Works with numbers:\n",
    "    \n",
    "    >>> fun_multiply(2, 3)\n",
    "    6\n",
    "\n",
    "    and strings:\n",
    "    \n",
    "    >>> fun_multiply('a', 3)\n",
    "    'aaa'\n",
    "    \"\"\"\n",
    "    return a * b\n",
    "\n",
    "def fun_add(a, b):\n",
    "    \"\"\"Returns a + b.\n",
    "\n",
    "    Works with numbers:\n",
    "    \n",
    "    >>> fun_add(2, 3)\n",
    "    5\n",
    "    \n",
    "    and strings:\n",
    "    \n",
    "    >>> fun_add('1', '3')\n",
    "    '13'\n",
    "    \"\"\"\n",
    "    return a+b\n",
    "    #return a + b+1\n",
    "\n",
    "if __name__ == \"__main__\":\n",
    "    import doctest\n",
    "    doctest.testmod()"
   ]
  },
  {
   "cell_type": "code",
   "execution_count": null,
   "metadata": {},
   "outputs": [],
   "source": [
    "!python ./code/doctest/doctest_with_testmod.py"
   ]
  },
  {
   "cell_type": "code",
   "execution_count": null,
   "metadata": {},
   "outputs": [],
   "source": [
    "!python ./code/doctest/doctest_with_testmod.py -v"
   ]
  },
  {
   "cell_type": "markdown",
   "metadata": {},
   "source": [
    "## DocTest of iapws.iapws97\n",
    "\n",
    "https://github.com/jjgomera/iapws\n"
   ]
  },
  {
   "cell_type": "code",
   "execution_count": null,
   "metadata": {},
   "outputs": [],
   "source": [
    "!pip install iapws"
   ]
  },
  {
   "cell_type": "markdown",
   "metadata": {},
   "source": [
    "In **Debian** you can find in **official repositories** in jessie. \n",
    "\n",
    "In **ubuntu** it's in official repositories from ubuntu saucy (13.10)"
   ]
  },
  {
   "cell_type": "code",
   "execution_count": null,
   "metadata": {},
   "outputs": [],
   "source": [
    "!sudo apt install iapws"
   ]
  },
  {
   "cell_type": "markdown",
   "metadata": {},
   "source": [
    "```python\n",
    "# Boundary Region2-Region3\n",
    "def _P23_T(T):\n",
    "    \"\"\"Define the boundary between Region 2 and 3, P=f(T)\n",
    "    Parameters\n",
    "    ----------\n",
    "    T : float\n",
    "        Temperature [K]\n",
    "    Returns\n",
    "    -------\n",
    "    P : float\n",
    "        Pressure [MPa]\n",
    "    References\n",
    "    ----------\n",
    "    IAPWS, Revised Release on the IAPWS Industrial Formulation 1997 for the\n",
    "    Thermodynamic Properties of Water and Steam August 2007,\n",
    "    http://www.iapws.org/relguide/IF97-Rev.html, Eq 5\n",
    "    Examples\n",
    "    --------\n",
    "    >>> _P23_T(623.15)\n",
    "    16.52916425\n",
    "    \"\"\"\n",
    "    n = [0.34805185628969e3, -0.11671859879975e1, 0.10192970039326e-2]\n",
    "    return n[0]+n[1]*T+n[2]*T**2\n",
    "```"
   ]
  },
  {
   "cell_type": "code",
   "execution_count": null,
   "metadata": {},
   "outputs": [],
   "source": [
    "%%file ./code/doctest/doctest_iapws97.py\n",
    "\n",
    "from iapws import iapws97\n",
    "\n",
    "if __name__ == \"__main__\":\n",
    "    import doctest\n",
    "    doctest.testmod(iapws97)"
   ]
  },
  {
   "cell_type": "markdown",
   "metadata": {},
   "source": [
    "### In Ubuntu,Python3"
   ]
  },
  {
   "cell_type": "code",
   "execution_count": null,
   "metadata": {},
   "outputs": [],
   "source": [
    "!python3 ./code/doctest/doctest_iapws97.py"
   ]
  },
  {
   "cell_type": "code",
   "execution_count": null,
   "metadata": {},
   "outputs": [],
   "source": [
    "!python3 ./code/doctest/doctest_iapws97.py -v"
   ]
  },
  {
   "cell_type": "markdown",
   "metadata": {},
   "source": [
    "### under Windows "
   ]
  },
  {
   "cell_type": "code",
   "execution_count": null,
   "metadata": {},
   "outputs": [],
   "source": [
    "!python ./code/doctest/doctest_iapws97.py"
   ]
  },
  {
   "cell_type": "markdown",
   "metadata": {
    "collapsed": true
   },
   "source": [
    "## Further Reading\n",
    "\n",
    "Python 3 Module of the Week¶\n",
    "\n",
    "https://pymotw.com/3/\n",
    "\n",
    "PyMOTW-3 is a series of articles written by `Doug Hellmann` to demonstrate how to use the modules of the Python 3 standard library. It is based on the original PyMOTW series, which covered Python 2.7. See About Python Module of the Week for details including the version of Python and tools used.\n",
    "\n",
    "\n",
    "doctest – Testing through documentation:  \n",
    "\n",
    "* https://pymotw.com/3/doctest/index.html"
   ]
  },
  {
   "cell_type": "code",
   "execution_count": null,
   "metadata": {},
   "outputs": [],
   "source": []
  }
 ],
 "metadata": {
  "kernelspec": {
   "display_name": "Python 3",
   "language": "python",
   "name": "python3"
  },
  "language_info": {
   "codemirror_mode": {
    "name": "ipython",
    "version": 3
   },
   "file_extension": ".py",
   "mimetype": "text/x-python",
   "name": "python",
   "nbconvert_exporter": "python",
   "pygments_lexer": "ipython3",
   "version": "3.6.5"
  },
  "widgets": {
   "state": {},
   "version": "1.1.2"
  }
 },
 "nbformat": 4,
 "nbformat_minor": 1
}
